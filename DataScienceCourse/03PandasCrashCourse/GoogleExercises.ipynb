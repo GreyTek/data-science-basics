{
 "cells": [
  {
   "cell_type": "code",
   "execution_count": 19,
   "outputs": [],
   "source": [
    "import pandas as pd\n",
    "import numpy as np"
   ],
   "metadata": {
    "collapsed": false,
    "pycharm": {
     "name": "#%%\n"
    }
   }
  },
  {
   "cell_type": "code",
   "execution_count": 1,
   "outputs": [],
   "source": [
    "data = {\n",
    "    'X':[78,85,96,80,86],\n",
    "    'Y':[84,94,89,83,86],\n",
    "    'Z':[86,97,96,72,83]\n",
    "}\n",
    "data1 = {\n",
    "    'Company': ['GOOG' ,'GOOG', 'MSFT', 'MSFT', 'FB', 'FB'],\n",
    "    'Person': 'Sam Charlie Amy Venessa Carl Sarah'.split(),\n",
    "    'Sales' : [200,120,340,124,243,350]\n",
    "};"
   ],
   "metadata": {
    "collapsed": false,
    "pycharm": {
     "name": "#%%\n"
    }
   }
  },
  {
   "cell_type": "code",
   "execution_count": 59,
   "outputs": [],
   "source": [
    "data = pd.DataFrame(data)\n",
    "data1 = pd.DataFrame(data1)"
   ],
   "metadata": {
    "collapsed": false,
    "pycharm": {
     "name": "#%%\n"
    }
   }
  },
  {
   "cell_type": "code",
   "execution_count": 7,
   "outputs": [
    {
     "data": {
      "text/plain": "    X   Y   Z\n0  78  84  86\n1  85  94  97\n2  96  89  96\n3  80  83  72\n4  86  86  83",
      "text/html": "<div>\n<style scoped>\n    .dataframe tbody tr th:only-of-type {\n        vertical-align: middle;\n    }\n\n    .dataframe tbody tr th {\n        vertical-align: top;\n    }\n\n    .dataframe thead th {\n        text-align: right;\n    }\n</style>\n<table border=\"1\" class=\"dataframe\">\n  <thead>\n    <tr style=\"text-align: right;\">\n      <th></th>\n      <th>X</th>\n      <th>Y</th>\n      <th>Z</th>\n    </tr>\n  </thead>\n  <tbody>\n    <tr>\n      <th>0</th>\n      <td>78</td>\n      <td>84</td>\n      <td>86</td>\n    </tr>\n    <tr>\n      <th>1</th>\n      <td>85</td>\n      <td>94</td>\n      <td>97</td>\n    </tr>\n    <tr>\n      <th>2</th>\n      <td>96</td>\n      <td>89</td>\n      <td>96</td>\n    </tr>\n    <tr>\n      <th>3</th>\n      <td>80</td>\n      <td>83</td>\n      <td>72</td>\n    </tr>\n    <tr>\n      <th>4</th>\n      <td>86</td>\n      <td>86</td>\n      <td>83</td>\n    </tr>\n  </tbody>\n</table>\n</div>"
     },
     "execution_count": 7,
     "metadata": {},
     "output_type": "execute_result"
    }
   ],
   "source": [
    "data"
   ],
   "metadata": {
    "collapsed": false,
    "pycharm": {
     "name": "#%%\n"
    }
   }
  },
  {
   "cell_type": "code",
   "execution_count": 8,
   "outputs": [],
   "source": [
    "def getPowerofElements(element):\n",
    "    return element**2"
   ],
   "metadata": {
    "collapsed": false,
    "pycharm": {
     "name": "#%%\n"
    }
   }
  },
  {
   "cell_type": "code",
   "execution_count": 12,
   "outputs": [],
   "source": [
    "data['NewX'] = data['X'].apply(lambda x : getPowerofElements(x))"
   ],
   "metadata": {
    "collapsed": false,
    "pycharm": {
     "name": "#%%\n"
    }
   }
  },
  {
   "cell_type": "code",
   "execution_count": 14,
   "outputs": [],
   "source": [
    "data['NewY'] = data['Y'].apply(lambda x : getPowerofElements(x))"
   ],
   "metadata": {
    "collapsed": false,
    "pycharm": {
     "name": "#%%\n"
    }
   }
  },
  {
   "cell_type": "code",
   "execution_count": 16,
   "outputs": [],
   "source": [
    "data['NewZ'] = data['Z'].apply(lambda x : getPowerofElements(x))"
   ],
   "metadata": {
    "collapsed": false,
    "pycharm": {
     "name": "#%%\n"
    }
   }
  },
  {
   "cell_type": "code",
   "execution_count": 17,
   "outputs": [
    {
     "data": {
      "text/plain": "    X   Y   Z  NewX  NewY  NewZ\n0  78  84  86  6084  7056  7396\n1  85  94  97  7225  8836  9409\n2  96  89  96  9216  7921  9216\n3  80  83  72  6400  6889  5184\n4  86  86  83  7396  7396  6889",
      "text/html": "<div>\n<style scoped>\n    .dataframe tbody tr th:only-of-type {\n        vertical-align: middle;\n    }\n\n    .dataframe tbody tr th {\n        vertical-align: top;\n    }\n\n    .dataframe thead th {\n        text-align: right;\n    }\n</style>\n<table border=\"1\" class=\"dataframe\">\n  <thead>\n    <tr style=\"text-align: right;\">\n      <th></th>\n      <th>X</th>\n      <th>Y</th>\n      <th>Z</th>\n      <th>NewX</th>\n      <th>NewY</th>\n      <th>NewZ</th>\n    </tr>\n  </thead>\n  <tbody>\n    <tr>\n      <th>0</th>\n      <td>78</td>\n      <td>84</td>\n      <td>86</td>\n      <td>6084</td>\n      <td>7056</td>\n      <td>7396</td>\n    </tr>\n    <tr>\n      <th>1</th>\n      <td>85</td>\n      <td>94</td>\n      <td>97</td>\n      <td>7225</td>\n      <td>8836</td>\n      <td>9409</td>\n    </tr>\n    <tr>\n      <th>2</th>\n      <td>96</td>\n      <td>89</td>\n      <td>96</td>\n      <td>9216</td>\n      <td>7921</td>\n      <td>9216</td>\n    </tr>\n    <tr>\n      <th>3</th>\n      <td>80</td>\n      <td>83</td>\n      <td>72</td>\n      <td>6400</td>\n      <td>6889</td>\n      <td>5184</td>\n    </tr>\n    <tr>\n      <th>4</th>\n      <td>86</td>\n      <td>86</td>\n      <td>83</td>\n      <td>7396</td>\n      <td>7396</td>\n      <td>6889</td>\n    </tr>\n  </tbody>\n</table>\n</div>"
     },
     "execution_count": 17,
     "metadata": {},
     "output_type": "execute_result"
    }
   ],
   "source": [
    "data"
   ],
   "metadata": {
    "collapsed": false,
    "pycharm": {
     "name": "#%%\n"
    }
   }
  },
  {
   "cell_type": "code",
   "execution_count": 20,
   "outputs": [],
   "source": [
    "exam_data = {\n",
    "    'name': ['Anastasia', 'Dima', 'Katherine', 'James', 'Emily', 'Michael', 'Matthew', 'Laura', 'Kevin', 'Jonas'],\n",
    "             'score': [12.5, 9, 16.5, np.nan, 9, 20, 14.5, np.nan, 8, 19],\n",
    "             'attempts': [1, 3, 2, 3, 2, 3, 1, 1, 2, 1],\n",
    "             'qualify': ['yes', 'no', 'yes', 'no', 'no', 'yes', 'yes', 'no', 'no', 'yes']}\n",
    "labels = ['a', 'b', 'c', 'd', 'e', 'f', 'g', 'h', 'i', 'j']"
   ],
   "metadata": {
    "collapsed": false,
    "pycharm": {
     "name": "#%%\n"
    }
   }
  },
  {
   "cell_type": "code",
   "execution_count": 22,
   "outputs": [],
   "source": [
    "exam_data = pd.DataFrame(exam_data)"
   ],
   "metadata": {
    "collapsed": false,
    "pycharm": {
     "name": "#%%\n"
    }
   }
  },
  {
   "cell_type": "code",
   "execution_count": 25,
   "outputs": [
    {
     "data": {
      "text/plain": "        name  score  attempts qualify\n0  Anastasia   12.5         1     yes\n1       Dima    9.0         3      no\n2  Katherine   16.5         2     yes\n3      James    NaN         3      no\n4      Emily    9.0         2      no\n5    Michael   20.0         3     yes\n6    Matthew   14.5         1     yes\n7      Laura    NaN         1      no\n8      Kevin    8.0         2      no\n9      Jonas   19.0         1     yes",
      "text/html": "<div>\n<style scoped>\n    .dataframe tbody tr th:only-of-type {\n        vertical-align: middle;\n    }\n\n    .dataframe tbody tr th {\n        vertical-align: top;\n    }\n\n    .dataframe thead th {\n        text-align: right;\n    }\n</style>\n<table border=\"1\" class=\"dataframe\">\n  <thead>\n    <tr style=\"text-align: right;\">\n      <th></th>\n      <th>name</th>\n      <th>score</th>\n      <th>attempts</th>\n      <th>qualify</th>\n    </tr>\n  </thead>\n  <tbody>\n    <tr>\n      <th>0</th>\n      <td>Anastasia</td>\n      <td>12.5</td>\n      <td>1</td>\n      <td>yes</td>\n    </tr>\n    <tr>\n      <th>1</th>\n      <td>Dima</td>\n      <td>9.0</td>\n      <td>3</td>\n      <td>no</td>\n    </tr>\n    <tr>\n      <th>2</th>\n      <td>Katherine</td>\n      <td>16.5</td>\n      <td>2</td>\n      <td>yes</td>\n    </tr>\n    <tr>\n      <th>3</th>\n      <td>James</td>\n      <td>NaN</td>\n      <td>3</td>\n      <td>no</td>\n    </tr>\n    <tr>\n      <th>4</th>\n      <td>Emily</td>\n      <td>9.0</td>\n      <td>2</td>\n      <td>no</td>\n    </tr>\n    <tr>\n      <th>5</th>\n      <td>Michael</td>\n      <td>20.0</td>\n      <td>3</td>\n      <td>yes</td>\n    </tr>\n    <tr>\n      <th>6</th>\n      <td>Matthew</td>\n      <td>14.5</td>\n      <td>1</td>\n      <td>yes</td>\n    </tr>\n    <tr>\n      <th>7</th>\n      <td>Laura</td>\n      <td>NaN</td>\n      <td>1</td>\n      <td>no</td>\n    </tr>\n    <tr>\n      <th>8</th>\n      <td>Kevin</td>\n      <td>8.0</td>\n      <td>2</td>\n      <td>no</td>\n    </tr>\n    <tr>\n      <th>9</th>\n      <td>Jonas</td>\n      <td>19.0</td>\n      <td>1</td>\n      <td>yes</td>\n    </tr>\n  </tbody>\n</table>\n</div>"
     },
     "execution_count": 25,
     "metadata": {},
     "output_type": "execute_result"
    }
   ],
   "source": [
    "exam_data"
   ],
   "metadata": {
    "collapsed": false,
    "pycharm": {
     "name": "#%%\n"
    }
   }
  },
  {
   "cell_type": "code",
   "execution_count": 28,
   "outputs": [],
   "source": [
    "exam_data['score'].fillna(exam_data['score'].mean(),inplace=True)"
   ],
   "metadata": {
    "collapsed": false,
    "pycharm": {
     "name": "#%%\n"
    }
   }
  },
  {
   "cell_type": "code",
   "execution_count": 29,
   "outputs": [
    {
     "data": {
      "text/plain": "        name    score  attempts qualify\n0  Anastasia  12.5000         1     yes\n1       Dima   9.0000         3      no\n2  Katherine  16.5000         2     yes\n3      James  13.5625         3      no\n4      Emily   9.0000         2      no\n5    Michael  20.0000         3     yes\n6    Matthew  14.5000         1     yes\n7      Laura  13.5625         1      no\n8      Kevin   8.0000         2      no\n9      Jonas  19.0000         1     yes",
      "text/html": "<div>\n<style scoped>\n    .dataframe tbody tr th:only-of-type {\n        vertical-align: middle;\n    }\n\n    .dataframe tbody tr th {\n        vertical-align: top;\n    }\n\n    .dataframe thead th {\n        text-align: right;\n    }\n</style>\n<table border=\"1\" class=\"dataframe\">\n  <thead>\n    <tr style=\"text-align: right;\">\n      <th></th>\n      <th>name</th>\n      <th>score</th>\n      <th>attempts</th>\n      <th>qualify</th>\n    </tr>\n  </thead>\n  <tbody>\n    <tr>\n      <th>0</th>\n      <td>Anastasia</td>\n      <td>12.5000</td>\n      <td>1</td>\n      <td>yes</td>\n    </tr>\n    <tr>\n      <th>1</th>\n      <td>Dima</td>\n      <td>9.0000</td>\n      <td>3</td>\n      <td>no</td>\n    </tr>\n    <tr>\n      <th>2</th>\n      <td>Katherine</td>\n      <td>16.5000</td>\n      <td>2</td>\n      <td>yes</td>\n    </tr>\n    <tr>\n      <th>3</th>\n      <td>James</td>\n      <td>13.5625</td>\n      <td>3</td>\n      <td>no</td>\n    </tr>\n    <tr>\n      <th>4</th>\n      <td>Emily</td>\n      <td>9.0000</td>\n      <td>2</td>\n      <td>no</td>\n    </tr>\n    <tr>\n      <th>5</th>\n      <td>Michael</td>\n      <td>20.0000</td>\n      <td>3</td>\n      <td>yes</td>\n    </tr>\n    <tr>\n      <th>6</th>\n      <td>Matthew</td>\n      <td>14.5000</td>\n      <td>1</td>\n      <td>yes</td>\n    </tr>\n    <tr>\n      <th>7</th>\n      <td>Laura</td>\n      <td>13.5625</td>\n      <td>1</td>\n      <td>no</td>\n    </tr>\n    <tr>\n      <th>8</th>\n      <td>Kevin</td>\n      <td>8.0000</td>\n      <td>2</td>\n      <td>no</td>\n    </tr>\n    <tr>\n      <th>9</th>\n      <td>Jonas</td>\n      <td>19.0000</td>\n      <td>1</td>\n      <td>yes</td>\n    </tr>\n  </tbody>\n</table>\n</div>"
     },
     "execution_count": 29,
     "metadata": {},
     "output_type": "execute_result"
    }
   ],
   "source": [
    "exam_data"
   ],
   "metadata": {
    "collapsed": false,
    "pycharm": {
     "name": "#%%\n"
    }
   }
  },
  {
   "cell_type": "code",
   "execution_count": 33,
   "outputs": [],
   "source": [
    "exam_data['New'] = len(exam_data['name'])"
   ],
   "metadata": {
    "collapsed": false,
    "pycharm": {
     "name": "#%%\n"
    }
   }
  },
  {
   "cell_type": "code",
   "execution_count": 34,
   "outputs": [
    {
     "data": {
      "text/plain": "        name    score  attempts qualify  New\n0  Anastasia  12.5000         1     yes   10\n1       Dima   9.0000         3      no   10\n2  Katherine  16.5000         2     yes   10\n3      James  13.5625         3      no   10\n4      Emily   9.0000         2      no   10\n5    Michael  20.0000         3     yes   10\n6    Matthew  14.5000         1     yes   10\n7      Laura  13.5625         1      no   10\n8      Kevin   8.0000         2      no   10\n9      Jonas  19.0000         1     yes   10",
      "text/html": "<div>\n<style scoped>\n    .dataframe tbody tr th:only-of-type {\n        vertical-align: middle;\n    }\n\n    .dataframe tbody tr th {\n        vertical-align: top;\n    }\n\n    .dataframe thead th {\n        text-align: right;\n    }\n</style>\n<table border=\"1\" class=\"dataframe\">\n  <thead>\n    <tr style=\"text-align: right;\">\n      <th></th>\n      <th>name</th>\n      <th>score</th>\n      <th>attempts</th>\n      <th>qualify</th>\n      <th>New</th>\n    </tr>\n  </thead>\n  <tbody>\n    <tr>\n      <th>0</th>\n      <td>Anastasia</td>\n      <td>12.5000</td>\n      <td>1</td>\n      <td>yes</td>\n      <td>10</td>\n    </tr>\n    <tr>\n      <th>1</th>\n      <td>Dima</td>\n      <td>9.0000</td>\n      <td>3</td>\n      <td>no</td>\n      <td>10</td>\n    </tr>\n    <tr>\n      <th>2</th>\n      <td>Katherine</td>\n      <td>16.5000</td>\n      <td>2</td>\n      <td>yes</td>\n      <td>10</td>\n    </tr>\n    <tr>\n      <th>3</th>\n      <td>James</td>\n      <td>13.5625</td>\n      <td>3</td>\n      <td>no</td>\n      <td>10</td>\n    </tr>\n    <tr>\n      <th>4</th>\n      <td>Emily</td>\n      <td>9.0000</td>\n      <td>2</td>\n      <td>no</td>\n      <td>10</td>\n    </tr>\n    <tr>\n      <th>5</th>\n      <td>Michael</td>\n      <td>20.0000</td>\n      <td>3</td>\n      <td>yes</td>\n      <td>10</td>\n    </tr>\n    <tr>\n      <th>6</th>\n      <td>Matthew</td>\n      <td>14.5000</td>\n      <td>1</td>\n      <td>yes</td>\n      <td>10</td>\n    </tr>\n    <tr>\n      <th>7</th>\n      <td>Laura</td>\n      <td>13.5625</td>\n      <td>1</td>\n      <td>no</td>\n      <td>10</td>\n    </tr>\n    <tr>\n      <th>8</th>\n      <td>Kevin</td>\n      <td>8.0000</td>\n      <td>2</td>\n      <td>no</td>\n      <td>10</td>\n    </tr>\n    <tr>\n      <th>9</th>\n      <td>Jonas</td>\n      <td>19.0000</td>\n      <td>1</td>\n      <td>yes</td>\n      <td>10</td>\n    </tr>\n  </tbody>\n</table>\n</div>"
     },
     "execution_count": 34,
     "metadata": {},
     "output_type": "execute_result"
    }
   ],
   "source": [
    "exam_data"
   ],
   "metadata": {
    "collapsed": false,
    "pycharm": {
     "name": "#%%\n"
    }
   }
  },
  {
   "cell_type": "code",
   "execution_count": 37,
   "outputs": [
    {
     "data": {
      "text/plain": "       score  New\nscore    1.0  NaN\nNew      NaN  NaN",
      "text/html": "<div>\n<style scoped>\n    .dataframe tbody tr th:only-of-type {\n        vertical-align: middle;\n    }\n\n    .dataframe tbody tr th {\n        vertical-align: top;\n    }\n\n    .dataframe thead th {\n        text-align: right;\n    }\n</style>\n<table border=\"1\" class=\"dataframe\">\n  <thead>\n    <tr style=\"text-align: right;\">\n      <th></th>\n      <th>score</th>\n      <th>New</th>\n    </tr>\n  </thead>\n  <tbody>\n    <tr>\n      <th>score</th>\n      <td>1.0</td>\n      <td>NaN</td>\n    </tr>\n    <tr>\n      <th>New</th>\n      <td>NaN</td>\n      <td>NaN</td>\n    </tr>\n  </tbody>\n</table>\n</div>"
     },
     "execution_count": 37,
     "metadata": {},
     "output_type": "execute_result"
    }
   ],
   "source": [
    "exam_data[['score','New']].corr()"
   ],
   "metadata": {
    "collapsed": false,
    "pycharm": {
     "name": "#%%\n"
    }
   }
  },
  {
   "cell_type": "code",
   "execution_count": 40,
   "outputs": [
    {
     "data": {
      "text/plain": "        name    score  attempts qualify  New\n0  Anastasia  12.5000         1     yes   10\n1       Dima   9.0000         3      no   10\n2  Katherine  16.5000         2     yes   10\n3      James  13.5625         3      no   10\n5    Michael  20.0000         3     yes   10\n6    Matthew  14.5000         1     yes   10\n7      Laura  13.5625         1      no   10\n9      Jonas  19.0000         1     yes   10",
      "text/html": "<div>\n<style scoped>\n    .dataframe tbody tr th:only-of-type {\n        vertical-align: middle;\n    }\n\n    .dataframe tbody tr th {\n        vertical-align: top;\n    }\n\n    .dataframe thead th {\n        text-align: right;\n    }\n</style>\n<table border=\"1\" class=\"dataframe\">\n  <thead>\n    <tr style=\"text-align: right;\">\n      <th></th>\n      <th>name</th>\n      <th>score</th>\n      <th>attempts</th>\n      <th>qualify</th>\n      <th>New</th>\n    </tr>\n  </thead>\n  <tbody>\n    <tr>\n      <th>0</th>\n      <td>Anastasia</td>\n      <td>12.5000</td>\n      <td>1</td>\n      <td>yes</td>\n      <td>10</td>\n    </tr>\n    <tr>\n      <th>1</th>\n      <td>Dima</td>\n      <td>9.0000</td>\n      <td>3</td>\n      <td>no</td>\n      <td>10</td>\n    </tr>\n    <tr>\n      <th>2</th>\n      <td>Katherine</td>\n      <td>16.5000</td>\n      <td>2</td>\n      <td>yes</td>\n      <td>10</td>\n    </tr>\n    <tr>\n      <th>3</th>\n      <td>James</td>\n      <td>13.5625</td>\n      <td>3</td>\n      <td>no</td>\n      <td>10</td>\n    </tr>\n    <tr>\n      <th>5</th>\n      <td>Michael</td>\n      <td>20.0000</td>\n      <td>3</td>\n      <td>yes</td>\n      <td>10</td>\n    </tr>\n    <tr>\n      <th>6</th>\n      <td>Matthew</td>\n      <td>14.5000</td>\n      <td>1</td>\n      <td>yes</td>\n      <td>10</td>\n    </tr>\n    <tr>\n      <th>7</th>\n      <td>Laura</td>\n      <td>13.5625</td>\n      <td>1</td>\n      <td>no</td>\n      <td>10</td>\n    </tr>\n    <tr>\n      <th>9</th>\n      <td>Jonas</td>\n      <td>19.0000</td>\n      <td>1</td>\n      <td>yes</td>\n      <td>10</td>\n    </tr>\n  </tbody>\n</table>\n</div>"
     },
     "execution_count": 40,
     "metadata": {},
     "output_type": "execute_result"
    }
   ],
   "source": [
    "exam_data[exam_data['name'].str.contains('A',case=False)]"
   ],
   "metadata": {
    "collapsed": false,
    "pycharm": {
     "name": "#%%\n"
    }
   }
  },
  {
   "cell_type": "code",
   "execution_count": null,
   "outputs": [],
   "source": [],
   "metadata": {
    "collapsed": false,
    "pycharm": {
     "name": "#%%\n"
    }
   }
  },
  {
   "cell_type": "code",
   "execution_count": 46,
   "outputs": [
    {
     "ename": "KeyError",
     "evalue": "'[False  True False False False False False False False False] not found in axis'",
     "output_type": "error",
     "traceback": [
      "\u001B[1;31m---------------------------------------------------------------------------\u001B[0m",
      "\u001B[1;31mKeyError\u001B[0m                                  Traceback (most recent call last)",
      "\u001B[1;32m<ipython-input-46-a0a06741a3bf>\u001B[0m in \u001B[0;36m<module>\u001B[1;34m\u001B[0m\n\u001B[1;32m----> 1\u001B[1;33m \u001B[0mexam_data\u001B[0m\u001B[1;33m.\u001B[0m\u001B[0mdrop\u001B[0m\u001B[1;33m(\u001B[0m\u001B[0mexam_data\u001B[0m\u001B[1;33m[\u001B[0m\u001B[1;34m'name'\u001B[0m\u001B[1;33m]\u001B[0m\u001B[1;33m==\u001B[0m\u001B[1;34m'Dima'\u001B[0m\u001B[1;33m)\u001B[0m\u001B[1;33m\u001B[0m\u001B[1;33m\u001B[0m\u001B[0m\n\u001B[0m",
      "\u001B[1;32m~\\AppData\\Local\\Programs\\Python\\Python36\\lib\\site-packages\\pandas\\core\\frame.py\u001B[0m in \u001B[0;36mdrop\u001B[1;34m(self, labels, axis, index, columns, level, inplace, errors)\u001B[0m\n\u001B[0;32m   4172\u001B[0m             \u001B[0mlevel\u001B[0m\u001B[1;33m=\u001B[0m\u001B[0mlevel\u001B[0m\u001B[1;33m,\u001B[0m\u001B[1;33m\u001B[0m\u001B[1;33m\u001B[0m\u001B[0m\n\u001B[0;32m   4173\u001B[0m             \u001B[0minplace\u001B[0m\u001B[1;33m=\u001B[0m\u001B[0minplace\u001B[0m\u001B[1;33m,\u001B[0m\u001B[1;33m\u001B[0m\u001B[1;33m\u001B[0m\u001B[0m\n\u001B[1;32m-> 4174\u001B[1;33m             \u001B[0merrors\u001B[0m\u001B[1;33m=\u001B[0m\u001B[0merrors\u001B[0m\u001B[1;33m,\u001B[0m\u001B[1;33m\u001B[0m\u001B[1;33m\u001B[0m\u001B[0m\n\u001B[0m\u001B[0;32m   4175\u001B[0m         )\n\u001B[0;32m   4176\u001B[0m \u001B[1;33m\u001B[0m\u001B[0m\n",
      "\u001B[1;32m~\\AppData\\Local\\Programs\\Python\\Python36\\lib\\site-packages\\pandas\\core\\generic.py\u001B[0m in \u001B[0;36mdrop\u001B[1;34m(self, labels, axis, index, columns, level, inplace, errors)\u001B[0m\n\u001B[0;32m   3887\u001B[0m         \u001B[1;32mfor\u001B[0m \u001B[0maxis\u001B[0m\u001B[1;33m,\u001B[0m \u001B[0mlabels\u001B[0m \u001B[1;32min\u001B[0m \u001B[0maxes\u001B[0m\u001B[1;33m.\u001B[0m\u001B[0mitems\u001B[0m\u001B[1;33m(\u001B[0m\u001B[1;33m)\u001B[0m\u001B[1;33m:\u001B[0m\u001B[1;33m\u001B[0m\u001B[1;33m\u001B[0m\u001B[0m\n\u001B[0;32m   3888\u001B[0m             \u001B[1;32mif\u001B[0m \u001B[0mlabels\u001B[0m \u001B[1;32mis\u001B[0m \u001B[1;32mnot\u001B[0m \u001B[1;32mNone\u001B[0m\u001B[1;33m:\u001B[0m\u001B[1;33m\u001B[0m\u001B[1;33m\u001B[0m\u001B[0m\n\u001B[1;32m-> 3889\u001B[1;33m                 \u001B[0mobj\u001B[0m \u001B[1;33m=\u001B[0m \u001B[0mobj\u001B[0m\u001B[1;33m.\u001B[0m\u001B[0m_drop_axis\u001B[0m\u001B[1;33m(\u001B[0m\u001B[0mlabels\u001B[0m\u001B[1;33m,\u001B[0m \u001B[0maxis\u001B[0m\u001B[1;33m,\u001B[0m \u001B[0mlevel\u001B[0m\u001B[1;33m=\u001B[0m\u001B[0mlevel\u001B[0m\u001B[1;33m,\u001B[0m \u001B[0merrors\u001B[0m\u001B[1;33m=\u001B[0m\u001B[0merrors\u001B[0m\u001B[1;33m)\u001B[0m\u001B[1;33m\u001B[0m\u001B[1;33m\u001B[0m\u001B[0m\n\u001B[0m\u001B[0;32m   3890\u001B[0m \u001B[1;33m\u001B[0m\u001B[0m\n\u001B[0;32m   3891\u001B[0m         \u001B[1;32mif\u001B[0m \u001B[0minplace\u001B[0m\u001B[1;33m:\u001B[0m\u001B[1;33m\u001B[0m\u001B[1;33m\u001B[0m\u001B[0m\n",
      "\u001B[1;32m~\\AppData\\Local\\Programs\\Python\\Python36\\lib\\site-packages\\pandas\\core\\generic.py\u001B[0m in \u001B[0;36m_drop_axis\u001B[1;34m(self, labels, axis, level, errors)\u001B[0m\n\u001B[0;32m   3921\u001B[0m                 \u001B[0mnew_axis\u001B[0m \u001B[1;33m=\u001B[0m \u001B[0maxis\u001B[0m\u001B[1;33m.\u001B[0m\u001B[0mdrop\u001B[0m\u001B[1;33m(\u001B[0m\u001B[0mlabels\u001B[0m\u001B[1;33m,\u001B[0m \u001B[0mlevel\u001B[0m\u001B[1;33m=\u001B[0m\u001B[0mlevel\u001B[0m\u001B[1;33m,\u001B[0m \u001B[0merrors\u001B[0m\u001B[1;33m=\u001B[0m\u001B[0merrors\u001B[0m\u001B[1;33m)\u001B[0m\u001B[1;33m\u001B[0m\u001B[1;33m\u001B[0m\u001B[0m\n\u001B[0;32m   3922\u001B[0m             \u001B[1;32melse\u001B[0m\u001B[1;33m:\u001B[0m\u001B[1;33m\u001B[0m\u001B[1;33m\u001B[0m\u001B[0m\n\u001B[1;32m-> 3923\u001B[1;33m                 \u001B[0mnew_axis\u001B[0m \u001B[1;33m=\u001B[0m \u001B[0maxis\u001B[0m\u001B[1;33m.\u001B[0m\u001B[0mdrop\u001B[0m\u001B[1;33m(\u001B[0m\u001B[0mlabels\u001B[0m\u001B[1;33m,\u001B[0m \u001B[0merrors\u001B[0m\u001B[1;33m=\u001B[0m\u001B[0merrors\u001B[0m\u001B[1;33m)\u001B[0m\u001B[1;33m\u001B[0m\u001B[1;33m\u001B[0m\u001B[0m\n\u001B[0m\u001B[0;32m   3924\u001B[0m             \u001B[0mresult\u001B[0m \u001B[1;33m=\u001B[0m \u001B[0mself\u001B[0m\u001B[1;33m.\u001B[0m\u001B[0mreindex\u001B[0m\u001B[1;33m(\u001B[0m\u001B[1;33m**\u001B[0m\u001B[1;33m{\u001B[0m\u001B[0maxis_name\u001B[0m\u001B[1;33m:\u001B[0m \u001B[0mnew_axis\u001B[0m\u001B[1;33m}\u001B[0m\u001B[1;33m)\u001B[0m\u001B[1;33m\u001B[0m\u001B[1;33m\u001B[0m\u001B[0m\n\u001B[0;32m   3925\u001B[0m \u001B[1;33m\u001B[0m\u001B[0m\n",
      "\u001B[1;32m~\\AppData\\Local\\Programs\\Python\\Python36\\lib\\site-packages\\pandas\\core\\indexes\\base.py\u001B[0m in \u001B[0;36mdrop\u001B[1;34m(self, labels, errors)\u001B[0m\n\u001B[0;32m   5285\u001B[0m         \u001B[1;32mif\u001B[0m \u001B[0mmask\u001B[0m\u001B[1;33m.\u001B[0m\u001B[0many\u001B[0m\u001B[1;33m(\u001B[0m\u001B[1;33m)\u001B[0m\u001B[1;33m:\u001B[0m\u001B[1;33m\u001B[0m\u001B[1;33m\u001B[0m\u001B[0m\n\u001B[0;32m   5286\u001B[0m             \u001B[1;32mif\u001B[0m \u001B[0merrors\u001B[0m \u001B[1;33m!=\u001B[0m \u001B[1;34m\"ignore\"\u001B[0m\u001B[1;33m:\u001B[0m\u001B[1;33m\u001B[0m\u001B[1;33m\u001B[0m\u001B[0m\n\u001B[1;32m-> 5287\u001B[1;33m                 \u001B[1;32mraise\u001B[0m \u001B[0mKeyError\u001B[0m\u001B[1;33m(\u001B[0m\u001B[1;34mf\"{labels[mask]} not found in axis\"\u001B[0m\u001B[1;33m)\u001B[0m\u001B[1;33m\u001B[0m\u001B[1;33m\u001B[0m\u001B[0m\n\u001B[0m\u001B[0;32m   5288\u001B[0m             \u001B[0mindexer\u001B[0m \u001B[1;33m=\u001B[0m \u001B[0mindexer\u001B[0m\u001B[1;33m[\u001B[0m\u001B[1;33m~\u001B[0m\u001B[0mmask\u001B[0m\u001B[1;33m]\u001B[0m\u001B[1;33m\u001B[0m\u001B[1;33m\u001B[0m\u001B[0m\n\u001B[0;32m   5289\u001B[0m         \u001B[1;32mreturn\u001B[0m \u001B[0mself\u001B[0m\u001B[1;33m.\u001B[0m\u001B[0mdelete\u001B[0m\u001B[1;33m(\u001B[0m\u001B[0mindexer\u001B[0m\u001B[1;33m)\u001B[0m\u001B[1;33m\u001B[0m\u001B[1;33m\u001B[0m\u001B[0m\n",
      "\u001B[1;31mKeyError\u001B[0m: '[False  True False False False False False False False False] not found in axis'"
     ]
    }
   ],
   "source": [
    "exam_data.drop(exam_data['name']=='Dima')"
   ],
   "metadata": {
    "collapsed": false,
    "pycharm": {
     "name": "#%%\n"
    }
   }
  },
  {
   "cell_type": "code",
   "execution_count": 51,
   "outputs": [],
   "source": [
    "grpBy = exam_data.groupby('qualify')"
   ],
   "metadata": {
    "collapsed": false,
    "pycharm": {
     "name": "#%%\n"
    }
   }
  },
  {
   "cell_type": "code",
   "execution_count": 52,
   "outputs": [
    {
     "data": {
      "text/plain": "<pandas.core.groupby.generic.DataFrameGroupBy object at 0x0000024BD069EB70>"
     },
     "execution_count": 52,
     "metadata": {},
     "output_type": "execute_result"
    }
   ],
   "source": [
    "grpBy"
   ],
   "metadata": {
    "collapsed": false,
    "pycharm": {
     "name": "#%%\n"
    }
   }
  },
  {
   "cell_type": "code",
   "execution_count": 53,
   "outputs": [
    {
     "data": {
      "text/plain": "         name  score  attempts  New\nqualify                            \nno          5      5         5    5\nyes         5      5         5    5",
      "text/html": "<div>\n<style scoped>\n    .dataframe tbody tr th:only-of-type {\n        vertical-align: middle;\n    }\n\n    .dataframe tbody tr th {\n        vertical-align: top;\n    }\n\n    .dataframe thead th {\n        text-align: right;\n    }\n</style>\n<table border=\"1\" class=\"dataframe\">\n  <thead>\n    <tr style=\"text-align: right;\">\n      <th></th>\n      <th>name</th>\n      <th>score</th>\n      <th>attempts</th>\n      <th>New</th>\n    </tr>\n    <tr>\n      <th>qualify</th>\n      <th></th>\n      <th></th>\n      <th></th>\n      <th></th>\n    </tr>\n  </thead>\n  <tbody>\n    <tr>\n      <th>no</th>\n      <td>5</td>\n      <td>5</td>\n      <td>5</td>\n      <td>5</td>\n    </tr>\n    <tr>\n      <th>yes</th>\n      <td>5</td>\n      <td>5</td>\n      <td>5</td>\n      <td>5</td>\n    </tr>\n  </tbody>\n</table>\n</div>"
     },
     "execution_count": 53,
     "metadata": {},
     "output_type": "execute_result"
    }
   ],
   "source": [
    "grpBy.count()"
   ],
   "metadata": {
    "collapsed": false,
    "pycharm": {
     "name": "#%%\n"
    }
   }
  },
  {
   "cell_type": "code",
   "execution_count": 54,
   "outputs": [
    {
     "data": {
      "text/plain": "          score  attempts  New\nqualify                       \nno       53.125        11   50\nyes      82.500         8   50",
      "text/html": "<div>\n<style scoped>\n    .dataframe tbody tr th:only-of-type {\n        vertical-align: middle;\n    }\n\n    .dataframe tbody tr th {\n        vertical-align: top;\n    }\n\n    .dataframe thead th {\n        text-align: right;\n    }\n</style>\n<table border=\"1\" class=\"dataframe\">\n  <thead>\n    <tr style=\"text-align: right;\">\n      <th></th>\n      <th>score</th>\n      <th>attempts</th>\n      <th>New</th>\n    </tr>\n    <tr>\n      <th>qualify</th>\n      <th></th>\n      <th></th>\n      <th></th>\n    </tr>\n  </thead>\n  <tbody>\n    <tr>\n      <th>no</th>\n      <td>53.125</td>\n      <td>11</td>\n      <td>50</td>\n    </tr>\n    <tr>\n      <th>yes</th>\n      <td>82.500</td>\n      <td>8</td>\n      <td>50</td>\n    </tr>\n  </tbody>\n</table>\n</div>"
     },
     "execution_count": 54,
     "metadata": {},
     "output_type": "execute_result"
    }
   ],
   "source": [
    "grpBy.sum()"
   ],
   "metadata": {
    "collapsed": false,
    "pycharm": {
     "name": "#%%\n"
    }
   }
  },
  {
   "cell_type": "code",
   "execution_count": 60,
   "outputs": [],
   "source": [
    "new = pd.concat([data,data1,exam_data],axis=1)"
   ],
   "metadata": {
    "collapsed": false,
    "pycharm": {
     "name": "#%%\n"
    }
   }
  },
  {
   "cell_type": "code",
   "execution_count": 61,
   "outputs": [
    {
     "data": {
      "text/plain": "      X     Y     Z Company   Person  Sales       name    score  attempts  \\\n0  78.0  84.0  86.0    GOOG      Sam  200.0  Anastasia  12.5000         1   \n1  85.0  94.0  97.0    GOOG  Charlie  120.0       Dima   9.0000         3   \n2  96.0  89.0  96.0    MSFT      Amy  340.0  Katherine  16.5000         2   \n3  80.0  83.0  72.0    MSFT  Venessa  124.0      James  13.5625         3   \n4  86.0  86.0  83.0      FB     Carl  243.0      Emily   9.0000         2   \n5   NaN   NaN   NaN      FB    Sarah  350.0    Michael  20.0000         3   \n6   NaN   NaN   NaN     NaN      NaN    NaN    Matthew  14.5000         1   \n7   NaN   NaN   NaN     NaN      NaN    NaN      Laura  13.5625         1   \n8   NaN   NaN   NaN     NaN      NaN    NaN      Kevin   8.0000         2   \n9   NaN   NaN   NaN     NaN      NaN    NaN      Jonas  19.0000         1   \n\n  qualify  New  \n0     yes   10  \n1      no   10  \n2     yes   10  \n3      no   10  \n4      no   10  \n5     yes   10  \n6     yes   10  \n7      no   10  \n8      no   10  \n9     yes   10  ",
      "text/html": "<div>\n<style scoped>\n    .dataframe tbody tr th:only-of-type {\n        vertical-align: middle;\n    }\n\n    .dataframe tbody tr th {\n        vertical-align: top;\n    }\n\n    .dataframe thead th {\n        text-align: right;\n    }\n</style>\n<table border=\"1\" class=\"dataframe\">\n  <thead>\n    <tr style=\"text-align: right;\">\n      <th></th>\n      <th>X</th>\n      <th>Y</th>\n      <th>Z</th>\n      <th>Company</th>\n      <th>Person</th>\n      <th>Sales</th>\n      <th>name</th>\n      <th>score</th>\n      <th>attempts</th>\n      <th>qualify</th>\n      <th>New</th>\n    </tr>\n  </thead>\n  <tbody>\n    <tr>\n      <th>0</th>\n      <td>78.0</td>\n      <td>84.0</td>\n      <td>86.0</td>\n      <td>GOOG</td>\n      <td>Sam</td>\n      <td>200.0</td>\n      <td>Anastasia</td>\n      <td>12.5000</td>\n      <td>1</td>\n      <td>yes</td>\n      <td>10</td>\n    </tr>\n    <tr>\n      <th>1</th>\n      <td>85.0</td>\n      <td>94.0</td>\n      <td>97.0</td>\n      <td>GOOG</td>\n      <td>Charlie</td>\n      <td>120.0</td>\n      <td>Dima</td>\n      <td>9.0000</td>\n      <td>3</td>\n      <td>no</td>\n      <td>10</td>\n    </tr>\n    <tr>\n      <th>2</th>\n      <td>96.0</td>\n      <td>89.0</td>\n      <td>96.0</td>\n      <td>MSFT</td>\n      <td>Amy</td>\n      <td>340.0</td>\n      <td>Katherine</td>\n      <td>16.5000</td>\n      <td>2</td>\n      <td>yes</td>\n      <td>10</td>\n    </tr>\n    <tr>\n      <th>3</th>\n      <td>80.0</td>\n      <td>83.0</td>\n      <td>72.0</td>\n      <td>MSFT</td>\n      <td>Venessa</td>\n      <td>124.0</td>\n      <td>James</td>\n      <td>13.5625</td>\n      <td>3</td>\n      <td>no</td>\n      <td>10</td>\n    </tr>\n    <tr>\n      <th>4</th>\n      <td>86.0</td>\n      <td>86.0</td>\n      <td>83.0</td>\n      <td>FB</td>\n      <td>Carl</td>\n      <td>243.0</td>\n      <td>Emily</td>\n      <td>9.0000</td>\n      <td>2</td>\n      <td>no</td>\n      <td>10</td>\n    </tr>\n    <tr>\n      <th>5</th>\n      <td>NaN</td>\n      <td>NaN</td>\n      <td>NaN</td>\n      <td>FB</td>\n      <td>Sarah</td>\n      <td>350.0</td>\n      <td>Michael</td>\n      <td>20.0000</td>\n      <td>3</td>\n      <td>yes</td>\n      <td>10</td>\n    </tr>\n    <tr>\n      <th>6</th>\n      <td>NaN</td>\n      <td>NaN</td>\n      <td>NaN</td>\n      <td>NaN</td>\n      <td>NaN</td>\n      <td>NaN</td>\n      <td>Matthew</td>\n      <td>14.5000</td>\n      <td>1</td>\n      <td>yes</td>\n      <td>10</td>\n    </tr>\n    <tr>\n      <th>7</th>\n      <td>NaN</td>\n      <td>NaN</td>\n      <td>NaN</td>\n      <td>NaN</td>\n      <td>NaN</td>\n      <td>NaN</td>\n      <td>Laura</td>\n      <td>13.5625</td>\n      <td>1</td>\n      <td>no</td>\n      <td>10</td>\n    </tr>\n    <tr>\n      <th>8</th>\n      <td>NaN</td>\n      <td>NaN</td>\n      <td>NaN</td>\n      <td>NaN</td>\n      <td>NaN</td>\n      <td>NaN</td>\n      <td>Kevin</td>\n      <td>8.0000</td>\n      <td>2</td>\n      <td>no</td>\n      <td>10</td>\n    </tr>\n    <tr>\n      <th>9</th>\n      <td>NaN</td>\n      <td>NaN</td>\n      <td>NaN</td>\n      <td>NaN</td>\n      <td>NaN</td>\n      <td>NaN</td>\n      <td>Jonas</td>\n      <td>19.0000</td>\n      <td>1</td>\n      <td>yes</td>\n      <td>10</td>\n    </tr>\n  </tbody>\n</table>\n</div>"
     },
     "execution_count": 61,
     "metadata": {},
     "output_type": "execute_result"
    }
   ],
   "source": [
    "new"
   ],
   "metadata": {
    "collapsed": false,
    "pycharm": {
     "name": "#%%\n"
    }
   }
  },
  {
   "cell_type": "code",
   "execution_count": 68,
   "outputs": [],
   "source": [
    "new['Z'].fillna(new['Z'].mean(),inplace=True)"
   ],
   "metadata": {
    "collapsed": false,
    "pycharm": {
     "name": "#%%\n"
    }
   }
  },
  {
   "cell_type": "code",
   "execution_count": 71,
   "outputs": [],
   "source": [
    "def fillNTSL(x):\n",
    "    x = 'NETSOL'\n",
    "    return x\n"
   ],
   "metadata": {
    "collapsed": false,
    "pycharm": {
     "name": "#%%\n"
    }
   }
  },
  {
   "cell_type": "code",
   "execution_count": 73,
   "outputs": [],
   "source": [
    "new['Company'].fillna(new['Company'].apply(lambda x : fillNTSL(x)),inplace=True)"
   ],
   "metadata": {
    "collapsed": false,
    "pycharm": {
     "name": "#%%\n"
    }
   }
  },
  {
   "cell_type": "code",
   "execution_count": 74,
   "outputs": [
    {
     "data": {
      "text/plain": "      X     Y     Z Company   Person  Sales       name    score  attempts  \\\n0  78.0  84.0  86.0    GOOG      Sam  200.0  Anastasia  12.5000         1   \n1  85.0  94.0  97.0    GOOG  Charlie  120.0       Dima   9.0000         3   \n2  96.0  89.0  96.0    MSFT      Amy  340.0  Katherine  16.5000         2   \n3  80.0  83.0  72.0    MSFT  Venessa  124.0      James  13.5625         3   \n4  86.0  86.0  83.0      FB     Carl  243.0      Emily   9.0000         2   \n5  85.0  87.2  86.8      FB    Sarah  350.0    Michael  20.0000         3   \n6  85.0  87.2  86.8  NETSOL      NaN    NaN    Matthew  14.5000         1   \n7  85.0  87.2  86.8  NETSOL      NaN    NaN      Laura  13.5625         1   \n8  85.0  87.2  86.8  NETSOL      NaN    NaN      Kevin   8.0000         2   \n9  85.0  87.2  86.8  NETSOL      NaN    NaN      Jonas  19.0000         1   \n\n  qualify  New  \n0     yes   10  \n1      no   10  \n2     yes   10  \n3      no   10  \n4      no   10  \n5     yes   10  \n6     yes   10  \n7      no   10  \n8      no   10  \n9     yes   10  ",
      "text/html": "<div>\n<style scoped>\n    .dataframe tbody tr th:only-of-type {\n        vertical-align: middle;\n    }\n\n    .dataframe tbody tr th {\n        vertical-align: top;\n    }\n\n    .dataframe thead th {\n        text-align: right;\n    }\n</style>\n<table border=\"1\" class=\"dataframe\">\n  <thead>\n    <tr style=\"text-align: right;\">\n      <th></th>\n      <th>X</th>\n      <th>Y</th>\n      <th>Z</th>\n      <th>Company</th>\n      <th>Person</th>\n      <th>Sales</th>\n      <th>name</th>\n      <th>score</th>\n      <th>attempts</th>\n      <th>qualify</th>\n      <th>New</th>\n    </tr>\n  </thead>\n  <tbody>\n    <tr>\n      <th>0</th>\n      <td>78.0</td>\n      <td>84.0</td>\n      <td>86.0</td>\n      <td>GOOG</td>\n      <td>Sam</td>\n      <td>200.0</td>\n      <td>Anastasia</td>\n      <td>12.5000</td>\n      <td>1</td>\n      <td>yes</td>\n      <td>10</td>\n    </tr>\n    <tr>\n      <th>1</th>\n      <td>85.0</td>\n      <td>94.0</td>\n      <td>97.0</td>\n      <td>GOOG</td>\n      <td>Charlie</td>\n      <td>120.0</td>\n      <td>Dima</td>\n      <td>9.0000</td>\n      <td>3</td>\n      <td>no</td>\n      <td>10</td>\n    </tr>\n    <tr>\n      <th>2</th>\n      <td>96.0</td>\n      <td>89.0</td>\n      <td>96.0</td>\n      <td>MSFT</td>\n      <td>Amy</td>\n      <td>340.0</td>\n      <td>Katherine</td>\n      <td>16.5000</td>\n      <td>2</td>\n      <td>yes</td>\n      <td>10</td>\n    </tr>\n    <tr>\n      <th>3</th>\n      <td>80.0</td>\n      <td>83.0</td>\n      <td>72.0</td>\n      <td>MSFT</td>\n      <td>Venessa</td>\n      <td>124.0</td>\n      <td>James</td>\n      <td>13.5625</td>\n      <td>3</td>\n      <td>no</td>\n      <td>10</td>\n    </tr>\n    <tr>\n      <th>4</th>\n      <td>86.0</td>\n      <td>86.0</td>\n      <td>83.0</td>\n      <td>FB</td>\n      <td>Carl</td>\n      <td>243.0</td>\n      <td>Emily</td>\n      <td>9.0000</td>\n      <td>2</td>\n      <td>no</td>\n      <td>10</td>\n    </tr>\n    <tr>\n      <th>5</th>\n      <td>85.0</td>\n      <td>87.2</td>\n      <td>86.8</td>\n      <td>FB</td>\n      <td>Sarah</td>\n      <td>350.0</td>\n      <td>Michael</td>\n      <td>20.0000</td>\n      <td>3</td>\n      <td>yes</td>\n      <td>10</td>\n    </tr>\n    <tr>\n      <th>6</th>\n      <td>85.0</td>\n      <td>87.2</td>\n      <td>86.8</td>\n      <td>NETSOL</td>\n      <td>NaN</td>\n      <td>NaN</td>\n      <td>Matthew</td>\n      <td>14.5000</td>\n      <td>1</td>\n      <td>yes</td>\n      <td>10</td>\n    </tr>\n    <tr>\n      <th>7</th>\n      <td>85.0</td>\n      <td>87.2</td>\n      <td>86.8</td>\n      <td>NETSOL</td>\n      <td>NaN</td>\n      <td>NaN</td>\n      <td>Laura</td>\n      <td>13.5625</td>\n      <td>1</td>\n      <td>no</td>\n      <td>10</td>\n    </tr>\n    <tr>\n      <th>8</th>\n      <td>85.0</td>\n      <td>87.2</td>\n      <td>86.8</td>\n      <td>NETSOL</td>\n      <td>NaN</td>\n      <td>NaN</td>\n      <td>Kevin</td>\n      <td>8.0000</td>\n      <td>2</td>\n      <td>no</td>\n      <td>10</td>\n    </tr>\n    <tr>\n      <th>9</th>\n      <td>85.0</td>\n      <td>87.2</td>\n      <td>86.8</td>\n      <td>NETSOL</td>\n      <td>NaN</td>\n      <td>NaN</td>\n      <td>Jonas</td>\n      <td>19.0000</td>\n      <td>1</td>\n      <td>yes</td>\n      <td>10</td>\n    </tr>\n  </tbody>\n</table>\n</div>"
     },
     "execution_count": 74,
     "metadata": {},
     "output_type": "execute_result"
    }
   ],
   "source": [
    "new"
   ],
   "metadata": {
    "collapsed": false,
    "pycharm": {
     "name": "#%%\n"
    }
   }
  },
  {
   "cell_type": "code",
   "execution_count": null,
   "outputs": [],
   "source": [],
   "metadata": {
    "collapsed": false,
    "pycharm": {
     "name": "#%%\n"
    }
   }
  }
 ],
 "metadata": {
  "kernelspec": {
   "display_name": "Python 3",
   "language": "python",
   "name": "python3"
  },
  "language_info": {
   "codemirror_mode": {
    "name": "ipython",
    "version": 2
   },
   "file_extension": ".py",
   "mimetype": "text/x-python",
   "name": "python",
   "nbconvert_exporter": "python",
   "pygments_lexer": "ipython2",
   "version": "2.7.6"
  }
 },
 "nbformat": 4,
 "nbformat_minor": 0
}