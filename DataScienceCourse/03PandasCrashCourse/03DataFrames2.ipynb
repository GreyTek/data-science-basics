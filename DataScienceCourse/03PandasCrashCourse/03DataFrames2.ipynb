{
 "cells": [
  {
   "cell_type": "code",
   "execution_count": 2,
   "metadata": {
    "collapsed": true,
    "pycharm": {
     "name": "#%%\n"
    }
   },
   "outputs": [],
   "source": [
    "import numpy as np\n",
    "import pandas as pd\n",
    "from numpy.random import randn"
   ]
  },
  {
   "cell_type": "code",
   "execution_count": 7,
   "outputs": [],
   "source": [
    "df = pd.DataFrame(randn(5,5),['A','B','C','D','E'],['W','X','Y','Z','XL'])"
   ],
   "metadata": {
    "collapsed": false,
    "pycharm": {
     "name": "#%%\n"
    }
   }
  },
  {
   "cell_type": "code",
   "execution_count": 8,
   "outputs": [
    {
     "data": {
      "text/plain": "          W         X         Y         Z        XL\nA  0.822063 -1.392903 -1.183784  1.130498  1.038973\nB  0.316999  0.760770 -0.535404 -0.538834  2.244849\nC  0.668630 -1.157677  0.128438  2.906361 -1.637907\nD  0.214054  0.321759  1.657027 -0.847870  1.110204\nE -0.093235  0.265486  0.392284 -0.589479  2.022411",
      "text/html": "<div>\n<style scoped>\n    .dataframe tbody tr th:only-of-type {\n        vertical-align: middle;\n    }\n\n    .dataframe tbody tr th {\n        vertical-align: top;\n    }\n\n    .dataframe thead th {\n        text-align: right;\n    }\n</style>\n<table border=\"1\" class=\"dataframe\">\n  <thead>\n    <tr style=\"text-align: right;\">\n      <th></th>\n      <th>W</th>\n      <th>X</th>\n      <th>Y</th>\n      <th>Z</th>\n      <th>XL</th>\n    </tr>\n  </thead>\n  <tbody>\n    <tr>\n      <th>A</th>\n      <td>0.822063</td>\n      <td>-1.392903</td>\n      <td>-1.183784</td>\n      <td>1.130498</td>\n      <td>1.038973</td>\n    </tr>\n    <tr>\n      <th>B</th>\n      <td>0.316999</td>\n      <td>0.760770</td>\n      <td>-0.535404</td>\n      <td>-0.538834</td>\n      <td>2.244849</td>\n    </tr>\n    <tr>\n      <th>C</th>\n      <td>0.668630</td>\n      <td>-1.157677</td>\n      <td>0.128438</td>\n      <td>2.906361</td>\n      <td>-1.637907</td>\n    </tr>\n    <tr>\n      <th>D</th>\n      <td>0.214054</td>\n      <td>0.321759</td>\n      <td>1.657027</td>\n      <td>-0.847870</td>\n      <td>1.110204</td>\n    </tr>\n    <tr>\n      <th>E</th>\n      <td>-0.093235</td>\n      <td>0.265486</td>\n      <td>0.392284</td>\n      <td>-0.589479</td>\n      <td>2.022411</td>\n    </tr>\n  </tbody>\n</table>\n</div>"
     },
     "execution_count": 8,
     "metadata": {},
     "output_type": "execute_result"
    }
   ],
   "source": [
    "df"
   ],
   "metadata": {
    "collapsed": false,
    "pycharm": {
     "name": "#%%\n"
    }
   }
  },
  {
   "cell_type": "code",
   "execution_count": 9,
   "outputs": [
    {
     "data": {
      "text/plain": "A     True\nB     True\nC     True\nD     True\nE    False\nName: W, dtype: bool"
     },
     "execution_count": 9,
     "metadata": {},
     "output_type": "execute_result"
    }
   ],
   "source": [
    "df['W']>0"
   ],
   "metadata": {
    "collapsed": false,
    "pycharm": {
     "name": "#%%\n"
    }
   }
  },
  {
   "cell_type": "code",
   "execution_count": 10,
   "outputs": [
    {
     "data": {
      "text/plain": "A    0.822063\nB    0.316999\nC    0.668630\nD    0.214054\nE   -0.093235\nName: W, dtype: float64"
     },
     "execution_count": 10,
     "metadata": {},
     "output_type": "execute_result"
    }
   ],
   "source": [
    "df['W']"
   ],
   "metadata": {
    "collapsed": false,
    "pycharm": {
     "name": "#%%\n"
    }
   }
  },
  {
   "cell_type": "code",
   "execution_count": 12,
   "outputs": [
    {
     "data": {
      "text/plain": "          W         X         Y         Z        XL\nA  0.822063 -1.392903 -1.183784  1.130498  1.038973\nB  0.316999  0.760770 -0.535404 -0.538834  2.244849\nC  0.668630 -1.157677  0.128438  2.906361 -1.637907\nD  0.214054  0.321759  1.657027 -0.847870  1.110204",
      "text/html": "<div>\n<style scoped>\n    .dataframe tbody tr th:only-of-type {\n        vertical-align: middle;\n    }\n\n    .dataframe tbody tr th {\n        vertical-align: top;\n    }\n\n    .dataframe thead th {\n        text-align: right;\n    }\n</style>\n<table border=\"1\" class=\"dataframe\">\n  <thead>\n    <tr style=\"text-align: right;\">\n      <th></th>\n      <th>W</th>\n      <th>X</th>\n      <th>Y</th>\n      <th>Z</th>\n      <th>XL</th>\n    </tr>\n  </thead>\n  <tbody>\n    <tr>\n      <th>A</th>\n      <td>0.822063</td>\n      <td>-1.392903</td>\n      <td>-1.183784</td>\n      <td>1.130498</td>\n      <td>1.038973</td>\n    </tr>\n    <tr>\n      <th>B</th>\n      <td>0.316999</td>\n      <td>0.760770</td>\n      <td>-0.535404</td>\n      <td>-0.538834</td>\n      <td>2.244849</td>\n    </tr>\n    <tr>\n      <th>C</th>\n      <td>0.668630</td>\n      <td>-1.157677</td>\n      <td>0.128438</td>\n      <td>2.906361</td>\n      <td>-1.637907</td>\n    </tr>\n    <tr>\n      <th>D</th>\n      <td>0.214054</td>\n      <td>0.321759</td>\n      <td>1.657027</td>\n      <td>-0.847870</td>\n      <td>1.110204</td>\n    </tr>\n  </tbody>\n</table>\n</div>"
     },
     "execution_count": 12,
     "metadata": {},
     "output_type": "execute_result"
    }
   ],
   "source": [
    "df[df['W']>0]"
   ],
   "metadata": {
    "collapsed": false,
    "pycharm": {
     "name": "#%%\n"
    }
   }
  },
  {
   "cell_type": "code",
   "execution_count": 14,
   "outputs": [],
   "source": [
    "resultdf = df[df['Z']<0]"
   ],
   "metadata": {
    "collapsed": false,
    "pycharm": {
     "name": "#%%\n"
    }
   }
  },
  {
   "cell_type": "code",
   "execution_count": 16,
   "outputs": [
    {
     "data": {
      "text/plain": "          W         X         Y         Z        XL\nB  0.316999  0.760770 -0.535404 -0.538834  2.244849\nD  0.214054  0.321759  1.657027 -0.847870  1.110204\nE -0.093235  0.265486  0.392284 -0.589479  2.022411",
      "text/html": "<div>\n<style scoped>\n    .dataframe tbody tr th:only-of-type {\n        vertical-align: middle;\n    }\n\n    .dataframe tbody tr th {\n        vertical-align: top;\n    }\n\n    .dataframe thead th {\n        text-align: right;\n    }\n</style>\n<table border=\"1\" class=\"dataframe\">\n  <thead>\n    <tr style=\"text-align: right;\">\n      <th></th>\n      <th>W</th>\n      <th>X</th>\n      <th>Y</th>\n      <th>Z</th>\n      <th>XL</th>\n    </tr>\n  </thead>\n  <tbody>\n    <tr>\n      <th>B</th>\n      <td>0.316999</td>\n      <td>0.760770</td>\n      <td>-0.535404</td>\n      <td>-0.538834</td>\n      <td>2.244849</td>\n    </tr>\n    <tr>\n      <th>D</th>\n      <td>0.214054</td>\n      <td>0.321759</td>\n      <td>1.657027</td>\n      <td>-0.847870</td>\n      <td>1.110204</td>\n    </tr>\n    <tr>\n      <th>E</th>\n      <td>-0.093235</td>\n      <td>0.265486</td>\n      <td>0.392284</td>\n      <td>-0.589479</td>\n      <td>2.022411</td>\n    </tr>\n  </tbody>\n</table>\n</div>"
     },
     "execution_count": 16,
     "metadata": {},
     "output_type": "execute_result"
    }
   ],
   "source": [
    "resultdf"
   ],
   "metadata": {
    "collapsed": false,
    "pycharm": {
     "name": "#%%\n"
    }
   }
  },
  {
   "cell_type": "code",
   "execution_count": 17,
   "outputs": [
    {
     "data": {
      "text/plain": "B    0.760770\nD    0.321759\nE    0.265486\nName: X, dtype: float64"
     },
     "execution_count": 17,
     "metadata": {},
     "output_type": "execute_result"
    }
   ],
   "source": [
    "resultdf['X']"
   ],
   "metadata": {
    "collapsed": false,
    "pycharm": {
     "name": "#%%\n"
    }
   }
  },
  {
   "cell_type": "code",
   "execution_count": 20,
   "outputs": [
    {
     "data": {
      "text/plain": "          W         X         Y         Z        XL\nA  0.822063 -1.392903 -1.183784  1.130498  1.038973\nB  0.316999  0.760770 -0.535404 -0.538834  2.244849\nC  0.668630 -1.157677  0.128438  2.906361 -1.637907\nD  0.214054  0.321759  1.657027 -0.847870  1.110204",
      "text/html": "<div>\n<style scoped>\n    .dataframe tbody tr th:only-of-type {\n        vertical-align: middle;\n    }\n\n    .dataframe tbody tr th {\n        vertical-align: top;\n    }\n\n    .dataframe thead th {\n        text-align: right;\n    }\n</style>\n<table border=\"1\" class=\"dataframe\">\n  <thead>\n    <tr style=\"text-align: right;\">\n      <th></th>\n      <th>W</th>\n      <th>X</th>\n      <th>Y</th>\n      <th>Z</th>\n      <th>XL</th>\n    </tr>\n  </thead>\n  <tbody>\n    <tr>\n      <th>A</th>\n      <td>0.822063</td>\n      <td>-1.392903</td>\n      <td>-1.183784</td>\n      <td>1.130498</td>\n      <td>1.038973</td>\n    </tr>\n    <tr>\n      <th>B</th>\n      <td>0.316999</td>\n      <td>0.760770</td>\n      <td>-0.535404</td>\n      <td>-0.538834</td>\n      <td>2.244849</td>\n    </tr>\n    <tr>\n      <th>C</th>\n      <td>0.668630</td>\n      <td>-1.157677</td>\n      <td>0.128438</td>\n      <td>2.906361</td>\n      <td>-1.637907</td>\n    </tr>\n    <tr>\n      <th>D</th>\n      <td>0.214054</td>\n      <td>0.321759</td>\n      <td>1.657027</td>\n      <td>-0.847870</td>\n      <td>1.110204</td>\n    </tr>\n  </tbody>\n</table>\n</div>"
     },
     "execution_count": 20,
     "metadata": {},
     "output_type": "execute_result"
    }
   ],
   "source": [
    "df[df['W']>0]"
   ],
   "metadata": {
    "collapsed": false,
    "pycharm": {
     "name": "#%%\n"
    }
   }
  },
  {
   "cell_type": "code",
   "execution_count": 25,
   "outputs": [
    {
     "data": {
      "text/plain": "          Y         Z\nA -1.183784  1.130498\nB -0.535404 -0.538834\nC  0.128438  2.906361\nD  1.657027 -0.847870",
      "text/html": "<div>\n<style scoped>\n    .dataframe tbody tr th:only-of-type {\n        vertical-align: middle;\n    }\n\n    .dataframe tbody tr th {\n        vertical-align: top;\n    }\n\n    .dataframe thead th {\n        text-align: right;\n    }\n</style>\n<table border=\"1\" class=\"dataframe\">\n  <thead>\n    <tr style=\"text-align: right;\">\n      <th></th>\n      <th>Y</th>\n      <th>Z</th>\n    </tr>\n  </thead>\n  <tbody>\n    <tr>\n      <th>A</th>\n      <td>-1.183784</td>\n      <td>1.130498</td>\n    </tr>\n    <tr>\n      <th>B</th>\n      <td>-0.535404</td>\n      <td>-0.538834</td>\n    </tr>\n    <tr>\n      <th>C</th>\n      <td>0.128438</td>\n      <td>2.906361</td>\n    </tr>\n    <tr>\n      <th>D</th>\n      <td>1.657027</td>\n      <td>-0.847870</td>\n    </tr>\n  </tbody>\n</table>\n</div>"
     },
     "execution_count": 25,
     "metadata": {},
     "output_type": "execute_result"
    }
   ],
   "source": [
    "df[df['W']>0][['Y','Z']]"
   ],
   "metadata": {
    "collapsed": false,
    "pycharm": {
     "name": "#%%\n"
    }
   }
  },
  {
   "cell_type": "code",
   "execution_count": 22,
   "outputs": [
    {
     "data": {
      "text/plain": "          W         X         Y         Z        XL\nA  0.822063 -1.392903 -1.183784  1.130498  1.038973\nB  0.316999  0.760770 -0.535404 -0.538834  2.244849\nC  0.668630 -1.157677  0.128438  2.906361 -1.637907\nD  0.214054  0.321759  1.657027 -0.847870  1.110204\nE -0.093235  0.265486  0.392284 -0.589479  2.022411",
      "text/html": "<div>\n<style scoped>\n    .dataframe tbody tr th:only-of-type {\n        vertical-align: middle;\n    }\n\n    .dataframe tbody tr th {\n        vertical-align: top;\n    }\n\n    .dataframe thead th {\n        text-align: right;\n    }\n</style>\n<table border=\"1\" class=\"dataframe\">\n  <thead>\n    <tr style=\"text-align: right;\">\n      <th></th>\n      <th>W</th>\n      <th>X</th>\n      <th>Y</th>\n      <th>Z</th>\n      <th>XL</th>\n    </tr>\n  </thead>\n  <tbody>\n    <tr>\n      <th>A</th>\n      <td>0.822063</td>\n      <td>-1.392903</td>\n      <td>-1.183784</td>\n      <td>1.130498</td>\n      <td>1.038973</td>\n    </tr>\n    <tr>\n      <th>B</th>\n      <td>0.316999</td>\n      <td>0.760770</td>\n      <td>-0.535404</td>\n      <td>-0.538834</td>\n      <td>2.244849</td>\n    </tr>\n    <tr>\n      <th>C</th>\n      <td>0.668630</td>\n      <td>-1.157677</td>\n      <td>0.128438</td>\n      <td>2.906361</td>\n      <td>-1.637907</td>\n    </tr>\n    <tr>\n      <th>D</th>\n      <td>0.214054</td>\n      <td>0.321759</td>\n      <td>1.657027</td>\n      <td>-0.847870</td>\n      <td>1.110204</td>\n    </tr>\n    <tr>\n      <th>E</th>\n      <td>-0.093235</td>\n      <td>0.265486</td>\n      <td>0.392284</td>\n      <td>-0.589479</td>\n      <td>2.022411</td>\n    </tr>\n  </tbody>\n</table>\n</div>"
     },
     "execution_count": 22,
     "metadata": {},
     "output_type": "execute_result"
    }
   ],
   "source": [
    "df"
   ],
   "metadata": {
    "collapsed": false,
    "pycharm": {
     "name": "#%%\n"
    }
   }
  },
  {
   "cell_type": "code",
   "execution_count": 27,
   "outputs": [
    {
     "data": {
      "text/plain": "          W         X         Y         Z        XL\nA  0.822063 -1.392903 -1.183784  1.130498  1.038973\nB  0.316999  0.760770 -0.535404 -0.538834  2.244849\nC  0.668630 -1.157677  0.128438  2.906361 -1.637907\nD  0.214054  0.321759  1.657027 -0.847870  1.110204",
      "text/html": "<div>\n<style scoped>\n    .dataframe tbody tr th:only-of-type {\n        vertical-align: middle;\n    }\n\n    .dataframe tbody tr th {\n        vertical-align: top;\n    }\n\n    .dataframe thead th {\n        text-align: right;\n    }\n</style>\n<table border=\"1\" class=\"dataframe\">\n  <thead>\n    <tr style=\"text-align: right;\">\n      <th></th>\n      <th>W</th>\n      <th>X</th>\n      <th>Y</th>\n      <th>Z</th>\n      <th>XL</th>\n    </tr>\n  </thead>\n  <tbody>\n    <tr>\n      <th>A</th>\n      <td>0.822063</td>\n      <td>-1.392903</td>\n      <td>-1.183784</td>\n      <td>1.130498</td>\n      <td>1.038973</td>\n    </tr>\n    <tr>\n      <th>B</th>\n      <td>0.316999</td>\n      <td>0.760770</td>\n      <td>-0.535404</td>\n      <td>-0.538834</td>\n      <td>2.244849</td>\n    </tr>\n    <tr>\n      <th>C</th>\n      <td>0.668630</td>\n      <td>-1.157677</td>\n      <td>0.128438</td>\n      <td>2.906361</td>\n      <td>-1.637907</td>\n    </tr>\n    <tr>\n      <th>D</th>\n      <td>0.214054</td>\n      <td>0.321759</td>\n      <td>1.657027</td>\n      <td>-0.847870</td>\n      <td>1.110204</td>\n    </tr>\n  </tbody>\n</table>\n</div>"
     },
     "execution_count": 27,
     "metadata": {},
     "output_type": "execute_result"
    }
   ],
   "source": [
    "df[df['W']>0]"
   ],
   "metadata": {
    "collapsed": false,
    "pycharm": {
     "name": "#%%\n"
    }
   }
  },
  {
   "cell_type": "code",
   "execution_count": 37,
   "outputs": [
    {
     "data": {
      "text/plain": "          W        X         Y         Z        XL\nB  0.316999  0.76077 -0.535404 -0.538834  2.244849",
      "text/html": "<div>\n<style scoped>\n    .dataframe tbody tr th:only-of-type {\n        vertical-align: middle;\n    }\n\n    .dataframe tbody tr th {\n        vertical-align: top;\n    }\n\n    .dataframe thead th {\n        text-align: right;\n    }\n</style>\n<table border=\"1\" class=\"dataframe\">\n  <thead>\n    <tr style=\"text-align: right;\">\n      <th></th>\n      <th>W</th>\n      <th>X</th>\n      <th>Y</th>\n      <th>Z</th>\n      <th>XL</th>\n    </tr>\n  </thead>\n  <tbody>\n    <tr>\n      <th>B</th>\n      <td>0.316999</td>\n      <td>0.76077</td>\n      <td>-0.535404</td>\n      <td>-0.538834</td>\n      <td>2.244849</td>\n    </tr>\n  </tbody>\n</table>\n</div>"
     },
     "execution_count": 37,
     "metadata": {},
     "output_type": "execute_result"
    }
   ],
   "source": [
    "df[(df['W']>0) & (df['XL']>2)]"
   ],
   "metadata": {
    "collapsed": false,
    "pycharm": {
     "name": "#%%\n"
    }
   }
  },
  {
   "cell_type": "code",
   "execution_count": 38,
   "outputs": [
    {
     "data": {
      "text/plain": "          W         X         Y         Z        XL\nA  0.822063 -1.392903 -1.183784  1.130498  1.038973\nB  0.316999  0.760770 -0.535404 -0.538834  2.244849\nC  0.668630 -1.157677  0.128438  2.906361 -1.637907\nD  0.214054  0.321759  1.657027 -0.847870  1.110204\nE -0.093235  0.265486  0.392284 -0.589479  2.022411",
      "text/html": "<div>\n<style scoped>\n    .dataframe tbody tr th:only-of-type {\n        vertical-align: middle;\n    }\n\n    .dataframe tbody tr th {\n        vertical-align: top;\n    }\n\n    .dataframe thead th {\n        text-align: right;\n    }\n</style>\n<table border=\"1\" class=\"dataframe\">\n  <thead>\n    <tr style=\"text-align: right;\">\n      <th></th>\n      <th>W</th>\n      <th>X</th>\n      <th>Y</th>\n      <th>Z</th>\n      <th>XL</th>\n    </tr>\n  </thead>\n  <tbody>\n    <tr>\n      <th>A</th>\n      <td>0.822063</td>\n      <td>-1.392903</td>\n      <td>-1.183784</td>\n      <td>1.130498</td>\n      <td>1.038973</td>\n    </tr>\n    <tr>\n      <th>B</th>\n      <td>0.316999</td>\n      <td>0.760770</td>\n      <td>-0.535404</td>\n      <td>-0.538834</td>\n      <td>2.244849</td>\n    </tr>\n    <tr>\n      <th>C</th>\n      <td>0.668630</td>\n      <td>-1.157677</td>\n      <td>0.128438</td>\n      <td>2.906361</td>\n      <td>-1.637907</td>\n    </tr>\n    <tr>\n      <th>D</th>\n      <td>0.214054</td>\n      <td>0.321759</td>\n      <td>1.657027</td>\n      <td>-0.847870</td>\n      <td>1.110204</td>\n    </tr>\n    <tr>\n      <th>E</th>\n      <td>-0.093235</td>\n      <td>0.265486</td>\n      <td>0.392284</td>\n      <td>-0.589479</td>\n      <td>2.022411</td>\n    </tr>\n  </tbody>\n</table>\n</div>"
     },
     "execution_count": 38,
     "metadata": {},
     "output_type": "execute_result"
    }
   ],
   "source": [
    "df"
   ],
   "metadata": {
    "collapsed": false,
    "pycharm": {
     "name": "#%%\n"
    }
   }
  },
  {
   "cell_type": "code",
   "execution_count": 39,
   "outputs": [
    {
     "data": {
      "text/plain": "  index         W         X         Y         Z        XL\n0     A  0.822063 -1.392903 -1.183784  1.130498  1.038973\n1     B  0.316999  0.760770 -0.535404 -0.538834  2.244849\n2     C  0.668630 -1.157677  0.128438  2.906361 -1.637907\n3     D  0.214054  0.321759  1.657027 -0.847870  1.110204\n4     E -0.093235  0.265486  0.392284 -0.589479  2.022411",
      "text/html": "<div>\n<style scoped>\n    .dataframe tbody tr th:only-of-type {\n        vertical-align: middle;\n    }\n\n    .dataframe tbody tr th {\n        vertical-align: top;\n    }\n\n    .dataframe thead th {\n        text-align: right;\n    }\n</style>\n<table border=\"1\" class=\"dataframe\">\n  <thead>\n    <tr style=\"text-align: right;\">\n      <th></th>\n      <th>index</th>\n      <th>W</th>\n      <th>X</th>\n      <th>Y</th>\n      <th>Z</th>\n      <th>XL</th>\n    </tr>\n  </thead>\n  <tbody>\n    <tr>\n      <th>0</th>\n      <td>A</td>\n      <td>0.822063</td>\n      <td>-1.392903</td>\n      <td>-1.183784</td>\n      <td>1.130498</td>\n      <td>1.038973</td>\n    </tr>\n    <tr>\n      <th>1</th>\n      <td>B</td>\n      <td>0.316999</td>\n      <td>0.760770</td>\n      <td>-0.535404</td>\n      <td>-0.538834</td>\n      <td>2.244849</td>\n    </tr>\n    <tr>\n      <th>2</th>\n      <td>C</td>\n      <td>0.668630</td>\n      <td>-1.157677</td>\n      <td>0.128438</td>\n      <td>2.906361</td>\n      <td>-1.637907</td>\n    </tr>\n    <tr>\n      <th>3</th>\n      <td>D</td>\n      <td>0.214054</td>\n      <td>0.321759</td>\n      <td>1.657027</td>\n      <td>-0.847870</td>\n      <td>1.110204</td>\n    </tr>\n    <tr>\n      <th>4</th>\n      <td>E</td>\n      <td>-0.093235</td>\n      <td>0.265486</td>\n      <td>0.392284</td>\n      <td>-0.589479</td>\n      <td>2.022411</td>\n    </tr>\n  </tbody>\n</table>\n</div>"
     },
     "execution_count": 39,
     "metadata": {},
     "output_type": "execute_result"
    }
   ],
   "source": [
    "df.reset_index()"
   ],
   "metadata": {
    "collapsed": false,
    "pycharm": {
     "name": "#%%\n"
    }
   }
  },
  {
   "cell_type": "code",
   "execution_count": 44,
   "outputs": [
    {
     "data": {
      "text/plain": "['CA', 'NY', 'WY', 'OP', 'CO']"
     },
     "execution_count": 44,
     "metadata": {},
     "output_type": "execute_result"
    }
   ],
   "source": [
    "newInd = 'CA NY WY OP CO'.split()\n",
    "newInd"
   ],
   "metadata": {
    "collapsed": false,
    "pycharm": {
     "name": "#%%\n"
    }
   }
  },
  {
   "cell_type": "code",
   "execution_count": 45,
   "outputs": [],
   "source": [
    "df['States'] = newInd"
   ],
   "metadata": {
    "collapsed": false,
    "pycharm": {
     "name": "#%%\n"
    }
   }
  },
  {
   "cell_type": "code",
   "execution_count": 46,
   "outputs": [
    {
     "data": {
      "text/plain": "          W         X         Y         Z        XL States\nA  0.822063 -1.392903 -1.183784  1.130498  1.038973     CA\nB  0.316999  0.760770 -0.535404 -0.538834  2.244849     NY\nC  0.668630 -1.157677  0.128438  2.906361 -1.637907     WY\nD  0.214054  0.321759  1.657027 -0.847870  1.110204     OP\nE -0.093235  0.265486  0.392284 -0.589479  2.022411     CO",
      "text/html": "<div>\n<style scoped>\n    .dataframe tbody tr th:only-of-type {\n        vertical-align: middle;\n    }\n\n    .dataframe tbody tr th {\n        vertical-align: top;\n    }\n\n    .dataframe thead th {\n        text-align: right;\n    }\n</style>\n<table border=\"1\" class=\"dataframe\">\n  <thead>\n    <tr style=\"text-align: right;\">\n      <th></th>\n      <th>W</th>\n      <th>X</th>\n      <th>Y</th>\n      <th>Z</th>\n      <th>XL</th>\n      <th>States</th>\n    </tr>\n  </thead>\n  <tbody>\n    <tr>\n      <th>A</th>\n      <td>0.822063</td>\n      <td>-1.392903</td>\n      <td>-1.183784</td>\n      <td>1.130498</td>\n      <td>1.038973</td>\n      <td>CA</td>\n    </tr>\n    <tr>\n      <th>B</th>\n      <td>0.316999</td>\n      <td>0.760770</td>\n      <td>-0.535404</td>\n      <td>-0.538834</td>\n      <td>2.244849</td>\n      <td>NY</td>\n    </tr>\n    <tr>\n      <th>C</th>\n      <td>0.668630</td>\n      <td>-1.157677</td>\n      <td>0.128438</td>\n      <td>2.906361</td>\n      <td>-1.637907</td>\n      <td>WY</td>\n    </tr>\n    <tr>\n      <th>D</th>\n      <td>0.214054</td>\n      <td>0.321759</td>\n      <td>1.657027</td>\n      <td>-0.847870</td>\n      <td>1.110204</td>\n      <td>OP</td>\n    </tr>\n    <tr>\n      <th>E</th>\n      <td>-0.093235</td>\n      <td>0.265486</td>\n      <td>0.392284</td>\n      <td>-0.589479</td>\n      <td>2.022411</td>\n      <td>CO</td>\n    </tr>\n  </tbody>\n</table>\n</div>"
     },
     "execution_count": 46,
     "metadata": {},
     "output_type": "execute_result"
    }
   ],
   "source": [
    "df"
   ],
   "metadata": {
    "collapsed": false,
    "pycharm": {
     "name": "#%%\n"
    }
   }
  },
  {
   "cell_type": "code",
   "execution_count": 49,
   "outputs": [],
   "source": [
    "df.set_index('States' ,inplace=True)"
   ],
   "metadata": {
    "collapsed": false,
    "pycharm": {
     "name": "#%%\n"
    }
   }
  },
  {
   "cell_type": "code",
   "execution_count": 50,
   "outputs": [
    {
     "data": {
      "text/plain": "               W         X         Y         Z        XL\nStates                                                  \nCA      0.822063 -1.392903 -1.183784  1.130498  1.038973\nNY      0.316999  0.760770 -0.535404 -0.538834  2.244849\nWY      0.668630 -1.157677  0.128438  2.906361 -1.637907\nOP      0.214054  0.321759  1.657027 -0.847870  1.110204\nCO     -0.093235  0.265486  0.392284 -0.589479  2.022411",
      "text/html": "<div>\n<style scoped>\n    .dataframe tbody tr th:only-of-type {\n        vertical-align: middle;\n    }\n\n    .dataframe tbody tr th {\n        vertical-align: top;\n    }\n\n    .dataframe thead th {\n        text-align: right;\n    }\n</style>\n<table border=\"1\" class=\"dataframe\">\n  <thead>\n    <tr style=\"text-align: right;\">\n      <th></th>\n      <th>W</th>\n      <th>X</th>\n      <th>Y</th>\n      <th>Z</th>\n      <th>XL</th>\n    </tr>\n    <tr>\n      <th>States</th>\n      <th></th>\n      <th></th>\n      <th></th>\n      <th></th>\n      <th></th>\n    </tr>\n  </thead>\n  <tbody>\n    <tr>\n      <th>CA</th>\n      <td>0.822063</td>\n      <td>-1.392903</td>\n      <td>-1.183784</td>\n      <td>1.130498</td>\n      <td>1.038973</td>\n    </tr>\n    <tr>\n      <th>NY</th>\n      <td>0.316999</td>\n      <td>0.760770</td>\n      <td>-0.535404</td>\n      <td>-0.538834</td>\n      <td>2.244849</td>\n    </tr>\n    <tr>\n      <th>WY</th>\n      <td>0.668630</td>\n      <td>-1.157677</td>\n      <td>0.128438</td>\n      <td>2.906361</td>\n      <td>-1.637907</td>\n    </tr>\n    <tr>\n      <th>OP</th>\n      <td>0.214054</td>\n      <td>0.321759</td>\n      <td>1.657027</td>\n      <td>-0.847870</td>\n      <td>1.110204</td>\n    </tr>\n    <tr>\n      <th>CO</th>\n      <td>-0.093235</td>\n      <td>0.265486</td>\n      <td>0.392284</td>\n      <td>-0.589479</td>\n      <td>2.022411</td>\n    </tr>\n  </tbody>\n</table>\n</div>"
     },
     "execution_count": 50,
     "metadata": {},
     "output_type": "execute_result"
    }
   ],
   "source": [
    "df"
   ],
   "metadata": {
    "collapsed": false,
    "pycharm": {
     "name": "#%%\n"
    }
   }
  },
  {
   "cell_type": "code",
   "execution_count": null,
   "outputs": [],
   "source": [],
   "metadata": {
    "collapsed": false,
    "pycharm": {
     "name": "#%%\n"
    }
   }
  }
 ],
 "metadata": {
  "kernelspec": {
   "display_name": "Python 3",
   "language": "python",
   "name": "python3"
  },
  "language_info": {
   "codemirror_mode": {
    "name": "ipython",
    "version": 2
   },
   "file_extension": ".py",
   "mimetype": "text/x-python",
   "name": "python",
   "nbconvert_exporter": "python",
   "pygments_lexer": "ipython2",
   "version": "2.7.6"
  }
 },
 "nbformat": 4,
 "nbformat_minor": 0
}