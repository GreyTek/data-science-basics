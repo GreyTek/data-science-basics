{
 "cells": [
  {
   "cell_type": "code",
   "execution_count": 1,
   "metadata": {
    "collapsed": true,
    "pycharm": {
     "name": "#%%\n"
    }
   },
   "outputs": [],
   "source": [
    "import pandas as pd"
   ]
  },
  {
   "cell_type": "code",
   "execution_count": 2,
   "outputs": [],
   "source": [
    "ecom = pd.read_csv('Ecommerce')"
   ],
   "metadata": {
    "collapsed": false,
    "pycharm": {
     "name": "#%%\n"
    }
   }
  },
  {
   "cell_type": "code",
   "execution_count": 3,
   "outputs": [
    {
     "data": {
      "text/plain": "                                             Address    Lot AM or PM  \\\n0  16629 Pace Camp Apt. 448\\nAlexisborough, NE 77...  46 in       PM   \n1  9374 Jasmine Spurs Suite 508\\nSouth John, TN 8...  28 rn       PM   \n2                   Unit 0065 Box 5052\\nDPO AP 27450  94 vE       PM   \n3              7780 Julia Fords\\nNew Stacy, WA 45798  36 vm       PM   \n4  23012 Munoz Drive Suite 337\\nNew Cynthia, TX 5...  20 IE       AM   \n\n                                        Browser Info  \\\n0  Opera/9.56.(X11; Linux x86_64; sl-SI) Presto/2...   \n1  Opera/8.93.(Windows 98; Win 9x 4.90; en-US) Pr...   \n2  Mozilla/5.0 (compatible; MSIE 9.0; Windows NT ...   \n3  Mozilla/5.0 (Macintosh; Intel Mac OS X 10_8_0 ...   \n4  Opera/9.58.(X11; Linux x86_64; it-IT) Presto/2...   \n\n                           Company       Credit Card CC Exp Date  \\\n0                  Martinez-Herman  6011929061123406       02/20   \n1  Fletcher, Richards and Whitaker  3337758169645356       11/18   \n2       Simpson, Williams and Pham      675957666125       08/19   \n3  Williams, Marshall and Buchanan  6011578504430710       02/24   \n4        Brown, Watson and Andrews  6011456623207998       10/25   \n\n   CC Security Code                  CC Provider  \\\n0               900                 JCB 16 digit   \n1               561                   Mastercard   \n2               699                 JCB 16 digit   \n3               384                     Discover   \n4               678  Diners Club / Carte Blanche   \n\n                            Email                                     Job  \\\n0               pdunlap@yahoo.com  Scientist, product/process development   \n1              anthony41@reed.com                       Drilling engineer   \n2  amymiller@morales-harrison.com                Customer service manager   \n3     brent16@olson-robinson.info                       Drilling engineer   \n4     christopherwright@gmail.com                             Fine artist   \n\n        IP Address Language  Purchase Price  \n0  149.146.147.205       el           98.14  \n1     15.160.41.51       fr           70.73  \n2   132.207.160.22       de            0.95  \n3     30.250.74.19       es           78.04  \n4     24.140.33.94       es           77.82  ",
      "text/html": "<div>\n<style scoped>\n    .dataframe tbody tr th:only-of-type {\n        vertical-align: middle;\n    }\n\n    .dataframe tbody tr th {\n        vertical-align: top;\n    }\n\n    .dataframe thead th {\n        text-align: right;\n    }\n</style>\n<table border=\"1\" class=\"dataframe\">\n  <thead>\n    <tr style=\"text-align: right;\">\n      <th></th>\n      <th>Address</th>\n      <th>Lot</th>\n      <th>AM or PM</th>\n      <th>Browser Info</th>\n      <th>Company</th>\n      <th>Credit Card</th>\n      <th>CC Exp Date</th>\n      <th>CC Security Code</th>\n      <th>CC Provider</th>\n      <th>Email</th>\n      <th>Job</th>\n      <th>IP Address</th>\n      <th>Language</th>\n      <th>Purchase Price</th>\n    </tr>\n  </thead>\n  <tbody>\n    <tr>\n      <th>0</th>\n      <td>16629 Pace Camp Apt. 448\\nAlexisborough, NE 77...</td>\n      <td>46 in</td>\n      <td>PM</td>\n      <td>Opera/9.56.(X11; Linux x86_64; sl-SI) Presto/2...</td>\n      <td>Martinez-Herman</td>\n      <td>6011929061123406</td>\n      <td>02/20</td>\n      <td>900</td>\n      <td>JCB 16 digit</td>\n      <td>pdunlap@yahoo.com</td>\n      <td>Scientist, product/process development</td>\n      <td>149.146.147.205</td>\n      <td>el</td>\n      <td>98.14</td>\n    </tr>\n    <tr>\n      <th>1</th>\n      <td>9374 Jasmine Spurs Suite 508\\nSouth John, TN 8...</td>\n      <td>28 rn</td>\n      <td>PM</td>\n      <td>Opera/8.93.(Windows 98; Win 9x 4.90; en-US) Pr...</td>\n      <td>Fletcher, Richards and Whitaker</td>\n      <td>3337758169645356</td>\n      <td>11/18</td>\n      <td>561</td>\n      <td>Mastercard</td>\n      <td>anthony41@reed.com</td>\n      <td>Drilling engineer</td>\n      <td>15.160.41.51</td>\n      <td>fr</td>\n      <td>70.73</td>\n    </tr>\n    <tr>\n      <th>2</th>\n      <td>Unit 0065 Box 5052\\nDPO AP 27450</td>\n      <td>94 vE</td>\n      <td>PM</td>\n      <td>Mozilla/5.0 (compatible; MSIE 9.0; Windows NT ...</td>\n      <td>Simpson, Williams and Pham</td>\n      <td>675957666125</td>\n      <td>08/19</td>\n      <td>699</td>\n      <td>JCB 16 digit</td>\n      <td>amymiller@morales-harrison.com</td>\n      <td>Customer service manager</td>\n      <td>132.207.160.22</td>\n      <td>de</td>\n      <td>0.95</td>\n    </tr>\n    <tr>\n      <th>3</th>\n      <td>7780 Julia Fords\\nNew Stacy, WA 45798</td>\n      <td>36 vm</td>\n      <td>PM</td>\n      <td>Mozilla/5.0 (Macintosh; Intel Mac OS X 10_8_0 ...</td>\n      <td>Williams, Marshall and Buchanan</td>\n      <td>6011578504430710</td>\n      <td>02/24</td>\n      <td>384</td>\n      <td>Discover</td>\n      <td>brent16@olson-robinson.info</td>\n      <td>Drilling engineer</td>\n      <td>30.250.74.19</td>\n      <td>es</td>\n      <td>78.04</td>\n    </tr>\n    <tr>\n      <th>4</th>\n      <td>23012 Munoz Drive Suite 337\\nNew Cynthia, TX 5...</td>\n      <td>20 IE</td>\n      <td>AM</td>\n      <td>Opera/9.58.(X11; Linux x86_64; it-IT) Presto/2...</td>\n      <td>Brown, Watson and Andrews</td>\n      <td>6011456623207998</td>\n      <td>10/25</td>\n      <td>678</td>\n      <td>Diners Club / Carte Blanche</td>\n      <td>christopherwright@gmail.com</td>\n      <td>Fine artist</td>\n      <td>24.140.33.94</td>\n      <td>es</td>\n      <td>77.82</td>\n    </tr>\n  </tbody>\n</table>\n</div>"
     },
     "execution_count": 3,
     "metadata": {},
     "output_type": "execute_result"
    }
   ],
   "source": [
    "ecom.head(5)"
   ],
   "metadata": {
    "collapsed": false,
    "pycharm": {
     "name": "#%%\n"
    }
   }
  },
  {
   "cell_type": "code",
   "execution_count": 6,
   "outputs": [
    {
     "data": {
      "text/plain": "14"
     },
     "execution_count": 6,
     "metadata": {},
     "output_type": "execute_result"
    }
   ],
   "source": [
    "ecom.columns.value_counts().count()"
   ],
   "metadata": {
    "collapsed": false,
    "pycharm": {
     "name": "#%%\n"
    }
   }
  },
  {
   "cell_type": "code",
   "execution_count": 9,
   "outputs": [
    {
     "data": {
      "text/plain": "10000"
     },
     "execution_count": 9,
     "metadata": {},
     "output_type": "execute_result"
    }
   ],
   "source": [
    "len(ecom)"
   ],
   "metadata": {
    "collapsed": false,
    "pycharm": {
     "name": "#%%\n"
    }
   }
  },
  {
   "cell_type": "code",
   "execution_count": 10,
   "outputs": [
    {
     "data": {
      "text/plain": "<bound method DataFrame.info of                                                 Address    Lot AM or PM  \\\n0     16629 Pace Camp Apt. 448\\nAlexisborough, NE 77...  46 in       PM   \n1     9374 Jasmine Spurs Suite 508\\nSouth John, TN 8...  28 rn       PM   \n2                      Unit 0065 Box 5052\\nDPO AP 27450  94 vE       PM   \n3                 7780 Julia Fords\\nNew Stacy, WA 45798  36 vm       PM   \n4     23012 Munoz Drive Suite 337\\nNew Cynthia, TX 5...  20 IE       AM   \n...                                                 ...    ...      ...   \n9995      966 Castaneda Locks\\nWest Juliafurt, CO 96415  92 XI       PM   \n9996  832 Curtis Dam Suite 785\\nNorth Edwardburgh, T...  41 JY       AM   \n9997              Unit 4434 Box 6343\\nDPO AE 28026-0283  74 Zh       AM   \n9998               0096 English Rest\\nRoystad, IA 12457  74 cL       PM   \n9999     40674 Barrett Stravenue\\nGrimesville, WI 79682  64 Hr       AM   \n\n                                           Browser Info  \\\n0     Opera/9.56.(X11; Linux x86_64; sl-SI) Presto/2...   \n1     Opera/8.93.(Windows 98; Win 9x 4.90; en-US) Pr...   \n2     Mozilla/5.0 (compatible; MSIE 9.0; Windows NT ...   \n3     Mozilla/5.0 (Macintosh; Intel Mac OS X 10_8_0 ...   \n4     Opera/9.58.(X11; Linux x86_64; it-IT) Presto/2...   \n...                                                 ...   \n9995  Mozilla/5.0 (Windows NT 5.1) AppleWebKit/5352 ...   \n9996  Mozilla/5.0 (compatible; MSIE 9.0; Windows NT ...   \n9997  Mozilla/5.0 (Macintosh; U; Intel Mac OS X 10_7...   \n9998  Mozilla/5.0 (Macintosh; Intel Mac OS X 10_8_8;...   \n9999  Mozilla/5.0 (X11; Linux i686; rv:1.9.5.20) Gec...   \n\n                              Company       Credit Card CC Exp Date  \\\n0                     Martinez-Herman  6011929061123406       02/20   \n1     Fletcher, Richards and Whitaker  3337758169645356       11/18   \n2          Simpson, Williams and Pham      675957666125       08/19   \n3     Williams, Marshall and Buchanan  6011578504430710       02/24   \n4           Brown, Watson and Andrews  6011456623207998       10/25   \n...                               ...               ...         ...   \n9995                    Randall-Sloan   342945015358701       03/22   \n9996         Hale, Collins and Wilson   210033169205009       07/25   \n9997                     Anderson Ltd  6011539787356311       05/21   \n9998                         Cook Inc   180003348082930       11/17   \n9999                       Greene Inc  4139972901927273       02/19   \n\n      CC Security Code                  CC Provider  \\\n0                  900                 JCB 16 digit   \n1                  561                   Mastercard   \n2                  699                 JCB 16 digit   \n3                  384                     Discover   \n4                  678  Diners Club / Carte Blanche   \n...                ...                          ...   \n9995               838                 JCB 15 digit   \n9996               207                 JCB 16 digit   \n9997                 1                VISA 16 digit   \n9998               987             American Express   \n9999               302                 JCB 15 digit   \n\n                               Email                                     Job  \\\n0                  pdunlap@yahoo.com  Scientist, product/process development   \n1                 anthony41@reed.com                       Drilling engineer   \n2     amymiller@morales-harrison.com                Customer service manager   \n3        brent16@olson-robinson.info                       Drilling engineer   \n4        christopherwright@gmail.com                             Fine artist   \n...                              ...                                     ...   \n9995          iscott@wade-garner.com                              Printmaker   \n9996              mary85@hotmail.com                         Energy engineer   \n9997               tyler16@gmail.com                      Veterinary surgeon   \n9998         elizabethmoore@reid.net                Local government officer   \n9999           rachelford@vaughn.com                  Embryologist, clinical   \n\n           IP Address Language  Purchase Price  \n0     149.146.147.205       el           98.14  \n1        15.160.41.51       fr           70.73  \n2      132.207.160.22       de            0.95  \n3        30.250.74.19       es           78.04  \n4        24.140.33.94       es           77.82  \n...               ...      ...             ...  \n9995    29.73.197.114       it           82.21  \n9996   121.133.168.51       pt           25.63  \n9997    156.210.0.254       el           83.98  \n9998     55.78.26.143       es           38.84  \n9999  176.119.198.199       el           67.59  \n\n[10000 rows x 14 columns]>"
     },
     "execution_count": 10,
     "metadata": {},
     "output_type": "execute_result"
    }
   ],
   "source": [
    "ecom.info"
   ],
   "metadata": {
    "collapsed": false,
    "pycharm": {
     "name": "#%%\n"
    }
   }
  },
  {
   "cell_type": "code",
   "execution_count": 11,
   "outputs": [
    {
     "data": {
      "text/plain": "                                                Address    Lot AM or PM  \\\n0     16629 Pace Camp Apt. 448\\nAlexisborough, NE 77...  46 in       PM   \n1     9374 Jasmine Spurs Suite 508\\nSouth John, TN 8...  28 rn       PM   \n2                      Unit 0065 Box 5052\\nDPO AP 27450  94 vE       PM   \n3                 7780 Julia Fords\\nNew Stacy, WA 45798  36 vm       PM   \n4     23012 Munoz Drive Suite 337\\nNew Cynthia, TX 5...  20 IE       AM   \n...                                                 ...    ...      ...   \n9995      966 Castaneda Locks\\nWest Juliafurt, CO 96415  92 XI       PM   \n9996  832 Curtis Dam Suite 785\\nNorth Edwardburgh, T...  41 JY       AM   \n9997              Unit 4434 Box 6343\\nDPO AE 28026-0283  74 Zh       AM   \n9998               0096 English Rest\\nRoystad, IA 12457  74 cL       PM   \n9999     40674 Barrett Stravenue\\nGrimesville, WI 79682  64 Hr       AM   \n\n                                           Browser Info  \\\n0     Opera/9.56.(X11; Linux x86_64; sl-SI) Presto/2...   \n1     Opera/8.93.(Windows 98; Win 9x 4.90; en-US) Pr...   \n2     Mozilla/5.0 (compatible; MSIE 9.0; Windows NT ...   \n3     Mozilla/5.0 (Macintosh; Intel Mac OS X 10_8_0 ...   \n4     Opera/9.58.(X11; Linux x86_64; it-IT) Presto/2...   \n...                                                 ...   \n9995  Mozilla/5.0 (Windows NT 5.1) AppleWebKit/5352 ...   \n9996  Mozilla/5.0 (compatible; MSIE 9.0; Windows NT ...   \n9997  Mozilla/5.0 (Macintosh; U; Intel Mac OS X 10_7...   \n9998  Mozilla/5.0 (Macintosh; Intel Mac OS X 10_8_8;...   \n9999  Mozilla/5.0 (X11; Linux i686; rv:1.9.5.20) Gec...   \n\n                              Company       Credit Card CC Exp Date  \\\n0                     Martinez-Herman  6011929061123406       02/20   \n1     Fletcher, Richards and Whitaker  3337758169645356       11/18   \n2          Simpson, Williams and Pham      675957666125       08/19   \n3     Williams, Marshall and Buchanan  6011578504430710       02/24   \n4           Brown, Watson and Andrews  6011456623207998       10/25   \n...                               ...               ...         ...   \n9995                    Randall-Sloan   342945015358701       03/22   \n9996         Hale, Collins and Wilson   210033169205009       07/25   \n9997                     Anderson Ltd  6011539787356311       05/21   \n9998                         Cook Inc   180003348082930       11/17   \n9999                       Greene Inc  4139972901927273       02/19   \n\n      CC Security Code                  CC Provider  \\\n0                  900                 JCB 16 digit   \n1                  561                   Mastercard   \n2                  699                 JCB 16 digit   \n3                  384                     Discover   \n4                  678  Diners Club / Carte Blanche   \n...                ...                          ...   \n9995               838                 JCB 15 digit   \n9996               207                 JCB 16 digit   \n9997                 1                VISA 16 digit   \n9998               987             American Express   \n9999               302                 JCB 15 digit   \n\n                               Email                                     Job  \\\n0                  pdunlap@yahoo.com  Scientist, product/process development   \n1                 anthony41@reed.com                       Drilling engineer   \n2     amymiller@morales-harrison.com                Customer service manager   \n3        brent16@olson-robinson.info                       Drilling engineer   \n4        christopherwright@gmail.com                             Fine artist   \n...                              ...                                     ...   \n9995          iscott@wade-garner.com                              Printmaker   \n9996              mary85@hotmail.com                         Energy engineer   \n9997               tyler16@gmail.com                      Veterinary surgeon   \n9998         elizabethmoore@reid.net                Local government officer   \n9999           rachelford@vaughn.com                  Embryologist, clinical   \n\n           IP Address Language  Purchase Price  \n0     149.146.147.205       el           98.14  \n1        15.160.41.51       fr           70.73  \n2      132.207.160.22       de            0.95  \n3        30.250.74.19       es           78.04  \n4        24.140.33.94       es           77.82  \n...               ...      ...             ...  \n9995    29.73.197.114       it           82.21  \n9996   121.133.168.51       pt           25.63  \n9997    156.210.0.254       el           83.98  \n9998     55.78.26.143       es           38.84  \n9999  176.119.198.199       el           67.59  \n\n[10000 rows x 14 columns]",
      "text/html": "<div>\n<style scoped>\n    .dataframe tbody tr th:only-of-type {\n        vertical-align: middle;\n    }\n\n    .dataframe tbody tr th {\n        vertical-align: top;\n    }\n\n    .dataframe thead th {\n        text-align: right;\n    }\n</style>\n<table border=\"1\" class=\"dataframe\">\n  <thead>\n    <tr style=\"text-align: right;\">\n      <th></th>\n      <th>Address</th>\n      <th>Lot</th>\n      <th>AM or PM</th>\n      <th>Browser Info</th>\n      <th>Company</th>\n      <th>Credit Card</th>\n      <th>CC Exp Date</th>\n      <th>CC Security Code</th>\n      <th>CC Provider</th>\n      <th>Email</th>\n      <th>Job</th>\n      <th>IP Address</th>\n      <th>Language</th>\n      <th>Purchase Price</th>\n    </tr>\n  </thead>\n  <tbody>\n    <tr>\n      <th>0</th>\n      <td>16629 Pace Camp Apt. 448\\nAlexisborough, NE 77...</td>\n      <td>46 in</td>\n      <td>PM</td>\n      <td>Opera/9.56.(X11; Linux x86_64; sl-SI) Presto/2...</td>\n      <td>Martinez-Herman</td>\n      <td>6011929061123406</td>\n      <td>02/20</td>\n      <td>900</td>\n      <td>JCB 16 digit</td>\n      <td>pdunlap@yahoo.com</td>\n      <td>Scientist, product/process development</td>\n      <td>149.146.147.205</td>\n      <td>el</td>\n      <td>98.14</td>\n    </tr>\n    <tr>\n      <th>1</th>\n      <td>9374 Jasmine Spurs Suite 508\\nSouth John, TN 8...</td>\n      <td>28 rn</td>\n      <td>PM</td>\n      <td>Opera/8.93.(Windows 98; Win 9x 4.90; en-US) Pr...</td>\n      <td>Fletcher, Richards and Whitaker</td>\n      <td>3337758169645356</td>\n      <td>11/18</td>\n      <td>561</td>\n      <td>Mastercard</td>\n      <td>anthony41@reed.com</td>\n      <td>Drilling engineer</td>\n      <td>15.160.41.51</td>\n      <td>fr</td>\n      <td>70.73</td>\n    </tr>\n    <tr>\n      <th>2</th>\n      <td>Unit 0065 Box 5052\\nDPO AP 27450</td>\n      <td>94 vE</td>\n      <td>PM</td>\n      <td>Mozilla/5.0 (compatible; MSIE 9.0; Windows NT ...</td>\n      <td>Simpson, Williams and Pham</td>\n      <td>675957666125</td>\n      <td>08/19</td>\n      <td>699</td>\n      <td>JCB 16 digit</td>\n      <td>amymiller@morales-harrison.com</td>\n      <td>Customer service manager</td>\n      <td>132.207.160.22</td>\n      <td>de</td>\n      <td>0.95</td>\n    </tr>\n    <tr>\n      <th>3</th>\n      <td>7780 Julia Fords\\nNew Stacy, WA 45798</td>\n      <td>36 vm</td>\n      <td>PM</td>\n      <td>Mozilla/5.0 (Macintosh; Intel Mac OS X 10_8_0 ...</td>\n      <td>Williams, Marshall and Buchanan</td>\n      <td>6011578504430710</td>\n      <td>02/24</td>\n      <td>384</td>\n      <td>Discover</td>\n      <td>brent16@olson-robinson.info</td>\n      <td>Drilling engineer</td>\n      <td>30.250.74.19</td>\n      <td>es</td>\n      <td>78.04</td>\n    </tr>\n    <tr>\n      <th>4</th>\n      <td>23012 Munoz Drive Suite 337\\nNew Cynthia, TX 5...</td>\n      <td>20 IE</td>\n      <td>AM</td>\n      <td>Opera/9.58.(X11; Linux x86_64; it-IT) Presto/2...</td>\n      <td>Brown, Watson and Andrews</td>\n      <td>6011456623207998</td>\n      <td>10/25</td>\n      <td>678</td>\n      <td>Diners Club / Carte Blanche</td>\n      <td>christopherwright@gmail.com</td>\n      <td>Fine artist</td>\n      <td>24.140.33.94</td>\n      <td>es</td>\n      <td>77.82</td>\n    </tr>\n    <tr>\n      <th>...</th>\n      <td>...</td>\n      <td>...</td>\n      <td>...</td>\n      <td>...</td>\n      <td>...</td>\n      <td>...</td>\n      <td>...</td>\n      <td>...</td>\n      <td>...</td>\n      <td>...</td>\n      <td>...</td>\n      <td>...</td>\n      <td>...</td>\n      <td>...</td>\n    </tr>\n    <tr>\n      <th>9995</th>\n      <td>966 Castaneda Locks\\nWest Juliafurt, CO 96415</td>\n      <td>92 XI</td>\n      <td>PM</td>\n      <td>Mozilla/5.0 (Windows NT 5.1) AppleWebKit/5352 ...</td>\n      <td>Randall-Sloan</td>\n      <td>342945015358701</td>\n      <td>03/22</td>\n      <td>838</td>\n      <td>JCB 15 digit</td>\n      <td>iscott@wade-garner.com</td>\n      <td>Printmaker</td>\n      <td>29.73.197.114</td>\n      <td>it</td>\n      <td>82.21</td>\n    </tr>\n    <tr>\n      <th>9996</th>\n      <td>832 Curtis Dam Suite 785\\nNorth Edwardburgh, T...</td>\n      <td>41 JY</td>\n      <td>AM</td>\n      <td>Mozilla/5.0 (compatible; MSIE 9.0; Windows NT ...</td>\n      <td>Hale, Collins and Wilson</td>\n      <td>210033169205009</td>\n      <td>07/25</td>\n      <td>207</td>\n      <td>JCB 16 digit</td>\n      <td>mary85@hotmail.com</td>\n      <td>Energy engineer</td>\n      <td>121.133.168.51</td>\n      <td>pt</td>\n      <td>25.63</td>\n    </tr>\n    <tr>\n      <th>9997</th>\n      <td>Unit 4434 Box 6343\\nDPO AE 28026-0283</td>\n      <td>74 Zh</td>\n      <td>AM</td>\n      <td>Mozilla/5.0 (Macintosh; U; Intel Mac OS X 10_7...</td>\n      <td>Anderson Ltd</td>\n      <td>6011539787356311</td>\n      <td>05/21</td>\n      <td>1</td>\n      <td>VISA 16 digit</td>\n      <td>tyler16@gmail.com</td>\n      <td>Veterinary surgeon</td>\n      <td>156.210.0.254</td>\n      <td>el</td>\n      <td>83.98</td>\n    </tr>\n    <tr>\n      <th>9998</th>\n      <td>0096 English Rest\\nRoystad, IA 12457</td>\n      <td>74 cL</td>\n      <td>PM</td>\n      <td>Mozilla/5.0 (Macintosh; Intel Mac OS X 10_8_8;...</td>\n      <td>Cook Inc</td>\n      <td>180003348082930</td>\n      <td>11/17</td>\n      <td>987</td>\n      <td>American Express</td>\n      <td>elizabethmoore@reid.net</td>\n      <td>Local government officer</td>\n      <td>55.78.26.143</td>\n      <td>es</td>\n      <td>38.84</td>\n    </tr>\n    <tr>\n      <th>9999</th>\n      <td>40674 Barrett Stravenue\\nGrimesville, WI 79682</td>\n      <td>64 Hr</td>\n      <td>AM</td>\n      <td>Mozilla/5.0 (X11; Linux i686; rv:1.9.5.20) Gec...</td>\n      <td>Greene Inc</td>\n      <td>4139972901927273</td>\n      <td>02/19</td>\n      <td>302</td>\n      <td>JCB 15 digit</td>\n      <td>rachelford@vaughn.com</td>\n      <td>Embryologist, clinical</td>\n      <td>176.119.198.199</td>\n      <td>el</td>\n      <td>67.59</td>\n    </tr>\n  </tbody>\n</table>\n<p>10000 rows × 14 columns</p>\n</div>"
     },
     "execution_count": 11,
     "metadata": {},
     "output_type": "execute_result"
    }
   ],
   "source": [
    "ecom"
   ],
   "metadata": {
    "collapsed": false,
    "pycharm": {
     "name": "#%%\n"
    }
   }
  },
  {
   "cell_type": "code",
   "execution_count": 12,
   "outputs": [
    {
     "data": {
      "text/plain": "99.99"
     },
     "execution_count": 12,
     "metadata": {},
     "output_type": "execute_result"
    }
   ],
   "source": [
    "ecom['Purchase Price'].max()"
   ],
   "metadata": {
    "collapsed": false,
    "pycharm": {
     "name": "#%%\n"
    }
   }
  },
  {
   "cell_type": "code",
   "execution_count": 87,
   "outputs": [
    {
     "data": {
      "text/plain": "50.347302"
     },
     "execution_count": 87,
     "metadata": {},
     "output_type": "execute_result"
    }
   ],
   "source": [
    "ecom['Purchase Price'].mean()"
   ],
   "metadata": {
    "collapsed": false,
    "pycharm": {
     "name": "#%%\n"
    }
   }
  },
  {
   "cell_type": "code",
   "execution_count": 13,
   "outputs": [
    {
     "data": {
      "text/plain": "0.0"
     },
     "execution_count": 13,
     "metadata": {},
     "output_type": "execute_result"
    }
   ],
   "source": [
    "ecom['Purchase Price'].min()"
   ],
   "metadata": {
    "collapsed": false,
    "pycharm": {
     "name": "#%%\n"
    }
   }
  },
  {
   "cell_type": "code",
   "execution_count": 18,
   "outputs": [
    {
     "data": {
      "text/plain": "1098"
     },
     "execution_count": 18,
     "metadata": {},
     "output_type": "execute_result"
    }
   ],
   "source": [
    "len(ecom[ecom['Language']=='en'])"
   ],
   "metadata": {
    "collapsed": false,
    "pycharm": {
     "name": "#%%\n"
    }
   }
  },
  {
   "cell_type": "code",
   "execution_count": 21,
   "outputs": [
    {
     "data": {
      "text/plain": "10000"
     },
     "execution_count": 21,
     "metadata": {},
     "output_type": "execute_result"
    }
   ],
   "source": [
    "len(ecom['Job'].str.contains('Lawyer',case=False))"
   ],
   "metadata": {
    "collapsed": false,
    "pycharm": {
     "name": "#%%\n"
    }
   }
  },
  {
   "cell_type": "code",
   "execution_count": 22,
   "outputs": [],
   "source": [
    "def getLawyer(lawyer):\n",
    "    if 'lawyer' in lawyer.lower().split():\n",
    "        return True\n",
    "    return False"
   ],
   "metadata": {
    "collapsed": false,
    "pycharm": {
     "name": "#%%\n"
    }
   }
  },
  {
   "cell_type": "code",
   "execution_count": 24,
   "outputs": [
    {
     "data": {
      "text/plain": "10000"
     },
     "execution_count": 24,
     "metadata": {},
     "output_type": "execute_result"
    }
   ],
   "source": [
    "len(ecom['Job'].apply(lambda x : getLawyer(x)))"
   ],
   "metadata": {
    "collapsed": false,
    "pycharm": {
     "name": "#%%\n"
    }
   }
  },
  {
   "cell_type": "code",
   "execution_count": 29,
   "outputs": [
    {
     "data": {
      "text/plain": "5068"
     },
     "execution_count": 29,
     "metadata": {},
     "output_type": "execute_result"
    }
   ],
   "source": [
    "len(ecom[ecom['AM or PM']=='PM'])"
   ],
   "metadata": {
    "collapsed": false,
    "pycharm": {
     "name": "#%%\n"
    }
   }
  },
  {
   "cell_type": "code",
   "execution_count": 30,
   "outputs": [
    {
     "data": {
      "text/plain": "4932"
     },
     "execution_count": 30,
     "metadata": {},
     "output_type": "execute_result"
    }
   ],
   "source": [
    "len(ecom[ecom['AM or PM']=='AM'])"
   ],
   "metadata": {
    "collapsed": false,
    "pycharm": {
     "name": "#%%\n"
    }
   }
  },
  {
   "cell_type": "code",
   "execution_count": 31,
   "outputs": [
    {
     "data": {
      "text/plain": "                                               Address    Lot AM or PM  \\\n513  50398 Mccoy Rest Suite 597\\nSouth Garyborough,...  90 WT       AM   \n\n                                          Browser Info     Company  \\\n513  Mozilla/5.0 (iPod; U; CPU iPhone OS 3_2 like M...  Bright PLC   \n\n      Credit Card CC Exp Date  CC Security Code       CC Provider  \\\n513  630438419693       11/19               173  American Express   \n\n                Email              Job     IP Address Language  Purchase Price  \n513  jesse00@page.net  Energy engineer  156.70.208.94       ru            75.1  ",
      "text/html": "<div>\n<style scoped>\n    .dataframe tbody tr th:only-of-type {\n        vertical-align: middle;\n    }\n\n    .dataframe tbody tr th {\n        vertical-align: top;\n    }\n\n    .dataframe thead th {\n        text-align: right;\n    }\n</style>\n<table border=\"1\" class=\"dataframe\">\n  <thead>\n    <tr style=\"text-align: right;\">\n      <th></th>\n      <th>Address</th>\n      <th>Lot</th>\n      <th>AM or PM</th>\n      <th>Browser Info</th>\n      <th>Company</th>\n      <th>Credit Card</th>\n      <th>CC Exp Date</th>\n      <th>CC Security Code</th>\n      <th>CC Provider</th>\n      <th>Email</th>\n      <th>Job</th>\n      <th>IP Address</th>\n      <th>Language</th>\n      <th>Purchase Price</th>\n    </tr>\n  </thead>\n  <tbody>\n    <tr>\n      <th>513</th>\n      <td>50398 Mccoy Rest Suite 597\\nSouth Garyborough,...</td>\n      <td>90 WT</td>\n      <td>AM</td>\n      <td>Mozilla/5.0 (iPod; U; CPU iPhone OS 3_2 like M...</td>\n      <td>Bright PLC</td>\n      <td>630438419693</td>\n      <td>11/19</td>\n      <td>173</td>\n      <td>American Express</td>\n      <td>jesse00@page.net</td>\n      <td>Energy engineer</td>\n      <td>156.70.208.94</td>\n      <td>ru</td>\n      <td>75.1</td>\n    </tr>\n  </tbody>\n</table>\n</div>"
     },
     "execution_count": 31,
     "metadata": {},
     "output_type": "execute_result"
    }
   ],
   "source": [
    "ecom[ecom['Lot']=='90 WT']"
   ],
   "metadata": {
    "collapsed": false,
    "pycharm": {
     "name": "#%%\n"
    }
   }
  },
  {
   "cell_type": "code",
   "execution_count": 34,
   "outputs": [
    {
     "data": {
      "text/plain": "Interior and spatial designer    31\nLawyer                           30\nSocial researcher                28\nPurchasing manager               27\nDesigner, jewellery              27\nName: Job, dtype: int64"
     },
     "execution_count": 34,
     "metadata": {},
     "output_type": "execute_result"
    }
   ],
   "source": [
    "ecom['Job'].value_counts().head(5)"
   ],
   "metadata": {
    "collapsed": false,
    "pycharm": {
     "name": "#%%\n"
    }
   }
  },
  {
   "cell_type": "code",
   "execution_count": 37,
   "outputs": [
    {
     "data": {
      "text/plain": "9        True\n17      False\n37      False\n45      False\n51      False\n        ...  \n9942    False\n9944    False\n9965    False\n9973    False\n9998    False\nName: Purchase Price, Length: 849, dtype: bool"
     },
     "execution_count": 37,
     "metadata": {},
     "output_type": "execute_result"
    }
   ],
   "source": [
    "ecom[ecom['CC Provider']=='American Express']['Purchase Price']>95"
   ],
   "metadata": {
    "collapsed": false,
    "pycharm": {
     "name": "#%%\n"
    }
   }
  },
  {
   "cell_type": "code",
   "execution_count": 39,
   "outputs": [
    {
     "data": {
      "text/plain": "39"
     },
     "execution_count": 39,
     "metadata": {},
     "output_type": "execute_result"
    }
   ],
   "source": [
    "len(ecom[(ecom['CC Provider']=='American Express') & (ecom['Purchase Price']>95)])"
   ],
   "metadata": {
    "collapsed": false,
    "pycharm": {
     "name": "#%%\n"
    }
   }
  },
  {
   "cell_type": "code",
   "execution_count": 49,
   "outputs": [],
   "source": [
    "def getExpiry(date):\n",
    "    if '25' in date.lower().split():\n",
    "        return True\n",
    "    return False"
   ],
   "metadata": {
    "collapsed": false,
    "pycharm": {
     "name": "#%%\n"
    }
   }
  },
  {
   "cell_type": "code",
   "execution_count": 50,
   "outputs": [
    {
     "data": {
      "text/plain": "Empty DataFrame\nColumns: [Address, Lot, AM or PM, Browser Info, Company, Credit Card, CC Exp Date, CC Security Code, CC Provider, Email, Job, IP Address, Language, Purchase Price]\nIndex: []",
      "text/html": "<div>\n<style scoped>\n    .dataframe tbody tr th:only-of-type {\n        vertical-align: middle;\n    }\n\n    .dataframe tbody tr th {\n        vertical-align: top;\n    }\n\n    .dataframe thead th {\n        text-align: right;\n    }\n</style>\n<table border=\"1\" class=\"dataframe\">\n  <thead>\n    <tr style=\"text-align: right;\">\n      <th></th>\n      <th>Address</th>\n      <th>Lot</th>\n      <th>AM or PM</th>\n      <th>Browser Info</th>\n      <th>Company</th>\n      <th>Credit Card</th>\n      <th>CC Exp Date</th>\n      <th>CC Security Code</th>\n      <th>CC Provider</th>\n      <th>Email</th>\n      <th>Job</th>\n      <th>IP Address</th>\n      <th>Language</th>\n      <th>Purchase Price</th>\n    </tr>\n  </thead>\n  <tbody>\n  </tbody>\n</table>\n</div>"
     },
     "execution_count": 50,
     "metadata": {},
     "output_type": "execute_result"
    }
   ],
   "source": [
    "ecom[(ecom['Credit Card']) & (ecom['CC Exp Date'].apply(lambda x: getExpiry(x)))]"
   ],
   "metadata": {
    "collapsed": false,
    "pycharm": {
     "name": "#%%\n"
    }
   }
  },
  {
   "cell_type": "code",
   "execution_count": 51,
   "outputs": [
    {
     "data": {
      "text/plain": "Empty DataFrame\nColumns: [Address, Lot, AM or PM, Browser Info, Company, Credit Card, CC Exp Date, CC Security Code, CC Provider, Email, Job, IP Address, Language, Purchase Price]\nIndex: []",
      "text/html": "<div>\n<style scoped>\n    .dataframe tbody tr th:only-of-type {\n        vertical-align: middle;\n    }\n\n    .dataframe tbody tr th {\n        vertical-align: top;\n    }\n\n    .dataframe thead th {\n        text-align: right;\n    }\n</style>\n<table border=\"1\" class=\"dataframe\">\n  <thead>\n    <tr style=\"text-align: right;\">\n      <th></th>\n      <th>Address</th>\n      <th>Lot</th>\n      <th>AM or PM</th>\n      <th>Browser Info</th>\n      <th>Company</th>\n      <th>Credit Card</th>\n      <th>CC Exp Date</th>\n      <th>CC Security Code</th>\n      <th>CC Provider</th>\n      <th>Email</th>\n      <th>Job</th>\n      <th>IP Address</th>\n      <th>Language</th>\n      <th>Purchase Price</th>\n    </tr>\n  </thead>\n  <tbody>\n  </tbody>\n</table>\n</div>"
     },
     "execution_count": 51,
     "metadata": {},
     "output_type": "execute_result"
    }
   ],
   "source": [
    "ecom[(ecom['Credit Card']) & (ecom['CC Exp Date'].apply(lambda x:getExpiry(x)))]"
   ],
   "metadata": {
    "collapsed": false,
    "pycharm": {
     "name": "#%%\n"
    }
   }
  },
  {
   "cell_type": "code",
   "execution_count": 53,
   "outputs": [
    {
     "data": {
      "text/plain": "10000"
     },
     "execution_count": 53,
     "metadata": {},
     "output_type": "execute_result"
    }
   ],
   "source": [
    "len(ecom['CC Exp Date'].apply(lambda x : getExpiry(x)))"
   ],
   "metadata": {
    "collapsed": false,
    "pycharm": {
     "name": "#%%\n"
    }
   }
  },
  {
   "cell_type": "code",
   "execution_count": 55,
   "outputs": [
    {
     "data": {
      "text/plain": "10000"
     },
     "execution_count": 55,
     "metadata": {},
     "output_type": "execute_result"
    }
   ],
   "source": [
    "len(ecom['CC Provider'].str.contains('25'))"
   ],
   "metadata": {
    "collapsed": false,
    "pycharm": {
     "name": "#%%\n"
    }
   }
  },
  {
   "cell_type": "code",
   "execution_count": 67,
   "outputs": [],
   "source": [
    "def getEmail(str):\n",
    "    str1 = str.split('@')\n",
    "    return str1[1]"
   ],
   "metadata": {
    "collapsed": false,
    "pycharm": {
     "name": "#%%\n"
    }
   }
  },
  {
   "cell_type": "code",
   "execution_count": 69,
   "outputs": [
    {
     "data": {
      "text/plain": "'gmail.com'"
     },
     "execution_count": 69,
     "metadata": {},
     "output_type": "execute_result"
    }
   ],
   "source": [
    "getEmail('hammadhudhy@gmail.com')"
   ],
   "metadata": {
    "collapsed": false,
    "pycharm": {
     "name": "#%%\n"
    }
   }
  },
  {
   "cell_type": "code",
   "execution_count": 71,
   "outputs": [],
   "source": [
    "ecom['Email Provider'] = ecom['Email'].apply(lambda x : getEmail(x))"
   ],
   "metadata": {
    "collapsed": false,
    "pycharm": {
     "name": "#%%\n"
    }
   }
  },
  {
   "cell_type": "code",
   "execution_count": 72,
   "outputs": [
    {
     "data": {
      "text/plain": "0                  yahoo.com\n1                   reed.com\n2       morales-harrison.com\n3        olson-robinson.info\n4                  gmail.com\n                ...         \n9995         wade-garner.com\n9996             hotmail.com\n9997               gmail.com\n9998                reid.net\n9999              vaughn.com\nName: Email Provider, Length: 10000, dtype: object"
     },
     "execution_count": 72,
     "metadata": {},
     "output_type": "execute_result"
    }
   ],
   "source": [
    "ecom['Email Provider']"
   ],
   "metadata": {
    "collapsed": false,
    "pycharm": {
     "name": "#%%\n"
    }
   }
  },
  {
   "cell_type": "markdown",
   "source": [],
   "metadata": {
    "collapsed": false,
    "pycharm": {
     "name": "#%% md\n"
    }
   }
  },
  {
   "cell_type": "code",
   "execution_count": 74,
   "outputs": [
    {
     "data": {
      "text/plain": "hotmail.com     1638\nyahoo.com       1616\ngmail.com       1605\nsmith.com         42\nwilliams.com      37\nName: Email Provider, dtype: int64"
     },
     "execution_count": 74,
     "metadata": {},
     "output_type": "execute_result"
    }
   ],
   "source": [
    "ecom['Email Provider'].value_counts().head(5)"
   ],
   "metadata": {
    "collapsed": false,
    "pycharm": {
     "name": "#%%\n"
    }
   }
  },
  {
   "cell_type": "code",
   "execution_count": 86,
   "outputs": [
    {
     "ename": "TypeError",
     "evalue": "unsupported operand type(s) for &: 'str' and 'bool'",
     "output_type": "error",
     "traceback": [
      "\u001B[1;31m---------------------------------------------------------------------------\u001B[0m",
      "\u001B[1;31mTypeError\u001B[0m                                 Traceback (most recent call last)",
      "\u001B[1;32m~\\AppData\\Local\\Programs\\Python\\Python36\\lib\\site-packages\\pandas\\core\\ops\\array_ops.py\u001B[0m in \u001B[0;36mna_logical_op\u001B[1;34m(x, y, op)\u001B[0m\n\u001B[0;32m    265\u001B[0m         \u001B[1;31m#  (xint or xbool) and (yint or bool)\u001B[0m\u001B[1;33m\u001B[0m\u001B[1;33m\u001B[0m\u001B[1;33m\u001B[0m\u001B[0m\n\u001B[1;32m--> 266\u001B[1;33m         \u001B[0mresult\u001B[0m \u001B[1;33m=\u001B[0m \u001B[0mop\u001B[0m\u001B[1;33m(\u001B[0m\u001B[0mx\u001B[0m\u001B[1;33m,\u001B[0m \u001B[0my\u001B[0m\u001B[1;33m)\u001B[0m\u001B[1;33m\u001B[0m\u001B[1;33m\u001B[0m\u001B[0m\n\u001B[0m\u001B[0;32m    267\u001B[0m     \u001B[1;32mexcept\u001B[0m \u001B[0mTypeError\u001B[0m\u001B[1;33m:\u001B[0m\u001B[1;33m\u001B[0m\u001B[1;33m\u001B[0m\u001B[0m\n",
      "\u001B[1;31mTypeError\u001B[0m: unsupported operand type(s) for &: 'str' and 'bool'",
      "\nDuring handling of the above exception, another exception occurred:\n",
      "\u001B[1;31mTypeError\u001B[0m                                 Traceback (most recent call last)",
      "\u001B[1;32m<ipython-input-86-85ba10f916c3>\u001B[0m in \u001B[0;36m<module>\u001B[1;34m\u001B[0m\n\u001B[1;32m----> 1\u001B[1;33m \u001B[0mecom\u001B[0m\u001B[1;33m[\u001B[0m\u001B[1;33m(\u001B[0m\u001B[0mecom\u001B[0m\u001B[1;33m[\u001B[0m\u001B[1;34m'Email'\u001B[0m\u001B[1;33m]\u001B[0m\u001B[1;33m)\u001B[0m \u001B[1;33m&\u001B[0m \u001B[1;33m(\u001B[0m\u001B[0mecom\u001B[0m\u001B[1;33m[\u001B[0m\u001B[1;34m'Credit Card'\u001B[0m\u001B[1;33m]\u001B[0m \u001B[1;33m==\u001B[0m \u001B[1;34m'675957666125'\u001B[0m\u001B[1;33m)\u001B[0m\u001B[1;33m]\u001B[0m\u001B[1;33m\u001B[0m\u001B[1;33m\u001B[0m\u001B[0m\n\u001B[0m",
      "\u001B[1;32m~\\AppData\\Local\\Programs\\Python\\Python36\\lib\\site-packages\\pandas\\core\\ops\\common.py\u001B[0m in \u001B[0;36mnew_method\u001B[1;34m(self, other)\u001B[0m\n\u001B[0;32m     63\u001B[0m         \u001B[0mother\u001B[0m \u001B[1;33m=\u001B[0m \u001B[0mitem_from_zerodim\u001B[0m\u001B[1;33m(\u001B[0m\u001B[0mother\u001B[0m\u001B[1;33m)\u001B[0m\u001B[1;33m\u001B[0m\u001B[1;33m\u001B[0m\u001B[0m\n\u001B[0;32m     64\u001B[0m \u001B[1;33m\u001B[0m\u001B[0m\n\u001B[1;32m---> 65\u001B[1;33m         \u001B[1;32mreturn\u001B[0m \u001B[0mmethod\u001B[0m\u001B[1;33m(\u001B[0m\u001B[0mself\u001B[0m\u001B[1;33m,\u001B[0m \u001B[0mother\u001B[0m\u001B[1;33m)\u001B[0m\u001B[1;33m\u001B[0m\u001B[1;33m\u001B[0m\u001B[0m\n\u001B[0m\u001B[0;32m     66\u001B[0m \u001B[1;33m\u001B[0m\u001B[0m\n\u001B[0;32m     67\u001B[0m     \u001B[1;32mreturn\u001B[0m \u001B[0mnew_method\u001B[0m\u001B[1;33m\u001B[0m\u001B[1;33m\u001B[0m\u001B[0m\n",
      "\u001B[1;32m~\\AppData\\Local\\Programs\\Python\\Python36\\lib\\site-packages\\pandas\\core\\ops\\__init__.py\u001B[0m in \u001B[0;36mwrapper\u001B[1;34m(self, other)\u001B[0m\n\u001B[0;32m    392\u001B[0m         \u001B[0mrvalues\u001B[0m \u001B[1;33m=\u001B[0m \u001B[0mextract_array\u001B[0m\u001B[1;33m(\u001B[0m\u001B[0mother\u001B[0m\u001B[1;33m,\u001B[0m \u001B[0mextract_numpy\u001B[0m\u001B[1;33m=\u001B[0m\u001B[1;32mTrue\u001B[0m\u001B[1;33m)\u001B[0m\u001B[1;33m\u001B[0m\u001B[1;33m\u001B[0m\u001B[0m\n\u001B[0;32m    393\u001B[0m \u001B[1;33m\u001B[0m\u001B[0m\n\u001B[1;32m--> 394\u001B[1;33m         \u001B[0mres_values\u001B[0m \u001B[1;33m=\u001B[0m \u001B[0mlogical_op\u001B[0m\u001B[1;33m(\u001B[0m\u001B[0mlvalues\u001B[0m\u001B[1;33m,\u001B[0m \u001B[0mrvalues\u001B[0m\u001B[1;33m,\u001B[0m \u001B[0mop\u001B[0m\u001B[1;33m)\u001B[0m\u001B[1;33m\u001B[0m\u001B[1;33m\u001B[0m\u001B[0m\n\u001B[0m\u001B[0;32m    395\u001B[0m         \u001B[1;32mreturn\u001B[0m \u001B[0mself\u001B[0m\u001B[1;33m.\u001B[0m\u001B[0m_construct_result\u001B[0m\u001B[1;33m(\u001B[0m\u001B[0mres_values\u001B[0m\u001B[1;33m,\u001B[0m \u001B[0mname\u001B[0m\u001B[1;33m=\u001B[0m\u001B[0mres_name\u001B[0m\u001B[1;33m)\u001B[0m\u001B[1;33m\u001B[0m\u001B[1;33m\u001B[0m\u001B[0m\n\u001B[0;32m    396\u001B[0m \u001B[1;33m\u001B[0m\u001B[0m\n",
      "\u001B[1;32m~\\AppData\\Local\\Programs\\Python\\Python36\\lib\\site-packages\\pandas\\core\\ops\\array_ops.py\u001B[0m in \u001B[0;36mlogical_op\u001B[1;34m(left, right, op)\u001B[0m\n\u001B[0;32m    354\u001B[0m         \u001B[0mfiller\u001B[0m \u001B[1;33m=\u001B[0m \u001B[0mfill_int\u001B[0m \u001B[1;32mif\u001B[0m \u001B[0mis_self_int_dtype\u001B[0m \u001B[1;32mand\u001B[0m \u001B[0mis_other_int_dtype\u001B[0m \u001B[1;32melse\u001B[0m \u001B[0mfill_bool\u001B[0m\u001B[1;33m\u001B[0m\u001B[1;33m\u001B[0m\u001B[0m\n\u001B[0;32m    355\u001B[0m \u001B[1;33m\u001B[0m\u001B[0m\n\u001B[1;32m--> 356\u001B[1;33m         \u001B[0mres_values\u001B[0m \u001B[1;33m=\u001B[0m \u001B[0mna_logical_op\u001B[0m\u001B[1;33m(\u001B[0m\u001B[0mlvalues\u001B[0m\u001B[1;33m,\u001B[0m \u001B[0mrvalues\u001B[0m\u001B[1;33m,\u001B[0m \u001B[0mop\u001B[0m\u001B[1;33m)\u001B[0m\u001B[1;33m\u001B[0m\u001B[1;33m\u001B[0m\u001B[0m\n\u001B[0m\u001B[0;32m    357\u001B[0m         \u001B[0mres_values\u001B[0m \u001B[1;33m=\u001B[0m \u001B[0mfiller\u001B[0m\u001B[1;33m(\u001B[0m\u001B[0mres_values\u001B[0m\u001B[1;33m)\u001B[0m  \u001B[1;31m# type: ignore\u001B[0m\u001B[1;33m\u001B[0m\u001B[1;33m\u001B[0m\u001B[0m\n\u001B[0;32m    358\u001B[0m \u001B[1;33m\u001B[0m\u001B[0m\n",
      "\u001B[1;32m~\\AppData\\Local\\Programs\\Python\\Python36\\lib\\site-packages\\pandas\\core\\ops\\array_ops.py\u001B[0m in \u001B[0;36mna_logical_op\u001B[1;34m(x, y, op)\u001B[0m\n\u001B[0;32m    271\u001B[0m             \u001B[0mx\u001B[0m \u001B[1;33m=\u001B[0m \u001B[0mensure_object\u001B[0m\u001B[1;33m(\u001B[0m\u001B[0mx\u001B[0m\u001B[1;33m)\u001B[0m\u001B[1;33m\u001B[0m\u001B[1;33m\u001B[0m\u001B[0m\n\u001B[0;32m    272\u001B[0m             \u001B[0my\u001B[0m \u001B[1;33m=\u001B[0m \u001B[0mensure_object\u001B[0m\u001B[1;33m(\u001B[0m\u001B[0my\u001B[0m\u001B[1;33m)\u001B[0m\u001B[1;33m\u001B[0m\u001B[1;33m\u001B[0m\u001B[0m\n\u001B[1;32m--> 273\u001B[1;33m             \u001B[0mresult\u001B[0m \u001B[1;33m=\u001B[0m \u001B[0mlibops\u001B[0m\u001B[1;33m.\u001B[0m\u001B[0mvec_binop\u001B[0m\u001B[1;33m(\u001B[0m\u001B[0mx\u001B[0m\u001B[1;33m.\u001B[0m\u001B[0mravel\u001B[0m\u001B[1;33m(\u001B[0m\u001B[1;33m)\u001B[0m\u001B[1;33m,\u001B[0m \u001B[0my\u001B[0m\u001B[1;33m.\u001B[0m\u001B[0mravel\u001B[0m\u001B[1;33m(\u001B[0m\u001B[1;33m)\u001B[0m\u001B[1;33m,\u001B[0m \u001B[0mop\u001B[0m\u001B[1;33m)\u001B[0m\u001B[1;33m\u001B[0m\u001B[1;33m\u001B[0m\u001B[0m\n\u001B[0m\u001B[0;32m    274\u001B[0m         \u001B[1;32melse\u001B[0m\u001B[1;33m:\u001B[0m\u001B[1;33m\u001B[0m\u001B[1;33m\u001B[0m\u001B[0m\n\u001B[0;32m    275\u001B[0m             \u001B[1;31m# let null fall thru\u001B[0m\u001B[1;33m\u001B[0m\u001B[1;33m\u001B[0m\u001B[1;33m\u001B[0m\u001B[0m\n",
      "\u001B[1;32mpandas\\_libs\\ops.pyx\u001B[0m in \u001B[0;36mpandas._libs.ops.vec_binop\u001B[1;34m()\u001B[0m\n",
      "\u001B[1;32mpandas\\_libs\\ops.pyx\u001B[0m in \u001B[0;36mpandas._libs.ops.vec_binop\u001B[1;34m()\u001B[0m\n",
      "\u001B[1;31mTypeError\u001B[0m: unsupported operand type(s) for &: 'str' and 'bool'"
     ]
    }
   ],
   "source": [
    "ecom[(ecom['Email']) & (ecom['Credit Card'] == '675957666125')]"
   ],
   "metadata": {
    "collapsed": false,
    "pycharm": {
     "name": "#%%\n"
    }
   }
  },
  {
   "cell_type": "code",
   "execution_count": 82,
   "outputs": [
    {
     "data": {
      "text/plain": "0       4926535242672853\n1       4926535242672853\n2       4926535242672853\n3       4926535242672853\n4       4926535242672853\n              ...       \n9995    4926535242672853\n9996    4926535242672853\n9997    4926535242672853\n9998    4926535242672853\n9999    4926535242672853\nName: Credit Card, Length: 10000, dtype: int64"
     },
     "execution_count": 82,
     "metadata": {},
     "output_type": "execute_result"
    }
   ],
   "source": [
    "ecom['Credit Card']"
   ],
   "metadata": {
    "collapsed": false,
    "pycharm": {
     "name": "#%%\n"
    }
   }
  },
  {
   "cell_type": "code",
   "execution_count": 88,
   "outputs": [
    {
     "data": {
      "text/plain": "                                                Address    Lot AM or PM  \\\n0     16629 Pace Camp Apt. 448\\nAlexisborough, NE 77...  46 in       PM   \n1     9374 Jasmine Spurs Suite 508\\nSouth John, TN 8...  28 rn       PM   \n2                      Unit 0065 Box 5052\\nDPO AP 27450  94 vE       PM   \n3                 7780 Julia Fords\\nNew Stacy, WA 45798  36 vm       PM   \n4     23012 Munoz Drive Suite 337\\nNew Cynthia, TX 5...  20 IE       AM   \n...                                                 ...    ...      ...   \n9995      966 Castaneda Locks\\nWest Juliafurt, CO 96415  92 XI       PM   \n9996  832 Curtis Dam Suite 785\\nNorth Edwardburgh, T...  41 JY       AM   \n9997              Unit 4434 Box 6343\\nDPO AE 28026-0283  74 Zh       AM   \n9998               0096 English Rest\\nRoystad, IA 12457  74 cL       PM   \n9999     40674 Barrett Stravenue\\nGrimesville, WI 79682  64 Hr       AM   \n\n                                           Browser Info  \\\n0     Opera/9.56.(X11; Linux x86_64; sl-SI) Presto/2...   \n1     Opera/8.93.(Windows 98; Win 9x 4.90; en-US) Pr...   \n2     Mozilla/5.0 (compatible; MSIE 9.0; Windows NT ...   \n3     Mozilla/5.0 (Macintosh; Intel Mac OS X 10_8_0 ...   \n4     Opera/9.58.(X11; Linux x86_64; it-IT) Presto/2...   \n...                                                 ...   \n9995  Mozilla/5.0 (Windows NT 5.1) AppleWebKit/5352 ...   \n9996  Mozilla/5.0 (compatible; MSIE 9.0; Windows NT ...   \n9997  Mozilla/5.0 (Macintosh; U; Intel Mac OS X 10_7...   \n9998  Mozilla/5.0 (Macintosh; Intel Mac OS X 10_8_8;...   \n9999  Mozilla/5.0 (X11; Linux i686; rv:1.9.5.20) Gec...   \n\n                              Company       Credit Card CC Exp Date  \\\n0                     Martinez-Herman  4926535242672853       02/20   \n1     Fletcher, Richards and Whitaker  4926535242672853       11/18   \n2          Simpson, Williams and Pham  4926535242672853       08/19   \n3     Williams, Marshall and Buchanan  4926535242672853       02/24   \n4           Brown, Watson and Andrews  4926535242672853       10/25   \n...                               ...               ...         ...   \n9995                    Randall-Sloan  4926535242672853       03/22   \n9996         Hale, Collins and Wilson  4926535242672853       07/25   \n9997                     Anderson Ltd  4926535242672853       05/21   \n9998                         Cook Inc  4926535242672853       11/17   \n9999                       Greene Inc  4926535242672853       02/19   \n\n      CC Security Code                  CC Provider  \\\n0                  900                 JCB 16 digit   \n1                  561                   Mastercard   \n2                  699                 JCB 16 digit   \n3                  384                     Discover   \n4                  678  Diners Club / Carte Blanche   \n...                ...                          ...   \n9995               838                 JCB 15 digit   \n9996               207                 JCB 16 digit   \n9997                 1                VISA 16 digit   \n9998               987             American Express   \n9999               302                 JCB 15 digit   \n\n                               Email                                     Job  \\\n0                  pdunlap@yahoo.com  Scientist, product/process development   \n1                 anthony41@reed.com                       Drilling engineer   \n2     amymiller@morales-harrison.com                Customer service manager   \n3        brent16@olson-robinson.info                       Drilling engineer   \n4        christopherwright@gmail.com                             Fine artist   \n...                              ...                                     ...   \n9995          iscott@wade-garner.com                              Printmaker   \n9996              mary85@hotmail.com                         Energy engineer   \n9997               tyler16@gmail.com                      Veterinary surgeon   \n9998         elizabethmoore@reid.net                Local government officer   \n9999           rachelford@vaughn.com                  Embryologist, clinical   \n\n           IP Address Language  Purchase Price        Email Provider  \n0     149.146.147.205       el           98.14             yahoo.com  \n1        15.160.41.51       fr           70.73              reed.com  \n2      132.207.160.22       de            0.95  morales-harrison.com  \n3        30.250.74.19       es           78.04   olson-robinson.info  \n4        24.140.33.94       es           77.82             gmail.com  \n...               ...      ...             ...                   ...  \n9995    29.73.197.114       it           82.21       wade-garner.com  \n9996   121.133.168.51       pt           25.63           hotmail.com  \n9997    156.210.0.254       el           83.98             gmail.com  \n9998     55.78.26.143       es           38.84              reid.net  \n9999  176.119.198.199       el           67.59            vaughn.com  \n\n[10000 rows x 15 columns]",
      "text/html": "<div>\n<style scoped>\n    .dataframe tbody tr th:only-of-type {\n        vertical-align: middle;\n    }\n\n    .dataframe tbody tr th {\n        vertical-align: top;\n    }\n\n    .dataframe thead th {\n        text-align: right;\n    }\n</style>\n<table border=\"1\" class=\"dataframe\">\n  <thead>\n    <tr style=\"text-align: right;\">\n      <th></th>\n      <th>Address</th>\n      <th>Lot</th>\n      <th>AM or PM</th>\n      <th>Browser Info</th>\n      <th>Company</th>\n      <th>Credit Card</th>\n      <th>CC Exp Date</th>\n      <th>CC Security Code</th>\n      <th>CC Provider</th>\n      <th>Email</th>\n      <th>Job</th>\n      <th>IP Address</th>\n      <th>Language</th>\n      <th>Purchase Price</th>\n      <th>Email Provider</th>\n    </tr>\n  </thead>\n  <tbody>\n    <tr>\n      <th>0</th>\n      <td>16629 Pace Camp Apt. 448\\nAlexisborough, NE 77...</td>\n      <td>46 in</td>\n      <td>PM</td>\n      <td>Opera/9.56.(X11; Linux x86_64; sl-SI) Presto/2...</td>\n      <td>Martinez-Herman</td>\n      <td>4926535242672853</td>\n      <td>02/20</td>\n      <td>900</td>\n      <td>JCB 16 digit</td>\n      <td>pdunlap@yahoo.com</td>\n      <td>Scientist, product/process development</td>\n      <td>149.146.147.205</td>\n      <td>el</td>\n      <td>98.14</td>\n      <td>yahoo.com</td>\n    </tr>\n    <tr>\n      <th>1</th>\n      <td>9374 Jasmine Spurs Suite 508\\nSouth John, TN 8...</td>\n      <td>28 rn</td>\n      <td>PM</td>\n      <td>Opera/8.93.(Windows 98; Win 9x 4.90; en-US) Pr...</td>\n      <td>Fletcher, Richards and Whitaker</td>\n      <td>4926535242672853</td>\n      <td>11/18</td>\n      <td>561</td>\n      <td>Mastercard</td>\n      <td>anthony41@reed.com</td>\n      <td>Drilling engineer</td>\n      <td>15.160.41.51</td>\n      <td>fr</td>\n      <td>70.73</td>\n      <td>reed.com</td>\n    </tr>\n    <tr>\n      <th>2</th>\n      <td>Unit 0065 Box 5052\\nDPO AP 27450</td>\n      <td>94 vE</td>\n      <td>PM</td>\n      <td>Mozilla/5.0 (compatible; MSIE 9.0; Windows NT ...</td>\n      <td>Simpson, Williams and Pham</td>\n      <td>4926535242672853</td>\n      <td>08/19</td>\n      <td>699</td>\n      <td>JCB 16 digit</td>\n      <td>amymiller@morales-harrison.com</td>\n      <td>Customer service manager</td>\n      <td>132.207.160.22</td>\n      <td>de</td>\n      <td>0.95</td>\n      <td>morales-harrison.com</td>\n    </tr>\n    <tr>\n      <th>3</th>\n      <td>7780 Julia Fords\\nNew Stacy, WA 45798</td>\n      <td>36 vm</td>\n      <td>PM</td>\n      <td>Mozilla/5.0 (Macintosh; Intel Mac OS X 10_8_0 ...</td>\n      <td>Williams, Marshall and Buchanan</td>\n      <td>4926535242672853</td>\n      <td>02/24</td>\n      <td>384</td>\n      <td>Discover</td>\n      <td>brent16@olson-robinson.info</td>\n      <td>Drilling engineer</td>\n      <td>30.250.74.19</td>\n      <td>es</td>\n      <td>78.04</td>\n      <td>olson-robinson.info</td>\n    </tr>\n    <tr>\n      <th>4</th>\n      <td>23012 Munoz Drive Suite 337\\nNew Cynthia, TX 5...</td>\n      <td>20 IE</td>\n      <td>AM</td>\n      <td>Opera/9.58.(X11; Linux x86_64; it-IT) Presto/2...</td>\n      <td>Brown, Watson and Andrews</td>\n      <td>4926535242672853</td>\n      <td>10/25</td>\n      <td>678</td>\n      <td>Diners Club / Carte Blanche</td>\n      <td>christopherwright@gmail.com</td>\n      <td>Fine artist</td>\n      <td>24.140.33.94</td>\n      <td>es</td>\n      <td>77.82</td>\n      <td>gmail.com</td>\n    </tr>\n    <tr>\n      <th>...</th>\n      <td>...</td>\n      <td>...</td>\n      <td>...</td>\n      <td>...</td>\n      <td>...</td>\n      <td>...</td>\n      <td>...</td>\n      <td>...</td>\n      <td>...</td>\n      <td>...</td>\n      <td>...</td>\n      <td>...</td>\n      <td>...</td>\n      <td>...</td>\n      <td>...</td>\n    </tr>\n    <tr>\n      <th>9995</th>\n      <td>966 Castaneda Locks\\nWest Juliafurt, CO 96415</td>\n      <td>92 XI</td>\n      <td>PM</td>\n      <td>Mozilla/5.0 (Windows NT 5.1) AppleWebKit/5352 ...</td>\n      <td>Randall-Sloan</td>\n      <td>4926535242672853</td>\n      <td>03/22</td>\n      <td>838</td>\n      <td>JCB 15 digit</td>\n      <td>iscott@wade-garner.com</td>\n      <td>Printmaker</td>\n      <td>29.73.197.114</td>\n      <td>it</td>\n      <td>82.21</td>\n      <td>wade-garner.com</td>\n    </tr>\n    <tr>\n      <th>9996</th>\n      <td>832 Curtis Dam Suite 785\\nNorth Edwardburgh, T...</td>\n      <td>41 JY</td>\n      <td>AM</td>\n      <td>Mozilla/5.0 (compatible; MSIE 9.0; Windows NT ...</td>\n      <td>Hale, Collins and Wilson</td>\n      <td>4926535242672853</td>\n      <td>07/25</td>\n      <td>207</td>\n      <td>JCB 16 digit</td>\n      <td>mary85@hotmail.com</td>\n      <td>Energy engineer</td>\n      <td>121.133.168.51</td>\n      <td>pt</td>\n      <td>25.63</td>\n      <td>hotmail.com</td>\n    </tr>\n    <tr>\n      <th>9997</th>\n      <td>Unit 4434 Box 6343\\nDPO AE 28026-0283</td>\n      <td>74 Zh</td>\n      <td>AM</td>\n      <td>Mozilla/5.0 (Macintosh; U; Intel Mac OS X 10_7...</td>\n      <td>Anderson Ltd</td>\n      <td>4926535242672853</td>\n      <td>05/21</td>\n      <td>1</td>\n      <td>VISA 16 digit</td>\n      <td>tyler16@gmail.com</td>\n      <td>Veterinary surgeon</td>\n      <td>156.210.0.254</td>\n      <td>el</td>\n      <td>83.98</td>\n      <td>gmail.com</td>\n    </tr>\n    <tr>\n      <th>9998</th>\n      <td>0096 English Rest\\nRoystad, IA 12457</td>\n      <td>74 cL</td>\n      <td>PM</td>\n      <td>Mozilla/5.0 (Macintosh; Intel Mac OS X 10_8_8;...</td>\n      <td>Cook Inc</td>\n      <td>4926535242672853</td>\n      <td>11/17</td>\n      <td>987</td>\n      <td>American Express</td>\n      <td>elizabethmoore@reid.net</td>\n      <td>Local government officer</td>\n      <td>55.78.26.143</td>\n      <td>es</td>\n      <td>38.84</td>\n      <td>reid.net</td>\n    </tr>\n    <tr>\n      <th>9999</th>\n      <td>40674 Barrett Stravenue\\nGrimesville, WI 79682</td>\n      <td>64 Hr</td>\n      <td>AM</td>\n      <td>Mozilla/5.0 (X11; Linux i686; rv:1.9.5.20) Gec...</td>\n      <td>Greene Inc</td>\n      <td>4926535242672853</td>\n      <td>02/19</td>\n      <td>302</td>\n      <td>JCB 15 digit</td>\n      <td>rachelford@vaughn.com</td>\n      <td>Embryologist, clinical</td>\n      <td>176.119.198.199</td>\n      <td>el</td>\n      <td>67.59</td>\n      <td>vaughn.com</td>\n    </tr>\n  </tbody>\n</table>\n<p>10000 rows × 15 columns</p>\n</div>"
     },
     "execution_count": 88,
     "metadata": {},
     "output_type": "execute_result"
    }
   ],
   "source": [
    "ecom"
   ],
   "metadata": {
    "collapsed": false,
    "pycharm": {
     "name": "#%%\n"
    }
   }
  },
  {
   "cell_type": "code",
   "execution_count": 89,
   "outputs": [
    {
     "data": {
      "text/plain": "0       4926535242672853\n1       4926535242672853\n2       4926535242672853\n3       4926535242672853\n4       4926535242672853\n              ...       \n9995    4926535242672853\n9996    4926535242672853\n9997    4926535242672853\n9998    4926535242672853\n9999    4926535242672853\nName: Credit Card, Length: 10000, dtype: int64"
     },
     "execution_count": 89,
     "metadata": {},
     "output_type": "execute_result"
    }
   ],
   "source": [
    "ecom['Credit Card']"
   ],
   "metadata": {
    "collapsed": false,
    "pycharm": {
     "name": "#%%\n"
    }
   }
  },
  {
   "cell_type": "code",
   "execution_count": null,
   "outputs": [],
   "source": [
    "ecom"
   ],
   "metadata": {
    "collapsed": false,
    "pycharm": {
     "name": "#%%\n"
    }
   }
  }
 ],
 "metadata": {
  "kernelspec": {
   "display_name": "Python 3",
   "language": "python",
   "name": "python3"
  },
  "language_info": {
   "codemirror_mode": {
    "name": "ipython",
    "version": 2
   },
   "file_extension": ".py",
   "mimetype": "text/x-python",
   "name": "python",
   "nbconvert_exporter": "python",
   "pygments_lexer": "ipython2",
   "version": "2.7.6"
  }
 },
 "nbformat": 4,
 "nbformat_minor": 0
}