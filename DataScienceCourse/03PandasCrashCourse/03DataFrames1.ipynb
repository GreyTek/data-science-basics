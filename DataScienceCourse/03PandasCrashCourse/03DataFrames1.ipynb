{
 "cells": [
  {
   "cell_type": "code",
   "execution_count": 1,
   "metadata": {
    "collapsed": true,
    "pycharm": {
     "name": "#%%\n"
    }
   },
   "outputs": [],
   "source": [
    "import numpy as np\n",
    "import pandas as pd\n",
    "from numpy.random import randn"
   ]
  },
  {
   "cell_type": "code",
   "execution_count": 2,
   "outputs": [],
   "source": [
    "np.random.seed(101)"
   ],
   "metadata": {
    "collapsed": false,
    "pycharm": {
     "name": "#%%\n"
    }
   }
  },
  {
   "cell_type": "code",
   "execution_count": 42,
   "outputs": [],
   "source": [
    "df = pd.DataFrame(randn(5,5),['A','B','C','D','E'],['W','X','Y','Z','XL'])"
   ],
   "metadata": {
    "collapsed": false,
    "pycharm": {
     "name": "#%%\n"
    }
   }
  },
  {
   "cell_type": "code",
   "execution_count": 43,
   "outputs": [
    {
     "data": {
      "text/plain": "          W         X         Y         Z        XL\nA -0.630507 -1.398290 -0.219311 -0.045676  0.012421\nB  0.093628  1.240813 -1.097693 -1.908009 -0.380104\nC -1.666059 -2.736995  1.522562  0.178009 -0.626805\nD -0.391089  1.743477  1.130018  0.897796  0.330866\nE -1.063049 -0.125381 -0.945588  2.029544 -1.046358",
      "text/html": "<div>\n<style scoped>\n    .dataframe tbody tr th:only-of-type {\n        vertical-align: middle;\n    }\n\n    .dataframe tbody tr th {\n        vertical-align: top;\n    }\n\n    .dataframe thead th {\n        text-align: right;\n    }\n</style>\n<table border=\"1\" class=\"dataframe\">\n  <thead>\n    <tr style=\"text-align: right;\">\n      <th></th>\n      <th>W</th>\n      <th>X</th>\n      <th>Y</th>\n      <th>Z</th>\n      <th>XL</th>\n    </tr>\n  </thead>\n  <tbody>\n    <tr>\n      <th>A</th>\n      <td>-0.630507</td>\n      <td>-1.398290</td>\n      <td>-0.219311</td>\n      <td>-0.045676</td>\n      <td>0.012421</td>\n    </tr>\n    <tr>\n      <th>B</th>\n      <td>0.093628</td>\n      <td>1.240813</td>\n      <td>-1.097693</td>\n      <td>-1.908009</td>\n      <td>-0.380104</td>\n    </tr>\n    <tr>\n      <th>C</th>\n      <td>-1.666059</td>\n      <td>-2.736995</td>\n      <td>1.522562</td>\n      <td>0.178009</td>\n      <td>-0.626805</td>\n    </tr>\n    <tr>\n      <th>D</th>\n      <td>-0.391089</td>\n      <td>1.743477</td>\n      <td>1.130018</td>\n      <td>0.897796</td>\n      <td>0.330866</td>\n    </tr>\n    <tr>\n      <th>E</th>\n      <td>-1.063049</td>\n      <td>-0.125381</td>\n      <td>-0.945588</td>\n      <td>2.029544</td>\n      <td>-1.046358</td>\n    </tr>\n  </tbody>\n</table>\n</div>"
     },
     "execution_count": 43,
     "metadata": {},
     "output_type": "execute_result"
    }
   ],
   "source": [
    "df"
   ],
   "metadata": {
    "collapsed": false,
    "pycharm": {
     "name": "#%%\n"
    }
   }
  },
  {
   "cell_type": "code",
   "execution_count": 15,
   "outputs": [
    {
     "data": {
      "text/plain": "          W        XL\nA  0.638787 -0.943406\nB  0.484752  1.996652\nC -0.993263  1.025984\nD -0.156598 -0.610259\nE -0.755325  0.558769",
      "text/html": "<div>\n<style scoped>\n    .dataframe tbody tr th:only-of-type {\n        vertical-align: middle;\n    }\n\n    .dataframe tbody tr th {\n        vertical-align: top;\n    }\n\n    .dataframe thead th {\n        text-align: right;\n    }\n</style>\n<table border=\"1\" class=\"dataframe\">\n  <thead>\n    <tr style=\"text-align: right;\">\n      <th></th>\n      <th>W</th>\n      <th>XL</th>\n    </tr>\n  </thead>\n  <tbody>\n    <tr>\n      <th>A</th>\n      <td>0.638787</td>\n      <td>-0.943406</td>\n    </tr>\n    <tr>\n      <th>B</th>\n      <td>0.484752</td>\n      <td>1.996652</td>\n    </tr>\n    <tr>\n      <th>C</th>\n      <td>-0.993263</td>\n      <td>1.025984</td>\n    </tr>\n    <tr>\n      <th>D</th>\n      <td>-0.156598</td>\n      <td>-0.610259</td>\n    </tr>\n    <tr>\n      <th>E</th>\n      <td>-0.755325</td>\n      <td>0.558769</td>\n    </tr>\n  </tbody>\n</table>\n</div>"
     },
     "execution_count": 15,
     "metadata": {},
     "output_type": "execute_result"
    }
   ],
   "source": [
    "df[['W','XL']]"
   ],
   "metadata": {
    "collapsed": false,
    "pycharm": {
     "name": "#%%\n"
    }
   }
  },
  {
   "cell_type": "code",
   "execution_count": 20,
   "outputs": [],
   "source": [
    "df['NEW'] = df['W'] * df['Z'] + 100"
   ],
   "metadata": {
    "collapsed": false,
    "pycharm": {
     "name": "#%%\n"
    }
   }
  },
  {
   "cell_type": "code",
   "execution_count": 21,
   "outputs": [
    {
     "data": {
      "text/plain": "          W         X         Y         Z        XL         NEW\nA  0.638787  0.329646 -0.497104 -0.754070 -0.943406   99.518310\nB  0.484752 -0.116773  1.901755  0.238127  1.996652  100.115432\nC -0.993263  0.196800 -1.136645  0.000366  1.025984   99.999636\nD -0.156598 -0.031579  0.649826  2.154846 -0.610259   99.662556\nE -0.755325 -0.346419  0.147027 -0.479448  0.558769  100.362139",
      "text/html": "<div>\n<style scoped>\n    .dataframe tbody tr th:only-of-type {\n        vertical-align: middle;\n    }\n\n    .dataframe tbody tr th {\n        vertical-align: top;\n    }\n\n    .dataframe thead th {\n        text-align: right;\n    }\n</style>\n<table border=\"1\" class=\"dataframe\">\n  <thead>\n    <tr style=\"text-align: right;\">\n      <th></th>\n      <th>W</th>\n      <th>X</th>\n      <th>Y</th>\n      <th>Z</th>\n      <th>XL</th>\n      <th>NEW</th>\n    </tr>\n  </thead>\n  <tbody>\n    <tr>\n      <th>A</th>\n      <td>0.638787</td>\n      <td>0.329646</td>\n      <td>-0.497104</td>\n      <td>-0.754070</td>\n      <td>-0.943406</td>\n      <td>99.518310</td>\n    </tr>\n    <tr>\n      <th>B</th>\n      <td>0.484752</td>\n      <td>-0.116773</td>\n      <td>1.901755</td>\n      <td>0.238127</td>\n      <td>1.996652</td>\n      <td>100.115432</td>\n    </tr>\n    <tr>\n      <th>C</th>\n      <td>-0.993263</td>\n      <td>0.196800</td>\n      <td>-1.136645</td>\n      <td>0.000366</td>\n      <td>1.025984</td>\n      <td>99.999636</td>\n    </tr>\n    <tr>\n      <th>D</th>\n      <td>-0.156598</td>\n      <td>-0.031579</td>\n      <td>0.649826</td>\n      <td>2.154846</td>\n      <td>-0.610259</td>\n      <td>99.662556</td>\n    </tr>\n    <tr>\n      <th>E</th>\n      <td>-0.755325</td>\n      <td>-0.346419</td>\n      <td>0.147027</td>\n      <td>-0.479448</td>\n      <td>0.558769</td>\n      <td>100.362139</td>\n    </tr>\n  </tbody>\n</table>\n</div>"
     },
     "execution_count": 21,
     "metadata": {},
     "output_type": "execute_result"
    }
   ],
   "source": [
    "df"
   ],
   "metadata": {
    "collapsed": false,
    "pycharm": {
     "name": "#%%\n"
    }
   }
  },
  {
   "cell_type": "code",
   "execution_count": 31,
   "outputs": [],
   "source": [
    "df.drop('NEW',axis=1,inplace=True)"
   ],
   "metadata": {
    "collapsed": false,
    "pycharm": {
     "name": "#%%\n"
    }
   }
  },
  {
   "cell_type": "code",
   "execution_count": 32,
   "outputs": [
    {
     "data": {
      "text/plain": "          W         X         Y         Z        XL\nA  0.638787  0.329646 -0.497104 -0.754070 -0.943406\nB  0.484752 -0.116773  1.901755  0.238127  1.996652\nC -0.993263  0.196800 -1.136645  0.000366  1.025984\nD -0.156598 -0.031579  0.649826  2.154846 -0.610259\nE -0.755325 -0.346419  0.147027 -0.479448  0.558769",
      "text/html": "<div>\n<style scoped>\n    .dataframe tbody tr th:only-of-type {\n        vertical-align: middle;\n    }\n\n    .dataframe tbody tr th {\n        vertical-align: top;\n    }\n\n    .dataframe thead th {\n        text-align: right;\n    }\n</style>\n<table border=\"1\" class=\"dataframe\">\n  <thead>\n    <tr style=\"text-align: right;\">\n      <th></th>\n      <th>W</th>\n      <th>X</th>\n      <th>Y</th>\n      <th>Z</th>\n      <th>XL</th>\n    </tr>\n  </thead>\n  <tbody>\n    <tr>\n      <th>A</th>\n      <td>0.638787</td>\n      <td>0.329646</td>\n      <td>-0.497104</td>\n      <td>-0.754070</td>\n      <td>-0.943406</td>\n    </tr>\n    <tr>\n      <th>B</th>\n      <td>0.484752</td>\n      <td>-0.116773</td>\n      <td>1.901755</td>\n      <td>0.238127</td>\n      <td>1.996652</td>\n    </tr>\n    <tr>\n      <th>C</th>\n      <td>-0.993263</td>\n      <td>0.196800</td>\n      <td>-1.136645</td>\n      <td>0.000366</td>\n      <td>1.025984</td>\n    </tr>\n    <tr>\n      <th>D</th>\n      <td>-0.156598</td>\n      <td>-0.031579</td>\n      <td>0.649826</td>\n      <td>2.154846</td>\n      <td>-0.610259</td>\n    </tr>\n    <tr>\n      <th>E</th>\n      <td>-0.755325</td>\n      <td>-0.346419</td>\n      <td>0.147027</td>\n      <td>-0.479448</td>\n      <td>0.558769</td>\n    </tr>\n  </tbody>\n</table>\n</div>"
     },
     "execution_count": 32,
     "metadata": {},
     "output_type": "execute_result"
    }
   ],
   "source": [
    "df"
   ],
   "metadata": {
    "collapsed": false,
    "pycharm": {
     "name": "#%%\n"
    }
   }
  },
  {
   "cell_type": "code",
   "execution_count": 33,
   "outputs": [
    {
     "data": {
      "text/plain": "          W         X         Y         Z        XL\nB  0.484752 -0.116773  1.901755  0.238127  1.996652\nC -0.993263  0.196800 -1.136645  0.000366  1.025984\nD -0.156598 -0.031579  0.649826  2.154846 -0.610259\nE -0.755325 -0.346419  0.147027 -0.479448  0.558769",
      "text/html": "<div>\n<style scoped>\n    .dataframe tbody tr th:only-of-type {\n        vertical-align: middle;\n    }\n\n    .dataframe tbody tr th {\n        vertical-align: top;\n    }\n\n    .dataframe thead th {\n        text-align: right;\n    }\n</style>\n<table border=\"1\" class=\"dataframe\">\n  <thead>\n    <tr style=\"text-align: right;\">\n      <th></th>\n      <th>W</th>\n      <th>X</th>\n      <th>Y</th>\n      <th>Z</th>\n      <th>XL</th>\n    </tr>\n  </thead>\n  <tbody>\n    <tr>\n      <th>B</th>\n      <td>0.484752</td>\n      <td>-0.116773</td>\n      <td>1.901755</td>\n      <td>0.238127</td>\n      <td>1.996652</td>\n    </tr>\n    <tr>\n      <th>C</th>\n      <td>-0.993263</td>\n      <td>0.196800</td>\n      <td>-1.136645</td>\n      <td>0.000366</td>\n      <td>1.025984</td>\n    </tr>\n    <tr>\n      <th>D</th>\n      <td>-0.156598</td>\n      <td>-0.031579</td>\n      <td>0.649826</td>\n      <td>2.154846</td>\n      <td>-0.610259</td>\n    </tr>\n    <tr>\n      <th>E</th>\n      <td>-0.755325</td>\n      <td>-0.346419</td>\n      <td>0.147027</td>\n      <td>-0.479448</td>\n      <td>0.558769</td>\n    </tr>\n  </tbody>\n</table>\n</div>"
     },
     "execution_count": 33,
     "metadata": {},
     "output_type": "execute_result"
    }
   ],
   "source": [
    "df.drop('A')"
   ],
   "metadata": {
    "collapsed": false,
    "pycharm": {
     "name": "#%%\n"
    }
   }
  },
  {
   "cell_type": "code",
   "execution_count": 34,
   "outputs": [
    {
     "ename": "KeyError",
     "evalue": "\"['Y'] not found in axis\"",
     "output_type": "error",
     "traceback": [
      "\u001B[1;31m---------------------------------------------------------------------------\u001B[0m",
      "\u001B[1;31mKeyError\u001B[0m                                  Traceback (most recent call last)",
      "\u001B[1;32m<ipython-input-34-0b141949c0bb>\u001B[0m in \u001B[0;36m<module>\u001B[1;34m\u001B[0m\n\u001B[1;32m----> 1\u001B[1;33m \u001B[0mdf\u001B[0m\u001B[1;33m.\u001B[0m\u001B[0mdrop\u001B[0m\u001B[1;33m(\u001B[0m\u001B[1;34m'Y'\u001B[0m\u001B[1;33m)\u001B[0m\u001B[1;33m\u001B[0m\u001B[1;33m\u001B[0m\u001B[0m\n\u001B[0m",
      "\u001B[1;32m~\\AppData\\Local\\Programs\\Python\\Python36\\lib\\site-packages\\pandas\\core\\frame.py\u001B[0m in \u001B[0;36mdrop\u001B[1;34m(self, labels, axis, index, columns, level, inplace, errors)\u001B[0m\n\u001B[0;32m   4172\u001B[0m             \u001B[0mlevel\u001B[0m\u001B[1;33m=\u001B[0m\u001B[0mlevel\u001B[0m\u001B[1;33m,\u001B[0m\u001B[1;33m\u001B[0m\u001B[1;33m\u001B[0m\u001B[0m\n\u001B[0;32m   4173\u001B[0m             \u001B[0minplace\u001B[0m\u001B[1;33m=\u001B[0m\u001B[0minplace\u001B[0m\u001B[1;33m,\u001B[0m\u001B[1;33m\u001B[0m\u001B[1;33m\u001B[0m\u001B[0m\n\u001B[1;32m-> 4174\u001B[1;33m             \u001B[0merrors\u001B[0m\u001B[1;33m=\u001B[0m\u001B[0merrors\u001B[0m\u001B[1;33m,\u001B[0m\u001B[1;33m\u001B[0m\u001B[1;33m\u001B[0m\u001B[0m\n\u001B[0m\u001B[0;32m   4175\u001B[0m         )\n\u001B[0;32m   4176\u001B[0m \u001B[1;33m\u001B[0m\u001B[0m\n",
      "\u001B[1;32m~\\AppData\\Local\\Programs\\Python\\Python36\\lib\\site-packages\\pandas\\core\\generic.py\u001B[0m in \u001B[0;36mdrop\u001B[1;34m(self, labels, axis, index, columns, level, inplace, errors)\u001B[0m\n\u001B[0;32m   3887\u001B[0m         \u001B[1;32mfor\u001B[0m \u001B[0maxis\u001B[0m\u001B[1;33m,\u001B[0m \u001B[0mlabels\u001B[0m \u001B[1;32min\u001B[0m \u001B[0maxes\u001B[0m\u001B[1;33m.\u001B[0m\u001B[0mitems\u001B[0m\u001B[1;33m(\u001B[0m\u001B[1;33m)\u001B[0m\u001B[1;33m:\u001B[0m\u001B[1;33m\u001B[0m\u001B[1;33m\u001B[0m\u001B[0m\n\u001B[0;32m   3888\u001B[0m             \u001B[1;32mif\u001B[0m \u001B[0mlabels\u001B[0m \u001B[1;32mis\u001B[0m \u001B[1;32mnot\u001B[0m \u001B[1;32mNone\u001B[0m\u001B[1;33m:\u001B[0m\u001B[1;33m\u001B[0m\u001B[1;33m\u001B[0m\u001B[0m\n\u001B[1;32m-> 3889\u001B[1;33m                 \u001B[0mobj\u001B[0m \u001B[1;33m=\u001B[0m \u001B[0mobj\u001B[0m\u001B[1;33m.\u001B[0m\u001B[0m_drop_axis\u001B[0m\u001B[1;33m(\u001B[0m\u001B[0mlabels\u001B[0m\u001B[1;33m,\u001B[0m \u001B[0maxis\u001B[0m\u001B[1;33m,\u001B[0m \u001B[0mlevel\u001B[0m\u001B[1;33m=\u001B[0m\u001B[0mlevel\u001B[0m\u001B[1;33m,\u001B[0m \u001B[0merrors\u001B[0m\u001B[1;33m=\u001B[0m\u001B[0merrors\u001B[0m\u001B[1;33m)\u001B[0m\u001B[1;33m\u001B[0m\u001B[1;33m\u001B[0m\u001B[0m\n\u001B[0m\u001B[0;32m   3890\u001B[0m \u001B[1;33m\u001B[0m\u001B[0m\n\u001B[0;32m   3891\u001B[0m         \u001B[1;32mif\u001B[0m \u001B[0minplace\u001B[0m\u001B[1;33m:\u001B[0m\u001B[1;33m\u001B[0m\u001B[1;33m\u001B[0m\u001B[0m\n",
      "\u001B[1;32m~\\AppData\\Local\\Programs\\Python\\Python36\\lib\\site-packages\\pandas\\core\\generic.py\u001B[0m in \u001B[0;36m_drop_axis\u001B[1;34m(self, labels, axis, level, errors)\u001B[0m\n\u001B[0;32m   3921\u001B[0m                 \u001B[0mnew_axis\u001B[0m \u001B[1;33m=\u001B[0m \u001B[0maxis\u001B[0m\u001B[1;33m.\u001B[0m\u001B[0mdrop\u001B[0m\u001B[1;33m(\u001B[0m\u001B[0mlabels\u001B[0m\u001B[1;33m,\u001B[0m \u001B[0mlevel\u001B[0m\u001B[1;33m=\u001B[0m\u001B[0mlevel\u001B[0m\u001B[1;33m,\u001B[0m \u001B[0merrors\u001B[0m\u001B[1;33m=\u001B[0m\u001B[0merrors\u001B[0m\u001B[1;33m)\u001B[0m\u001B[1;33m\u001B[0m\u001B[1;33m\u001B[0m\u001B[0m\n\u001B[0;32m   3922\u001B[0m             \u001B[1;32melse\u001B[0m\u001B[1;33m:\u001B[0m\u001B[1;33m\u001B[0m\u001B[1;33m\u001B[0m\u001B[0m\n\u001B[1;32m-> 3923\u001B[1;33m                 \u001B[0mnew_axis\u001B[0m \u001B[1;33m=\u001B[0m \u001B[0maxis\u001B[0m\u001B[1;33m.\u001B[0m\u001B[0mdrop\u001B[0m\u001B[1;33m(\u001B[0m\u001B[0mlabels\u001B[0m\u001B[1;33m,\u001B[0m \u001B[0merrors\u001B[0m\u001B[1;33m=\u001B[0m\u001B[0merrors\u001B[0m\u001B[1;33m)\u001B[0m\u001B[1;33m\u001B[0m\u001B[1;33m\u001B[0m\u001B[0m\n\u001B[0m\u001B[0;32m   3924\u001B[0m             \u001B[0mresult\u001B[0m \u001B[1;33m=\u001B[0m \u001B[0mself\u001B[0m\u001B[1;33m.\u001B[0m\u001B[0mreindex\u001B[0m\u001B[1;33m(\u001B[0m\u001B[1;33m**\u001B[0m\u001B[1;33m{\u001B[0m\u001B[0maxis_name\u001B[0m\u001B[1;33m:\u001B[0m \u001B[0mnew_axis\u001B[0m\u001B[1;33m}\u001B[0m\u001B[1;33m)\u001B[0m\u001B[1;33m\u001B[0m\u001B[1;33m\u001B[0m\u001B[0m\n\u001B[0;32m   3925\u001B[0m \u001B[1;33m\u001B[0m\u001B[0m\n",
      "\u001B[1;32m~\\AppData\\Local\\Programs\\Python\\Python36\\lib\\site-packages\\pandas\\core\\indexes\\base.py\u001B[0m in \u001B[0;36mdrop\u001B[1;34m(self, labels, errors)\u001B[0m\n\u001B[0;32m   5285\u001B[0m         \u001B[1;32mif\u001B[0m \u001B[0mmask\u001B[0m\u001B[1;33m.\u001B[0m\u001B[0many\u001B[0m\u001B[1;33m(\u001B[0m\u001B[1;33m)\u001B[0m\u001B[1;33m:\u001B[0m\u001B[1;33m\u001B[0m\u001B[1;33m\u001B[0m\u001B[0m\n\u001B[0;32m   5286\u001B[0m             \u001B[1;32mif\u001B[0m \u001B[0merrors\u001B[0m \u001B[1;33m!=\u001B[0m \u001B[1;34m\"ignore\"\u001B[0m\u001B[1;33m:\u001B[0m\u001B[1;33m\u001B[0m\u001B[1;33m\u001B[0m\u001B[0m\n\u001B[1;32m-> 5287\u001B[1;33m                 \u001B[1;32mraise\u001B[0m \u001B[0mKeyError\u001B[0m\u001B[1;33m(\u001B[0m\u001B[1;34mf\"{labels[mask]} not found in axis\"\u001B[0m\u001B[1;33m)\u001B[0m\u001B[1;33m\u001B[0m\u001B[1;33m\u001B[0m\u001B[0m\n\u001B[0m\u001B[0;32m   5288\u001B[0m             \u001B[0mindexer\u001B[0m \u001B[1;33m=\u001B[0m \u001B[0mindexer\u001B[0m\u001B[1;33m[\u001B[0m\u001B[1;33m~\u001B[0m\u001B[0mmask\u001B[0m\u001B[1;33m]\u001B[0m\u001B[1;33m\u001B[0m\u001B[1;33m\u001B[0m\u001B[0m\n\u001B[0;32m   5289\u001B[0m         \u001B[1;32mreturn\u001B[0m \u001B[0mself\u001B[0m\u001B[1;33m.\u001B[0m\u001B[0mdelete\u001B[0m\u001B[1;33m(\u001B[0m\u001B[0mindexer\u001B[0m\u001B[1;33m)\u001B[0m\u001B[1;33m\u001B[0m\u001B[1;33m\u001B[0m\u001B[0m\n",
      "\u001B[1;31mKeyError\u001B[0m: \"['Y'] not found in axis\""
     ]
    }
   ],
   "source": [
    "df.drop('Y')"
   ],
   "metadata": {
    "collapsed": false,
    "pycharm": {
     "name": "#%%\n"
    }
   }
  },
  {
   "cell_type": "code",
   "execution_count": 44,
   "outputs": [
    {
     "data": {
      "text/plain": "          W         X         Y         Z        XL\nA -0.630507 -1.398290 -0.219311 -0.045676  0.012421\nB  0.093628  1.240813 -1.097693 -1.908009 -0.380104\nC -1.666059 -2.736995  1.522562  0.178009 -0.626805\nD -0.391089  1.743477  1.130018  0.897796  0.330866\nE -1.063049 -0.125381 -0.945588  2.029544 -1.046358",
      "text/html": "<div>\n<style scoped>\n    .dataframe tbody tr th:only-of-type {\n        vertical-align: middle;\n    }\n\n    .dataframe tbody tr th {\n        vertical-align: top;\n    }\n\n    .dataframe thead th {\n        text-align: right;\n    }\n</style>\n<table border=\"1\" class=\"dataframe\">\n  <thead>\n    <tr style=\"text-align: right;\">\n      <th></th>\n      <th>W</th>\n      <th>X</th>\n      <th>Y</th>\n      <th>Z</th>\n      <th>XL</th>\n    </tr>\n  </thead>\n  <tbody>\n    <tr>\n      <th>A</th>\n      <td>-0.630507</td>\n      <td>-1.398290</td>\n      <td>-0.219311</td>\n      <td>-0.045676</td>\n      <td>0.012421</td>\n    </tr>\n    <tr>\n      <th>B</th>\n      <td>0.093628</td>\n      <td>1.240813</td>\n      <td>-1.097693</td>\n      <td>-1.908009</td>\n      <td>-0.380104</td>\n    </tr>\n    <tr>\n      <th>C</th>\n      <td>-1.666059</td>\n      <td>-2.736995</td>\n      <td>1.522562</td>\n      <td>0.178009</td>\n      <td>-0.626805</td>\n    </tr>\n    <tr>\n      <th>D</th>\n      <td>-0.391089</td>\n      <td>1.743477</td>\n      <td>1.130018</td>\n      <td>0.897796</td>\n      <td>0.330866</td>\n    </tr>\n    <tr>\n      <th>E</th>\n      <td>-1.063049</td>\n      <td>-0.125381</td>\n      <td>-0.945588</td>\n      <td>2.029544</td>\n      <td>-1.046358</td>\n    </tr>\n  </tbody>\n</table>\n</div>"
     },
     "execution_count": 44,
     "metadata": {},
     "output_type": "execute_result"
    }
   ],
   "source": [
    "df"
   ],
   "metadata": {
    "collapsed": false,
    "pycharm": {
     "name": "#%%\n"
    }
   }
  },
  {
   "cell_type": "code",
   "execution_count": 36,
   "outputs": [
    {
     "data": {
      "text/plain": "(5, 5)"
     },
     "execution_count": 36,
     "metadata": {},
     "output_type": "execute_result"
    }
   ],
   "source": [
    "df.shape"
   ],
   "metadata": {
    "collapsed": false,
    "pycharm": {
     "name": "#%%\n"
    }
   }
  },
  {
   "cell_type": "code",
   "execution_count": 45,
   "outputs": [
    {
     "data": {
      "text/plain": "          W        XL\nA -0.630507  0.012421\nB  0.093628 -0.380104\nC -1.666059 -0.626805\nD -0.391089  0.330866\nE -1.063049 -1.046358",
      "text/html": "<div>\n<style scoped>\n    .dataframe tbody tr th:only-of-type {\n        vertical-align: middle;\n    }\n\n    .dataframe tbody tr th {\n        vertical-align: top;\n    }\n\n    .dataframe thead th {\n        text-align: right;\n    }\n</style>\n<table border=\"1\" class=\"dataframe\">\n  <thead>\n    <tr style=\"text-align: right;\">\n      <th></th>\n      <th>W</th>\n      <th>XL</th>\n    </tr>\n  </thead>\n  <tbody>\n    <tr>\n      <th>A</th>\n      <td>-0.630507</td>\n      <td>0.012421</td>\n    </tr>\n    <tr>\n      <th>B</th>\n      <td>0.093628</td>\n      <td>-0.380104</td>\n    </tr>\n    <tr>\n      <th>C</th>\n      <td>-1.666059</td>\n      <td>-0.626805</td>\n    </tr>\n    <tr>\n      <th>D</th>\n      <td>-0.391089</td>\n      <td>0.330866</td>\n    </tr>\n    <tr>\n      <th>E</th>\n      <td>-1.063049</td>\n      <td>-1.046358</td>\n    </tr>\n  </tbody>\n</table>\n</div>"
     },
     "execution_count": 45,
     "metadata": {},
     "output_type": "execute_result"
    }
   ],
   "source": [
    "df[['W','XL']]"
   ],
   "metadata": {
    "collapsed": false,
    "pycharm": {
     "name": "#%%\n"
    }
   }
  },
  {
   "cell_type": "code",
   "execution_count": 46,
   "outputs": [
    {
     "data": {
      "text/plain": "W    -0.630507\nX    -1.398290\nY    -0.219311\nZ    -0.045676\nXL    0.012421\nName: A, dtype: float64"
     },
     "execution_count": 46,
     "metadata": {},
     "output_type": "execute_result"
    }
   ],
   "source": [
    "df.loc['A']"
   ],
   "metadata": {
    "collapsed": false,
    "pycharm": {
     "name": "#%%\n"
    }
   }
  },
  {
   "cell_type": "code",
   "execution_count": 47,
   "outputs": [
    {
     "data": {
      "text/plain": "          W         X         Y         Z        XL\nA -0.630507 -1.398290 -0.219311 -0.045676  0.012421\nB  0.093628  1.240813 -1.097693 -1.908009 -0.380104\nC -1.666059 -2.736995  1.522562  0.178009 -0.626805\nD -0.391089  1.743477  1.130018  0.897796  0.330866\nE -1.063049 -0.125381 -0.945588  2.029544 -1.046358",
      "text/html": "<div>\n<style scoped>\n    .dataframe tbody tr th:only-of-type {\n        vertical-align: middle;\n    }\n\n    .dataframe tbody tr th {\n        vertical-align: top;\n    }\n\n    .dataframe thead th {\n        text-align: right;\n    }\n</style>\n<table border=\"1\" class=\"dataframe\">\n  <thead>\n    <tr style=\"text-align: right;\">\n      <th></th>\n      <th>W</th>\n      <th>X</th>\n      <th>Y</th>\n      <th>Z</th>\n      <th>XL</th>\n    </tr>\n  </thead>\n  <tbody>\n    <tr>\n      <th>A</th>\n      <td>-0.630507</td>\n      <td>-1.398290</td>\n      <td>-0.219311</td>\n      <td>-0.045676</td>\n      <td>0.012421</td>\n    </tr>\n    <tr>\n      <th>B</th>\n      <td>0.093628</td>\n      <td>1.240813</td>\n      <td>-1.097693</td>\n      <td>-1.908009</td>\n      <td>-0.380104</td>\n    </tr>\n    <tr>\n      <th>C</th>\n      <td>-1.666059</td>\n      <td>-2.736995</td>\n      <td>1.522562</td>\n      <td>0.178009</td>\n      <td>-0.626805</td>\n    </tr>\n    <tr>\n      <th>D</th>\n      <td>-0.391089</td>\n      <td>1.743477</td>\n      <td>1.130018</td>\n      <td>0.897796</td>\n      <td>0.330866</td>\n    </tr>\n    <tr>\n      <th>E</th>\n      <td>-1.063049</td>\n      <td>-0.125381</td>\n      <td>-0.945588</td>\n      <td>2.029544</td>\n      <td>-1.046358</td>\n    </tr>\n  </tbody>\n</table>\n</div>"
     },
     "execution_count": 47,
     "metadata": {},
     "output_type": "execute_result"
    }
   ],
   "source": [
    "df"
   ],
   "metadata": {
    "collapsed": false,
    "pycharm": {
     "name": "#%%\n"
    }
   }
  },
  {
   "cell_type": "code",
   "execution_count": 50,
   "outputs": [
    {
     "data": {
      "text/plain": "-0.6305066330018959"
     },
     "execution_count": 50,
     "metadata": {},
     "output_type": "execute_result"
    }
   ],
   "source": [
    "df.loc['A','W']"
   ],
   "metadata": {
    "collapsed": false,
    "pycharm": {
     "name": "#%%\n"
    }
   }
  },
  {
   "cell_type": "code",
   "execution_count": 53,
   "outputs": [
    {
     "data": {
      "text/plain": "          W         X         Y         Z        XL\nA -0.630507 -1.398290 -0.219311 -0.045676  0.012421\nB  0.093628  1.240813 -1.097693 -1.908009 -0.380104\nC -1.666059 -2.736995  1.522562  0.178009 -0.626805\nD -0.391089  1.743477  1.130018  0.897796  0.330866\nE -1.063049 -0.125381 -0.945588  2.029544 -1.046358",
      "text/html": "<div>\n<style scoped>\n    .dataframe tbody tr th:only-of-type {\n        vertical-align: middle;\n    }\n\n    .dataframe tbody tr th {\n        vertical-align: top;\n    }\n\n    .dataframe thead th {\n        text-align: right;\n    }\n</style>\n<table border=\"1\" class=\"dataframe\">\n  <thead>\n    <tr style=\"text-align: right;\">\n      <th></th>\n      <th>W</th>\n      <th>X</th>\n      <th>Y</th>\n      <th>Z</th>\n      <th>XL</th>\n    </tr>\n  </thead>\n  <tbody>\n    <tr>\n      <th>A</th>\n      <td>-0.630507</td>\n      <td>-1.398290</td>\n      <td>-0.219311</td>\n      <td>-0.045676</td>\n      <td>0.012421</td>\n    </tr>\n    <tr>\n      <th>B</th>\n      <td>0.093628</td>\n      <td>1.240813</td>\n      <td>-1.097693</td>\n      <td>-1.908009</td>\n      <td>-0.380104</td>\n    </tr>\n    <tr>\n      <th>C</th>\n      <td>-1.666059</td>\n      <td>-2.736995</td>\n      <td>1.522562</td>\n      <td>0.178009</td>\n      <td>-0.626805</td>\n    </tr>\n    <tr>\n      <th>D</th>\n      <td>-0.391089</td>\n      <td>1.743477</td>\n      <td>1.130018</td>\n      <td>0.897796</td>\n      <td>0.330866</td>\n    </tr>\n    <tr>\n      <th>E</th>\n      <td>-1.063049</td>\n      <td>-0.125381</td>\n      <td>-0.945588</td>\n      <td>2.029544</td>\n      <td>-1.046358</td>\n    </tr>\n  </tbody>\n</table>\n</div>"
     },
     "execution_count": 53,
     "metadata": {},
     "output_type": "execute_result"
    }
   ],
   "source": [
    "df"
   ],
   "metadata": {
    "collapsed": false,
    "pycharm": {
     "name": "#%%\n"
    }
   }
  },
  {
   "cell_type": "code",
   "execution_count": 52,
   "outputs": [
    {
     "data": {
      "text/plain": "          W         Y\nA -0.630507 -0.219311\nB  0.093628 -1.097693",
      "text/html": "<div>\n<style scoped>\n    .dataframe tbody tr th:only-of-type {\n        vertical-align: middle;\n    }\n\n    .dataframe tbody tr th {\n        vertical-align: top;\n    }\n\n    .dataframe thead th {\n        text-align: right;\n    }\n</style>\n<table border=\"1\" class=\"dataframe\">\n  <thead>\n    <tr style=\"text-align: right;\">\n      <th></th>\n      <th>W</th>\n      <th>Y</th>\n    </tr>\n  </thead>\n  <tbody>\n    <tr>\n      <th>A</th>\n      <td>-0.630507</td>\n      <td>-0.219311</td>\n    </tr>\n    <tr>\n      <th>B</th>\n      <td>0.093628</td>\n      <td>-1.097693</td>\n    </tr>\n  </tbody>\n</table>\n</div>"
     },
     "execution_count": 52,
     "metadata": {},
     "output_type": "execute_result"
    }
   ],
   "source": [
    "df.loc[['A','B'] ,['W','Y'] ]"
   ],
   "metadata": {
    "collapsed": false,
    "pycharm": {
     "name": "#%%\n"
    }
   }
  },
  {
   "cell_type": "code",
   "execution_count": 54,
   "outputs": [
    {
     "data": {
      "text/plain": "          W         X         Y         Z        XL\nA -0.630507 -1.398290 -0.219311 -0.045676  0.012421\nB  0.093628  1.240813 -1.097693 -1.908009 -0.380104\nC -1.666059 -2.736995  1.522562  0.178009 -0.626805\nD -0.391089  1.743477  1.130018  0.897796  0.330866\nE -1.063049 -0.125381 -0.945588  2.029544 -1.046358",
      "text/html": "<div>\n<style scoped>\n    .dataframe tbody tr th:only-of-type {\n        vertical-align: middle;\n    }\n\n    .dataframe tbody tr th {\n        vertical-align: top;\n    }\n\n    .dataframe thead th {\n        text-align: right;\n    }\n</style>\n<table border=\"1\" class=\"dataframe\">\n  <thead>\n    <tr style=\"text-align: right;\">\n      <th></th>\n      <th>W</th>\n      <th>X</th>\n      <th>Y</th>\n      <th>Z</th>\n      <th>XL</th>\n    </tr>\n  </thead>\n  <tbody>\n    <tr>\n      <th>A</th>\n      <td>-0.630507</td>\n      <td>-1.398290</td>\n      <td>-0.219311</td>\n      <td>-0.045676</td>\n      <td>0.012421</td>\n    </tr>\n    <tr>\n      <th>B</th>\n      <td>0.093628</td>\n      <td>1.240813</td>\n      <td>-1.097693</td>\n      <td>-1.908009</td>\n      <td>-0.380104</td>\n    </tr>\n    <tr>\n      <th>C</th>\n      <td>-1.666059</td>\n      <td>-2.736995</td>\n      <td>1.522562</td>\n      <td>0.178009</td>\n      <td>-0.626805</td>\n    </tr>\n    <tr>\n      <th>D</th>\n      <td>-0.391089</td>\n      <td>1.743477</td>\n      <td>1.130018</td>\n      <td>0.897796</td>\n      <td>0.330866</td>\n    </tr>\n    <tr>\n      <th>E</th>\n      <td>-1.063049</td>\n      <td>-0.125381</td>\n      <td>-0.945588</td>\n      <td>2.029544</td>\n      <td>-1.046358</td>\n    </tr>\n  </tbody>\n</table>\n</div>"
     },
     "execution_count": 54,
     "metadata": {},
     "output_type": "execute_result"
    }
   ],
   "source": [
    "df"
   ],
   "metadata": {
    "collapsed": false,
    "pycharm": {
     "name": "#%%\n"
    }
   }
  },
  {
   "cell_type": "code",
   "execution_count": 56,
   "outputs": [],
   "source": [
    "booldf = df>0"
   ],
   "metadata": {
    "collapsed": false,
    "pycharm": {
     "name": "#%%\n"
    }
   }
  },
  {
   "cell_type": "code",
   "execution_count": 57,
   "outputs": [
    {
     "data": {
      "text/plain": "       W      X      Y      Z     XL\nA  False  False  False  False   True\nB   True   True  False  False  False\nC  False  False   True   True  False\nD  False   True   True   True   True\nE  False  False  False   True  False",
      "text/html": "<div>\n<style scoped>\n    .dataframe tbody tr th:only-of-type {\n        vertical-align: middle;\n    }\n\n    .dataframe tbody tr th {\n        vertical-align: top;\n    }\n\n    .dataframe thead th {\n        text-align: right;\n    }\n</style>\n<table border=\"1\" class=\"dataframe\">\n  <thead>\n    <tr style=\"text-align: right;\">\n      <th></th>\n      <th>W</th>\n      <th>X</th>\n      <th>Y</th>\n      <th>Z</th>\n      <th>XL</th>\n    </tr>\n  </thead>\n  <tbody>\n    <tr>\n      <th>A</th>\n      <td>False</td>\n      <td>False</td>\n      <td>False</td>\n      <td>False</td>\n      <td>True</td>\n    </tr>\n    <tr>\n      <th>B</th>\n      <td>True</td>\n      <td>True</td>\n      <td>False</td>\n      <td>False</td>\n      <td>False</td>\n    </tr>\n    <tr>\n      <th>C</th>\n      <td>False</td>\n      <td>False</td>\n      <td>True</td>\n      <td>True</td>\n      <td>False</td>\n    </tr>\n    <tr>\n      <th>D</th>\n      <td>False</td>\n      <td>True</td>\n      <td>True</td>\n      <td>True</td>\n      <td>True</td>\n    </tr>\n    <tr>\n      <th>E</th>\n      <td>False</td>\n      <td>False</td>\n      <td>False</td>\n      <td>True</td>\n      <td>False</td>\n    </tr>\n  </tbody>\n</table>\n</div>"
     },
     "execution_count": 57,
     "metadata": {},
     "output_type": "execute_result"
    }
   ],
   "source": [
    "booldf"
   ],
   "metadata": {
    "collapsed": false,
    "pycharm": {
     "name": "#%%\n"
    }
   }
  },
  {
   "cell_type": "code",
   "execution_count": 58,
   "outputs": [
    {
     "data": {
      "text/plain": "          W         X         Y         Z        XL\nA       NaN       NaN       NaN       NaN  0.012421\nB  0.093628  1.240813       NaN       NaN       NaN\nC       NaN       NaN  1.522562  0.178009       NaN\nD       NaN  1.743477  1.130018  0.897796  0.330866\nE       NaN       NaN       NaN  2.029544       NaN",
      "text/html": "<div>\n<style scoped>\n    .dataframe tbody tr th:only-of-type {\n        vertical-align: middle;\n    }\n\n    .dataframe tbody tr th {\n        vertical-align: top;\n    }\n\n    .dataframe thead th {\n        text-align: right;\n    }\n</style>\n<table border=\"1\" class=\"dataframe\">\n  <thead>\n    <tr style=\"text-align: right;\">\n      <th></th>\n      <th>W</th>\n      <th>X</th>\n      <th>Y</th>\n      <th>Z</th>\n      <th>XL</th>\n    </tr>\n  </thead>\n  <tbody>\n    <tr>\n      <th>A</th>\n      <td>NaN</td>\n      <td>NaN</td>\n      <td>NaN</td>\n      <td>NaN</td>\n      <td>0.012421</td>\n    </tr>\n    <tr>\n      <th>B</th>\n      <td>0.093628</td>\n      <td>1.240813</td>\n      <td>NaN</td>\n      <td>NaN</td>\n      <td>NaN</td>\n    </tr>\n    <tr>\n      <th>C</th>\n      <td>NaN</td>\n      <td>NaN</td>\n      <td>1.522562</td>\n      <td>0.178009</td>\n      <td>NaN</td>\n    </tr>\n    <tr>\n      <th>D</th>\n      <td>NaN</td>\n      <td>1.743477</td>\n      <td>1.130018</td>\n      <td>0.897796</td>\n      <td>0.330866</td>\n    </tr>\n    <tr>\n      <th>E</th>\n      <td>NaN</td>\n      <td>NaN</td>\n      <td>NaN</td>\n      <td>2.029544</td>\n      <td>NaN</td>\n    </tr>\n  </tbody>\n</table>\n</div>"
     },
     "execution_count": 58,
     "metadata": {},
     "output_type": "execute_result"
    }
   ],
   "source": [
    "df[booldf]"
   ],
   "metadata": {
    "collapsed": false,
    "pycharm": {
     "name": "#%%\n"
    }
   }
  },
  {
   "cell_type": "code",
   "execution_count": 59,
   "outputs": [
    {
     "data": {
      "text/plain": "          W         X         Y         Z        XL\nA       NaN       NaN       NaN       NaN  0.012421\nB  0.093628  1.240813       NaN       NaN       NaN\nC       NaN       NaN  1.522562  0.178009       NaN\nD       NaN  1.743477  1.130018  0.897796  0.330866\nE       NaN       NaN       NaN  2.029544       NaN",
      "text/html": "<div>\n<style scoped>\n    .dataframe tbody tr th:only-of-type {\n        vertical-align: middle;\n    }\n\n    .dataframe tbody tr th {\n        vertical-align: top;\n    }\n\n    .dataframe thead th {\n        text-align: right;\n    }\n</style>\n<table border=\"1\" class=\"dataframe\">\n  <thead>\n    <tr style=\"text-align: right;\">\n      <th></th>\n      <th>W</th>\n      <th>X</th>\n      <th>Y</th>\n      <th>Z</th>\n      <th>XL</th>\n    </tr>\n  </thead>\n  <tbody>\n    <tr>\n      <th>A</th>\n      <td>NaN</td>\n      <td>NaN</td>\n      <td>NaN</td>\n      <td>NaN</td>\n      <td>0.012421</td>\n    </tr>\n    <tr>\n      <th>B</th>\n      <td>0.093628</td>\n      <td>1.240813</td>\n      <td>NaN</td>\n      <td>NaN</td>\n      <td>NaN</td>\n    </tr>\n    <tr>\n      <th>C</th>\n      <td>NaN</td>\n      <td>NaN</td>\n      <td>1.522562</td>\n      <td>0.178009</td>\n      <td>NaN</td>\n    </tr>\n    <tr>\n      <th>D</th>\n      <td>NaN</td>\n      <td>1.743477</td>\n      <td>1.130018</td>\n      <td>0.897796</td>\n      <td>0.330866</td>\n    </tr>\n    <tr>\n      <th>E</th>\n      <td>NaN</td>\n      <td>NaN</td>\n      <td>NaN</td>\n      <td>2.029544</td>\n      <td>NaN</td>\n    </tr>\n  </tbody>\n</table>\n</div>"
     },
     "execution_count": 59,
     "metadata": {},
     "output_type": "execute_result"
    }
   ],
   "source": [
    "df[df>0]"
   ],
   "metadata": {
    "collapsed": false,
    "pycharm": {
     "name": "#%%\n"
    }
   }
  },
  {
   "cell_type": "code",
   "execution_count": 60,
   "outputs": [
    {
     "data": {
      "text/plain": "          W         X         Y         Z        XL\nA -0.630507 -1.398290 -0.219311 -0.045676  0.012421\nB  0.093628  1.240813 -1.097693 -1.908009 -0.380104\nC -1.666059 -2.736995  1.522562  0.178009 -0.626805\nD -0.391089  1.743477  1.130018  0.897796  0.330866\nE -1.063049 -0.125381 -0.945588  2.029544 -1.046358",
      "text/html": "<div>\n<style scoped>\n    .dataframe tbody tr th:only-of-type {\n        vertical-align: middle;\n    }\n\n    .dataframe tbody tr th {\n        vertical-align: top;\n    }\n\n    .dataframe thead th {\n        text-align: right;\n    }\n</style>\n<table border=\"1\" class=\"dataframe\">\n  <thead>\n    <tr style=\"text-align: right;\">\n      <th></th>\n      <th>W</th>\n      <th>X</th>\n      <th>Y</th>\n      <th>Z</th>\n      <th>XL</th>\n    </tr>\n  </thead>\n  <tbody>\n    <tr>\n      <th>A</th>\n      <td>-0.630507</td>\n      <td>-1.398290</td>\n      <td>-0.219311</td>\n      <td>-0.045676</td>\n      <td>0.012421</td>\n    </tr>\n    <tr>\n      <th>B</th>\n      <td>0.093628</td>\n      <td>1.240813</td>\n      <td>-1.097693</td>\n      <td>-1.908009</td>\n      <td>-0.380104</td>\n    </tr>\n    <tr>\n      <th>C</th>\n      <td>-1.666059</td>\n      <td>-2.736995</td>\n      <td>1.522562</td>\n      <td>0.178009</td>\n      <td>-0.626805</td>\n    </tr>\n    <tr>\n      <th>D</th>\n      <td>-0.391089</td>\n      <td>1.743477</td>\n      <td>1.130018</td>\n      <td>0.897796</td>\n      <td>0.330866</td>\n    </tr>\n    <tr>\n      <th>E</th>\n      <td>-1.063049</td>\n      <td>-0.125381</td>\n      <td>-0.945588</td>\n      <td>2.029544</td>\n      <td>-1.046358</td>\n    </tr>\n  </tbody>\n</table>\n</div>"
     },
     "execution_count": 60,
     "metadata": {},
     "output_type": "execute_result"
    }
   ],
   "source": [
    "df"
   ],
   "metadata": {
    "collapsed": false,
    "pycharm": {
     "name": "#%%\n"
    }
   }
  },
  {
   "cell_type": "code",
   "execution_count": null,
   "outputs": [],
   "source": [],
   "metadata": {
    "collapsed": false,
    "pycharm": {
     "name": "#%%\n"
    }
   }
  }
 ],
 "metadata": {
  "kernelspec": {
   "display_name": "Python 3",
   "language": "python",
   "name": "python3"
  },
  "language_info": {
   "codemirror_mode": {
    "name": "ipython",
    "version": 2
   },
   "file_extension": ".py",
   "mimetype": "text/x-python",
   "name": "python",
   "nbconvert_exporter": "python",
   "pygments_lexer": "ipython2",
   "version": "2.7.6"
  }
 },
 "nbformat": 4,
 "nbformat_minor": 0
}