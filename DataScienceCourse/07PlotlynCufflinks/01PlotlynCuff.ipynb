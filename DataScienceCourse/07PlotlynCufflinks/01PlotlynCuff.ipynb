{
 "cells": [
  {
   "cell_type": "code",
   "execution_count": null,
   "outputs": [],
   "source": [
    "!pip install plotly"
   ],
   "metadata": {
    "collapsed": false,
    "pycharm": {
     "name": "#%%\n"
    }
   }
  },
  {
   "cell_type": "code",
   "execution_count": 2,
   "outputs": [
    {
     "name": "stdout",
     "output_type": "stream",
     "text": [
      "Collecting cufflinks\n",
      "  Downloading cufflinks-0.17.3.tar.gz (81 kB)\n",
      "  Preparing metadata (setup.py): started\n",
      "  Preparing metadata (setup.py): finished with status 'done'\n",
      "Requirement already satisfied: numpy>=1.9.2 in c:\\users\\ali\\appdata\\local\\programs\\python\\python36\\lib\\site-packages (from cufflinks) (1.19.5)\n",
      "Requirement already satisfied: pandas>=0.19.2 in c:\\users\\ali\\appdata\\local\\programs\\python\\python36\\lib\\site-packages (from cufflinks) (1.1.5)\n",
      "Requirement already satisfied: plotly>=4.1.1 in c:\\users\\ali\\appdata\\local\\programs\\python\\python36\\lib\\site-packages (from cufflinks) (5.10.0)\n",
      "Requirement already satisfied: six>=1.9.0 in c:\\users\\ali\\appdata\\local\\programs\\python\\python36\\lib\\site-packages (from cufflinks) (1.15.0)\n",
      "Collecting colorlover>=0.2.1\n",
      "  Downloading colorlover-0.3.0-py3-none-any.whl (8.9 kB)\n",
      "Requirement already satisfied: setuptools>=34.4.1 in c:\\users\\ali\\appdata\\local\\programs\\python\\python36\\lib\\site-packages (from cufflinks) (59.6.0)\n",
      "Requirement already satisfied: ipython>=5.3.0 in c:\\users\\ali\\appdata\\local\\programs\\python\\python36\\lib\\site-packages (from cufflinks) (7.16.3)\n",
      "Requirement already satisfied: ipywidgets>=7.0.0 in c:\\users\\ali\\appdata\\local\\programs\\python\\python36\\lib\\site-packages (from cufflinks) (7.7.1)\n",
      "Requirement already satisfied: traitlets>=4.2 in c:\\users\\ali\\appdata\\local\\programs\\python\\python36\\lib\\site-packages (from ipython>=5.3.0->cufflinks) (4.3.3)\n",
      "Requirement already satisfied: pickleshare in c:\\users\\ali\\appdata\\local\\programs\\python\\python36\\lib\\site-packages (from ipython>=5.3.0->cufflinks) (0.7.5)\n",
      "Requirement already satisfied: decorator in c:\\users\\ali\\appdata\\local\\programs\\python\\python36\\lib\\site-packages (from ipython>=5.3.0->cufflinks) (5.1.1)\n",
      "Requirement already satisfied: prompt-toolkit!=3.0.0,!=3.0.1,<3.1.0,>=2.0.0 in c:\\users\\ali\\appdata\\local\\programs\\python\\python36\\lib\\site-packages (from ipython>=5.3.0->cufflinks) (3.0.30)\n",
      "Requirement already satisfied: backcall in c:\\users\\ali\\appdata\\local\\programs\\python\\python36\\lib\\site-packages (from ipython>=5.3.0->cufflinks) (0.2.0)\n",
      "Requirement already satisfied: colorama in c:\\users\\ali\\appdata\\local\\programs\\python\\python36\\lib\\site-packages (from ipython>=5.3.0->cufflinks) (0.4.5)\n",
      "Requirement already satisfied: pygments in c:\\users\\ali\\appdata\\local\\programs\\python\\python36\\lib\\site-packages (from ipython>=5.3.0->cufflinks) (2.13.0)\n",
      "Requirement already satisfied: jedi<=0.17.2,>=0.10 in c:\\users\\ali\\appdata\\local\\programs\\python\\python36\\lib\\site-packages (from ipython>=5.3.0->cufflinks) (0.17.2)\n",
      "Requirement already satisfied: ipykernel>=4.5.1 in c:\\users\\ali\\appdata\\local\\programs\\python\\python36\\lib\\site-packages (from ipywidgets>=7.0.0->cufflinks) (5.5.6)\n",
      "Requirement already satisfied: jupyterlab-widgets>=1.0.0 in c:\\users\\ali\\appdata\\local\\programs\\python\\python36\\lib\\site-packages (from ipywidgets>=7.0.0->cufflinks) (1.1.1)\n",
      "Requirement already satisfied: ipython-genutils~=0.2.0 in c:\\users\\ali\\appdata\\local\\programs\\python\\python36\\lib\\site-packages (from ipywidgets>=7.0.0->cufflinks) (0.2.0)\n",
      "Requirement already satisfied: widgetsnbextension~=3.6.0 in c:\\users\\ali\\appdata\\local\\programs\\python\\python36\\lib\\site-packages (from ipywidgets>=7.0.0->cufflinks) (3.6.1)\n",
      "Requirement already satisfied: pytz>=2017.2 in c:\\users\\ali\\appdata\\local\\programs\\python\\python36\\lib\\site-packages (from pandas>=0.19.2->cufflinks) (2022.2.1)\n",
      "Requirement already satisfied: python-dateutil>=2.7.3 in c:\\users\\ali\\appdata\\local\\programs\\python\\python36\\lib\\site-packages (from pandas>=0.19.2->cufflinks) (2.8.2)\n",
      "Requirement already satisfied: tenacity>=6.2.0 in c:\\users\\ali\\appdata\\local\\programs\\python\\python36\\lib\\site-packages (from plotly>=4.1.1->cufflinks) (8.0.1)\n",
      "Requirement already satisfied: jupyter-client in c:\\users\\ali\\appdata\\local\\programs\\python\\python36\\lib\\site-packages (from ipykernel>=4.5.1->ipywidgets>=7.0.0->cufflinks) (7.1.2)\n",
      "Requirement already satisfied: tornado>=4.2 in c:\\users\\ali\\appdata\\local\\programs\\python\\python36\\lib\\site-packages (from ipykernel>=4.5.1->ipywidgets>=7.0.0->cufflinks) (6.1)\n",
      "Requirement already satisfied: parso<0.8.0,>=0.7.0 in c:\\users\\ali\\appdata\\local\\programs\\python\\python36\\lib\\site-packages (from jedi<=0.17.2,>=0.10->ipython>=5.3.0->cufflinks) (0.7.1)\n",
      "Requirement already satisfied: wcwidth in c:\\users\\ali\\appdata\\local\\programs\\python\\python36\\lib\\site-packages (from prompt-toolkit!=3.0.0,!=3.0.1,<3.1.0,>=2.0.0->ipython>=5.3.0->cufflinks) (0.2.5)\n",
      "Requirement already satisfied: notebook>=4.4.1 in c:\\users\\ali\\appdata\\local\\programs\\python\\python36\\lib\\site-packages (from widgetsnbextension~=3.6.0->ipywidgets>=7.0.0->cufflinks) (6.4.10)\n",
      "Requirement already satisfied: terminado>=0.8.3 in c:\\users\\ali\\appdata\\local\\programs\\python\\python36\\lib\\site-packages (from notebook>=4.4.1->widgetsnbextension~=3.6.0->ipywidgets>=7.0.0->cufflinks) (0.12.1)\n",
      "Requirement already satisfied: prometheus-client in c:\\users\\ali\\appdata\\local\\programs\\python\\python36\\lib\\site-packages (from notebook>=4.4.1->widgetsnbextension~=3.6.0->ipywidgets>=7.0.0->cufflinks) (0.14.1)\n",
      "Requirement already satisfied: Send2Trash>=1.8.0 in c:\\users\\ali\\appdata\\local\\programs\\python\\python36\\lib\\site-packages (from notebook>=4.4.1->widgetsnbextension~=3.6.0->ipywidgets>=7.0.0->cufflinks) (1.8.0)\n",
      "Requirement already satisfied: jupyter-core>=4.6.1 in c:\\users\\ali\\appdata\\local\\programs\\python\\python36\\lib\\site-packages (from notebook>=4.4.1->widgetsnbextension~=3.6.0->ipywidgets>=7.0.0->cufflinks) (4.9.2)\n",
      "Requirement already satisfied: argon2-cffi in c:\\users\\ali\\appdata\\local\\programs\\python\\python36\\lib\\site-packages (from notebook>=4.4.1->widgetsnbextension~=3.6.0->ipywidgets>=7.0.0->cufflinks) (21.3.0)\n",
      "Requirement already satisfied: pyzmq>=17 in c:\\users\\ali\\appdata\\local\\programs\\python\\python36\\lib\\site-packages (from notebook>=4.4.1->widgetsnbextension~=3.6.0->ipywidgets>=7.0.0->cufflinks) (23.2.1)\n",
      "Requirement already satisfied: jinja2 in c:\\users\\ali\\appdata\\local\\programs\\python\\python36\\lib\\site-packages (from notebook>=4.4.1->widgetsnbextension~=3.6.0->ipywidgets>=7.0.0->cufflinks) (3.0.3)\n",
      "Requirement already satisfied: nbconvert>=5 in c:\\users\\ali\\appdata\\local\\programs\\python\\python36\\lib\\site-packages (from notebook>=4.4.1->widgetsnbextension~=3.6.0->ipywidgets>=7.0.0->cufflinks) (6.0.7)\n",
      "Requirement already satisfied: nest-asyncio>=1.5 in c:\\users\\ali\\appdata\\local\\programs\\python\\python36\\lib\\site-packages (from notebook>=4.4.1->widgetsnbextension~=3.6.0->ipywidgets>=7.0.0->cufflinks) (1.5.5)\n",
      "Requirement already satisfied: nbformat in c:\\users\\ali\\appdata\\local\\programs\\python\\python36\\lib\\site-packages (from notebook>=4.4.1->widgetsnbextension~=3.6.0->ipywidgets>=7.0.0->cufflinks) (5.1.3)\n",
      "Requirement already satisfied: entrypoints in c:\\users\\ali\\appdata\\local\\programs\\python\\python36\\lib\\site-packages (from jupyter-client->ipykernel>=4.5.1->ipywidgets>=7.0.0->cufflinks) (0.4)\n",
      "Requirement already satisfied: pywin32>=1.0 in c:\\users\\ali\\appdata\\local\\programs\\python\\python36\\lib\\site-packages (from jupyter-core>=4.6.1->notebook>=4.4.1->widgetsnbextension~=3.6.0->ipywidgets>=7.0.0->cufflinks) (304)\n",
      "Requirement already satisfied: mistune<2,>=0.8.1 in c:\\users\\ali\\appdata\\local\\programs\\python\\python36\\lib\\site-packages (from nbconvert>=5->notebook>=4.4.1->widgetsnbextension~=3.6.0->ipywidgets>=7.0.0->cufflinks) (0.8.4)\n",
      "Requirement already satisfied: defusedxml in c:\\users\\ali\\appdata\\local\\programs\\python\\python36\\lib\\site-packages (from nbconvert>=5->notebook>=4.4.1->widgetsnbextension~=3.6.0->ipywidgets>=7.0.0->cufflinks) (0.7.1)\n",
      "Requirement already satisfied: bleach in c:\\users\\ali\\appdata\\local\\programs\\python\\python36\\lib\\site-packages (from nbconvert>=5->notebook>=4.4.1->widgetsnbextension~=3.6.0->ipywidgets>=7.0.0->cufflinks) (4.1.0)\n",
      "Requirement already satisfied: testpath in c:\\users\\ali\\appdata\\local\\programs\\python\\python36\\lib\\site-packages (from nbconvert>=5->notebook>=4.4.1->widgetsnbextension~=3.6.0->ipywidgets>=7.0.0->cufflinks) (0.6.0)\n",
      "Requirement already satisfied: nbclient<0.6.0,>=0.5.0 in c:\\users\\ali\\appdata\\local\\programs\\python\\python36\\lib\\site-packages (from nbconvert>=5->notebook>=4.4.1->widgetsnbextension~=3.6.0->ipywidgets>=7.0.0->cufflinks) (0.5.9)\n",
      "Requirement already satisfied: pandocfilters>=1.4.1 in c:\\users\\ali\\appdata\\local\\programs\\python\\python36\\lib\\site-packages (from nbconvert>=5->notebook>=4.4.1->widgetsnbextension~=3.6.0->ipywidgets>=7.0.0->cufflinks) (1.5.0)\n",
      "Requirement already satisfied: jupyterlab-pygments in c:\\users\\ali\\appdata\\local\\programs\\python\\python36\\lib\\site-packages (from nbconvert>=5->notebook>=4.4.1->widgetsnbextension~=3.6.0->ipywidgets>=7.0.0->cufflinks) (0.1.2)\n",
      "Requirement already satisfied: MarkupSafe>=2.0 in c:\\users\\ali\\appdata\\local\\programs\\python\\python36\\lib\\site-packages (from jinja2->notebook>=4.4.1->widgetsnbextension~=3.6.0->ipywidgets>=7.0.0->cufflinks) (2.0.1)\n",
      "Requirement already satisfied: jsonschema!=2.5.0,>=2.4 in c:\\users\\ali\\appdata\\local\\programs\\python\\python36\\lib\\site-packages (from nbformat->notebook>=4.4.1->widgetsnbextension~=3.6.0->ipywidgets>=7.0.0->cufflinks) (3.2.0)\n",
      "Requirement already satisfied: pywinpty>=1.1.0 in c:\\users\\ali\\appdata\\local\\programs\\python\\python36\\lib\\site-packages (from terminado>=0.8.3->notebook>=4.4.1->widgetsnbextension~=3.6.0->ipywidgets>=7.0.0->cufflinks) (1.1.6)\n",
      "Requirement already satisfied: argon2-cffi-bindings in c:\\users\\ali\\appdata\\local\\programs\\python\\python36\\lib\\site-packages (from argon2-cffi->notebook>=4.4.1->widgetsnbextension~=3.6.0->ipywidgets>=7.0.0->cufflinks) (21.2.0)\n",
      "Requirement already satisfied: typing-extensions in c:\\users\\ali\\appdata\\local\\programs\\python\\python36\\lib\\site-packages (from argon2-cffi->notebook>=4.4.1->widgetsnbextension~=3.6.0->ipywidgets>=7.0.0->cufflinks) (3.7.4.3)\n",
      "Requirement already satisfied: dataclasses in c:\\users\\ali\\appdata\\local\\programs\\python\\python36\\lib\\site-packages (from argon2-cffi->notebook>=4.4.1->widgetsnbextension~=3.6.0->ipywidgets>=7.0.0->cufflinks) (0.8)\n",
      "Requirement already satisfied: attrs>=17.4.0 in c:\\users\\ali\\appdata\\local\\programs\\python\\python36\\lib\\site-packages (from jsonschema!=2.5.0,>=2.4->nbformat->notebook>=4.4.1->widgetsnbextension~=3.6.0->ipywidgets>=7.0.0->cufflinks) (22.1.0)\n",
      "Requirement already satisfied: importlib-metadata in c:\\users\\ali\\appdata\\local\\programs\\python\\python36\\lib\\site-packages (from jsonschema!=2.5.0,>=2.4->nbformat->notebook>=4.4.1->widgetsnbextension~=3.6.0->ipywidgets>=7.0.0->cufflinks) (4.8.3)\n",
      "Requirement already satisfied: pyrsistent>=0.14.0 in c:\\users\\ali\\appdata\\local\\programs\\python\\python36\\lib\\site-packages (from jsonschema!=2.5.0,>=2.4->nbformat->notebook>=4.4.1->widgetsnbextension~=3.6.0->ipywidgets>=7.0.0->cufflinks) (0.18.0)\n",
      "Requirement already satisfied: async-generator in c:\\users\\ali\\appdata\\local\\programs\\python\\python36\\lib\\site-packages (from nbclient<0.6.0,>=0.5.0->nbconvert>=5->notebook>=4.4.1->widgetsnbextension~=3.6.0->ipywidgets>=7.0.0->cufflinks) (1.10)\n",
      "Requirement already satisfied: cffi>=1.0.1 in c:\\users\\ali\\appdata\\local\\programs\\python\\python36\\lib\\site-packages (from argon2-cffi-bindings->argon2-cffi->notebook>=4.4.1->widgetsnbextension~=3.6.0->ipywidgets>=7.0.0->cufflinks) (1.15.1)\n",
      "Requirement already satisfied: packaging in c:\\users\\ali\\appdata\\local\\programs\\python\\python36\\lib\\site-packages (from bleach->nbconvert>=5->notebook>=4.4.1->widgetsnbextension~=3.6.0->ipywidgets>=7.0.0->cufflinks) (21.3)\n",
      "Requirement already satisfied: webencodings in c:\\users\\ali\\appdata\\local\\programs\\python\\python36\\lib\\site-packages (from bleach->nbconvert>=5->notebook>=4.4.1->widgetsnbextension~=3.6.0->ipywidgets>=7.0.0->cufflinks) (0.5.1)\n",
      "Requirement already satisfied: pycparser in c:\\users\\ali\\appdata\\local\\programs\\python\\python36\\lib\\site-packages (from cffi>=1.0.1->argon2-cffi-bindings->argon2-cffi->notebook>=4.4.1->widgetsnbextension~=3.6.0->ipywidgets>=7.0.0->cufflinks) (2.21)\n",
      "Requirement already satisfied: zipp>=0.5 in c:\\users\\ali\\appdata\\local\\programs\\python\\python36\\lib\\site-packages (from importlib-metadata->jsonschema!=2.5.0,>=2.4->nbformat->notebook>=4.4.1->widgetsnbextension~=3.6.0->ipywidgets>=7.0.0->cufflinks) (3.6.0)\n",
      "Requirement already satisfied: pyparsing!=3.0.5,>=2.0.2 in c:\\users\\ali\\appdata\\local\\programs\\python\\python36\\lib\\site-packages (from packaging->bleach->nbconvert>=5->notebook>=4.4.1->widgetsnbextension~=3.6.0->ipywidgets>=7.0.0->cufflinks) (3.0.9)\n",
      "Building wheels for collected packages: cufflinks\n",
      "  Building wheel for cufflinks (setup.py): started\n",
      "  Building wheel for cufflinks (setup.py): finished with status 'done'\n",
      "  Created wheel for cufflinks: filename=cufflinks-0.17.3-py3-none-any.whl size=68736 sha256=70ab8bc7e804ca17be56ed216e377153a6df34d0b574c50268914b4c095c11c3\n",
      "  Stored in directory: c:\\users\\ali\\appdata\\local\\pip\\cache\\wheels\\1c\\db\\ce\\70cf35eb5a61b9ea3d34434072a8821dddc4f21eb5127e5415\n",
      "Successfully built cufflinks\n",
      "Installing collected packages: colorlover, cufflinks\n",
      "Successfully installed colorlover-0.3.0 cufflinks-0.17.3\n"
     ]
    }
   ],
   "source": [
    "!pip install cufflinks"
   ],
   "metadata": {
    "collapsed": false,
    "pycharm": {
     "name": "#%%\n"
    }
   }
  },
  {
   "cell_type": "code",
   "execution_count": 11,
   "outputs": [
    {
     "name": "stdout",
     "output_type": "stream",
     "text": [
      "5.10.0\n"
     ]
    }
   ],
   "source": [
    "import pandas as pd\n",
    "import numpy as np\n",
    "from plotly import __version__\n",
    "print(__version__)\n",
    "%matplotlib inline"
   ],
   "metadata": {
    "collapsed": false,
    "pycharm": {
     "name": "#%%\n"
    }
   }
  },
  {
   "cell_type": "code",
   "execution_count": 4,
   "outputs": [],
   "source": [
    "import cufflinks as cf\n",
    "from plotly.offline import download_plotlyjs,init_notebook_mode,plot,iplot"
   ],
   "metadata": {
    "collapsed": false,
    "pycharm": {
     "name": "#%%\n"
    }
   }
  },
  {
   "cell_type": "code",
   "execution_count": 5,
   "outputs": [
    {
     "data": {
      "text/html": "        <script type=\"text/javascript\">\n        window.PlotlyConfig = {MathJaxConfig: 'local'};\n        if (window.MathJax && window.MathJax.Hub && window.MathJax.Hub.Config) {window.MathJax.Hub.Config({SVG: {font: \"STIX-Web\"}});}\n        if (typeof require !== 'undefined') {\n        require.undef(\"plotly\");\n        requirejs.config({\n            paths: {\n                'plotly': ['https://cdn.plot.ly/plotly-2.14.0.min']\n            }\n        });\n        require(['plotly'], function(Plotly) {\n            window._Plotly = Plotly;\n        });\n        }\n        </script>\n        "
     },
     "metadata": {},
     "output_type": "display_data"
    }
   ],
   "source": [
    "init_notebook_mode(connected=True)"
   ],
   "metadata": {
    "collapsed": false,
    "pycharm": {
     "name": "#%%\n"
    }
   }
  },
  {
   "cell_type": "code",
   "execution_count": 6,
   "outputs": [
    {
     "data": {
      "text/html": "        <script type=\"text/javascript\">\n        window.PlotlyConfig = {MathJaxConfig: 'local'};\n        if (window.MathJax && window.MathJax.Hub && window.MathJax.Hub.Config) {window.MathJax.Hub.Config({SVG: {font: \"STIX-Web\"}});}\n        if (typeof require !== 'undefined') {\n        require.undef(\"plotly\");\n        requirejs.config({\n            paths: {\n                'plotly': ['https://cdn.plot.ly/plotly-2.14.0.min']\n            }\n        });\n        require(['plotly'], function(Plotly) {\n            window._Plotly = Plotly;\n        });\n        }\n        </script>\n        "
     },
     "metadata": {},
     "output_type": "display_data"
    }
   ],
   "source": [
    "cf.go_offline()"
   ],
   "metadata": {
    "collapsed": false,
    "pycharm": {
     "name": "#%%\n"
    }
   }
  },
  {
   "cell_type": "code",
   "execution_count": 7,
   "outputs": [],
   "source": [
    "df = pd.DataFrame(np.random.randn(100,4),columns='A B C D'.split())"
   ],
   "metadata": {
    "collapsed": false,
    "pycharm": {
     "name": "#%%\n"
    }
   }
  },
  {
   "cell_type": "code",
   "execution_count": 8,
   "outputs": [
    {
     "data": {
      "text/plain": "           A         B         C         D\n0   1.809007  0.906293  0.769234  0.367522\n1   0.035275 -1.438636  0.533334  2.742701\n2  -1.372578  1.136968 -0.842426  0.625522\n3   0.012016  2.371611  0.320366 -0.677063\n4   1.000470  1.148561  0.084588  0.861152\n..       ...       ...       ...       ...\n95 -0.828369  0.276440  1.031930  0.208640\n96  1.189594  0.500159  0.998081 -0.727807\n97 -0.372426  1.707276  1.077444 -1.317908\n98  0.421661 -0.349903  0.873855 -1.259426\n99 -0.711202 -0.165835  0.216763 -0.903566\n\n[100 rows x 4 columns]",
      "text/html": "<div>\n<style scoped>\n    .dataframe tbody tr th:only-of-type {\n        vertical-align: middle;\n    }\n\n    .dataframe tbody tr th {\n        vertical-align: top;\n    }\n\n    .dataframe thead th {\n        text-align: right;\n    }\n</style>\n<table border=\"1\" class=\"dataframe\">\n  <thead>\n    <tr style=\"text-align: right;\">\n      <th></th>\n      <th>A</th>\n      <th>B</th>\n      <th>C</th>\n      <th>D</th>\n    </tr>\n  </thead>\n  <tbody>\n    <tr>\n      <th>0</th>\n      <td>1.809007</td>\n      <td>0.906293</td>\n      <td>0.769234</td>\n      <td>0.367522</td>\n    </tr>\n    <tr>\n      <th>1</th>\n      <td>0.035275</td>\n      <td>-1.438636</td>\n      <td>0.533334</td>\n      <td>2.742701</td>\n    </tr>\n    <tr>\n      <th>2</th>\n      <td>-1.372578</td>\n      <td>1.136968</td>\n      <td>-0.842426</td>\n      <td>0.625522</td>\n    </tr>\n    <tr>\n      <th>3</th>\n      <td>0.012016</td>\n      <td>2.371611</td>\n      <td>0.320366</td>\n      <td>-0.677063</td>\n    </tr>\n    <tr>\n      <th>4</th>\n      <td>1.000470</td>\n      <td>1.148561</td>\n      <td>0.084588</td>\n      <td>0.861152</td>\n    </tr>\n    <tr>\n      <th>...</th>\n      <td>...</td>\n      <td>...</td>\n      <td>...</td>\n      <td>...</td>\n    </tr>\n    <tr>\n      <th>95</th>\n      <td>-0.828369</td>\n      <td>0.276440</td>\n      <td>1.031930</td>\n      <td>0.208640</td>\n    </tr>\n    <tr>\n      <th>96</th>\n      <td>1.189594</td>\n      <td>0.500159</td>\n      <td>0.998081</td>\n      <td>-0.727807</td>\n    </tr>\n    <tr>\n      <th>97</th>\n      <td>-0.372426</td>\n      <td>1.707276</td>\n      <td>1.077444</td>\n      <td>-1.317908</td>\n    </tr>\n    <tr>\n      <th>98</th>\n      <td>0.421661</td>\n      <td>-0.349903</td>\n      <td>0.873855</td>\n      <td>-1.259426</td>\n    </tr>\n    <tr>\n      <th>99</th>\n      <td>-0.711202</td>\n      <td>-0.165835</td>\n      <td>0.216763</td>\n      <td>-0.903566</td>\n    </tr>\n  </tbody>\n</table>\n<p>100 rows × 4 columns</p>\n</div>"
     },
     "execution_count": 8,
     "metadata": {},
     "output_type": "execute_result"
    }
   ],
   "source": [
    "df"
   ],
   "metadata": {
    "collapsed": false,
    "pycharm": {
     "name": "#%%\n"
    }
   }
  },
  {
   "cell_type": "code",
   "execution_count": 9,
   "outputs": [],
   "source": [
    "df2 = pd.DataFrame({\n",
    "    'Category': 'A B C'.split(),\n",
    "    'Values':[33,43,22]\n",
    "})"
   ],
   "metadata": {
    "collapsed": false,
    "pycharm": {
     "name": "#%%\n"
    }
   }
  },
  {
   "cell_type": "code",
   "execution_count": 10,
   "outputs": [
    {
     "data": {
      "text/plain": "  Category  Values\n0        A      33\n1        B      43\n2        C      22",
      "text/html": "<div>\n<style scoped>\n    .dataframe tbody tr th:only-of-type {\n        vertical-align: middle;\n    }\n\n    .dataframe tbody tr th {\n        vertical-align: top;\n    }\n\n    .dataframe thead th {\n        text-align: right;\n    }\n</style>\n<table border=\"1\" class=\"dataframe\">\n  <thead>\n    <tr style=\"text-align: right;\">\n      <th></th>\n      <th>Category</th>\n      <th>Values</th>\n    </tr>\n  </thead>\n  <tbody>\n    <tr>\n      <th>0</th>\n      <td>A</td>\n      <td>33</td>\n    </tr>\n    <tr>\n      <th>1</th>\n      <td>B</td>\n      <td>43</td>\n    </tr>\n    <tr>\n      <th>2</th>\n      <td>C</td>\n      <td>22</td>\n    </tr>\n  </tbody>\n</table>\n</div>"
     },
     "execution_count": 10,
     "metadata": {},
     "output_type": "execute_result"
    }
   ],
   "source": [
    "df2"
   ],
   "metadata": {
    "collapsed": false,
    "pycharm": {
     "name": "#%%\n"
    }
   }
  },
  {
   "cell_type": "code",
   "execution_count": 13,
   "outputs": [
    {
     "data": {
      "application/vnd.plotly.v1+json": {
       "data": [
        {
         "line": {
          "color": "rgba(255, 153, 51, 1.0)",
          "dash": "solid",
          "shape": "linear",
          "width": 1.3
         },
         "mode": "lines",
         "name": "A",
         "text": "",
         "x": [
          0,
          1,
          2,
          3,
          4,
          5,
          6,
          7,
          8,
          9,
          10,
          11,
          12,
          13,
          14,
          15,
          16,
          17,
          18,
          19,
          20,
          21,
          22,
          23,
          24,
          25,
          26,
          27,
          28,
          29,
          30,
          31,
          32,
          33,
          34,
          35,
          36,
          37,
          38,
          39,
          40,
          41,
          42,
          43,
          44,
          45,
          46,
          47,
          48,
          49,
          50,
          51,
          52,
          53,
          54,
          55,
          56,
          57,
          58,
          59,
          60,
          61,
          62,
          63,
          64,
          65,
          66,
          67,
          68,
          69,
          70,
          71,
          72,
          73,
          74,
          75,
          76,
          77,
          78,
          79,
          80,
          81,
          82,
          83,
          84,
          85,
          86,
          87,
          88,
          89,
          90,
          91,
          92,
          93,
          94,
          95,
          96,
          97,
          98,
          99
         ],
         "y": [
          1.80900659363173,
          0.035274995502989924,
          -1.3725782517059886,
          0.012016290428291753,
          1.000469906945173,
          -0.6195273127982366,
          -0.5493763932833622,
          -0.9911107758158834,
          0.23248967391723316,
          -0.14506312346767283,
          0.34184931249590944,
          0.2715616077472833,
          0.8393674963432226,
          -0.10711850809753216,
          1.8812271802120675,
          1.0538530621847526,
          -0.29984010726672844,
          -1.0005896037131567,
          0.6236039509447258,
          2.547660303248421,
          0.3645808633949736,
          0.7584190685180403,
          -1.3718605252785057,
          1.1236466096015902,
          -0.6575364883108161,
          -0.7435742465354352,
          -0.9510929805192601,
          -0.7250355706046863,
          -0.3010833740014651,
          -0.8365580045456453,
          0.5375896300969594,
          0.4250820358790253,
          -1.4817640383211563,
          1.0742946624051832,
          -1.6615502948070402,
          -0.4539105034533779,
          0.9627637686417985,
          1.0917899219961893,
          0.40651750118727115,
          0.30539547233503134,
          0.7154867771216606,
          0.4988743495347605,
          0.8934197814724031,
          -0.7226701733307364,
          -0.6212640967281962,
          -0.20366491195303663,
          0.6293167407460972,
          0.932849322897483,
          0.0889989385329877,
          -0.009742713919367142,
          0.8547431702291997,
          -0.06513079400429111,
          -0.5810102718413085,
          -0.9663593983135926,
          0.6305616168977342,
          1.9913392481918006,
          -1.9776861325927175,
          2.0202457074867883,
          -1.0347658552177048,
          -0.6695623864365713,
          1.183237535410795,
          0.4225713154856195,
          1.2265275340992094,
          -1.620088276804922,
          0.36251610386564465,
          -0.39921777940713343,
          0.19623576958325684,
          -0.28567696303803214,
          -0.40868573997383634,
          0.4589878761780295,
          -0.8307604519242388,
          0.46409171043276753,
          -0.7934822881525643,
          -0.48507069853990153,
          1.0898652590025368,
          -1.3743038367541152,
          0.581212864653542,
          0.30331914137158783,
          -1.2179046818674735,
          -2.103526750442117,
          0.6834448164214543,
          -0.15730645803113177,
          0.9021369402599491,
          -1.1694166086342517,
          0.8148051426930465,
          0.9444288848742953,
          -0.6589176826651596,
          0.5351669268927843,
          0.20689663682579865,
          0.832979037395156,
          0.5435340867904964,
          1.2929265303581408,
          -1.014503830555063,
          1.3097655276016194,
          -0.3053438162070056,
          -0.828368648201911,
          1.189594403334678,
          -0.37242628836792796,
          0.42166106976218076,
          -0.7112018906041686
         ],
         "type": "scatter"
        },
        {
         "line": {
          "color": "rgba(55, 128, 191, 1.0)",
          "dash": "solid",
          "shape": "linear",
          "width": 1.3
         },
         "mode": "lines",
         "name": "B",
         "text": "",
         "x": [
          0,
          1,
          2,
          3,
          4,
          5,
          6,
          7,
          8,
          9,
          10,
          11,
          12,
          13,
          14,
          15,
          16,
          17,
          18,
          19,
          20,
          21,
          22,
          23,
          24,
          25,
          26,
          27,
          28,
          29,
          30,
          31,
          32,
          33,
          34,
          35,
          36,
          37,
          38,
          39,
          40,
          41,
          42,
          43,
          44,
          45,
          46,
          47,
          48,
          49,
          50,
          51,
          52,
          53,
          54,
          55,
          56,
          57,
          58,
          59,
          60,
          61,
          62,
          63,
          64,
          65,
          66,
          67,
          68,
          69,
          70,
          71,
          72,
          73,
          74,
          75,
          76,
          77,
          78,
          79,
          80,
          81,
          82,
          83,
          84,
          85,
          86,
          87,
          88,
          89,
          90,
          91,
          92,
          93,
          94,
          95,
          96,
          97,
          98,
          99
         ],
         "y": [
          0.9062930594144116,
          -1.4386362389423506,
          1.1369677802935936,
          2.3716105706749393,
          1.148561136980701,
          1.6384945821750838,
          -1.0740830064136329,
          -0.43741065236894316,
          0.5358574650869486,
          -0.2698795505516891,
          2.0197447105345563,
          0.4338245435899058,
          -0.6403534451698525,
          -1.895132322156619,
          0.047493285900842584,
          -0.21672463780566728,
          0.5117649446224504,
          0.7263239901604835,
          -1.4270079547470809,
          1.1684892701521439,
          -0.07635059518062,
          1.015995199829917,
          1.7008504923460286,
          -0.6630221858617115,
          -0.12131160545398256,
          2.201409865619109,
          1.5871548335880958,
          -1.4170235508141886,
          0.4156143179575276,
          -1.011196408980938,
          0.19523384068338345,
          -0.505399740247492,
          0.5600637862451191,
          -1.626626394671511,
          -2.242945396816825,
          -0.3172556011350909,
          0.15744150179076394,
          -0.6441237430038943,
          -1.154805552889705,
          1.0045417479266496,
          1.497029918691306,
          -1.374787336108716,
          0.09899565870554397,
          0.6142923431050662,
          -0.7587059584886806,
          1.4865210628371175,
          0.7245101896757082,
          2.212384737378364,
          1.1415859663818204,
          -0.48716608639593195,
          -1.492873229229848,
          -1.5580771150038115,
          0.7487385861972751,
          -0.4069196752359965,
          -1.0686371070370626,
          1.8751590252659465,
          -0.9859316483422285,
          -0.40126887692683005,
          1.3394051974576617,
          0.3400675786361936,
          1.6939200545861288,
          -1.2304126744784363,
          -0.009358785317534316,
          1.32881769350092,
          0.6380471903856916,
          -1.127888255950146,
          0.1362958685262489,
          0.9844415462026761,
          -2.3449585435451508,
          -1.1988283052407933,
          0.5902775129859864,
          -0.2816083952687804,
          2.170089395418066,
          -0.7535625814479999,
          0.1256440369012715,
          1.0710620740031642,
          -0.15147133419631562,
          0.708410299017189,
          0.5601583538557442,
          -1.0401882243373572,
          1.7056167441988201,
          0.6850843008365208,
          0.2524170417029744,
          0.4239316576340395,
          0.30856412170761116,
          -0.8120128362314452,
          -1.0248295324212153,
          0.9691832786744989,
          -0.7809378279230037,
          0.5199528377506104,
          -0.5823558298607444,
          0.02242888516997846,
          -1.8483439458823425,
          0.1683359982946268,
          0.44883480148149857,
          0.27644036079912226,
          0.5001592299352902,
          1.707276028881522,
          -0.3499034827519047,
          -0.1658350539232574
         ],
         "type": "scatter"
        },
        {
         "line": {
          "color": "rgba(50, 171, 96, 1.0)",
          "dash": "solid",
          "shape": "linear",
          "width": 1.3
         },
         "mode": "lines",
         "name": "C",
         "text": "",
         "x": [
          0,
          1,
          2,
          3,
          4,
          5,
          6,
          7,
          8,
          9,
          10,
          11,
          12,
          13,
          14,
          15,
          16,
          17,
          18,
          19,
          20,
          21,
          22,
          23,
          24,
          25,
          26,
          27,
          28,
          29,
          30,
          31,
          32,
          33,
          34,
          35,
          36,
          37,
          38,
          39,
          40,
          41,
          42,
          43,
          44,
          45,
          46,
          47,
          48,
          49,
          50,
          51,
          52,
          53,
          54,
          55,
          56,
          57,
          58,
          59,
          60,
          61,
          62,
          63,
          64,
          65,
          66,
          67,
          68,
          69,
          70,
          71,
          72,
          73,
          74,
          75,
          76,
          77,
          78,
          79,
          80,
          81,
          82,
          83,
          84,
          85,
          86,
          87,
          88,
          89,
          90,
          91,
          92,
          93,
          94,
          95,
          96,
          97,
          98,
          99
         ],
         "y": [
          0.7692336532458728,
          0.5333344342194399,
          -0.8424260604443445,
          0.3203662543997597,
          0.08458846535047407,
          0.45708539683904553,
          -0.8498855129462245,
          1.4745690013341044,
          2.6909016970258177,
          0.5668709264460764,
          -0.05897494253507211,
          -1.836392380931625,
          1.499808814285216,
          1.4259194751034947,
          -0.08578597513422263,
          0.5560973770990663,
          -0.7584165794397412,
          -1.6105588097346335,
          -0.9074161291122519,
          0.3796037005268845,
          0.3311762861032556,
          -1.3602628819660034,
          -0.9799612820273028,
          -1.6539675770208235,
          -0.13518856728836234,
          -2.0519815390489096,
          0.7076017949132091,
          0.5777492285351216,
          0.8814525993925905,
          0.23198923387472098,
          0.5739648399528666,
          -0.9187331726443511,
          0.2378113368211414,
          0.18452376474838614,
          0.9618846352603138,
          0.04674987985743832,
          -0.19242409419798356,
          0.37406378090710063,
          -0.22470081855415733,
          -0.4221861958292879,
          0.6377575043253557,
          0.37186014681579505,
          0.9885200426741549,
          0.5846281676474738,
          -0.8857207063528001,
          0.951745296972654,
          1.433580628428485,
          2.2051673520189827,
          -1.7345907838590167,
          0.24276875299650547,
          -0.8525885975006535,
          -0.8533236132402129,
          -1.941001109878793,
          -0.061780947174691896,
          -1.1697568526208222,
          1.126896428706196,
          -0.3179738015899636,
          -0.9912010770982428,
          -1.0511344497209492,
          1.827771784627446,
          -0.326139141984017,
          -0.521984694424672,
          -1.1909121583420728,
          0.9304877086589227,
          -1.4926195618704994,
          -0.04856994266672939,
          -0.5332888237553048,
          -0.6888200985211754,
          0.004881621023809477,
          0.2969949279946919,
          0.15584434040490944,
          -0.30955808996868645,
          0.47386778091716025,
          0.583986268346228,
          1.019454808285895,
          -0.6878330822641515,
          0.5175531626481035,
          -0.7815075116688344,
          0.49634237721186597,
          -1.4827609600037182,
          -0.016543171729132132,
          -0.8007147586706331,
          0.04434472691612747,
          0.04412174249588713,
          -2.21327013820518,
          0.037192344719893536,
          -0.9390081221051154,
          -0.7828138328182563,
          -0.3415125355976032,
          0.23650650730818906,
          0.30889760418237094,
          1.5513678854253037,
          -1.7509145536551753,
          -0.169155621033073,
          0.809684981401493,
          1.0319304185412423,
          0.9980808541912738,
          1.0774436660316213,
          0.8738553331372387,
          0.2167626281308094
         ],
         "type": "scatter"
        },
        {
         "line": {
          "color": "rgba(128, 0, 128, 1.0)",
          "dash": "solid",
          "shape": "linear",
          "width": 1.3
         },
         "mode": "lines",
         "name": "D",
         "text": "",
         "x": [
          0,
          1,
          2,
          3,
          4,
          5,
          6,
          7,
          8,
          9,
          10,
          11,
          12,
          13,
          14,
          15,
          16,
          17,
          18,
          19,
          20,
          21,
          22,
          23,
          24,
          25,
          26,
          27,
          28,
          29,
          30,
          31,
          32,
          33,
          34,
          35,
          36,
          37,
          38,
          39,
          40,
          41,
          42,
          43,
          44,
          45,
          46,
          47,
          48,
          49,
          50,
          51,
          52,
          53,
          54,
          55,
          56,
          57,
          58,
          59,
          60,
          61,
          62,
          63,
          64,
          65,
          66,
          67,
          68,
          69,
          70,
          71,
          72,
          73,
          74,
          75,
          76,
          77,
          78,
          79,
          80,
          81,
          82,
          83,
          84,
          85,
          86,
          87,
          88,
          89,
          90,
          91,
          92,
          93,
          94,
          95,
          96,
          97,
          98,
          99
         ],
         "y": [
          0.3675217620137849,
          2.7427008466781437,
          0.6255220737570883,
          -0.6770631133142064,
          0.8611524003693977,
          0.7325189915909454,
          -0.4912724703434503,
          -0.08990027233534309,
          0.7249810254170888,
          -0.44406845694832436,
          -0.11519998235144457,
          0.057807570007680414,
          1.4468154496869319,
          -1.3063691460575648,
          -1.0976511461538079,
          -0.144521111054121,
          0.9851894657897402,
          -0.3669124238805727,
          0.3900440966830113,
          -0.46883403147472796,
          0.5607883602873852,
          0.1959664854253068,
          -1.4388522302244997,
          0.9792903647735527,
          1.1534094018283618,
          0.4615133516294498,
          2.1918183430754277,
          0.5250412928758622,
          0.5001386622284841,
          0.2551536355520732,
          -0.005412224012686471,
          2.9221341098244342,
          -0.4649633760002535,
          0.604687207147699,
          0.9866743322343967,
          0.3713940127701445,
          -2.5879431288336234,
          -1.2628569935111595,
          0.8034675576116896,
          -0.7931092449981392,
          0.7424776291875992,
          0.13392997568809864,
          -1.3518633088238048,
          0.8622365479976225,
          -0.2407342066956001,
          -0.9783801026300155,
          0.7209797859368154,
          -0.38282624621694294,
          1.5716146462366636,
          -1.1665957113627479,
          0.6187301632857698,
          -2.186120621478108,
          -0.2426136169446369,
          0.44237996405091246,
          0.31750637266024034,
          -1.9937679194820443,
          -1.2624546771878686,
          -0.44884460876428806,
          0.6306675068396437,
          1.7501367095384082,
          0.48863891048392044,
          2.602313512763461,
          1.002570057651446,
          1.467085093335372,
          0.9369319026249344,
          1.7703646291362558,
          -1.1796240772203925,
          0.12617597344252518,
          -0.25609278999498675,
          -0.1115932258436591,
          0.12511197337113492,
          -0.1990422032617427,
          -0.5663920105336755,
          -1.5735449206488776,
          -0.43762023976950404,
          -1.0756184575691374,
          1.7639056749230035,
          0.19731050169828362,
          -0.11699890130357059,
          0.2773473721477822,
          0.7413590505157498,
          2.0416402836649428,
          0.576779671318424,
          -0.30937664994093284,
          1.0785633811816857,
          -0.2743774523138238,
          0.8892491714545185,
          0.5640933722954883,
          0.983842824464235,
          1.1610759271421396,
          -0.4509459056346206,
          -0.7272001536229342,
          -0.3257182965001095,
          0.1958487766367504,
          -2.372334453426788,
          0.2086402255634171,
          -0.7278070326688642,
          -1.3179084583713245,
          -1.2594262664854154,
          -0.9035664023169915
         ],
         "type": "scatter"
        }
       ],
       "layout": {
        "legend": {
         "bgcolor": "#F5F6F9",
         "font": {
          "color": "#4D5663"
         }
        },
        "paper_bgcolor": "#F5F6F9",
        "plot_bgcolor": "#F5F6F9",
        "template": {
         "data": {
          "barpolar": [
           {
            "marker": {
             "line": {
              "color": "#E5ECF6",
              "width": 0.5
             },
             "pattern": {
              "fillmode": "overlay",
              "size": 10,
              "solidity": 0.2
             }
            },
            "type": "barpolar"
           }
          ],
          "bar": [
           {
            "error_x": {
             "color": "#2a3f5f"
            },
            "error_y": {
             "color": "#2a3f5f"
            },
            "marker": {
             "line": {
              "color": "#E5ECF6",
              "width": 0.5
             },
             "pattern": {
              "fillmode": "overlay",
              "size": 10,
              "solidity": 0.2
             }
            },
            "type": "bar"
           }
          ],
          "carpet": [
           {
            "aaxis": {
             "endlinecolor": "#2a3f5f",
             "gridcolor": "white",
             "linecolor": "white",
             "minorgridcolor": "white",
             "startlinecolor": "#2a3f5f"
            },
            "baxis": {
             "endlinecolor": "#2a3f5f",
             "gridcolor": "white",
             "linecolor": "white",
             "minorgridcolor": "white",
             "startlinecolor": "#2a3f5f"
            },
            "type": "carpet"
           }
          ],
          "choropleth": [
           {
            "colorbar": {
             "outlinewidth": 0,
             "ticks": ""
            },
            "type": "choropleth"
           }
          ],
          "contourcarpet": [
           {
            "colorbar": {
             "outlinewidth": 0,
             "ticks": ""
            },
            "type": "contourcarpet"
           }
          ],
          "contour": [
           {
            "colorbar": {
             "outlinewidth": 0,
             "ticks": ""
            },
            "colorscale": [
             [
              0.0,
              "#0d0887"
             ],
             [
              0.1111111111111111,
              "#46039f"
             ],
             [
              0.2222222222222222,
              "#7201a8"
             ],
             [
              0.3333333333333333,
              "#9c179e"
             ],
             [
              0.4444444444444444,
              "#bd3786"
             ],
             [
              0.5555555555555556,
              "#d8576b"
             ],
             [
              0.6666666666666666,
              "#ed7953"
             ],
             [
              0.7777777777777778,
              "#fb9f3a"
             ],
             [
              0.8888888888888888,
              "#fdca26"
             ],
             [
              1.0,
              "#f0f921"
             ]
            ],
            "type": "contour"
           }
          ],
          "heatmapgl": [
           {
            "colorbar": {
             "outlinewidth": 0,
             "ticks": ""
            },
            "colorscale": [
             [
              0.0,
              "#0d0887"
             ],
             [
              0.1111111111111111,
              "#46039f"
             ],
             [
              0.2222222222222222,
              "#7201a8"
             ],
             [
              0.3333333333333333,
              "#9c179e"
             ],
             [
              0.4444444444444444,
              "#bd3786"
             ],
             [
              0.5555555555555556,
              "#d8576b"
             ],
             [
              0.6666666666666666,
              "#ed7953"
             ],
             [
              0.7777777777777778,
              "#fb9f3a"
             ],
             [
              0.8888888888888888,
              "#fdca26"
             ],
             [
              1.0,
              "#f0f921"
             ]
            ],
            "type": "heatmapgl"
           }
          ],
          "heatmap": [
           {
            "colorbar": {
             "outlinewidth": 0,
             "ticks": ""
            },
            "colorscale": [
             [
              0.0,
              "#0d0887"
             ],
             [
              0.1111111111111111,
              "#46039f"
             ],
             [
              0.2222222222222222,
              "#7201a8"
             ],
             [
              0.3333333333333333,
              "#9c179e"
             ],
             [
              0.4444444444444444,
              "#bd3786"
             ],
             [
              0.5555555555555556,
              "#d8576b"
             ],
             [
              0.6666666666666666,
              "#ed7953"
             ],
             [
              0.7777777777777778,
              "#fb9f3a"
             ],
             [
              0.8888888888888888,
              "#fdca26"
             ],
             [
              1.0,
              "#f0f921"
             ]
            ],
            "type": "heatmap"
           }
          ],
          "histogram2dcontour": [
           {
            "colorbar": {
             "outlinewidth": 0,
             "ticks": ""
            },
            "colorscale": [
             [
              0.0,
              "#0d0887"
             ],
             [
              0.1111111111111111,
              "#46039f"
             ],
             [
              0.2222222222222222,
              "#7201a8"
             ],
             [
              0.3333333333333333,
              "#9c179e"
             ],
             [
              0.4444444444444444,
              "#bd3786"
             ],
             [
              0.5555555555555556,
              "#d8576b"
             ],
             [
              0.6666666666666666,
              "#ed7953"
             ],
             [
              0.7777777777777778,
              "#fb9f3a"
             ],
             [
              0.8888888888888888,
              "#fdca26"
             ],
             [
              1.0,
              "#f0f921"
             ]
            ],
            "type": "histogram2dcontour"
           }
          ],
          "histogram2d": [
           {
            "colorbar": {
             "outlinewidth": 0,
             "ticks": ""
            },
            "colorscale": [
             [
              0.0,
              "#0d0887"
             ],
             [
              0.1111111111111111,
              "#46039f"
             ],
             [
              0.2222222222222222,
              "#7201a8"
             ],
             [
              0.3333333333333333,
              "#9c179e"
             ],
             [
              0.4444444444444444,
              "#bd3786"
             ],
             [
              0.5555555555555556,
              "#d8576b"
             ],
             [
              0.6666666666666666,
              "#ed7953"
             ],
             [
              0.7777777777777778,
              "#fb9f3a"
             ],
             [
              0.8888888888888888,
              "#fdca26"
             ],
             [
              1.0,
              "#f0f921"
             ]
            ],
            "type": "histogram2d"
           }
          ],
          "histogram": [
           {
            "marker": {
             "pattern": {
              "fillmode": "overlay",
              "size": 10,
              "solidity": 0.2
             }
            },
            "type": "histogram"
           }
          ],
          "mesh3d": [
           {
            "colorbar": {
             "outlinewidth": 0,
             "ticks": ""
            },
            "type": "mesh3d"
           }
          ],
          "parcoords": [
           {
            "line": {
             "colorbar": {
              "outlinewidth": 0,
              "ticks": ""
             }
            },
            "type": "parcoords"
           }
          ],
          "pie": [
           {
            "automargin": true,
            "type": "pie"
           }
          ],
          "scatter3d": [
           {
            "line": {
             "colorbar": {
              "outlinewidth": 0,
              "ticks": ""
             }
            },
            "marker": {
             "colorbar": {
              "outlinewidth": 0,
              "ticks": ""
             }
            },
            "type": "scatter3d"
           }
          ],
          "scattercarpet": [
           {
            "marker": {
             "colorbar": {
              "outlinewidth": 0,
              "ticks": ""
             }
            },
            "type": "scattercarpet"
           }
          ],
          "scattergeo": [
           {
            "marker": {
             "colorbar": {
              "outlinewidth": 0,
              "ticks": ""
             }
            },
            "type": "scattergeo"
           }
          ],
          "scattergl": [
           {
            "marker": {
             "colorbar": {
              "outlinewidth": 0,
              "ticks": ""
             }
            },
            "type": "scattergl"
           }
          ],
          "scattermapbox": [
           {
            "marker": {
             "colorbar": {
              "outlinewidth": 0,
              "ticks": ""
             }
            },
            "type": "scattermapbox"
           }
          ],
          "scatterpolargl": [
           {
            "marker": {
             "colorbar": {
              "outlinewidth": 0,
              "ticks": ""
             }
            },
            "type": "scatterpolargl"
           }
          ],
          "scatterpolar": [
           {
            "marker": {
             "colorbar": {
              "outlinewidth": 0,
              "ticks": ""
             }
            },
            "type": "scatterpolar"
           }
          ],
          "scatter": [
           {
            "fillpattern": {
             "fillmode": "overlay",
             "size": 10,
             "solidity": 0.2
            },
            "type": "scatter"
           }
          ],
          "scatterternary": [
           {
            "marker": {
             "colorbar": {
              "outlinewidth": 0,
              "ticks": ""
             }
            },
            "type": "scatterternary"
           }
          ],
          "surface": [
           {
            "colorbar": {
             "outlinewidth": 0,
             "ticks": ""
            },
            "colorscale": [
             [
              0.0,
              "#0d0887"
             ],
             [
              0.1111111111111111,
              "#46039f"
             ],
             [
              0.2222222222222222,
              "#7201a8"
             ],
             [
              0.3333333333333333,
              "#9c179e"
             ],
             [
              0.4444444444444444,
              "#bd3786"
             ],
             [
              0.5555555555555556,
              "#d8576b"
             ],
             [
              0.6666666666666666,
              "#ed7953"
             ],
             [
              0.7777777777777778,
              "#fb9f3a"
             ],
             [
              0.8888888888888888,
              "#fdca26"
             ],
             [
              1.0,
              "#f0f921"
             ]
            ],
            "type": "surface"
           }
          ],
          "table": [
           {
            "cells": {
             "fill": {
              "color": "#EBF0F8"
             },
             "line": {
              "color": "white"
             }
            },
            "header": {
             "fill": {
              "color": "#C8D4E3"
             },
             "line": {
              "color": "white"
             }
            },
            "type": "table"
           }
          ]
         },
         "layout": {
          "annotationdefaults": {
           "arrowcolor": "#2a3f5f",
           "arrowhead": 0,
           "arrowwidth": 1
          },
          "autotypenumbers": "strict",
          "coloraxis": {
           "colorbar": {
            "outlinewidth": 0,
            "ticks": ""
           }
          },
          "colorscale": {
           "diverging": [
            [
             0,
             "#8e0152"
            ],
            [
             0.1,
             "#c51b7d"
            ],
            [
             0.2,
             "#de77ae"
            ],
            [
             0.3,
             "#f1b6da"
            ],
            [
             0.4,
             "#fde0ef"
            ],
            [
             0.5,
             "#f7f7f7"
            ],
            [
             0.6,
             "#e6f5d0"
            ],
            [
             0.7,
             "#b8e186"
            ],
            [
             0.8,
             "#7fbc41"
            ],
            [
             0.9,
             "#4d9221"
            ],
            [
             1,
             "#276419"
            ]
           ],
           "sequential": [
            [
             0.0,
             "#0d0887"
            ],
            [
             0.1111111111111111,
             "#46039f"
            ],
            [
             0.2222222222222222,
             "#7201a8"
            ],
            [
             0.3333333333333333,
             "#9c179e"
            ],
            [
             0.4444444444444444,
             "#bd3786"
            ],
            [
             0.5555555555555556,
             "#d8576b"
            ],
            [
             0.6666666666666666,
             "#ed7953"
            ],
            [
             0.7777777777777778,
             "#fb9f3a"
            ],
            [
             0.8888888888888888,
             "#fdca26"
            ],
            [
             1.0,
             "#f0f921"
            ]
           ],
           "sequentialminus": [
            [
             0.0,
             "#0d0887"
            ],
            [
             0.1111111111111111,
             "#46039f"
            ],
            [
             0.2222222222222222,
             "#7201a8"
            ],
            [
             0.3333333333333333,
             "#9c179e"
            ],
            [
             0.4444444444444444,
             "#bd3786"
            ],
            [
             0.5555555555555556,
             "#d8576b"
            ],
            [
             0.6666666666666666,
             "#ed7953"
            ],
            [
             0.7777777777777778,
             "#fb9f3a"
            ],
            [
             0.8888888888888888,
             "#fdca26"
            ],
            [
             1.0,
             "#f0f921"
            ]
           ]
          },
          "colorway": [
           "#636efa",
           "#EF553B",
           "#00cc96",
           "#ab63fa",
           "#FFA15A",
           "#19d3f3",
           "#FF6692",
           "#B6E880",
           "#FF97FF",
           "#FECB52"
          ],
          "font": {
           "color": "#2a3f5f"
          },
          "geo": {
           "bgcolor": "white",
           "lakecolor": "white",
           "landcolor": "#E5ECF6",
           "showlakes": true,
           "showland": true,
           "subunitcolor": "white"
          },
          "hoverlabel": {
           "align": "left"
          },
          "hovermode": "closest",
          "mapbox": {
           "style": "light"
          },
          "paper_bgcolor": "white",
          "plot_bgcolor": "#E5ECF6",
          "polar": {
           "angularaxis": {
            "gridcolor": "white",
            "linecolor": "white",
            "ticks": ""
           },
           "bgcolor": "#E5ECF6",
           "radialaxis": {
            "gridcolor": "white",
            "linecolor": "white",
            "ticks": ""
           }
          },
          "scene": {
           "xaxis": {
            "backgroundcolor": "#E5ECF6",
            "gridcolor": "white",
            "gridwidth": 2,
            "linecolor": "white",
            "showbackground": true,
            "ticks": "",
            "zerolinecolor": "white"
           },
           "yaxis": {
            "backgroundcolor": "#E5ECF6",
            "gridcolor": "white",
            "gridwidth": 2,
            "linecolor": "white",
            "showbackground": true,
            "ticks": "",
            "zerolinecolor": "white"
           },
           "zaxis": {
            "backgroundcolor": "#E5ECF6",
            "gridcolor": "white",
            "gridwidth": 2,
            "linecolor": "white",
            "showbackground": true,
            "ticks": "",
            "zerolinecolor": "white"
           }
          },
          "shapedefaults": {
           "line": {
            "color": "#2a3f5f"
           }
          },
          "ternary": {
           "aaxis": {
            "gridcolor": "white",
            "linecolor": "white",
            "ticks": ""
           },
           "baxis": {
            "gridcolor": "white",
            "linecolor": "white",
            "ticks": ""
           },
           "bgcolor": "#E5ECF6",
           "caxis": {
            "gridcolor": "white",
            "linecolor": "white",
            "ticks": ""
           }
          },
          "title": {
           "x": 0.05
          },
          "xaxis": {
           "automargin": true,
           "gridcolor": "white",
           "linecolor": "white",
           "ticks": "",
           "title": {
            "standoff": 15
           },
           "zerolinecolor": "white",
           "zerolinewidth": 2
          },
          "yaxis": {
           "automargin": true,
           "gridcolor": "white",
           "linecolor": "white",
           "ticks": "",
           "title": {
            "standoff": 15
           },
           "zerolinecolor": "white",
           "zerolinewidth": 2
          }
         }
        },
        "title": {
         "font": {
          "color": "#4D5663"
         }
        },
        "xaxis": {
         "gridcolor": "#E1E5ED",
         "showgrid": true,
         "tickfont": {
          "color": "#4D5663"
         },
         "title": {
          "font": {
           "color": "#4D5663"
          },
          "text": ""
         },
         "zerolinecolor": "#E1E5ED"
        },
        "yaxis": {
         "gridcolor": "#E1E5ED",
         "showgrid": true,
         "tickfont": {
          "color": "#4D5663"
         },
         "title": {
          "font": {
           "color": "#4D5663"
          },
          "text": ""
         },
         "zerolinecolor": "#E1E5ED"
        }
       },
       "config": {
        "showLink": true,
        "linkText": "Export to plot.ly",
        "plotlyServerURL": "https://plot.ly"
       }
      },
      "text/html": "<div>                            <div id=\"bb28e6e1-9cf4-4e34-b7c3-e610db11e768\" class=\"plotly-graph-div\" style=\"height:525px; width:100%;\"></div>            <script type=\"text/javascript\">                require([\"plotly\"], function(Plotly) {                    window.PLOTLYENV=window.PLOTLYENV || {};\n                    window.PLOTLYENV.BASE_URL='https://plot.ly';                                    if (document.getElementById(\"bb28e6e1-9cf4-4e34-b7c3-e610db11e768\")) {                    Plotly.newPlot(                        \"bb28e6e1-9cf4-4e34-b7c3-e610db11e768\",                        [{\"line\":{\"color\":\"rgba(255, 153, 51, 1.0)\",\"dash\":\"solid\",\"shape\":\"linear\",\"width\":1.3},\"mode\":\"lines\",\"name\":\"A\",\"text\":\"\",\"x\":[0,1,2,3,4,5,6,7,8,9,10,11,12,13,14,15,16,17,18,19,20,21,22,23,24,25,26,27,28,29,30,31,32,33,34,35,36,37,38,39,40,41,42,43,44,45,46,47,48,49,50,51,52,53,54,55,56,57,58,59,60,61,62,63,64,65,66,67,68,69,70,71,72,73,74,75,76,77,78,79,80,81,82,83,84,85,86,87,88,89,90,91,92,93,94,95,96,97,98,99],\"y\":[1.80900659363173,0.035274995502989924,-1.3725782517059886,0.012016290428291753,1.000469906945173,-0.6195273127982366,-0.5493763932833622,-0.9911107758158834,0.23248967391723316,-0.14506312346767283,0.34184931249590944,0.2715616077472833,0.8393674963432226,-0.10711850809753216,1.8812271802120675,1.0538530621847526,-0.29984010726672844,-1.0005896037131567,0.6236039509447258,2.547660303248421,0.3645808633949736,0.7584190685180403,-1.3718605252785057,1.1236466096015902,-0.6575364883108161,-0.7435742465354352,-0.9510929805192601,-0.7250355706046863,-0.3010833740014651,-0.8365580045456453,0.5375896300969594,0.4250820358790253,-1.4817640383211563,1.0742946624051832,-1.6615502948070402,-0.4539105034533779,0.9627637686417985,1.0917899219961893,0.40651750118727115,0.30539547233503134,0.7154867771216606,0.4988743495347605,0.8934197814724031,-0.7226701733307364,-0.6212640967281962,-0.20366491195303663,0.6293167407460972,0.932849322897483,0.0889989385329877,-0.009742713919367142,0.8547431702291997,-0.06513079400429111,-0.5810102718413085,-0.9663593983135926,0.6305616168977342,1.9913392481918006,-1.9776861325927175,2.0202457074867883,-1.0347658552177048,-0.6695623864365713,1.183237535410795,0.4225713154856195,1.2265275340992094,-1.620088276804922,0.36251610386564465,-0.39921777940713343,0.19623576958325684,-0.28567696303803214,-0.40868573997383634,0.4589878761780295,-0.8307604519242388,0.46409171043276753,-0.7934822881525643,-0.48507069853990153,1.0898652590025368,-1.3743038367541152,0.581212864653542,0.30331914137158783,-1.2179046818674735,-2.103526750442117,0.6834448164214543,-0.15730645803113177,0.9021369402599491,-1.1694166086342517,0.8148051426930465,0.9444288848742953,-0.6589176826651596,0.5351669268927843,0.20689663682579865,0.832979037395156,0.5435340867904964,1.2929265303581408,-1.014503830555063,1.3097655276016194,-0.3053438162070056,-0.828368648201911,1.189594403334678,-0.37242628836792796,0.42166106976218076,-0.7112018906041686],\"type\":\"scatter\"},{\"line\":{\"color\":\"rgba(55, 128, 191, 1.0)\",\"dash\":\"solid\",\"shape\":\"linear\",\"width\":1.3},\"mode\":\"lines\",\"name\":\"B\",\"text\":\"\",\"x\":[0,1,2,3,4,5,6,7,8,9,10,11,12,13,14,15,16,17,18,19,20,21,22,23,24,25,26,27,28,29,30,31,32,33,34,35,36,37,38,39,40,41,42,43,44,45,46,47,48,49,50,51,52,53,54,55,56,57,58,59,60,61,62,63,64,65,66,67,68,69,70,71,72,73,74,75,76,77,78,79,80,81,82,83,84,85,86,87,88,89,90,91,92,93,94,95,96,97,98,99],\"y\":[0.9062930594144116,-1.4386362389423506,1.1369677802935936,2.3716105706749393,1.148561136980701,1.6384945821750838,-1.0740830064136329,-0.43741065236894316,0.5358574650869486,-0.2698795505516891,2.0197447105345563,0.4338245435899058,-0.6403534451698525,-1.895132322156619,0.047493285900842584,-0.21672463780566728,0.5117649446224504,0.7263239901604835,-1.4270079547470809,1.1684892701521439,-0.07635059518062,1.015995199829917,1.7008504923460286,-0.6630221858617115,-0.12131160545398256,2.201409865619109,1.5871548335880958,-1.4170235508141886,0.4156143179575276,-1.011196408980938,0.19523384068338345,-0.505399740247492,0.5600637862451191,-1.626626394671511,-2.242945396816825,-0.3172556011350909,0.15744150179076394,-0.6441237430038943,-1.154805552889705,1.0045417479266496,1.497029918691306,-1.374787336108716,0.09899565870554397,0.6142923431050662,-0.7587059584886806,1.4865210628371175,0.7245101896757082,2.212384737378364,1.1415859663818204,-0.48716608639593195,-1.492873229229848,-1.5580771150038115,0.7487385861972751,-0.4069196752359965,-1.0686371070370626,1.8751590252659465,-0.9859316483422285,-0.40126887692683005,1.3394051974576617,0.3400675786361936,1.6939200545861288,-1.2304126744784363,-0.009358785317534316,1.32881769350092,0.6380471903856916,-1.127888255950146,0.1362958685262489,0.9844415462026761,-2.3449585435451508,-1.1988283052407933,0.5902775129859864,-0.2816083952687804,2.170089395418066,-0.7535625814479999,0.1256440369012715,1.0710620740031642,-0.15147133419631562,0.708410299017189,0.5601583538557442,-1.0401882243373572,1.7056167441988201,0.6850843008365208,0.2524170417029744,0.4239316576340395,0.30856412170761116,-0.8120128362314452,-1.0248295324212153,0.9691832786744989,-0.7809378279230037,0.5199528377506104,-0.5823558298607444,0.02242888516997846,-1.8483439458823425,0.1683359982946268,0.44883480148149857,0.27644036079912226,0.5001592299352902,1.707276028881522,-0.3499034827519047,-0.1658350539232574],\"type\":\"scatter\"},{\"line\":{\"color\":\"rgba(50, 171, 96, 1.0)\",\"dash\":\"solid\",\"shape\":\"linear\",\"width\":1.3},\"mode\":\"lines\",\"name\":\"C\",\"text\":\"\",\"x\":[0,1,2,3,4,5,6,7,8,9,10,11,12,13,14,15,16,17,18,19,20,21,22,23,24,25,26,27,28,29,30,31,32,33,34,35,36,37,38,39,40,41,42,43,44,45,46,47,48,49,50,51,52,53,54,55,56,57,58,59,60,61,62,63,64,65,66,67,68,69,70,71,72,73,74,75,76,77,78,79,80,81,82,83,84,85,86,87,88,89,90,91,92,93,94,95,96,97,98,99],\"y\":[0.7692336532458728,0.5333344342194399,-0.8424260604443445,0.3203662543997597,0.08458846535047407,0.45708539683904553,-0.8498855129462245,1.4745690013341044,2.6909016970258177,0.5668709264460764,-0.05897494253507211,-1.836392380931625,1.499808814285216,1.4259194751034947,-0.08578597513422263,0.5560973770990663,-0.7584165794397412,-1.6105588097346335,-0.9074161291122519,0.3796037005268845,0.3311762861032556,-1.3602628819660034,-0.9799612820273028,-1.6539675770208235,-0.13518856728836234,-2.0519815390489096,0.7076017949132091,0.5777492285351216,0.8814525993925905,0.23198923387472098,0.5739648399528666,-0.9187331726443511,0.2378113368211414,0.18452376474838614,0.9618846352603138,0.04674987985743832,-0.19242409419798356,0.37406378090710063,-0.22470081855415733,-0.4221861958292879,0.6377575043253557,0.37186014681579505,0.9885200426741549,0.5846281676474738,-0.8857207063528001,0.951745296972654,1.433580628428485,2.2051673520189827,-1.7345907838590167,0.24276875299650547,-0.8525885975006535,-0.8533236132402129,-1.941001109878793,-0.061780947174691896,-1.1697568526208222,1.126896428706196,-0.3179738015899636,-0.9912010770982428,-1.0511344497209492,1.827771784627446,-0.326139141984017,-0.521984694424672,-1.1909121583420728,0.9304877086589227,-1.4926195618704994,-0.04856994266672939,-0.5332888237553048,-0.6888200985211754,0.004881621023809477,0.2969949279946919,0.15584434040490944,-0.30955808996868645,0.47386778091716025,0.583986268346228,1.019454808285895,-0.6878330822641515,0.5175531626481035,-0.7815075116688344,0.49634237721186597,-1.4827609600037182,-0.016543171729132132,-0.8007147586706331,0.04434472691612747,0.04412174249588713,-2.21327013820518,0.037192344719893536,-0.9390081221051154,-0.7828138328182563,-0.3415125355976032,0.23650650730818906,0.30889760418237094,1.5513678854253037,-1.7509145536551753,-0.169155621033073,0.809684981401493,1.0319304185412423,0.9980808541912738,1.0774436660316213,0.8738553331372387,0.2167626281308094],\"type\":\"scatter\"},{\"line\":{\"color\":\"rgba(128, 0, 128, 1.0)\",\"dash\":\"solid\",\"shape\":\"linear\",\"width\":1.3},\"mode\":\"lines\",\"name\":\"D\",\"text\":\"\",\"x\":[0,1,2,3,4,5,6,7,8,9,10,11,12,13,14,15,16,17,18,19,20,21,22,23,24,25,26,27,28,29,30,31,32,33,34,35,36,37,38,39,40,41,42,43,44,45,46,47,48,49,50,51,52,53,54,55,56,57,58,59,60,61,62,63,64,65,66,67,68,69,70,71,72,73,74,75,76,77,78,79,80,81,82,83,84,85,86,87,88,89,90,91,92,93,94,95,96,97,98,99],\"y\":[0.3675217620137849,2.7427008466781437,0.6255220737570883,-0.6770631133142064,0.8611524003693977,0.7325189915909454,-0.4912724703434503,-0.08990027233534309,0.7249810254170888,-0.44406845694832436,-0.11519998235144457,0.057807570007680414,1.4468154496869319,-1.3063691460575648,-1.0976511461538079,-0.144521111054121,0.9851894657897402,-0.3669124238805727,0.3900440966830113,-0.46883403147472796,0.5607883602873852,0.1959664854253068,-1.4388522302244997,0.9792903647735527,1.1534094018283618,0.4615133516294498,2.1918183430754277,0.5250412928758622,0.5001386622284841,0.2551536355520732,-0.005412224012686471,2.9221341098244342,-0.4649633760002535,0.604687207147699,0.9866743322343967,0.3713940127701445,-2.5879431288336234,-1.2628569935111595,0.8034675576116896,-0.7931092449981392,0.7424776291875992,0.13392997568809864,-1.3518633088238048,0.8622365479976225,-0.2407342066956001,-0.9783801026300155,0.7209797859368154,-0.38282624621694294,1.5716146462366636,-1.1665957113627479,0.6187301632857698,-2.186120621478108,-0.2426136169446369,0.44237996405091246,0.31750637266024034,-1.9937679194820443,-1.2624546771878686,-0.44884460876428806,0.6306675068396437,1.7501367095384082,0.48863891048392044,2.602313512763461,1.002570057651446,1.467085093335372,0.9369319026249344,1.7703646291362558,-1.1796240772203925,0.12617597344252518,-0.25609278999498675,-0.1115932258436591,0.12511197337113492,-0.1990422032617427,-0.5663920105336755,-1.5735449206488776,-0.43762023976950404,-1.0756184575691374,1.7639056749230035,0.19731050169828362,-0.11699890130357059,0.2773473721477822,0.7413590505157498,2.0416402836649428,0.576779671318424,-0.30937664994093284,1.0785633811816857,-0.2743774523138238,0.8892491714545185,0.5640933722954883,0.983842824464235,1.1610759271421396,-0.4509459056346206,-0.7272001536229342,-0.3257182965001095,0.1958487766367504,-2.372334453426788,0.2086402255634171,-0.7278070326688642,-1.3179084583713245,-1.2594262664854154,-0.9035664023169915],\"type\":\"scatter\"}],                        {\"legend\":{\"bgcolor\":\"#F5F6F9\",\"font\":{\"color\":\"#4D5663\"}},\"paper_bgcolor\":\"#F5F6F9\",\"plot_bgcolor\":\"#F5F6F9\",\"template\":{\"data\":{\"barpolar\":[{\"marker\":{\"line\":{\"color\":\"#E5ECF6\",\"width\":0.5},\"pattern\":{\"fillmode\":\"overlay\",\"size\":10,\"solidity\":0.2}},\"type\":\"barpolar\"}],\"bar\":[{\"error_x\":{\"color\":\"#2a3f5f\"},\"error_y\":{\"color\":\"#2a3f5f\"},\"marker\":{\"line\":{\"color\":\"#E5ECF6\",\"width\":0.5},\"pattern\":{\"fillmode\":\"overlay\",\"size\":10,\"solidity\":0.2}},\"type\":\"bar\"}],\"carpet\":[{\"aaxis\":{\"endlinecolor\":\"#2a3f5f\",\"gridcolor\":\"white\",\"linecolor\":\"white\",\"minorgridcolor\":\"white\",\"startlinecolor\":\"#2a3f5f\"},\"baxis\":{\"endlinecolor\":\"#2a3f5f\",\"gridcolor\":\"white\",\"linecolor\":\"white\",\"minorgridcolor\":\"white\",\"startlinecolor\":\"#2a3f5f\"},\"type\":\"carpet\"}],\"choropleth\":[{\"colorbar\":{\"outlinewidth\":0,\"ticks\":\"\"},\"type\":\"choropleth\"}],\"contourcarpet\":[{\"colorbar\":{\"outlinewidth\":0,\"ticks\":\"\"},\"type\":\"contourcarpet\"}],\"contour\":[{\"colorbar\":{\"outlinewidth\":0,\"ticks\":\"\"},\"colorscale\":[[0.0,\"#0d0887\"],[0.1111111111111111,\"#46039f\"],[0.2222222222222222,\"#7201a8\"],[0.3333333333333333,\"#9c179e\"],[0.4444444444444444,\"#bd3786\"],[0.5555555555555556,\"#d8576b\"],[0.6666666666666666,\"#ed7953\"],[0.7777777777777778,\"#fb9f3a\"],[0.8888888888888888,\"#fdca26\"],[1.0,\"#f0f921\"]],\"type\":\"contour\"}],\"heatmapgl\":[{\"colorbar\":{\"outlinewidth\":0,\"ticks\":\"\"},\"colorscale\":[[0.0,\"#0d0887\"],[0.1111111111111111,\"#46039f\"],[0.2222222222222222,\"#7201a8\"],[0.3333333333333333,\"#9c179e\"],[0.4444444444444444,\"#bd3786\"],[0.5555555555555556,\"#d8576b\"],[0.6666666666666666,\"#ed7953\"],[0.7777777777777778,\"#fb9f3a\"],[0.8888888888888888,\"#fdca26\"],[1.0,\"#f0f921\"]],\"type\":\"heatmapgl\"}],\"heatmap\":[{\"colorbar\":{\"outlinewidth\":0,\"ticks\":\"\"},\"colorscale\":[[0.0,\"#0d0887\"],[0.1111111111111111,\"#46039f\"],[0.2222222222222222,\"#7201a8\"],[0.3333333333333333,\"#9c179e\"],[0.4444444444444444,\"#bd3786\"],[0.5555555555555556,\"#d8576b\"],[0.6666666666666666,\"#ed7953\"],[0.7777777777777778,\"#fb9f3a\"],[0.8888888888888888,\"#fdca26\"],[1.0,\"#f0f921\"]],\"type\":\"heatmap\"}],\"histogram2dcontour\":[{\"colorbar\":{\"outlinewidth\":0,\"ticks\":\"\"},\"colorscale\":[[0.0,\"#0d0887\"],[0.1111111111111111,\"#46039f\"],[0.2222222222222222,\"#7201a8\"],[0.3333333333333333,\"#9c179e\"],[0.4444444444444444,\"#bd3786\"],[0.5555555555555556,\"#d8576b\"],[0.6666666666666666,\"#ed7953\"],[0.7777777777777778,\"#fb9f3a\"],[0.8888888888888888,\"#fdca26\"],[1.0,\"#f0f921\"]],\"type\":\"histogram2dcontour\"}],\"histogram2d\":[{\"colorbar\":{\"outlinewidth\":0,\"ticks\":\"\"},\"colorscale\":[[0.0,\"#0d0887\"],[0.1111111111111111,\"#46039f\"],[0.2222222222222222,\"#7201a8\"],[0.3333333333333333,\"#9c179e\"],[0.4444444444444444,\"#bd3786\"],[0.5555555555555556,\"#d8576b\"],[0.6666666666666666,\"#ed7953\"],[0.7777777777777778,\"#fb9f3a\"],[0.8888888888888888,\"#fdca26\"],[1.0,\"#f0f921\"]],\"type\":\"histogram2d\"}],\"histogram\":[{\"marker\":{\"pattern\":{\"fillmode\":\"overlay\",\"size\":10,\"solidity\":0.2}},\"type\":\"histogram\"}],\"mesh3d\":[{\"colorbar\":{\"outlinewidth\":0,\"ticks\":\"\"},\"type\":\"mesh3d\"}],\"parcoords\":[{\"line\":{\"colorbar\":{\"outlinewidth\":0,\"ticks\":\"\"}},\"type\":\"parcoords\"}],\"pie\":[{\"automargin\":true,\"type\":\"pie\"}],\"scatter3d\":[{\"line\":{\"colorbar\":{\"outlinewidth\":0,\"ticks\":\"\"}},\"marker\":{\"colorbar\":{\"outlinewidth\":0,\"ticks\":\"\"}},\"type\":\"scatter3d\"}],\"scattercarpet\":[{\"marker\":{\"colorbar\":{\"outlinewidth\":0,\"ticks\":\"\"}},\"type\":\"scattercarpet\"}],\"scattergeo\":[{\"marker\":{\"colorbar\":{\"outlinewidth\":0,\"ticks\":\"\"}},\"type\":\"scattergeo\"}],\"scattergl\":[{\"marker\":{\"colorbar\":{\"outlinewidth\":0,\"ticks\":\"\"}},\"type\":\"scattergl\"}],\"scattermapbox\":[{\"marker\":{\"colorbar\":{\"outlinewidth\":0,\"ticks\":\"\"}},\"type\":\"scattermapbox\"}],\"scatterpolargl\":[{\"marker\":{\"colorbar\":{\"outlinewidth\":0,\"ticks\":\"\"}},\"type\":\"scatterpolargl\"}],\"scatterpolar\":[{\"marker\":{\"colorbar\":{\"outlinewidth\":0,\"ticks\":\"\"}},\"type\":\"scatterpolar\"}],\"scatter\":[{\"fillpattern\":{\"fillmode\":\"overlay\",\"size\":10,\"solidity\":0.2},\"type\":\"scatter\"}],\"scatterternary\":[{\"marker\":{\"colorbar\":{\"outlinewidth\":0,\"ticks\":\"\"}},\"type\":\"scatterternary\"}],\"surface\":[{\"colorbar\":{\"outlinewidth\":0,\"ticks\":\"\"},\"colorscale\":[[0.0,\"#0d0887\"],[0.1111111111111111,\"#46039f\"],[0.2222222222222222,\"#7201a8\"],[0.3333333333333333,\"#9c179e\"],[0.4444444444444444,\"#bd3786\"],[0.5555555555555556,\"#d8576b\"],[0.6666666666666666,\"#ed7953\"],[0.7777777777777778,\"#fb9f3a\"],[0.8888888888888888,\"#fdca26\"],[1.0,\"#f0f921\"]],\"type\":\"surface\"}],\"table\":[{\"cells\":{\"fill\":{\"color\":\"#EBF0F8\"},\"line\":{\"color\":\"white\"}},\"header\":{\"fill\":{\"color\":\"#C8D4E3\"},\"line\":{\"color\":\"white\"}},\"type\":\"table\"}]},\"layout\":{\"annotationdefaults\":{\"arrowcolor\":\"#2a3f5f\",\"arrowhead\":0,\"arrowwidth\":1},\"autotypenumbers\":\"strict\",\"coloraxis\":{\"colorbar\":{\"outlinewidth\":0,\"ticks\":\"\"}},\"colorscale\":{\"diverging\":[[0,\"#8e0152\"],[0.1,\"#c51b7d\"],[0.2,\"#de77ae\"],[0.3,\"#f1b6da\"],[0.4,\"#fde0ef\"],[0.5,\"#f7f7f7\"],[0.6,\"#e6f5d0\"],[0.7,\"#b8e186\"],[0.8,\"#7fbc41\"],[0.9,\"#4d9221\"],[1,\"#276419\"]],\"sequential\":[[0.0,\"#0d0887\"],[0.1111111111111111,\"#46039f\"],[0.2222222222222222,\"#7201a8\"],[0.3333333333333333,\"#9c179e\"],[0.4444444444444444,\"#bd3786\"],[0.5555555555555556,\"#d8576b\"],[0.6666666666666666,\"#ed7953\"],[0.7777777777777778,\"#fb9f3a\"],[0.8888888888888888,\"#fdca26\"],[1.0,\"#f0f921\"]],\"sequentialminus\":[[0.0,\"#0d0887\"],[0.1111111111111111,\"#46039f\"],[0.2222222222222222,\"#7201a8\"],[0.3333333333333333,\"#9c179e\"],[0.4444444444444444,\"#bd3786\"],[0.5555555555555556,\"#d8576b\"],[0.6666666666666666,\"#ed7953\"],[0.7777777777777778,\"#fb9f3a\"],[0.8888888888888888,\"#fdca26\"],[1.0,\"#f0f921\"]]},\"colorway\":[\"#636efa\",\"#EF553B\",\"#00cc96\",\"#ab63fa\",\"#FFA15A\",\"#19d3f3\",\"#FF6692\",\"#B6E880\",\"#FF97FF\",\"#FECB52\"],\"font\":{\"color\":\"#2a3f5f\"},\"geo\":{\"bgcolor\":\"white\",\"lakecolor\":\"white\",\"landcolor\":\"#E5ECF6\",\"showlakes\":true,\"showland\":true,\"subunitcolor\":\"white\"},\"hoverlabel\":{\"align\":\"left\"},\"hovermode\":\"closest\",\"mapbox\":{\"style\":\"light\"},\"paper_bgcolor\":\"white\",\"plot_bgcolor\":\"#E5ECF6\",\"polar\":{\"angularaxis\":{\"gridcolor\":\"white\",\"linecolor\":\"white\",\"ticks\":\"\"},\"bgcolor\":\"#E5ECF6\",\"radialaxis\":{\"gridcolor\":\"white\",\"linecolor\":\"white\",\"ticks\":\"\"}},\"scene\":{\"xaxis\":{\"backgroundcolor\":\"#E5ECF6\",\"gridcolor\":\"white\",\"gridwidth\":2,\"linecolor\":\"white\",\"showbackground\":true,\"ticks\":\"\",\"zerolinecolor\":\"white\"},\"yaxis\":{\"backgroundcolor\":\"#E5ECF6\",\"gridcolor\":\"white\",\"gridwidth\":2,\"linecolor\":\"white\",\"showbackground\":true,\"ticks\":\"\",\"zerolinecolor\":\"white\"},\"zaxis\":{\"backgroundcolor\":\"#E5ECF6\",\"gridcolor\":\"white\",\"gridwidth\":2,\"linecolor\":\"white\",\"showbackground\":true,\"ticks\":\"\",\"zerolinecolor\":\"white\"}},\"shapedefaults\":{\"line\":{\"color\":\"#2a3f5f\"}},\"ternary\":{\"aaxis\":{\"gridcolor\":\"white\",\"linecolor\":\"white\",\"ticks\":\"\"},\"baxis\":{\"gridcolor\":\"white\",\"linecolor\":\"white\",\"ticks\":\"\"},\"bgcolor\":\"#E5ECF6\",\"caxis\":{\"gridcolor\":\"white\",\"linecolor\":\"white\",\"ticks\":\"\"}},\"title\":{\"x\":0.05},\"xaxis\":{\"automargin\":true,\"gridcolor\":\"white\",\"linecolor\":\"white\",\"ticks\":\"\",\"title\":{\"standoff\":15},\"zerolinecolor\":\"white\",\"zerolinewidth\":2},\"yaxis\":{\"automargin\":true,\"gridcolor\":\"white\",\"linecolor\":\"white\",\"ticks\":\"\",\"title\":{\"standoff\":15},\"zerolinecolor\":\"white\",\"zerolinewidth\":2}}},\"title\":{\"font\":{\"color\":\"#4D5663\"}},\"xaxis\":{\"gridcolor\":\"#E1E5ED\",\"showgrid\":true,\"tickfont\":{\"color\":\"#4D5663\"},\"title\":{\"font\":{\"color\":\"#4D5663\"},\"text\":\"\"},\"zerolinecolor\":\"#E1E5ED\"},\"yaxis\":{\"gridcolor\":\"#E1E5ED\",\"showgrid\":true,\"tickfont\":{\"color\":\"#4D5663\"},\"title\":{\"font\":{\"color\":\"#4D5663\"},\"text\":\"\"},\"zerolinecolor\":\"#E1E5ED\"}},                        {\"showLink\": true, \"linkText\": \"Export to plot.ly\", \"plotlyServerURL\": \"https://plot.ly\", \"responsive\": true}                    ).then(function(){\n                            \nvar gd = document.getElementById('bb28e6e1-9cf4-4e34-b7c3-e610db11e768');\nvar x = new MutationObserver(function (mutations, observer) {{\n        var display = window.getComputedStyle(gd).display;\n        if (!display || display === 'none') {{\n            console.log([gd, 'removed!']);\n            Plotly.purge(gd);\n            observer.disconnect();\n        }}\n}});\n\n// Listen for the removal of the full notebook cells\nvar notebookContainer = gd.closest('#notebook-container');\nif (notebookContainer) {{\n    x.observe(notebookContainer, {childList: true});\n}}\n\n// Listen for the clearing of the current output cell\nvar outputEl = gd.closest('.output');\nif (outputEl) {{\n    x.observe(outputEl, {childList: true});\n}}\n\n                        })                };                });            </script>        </div>"
     },
     "metadata": {},
     "output_type": "display_data"
    }
   ],
   "source": [
    "df.iplot()"
   ],
   "metadata": {
    "collapsed": false,
    "pycharm": {
     "name": "#%%\n"
    }
   }
  },
  {
   "cell_type": "code",
   "execution_count": 19,
   "outputs": [
    {
     "data": {
      "application/vnd.plotly.v1+json": {
       "data": [
        {
         "line": {
          "color": "rgba(255, 153, 51, 1.0)",
          "dash": "solid",
          "shape": "linear",
          "width": 1.3
         },
         "marker": {
          "size": 20,
          "symbol": "circle"
         },
         "mode": "markers",
         "name": "B",
         "text": "",
         "x": [
          1.80900659363173,
          0.035274995502989924,
          -1.3725782517059886,
          0.012016290428291753,
          1.000469906945173,
          -0.6195273127982366,
          -0.5493763932833622,
          -0.9911107758158834,
          0.23248967391723316,
          -0.14506312346767283,
          0.34184931249590944,
          0.2715616077472833,
          0.8393674963432226,
          -0.10711850809753216,
          1.8812271802120675,
          1.0538530621847526,
          -0.29984010726672844,
          -1.0005896037131567,
          0.6236039509447258,
          2.547660303248421,
          0.3645808633949736,
          0.7584190685180403,
          -1.3718605252785057,
          1.1236466096015902,
          -0.6575364883108161,
          -0.7435742465354352,
          -0.9510929805192601,
          -0.7250355706046863,
          -0.3010833740014651,
          -0.8365580045456453,
          0.5375896300969594,
          0.4250820358790253,
          -1.4817640383211563,
          1.0742946624051832,
          -1.6615502948070402,
          -0.4539105034533779,
          0.9627637686417985,
          1.0917899219961893,
          0.40651750118727115,
          0.30539547233503134,
          0.7154867771216606,
          0.4988743495347605,
          0.8934197814724031,
          -0.7226701733307364,
          -0.6212640967281962,
          -0.20366491195303663,
          0.6293167407460972,
          0.932849322897483,
          0.0889989385329877,
          -0.009742713919367142,
          0.8547431702291997,
          -0.06513079400429111,
          -0.5810102718413085,
          -0.9663593983135926,
          0.6305616168977342,
          1.9913392481918006,
          -1.9776861325927175,
          2.0202457074867883,
          -1.0347658552177048,
          -0.6695623864365713,
          1.183237535410795,
          0.4225713154856195,
          1.2265275340992094,
          -1.620088276804922,
          0.36251610386564465,
          -0.39921777940713343,
          0.19623576958325684,
          -0.28567696303803214,
          -0.40868573997383634,
          0.4589878761780295,
          -0.8307604519242388,
          0.46409171043276753,
          -0.7934822881525643,
          -0.48507069853990153,
          1.0898652590025368,
          -1.3743038367541152,
          0.581212864653542,
          0.30331914137158783,
          -1.2179046818674735,
          -2.103526750442117,
          0.6834448164214543,
          -0.15730645803113177,
          0.9021369402599491,
          -1.1694166086342517,
          0.8148051426930465,
          0.9444288848742953,
          -0.6589176826651596,
          0.5351669268927843,
          0.20689663682579865,
          0.832979037395156,
          0.5435340867904964,
          1.2929265303581408,
          -1.014503830555063,
          1.3097655276016194,
          -0.3053438162070056,
          -0.828368648201911,
          1.189594403334678,
          -0.37242628836792796,
          0.42166106976218076,
          -0.7112018906041686
         ],
         "y": [
          0.9062930594144116,
          -1.4386362389423506,
          1.1369677802935936,
          2.3716105706749393,
          1.148561136980701,
          1.6384945821750838,
          -1.0740830064136329,
          -0.43741065236894316,
          0.5358574650869486,
          -0.2698795505516891,
          2.0197447105345563,
          0.4338245435899058,
          -0.6403534451698525,
          -1.895132322156619,
          0.047493285900842584,
          -0.21672463780566728,
          0.5117649446224504,
          0.7263239901604835,
          -1.4270079547470809,
          1.1684892701521439,
          -0.07635059518062,
          1.015995199829917,
          1.7008504923460286,
          -0.6630221858617115,
          -0.12131160545398256,
          2.201409865619109,
          1.5871548335880958,
          -1.4170235508141886,
          0.4156143179575276,
          -1.011196408980938,
          0.19523384068338345,
          -0.505399740247492,
          0.5600637862451191,
          -1.626626394671511,
          -2.242945396816825,
          -0.3172556011350909,
          0.15744150179076394,
          -0.6441237430038943,
          -1.154805552889705,
          1.0045417479266496,
          1.497029918691306,
          -1.374787336108716,
          0.09899565870554397,
          0.6142923431050662,
          -0.7587059584886806,
          1.4865210628371175,
          0.7245101896757082,
          2.212384737378364,
          1.1415859663818204,
          -0.48716608639593195,
          -1.492873229229848,
          -1.5580771150038115,
          0.7487385861972751,
          -0.4069196752359965,
          -1.0686371070370626,
          1.8751590252659465,
          -0.9859316483422285,
          -0.40126887692683005,
          1.3394051974576617,
          0.3400675786361936,
          1.6939200545861288,
          -1.2304126744784363,
          -0.009358785317534316,
          1.32881769350092,
          0.6380471903856916,
          -1.127888255950146,
          0.1362958685262489,
          0.9844415462026761,
          -2.3449585435451508,
          -1.1988283052407933,
          0.5902775129859864,
          -0.2816083952687804,
          2.170089395418066,
          -0.7535625814479999,
          0.1256440369012715,
          1.0710620740031642,
          -0.15147133419631562,
          0.708410299017189,
          0.5601583538557442,
          -1.0401882243373572,
          1.7056167441988201,
          0.6850843008365208,
          0.2524170417029744,
          0.4239316576340395,
          0.30856412170761116,
          -0.8120128362314452,
          -1.0248295324212153,
          0.9691832786744989,
          -0.7809378279230037,
          0.5199528377506104,
          -0.5823558298607444,
          0.02242888516997846,
          -1.8483439458823425,
          0.1683359982946268,
          0.44883480148149857,
          0.27644036079912226,
          0.5001592299352902,
          1.707276028881522,
          -0.3499034827519047,
          -0.1658350539232574
         ],
         "type": "scatter"
        }
       ],
       "layout": {
        "legend": {
         "bgcolor": "#F5F6F9",
         "font": {
          "color": "#4D5663"
         }
        },
        "paper_bgcolor": "#F5F6F9",
        "plot_bgcolor": "#F5F6F9",
        "template": {
         "data": {
          "barpolar": [
           {
            "marker": {
             "line": {
              "color": "#E5ECF6",
              "width": 0.5
             },
             "pattern": {
              "fillmode": "overlay",
              "size": 10,
              "solidity": 0.2
             }
            },
            "type": "barpolar"
           }
          ],
          "bar": [
           {
            "error_x": {
             "color": "#2a3f5f"
            },
            "error_y": {
             "color": "#2a3f5f"
            },
            "marker": {
             "line": {
              "color": "#E5ECF6",
              "width": 0.5
             },
             "pattern": {
              "fillmode": "overlay",
              "size": 10,
              "solidity": 0.2
             }
            },
            "type": "bar"
           }
          ],
          "carpet": [
           {
            "aaxis": {
             "endlinecolor": "#2a3f5f",
             "gridcolor": "white",
             "linecolor": "white",
             "minorgridcolor": "white",
             "startlinecolor": "#2a3f5f"
            },
            "baxis": {
             "endlinecolor": "#2a3f5f",
             "gridcolor": "white",
             "linecolor": "white",
             "minorgridcolor": "white",
             "startlinecolor": "#2a3f5f"
            },
            "type": "carpet"
           }
          ],
          "choropleth": [
           {
            "colorbar": {
             "outlinewidth": 0,
             "ticks": ""
            },
            "type": "choropleth"
           }
          ],
          "contourcarpet": [
           {
            "colorbar": {
             "outlinewidth": 0,
             "ticks": ""
            },
            "type": "contourcarpet"
           }
          ],
          "contour": [
           {
            "colorbar": {
             "outlinewidth": 0,
             "ticks": ""
            },
            "colorscale": [
             [
              0.0,
              "#0d0887"
             ],
             [
              0.1111111111111111,
              "#46039f"
             ],
             [
              0.2222222222222222,
              "#7201a8"
             ],
             [
              0.3333333333333333,
              "#9c179e"
             ],
             [
              0.4444444444444444,
              "#bd3786"
             ],
             [
              0.5555555555555556,
              "#d8576b"
             ],
             [
              0.6666666666666666,
              "#ed7953"
             ],
             [
              0.7777777777777778,
              "#fb9f3a"
             ],
             [
              0.8888888888888888,
              "#fdca26"
             ],
             [
              1.0,
              "#f0f921"
             ]
            ],
            "type": "contour"
           }
          ],
          "heatmapgl": [
           {
            "colorbar": {
             "outlinewidth": 0,
             "ticks": ""
            },
            "colorscale": [
             [
              0.0,
              "#0d0887"
             ],
             [
              0.1111111111111111,
              "#46039f"
             ],
             [
              0.2222222222222222,
              "#7201a8"
             ],
             [
              0.3333333333333333,
              "#9c179e"
             ],
             [
              0.4444444444444444,
              "#bd3786"
             ],
             [
              0.5555555555555556,
              "#d8576b"
             ],
             [
              0.6666666666666666,
              "#ed7953"
             ],
             [
              0.7777777777777778,
              "#fb9f3a"
             ],
             [
              0.8888888888888888,
              "#fdca26"
             ],
             [
              1.0,
              "#f0f921"
             ]
            ],
            "type": "heatmapgl"
           }
          ],
          "heatmap": [
           {
            "colorbar": {
             "outlinewidth": 0,
             "ticks": ""
            },
            "colorscale": [
             [
              0.0,
              "#0d0887"
             ],
             [
              0.1111111111111111,
              "#46039f"
             ],
             [
              0.2222222222222222,
              "#7201a8"
             ],
             [
              0.3333333333333333,
              "#9c179e"
             ],
             [
              0.4444444444444444,
              "#bd3786"
             ],
             [
              0.5555555555555556,
              "#d8576b"
             ],
             [
              0.6666666666666666,
              "#ed7953"
             ],
             [
              0.7777777777777778,
              "#fb9f3a"
             ],
             [
              0.8888888888888888,
              "#fdca26"
             ],
             [
              1.0,
              "#f0f921"
             ]
            ],
            "type": "heatmap"
           }
          ],
          "histogram2dcontour": [
           {
            "colorbar": {
             "outlinewidth": 0,
             "ticks": ""
            },
            "colorscale": [
             [
              0.0,
              "#0d0887"
             ],
             [
              0.1111111111111111,
              "#46039f"
             ],
             [
              0.2222222222222222,
              "#7201a8"
             ],
             [
              0.3333333333333333,
              "#9c179e"
             ],
             [
              0.4444444444444444,
              "#bd3786"
             ],
             [
              0.5555555555555556,
              "#d8576b"
             ],
             [
              0.6666666666666666,
              "#ed7953"
             ],
             [
              0.7777777777777778,
              "#fb9f3a"
             ],
             [
              0.8888888888888888,
              "#fdca26"
             ],
             [
              1.0,
              "#f0f921"
             ]
            ],
            "type": "histogram2dcontour"
           }
          ],
          "histogram2d": [
           {
            "colorbar": {
             "outlinewidth": 0,
             "ticks": ""
            },
            "colorscale": [
             [
              0.0,
              "#0d0887"
             ],
             [
              0.1111111111111111,
              "#46039f"
             ],
             [
              0.2222222222222222,
              "#7201a8"
             ],
             [
              0.3333333333333333,
              "#9c179e"
             ],
             [
              0.4444444444444444,
              "#bd3786"
             ],
             [
              0.5555555555555556,
              "#d8576b"
             ],
             [
              0.6666666666666666,
              "#ed7953"
             ],
             [
              0.7777777777777778,
              "#fb9f3a"
             ],
             [
              0.8888888888888888,
              "#fdca26"
             ],
             [
              1.0,
              "#f0f921"
             ]
            ],
            "type": "histogram2d"
           }
          ],
          "histogram": [
           {
            "marker": {
             "pattern": {
              "fillmode": "overlay",
              "size": 10,
              "solidity": 0.2
             }
            },
            "type": "histogram"
           }
          ],
          "mesh3d": [
           {
            "colorbar": {
             "outlinewidth": 0,
             "ticks": ""
            },
            "type": "mesh3d"
           }
          ],
          "parcoords": [
           {
            "line": {
             "colorbar": {
              "outlinewidth": 0,
              "ticks": ""
             }
            },
            "type": "parcoords"
           }
          ],
          "pie": [
           {
            "automargin": true,
            "type": "pie"
           }
          ],
          "scatter3d": [
           {
            "line": {
             "colorbar": {
              "outlinewidth": 0,
              "ticks": ""
             }
            },
            "marker": {
             "colorbar": {
              "outlinewidth": 0,
              "ticks": ""
             }
            },
            "type": "scatter3d"
           }
          ],
          "scattercarpet": [
           {
            "marker": {
             "colorbar": {
              "outlinewidth": 0,
              "ticks": ""
             }
            },
            "type": "scattercarpet"
           }
          ],
          "scattergeo": [
           {
            "marker": {
             "colorbar": {
              "outlinewidth": 0,
              "ticks": ""
             }
            },
            "type": "scattergeo"
           }
          ],
          "scattergl": [
           {
            "marker": {
             "colorbar": {
              "outlinewidth": 0,
              "ticks": ""
             }
            },
            "type": "scattergl"
           }
          ],
          "scattermapbox": [
           {
            "marker": {
             "colorbar": {
              "outlinewidth": 0,
              "ticks": ""
             }
            },
            "type": "scattermapbox"
           }
          ],
          "scatterpolargl": [
           {
            "marker": {
             "colorbar": {
              "outlinewidth": 0,
              "ticks": ""
             }
            },
            "type": "scatterpolargl"
           }
          ],
          "scatterpolar": [
           {
            "marker": {
             "colorbar": {
              "outlinewidth": 0,
              "ticks": ""
             }
            },
            "type": "scatterpolar"
           }
          ],
          "scatter": [
           {
            "fillpattern": {
             "fillmode": "overlay",
             "size": 10,
             "solidity": 0.2
            },
            "type": "scatter"
           }
          ],
          "scatterternary": [
           {
            "marker": {
             "colorbar": {
              "outlinewidth": 0,
              "ticks": ""
             }
            },
            "type": "scatterternary"
           }
          ],
          "surface": [
           {
            "colorbar": {
             "outlinewidth": 0,
             "ticks": ""
            },
            "colorscale": [
             [
              0.0,
              "#0d0887"
             ],
             [
              0.1111111111111111,
              "#46039f"
             ],
             [
              0.2222222222222222,
              "#7201a8"
             ],
             [
              0.3333333333333333,
              "#9c179e"
             ],
             [
              0.4444444444444444,
              "#bd3786"
             ],
             [
              0.5555555555555556,
              "#d8576b"
             ],
             [
              0.6666666666666666,
              "#ed7953"
             ],
             [
              0.7777777777777778,
              "#fb9f3a"
             ],
             [
              0.8888888888888888,
              "#fdca26"
             ],
             [
              1.0,
              "#f0f921"
             ]
            ],
            "type": "surface"
           }
          ],
          "table": [
           {
            "cells": {
             "fill": {
              "color": "#EBF0F8"
             },
             "line": {
              "color": "white"
             }
            },
            "header": {
             "fill": {
              "color": "#C8D4E3"
             },
             "line": {
              "color": "white"
             }
            },
            "type": "table"
           }
          ]
         },
         "layout": {
          "annotationdefaults": {
           "arrowcolor": "#2a3f5f",
           "arrowhead": 0,
           "arrowwidth": 1
          },
          "autotypenumbers": "strict",
          "coloraxis": {
           "colorbar": {
            "outlinewidth": 0,
            "ticks": ""
           }
          },
          "colorscale": {
           "diverging": [
            [
             0,
             "#8e0152"
            ],
            [
             0.1,
             "#c51b7d"
            ],
            [
             0.2,
             "#de77ae"
            ],
            [
             0.3,
             "#f1b6da"
            ],
            [
             0.4,
             "#fde0ef"
            ],
            [
             0.5,
             "#f7f7f7"
            ],
            [
             0.6,
             "#e6f5d0"
            ],
            [
             0.7,
             "#b8e186"
            ],
            [
             0.8,
             "#7fbc41"
            ],
            [
             0.9,
             "#4d9221"
            ],
            [
             1,
             "#276419"
            ]
           ],
           "sequential": [
            [
             0.0,
             "#0d0887"
            ],
            [
             0.1111111111111111,
             "#46039f"
            ],
            [
             0.2222222222222222,
             "#7201a8"
            ],
            [
             0.3333333333333333,
             "#9c179e"
            ],
            [
             0.4444444444444444,
             "#bd3786"
            ],
            [
             0.5555555555555556,
             "#d8576b"
            ],
            [
             0.6666666666666666,
             "#ed7953"
            ],
            [
             0.7777777777777778,
             "#fb9f3a"
            ],
            [
             0.8888888888888888,
             "#fdca26"
            ],
            [
             1.0,
             "#f0f921"
            ]
           ],
           "sequentialminus": [
            [
             0.0,
             "#0d0887"
            ],
            [
             0.1111111111111111,
             "#46039f"
            ],
            [
             0.2222222222222222,
             "#7201a8"
            ],
            [
             0.3333333333333333,
             "#9c179e"
            ],
            [
             0.4444444444444444,
             "#bd3786"
            ],
            [
             0.5555555555555556,
             "#d8576b"
            ],
            [
             0.6666666666666666,
             "#ed7953"
            ],
            [
             0.7777777777777778,
             "#fb9f3a"
            ],
            [
             0.8888888888888888,
             "#fdca26"
            ],
            [
             1.0,
             "#f0f921"
            ]
           ]
          },
          "colorway": [
           "#636efa",
           "#EF553B",
           "#00cc96",
           "#ab63fa",
           "#FFA15A",
           "#19d3f3",
           "#FF6692",
           "#B6E880",
           "#FF97FF",
           "#FECB52"
          ],
          "font": {
           "color": "#2a3f5f"
          },
          "geo": {
           "bgcolor": "white",
           "lakecolor": "white",
           "landcolor": "#E5ECF6",
           "showlakes": true,
           "showland": true,
           "subunitcolor": "white"
          },
          "hoverlabel": {
           "align": "left"
          },
          "hovermode": "closest",
          "mapbox": {
           "style": "light"
          },
          "paper_bgcolor": "white",
          "plot_bgcolor": "#E5ECF6",
          "polar": {
           "angularaxis": {
            "gridcolor": "white",
            "linecolor": "white",
            "ticks": ""
           },
           "bgcolor": "#E5ECF6",
           "radialaxis": {
            "gridcolor": "white",
            "linecolor": "white",
            "ticks": ""
           }
          },
          "scene": {
           "xaxis": {
            "backgroundcolor": "#E5ECF6",
            "gridcolor": "white",
            "gridwidth": 2,
            "linecolor": "white",
            "showbackground": true,
            "ticks": "",
            "zerolinecolor": "white"
           },
           "yaxis": {
            "backgroundcolor": "#E5ECF6",
            "gridcolor": "white",
            "gridwidth": 2,
            "linecolor": "white",
            "showbackground": true,
            "ticks": "",
            "zerolinecolor": "white"
           },
           "zaxis": {
            "backgroundcolor": "#E5ECF6",
            "gridcolor": "white",
            "gridwidth": 2,
            "linecolor": "white",
            "showbackground": true,
            "ticks": "",
            "zerolinecolor": "white"
           }
          },
          "shapedefaults": {
           "line": {
            "color": "#2a3f5f"
           }
          },
          "ternary": {
           "aaxis": {
            "gridcolor": "white",
            "linecolor": "white",
            "ticks": ""
           },
           "baxis": {
            "gridcolor": "white",
            "linecolor": "white",
            "ticks": ""
           },
           "bgcolor": "#E5ECF6",
           "caxis": {
            "gridcolor": "white",
            "linecolor": "white",
            "ticks": ""
           }
          },
          "title": {
           "x": 0.05
          },
          "xaxis": {
           "automargin": true,
           "gridcolor": "white",
           "linecolor": "white",
           "ticks": "",
           "title": {
            "standoff": 15
           },
           "zerolinecolor": "white",
           "zerolinewidth": 2
          },
          "yaxis": {
           "automargin": true,
           "gridcolor": "white",
           "linecolor": "white",
           "ticks": "",
           "title": {
            "standoff": 15
           },
           "zerolinecolor": "white",
           "zerolinewidth": 2
          }
         }
        },
        "title": {
         "font": {
          "color": "#4D5663"
         }
        },
        "xaxis": {
         "gridcolor": "#E1E5ED",
         "showgrid": true,
         "tickfont": {
          "color": "#4D5663"
         },
         "title": {
          "font": {
           "color": "#4D5663"
          },
          "text": ""
         },
         "zerolinecolor": "#E1E5ED"
        },
        "yaxis": {
         "gridcolor": "#E1E5ED",
         "showgrid": true,
         "tickfont": {
          "color": "#4D5663"
         },
         "title": {
          "font": {
           "color": "#4D5663"
          },
          "text": ""
         },
         "zerolinecolor": "#E1E5ED"
        }
       },
       "config": {
        "showLink": true,
        "linkText": "Export to plot.ly",
        "plotlyServerURL": "https://plot.ly"
       }
      },
      "text/html": "<div>                            <div id=\"0be8bc21-2157-4f58-8c45-8ae02e9c548b\" class=\"plotly-graph-div\" style=\"height:525px; width:100%;\"></div>            <script type=\"text/javascript\">                require([\"plotly\"], function(Plotly) {                    window.PLOTLYENV=window.PLOTLYENV || {};\n                    window.PLOTLYENV.BASE_URL='https://plot.ly';                                    if (document.getElementById(\"0be8bc21-2157-4f58-8c45-8ae02e9c548b\")) {                    Plotly.newPlot(                        \"0be8bc21-2157-4f58-8c45-8ae02e9c548b\",                        [{\"line\":{\"color\":\"rgba(255, 153, 51, 1.0)\",\"dash\":\"solid\",\"shape\":\"linear\",\"width\":1.3},\"marker\":{\"size\":20,\"symbol\":\"circle\"},\"mode\":\"markers\",\"name\":\"B\",\"text\":\"\",\"x\":[1.80900659363173,0.035274995502989924,-1.3725782517059886,0.012016290428291753,1.000469906945173,-0.6195273127982366,-0.5493763932833622,-0.9911107758158834,0.23248967391723316,-0.14506312346767283,0.34184931249590944,0.2715616077472833,0.8393674963432226,-0.10711850809753216,1.8812271802120675,1.0538530621847526,-0.29984010726672844,-1.0005896037131567,0.6236039509447258,2.547660303248421,0.3645808633949736,0.7584190685180403,-1.3718605252785057,1.1236466096015902,-0.6575364883108161,-0.7435742465354352,-0.9510929805192601,-0.7250355706046863,-0.3010833740014651,-0.8365580045456453,0.5375896300969594,0.4250820358790253,-1.4817640383211563,1.0742946624051832,-1.6615502948070402,-0.4539105034533779,0.9627637686417985,1.0917899219961893,0.40651750118727115,0.30539547233503134,0.7154867771216606,0.4988743495347605,0.8934197814724031,-0.7226701733307364,-0.6212640967281962,-0.20366491195303663,0.6293167407460972,0.932849322897483,0.0889989385329877,-0.009742713919367142,0.8547431702291997,-0.06513079400429111,-0.5810102718413085,-0.9663593983135926,0.6305616168977342,1.9913392481918006,-1.9776861325927175,2.0202457074867883,-1.0347658552177048,-0.6695623864365713,1.183237535410795,0.4225713154856195,1.2265275340992094,-1.620088276804922,0.36251610386564465,-0.39921777940713343,0.19623576958325684,-0.28567696303803214,-0.40868573997383634,0.4589878761780295,-0.8307604519242388,0.46409171043276753,-0.7934822881525643,-0.48507069853990153,1.0898652590025368,-1.3743038367541152,0.581212864653542,0.30331914137158783,-1.2179046818674735,-2.103526750442117,0.6834448164214543,-0.15730645803113177,0.9021369402599491,-1.1694166086342517,0.8148051426930465,0.9444288848742953,-0.6589176826651596,0.5351669268927843,0.20689663682579865,0.832979037395156,0.5435340867904964,1.2929265303581408,-1.014503830555063,1.3097655276016194,-0.3053438162070056,-0.828368648201911,1.189594403334678,-0.37242628836792796,0.42166106976218076,-0.7112018906041686],\"y\":[0.9062930594144116,-1.4386362389423506,1.1369677802935936,2.3716105706749393,1.148561136980701,1.6384945821750838,-1.0740830064136329,-0.43741065236894316,0.5358574650869486,-0.2698795505516891,2.0197447105345563,0.4338245435899058,-0.6403534451698525,-1.895132322156619,0.047493285900842584,-0.21672463780566728,0.5117649446224504,0.7263239901604835,-1.4270079547470809,1.1684892701521439,-0.07635059518062,1.015995199829917,1.7008504923460286,-0.6630221858617115,-0.12131160545398256,2.201409865619109,1.5871548335880958,-1.4170235508141886,0.4156143179575276,-1.011196408980938,0.19523384068338345,-0.505399740247492,0.5600637862451191,-1.626626394671511,-2.242945396816825,-0.3172556011350909,0.15744150179076394,-0.6441237430038943,-1.154805552889705,1.0045417479266496,1.497029918691306,-1.374787336108716,0.09899565870554397,0.6142923431050662,-0.7587059584886806,1.4865210628371175,0.7245101896757082,2.212384737378364,1.1415859663818204,-0.48716608639593195,-1.492873229229848,-1.5580771150038115,0.7487385861972751,-0.4069196752359965,-1.0686371070370626,1.8751590252659465,-0.9859316483422285,-0.40126887692683005,1.3394051974576617,0.3400675786361936,1.6939200545861288,-1.2304126744784363,-0.009358785317534316,1.32881769350092,0.6380471903856916,-1.127888255950146,0.1362958685262489,0.9844415462026761,-2.3449585435451508,-1.1988283052407933,0.5902775129859864,-0.2816083952687804,2.170089395418066,-0.7535625814479999,0.1256440369012715,1.0710620740031642,-0.15147133419631562,0.708410299017189,0.5601583538557442,-1.0401882243373572,1.7056167441988201,0.6850843008365208,0.2524170417029744,0.4239316576340395,0.30856412170761116,-0.8120128362314452,-1.0248295324212153,0.9691832786744989,-0.7809378279230037,0.5199528377506104,-0.5823558298607444,0.02242888516997846,-1.8483439458823425,0.1683359982946268,0.44883480148149857,0.27644036079912226,0.5001592299352902,1.707276028881522,-0.3499034827519047,-0.1658350539232574],\"type\":\"scatter\"}],                        {\"legend\":{\"bgcolor\":\"#F5F6F9\",\"font\":{\"color\":\"#4D5663\"}},\"paper_bgcolor\":\"#F5F6F9\",\"plot_bgcolor\":\"#F5F6F9\",\"template\":{\"data\":{\"barpolar\":[{\"marker\":{\"line\":{\"color\":\"#E5ECF6\",\"width\":0.5},\"pattern\":{\"fillmode\":\"overlay\",\"size\":10,\"solidity\":0.2}},\"type\":\"barpolar\"}],\"bar\":[{\"error_x\":{\"color\":\"#2a3f5f\"},\"error_y\":{\"color\":\"#2a3f5f\"},\"marker\":{\"line\":{\"color\":\"#E5ECF6\",\"width\":0.5},\"pattern\":{\"fillmode\":\"overlay\",\"size\":10,\"solidity\":0.2}},\"type\":\"bar\"}],\"carpet\":[{\"aaxis\":{\"endlinecolor\":\"#2a3f5f\",\"gridcolor\":\"white\",\"linecolor\":\"white\",\"minorgridcolor\":\"white\",\"startlinecolor\":\"#2a3f5f\"},\"baxis\":{\"endlinecolor\":\"#2a3f5f\",\"gridcolor\":\"white\",\"linecolor\":\"white\",\"minorgridcolor\":\"white\",\"startlinecolor\":\"#2a3f5f\"},\"type\":\"carpet\"}],\"choropleth\":[{\"colorbar\":{\"outlinewidth\":0,\"ticks\":\"\"},\"type\":\"choropleth\"}],\"contourcarpet\":[{\"colorbar\":{\"outlinewidth\":0,\"ticks\":\"\"},\"type\":\"contourcarpet\"}],\"contour\":[{\"colorbar\":{\"outlinewidth\":0,\"ticks\":\"\"},\"colorscale\":[[0.0,\"#0d0887\"],[0.1111111111111111,\"#46039f\"],[0.2222222222222222,\"#7201a8\"],[0.3333333333333333,\"#9c179e\"],[0.4444444444444444,\"#bd3786\"],[0.5555555555555556,\"#d8576b\"],[0.6666666666666666,\"#ed7953\"],[0.7777777777777778,\"#fb9f3a\"],[0.8888888888888888,\"#fdca26\"],[1.0,\"#f0f921\"]],\"type\":\"contour\"}],\"heatmapgl\":[{\"colorbar\":{\"outlinewidth\":0,\"ticks\":\"\"},\"colorscale\":[[0.0,\"#0d0887\"],[0.1111111111111111,\"#46039f\"],[0.2222222222222222,\"#7201a8\"],[0.3333333333333333,\"#9c179e\"],[0.4444444444444444,\"#bd3786\"],[0.5555555555555556,\"#d8576b\"],[0.6666666666666666,\"#ed7953\"],[0.7777777777777778,\"#fb9f3a\"],[0.8888888888888888,\"#fdca26\"],[1.0,\"#f0f921\"]],\"type\":\"heatmapgl\"}],\"heatmap\":[{\"colorbar\":{\"outlinewidth\":0,\"ticks\":\"\"},\"colorscale\":[[0.0,\"#0d0887\"],[0.1111111111111111,\"#46039f\"],[0.2222222222222222,\"#7201a8\"],[0.3333333333333333,\"#9c179e\"],[0.4444444444444444,\"#bd3786\"],[0.5555555555555556,\"#d8576b\"],[0.6666666666666666,\"#ed7953\"],[0.7777777777777778,\"#fb9f3a\"],[0.8888888888888888,\"#fdca26\"],[1.0,\"#f0f921\"]],\"type\":\"heatmap\"}],\"histogram2dcontour\":[{\"colorbar\":{\"outlinewidth\":0,\"ticks\":\"\"},\"colorscale\":[[0.0,\"#0d0887\"],[0.1111111111111111,\"#46039f\"],[0.2222222222222222,\"#7201a8\"],[0.3333333333333333,\"#9c179e\"],[0.4444444444444444,\"#bd3786\"],[0.5555555555555556,\"#d8576b\"],[0.6666666666666666,\"#ed7953\"],[0.7777777777777778,\"#fb9f3a\"],[0.8888888888888888,\"#fdca26\"],[1.0,\"#f0f921\"]],\"type\":\"histogram2dcontour\"}],\"histogram2d\":[{\"colorbar\":{\"outlinewidth\":0,\"ticks\":\"\"},\"colorscale\":[[0.0,\"#0d0887\"],[0.1111111111111111,\"#46039f\"],[0.2222222222222222,\"#7201a8\"],[0.3333333333333333,\"#9c179e\"],[0.4444444444444444,\"#bd3786\"],[0.5555555555555556,\"#d8576b\"],[0.6666666666666666,\"#ed7953\"],[0.7777777777777778,\"#fb9f3a\"],[0.8888888888888888,\"#fdca26\"],[1.0,\"#f0f921\"]],\"type\":\"histogram2d\"}],\"histogram\":[{\"marker\":{\"pattern\":{\"fillmode\":\"overlay\",\"size\":10,\"solidity\":0.2}},\"type\":\"histogram\"}],\"mesh3d\":[{\"colorbar\":{\"outlinewidth\":0,\"ticks\":\"\"},\"type\":\"mesh3d\"}],\"parcoords\":[{\"line\":{\"colorbar\":{\"outlinewidth\":0,\"ticks\":\"\"}},\"type\":\"parcoords\"}],\"pie\":[{\"automargin\":true,\"type\":\"pie\"}],\"scatter3d\":[{\"line\":{\"colorbar\":{\"outlinewidth\":0,\"ticks\":\"\"}},\"marker\":{\"colorbar\":{\"outlinewidth\":0,\"ticks\":\"\"}},\"type\":\"scatter3d\"}],\"scattercarpet\":[{\"marker\":{\"colorbar\":{\"outlinewidth\":0,\"ticks\":\"\"}},\"type\":\"scattercarpet\"}],\"scattergeo\":[{\"marker\":{\"colorbar\":{\"outlinewidth\":0,\"ticks\":\"\"}},\"type\":\"scattergeo\"}],\"scattergl\":[{\"marker\":{\"colorbar\":{\"outlinewidth\":0,\"ticks\":\"\"}},\"type\":\"scattergl\"}],\"scattermapbox\":[{\"marker\":{\"colorbar\":{\"outlinewidth\":0,\"ticks\":\"\"}},\"type\":\"scattermapbox\"}],\"scatterpolargl\":[{\"marker\":{\"colorbar\":{\"outlinewidth\":0,\"ticks\":\"\"}},\"type\":\"scatterpolargl\"}],\"scatterpolar\":[{\"marker\":{\"colorbar\":{\"outlinewidth\":0,\"ticks\":\"\"}},\"type\":\"scatterpolar\"}],\"scatter\":[{\"fillpattern\":{\"fillmode\":\"overlay\",\"size\":10,\"solidity\":0.2},\"type\":\"scatter\"}],\"scatterternary\":[{\"marker\":{\"colorbar\":{\"outlinewidth\":0,\"ticks\":\"\"}},\"type\":\"scatterternary\"}],\"surface\":[{\"colorbar\":{\"outlinewidth\":0,\"ticks\":\"\"},\"colorscale\":[[0.0,\"#0d0887\"],[0.1111111111111111,\"#46039f\"],[0.2222222222222222,\"#7201a8\"],[0.3333333333333333,\"#9c179e\"],[0.4444444444444444,\"#bd3786\"],[0.5555555555555556,\"#d8576b\"],[0.6666666666666666,\"#ed7953\"],[0.7777777777777778,\"#fb9f3a\"],[0.8888888888888888,\"#fdca26\"],[1.0,\"#f0f921\"]],\"type\":\"surface\"}],\"table\":[{\"cells\":{\"fill\":{\"color\":\"#EBF0F8\"},\"line\":{\"color\":\"white\"}},\"header\":{\"fill\":{\"color\":\"#C8D4E3\"},\"line\":{\"color\":\"white\"}},\"type\":\"table\"}]},\"layout\":{\"annotationdefaults\":{\"arrowcolor\":\"#2a3f5f\",\"arrowhead\":0,\"arrowwidth\":1},\"autotypenumbers\":\"strict\",\"coloraxis\":{\"colorbar\":{\"outlinewidth\":0,\"ticks\":\"\"}},\"colorscale\":{\"diverging\":[[0,\"#8e0152\"],[0.1,\"#c51b7d\"],[0.2,\"#de77ae\"],[0.3,\"#f1b6da\"],[0.4,\"#fde0ef\"],[0.5,\"#f7f7f7\"],[0.6,\"#e6f5d0\"],[0.7,\"#b8e186\"],[0.8,\"#7fbc41\"],[0.9,\"#4d9221\"],[1,\"#276419\"]],\"sequential\":[[0.0,\"#0d0887\"],[0.1111111111111111,\"#46039f\"],[0.2222222222222222,\"#7201a8\"],[0.3333333333333333,\"#9c179e\"],[0.4444444444444444,\"#bd3786\"],[0.5555555555555556,\"#d8576b\"],[0.6666666666666666,\"#ed7953\"],[0.7777777777777778,\"#fb9f3a\"],[0.8888888888888888,\"#fdca26\"],[1.0,\"#f0f921\"]],\"sequentialminus\":[[0.0,\"#0d0887\"],[0.1111111111111111,\"#46039f\"],[0.2222222222222222,\"#7201a8\"],[0.3333333333333333,\"#9c179e\"],[0.4444444444444444,\"#bd3786\"],[0.5555555555555556,\"#d8576b\"],[0.6666666666666666,\"#ed7953\"],[0.7777777777777778,\"#fb9f3a\"],[0.8888888888888888,\"#fdca26\"],[1.0,\"#f0f921\"]]},\"colorway\":[\"#636efa\",\"#EF553B\",\"#00cc96\",\"#ab63fa\",\"#FFA15A\",\"#19d3f3\",\"#FF6692\",\"#B6E880\",\"#FF97FF\",\"#FECB52\"],\"font\":{\"color\":\"#2a3f5f\"},\"geo\":{\"bgcolor\":\"white\",\"lakecolor\":\"white\",\"landcolor\":\"#E5ECF6\",\"showlakes\":true,\"showland\":true,\"subunitcolor\":\"white\"},\"hoverlabel\":{\"align\":\"left\"},\"hovermode\":\"closest\",\"mapbox\":{\"style\":\"light\"},\"paper_bgcolor\":\"white\",\"plot_bgcolor\":\"#E5ECF6\",\"polar\":{\"angularaxis\":{\"gridcolor\":\"white\",\"linecolor\":\"white\",\"ticks\":\"\"},\"bgcolor\":\"#E5ECF6\",\"radialaxis\":{\"gridcolor\":\"white\",\"linecolor\":\"white\",\"ticks\":\"\"}},\"scene\":{\"xaxis\":{\"backgroundcolor\":\"#E5ECF6\",\"gridcolor\":\"white\",\"gridwidth\":2,\"linecolor\":\"white\",\"showbackground\":true,\"ticks\":\"\",\"zerolinecolor\":\"white\"},\"yaxis\":{\"backgroundcolor\":\"#E5ECF6\",\"gridcolor\":\"white\",\"gridwidth\":2,\"linecolor\":\"white\",\"showbackground\":true,\"ticks\":\"\",\"zerolinecolor\":\"white\"},\"zaxis\":{\"backgroundcolor\":\"#E5ECF6\",\"gridcolor\":\"white\",\"gridwidth\":2,\"linecolor\":\"white\",\"showbackground\":true,\"ticks\":\"\",\"zerolinecolor\":\"white\"}},\"shapedefaults\":{\"line\":{\"color\":\"#2a3f5f\"}},\"ternary\":{\"aaxis\":{\"gridcolor\":\"white\",\"linecolor\":\"white\",\"ticks\":\"\"},\"baxis\":{\"gridcolor\":\"white\",\"linecolor\":\"white\",\"ticks\":\"\"},\"bgcolor\":\"#E5ECF6\",\"caxis\":{\"gridcolor\":\"white\",\"linecolor\":\"white\",\"ticks\":\"\"}},\"title\":{\"x\":0.05},\"xaxis\":{\"automargin\":true,\"gridcolor\":\"white\",\"linecolor\":\"white\",\"ticks\":\"\",\"title\":{\"standoff\":15},\"zerolinecolor\":\"white\",\"zerolinewidth\":2},\"yaxis\":{\"automargin\":true,\"gridcolor\":\"white\",\"linecolor\":\"white\",\"ticks\":\"\",\"title\":{\"standoff\":15},\"zerolinecolor\":\"white\",\"zerolinewidth\":2}}},\"title\":{\"font\":{\"color\":\"#4D5663\"}},\"xaxis\":{\"gridcolor\":\"#E1E5ED\",\"showgrid\":true,\"tickfont\":{\"color\":\"#4D5663\"},\"title\":{\"font\":{\"color\":\"#4D5663\"},\"text\":\"\"},\"zerolinecolor\":\"#E1E5ED\"},\"yaxis\":{\"gridcolor\":\"#E1E5ED\",\"showgrid\":true,\"tickfont\":{\"color\":\"#4D5663\"},\"title\":{\"font\":{\"color\":\"#4D5663\"},\"text\":\"\"},\"zerolinecolor\":\"#E1E5ED\"}},                        {\"showLink\": true, \"linkText\": \"Export to plot.ly\", \"plotlyServerURL\": \"https://plot.ly\", \"responsive\": true}                    ).then(function(){\n                            \nvar gd = document.getElementById('0be8bc21-2157-4f58-8c45-8ae02e9c548b');\nvar x = new MutationObserver(function (mutations, observer) {{\n        var display = window.getComputedStyle(gd).display;\n        if (!display || display === 'none') {{\n            console.log([gd, 'removed!']);\n            Plotly.purge(gd);\n            observer.disconnect();\n        }}\n}});\n\n// Listen for the removal of the full notebook cells\nvar notebookContainer = gd.closest('#notebook-container');\nif (notebookContainer) {{\n    x.observe(notebookContainer, {childList: true});\n}}\n\n// Listen for the clearing of the current output cell\nvar outputEl = gd.closest('.output');\nif (outputEl) {{\n    x.observe(outputEl, {childList: true});\n}}\n\n                        })                };                });            </script>        </div>"
     },
     "metadata": {},
     "output_type": "display_data"
    }
   ],
   "source": [
    "df.iplot(kind='scatter',x='A',y='B',mode='markers',size = 20)"
   ],
   "metadata": {
    "collapsed": false,
    "pycharm": {
     "name": "#%%\n"
    }
   }
  },
  {
   "cell_type": "code",
   "execution_count": 25,
   "outputs": [
    {
     "data": {
      "application/vnd.plotly.v1+json": {
       "data": [
        {
         "marker": {
          "color": "rgba(255, 153, 51, 0.6)",
          "line": {
           "color": "rgba(255, 153, 51, 1.0)",
           "width": 1
          }
         },
         "name": "Values",
         "orientation": "v",
         "text": "",
         "x": [
          "A",
          "B",
          "C"
         ],
         "y": [
          33,
          43,
          22
         ],
         "type": "bar"
        }
       ],
       "layout": {
        "legend": {
         "bgcolor": "#F5F6F9",
         "font": {
          "color": "#4D5663"
         }
        },
        "paper_bgcolor": "#F5F6F9",
        "plot_bgcolor": "#F5F6F9",
        "template": {
         "data": {
          "barpolar": [
           {
            "marker": {
             "line": {
              "color": "#E5ECF6",
              "width": 0.5
             },
             "pattern": {
              "fillmode": "overlay",
              "size": 10,
              "solidity": 0.2
             }
            },
            "type": "barpolar"
           }
          ],
          "bar": [
           {
            "error_x": {
             "color": "#2a3f5f"
            },
            "error_y": {
             "color": "#2a3f5f"
            },
            "marker": {
             "line": {
              "color": "#E5ECF6",
              "width": 0.5
             },
             "pattern": {
              "fillmode": "overlay",
              "size": 10,
              "solidity": 0.2
             }
            },
            "type": "bar"
           }
          ],
          "carpet": [
           {
            "aaxis": {
             "endlinecolor": "#2a3f5f",
             "gridcolor": "white",
             "linecolor": "white",
             "minorgridcolor": "white",
             "startlinecolor": "#2a3f5f"
            },
            "baxis": {
             "endlinecolor": "#2a3f5f",
             "gridcolor": "white",
             "linecolor": "white",
             "minorgridcolor": "white",
             "startlinecolor": "#2a3f5f"
            },
            "type": "carpet"
           }
          ],
          "choropleth": [
           {
            "colorbar": {
             "outlinewidth": 0,
             "ticks": ""
            },
            "type": "choropleth"
           }
          ],
          "contourcarpet": [
           {
            "colorbar": {
             "outlinewidth": 0,
             "ticks": ""
            },
            "type": "contourcarpet"
           }
          ],
          "contour": [
           {
            "colorbar": {
             "outlinewidth": 0,
             "ticks": ""
            },
            "colorscale": [
             [
              0.0,
              "#0d0887"
             ],
             [
              0.1111111111111111,
              "#46039f"
             ],
             [
              0.2222222222222222,
              "#7201a8"
             ],
             [
              0.3333333333333333,
              "#9c179e"
             ],
             [
              0.4444444444444444,
              "#bd3786"
             ],
             [
              0.5555555555555556,
              "#d8576b"
             ],
             [
              0.6666666666666666,
              "#ed7953"
             ],
             [
              0.7777777777777778,
              "#fb9f3a"
             ],
             [
              0.8888888888888888,
              "#fdca26"
             ],
             [
              1.0,
              "#f0f921"
             ]
            ],
            "type": "contour"
           }
          ],
          "heatmapgl": [
           {
            "colorbar": {
             "outlinewidth": 0,
             "ticks": ""
            },
            "colorscale": [
             [
              0.0,
              "#0d0887"
             ],
             [
              0.1111111111111111,
              "#46039f"
             ],
             [
              0.2222222222222222,
              "#7201a8"
             ],
             [
              0.3333333333333333,
              "#9c179e"
             ],
             [
              0.4444444444444444,
              "#bd3786"
             ],
             [
              0.5555555555555556,
              "#d8576b"
             ],
             [
              0.6666666666666666,
              "#ed7953"
             ],
             [
              0.7777777777777778,
              "#fb9f3a"
             ],
             [
              0.8888888888888888,
              "#fdca26"
             ],
             [
              1.0,
              "#f0f921"
             ]
            ],
            "type": "heatmapgl"
           }
          ],
          "heatmap": [
           {
            "colorbar": {
             "outlinewidth": 0,
             "ticks": ""
            },
            "colorscale": [
             [
              0.0,
              "#0d0887"
             ],
             [
              0.1111111111111111,
              "#46039f"
             ],
             [
              0.2222222222222222,
              "#7201a8"
             ],
             [
              0.3333333333333333,
              "#9c179e"
             ],
             [
              0.4444444444444444,
              "#bd3786"
             ],
             [
              0.5555555555555556,
              "#d8576b"
             ],
             [
              0.6666666666666666,
              "#ed7953"
             ],
             [
              0.7777777777777778,
              "#fb9f3a"
             ],
             [
              0.8888888888888888,
              "#fdca26"
             ],
             [
              1.0,
              "#f0f921"
             ]
            ],
            "type": "heatmap"
           }
          ],
          "histogram2dcontour": [
           {
            "colorbar": {
             "outlinewidth": 0,
             "ticks": ""
            },
            "colorscale": [
             [
              0.0,
              "#0d0887"
             ],
             [
              0.1111111111111111,
              "#46039f"
             ],
             [
              0.2222222222222222,
              "#7201a8"
             ],
             [
              0.3333333333333333,
              "#9c179e"
             ],
             [
              0.4444444444444444,
              "#bd3786"
             ],
             [
              0.5555555555555556,
              "#d8576b"
             ],
             [
              0.6666666666666666,
              "#ed7953"
             ],
             [
              0.7777777777777778,
              "#fb9f3a"
             ],
             [
              0.8888888888888888,
              "#fdca26"
             ],
             [
              1.0,
              "#f0f921"
             ]
            ],
            "type": "histogram2dcontour"
           }
          ],
          "histogram2d": [
           {
            "colorbar": {
             "outlinewidth": 0,
             "ticks": ""
            },
            "colorscale": [
             [
              0.0,
              "#0d0887"
             ],
             [
              0.1111111111111111,
              "#46039f"
             ],
             [
              0.2222222222222222,
              "#7201a8"
             ],
             [
              0.3333333333333333,
              "#9c179e"
             ],
             [
              0.4444444444444444,
              "#bd3786"
             ],
             [
              0.5555555555555556,
              "#d8576b"
             ],
             [
              0.6666666666666666,
              "#ed7953"
             ],
             [
              0.7777777777777778,
              "#fb9f3a"
             ],
             [
              0.8888888888888888,
              "#fdca26"
             ],
             [
              1.0,
              "#f0f921"
             ]
            ],
            "type": "histogram2d"
           }
          ],
          "histogram": [
           {
            "marker": {
             "pattern": {
              "fillmode": "overlay",
              "size": 10,
              "solidity": 0.2
             }
            },
            "type": "histogram"
           }
          ],
          "mesh3d": [
           {
            "colorbar": {
             "outlinewidth": 0,
             "ticks": ""
            },
            "type": "mesh3d"
           }
          ],
          "parcoords": [
           {
            "line": {
             "colorbar": {
              "outlinewidth": 0,
              "ticks": ""
             }
            },
            "type": "parcoords"
           }
          ],
          "pie": [
           {
            "automargin": true,
            "type": "pie"
           }
          ],
          "scatter3d": [
           {
            "line": {
             "colorbar": {
              "outlinewidth": 0,
              "ticks": ""
             }
            },
            "marker": {
             "colorbar": {
              "outlinewidth": 0,
              "ticks": ""
             }
            },
            "type": "scatter3d"
           }
          ],
          "scattercarpet": [
           {
            "marker": {
             "colorbar": {
              "outlinewidth": 0,
              "ticks": ""
             }
            },
            "type": "scattercarpet"
           }
          ],
          "scattergeo": [
           {
            "marker": {
             "colorbar": {
              "outlinewidth": 0,
              "ticks": ""
             }
            },
            "type": "scattergeo"
           }
          ],
          "scattergl": [
           {
            "marker": {
             "colorbar": {
              "outlinewidth": 0,
              "ticks": ""
             }
            },
            "type": "scattergl"
           }
          ],
          "scattermapbox": [
           {
            "marker": {
             "colorbar": {
              "outlinewidth": 0,
              "ticks": ""
             }
            },
            "type": "scattermapbox"
           }
          ],
          "scatterpolargl": [
           {
            "marker": {
             "colorbar": {
              "outlinewidth": 0,
              "ticks": ""
             }
            },
            "type": "scatterpolargl"
           }
          ],
          "scatterpolar": [
           {
            "marker": {
             "colorbar": {
              "outlinewidth": 0,
              "ticks": ""
             }
            },
            "type": "scatterpolar"
           }
          ],
          "scatter": [
           {
            "fillpattern": {
             "fillmode": "overlay",
             "size": 10,
             "solidity": 0.2
            },
            "type": "scatter"
           }
          ],
          "scatterternary": [
           {
            "marker": {
             "colorbar": {
              "outlinewidth": 0,
              "ticks": ""
             }
            },
            "type": "scatterternary"
           }
          ],
          "surface": [
           {
            "colorbar": {
             "outlinewidth": 0,
             "ticks": ""
            },
            "colorscale": [
             [
              0.0,
              "#0d0887"
             ],
             [
              0.1111111111111111,
              "#46039f"
             ],
             [
              0.2222222222222222,
              "#7201a8"
             ],
             [
              0.3333333333333333,
              "#9c179e"
             ],
             [
              0.4444444444444444,
              "#bd3786"
             ],
             [
              0.5555555555555556,
              "#d8576b"
             ],
             [
              0.6666666666666666,
              "#ed7953"
             ],
             [
              0.7777777777777778,
              "#fb9f3a"
             ],
             [
              0.8888888888888888,
              "#fdca26"
             ],
             [
              1.0,
              "#f0f921"
             ]
            ],
            "type": "surface"
           }
          ],
          "table": [
           {
            "cells": {
             "fill": {
              "color": "#EBF0F8"
             },
             "line": {
              "color": "white"
             }
            },
            "header": {
             "fill": {
              "color": "#C8D4E3"
             },
             "line": {
              "color": "white"
             }
            },
            "type": "table"
           }
          ]
         },
         "layout": {
          "annotationdefaults": {
           "arrowcolor": "#2a3f5f",
           "arrowhead": 0,
           "arrowwidth": 1
          },
          "autotypenumbers": "strict",
          "coloraxis": {
           "colorbar": {
            "outlinewidth": 0,
            "ticks": ""
           }
          },
          "colorscale": {
           "diverging": [
            [
             0,
             "#8e0152"
            ],
            [
             0.1,
             "#c51b7d"
            ],
            [
             0.2,
             "#de77ae"
            ],
            [
             0.3,
             "#f1b6da"
            ],
            [
             0.4,
             "#fde0ef"
            ],
            [
             0.5,
             "#f7f7f7"
            ],
            [
             0.6,
             "#e6f5d0"
            ],
            [
             0.7,
             "#b8e186"
            ],
            [
             0.8,
             "#7fbc41"
            ],
            [
             0.9,
             "#4d9221"
            ],
            [
             1,
             "#276419"
            ]
           ],
           "sequential": [
            [
             0.0,
             "#0d0887"
            ],
            [
             0.1111111111111111,
             "#46039f"
            ],
            [
             0.2222222222222222,
             "#7201a8"
            ],
            [
             0.3333333333333333,
             "#9c179e"
            ],
            [
             0.4444444444444444,
             "#bd3786"
            ],
            [
             0.5555555555555556,
             "#d8576b"
            ],
            [
             0.6666666666666666,
             "#ed7953"
            ],
            [
             0.7777777777777778,
             "#fb9f3a"
            ],
            [
             0.8888888888888888,
             "#fdca26"
            ],
            [
             1.0,
             "#f0f921"
            ]
           ],
           "sequentialminus": [
            [
             0.0,
             "#0d0887"
            ],
            [
             0.1111111111111111,
             "#46039f"
            ],
            [
             0.2222222222222222,
             "#7201a8"
            ],
            [
             0.3333333333333333,
             "#9c179e"
            ],
            [
             0.4444444444444444,
             "#bd3786"
            ],
            [
             0.5555555555555556,
             "#d8576b"
            ],
            [
             0.6666666666666666,
             "#ed7953"
            ],
            [
             0.7777777777777778,
             "#fb9f3a"
            ],
            [
             0.8888888888888888,
             "#fdca26"
            ],
            [
             1.0,
             "#f0f921"
            ]
           ]
          },
          "colorway": [
           "#636efa",
           "#EF553B",
           "#00cc96",
           "#ab63fa",
           "#FFA15A",
           "#19d3f3",
           "#FF6692",
           "#B6E880",
           "#FF97FF",
           "#FECB52"
          ],
          "font": {
           "color": "#2a3f5f"
          },
          "geo": {
           "bgcolor": "white",
           "lakecolor": "white",
           "landcolor": "#E5ECF6",
           "showlakes": true,
           "showland": true,
           "subunitcolor": "white"
          },
          "hoverlabel": {
           "align": "left"
          },
          "hovermode": "closest",
          "mapbox": {
           "style": "light"
          },
          "paper_bgcolor": "white",
          "plot_bgcolor": "#E5ECF6",
          "polar": {
           "angularaxis": {
            "gridcolor": "white",
            "linecolor": "white",
            "ticks": ""
           },
           "bgcolor": "#E5ECF6",
           "radialaxis": {
            "gridcolor": "white",
            "linecolor": "white",
            "ticks": ""
           }
          },
          "scene": {
           "xaxis": {
            "backgroundcolor": "#E5ECF6",
            "gridcolor": "white",
            "gridwidth": 2,
            "linecolor": "white",
            "showbackground": true,
            "ticks": "",
            "zerolinecolor": "white"
           },
           "yaxis": {
            "backgroundcolor": "#E5ECF6",
            "gridcolor": "white",
            "gridwidth": 2,
            "linecolor": "white",
            "showbackground": true,
            "ticks": "",
            "zerolinecolor": "white"
           },
           "zaxis": {
            "backgroundcolor": "#E5ECF6",
            "gridcolor": "white",
            "gridwidth": 2,
            "linecolor": "white",
            "showbackground": true,
            "ticks": "",
            "zerolinecolor": "white"
           }
          },
          "shapedefaults": {
           "line": {
            "color": "#2a3f5f"
           }
          },
          "ternary": {
           "aaxis": {
            "gridcolor": "white",
            "linecolor": "white",
            "ticks": ""
           },
           "baxis": {
            "gridcolor": "white",
            "linecolor": "white",
            "ticks": ""
           },
           "bgcolor": "#E5ECF6",
           "caxis": {
            "gridcolor": "white",
            "linecolor": "white",
            "ticks": ""
           }
          },
          "title": {
           "x": 0.05
          },
          "xaxis": {
           "automargin": true,
           "gridcolor": "white",
           "linecolor": "white",
           "ticks": "",
           "title": {
            "standoff": 15
           },
           "zerolinecolor": "white",
           "zerolinewidth": 2
          },
          "yaxis": {
           "automargin": true,
           "gridcolor": "white",
           "linecolor": "white",
           "ticks": "",
           "title": {
            "standoff": 15
           },
           "zerolinecolor": "white",
           "zerolinewidth": 2
          }
         }
        },
        "title": {
         "font": {
          "color": "#4D5663"
         }
        },
        "xaxis": {
         "gridcolor": "#E1E5ED",
         "showgrid": true,
         "tickfont": {
          "color": "#4D5663"
         },
         "title": {
          "font": {
           "color": "#4D5663"
          },
          "text": ""
         },
         "zerolinecolor": "#E1E5ED"
        },
        "yaxis": {
         "gridcolor": "#E1E5ED",
         "showgrid": true,
         "tickfont": {
          "color": "#4D5663"
         },
         "title": {
          "font": {
           "color": "#4D5663"
          },
          "text": ""
         },
         "zerolinecolor": "#E1E5ED"
        }
       },
       "config": {
        "showLink": true,
        "linkText": "Export to plot.ly",
        "plotlyServerURL": "https://plot.ly"
       }
      },
      "text/html": "<div>                            <div id=\"096a2bbf-dcc8-4d7f-8c1b-82e3be397752\" class=\"plotly-graph-div\" style=\"height:525px; width:100%;\"></div>            <script type=\"text/javascript\">                require([\"plotly\"], function(Plotly) {                    window.PLOTLYENV=window.PLOTLYENV || {};\n                    window.PLOTLYENV.BASE_URL='https://plot.ly';                                    if (document.getElementById(\"096a2bbf-dcc8-4d7f-8c1b-82e3be397752\")) {                    Plotly.newPlot(                        \"096a2bbf-dcc8-4d7f-8c1b-82e3be397752\",                        [{\"marker\":{\"color\":\"rgba(255, 153, 51, 0.6)\",\"line\":{\"color\":\"rgba(255, 153, 51, 1.0)\",\"width\":1}},\"name\":\"Values\",\"orientation\":\"v\",\"text\":\"\",\"x\":[\"A\",\"B\",\"C\"],\"y\":[33,43,22],\"type\":\"bar\"}],                        {\"legend\":{\"bgcolor\":\"#F5F6F9\",\"font\":{\"color\":\"#4D5663\"}},\"paper_bgcolor\":\"#F5F6F9\",\"plot_bgcolor\":\"#F5F6F9\",\"template\":{\"data\":{\"barpolar\":[{\"marker\":{\"line\":{\"color\":\"#E5ECF6\",\"width\":0.5},\"pattern\":{\"fillmode\":\"overlay\",\"size\":10,\"solidity\":0.2}},\"type\":\"barpolar\"}],\"bar\":[{\"error_x\":{\"color\":\"#2a3f5f\"},\"error_y\":{\"color\":\"#2a3f5f\"},\"marker\":{\"line\":{\"color\":\"#E5ECF6\",\"width\":0.5},\"pattern\":{\"fillmode\":\"overlay\",\"size\":10,\"solidity\":0.2}},\"type\":\"bar\"}],\"carpet\":[{\"aaxis\":{\"endlinecolor\":\"#2a3f5f\",\"gridcolor\":\"white\",\"linecolor\":\"white\",\"minorgridcolor\":\"white\",\"startlinecolor\":\"#2a3f5f\"},\"baxis\":{\"endlinecolor\":\"#2a3f5f\",\"gridcolor\":\"white\",\"linecolor\":\"white\",\"minorgridcolor\":\"white\",\"startlinecolor\":\"#2a3f5f\"},\"type\":\"carpet\"}],\"choropleth\":[{\"colorbar\":{\"outlinewidth\":0,\"ticks\":\"\"},\"type\":\"choropleth\"}],\"contourcarpet\":[{\"colorbar\":{\"outlinewidth\":0,\"ticks\":\"\"},\"type\":\"contourcarpet\"}],\"contour\":[{\"colorbar\":{\"outlinewidth\":0,\"ticks\":\"\"},\"colorscale\":[[0.0,\"#0d0887\"],[0.1111111111111111,\"#46039f\"],[0.2222222222222222,\"#7201a8\"],[0.3333333333333333,\"#9c179e\"],[0.4444444444444444,\"#bd3786\"],[0.5555555555555556,\"#d8576b\"],[0.6666666666666666,\"#ed7953\"],[0.7777777777777778,\"#fb9f3a\"],[0.8888888888888888,\"#fdca26\"],[1.0,\"#f0f921\"]],\"type\":\"contour\"}],\"heatmapgl\":[{\"colorbar\":{\"outlinewidth\":0,\"ticks\":\"\"},\"colorscale\":[[0.0,\"#0d0887\"],[0.1111111111111111,\"#46039f\"],[0.2222222222222222,\"#7201a8\"],[0.3333333333333333,\"#9c179e\"],[0.4444444444444444,\"#bd3786\"],[0.5555555555555556,\"#d8576b\"],[0.6666666666666666,\"#ed7953\"],[0.7777777777777778,\"#fb9f3a\"],[0.8888888888888888,\"#fdca26\"],[1.0,\"#f0f921\"]],\"type\":\"heatmapgl\"}],\"heatmap\":[{\"colorbar\":{\"outlinewidth\":0,\"ticks\":\"\"},\"colorscale\":[[0.0,\"#0d0887\"],[0.1111111111111111,\"#46039f\"],[0.2222222222222222,\"#7201a8\"],[0.3333333333333333,\"#9c179e\"],[0.4444444444444444,\"#bd3786\"],[0.5555555555555556,\"#d8576b\"],[0.6666666666666666,\"#ed7953\"],[0.7777777777777778,\"#fb9f3a\"],[0.8888888888888888,\"#fdca26\"],[1.0,\"#f0f921\"]],\"type\":\"heatmap\"}],\"histogram2dcontour\":[{\"colorbar\":{\"outlinewidth\":0,\"ticks\":\"\"},\"colorscale\":[[0.0,\"#0d0887\"],[0.1111111111111111,\"#46039f\"],[0.2222222222222222,\"#7201a8\"],[0.3333333333333333,\"#9c179e\"],[0.4444444444444444,\"#bd3786\"],[0.5555555555555556,\"#d8576b\"],[0.6666666666666666,\"#ed7953\"],[0.7777777777777778,\"#fb9f3a\"],[0.8888888888888888,\"#fdca26\"],[1.0,\"#f0f921\"]],\"type\":\"histogram2dcontour\"}],\"histogram2d\":[{\"colorbar\":{\"outlinewidth\":0,\"ticks\":\"\"},\"colorscale\":[[0.0,\"#0d0887\"],[0.1111111111111111,\"#46039f\"],[0.2222222222222222,\"#7201a8\"],[0.3333333333333333,\"#9c179e\"],[0.4444444444444444,\"#bd3786\"],[0.5555555555555556,\"#d8576b\"],[0.6666666666666666,\"#ed7953\"],[0.7777777777777778,\"#fb9f3a\"],[0.8888888888888888,\"#fdca26\"],[1.0,\"#f0f921\"]],\"type\":\"histogram2d\"}],\"histogram\":[{\"marker\":{\"pattern\":{\"fillmode\":\"overlay\",\"size\":10,\"solidity\":0.2}},\"type\":\"histogram\"}],\"mesh3d\":[{\"colorbar\":{\"outlinewidth\":0,\"ticks\":\"\"},\"type\":\"mesh3d\"}],\"parcoords\":[{\"line\":{\"colorbar\":{\"outlinewidth\":0,\"ticks\":\"\"}},\"type\":\"parcoords\"}],\"pie\":[{\"automargin\":true,\"type\":\"pie\"}],\"scatter3d\":[{\"line\":{\"colorbar\":{\"outlinewidth\":0,\"ticks\":\"\"}},\"marker\":{\"colorbar\":{\"outlinewidth\":0,\"ticks\":\"\"}},\"type\":\"scatter3d\"}],\"scattercarpet\":[{\"marker\":{\"colorbar\":{\"outlinewidth\":0,\"ticks\":\"\"}},\"type\":\"scattercarpet\"}],\"scattergeo\":[{\"marker\":{\"colorbar\":{\"outlinewidth\":0,\"ticks\":\"\"}},\"type\":\"scattergeo\"}],\"scattergl\":[{\"marker\":{\"colorbar\":{\"outlinewidth\":0,\"ticks\":\"\"}},\"type\":\"scattergl\"}],\"scattermapbox\":[{\"marker\":{\"colorbar\":{\"outlinewidth\":0,\"ticks\":\"\"}},\"type\":\"scattermapbox\"}],\"scatterpolargl\":[{\"marker\":{\"colorbar\":{\"outlinewidth\":0,\"ticks\":\"\"}},\"type\":\"scatterpolargl\"}],\"scatterpolar\":[{\"marker\":{\"colorbar\":{\"outlinewidth\":0,\"ticks\":\"\"}},\"type\":\"scatterpolar\"}],\"scatter\":[{\"fillpattern\":{\"fillmode\":\"overlay\",\"size\":10,\"solidity\":0.2},\"type\":\"scatter\"}],\"scatterternary\":[{\"marker\":{\"colorbar\":{\"outlinewidth\":0,\"ticks\":\"\"}},\"type\":\"scatterternary\"}],\"surface\":[{\"colorbar\":{\"outlinewidth\":0,\"ticks\":\"\"},\"colorscale\":[[0.0,\"#0d0887\"],[0.1111111111111111,\"#46039f\"],[0.2222222222222222,\"#7201a8\"],[0.3333333333333333,\"#9c179e\"],[0.4444444444444444,\"#bd3786\"],[0.5555555555555556,\"#d8576b\"],[0.6666666666666666,\"#ed7953\"],[0.7777777777777778,\"#fb9f3a\"],[0.8888888888888888,\"#fdca26\"],[1.0,\"#f0f921\"]],\"type\":\"surface\"}],\"table\":[{\"cells\":{\"fill\":{\"color\":\"#EBF0F8\"},\"line\":{\"color\":\"white\"}},\"header\":{\"fill\":{\"color\":\"#C8D4E3\"},\"line\":{\"color\":\"white\"}},\"type\":\"table\"}]},\"layout\":{\"annotationdefaults\":{\"arrowcolor\":\"#2a3f5f\",\"arrowhead\":0,\"arrowwidth\":1},\"autotypenumbers\":\"strict\",\"coloraxis\":{\"colorbar\":{\"outlinewidth\":0,\"ticks\":\"\"}},\"colorscale\":{\"diverging\":[[0,\"#8e0152\"],[0.1,\"#c51b7d\"],[0.2,\"#de77ae\"],[0.3,\"#f1b6da\"],[0.4,\"#fde0ef\"],[0.5,\"#f7f7f7\"],[0.6,\"#e6f5d0\"],[0.7,\"#b8e186\"],[0.8,\"#7fbc41\"],[0.9,\"#4d9221\"],[1,\"#276419\"]],\"sequential\":[[0.0,\"#0d0887\"],[0.1111111111111111,\"#46039f\"],[0.2222222222222222,\"#7201a8\"],[0.3333333333333333,\"#9c179e\"],[0.4444444444444444,\"#bd3786\"],[0.5555555555555556,\"#d8576b\"],[0.6666666666666666,\"#ed7953\"],[0.7777777777777778,\"#fb9f3a\"],[0.8888888888888888,\"#fdca26\"],[1.0,\"#f0f921\"]],\"sequentialminus\":[[0.0,\"#0d0887\"],[0.1111111111111111,\"#46039f\"],[0.2222222222222222,\"#7201a8\"],[0.3333333333333333,\"#9c179e\"],[0.4444444444444444,\"#bd3786\"],[0.5555555555555556,\"#d8576b\"],[0.6666666666666666,\"#ed7953\"],[0.7777777777777778,\"#fb9f3a\"],[0.8888888888888888,\"#fdca26\"],[1.0,\"#f0f921\"]]},\"colorway\":[\"#636efa\",\"#EF553B\",\"#00cc96\",\"#ab63fa\",\"#FFA15A\",\"#19d3f3\",\"#FF6692\",\"#B6E880\",\"#FF97FF\",\"#FECB52\"],\"font\":{\"color\":\"#2a3f5f\"},\"geo\":{\"bgcolor\":\"white\",\"lakecolor\":\"white\",\"landcolor\":\"#E5ECF6\",\"showlakes\":true,\"showland\":true,\"subunitcolor\":\"white\"},\"hoverlabel\":{\"align\":\"left\"},\"hovermode\":\"closest\",\"mapbox\":{\"style\":\"light\"},\"paper_bgcolor\":\"white\",\"plot_bgcolor\":\"#E5ECF6\",\"polar\":{\"angularaxis\":{\"gridcolor\":\"white\",\"linecolor\":\"white\",\"ticks\":\"\"},\"bgcolor\":\"#E5ECF6\",\"radialaxis\":{\"gridcolor\":\"white\",\"linecolor\":\"white\",\"ticks\":\"\"}},\"scene\":{\"xaxis\":{\"backgroundcolor\":\"#E5ECF6\",\"gridcolor\":\"white\",\"gridwidth\":2,\"linecolor\":\"white\",\"showbackground\":true,\"ticks\":\"\",\"zerolinecolor\":\"white\"},\"yaxis\":{\"backgroundcolor\":\"#E5ECF6\",\"gridcolor\":\"white\",\"gridwidth\":2,\"linecolor\":\"white\",\"showbackground\":true,\"ticks\":\"\",\"zerolinecolor\":\"white\"},\"zaxis\":{\"backgroundcolor\":\"#E5ECF6\",\"gridcolor\":\"white\",\"gridwidth\":2,\"linecolor\":\"white\",\"showbackground\":true,\"ticks\":\"\",\"zerolinecolor\":\"white\"}},\"shapedefaults\":{\"line\":{\"color\":\"#2a3f5f\"}},\"ternary\":{\"aaxis\":{\"gridcolor\":\"white\",\"linecolor\":\"white\",\"ticks\":\"\"},\"baxis\":{\"gridcolor\":\"white\",\"linecolor\":\"white\",\"ticks\":\"\"},\"bgcolor\":\"#E5ECF6\",\"caxis\":{\"gridcolor\":\"white\",\"linecolor\":\"white\",\"ticks\":\"\"}},\"title\":{\"x\":0.05},\"xaxis\":{\"automargin\":true,\"gridcolor\":\"white\",\"linecolor\":\"white\",\"ticks\":\"\",\"title\":{\"standoff\":15},\"zerolinecolor\":\"white\",\"zerolinewidth\":2},\"yaxis\":{\"automargin\":true,\"gridcolor\":\"white\",\"linecolor\":\"white\",\"ticks\":\"\",\"title\":{\"standoff\":15},\"zerolinecolor\":\"white\",\"zerolinewidth\":2}}},\"title\":{\"font\":{\"color\":\"#4D5663\"}},\"xaxis\":{\"gridcolor\":\"#E1E5ED\",\"showgrid\":true,\"tickfont\":{\"color\":\"#4D5663\"},\"title\":{\"font\":{\"color\":\"#4D5663\"},\"text\":\"\"},\"zerolinecolor\":\"#E1E5ED\"},\"yaxis\":{\"gridcolor\":\"#E1E5ED\",\"showgrid\":true,\"tickfont\":{\"color\":\"#4D5663\"},\"title\":{\"font\":{\"color\":\"#4D5663\"},\"text\":\"\"},\"zerolinecolor\":\"#E1E5ED\"}},                        {\"showLink\": true, \"linkText\": \"Export to plot.ly\", \"plotlyServerURL\": \"https://plot.ly\", \"responsive\": true}                    ).then(function(){\n                            \nvar gd = document.getElementById('096a2bbf-dcc8-4d7f-8c1b-82e3be397752');\nvar x = new MutationObserver(function (mutations, observer) {{\n        var display = window.getComputedStyle(gd).display;\n        if (!display || display === 'none') {{\n            console.log([gd, 'removed!']);\n            Plotly.purge(gd);\n            observer.disconnect();\n        }}\n}});\n\n// Listen for the removal of the full notebook cells\nvar notebookContainer = gd.closest('#notebook-container');\nif (notebookContainer) {{\n    x.observe(notebookContainer, {childList: true});\n}}\n\n// Listen for the clearing of the current output cell\nvar outputEl = gd.closest('.output');\nif (outputEl) {{\n    x.observe(outputEl, {childList: true});\n}}\n\n                        })                };                });            </script>        </div>"
     },
     "metadata": {},
     "output_type": "display_data"
    }
   ],
   "source": [
    "df2.iplot(kind='bar',x='Category',y='Values')"
   ],
   "metadata": {
    "collapsed": false,
    "pycharm": {
     "name": "#%%\n"
    }
   }
  },
  {
   "cell_type": "code",
   "execution_count": null,
   "outputs": [],
   "source": [],
   "metadata": {
    "collapsed": false,
    "pycharm": {
     "name": "#%%\n",
     "is_executing": true
    }
   }
  },
  {
   "cell_type": "code",
   "execution_count": 27,
   "outputs": [
    {
     "data": {
      "application/vnd.plotly.v1+json": {
       "data": [
        {
         "marker": {
          "color": "rgba(255, 153, 51, 0.6)",
          "line": {
           "color": "rgba(255, 153, 51, 1.0)",
           "width": 1
          }
         },
         "name": "A",
         "orientation": "v",
         "text": "",
         "x": [
          0,
          1,
          2,
          3,
          4,
          5,
          6,
          7,
          8,
          9,
          10,
          11,
          12,
          13,
          14,
          15,
          16,
          17,
          18,
          19,
          20,
          21,
          22,
          23,
          24,
          25,
          26,
          27,
          28,
          29,
          30,
          31,
          32,
          33,
          34,
          35,
          36,
          37,
          38,
          39,
          40,
          41,
          42,
          43,
          44,
          45,
          46,
          47,
          48,
          49,
          50,
          51,
          52,
          53,
          54,
          55,
          56,
          57,
          58,
          59,
          60,
          61,
          62,
          63,
          64,
          65,
          66,
          67,
          68,
          69,
          70,
          71,
          72,
          73,
          74,
          75,
          76,
          77,
          78,
          79,
          80,
          81,
          82,
          83,
          84,
          85,
          86,
          87,
          88,
          89,
          90,
          91,
          92,
          93,
          94,
          95,
          96,
          97,
          98,
          99
         ],
         "y": [
          1.80900659363173,
          0.035274995502989924,
          -1.3725782517059886,
          0.012016290428291753,
          1.000469906945173,
          -0.6195273127982366,
          -0.5493763932833622,
          -0.9911107758158834,
          0.23248967391723316,
          -0.14506312346767283,
          0.34184931249590944,
          0.2715616077472833,
          0.8393674963432226,
          -0.10711850809753216,
          1.8812271802120675,
          1.0538530621847526,
          -0.29984010726672844,
          -1.0005896037131567,
          0.6236039509447258,
          2.547660303248421,
          0.3645808633949736,
          0.7584190685180403,
          -1.3718605252785057,
          1.1236466096015902,
          -0.6575364883108161,
          -0.7435742465354352,
          -0.9510929805192601,
          -0.7250355706046863,
          -0.3010833740014651,
          -0.8365580045456453,
          0.5375896300969594,
          0.4250820358790253,
          -1.4817640383211563,
          1.0742946624051832,
          -1.6615502948070402,
          -0.4539105034533779,
          0.9627637686417985,
          1.0917899219961893,
          0.40651750118727115,
          0.30539547233503134,
          0.7154867771216606,
          0.4988743495347605,
          0.8934197814724031,
          -0.7226701733307364,
          -0.6212640967281962,
          -0.20366491195303663,
          0.6293167407460972,
          0.932849322897483,
          0.0889989385329877,
          -0.009742713919367142,
          0.8547431702291997,
          -0.06513079400429111,
          -0.5810102718413085,
          -0.9663593983135926,
          0.6305616168977342,
          1.9913392481918006,
          -1.9776861325927175,
          2.0202457074867883,
          -1.0347658552177048,
          -0.6695623864365713,
          1.183237535410795,
          0.4225713154856195,
          1.2265275340992094,
          -1.620088276804922,
          0.36251610386564465,
          -0.39921777940713343,
          0.19623576958325684,
          -0.28567696303803214,
          -0.40868573997383634,
          0.4589878761780295,
          -0.8307604519242388,
          0.46409171043276753,
          -0.7934822881525643,
          -0.48507069853990153,
          1.0898652590025368,
          -1.3743038367541152,
          0.581212864653542,
          0.30331914137158783,
          -1.2179046818674735,
          -2.103526750442117,
          0.6834448164214543,
          -0.15730645803113177,
          0.9021369402599491,
          -1.1694166086342517,
          0.8148051426930465,
          0.9444288848742953,
          -0.6589176826651596,
          0.5351669268927843,
          0.20689663682579865,
          0.832979037395156,
          0.5435340867904964,
          1.2929265303581408,
          -1.014503830555063,
          1.3097655276016194,
          -0.3053438162070056,
          -0.828368648201911,
          1.189594403334678,
          -0.37242628836792796,
          0.42166106976218076,
          -0.7112018906041686
         ],
         "type": "bar"
        },
        {
         "marker": {
          "color": "rgba(55, 128, 191, 0.6)",
          "line": {
           "color": "rgba(55, 128, 191, 1.0)",
           "width": 1
          }
         },
         "name": "B",
         "orientation": "v",
         "text": "",
         "x": [
          0,
          1,
          2,
          3,
          4,
          5,
          6,
          7,
          8,
          9,
          10,
          11,
          12,
          13,
          14,
          15,
          16,
          17,
          18,
          19,
          20,
          21,
          22,
          23,
          24,
          25,
          26,
          27,
          28,
          29,
          30,
          31,
          32,
          33,
          34,
          35,
          36,
          37,
          38,
          39,
          40,
          41,
          42,
          43,
          44,
          45,
          46,
          47,
          48,
          49,
          50,
          51,
          52,
          53,
          54,
          55,
          56,
          57,
          58,
          59,
          60,
          61,
          62,
          63,
          64,
          65,
          66,
          67,
          68,
          69,
          70,
          71,
          72,
          73,
          74,
          75,
          76,
          77,
          78,
          79,
          80,
          81,
          82,
          83,
          84,
          85,
          86,
          87,
          88,
          89,
          90,
          91,
          92,
          93,
          94,
          95,
          96,
          97,
          98,
          99
         ],
         "y": [
          0.9062930594144116,
          -1.4386362389423506,
          1.1369677802935936,
          2.3716105706749393,
          1.148561136980701,
          1.6384945821750838,
          -1.0740830064136329,
          -0.43741065236894316,
          0.5358574650869486,
          -0.2698795505516891,
          2.0197447105345563,
          0.4338245435899058,
          -0.6403534451698525,
          -1.895132322156619,
          0.047493285900842584,
          -0.21672463780566728,
          0.5117649446224504,
          0.7263239901604835,
          -1.4270079547470809,
          1.1684892701521439,
          -0.07635059518062,
          1.015995199829917,
          1.7008504923460286,
          -0.6630221858617115,
          -0.12131160545398256,
          2.201409865619109,
          1.5871548335880958,
          -1.4170235508141886,
          0.4156143179575276,
          -1.011196408980938,
          0.19523384068338345,
          -0.505399740247492,
          0.5600637862451191,
          -1.626626394671511,
          -2.242945396816825,
          -0.3172556011350909,
          0.15744150179076394,
          -0.6441237430038943,
          -1.154805552889705,
          1.0045417479266496,
          1.497029918691306,
          -1.374787336108716,
          0.09899565870554397,
          0.6142923431050662,
          -0.7587059584886806,
          1.4865210628371175,
          0.7245101896757082,
          2.212384737378364,
          1.1415859663818204,
          -0.48716608639593195,
          -1.492873229229848,
          -1.5580771150038115,
          0.7487385861972751,
          -0.4069196752359965,
          -1.0686371070370626,
          1.8751590252659465,
          -0.9859316483422285,
          -0.40126887692683005,
          1.3394051974576617,
          0.3400675786361936,
          1.6939200545861288,
          -1.2304126744784363,
          -0.009358785317534316,
          1.32881769350092,
          0.6380471903856916,
          -1.127888255950146,
          0.1362958685262489,
          0.9844415462026761,
          -2.3449585435451508,
          -1.1988283052407933,
          0.5902775129859864,
          -0.2816083952687804,
          2.170089395418066,
          -0.7535625814479999,
          0.1256440369012715,
          1.0710620740031642,
          -0.15147133419631562,
          0.708410299017189,
          0.5601583538557442,
          -1.0401882243373572,
          1.7056167441988201,
          0.6850843008365208,
          0.2524170417029744,
          0.4239316576340395,
          0.30856412170761116,
          -0.8120128362314452,
          -1.0248295324212153,
          0.9691832786744989,
          -0.7809378279230037,
          0.5199528377506104,
          -0.5823558298607444,
          0.02242888516997846,
          -1.8483439458823425,
          0.1683359982946268,
          0.44883480148149857,
          0.27644036079912226,
          0.5001592299352902,
          1.707276028881522,
          -0.3499034827519047,
          -0.1658350539232574
         ],
         "type": "bar"
        },
        {
         "marker": {
          "color": "rgba(50, 171, 96, 0.6)",
          "line": {
           "color": "rgba(50, 171, 96, 1.0)",
           "width": 1
          }
         },
         "name": "C",
         "orientation": "v",
         "text": "",
         "x": [
          0,
          1,
          2,
          3,
          4,
          5,
          6,
          7,
          8,
          9,
          10,
          11,
          12,
          13,
          14,
          15,
          16,
          17,
          18,
          19,
          20,
          21,
          22,
          23,
          24,
          25,
          26,
          27,
          28,
          29,
          30,
          31,
          32,
          33,
          34,
          35,
          36,
          37,
          38,
          39,
          40,
          41,
          42,
          43,
          44,
          45,
          46,
          47,
          48,
          49,
          50,
          51,
          52,
          53,
          54,
          55,
          56,
          57,
          58,
          59,
          60,
          61,
          62,
          63,
          64,
          65,
          66,
          67,
          68,
          69,
          70,
          71,
          72,
          73,
          74,
          75,
          76,
          77,
          78,
          79,
          80,
          81,
          82,
          83,
          84,
          85,
          86,
          87,
          88,
          89,
          90,
          91,
          92,
          93,
          94,
          95,
          96,
          97,
          98,
          99
         ],
         "y": [
          0.7692336532458728,
          0.5333344342194399,
          -0.8424260604443445,
          0.3203662543997597,
          0.08458846535047407,
          0.45708539683904553,
          -0.8498855129462245,
          1.4745690013341044,
          2.6909016970258177,
          0.5668709264460764,
          -0.05897494253507211,
          -1.836392380931625,
          1.499808814285216,
          1.4259194751034947,
          -0.08578597513422263,
          0.5560973770990663,
          -0.7584165794397412,
          -1.6105588097346335,
          -0.9074161291122519,
          0.3796037005268845,
          0.3311762861032556,
          -1.3602628819660034,
          -0.9799612820273028,
          -1.6539675770208235,
          -0.13518856728836234,
          -2.0519815390489096,
          0.7076017949132091,
          0.5777492285351216,
          0.8814525993925905,
          0.23198923387472098,
          0.5739648399528666,
          -0.9187331726443511,
          0.2378113368211414,
          0.18452376474838614,
          0.9618846352603138,
          0.04674987985743832,
          -0.19242409419798356,
          0.37406378090710063,
          -0.22470081855415733,
          -0.4221861958292879,
          0.6377575043253557,
          0.37186014681579505,
          0.9885200426741549,
          0.5846281676474738,
          -0.8857207063528001,
          0.951745296972654,
          1.433580628428485,
          2.2051673520189827,
          -1.7345907838590167,
          0.24276875299650547,
          -0.8525885975006535,
          -0.8533236132402129,
          -1.941001109878793,
          -0.061780947174691896,
          -1.1697568526208222,
          1.126896428706196,
          -0.3179738015899636,
          -0.9912010770982428,
          -1.0511344497209492,
          1.827771784627446,
          -0.326139141984017,
          -0.521984694424672,
          -1.1909121583420728,
          0.9304877086589227,
          -1.4926195618704994,
          -0.04856994266672939,
          -0.5332888237553048,
          -0.6888200985211754,
          0.004881621023809477,
          0.2969949279946919,
          0.15584434040490944,
          -0.30955808996868645,
          0.47386778091716025,
          0.583986268346228,
          1.019454808285895,
          -0.6878330822641515,
          0.5175531626481035,
          -0.7815075116688344,
          0.49634237721186597,
          -1.4827609600037182,
          -0.016543171729132132,
          -0.8007147586706331,
          0.04434472691612747,
          0.04412174249588713,
          -2.21327013820518,
          0.037192344719893536,
          -0.9390081221051154,
          -0.7828138328182563,
          -0.3415125355976032,
          0.23650650730818906,
          0.30889760418237094,
          1.5513678854253037,
          -1.7509145536551753,
          -0.169155621033073,
          0.809684981401493,
          1.0319304185412423,
          0.9980808541912738,
          1.0774436660316213,
          0.8738553331372387,
          0.2167626281308094
         ],
         "type": "bar"
        },
        {
         "marker": {
          "color": "rgba(128, 0, 128, 0.6)",
          "line": {
           "color": "rgba(128, 0, 128, 1.0)",
           "width": 1
          }
         },
         "name": "D",
         "orientation": "v",
         "text": "",
         "x": [
          0,
          1,
          2,
          3,
          4,
          5,
          6,
          7,
          8,
          9,
          10,
          11,
          12,
          13,
          14,
          15,
          16,
          17,
          18,
          19,
          20,
          21,
          22,
          23,
          24,
          25,
          26,
          27,
          28,
          29,
          30,
          31,
          32,
          33,
          34,
          35,
          36,
          37,
          38,
          39,
          40,
          41,
          42,
          43,
          44,
          45,
          46,
          47,
          48,
          49,
          50,
          51,
          52,
          53,
          54,
          55,
          56,
          57,
          58,
          59,
          60,
          61,
          62,
          63,
          64,
          65,
          66,
          67,
          68,
          69,
          70,
          71,
          72,
          73,
          74,
          75,
          76,
          77,
          78,
          79,
          80,
          81,
          82,
          83,
          84,
          85,
          86,
          87,
          88,
          89,
          90,
          91,
          92,
          93,
          94,
          95,
          96,
          97,
          98,
          99
         ],
         "y": [
          0.3675217620137849,
          2.7427008466781437,
          0.6255220737570883,
          -0.6770631133142064,
          0.8611524003693977,
          0.7325189915909454,
          -0.4912724703434503,
          -0.08990027233534309,
          0.7249810254170888,
          -0.44406845694832436,
          -0.11519998235144457,
          0.057807570007680414,
          1.4468154496869319,
          -1.3063691460575648,
          -1.0976511461538079,
          -0.144521111054121,
          0.9851894657897402,
          -0.3669124238805727,
          0.3900440966830113,
          -0.46883403147472796,
          0.5607883602873852,
          0.1959664854253068,
          -1.4388522302244997,
          0.9792903647735527,
          1.1534094018283618,
          0.4615133516294498,
          2.1918183430754277,
          0.5250412928758622,
          0.5001386622284841,
          0.2551536355520732,
          -0.005412224012686471,
          2.9221341098244342,
          -0.4649633760002535,
          0.604687207147699,
          0.9866743322343967,
          0.3713940127701445,
          -2.5879431288336234,
          -1.2628569935111595,
          0.8034675576116896,
          -0.7931092449981392,
          0.7424776291875992,
          0.13392997568809864,
          -1.3518633088238048,
          0.8622365479976225,
          -0.2407342066956001,
          -0.9783801026300155,
          0.7209797859368154,
          -0.38282624621694294,
          1.5716146462366636,
          -1.1665957113627479,
          0.6187301632857698,
          -2.186120621478108,
          -0.2426136169446369,
          0.44237996405091246,
          0.31750637266024034,
          -1.9937679194820443,
          -1.2624546771878686,
          -0.44884460876428806,
          0.6306675068396437,
          1.7501367095384082,
          0.48863891048392044,
          2.602313512763461,
          1.002570057651446,
          1.467085093335372,
          0.9369319026249344,
          1.7703646291362558,
          -1.1796240772203925,
          0.12617597344252518,
          -0.25609278999498675,
          -0.1115932258436591,
          0.12511197337113492,
          -0.1990422032617427,
          -0.5663920105336755,
          -1.5735449206488776,
          -0.43762023976950404,
          -1.0756184575691374,
          1.7639056749230035,
          0.19731050169828362,
          -0.11699890130357059,
          0.2773473721477822,
          0.7413590505157498,
          2.0416402836649428,
          0.576779671318424,
          -0.30937664994093284,
          1.0785633811816857,
          -0.2743774523138238,
          0.8892491714545185,
          0.5640933722954883,
          0.983842824464235,
          1.1610759271421396,
          -0.4509459056346206,
          -0.7272001536229342,
          -0.3257182965001095,
          0.1958487766367504,
          -2.372334453426788,
          0.2086402255634171,
          -0.7278070326688642,
          -1.3179084583713245,
          -1.2594262664854154,
          -0.9035664023169915
         ],
         "type": "bar"
        }
       ],
       "layout": {
        "legend": {
         "bgcolor": "#F5F6F9",
         "font": {
          "color": "#4D5663"
         }
        },
        "paper_bgcolor": "#F5F6F9",
        "plot_bgcolor": "#F5F6F9",
        "template": {
         "data": {
          "barpolar": [
           {
            "marker": {
             "line": {
              "color": "#E5ECF6",
              "width": 0.5
             },
             "pattern": {
              "fillmode": "overlay",
              "size": 10,
              "solidity": 0.2
             }
            },
            "type": "barpolar"
           }
          ],
          "bar": [
           {
            "error_x": {
             "color": "#2a3f5f"
            },
            "error_y": {
             "color": "#2a3f5f"
            },
            "marker": {
             "line": {
              "color": "#E5ECF6",
              "width": 0.5
             },
             "pattern": {
              "fillmode": "overlay",
              "size": 10,
              "solidity": 0.2
             }
            },
            "type": "bar"
           }
          ],
          "carpet": [
           {
            "aaxis": {
             "endlinecolor": "#2a3f5f",
             "gridcolor": "white",
             "linecolor": "white",
             "minorgridcolor": "white",
             "startlinecolor": "#2a3f5f"
            },
            "baxis": {
             "endlinecolor": "#2a3f5f",
             "gridcolor": "white",
             "linecolor": "white",
             "minorgridcolor": "white",
             "startlinecolor": "#2a3f5f"
            },
            "type": "carpet"
           }
          ],
          "choropleth": [
           {
            "colorbar": {
             "outlinewidth": 0,
             "ticks": ""
            },
            "type": "choropleth"
           }
          ],
          "contourcarpet": [
           {
            "colorbar": {
             "outlinewidth": 0,
             "ticks": ""
            },
            "type": "contourcarpet"
           }
          ],
          "contour": [
           {
            "colorbar": {
             "outlinewidth": 0,
             "ticks": ""
            },
            "colorscale": [
             [
              0.0,
              "#0d0887"
             ],
             [
              0.1111111111111111,
              "#46039f"
             ],
             [
              0.2222222222222222,
              "#7201a8"
             ],
             [
              0.3333333333333333,
              "#9c179e"
             ],
             [
              0.4444444444444444,
              "#bd3786"
             ],
             [
              0.5555555555555556,
              "#d8576b"
             ],
             [
              0.6666666666666666,
              "#ed7953"
             ],
             [
              0.7777777777777778,
              "#fb9f3a"
             ],
             [
              0.8888888888888888,
              "#fdca26"
             ],
             [
              1.0,
              "#f0f921"
             ]
            ],
            "type": "contour"
           }
          ],
          "heatmapgl": [
           {
            "colorbar": {
             "outlinewidth": 0,
             "ticks": ""
            },
            "colorscale": [
             [
              0.0,
              "#0d0887"
             ],
             [
              0.1111111111111111,
              "#46039f"
             ],
             [
              0.2222222222222222,
              "#7201a8"
             ],
             [
              0.3333333333333333,
              "#9c179e"
             ],
             [
              0.4444444444444444,
              "#bd3786"
             ],
             [
              0.5555555555555556,
              "#d8576b"
             ],
             [
              0.6666666666666666,
              "#ed7953"
             ],
             [
              0.7777777777777778,
              "#fb9f3a"
             ],
             [
              0.8888888888888888,
              "#fdca26"
             ],
             [
              1.0,
              "#f0f921"
             ]
            ],
            "type": "heatmapgl"
           }
          ],
          "heatmap": [
           {
            "colorbar": {
             "outlinewidth": 0,
             "ticks": ""
            },
            "colorscale": [
             [
              0.0,
              "#0d0887"
             ],
             [
              0.1111111111111111,
              "#46039f"
             ],
             [
              0.2222222222222222,
              "#7201a8"
             ],
             [
              0.3333333333333333,
              "#9c179e"
             ],
             [
              0.4444444444444444,
              "#bd3786"
             ],
             [
              0.5555555555555556,
              "#d8576b"
             ],
             [
              0.6666666666666666,
              "#ed7953"
             ],
             [
              0.7777777777777778,
              "#fb9f3a"
             ],
             [
              0.8888888888888888,
              "#fdca26"
             ],
             [
              1.0,
              "#f0f921"
             ]
            ],
            "type": "heatmap"
           }
          ],
          "histogram2dcontour": [
           {
            "colorbar": {
             "outlinewidth": 0,
             "ticks": ""
            },
            "colorscale": [
             [
              0.0,
              "#0d0887"
             ],
             [
              0.1111111111111111,
              "#46039f"
             ],
             [
              0.2222222222222222,
              "#7201a8"
             ],
             [
              0.3333333333333333,
              "#9c179e"
             ],
             [
              0.4444444444444444,
              "#bd3786"
             ],
             [
              0.5555555555555556,
              "#d8576b"
             ],
             [
              0.6666666666666666,
              "#ed7953"
             ],
             [
              0.7777777777777778,
              "#fb9f3a"
             ],
             [
              0.8888888888888888,
              "#fdca26"
             ],
             [
              1.0,
              "#f0f921"
             ]
            ],
            "type": "histogram2dcontour"
           }
          ],
          "histogram2d": [
           {
            "colorbar": {
             "outlinewidth": 0,
             "ticks": ""
            },
            "colorscale": [
             [
              0.0,
              "#0d0887"
             ],
             [
              0.1111111111111111,
              "#46039f"
             ],
             [
              0.2222222222222222,
              "#7201a8"
             ],
             [
              0.3333333333333333,
              "#9c179e"
             ],
             [
              0.4444444444444444,
              "#bd3786"
             ],
             [
              0.5555555555555556,
              "#d8576b"
             ],
             [
              0.6666666666666666,
              "#ed7953"
             ],
             [
              0.7777777777777778,
              "#fb9f3a"
             ],
             [
              0.8888888888888888,
              "#fdca26"
             ],
             [
              1.0,
              "#f0f921"
             ]
            ],
            "type": "histogram2d"
           }
          ],
          "histogram": [
           {
            "marker": {
             "pattern": {
              "fillmode": "overlay",
              "size": 10,
              "solidity": 0.2
             }
            },
            "type": "histogram"
           }
          ],
          "mesh3d": [
           {
            "colorbar": {
             "outlinewidth": 0,
             "ticks": ""
            },
            "type": "mesh3d"
           }
          ],
          "parcoords": [
           {
            "line": {
             "colorbar": {
              "outlinewidth": 0,
              "ticks": ""
             }
            },
            "type": "parcoords"
           }
          ],
          "pie": [
           {
            "automargin": true,
            "type": "pie"
           }
          ],
          "scatter3d": [
           {
            "line": {
             "colorbar": {
              "outlinewidth": 0,
              "ticks": ""
             }
            },
            "marker": {
             "colorbar": {
              "outlinewidth": 0,
              "ticks": ""
             }
            },
            "type": "scatter3d"
           }
          ],
          "scattercarpet": [
           {
            "marker": {
             "colorbar": {
              "outlinewidth": 0,
              "ticks": ""
             }
            },
            "type": "scattercarpet"
           }
          ],
          "scattergeo": [
           {
            "marker": {
             "colorbar": {
              "outlinewidth": 0,
              "ticks": ""
             }
            },
            "type": "scattergeo"
           }
          ],
          "scattergl": [
           {
            "marker": {
             "colorbar": {
              "outlinewidth": 0,
              "ticks": ""
             }
            },
            "type": "scattergl"
           }
          ],
          "scattermapbox": [
           {
            "marker": {
             "colorbar": {
              "outlinewidth": 0,
              "ticks": ""
             }
            },
            "type": "scattermapbox"
           }
          ],
          "scatterpolargl": [
           {
            "marker": {
             "colorbar": {
              "outlinewidth": 0,
              "ticks": ""
             }
            },
            "type": "scatterpolargl"
           }
          ],
          "scatterpolar": [
           {
            "marker": {
             "colorbar": {
              "outlinewidth": 0,
              "ticks": ""
             }
            },
            "type": "scatterpolar"
           }
          ],
          "scatter": [
           {
            "fillpattern": {
             "fillmode": "overlay",
             "size": 10,
             "solidity": 0.2
            },
            "type": "scatter"
           }
          ],
          "scatterternary": [
           {
            "marker": {
             "colorbar": {
              "outlinewidth": 0,
              "ticks": ""
             }
            },
            "type": "scatterternary"
           }
          ],
          "surface": [
           {
            "colorbar": {
             "outlinewidth": 0,
             "ticks": ""
            },
            "colorscale": [
             [
              0.0,
              "#0d0887"
             ],
             [
              0.1111111111111111,
              "#46039f"
             ],
             [
              0.2222222222222222,
              "#7201a8"
             ],
             [
              0.3333333333333333,
              "#9c179e"
             ],
             [
              0.4444444444444444,
              "#bd3786"
             ],
             [
              0.5555555555555556,
              "#d8576b"
             ],
             [
              0.6666666666666666,
              "#ed7953"
             ],
             [
              0.7777777777777778,
              "#fb9f3a"
             ],
             [
              0.8888888888888888,
              "#fdca26"
             ],
             [
              1.0,
              "#f0f921"
             ]
            ],
            "type": "surface"
           }
          ],
          "table": [
           {
            "cells": {
             "fill": {
              "color": "#EBF0F8"
             },
             "line": {
              "color": "white"
             }
            },
            "header": {
             "fill": {
              "color": "#C8D4E3"
             },
             "line": {
              "color": "white"
             }
            },
            "type": "table"
           }
          ]
         },
         "layout": {
          "annotationdefaults": {
           "arrowcolor": "#2a3f5f",
           "arrowhead": 0,
           "arrowwidth": 1
          },
          "autotypenumbers": "strict",
          "coloraxis": {
           "colorbar": {
            "outlinewidth": 0,
            "ticks": ""
           }
          },
          "colorscale": {
           "diverging": [
            [
             0,
             "#8e0152"
            ],
            [
             0.1,
             "#c51b7d"
            ],
            [
             0.2,
             "#de77ae"
            ],
            [
             0.3,
             "#f1b6da"
            ],
            [
             0.4,
             "#fde0ef"
            ],
            [
             0.5,
             "#f7f7f7"
            ],
            [
             0.6,
             "#e6f5d0"
            ],
            [
             0.7,
             "#b8e186"
            ],
            [
             0.8,
             "#7fbc41"
            ],
            [
             0.9,
             "#4d9221"
            ],
            [
             1,
             "#276419"
            ]
           ],
           "sequential": [
            [
             0.0,
             "#0d0887"
            ],
            [
             0.1111111111111111,
             "#46039f"
            ],
            [
             0.2222222222222222,
             "#7201a8"
            ],
            [
             0.3333333333333333,
             "#9c179e"
            ],
            [
             0.4444444444444444,
             "#bd3786"
            ],
            [
             0.5555555555555556,
             "#d8576b"
            ],
            [
             0.6666666666666666,
             "#ed7953"
            ],
            [
             0.7777777777777778,
             "#fb9f3a"
            ],
            [
             0.8888888888888888,
             "#fdca26"
            ],
            [
             1.0,
             "#f0f921"
            ]
           ],
           "sequentialminus": [
            [
             0.0,
             "#0d0887"
            ],
            [
             0.1111111111111111,
             "#46039f"
            ],
            [
             0.2222222222222222,
             "#7201a8"
            ],
            [
             0.3333333333333333,
             "#9c179e"
            ],
            [
             0.4444444444444444,
             "#bd3786"
            ],
            [
             0.5555555555555556,
             "#d8576b"
            ],
            [
             0.6666666666666666,
             "#ed7953"
            ],
            [
             0.7777777777777778,
             "#fb9f3a"
            ],
            [
             0.8888888888888888,
             "#fdca26"
            ],
            [
             1.0,
             "#f0f921"
            ]
           ]
          },
          "colorway": [
           "#636efa",
           "#EF553B",
           "#00cc96",
           "#ab63fa",
           "#FFA15A",
           "#19d3f3",
           "#FF6692",
           "#B6E880",
           "#FF97FF",
           "#FECB52"
          ],
          "font": {
           "color": "#2a3f5f"
          },
          "geo": {
           "bgcolor": "white",
           "lakecolor": "white",
           "landcolor": "#E5ECF6",
           "showlakes": true,
           "showland": true,
           "subunitcolor": "white"
          },
          "hoverlabel": {
           "align": "left"
          },
          "hovermode": "closest",
          "mapbox": {
           "style": "light"
          },
          "paper_bgcolor": "white",
          "plot_bgcolor": "#E5ECF6",
          "polar": {
           "angularaxis": {
            "gridcolor": "white",
            "linecolor": "white",
            "ticks": ""
           },
           "bgcolor": "#E5ECF6",
           "radialaxis": {
            "gridcolor": "white",
            "linecolor": "white",
            "ticks": ""
           }
          },
          "scene": {
           "xaxis": {
            "backgroundcolor": "#E5ECF6",
            "gridcolor": "white",
            "gridwidth": 2,
            "linecolor": "white",
            "showbackground": true,
            "ticks": "",
            "zerolinecolor": "white"
           },
           "yaxis": {
            "backgroundcolor": "#E5ECF6",
            "gridcolor": "white",
            "gridwidth": 2,
            "linecolor": "white",
            "showbackground": true,
            "ticks": "",
            "zerolinecolor": "white"
           },
           "zaxis": {
            "backgroundcolor": "#E5ECF6",
            "gridcolor": "white",
            "gridwidth": 2,
            "linecolor": "white",
            "showbackground": true,
            "ticks": "",
            "zerolinecolor": "white"
           }
          },
          "shapedefaults": {
           "line": {
            "color": "#2a3f5f"
           }
          },
          "ternary": {
           "aaxis": {
            "gridcolor": "white",
            "linecolor": "white",
            "ticks": ""
           },
           "baxis": {
            "gridcolor": "white",
            "linecolor": "white",
            "ticks": ""
           },
           "bgcolor": "#E5ECF6",
           "caxis": {
            "gridcolor": "white",
            "linecolor": "white",
            "ticks": ""
           }
          },
          "title": {
           "x": 0.05
          },
          "xaxis": {
           "automargin": true,
           "gridcolor": "white",
           "linecolor": "white",
           "ticks": "",
           "title": {
            "standoff": 15
           },
           "zerolinecolor": "white",
           "zerolinewidth": 2
          },
          "yaxis": {
           "automargin": true,
           "gridcolor": "white",
           "linecolor": "white",
           "ticks": "",
           "title": {
            "standoff": 15
           },
           "zerolinecolor": "white",
           "zerolinewidth": 2
          }
         }
        },
        "title": {
         "font": {
          "color": "#4D5663"
         }
        },
        "xaxis": {
         "gridcolor": "#E1E5ED",
         "showgrid": true,
         "tickfont": {
          "color": "#4D5663"
         },
         "title": {
          "font": {
           "color": "#4D5663"
          },
          "text": ""
         },
         "zerolinecolor": "#E1E5ED"
        },
        "yaxis": {
         "gridcolor": "#E1E5ED",
         "showgrid": true,
         "tickfont": {
          "color": "#4D5663"
         },
         "title": {
          "font": {
           "color": "#4D5663"
          },
          "text": ""
         },
         "zerolinecolor": "#E1E5ED"
        }
       },
       "config": {
        "showLink": true,
        "linkText": "Export to plot.ly",
        "plotlyServerURL": "https://plot.ly"
       }
      },
      "text/html": "<div>                            <div id=\"ddc578e6-b607-4889-8d97-3cc09ec18796\" class=\"plotly-graph-div\" style=\"height:525px; width:100%;\"></div>            <script type=\"text/javascript\">                require([\"plotly\"], function(Plotly) {                    window.PLOTLYENV=window.PLOTLYENV || {};\n                    window.PLOTLYENV.BASE_URL='https://plot.ly';                                    if (document.getElementById(\"ddc578e6-b607-4889-8d97-3cc09ec18796\")) {                    Plotly.newPlot(                        \"ddc578e6-b607-4889-8d97-3cc09ec18796\",                        [{\"marker\":{\"color\":\"rgba(255, 153, 51, 0.6)\",\"line\":{\"color\":\"rgba(255, 153, 51, 1.0)\",\"width\":1}},\"name\":\"A\",\"orientation\":\"v\",\"text\":\"\",\"x\":[0,1,2,3,4,5,6,7,8,9,10,11,12,13,14,15,16,17,18,19,20,21,22,23,24,25,26,27,28,29,30,31,32,33,34,35,36,37,38,39,40,41,42,43,44,45,46,47,48,49,50,51,52,53,54,55,56,57,58,59,60,61,62,63,64,65,66,67,68,69,70,71,72,73,74,75,76,77,78,79,80,81,82,83,84,85,86,87,88,89,90,91,92,93,94,95,96,97,98,99],\"y\":[1.80900659363173,0.035274995502989924,-1.3725782517059886,0.012016290428291753,1.000469906945173,-0.6195273127982366,-0.5493763932833622,-0.9911107758158834,0.23248967391723316,-0.14506312346767283,0.34184931249590944,0.2715616077472833,0.8393674963432226,-0.10711850809753216,1.8812271802120675,1.0538530621847526,-0.29984010726672844,-1.0005896037131567,0.6236039509447258,2.547660303248421,0.3645808633949736,0.7584190685180403,-1.3718605252785057,1.1236466096015902,-0.6575364883108161,-0.7435742465354352,-0.9510929805192601,-0.7250355706046863,-0.3010833740014651,-0.8365580045456453,0.5375896300969594,0.4250820358790253,-1.4817640383211563,1.0742946624051832,-1.6615502948070402,-0.4539105034533779,0.9627637686417985,1.0917899219961893,0.40651750118727115,0.30539547233503134,0.7154867771216606,0.4988743495347605,0.8934197814724031,-0.7226701733307364,-0.6212640967281962,-0.20366491195303663,0.6293167407460972,0.932849322897483,0.0889989385329877,-0.009742713919367142,0.8547431702291997,-0.06513079400429111,-0.5810102718413085,-0.9663593983135926,0.6305616168977342,1.9913392481918006,-1.9776861325927175,2.0202457074867883,-1.0347658552177048,-0.6695623864365713,1.183237535410795,0.4225713154856195,1.2265275340992094,-1.620088276804922,0.36251610386564465,-0.39921777940713343,0.19623576958325684,-0.28567696303803214,-0.40868573997383634,0.4589878761780295,-0.8307604519242388,0.46409171043276753,-0.7934822881525643,-0.48507069853990153,1.0898652590025368,-1.3743038367541152,0.581212864653542,0.30331914137158783,-1.2179046818674735,-2.103526750442117,0.6834448164214543,-0.15730645803113177,0.9021369402599491,-1.1694166086342517,0.8148051426930465,0.9444288848742953,-0.6589176826651596,0.5351669268927843,0.20689663682579865,0.832979037395156,0.5435340867904964,1.2929265303581408,-1.014503830555063,1.3097655276016194,-0.3053438162070056,-0.828368648201911,1.189594403334678,-0.37242628836792796,0.42166106976218076,-0.7112018906041686],\"type\":\"bar\"},{\"marker\":{\"color\":\"rgba(55, 128, 191, 0.6)\",\"line\":{\"color\":\"rgba(55, 128, 191, 1.0)\",\"width\":1}},\"name\":\"B\",\"orientation\":\"v\",\"text\":\"\",\"x\":[0,1,2,3,4,5,6,7,8,9,10,11,12,13,14,15,16,17,18,19,20,21,22,23,24,25,26,27,28,29,30,31,32,33,34,35,36,37,38,39,40,41,42,43,44,45,46,47,48,49,50,51,52,53,54,55,56,57,58,59,60,61,62,63,64,65,66,67,68,69,70,71,72,73,74,75,76,77,78,79,80,81,82,83,84,85,86,87,88,89,90,91,92,93,94,95,96,97,98,99],\"y\":[0.9062930594144116,-1.4386362389423506,1.1369677802935936,2.3716105706749393,1.148561136980701,1.6384945821750838,-1.0740830064136329,-0.43741065236894316,0.5358574650869486,-0.2698795505516891,2.0197447105345563,0.4338245435899058,-0.6403534451698525,-1.895132322156619,0.047493285900842584,-0.21672463780566728,0.5117649446224504,0.7263239901604835,-1.4270079547470809,1.1684892701521439,-0.07635059518062,1.015995199829917,1.7008504923460286,-0.6630221858617115,-0.12131160545398256,2.201409865619109,1.5871548335880958,-1.4170235508141886,0.4156143179575276,-1.011196408980938,0.19523384068338345,-0.505399740247492,0.5600637862451191,-1.626626394671511,-2.242945396816825,-0.3172556011350909,0.15744150179076394,-0.6441237430038943,-1.154805552889705,1.0045417479266496,1.497029918691306,-1.374787336108716,0.09899565870554397,0.6142923431050662,-0.7587059584886806,1.4865210628371175,0.7245101896757082,2.212384737378364,1.1415859663818204,-0.48716608639593195,-1.492873229229848,-1.5580771150038115,0.7487385861972751,-0.4069196752359965,-1.0686371070370626,1.8751590252659465,-0.9859316483422285,-0.40126887692683005,1.3394051974576617,0.3400675786361936,1.6939200545861288,-1.2304126744784363,-0.009358785317534316,1.32881769350092,0.6380471903856916,-1.127888255950146,0.1362958685262489,0.9844415462026761,-2.3449585435451508,-1.1988283052407933,0.5902775129859864,-0.2816083952687804,2.170089395418066,-0.7535625814479999,0.1256440369012715,1.0710620740031642,-0.15147133419631562,0.708410299017189,0.5601583538557442,-1.0401882243373572,1.7056167441988201,0.6850843008365208,0.2524170417029744,0.4239316576340395,0.30856412170761116,-0.8120128362314452,-1.0248295324212153,0.9691832786744989,-0.7809378279230037,0.5199528377506104,-0.5823558298607444,0.02242888516997846,-1.8483439458823425,0.1683359982946268,0.44883480148149857,0.27644036079912226,0.5001592299352902,1.707276028881522,-0.3499034827519047,-0.1658350539232574],\"type\":\"bar\"},{\"marker\":{\"color\":\"rgba(50, 171, 96, 0.6)\",\"line\":{\"color\":\"rgba(50, 171, 96, 1.0)\",\"width\":1}},\"name\":\"C\",\"orientation\":\"v\",\"text\":\"\",\"x\":[0,1,2,3,4,5,6,7,8,9,10,11,12,13,14,15,16,17,18,19,20,21,22,23,24,25,26,27,28,29,30,31,32,33,34,35,36,37,38,39,40,41,42,43,44,45,46,47,48,49,50,51,52,53,54,55,56,57,58,59,60,61,62,63,64,65,66,67,68,69,70,71,72,73,74,75,76,77,78,79,80,81,82,83,84,85,86,87,88,89,90,91,92,93,94,95,96,97,98,99],\"y\":[0.7692336532458728,0.5333344342194399,-0.8424260604443445,0.3203662543997597,0.08458846535047407,0.45708539683904553,-0.8498855129462245,1.4745690013341044,2.6909016970258177,0.5668709264460764,-0.05897494253507211,-1.836392380931625,1.499808814285216,1.4259194751034947,-0.08578597513422263,0.5560973770990663,-0.7584165794397412,-1.6105588097346335,-0.9074161291122519,0.3796037005268845,0.3311762861032556,-1.3602628819660034,-0.9799612820273028,-1.6539675770208235,-0.13518856728836234,-2.0519815390489096,0.7076017949132091,0.5777492285351216,0.8814525993925905,0.23198923387472098,0.5739648399528666,-0.9187331726443511,0.2378113368211414,0.18452376474838614,0.9618846352603138,0.04674987985743832,-0.19242409419798356,0.37406378090710063,-0.22470081855415733,-0.4221861958292879,0.6377575043253557,0.37186014681579505,0.9885200426741549,0.5846281676474738,-0.8857207063528001,0.951745296972654,1.433580628428485,2.2051673520189827,-1.7345907838590167,0.24276875299650547,-0.8525885975006535,-0.8533236132402129,-1.941001109878793,-0.061780947174691896,-1.1697568526208222,1.126896428706196,-0.3179738015899636,-0.9912010770982428,-1.0511344497209492,1.827771784627446,-0.326139141984017,-0.521984694424672,-1.1909121583420728,0.9304877086589227,-1.4926195618704994,-0.04856994266672939,-0.5332888237553048,-0.6888200985211754,0.004881621023809477,0.2969949279946919,0.15584434040490944,-0.30955808996868645,0.47386778091716025,0.583986268346228,1.019454808285895,-0.6878330822641515,0.5175531626481035,-0.7815075116688344,0.49634237721186597,-1.4827609600037182,-0.016543171729132132,-0.8007147586706331,0.04434472691612747,0.04412174249588713,-2.21327013820518,0.037192344719893536,-0.9390081221051154,-0.7828138328182563,-0.3415125355976032,0.23650650730818906,0.30889760418237094,1.5513678854253037,-1.7509145536551753,-0.169155621033073,0.809684981401493,1.0319304185412423,0.9980808541912738,1.0774436660316213,0.8738553331372387,0.2167626281308094],\"type\":\"bar\"},{\"marker\":{\"color\":\"rgba(128, 0, 128, 0.6)\",\"line\":{\"color\":\"rgba(128, 0, 128, 1.0)\",\"width\":1}},\"name\":\"D\",\"orientation\":\"v\",\"text\":\"\",\"x\":[0,1,2,3,4,5,6,7,8,9,10,11,12,13,14,15,16,17,18,19,20,21,22,23,24,25,26,27,28,29,30,31,32,33,34,35,36,37,38,39,40,41,42,43,44,45,46,47,48,49,50,51,52,53,54,55,56,57,58,59,60,61,62,63,64,65,66,67,68,69,70,71,72,73,74,75,76,77,78,79,80,81,82,83,84,85,86,87,88,89,90,91,92,93,94,95,96,97,98,99],\"y\":[0.3675217620137849,2.7427008466781437,0.6255220737570883,-0.6770631133142064,0.8611524003693977,0.7325189915909454,-0.4912724703434503,-0.08990027233534309,0.7249810254170888,-0.44406845694832436,-0.11519998235144457,0.057807570007680414,1.4468154496869319,-1.3063691460575648,-1.0976511461538079,-0.144521111054121,0.9851894657897402,-0.3669124238805727,0.3900440966830113,-0.46883403147472796,0.5607883602873852,0.1959664854253068,-1.4388522302244997,0.9792903647735527,1.1534094018283618,0.4615133516294498,2.1918183430754277,0.5250412928758622,0.5001386622284841,0.2551536355520732,-0.005412224012686471,2.9221341098244342,-0.4649633760002535,0.604687207147699,0.9866743322343967,0.3713940127701445,-2.5879431288336234,-1.2628569935111595,0.8034675576116896,-0.7931092449981392,0.7424776291875992,0.13392997568809864,-1.3518633088238048,0.8622365479976225,-0.2407342066956001,-0.9783801026300155,0.7209797859368154,-0.38282624621694294,1.5716146462366636,-1.1665957113627479,0.6187301632857698,-2.186120621478108,-0.2426136169446369,0.44237996405091246,0.31750637266024034,-1.9937679194820443,-1.2624546771878686,-0.44884460876428806,0.6306675068396437,1.7501367095384082,0.48863891048392044,2.602313512763461,1.002570057651446,1.467085093335372,0.9369319026249344,1.7703646291362558,-1.1796240772203925,0.12617597344252518,-0.25609278999498675,-0.1115932258436591,0.12511197337113492,-0.1990422032617427,-0.5663920105336755,-1.5735449206488776,-0.43762023976950404,-1.0756184575691374,1.7639056749230035,0.19731050169828362,-0.11699890130357059,0.2773473721477822,0.7413590505157498,2.0416402836649428,0.576779671318424,-0.30937664994093284,1.0785633811816857,-0.2743774523138238,0.8892491714545185,0.5640933722954883,0.983842824464235,1.1610759271421396,-0.4509459056346206,-0.7272001536229342,-0.3257182965001095,0.1958487766367504,-2.372334453426788,0.2086402255634171,-0.7278070326688642,-1.3179084583713245,-1.2594262664854154,-0.9035664023169915],\"type\":\"bar\"}],                        {\"legend\":{\"bgcolor\":\"#F5F6F9\",\"font\":{\"color\":\"#4D5663\"}},\"paper_bgcolor\":\"#F5F6F9\",\"plot_bgcolor\":\"#F5F6F9\",\"template\":{\"data\":{\"barpolar\":[{\"marker\":{\"line\":{\"color\":\"#E5ECF6\",\"width\":0.5},\"pattern\":{\"fillmode\":\"overlay\",\"size\":10,\"solidity\":0.2}},\"type\":\"barpolar\"}],\"bar\":[{\"error_x\":{\"color\":\"#2a3f5f\"},\"error_y\":{\"color\":\"#2a3f5f\"},\"marker\":{\"line\":{\"color\":\"#E5ECF6\",\"width\":0.5},\"pattern\":{\"fillmode\":\"overlay\",\"size\":10,\"solidity\":0.2}},\"type\":\"bar\"}],\"carpet\":[{\"aaxis\":{\"endlinecolor\":\"#2a3f5f\",\"gridcolor\":\"white\",\"linecolor\":\"white\",\"minorgridcolor\":\"white\",\"startlinecolor\":\"#2a3f5f\"},\"baxis\":{\"endlinecolor\":\"#2a3f5f\",\"gridcolor\":\"white\",\"linecolor\":\"white\",\"minorgridcolor\":\"white\",\"startlinecolor\":\"#2a3f5f\"},\"type\":\"carpet\"}],\"choropleth\":[{\"colorbar\":{\"outlinewidth\":0,\"ticks\":\"\"},\"type\":\"choropleth\"}],\"contourcarpet\":[{\"colorbar\":{\"outlinewidth\":0,\"ticks\":\"\"},\"type\":\"contourcarpet\"}],\"contour\":[{\"colorbar\":{\"outlinewidth\":0,\"ticks\":\"\"},\"colorscale\":[[0.0,\"#0d0887\"],[0.1111111111111111,\"#46039f\"],[0.2222222222222222,\"#7201a8\"],[0.3333333333333333,\"#9c179e\"],[0.4444444444444444,\"#bd3786\"],[0.5555555555555556,\"#d8576b\"],[0.6666666666666666,\"#ed7953\"],[0.7777777777777778,\"#fb9f3a\"],[0.8888888888888888,\"#fdca26\"],[1.0,\"#f0f921\"]],\"type\":\"contour\"}],\"heatmapgl\":[{\"colorbar\":{\"outlinewidth\":0,\"ticks\":\"\"},\"colorscale\":[[0.0,\"#0d0887\"],[0.1111111111111111,\"#46039f\"],[0.2222222222222222,\"#7201a8\"],[0.3333333333333333,\"#9c179e\"],[0.4444444444444444,\"#bd3786\"],[0.5555555555555556,\"#d8576b\"],[0.6666666666666666,\"#ed7953\"],[0.7777777777777778,\"#fb9f3a\"],[0.8888888888888888,\"#fdca26\"],[1.0,\"#f0f921\"]],\"type\":\"heatmapgl\"}],\"heatmap\":[{\"colorbar\":{\"outlinewidth\":0,\"ticks\":\"\"},\"colorscale\":[[0.0,\"#0d0887\"],[0.1111111111111111,\"#46039f\"],[0.2222222222222222,\"#7201a8\"],[0.3333333333333333,\"#9c179e\"],[0.4444444444444444,\"#bd3786\"],[0.5555555555555556,\"#d8576b\"],[0.6666666666666666,\"#ed7953\"],[0.7777777777777778,\"#fb9f3a\"],[0.8888888888888888,\"#fdca26\"],[1.0,\"#f0f921\"]],\"type\":\"heatmap\"}],\"histogram2dcontour\":[{\"colorbar\":{\"outlinewidth\":0,\"ticks\":\"\"},\"colorscale\":[[0.0,\"#0d0887\"],[0.1111111111111111,\"#46039f\"],[0.2222222222222222,\"#7201a8\"],[0.3333333333333333,\"#9c179e\"],[0.4444444444444444,\"#bd3786\"],[0.5555555555555556,\"#d8576b\"],[0.6666666666666666,\"#ed7953\"],[0.7777777777777778,\"#fb9f3a\"],[0.8888888888888888,\"#fdca26\"],[1.0,\"#f0f921\"]],\"type\":\"histogram2dcontour\"}],\"histogram2d\":[{\"colorbar\":{\"outlinewidth\":0,\"ticks\":\"\"},\"colorscale\":[[0.0,\"#0d0887\"],[0.1111111111111111,\"#46039f\"],[0.2222222222222222,\"#7201a8\"],[0.3333333333333333,\"#9c179e\"],[0.4444444444444444,\"#bd3786\"],[0.5555555555555556,\"#d8576b\"],[0.6666666666666666,\"#ed7953\"],[0.7777777777777778,\"#fb9f3a\"],[0.8888888888888888,\"#fdca26\"],[1.0,\"#f0f921\"]],\"type\":\"histogram2d\"}],\"histogram\":[{\"marker\":{\"pattern\":{\"fillmode\":\"overlay\",\"size\":10,\"solidity\":0.2}},\"type\":\"histogram\"}],\"mesh3d\":[{\"colorbar\":{\"outlinewidth\":0,\"ticks\":\"\"},\"type\":\"mesh3d\"}],\"parcoords\":[{\"line\":{\"colorbar\":{\"outlinewidth\":0,\"ticks\":\"\"}},\"type\":\"parcoords\"}],\"pie\":[{\"automargin\":true,\"type\":\"pie\"}],\"scatter3d\":[{\"line\":{\"colorbar\":{\"outlinewidth\":0,\"ticks\":\"\"}},\"marker\":{\"colorbar\":{\"outlinewidth\":0,\"ticks\":\"\"}},\"type\":\"scatter3d\"}],\"scattercarpet\":[{\"marker\":{\"colorbar\":{\"outlinewidth\":0,\"ticks\":\"\"}},\"type\":\"scattercarpet\"}],\"scattergeo\":[{\"marker\":{\"colorbar\":{\"outlinewidth\":0,\"ticks\":\"\"}},\"type\":\"scattergeo\"}],\"scattergl\":[{\"marker\":{\"colorbar\":{\"outlinewidth\":0,\"ticks\":\"\"}},\"type\":\"scattergl\"}],\"scattermapbox\":[{\"marker\":{\"colorbar\":{\"outlinewidth\":0,\"ticks\":\"\"}},\"type\":\"scattermapbox\"}],\"scatterpolargl\":[{\"marker\":{\"colorbar\":{\"outlinewidth\":0,\"ticks\":\"\"}},\"type\":\"scatterpolargl\"}],\"scatterpolar\":[{\"marker\":{\"colorbar\":{\"outlinewidth\":0,\"ticks\":\"\"}},\"type\":\"scatterpolar\"}],\"scatter\":[{\"fillpattern\":{\"fillmode\":\"overlay\",\"size\":10,\"solidity\":0.2},\"type\":\"scatter\"}],\"scatterternary\":[{\"marker\":{\"colorbar\":{\"outlinewidth\":0,\"ticks\":\"\"}},\"type\":\"scatterternary\"}],\"surface\":[{\"colorbar\":{\"outlinewidth\":0,\"ticks\":\"\"},\"colorscale\":[[0.0,\"#0d0887\"],[0.1111111111111111,\"#46039f\"],[0.2222222222222222,\"#7201a8\"],[0.3333333333333333,\"#9c179e\"],[0.4444444444444444,\"#bd3786\"],[0.5555555555555556,\"#d8576b\"],[0.6666666666666666,\"#ed7953\"],[0.7777777777777778,\"#fb9f3a\"],[0.8888888888888888,\"#fdca26\"],[1.0,\"#f0f921\"]],\"type\":\"surface\"}],\"table\":[{\"cells\":{\"fill\":{\"color\":\"#EBF0F8\"},\"line\":{\"color\":\"white\"}},\"header\":{\"fill\":{\"color\":\"#C8D4E3\"},\"line\":{\"color\":\"white\"}},\"type\":\"table\"}]},\"layout\":{\"annotationdefaults\":{\"arrowcolor\":\"#2a3f5f\",\"arrowhead\":0,\"arrowwidth\":1},\"autotypenumbers\":\"strict\",\"coloraxis\":{\"colorbar\":{\"outlinewidth\":0,\"ticks\":\"\"}},\"colorscale\":{\"diverging\":[[0,\"#8e0152\"],[0.1,\"#c51b7d\"],[0.2,\"#de77ae\"],[0.3,\"#f1b6da\"],[0.4,\"#fde0ef\"],[0.5,\"#f7f7f7\"],[0.6,\"#e6f5d0\"],[0.7,\"#b8e186\"],[0.8,\"#7fbc41\"],[0.9,\"#4d9221\"],[1,\"#276419\"]],\"sequential\":[[0.0,\"#0d0887\"],[0.1111111111111111,\"#46039f\"],[0.2222222222222222,\"#7201a8\"],[0.3333333333333333,\"#9c179e\"],[0.4444444444444444,\"#bd3786\"],[0.5555555555555556,\"#d8576b\"],[0.6666666666666666,\"#ed7953\"],[0.7777777777777778,\"#fb9f3a\"],[0.8888888888888888,\"#fdca26\"],[1.0,\"#f0f921\"]],\"sequentialminus\":[[0.0,\"#0d0887\"],[0.1111111111111111,\"#46039f\"],[0.2222222222222222,\"#7201a8\"],[0.3333333333333333,\"#9c179e\"],[0.4444444444444444,\"#bd3786\"],[0.5555555555555556,\"#d8576b\"],[0.6666666666666666,\"#ed7953\"],[0.7777777777777778,\"#fb9f3a\"],[0.8888888888888888,\"#fdca26\"],[1.0,\"#f0f921\"]]},\"colorway\":[\"#636efa\",\"#EF553B\",\"#00cc96\",\"#ab63fa\",\"#FFA15A\",\"#19d3f3\",\"#FF6692\",\"#B6E880\",\"#FF97FF\",\"#FECB52\"],\"font\":{\"color\":\"#2a3f5f\"},\"geo\":{\"bgcolor\":\"white\",\"lakecolor\":\"white\",\"landcolor\":\"#E5ECF6\",\"showlakes\":true,\"showland\":true,\"subunitcolor\":\"white\"},\"hoverlabel\":{\"align\":\"left\"},\"hovermode\":\"closest\",\"mapbox\":{\"style\":\"light\"},\"paper_bgcolor\":\"white\",\"plot_bgcolor\":\"#E5ECF6\",\"polar\":{\"angularaxis\":{\"gridcolor\":\"white\",\"linecolor\":\"white\",\"ticks\":\"\"},\"bgcolor\":\"#E5ECF6\",\"radialaxis\":{\"gridcolor\":\"white\",\"linecolor\":\"white\",\"ticks\":\"\"}},\"scene\":{\"xaxis\":{\"backgroundcolor\":\"#E5ECF6\",\"gridcolor\":\"white\",\"gridwidth\":2,\"linecolor\":\"white\",\"showbackground\":true,\"ticks\":\"\",\"zerolinecolor\":\"white\"},\"yaxis\":{\"backgroundcolor\":\"#E5ECF6\",\"gridcolor\":\"white\",\"gridwidth\":2,\"linecolor\":\"white\",\"showbackground\":true,\"ticks\":\"\",\"zerolinecolor\":\"white\"},\"zaxis\":{\"backgroundcolor\":\"#E5ECF6\",\"gridcolor\":\"white\",\"gridwidth\":2,\"linecolor\":\"white\",\"showbackground\":true,\"ticks\":\"\",\"zerolinecolor\":\"white\"}},\"shapedefaults\":{\"line\":{\"color\":\"#2a3f5f\"}},\"ternary\":{\"aaxis\":{\"gridcolor\":\"white\",\"linecolor\":\"white\",\"ticks\":\"\"},\"baxis\":{\"gridcolor\":\"white\",\"linecolor\":\"white\",\"ticks\":\"\"},\"bgcolor\":\"#E5ECF6\",\"caxis\":{\"gridcolor\":\"white\",\"linecolor\":\"white\",\"ticks\":\"\"}},\"title\":{\"x\":0.05},\"xaxis\":{\"automargin\":true,\"gridcolor\":\"white\",\"linecolor\":\"white\",\"ticks\":\"\",\"title\":{\"standoff\":15},\"zerolinecolor\":\"white\",\"zerolinewidth\":2},\"yaxis\":{\"automargin\":true,\"gridcolor\":\"white\",\"linecolor\":\"white\",\"ticks\":\"\",\"title\":{\"standoff\":15},\"zerolinecolor\":\"white\",\"zerolinewidth\":2}}},\"title\":{\"font\":{\"color\":\"#4D5663\"}},\"xaxis\":{\"gridcolor\":\"#E1E5ED\",\"showgrid\":true,\"tickfont\":{\"color\":\"#4D5663\"},\"title\":{\"font\":{\"color\":\"#4D5663\"},\"text\":\"\"},\"zerolinecolor\":\"#E1E5ED\"},\"yaxis\":{\"gridcolor\":\"#E1E5ED\",\"showgrid\":true,\"tickfont\":{\"color\":\"#4D5663\"},\"title\":{\"font\":{\"color\":\"#4D5663\"},\"text\":\"\"},\"zerolinecolor\":\"#E1E5ED\"}},                        {\"showLink\": true, \"linkText\": \"Export to plot.ly\", \"plotlyServerURL\": \"https://plot.ly\", \"responsive\": true}                    ).then(function(){\n                            \nvar gd = document.getElementById('ddc578e6-b607-4889-8d97-3cc09ec18796');\nvar x = new MutationObserver(function (mutations, observer) {{\n        var display = window.getComputedStyle(gd).display;\n        if (!display || display === 'none') {{\n            console.log([gd, 'removed!']);\n            Plotly.purge(gd);\n            observer.disconnect();\n        }}\n}});\n\n// Listen for the removal of the full notebook cells\nvar notebookContainer = gd.closest('#notebook-container');\nif (notebookContainer) {{\n    x.observe(notebookContainer, {childList: true});\n}}\n\n// Listen for the clearing of the current output cell\nvar outputEl = gd.closest('.output');\nif (outputEl) {{\n    x.observe(outputEl, {childList: true});\n}}\n\n                        })                };                });            </script>        </div>"
     },
     "metadata": {},
     "output_type": "display_data"
    }
   ],
   "source": [
    "df.iplot(kind='bar')"
   ],
   "metadata": {
    "collapsed": false,
    "pycharm": {
     "name": "#%%\n"
    }
   }
  },
  {
   "cell_type": "code",
   "execution_count": 32,
   "outputs": [
    {
     "data": {
      "application/vnd.plotly.v1+json": {
       "data": [
        {
         "marker": {
          "color": "rgba(255, 153, 51, 0.6)",
          "line": {
           "color": "rgba(255, 153, 51, 1.0)",
           "width": 1
          }
         },
         "name": "None",
         "orientation": "v",
         "text": "",
         "x": [
          "A",
          "B",
          "C",
          "D"
         ],
         "y": [
          0.07062971147026939,
          0.12141659277597526,
          -0.01878616887747991,
          0.12240920117987984
         ],
         "type": "bar"
        }
       ],
       "layout": {
        "legend": {
         "bgcolor": "#F5F6F9",
         "font": {
          "color": "#4D5663"
         }
        },
        "paper_bgcolor": "#F5F6F9",
        "plot_bgcolor": "#F5F6F9",
        "template": {
         "data": {
          "barpolar": [
           {
            "marker": {
             "line": {
              "color": "#E5ECF6",
              "width": 0.5
             },
             "pattern": {
              "fillmode": "overlay",
              "size": 10,
              "solidity": 0.2
             }
            },
            "type": "barpolar"
           }
          ],
          "bar": [
           {
            "error_x": {
             "color": "#2a3f5f"
            },
            "error_y": {
             "color": "#2a3f5f"
            },
            "marker": {
             "line": {
              "color": "#E5ECF6",
              "width": 0.5
             },
             "pattern": {
              "fillmode": "overlay",
              "size": 10,
              "solidity": 0.2
             }
            },
            "type": "bar"
           }
          ],
          "carpet": [
           {
            "aaxis": {
             "endlinecolor": "#2a3f5f",
             "gridcolor": "white",
             "linecolor": "white",
             "minorgridcolor": "white",
             "startlinecolor": "#2a3f5f"
            },
            "baxis": {
             "endlinecolor": "#2a3f5f",
             "gridcolor": "white",
             "linecolor": "white",
             "minorgridcolor": "white",
             "startlinecolor": "#2a3f5f"
            },
            "type": "carpet"
           }
          ],
          "choropleth": [
           {
            "colorbar": {
             "outlinewidth": 0,
             "ticks": ""
            },
            "type": "choropleth"
           }
          ],
          "contourcarpet": [
           {
            "colorbar": {
             "outlinewidth": 0,
             "ticks": ""
            },
            "type": "contourcarpet"
           }
          ],
          "contour": [
           {
            "colorbar": {
             "outlinewidth": 0,
             "ticks": ""
            },
            "colorscale": [
             [
              0.0,
              "#0d0887"
             ],
             [
              0.1111111111111111,
              "#46039f"
             ],
             [
              0.2222222222222222,
              "#7201a8"
             ],
             [
              0.3333333333333333,
              "#9c179e"
             ],
             [
              0.4444444444444444,
              "#bd3786"
             ],
             [
              0.5555555555555556,
              "#d8576b"
             ],
             [
              0.6666666666666666,
              "#ed7953"
             ],
             [
              0.7777777777777778,
              "#fb9f3a"
             ],
             [
              0.8888888888888888,
              "#fdca26"
             ],
             [
              1.0,
              "#f0f921"
             ]
            ],
            "type": "contour"
           }
          ],
          "heatmapgl": [
           {
            "colorbar": {
             "outlinewidth": 0,
             "ticks": ""
            },
            "colorscale": [
             [
              0.0,
              "#0d0887"
             ],
             [
              0.1111111111111111,
              "#46039f"
             ],
             [
              0.2222222222222222,
              "#7201a8"
             ],
             [
              0.3333333333333333,
              "#9c179e"
             ],
             [
              0.4444444444444444,
              "#bd3786"
             ],
             [
              0.5555555555555556,
              "#d8576b"
             ],
             [
              0.6666666666666666,
              "#ed7953"
             ],
             [
              0.7777777777777778,
              "#fb9f3a"
             ],
             [
              0.8888888888888888,
              "#fdca26"
             ],
             [
              1.0,
              "#f0f921"
             ]
            ],
            "type": "heatmapgl"
           }
          ],
          "heatmap": [
           {
            "colorbar": {
             "outlinewidth": 0,
             "ticks": ""
            },
            "colorscale": [
             [
              0.0,
              "#0d0887"
             ],
             [
              0.1111111111111111,
              "#46039f"
             ],
             [
              0.2222222222222222,
              "#7201a8"
             ],
             [
              0.3333333333333333,
              "#9c179e"
             ],
             [
              0.4444444444444444,
              "#bd3786"
             ],
             [
              0.5555555555555556,
              "#d8576b"
             ],
             [
              0.6666666666666666,
              "#ed7953"
             ],
             [
              0.7777777777777778,
              "#fb9f3a"
             ],
             [
              0.8888888888888888,
              "#fdca26"
             ],
             [
              1.0,
              "#f0f921"
             ]
            ],
            "type": "heatmap"
           }
          ],
          "histogram2dcontour": [
           {
            "colorbar": {
             "outlinewidth": 0,
             "ticks": ""
            },
            "colorscale": [
             [
              0.0,
              "#0d0887"
             ],
             [
              0.1111111111111111,
              "#46039f"
             ],
             [
              0.2222222222222222,
              "#7201a8"
             ],
             [
              0.3333333333333333,
              "#9c179e"
             ],
             [
              0.4444444444444444,
              "#bd3786"
             ],
             [
              0.5555555555555556,
              "#d8576b"
             ],
             [
              0.6666666666666666,
              "#ed7953"
             ],
             [
              0.7777777777777778,
              "#fb9f3a"
             ],
             [
              0.8888888888888888,
              "#fdca26"
             ],
             [
              1.0,
              "#f0f921"
             ]
            ],
            "type": "histogram2dcontour"
           }
          ],
          "histogram2d": [
           {
            "colorbar": {
             "outlinewidth": 0,
             "ticks": ""
            },
            "colorscale": [
             [
              0.0,
              "#0d0887"
             ],
             [
              0.1111111111111111,
              "#46039f"
             ],
             [
              0.2222222222222222,
              "#7201a8"
             ],
             [
              0.3333333333333333,
              "#9c179e"
             ],
             [
              0.4444444444444444,
              "#bd3786"
             ],
             [
              0.5555555555555556,
              "#d8576b"
             ],
             [
              0.6666666666666666,
              "#ed7953"
             ],
             [
              0.7777777777777778,
              "#fb9f3a"
             ],
             [
              0.8888888888888888,
              "#fdca26"
             ],
             [
              1.0,
              "#f0f921"
             ]
            ],
            "type": "histogram2d"
           }
          ],
          "histogram": [
           {
            "marker": {
             "pattern": {
              "fillmode": "overlay",
              "size": 10,
              "solidity": 0.2
             }
            },
            "type": "histogram"
           }
          ],
          "mesh3d": [
           {
            "colorbar": {
             "outlinewidth": 0,
             "ticks": ""
            },
            "type": "mesh3d"
           }
          ],
          "parcoords": [
           {
            "line": {
             "colorbar": {
              "outlinewidth": 0,
              "ticks": ""
             }
            },
            "type": "parcoords"
           }
          ],
          "pie": [
           {
            "automargin": true,
            "type": "pie"
           }
          ],
          "scatter3d": [
           {
            "line": {
             "colorbar": {
              "outlinewidth": 0,
              "ticks": ""
             }
            },
            "marker": {
             "colorbar": {
              "outlinewidth": 0,
              "ticks": ""
             }
            },
            "type": "scatter3d"
           }
          ],
          "scattercarpet": [
           {
            "marker": {
             "colorbar": {
              "outlinewidth": 0,
              "ticks": ""
             }
            },
            "type": "scattercarpet"
           }
          ],
          "scattergeo": [
           {
            "marker": {
             "colorbar": {
              "outlinewidth": 0,
              "ticks": ""
             }
            },
            "type": "scattergeo"
           }
          ],
          "scattergl": [
           {
            "marker": {
             "colorbar": {
              "outlinewidth": 0,
              "ticks": ""
             }
            },
            "type": "scattergl"
           }
          ],
          "scattermapbox": [
           {
            "marker": {
             "colorbar": {
              "outlinewidth": 0,
              "ticks": ""
             }
            },
            "type": "scattermapbox"
           }
          ],
          "scatterpolargl": [
           {
            "marker": {
             "colorbar": {
              "outlinewidth": 0,
              "ticks": ""
             }
            },
            "type": "scatterpolargl"
           }
          ],
          "scatterpolar": [
           {
            "marker": {
             "colorbar": {
              "outlinewidth": 0,
              "ticks": ""
             }
            },
            "type": "scatterpolar"
           }
          ],
          "scatter": [
           {
            "fillpattern": {
             "fillmode": "overlay",
             "size": 10,
             "solidity": 0.2
            },
            "type": "scatter"
           }
          ],
          "scatterternary": [
           {
            "marker": {
             "colorbar": {
              "outlinewidth": 0,
              "ticks": ""
             }
            },
            "type": "scatterternary"
           }
          ],
          "surface": [
           {
            "colorbar": {
             "outlinewidth": 0,
             "ticks": ""
            },
            "colorscale": [
             [
              0.0,
              "#0d0887"
             ],
             [
              0.1111111111111111,
              "#46039f"
             ],
             [
              0.2222222222222222,
              "#7201a8"
             ],
             [
              0.3333333333333333,
              "#9c179e"
             ],
             [
              0.4444444444444444,
              "#bd3786"
             ],
             [
              0.5555555555555556,
              "#d8576b"
             ],
             [
              0.6666666666666666,
              "#ed7953"
             ],
             [
              0.7777777777777778,
              "#fb9f3a"
             ],
             [
              0.8888888888888888,
              "#fdca26"
             ],
             [
              1.0,
              "#f0f921"
             ]
            ],
            "type": "surface"
           }
          ],
          "table": [
           {
            "cells": {
             "fill": {
              "color": "#EBF0F8"
             },
             "line": {
              "color": "white"
             }
            },
            "header": {
             "fill": {
              "color": "#C8D4E3"
             },
             "line": {
              "color": "white"
             }
            },
            "type": "table"
           }
          ]
         },
         "layout": {
          "annotationdefaults": {
           "arrowcolor": "#2a3f5f",
           "arrowhead": 0,
           "arrowwidth": 1
          },
          "autotypenumbers": "strict",
          "coloraxis": {
           "colorbar": {
            "outlinewidth": 0,
            "ticks": ""
           }
          },
          "colorscale": {
           "diverging": [
            [
             0,
             "#8e0152"
            ],
            [
             0.1,
             "#c51b7d"
            ],
            [
             0.2,
             "#de77ae"
            ],
            [
             0.3,
             "#f1b6da"
            ],
            [
             0.4,
             "#fde0ef"
            ],
            [
             0.5,
             "#f7f7f7"
            ],
            [
             0.6,
             "#e6f5d0"
            ],
            [
             0.7,
             "#b8e186"
            ],
            [
             0.8,
             "#7fbc41"
            ],
            [
             0.9,
             "#4d9221"
            ],
            [
             1,
             "#276419"
            ]
           ],
           "sequential": [
            [
             0.0,
             "#0d0887"
            ],
            [
             0.1111111111111111,
             "#46039f"
            ],
            [
             0.2222222222222222,
             "#7201a8"
            ],
            [
             0.3333333333333333,
             "#9c179e"
            ],
            [
             0.4444444444444444,
             "#bd3786"
            ],
            [
             0.5555555555555556,
             "#d8576b"
            ],
            [
             0.6666666666666666,
             "#ed7953"
            ],
            [
             0.7777777777777778,
             "#fb9f3a"
            ],
            [
             0.8888888888888888,
             "#fdca26"
            ],
            [
             1.0,
             "#f0f921"
            ]
           ],
           "sequentialminus": [
            [
             0.0,
             "#0d0887"
            ],
            [
             0.1111111111111111,
             "#46039f"
            ],
            [
             0.2222222222222222,
             "#7201a8"
            ],
            [
             0.3333333333333333,
             "#9c179e"
            ],
            [
             0.4444444444444444,
             "#bd3786"
            ],
            [
             0.5555555555555556,
             "#d8576b"
            ],
            [
             0.6666666666666666,
             "#ed7953"
            ],
            [
             0.7777777777777778,
             "#fb9f3a"
            ],
            [
             0.8888888888888888,
             "#fdca26"
            ],
            [
             1.0,
             "#f0f921"
            ]
           ]
          },
          "colorway": [
           "#636efa",
           "#EF553B",
           "#00cc96",
           "#ab63fa",
           "#FFA15A",
           "#19d3f3",
           "#FF6692",
           "#B6E880",
           "#FF97FF",
           "#FECB52"
          ],
          "font": {
           "color": "#2a3f5f"
          },
          "geo": {
           "bgcolor": "white",
           "lakecolor": "white",
           "landcolor": "#E5ECF6",
           "showlakes": true,
           "showland": true,
           "subunitcolor": "white"
          },
          "hoverlabel": {
           "align": "left"
          },
          "hovermode": "closest",
          "mapbox": {
           "style": "light"
          },
          "paper_bgcolor": "white",
          "plot_bgcolor": "#E5ECF6",
          "polar": {
           "angularaxis": {
            "gridcolor": "white",
            "linecolor": "white",
            "ticks": ""
           },
           "bgcolor": "#E5ECF6",
           "radialaxis": {
            "gridcolor": "white",
            "linecolor": "white",
            "ticks": ""
           }
          },
          "scene": {
           "xaxis": {
            "backgroundcolor": "#E5ECF6",
            "gridcolor": "white",
            "gridwidth": 2,
            "linecolor": "white",
            "showbackground": true,
            "ticks": "",
            "zerolinecolor": "white"
           },
           "yaxis": {
            "backgroundcolor": "#E5ECF6",
            "gridcolor": "white",
            "gridwidth": 2,
            "linecolor": "white",
            "showbackground": true,
            "ticks": "",
            "zerolinecolor": "white"
           },
           "zaxis": {
            "backgroundcolor": "#E5ECF6",
            "gridcolor": "white",
            "gridwidth": 2,
            "linecolor": "white",
            "showbackground": true,
            "ticks": "",
            "zerolinecolor": "white"
           }
          },
          "shapedefaults": {
           "line": {
            "color": "#2a3f5f"
           }
          },
          "ternary": {
           "aaxis": {
            "gridcolor": "white",
            "linecolor": "white",
            "ticks": ""
           },
           "baxis": {
            "gridcolor": "white",
            "linecolor": "white",
            "ticks": ""
           },
           "bgcolor": "#E5ECF6",
           "caxis": {
            "gridcolor": "white",
            "linecolor": "white",
            "ticks": ""
           }
          },
          "title": {
           "x": 0.05
          },
          "xaxis": {
           "automargin": true,
           "gridcolor": "white",
           "linecolor": "white",
           "ticks": "",
           "title": {
            "standoff": 15
           },
           "zerolinecolor": "white",
           "zerolinewidth": 2
          },
          "yaxis": {
           "automargin": true,
           "gridcolor": "white",
           "linecolor": "white",
           "ticks": "",
           "title": {
            "standoff": 15
           },
           "zerolinecolor": "white",
           "zerolinewidth": 2
          }
         }
        },
        "title": {
         "font": {
          "color": "#4D5663"
         }
        },
        "xaxis": {
         "gridcolor": "#E1E5ED",
         "showgrid": true,
         "tickfont": {
          "color": "#4D5663"
         },
         "title": {
          "font": {
           "color": "#4D5663"
          },
          "text": ""
         },
         "zerolinecolor": "#E1E5ED"
        },
        "yaxis": {
         "gridcolor": "#E1E5ED",
         "showgrid": true,
         "tickfont": {
          "color": "#4D5663"
         },
         "title": {
          "font": {
           "color": "#4D5663"
          },
          "text": ""
         },
         "zerolinecolor": "#E1E5ED"
        }
       },
       "config": {
        "showLink": true,
        "linkText": "Export to plot.ly",
        "plotlyServerURL": "https://plot.ly"
       }
      },
      "text/html": "<div>                            <div id=\"2131b315-f1ee-405f-8728-a78ac6cc93b5\" class=\"plotly-graph-div\" style=\"height:525px; width:100%;\"></div>            <script type=\"text/javascript\">                require([\"plotly\"], function(Plotly) {                    window.PLOTLYENV=window.PLOTLYENV || {};\n                    window.PLOTLYENV.BASE_URL='https://plot.ly';                                    if (document.getElementById(\"2131b315-f1ee-405f-8728-a78ac6cc93b5\")) {                    Plotly.newPlot(                        \"2131b315-f1ee-405f-8728-a78ac6cc93b5\",                        [{\"marker\":{\"color\":\"rgba(255, 153, 51, 0.6)\",\"line\":{\"color\":\"rgba(255, 153, 51, 1.0)\",\"width\":1}},\"name\":\"None\",\"orientation\":\"v\",\"text\":\"\",\"x\":[\"A\",\"B\",\"C\",\"D\"],\"y\":[0.07062971147026939,0.12141659277597526,-0.01878616887747991,0.12240920117987984],\"type\":\"bar\"}],                        {\"legend\":{\"bgcolor\":\"#F5F6F9\",\"font\":{\"color\":\"#4D5663\"}},\"paper_bgcolor\":\"#F5F6F9\",\"plot_bgcolor\":\"#F5F6F9\",\"template\":{\"data\":{\"barpolar\":[{\"marker\":{\"line\":{\"color\":\"#E5ECF6\",\"width\":0.5},\"pattern\":{\"fillmode\":\"overlay\",\"size\":10,\"solidity\":0.2}},\"type\":\"barpolar\"}],\"bar\":[{\"error_x\":{\"color\":\"#2a3f5f\"},\"error_y\":{\"color\":\"#2a3f5f\"},\"marker\":{\"line\":{\"color\":\"#E5ECF6\",\"width\":0.5},\"pattern\":{\"fillmode\":\"overlay\",\"size\":10,\"solidity\":0.2}},\"type\":\"bar\"}],\"carpet\":[{\"aaxis\":{\"endlinecolor\":\"#2a3f5f\",\"gridcolor\":\"white\",\"linecolor\":\"white\",\"minorgridcolor\":\"white\",\"startlinecolor\":\"#2a3f5f\"},\"baxis\":{\"endlinecolor\":\"#2a3f5f\",\"gridcolor\":\"white\",\"linecolor\":\"white\",\"minorgridcolor\":\"white\",\"startlinecolor\":\"#2a3f5f\"},\"type\":\"carpet\"}],\"choropleth\":[{\"colorbar\":{\"outlinewidth\":0,\"ticks\":\"\"},\"type\":\"choropleth\"}],\"contourcarpet\":[{\"colorbar\":{\"outlinewidth\":0,\"ticks\":\"\"},\"type\":\"contourcarpet\"}],\"contour\":[{\"colorbar\":{\"outlinewidth\":0,\"ticks\":\"\"},\"colorscale\":[[0.0,\"#0d0887\"],[0.1111111111111111,\"#46039f\"],[0.2222222222222222,\"#7201a8\"],[0.3333333333333333,\"#9c179e\"],[0.4444444444444444,\"#bd3786\"],[0.5555555555555556,\"#d8576b\"],[0.6666666666666666,\"#ed7953\"],[0.7777777777777778,\"#fb9f3a\"],[0.8888888888888888,\"#fdca26\"],[1.0,\"#f0f921\"]],\"type\":\"contour\"}],\"heatmapgl\":[{\"colorbar\":{\"outlinewidth\":0,\"ticks\":\"\"},\"colorscale\":[[0.0,\"#0d0887\"],[0.1111111111111111,\"#46039f\"],[0.2222222222222222,\"#7201a8\"],[0.3333333333333333,\"#9c179e\"],[0.4444444444444444,\"#bd3786\"],[0.5555555555555556,\"#d8576b\"],[0.6666666666666666,\"#ed7953\"],[0.7777777777777778,\"#fb9f3a\"],[0.8888888888888888,\"#fdca26\"],[1.0,\"#f0f921\"]],\"type\":\"heatmapgl\"}],\"heatmap\":[{\"colorbar\":{\"outlinewidth\":0,\"ticks\":\"\"},\"colorscale\":[[0.0,\"#0d0887\"],[0.1111111111111111,\"#46039f\"],[0.2222222222222222,\"#7201a8\"],[0.3333333333333333,\"#9c179e\"],[0.4444444444444444,\"#bd3786\"],[0.5555555555555556,\"#d8576b\"],[0.6666666666666666,\"#ed7953\"],[0.7777777777777778,\"#fb9f3a\"],[0.8888888888888888,\"#fdca26\"],[1.0,\"#f0f921\"]],\"type\":\"heatmap\"}],\"histogram2dcontour\":[{\"colorbar\":{\"outlinewidth\":0,\"ticks\":\"\"},\"colorscale\":[[0.0,\"#0d0887\"],[0.1111111111111111,\"#46039f\"],[0.2222222222222222,\"#7201a8\"],[0.3333333333333333,\"#9c179e\"],[0.4444444444444444,\"#bd3786\"],[0.5555555555555556,\"#d8576b\"],[0.6666666666666666,\"#ed7953\"],[0.7777777777777778,\"#fb9f3a\"],[0.8888888888888888,\"#fdca26\"],[1.0,\"#f0f921\"]],\"type\":\"histogram2dcontour\"}],\"histogram2d\":[{\"colorbar\":{\"outlinewidth\":0,\"ticks\":\"\"},\"colorscale\":[[0.0,\"#0d0887\"],[0.1111111111111111,\"#46039f\"],[0.2222222222222222,\"#7201a8\"],[0.3333333333333333,\"#9c179e\"],[0.4444444444444444,\"#bd3786\"],[0.5555555555555556,\"#d8576b\"],[0.6666666666666666,\"#ed7953\"],[0.7777777777777778,\"#fb9f3a\"],[0.8888888888888888,\"#fdca26\"],[1.0,\"#f0f921\"]],\"type\":\"histogram2d\"}],\"histogram\":[{\"marker\":{\"pattern\":{\"fillmode\":\"overlay\",\"size\":10,\"solidity\":0.2}},\"type\":\"histogram\"}],\"mesh3d\":[{\"colorbar\":{\"outlinewidth\":0,\"ticks\":\"\"},\"type\":\"mesh3d\"}],\"parcoords\":[{\"line\":{\"colorbar\":{\"outlinewidth\":0,\"ticks\":\"\"}},\"type\":\"parcoords\"}],\"pie\":[{\"automargin\":true,\"type\":\"pie\"}],\"scatter3d\":[{\"line\":{\"colorbar\":{\"outlinewidth\":0,\"ticks\":\"\"}},\"marker\":{\"colorbar\":{\"outlinewidth\":0,\"ticks\":\"\"}},\"type\":\"scatter3d\"}],\"scattercarpet\":[{\"marker\":{\"colorbar\":{\"outlinewidth\":0,\"ticks\":\"\"}},\"type\":\"scattercarpet\"}],\"scattergeo\":[{\"marker\":{\"colorbar\":{\"outlinewidth\":0,\"ticks\":\"\"}},\"type\":\"scattergeo\"}],\"scattergl\":[{\"marker\":{\"colorbar\":{\"outlinewidth\":0,\"ticks\":\"\"}},\"type\":\"scattergl\"}],\"scattermapbox\":[{\"marker\":{\"colorbar\":{\"outlinewidth\":0,\"ticks\":\"\"}},\"type\":\"scattermapbox\"}],\"scatterpolargl\":[{\"marker\":{\"colorbar\":{\"outlinewidth\":0,\"ticks\":\"\"}},\"type\":\"scatterpolargl\"}],\"scatterpolar\":[{\"marker\":{\"colorbar\":{\"outlinewidth\":0,\"ticks\":\"\"}},\"type\":\"scatterpolar\"}],\"scatter\":[{\"fillpattern\":{\"fillmode\":\"overlay\",\"size\":10,\"solidity\":0.2},\"type\":\"scatter\"}],\"scatterternary\":[{\"marker\":{\"colorbar\":{\"outlinewidth\":0,\"ticks\":\"\"}},\"type\":\"scatterternary\"}],\"surface\":[{\"colorbar\":{\"outlinewidth\":0,\"ticks\":\"\"},\"colorscale\":[[0.0,\"#0d0887\"],[0.1111111111111111,\"#46039f\"],[0.2222222222222222,\"#7201a8\"],[0.3333333333333333,\"#9c179e\"],[0.4444444444444444,\"#bd3786\"],[0.5555555555555556,\"#d8576b\"],[0.6666666666666666,\"#ed7953\"],[0.7777777777777778,\"#fb9f3a\"],[0.8888888888888888,\"#fdca26\"],[1.0,\"#f0f921\"]],\"type\":\"surface\"}],\"table\":[{\"cells\":{\"fill\":{\"color\":\"#EBF0F8\"},\"line\":{\"color\":\"white\"}},\"header\":{\"fill\":{\"color\":\"#C8D4E3\"},\"line\":{\"color\":\"white\"}},\"type\":\"table\"}]},\"layout\":{\"annotationdefaults\":{\"arrowcolor\":\"#2a3f5f\",\"arrowhead\":0,\"arrowwidth\":1},\"autotypenumbers\":\"strict\",\"coloraxis\":{\"colorbar\":{\"outlinewidth\":0,\"ticks\":\"\"}},\"colorscale\":{\"diverging\":[[0,\"#8e0152\"],[0.1,\"#c51b7d\"],[0.2,\"#de77ae\"],[0.3,\"#f1b6da\"],[0.4,\"#fde0ef\"],[0.5,\"#f7f7f7\"],[0.6,\"#e6f5d0\"],[0.7,\"#b8e186\"],[0.8,\"#7fbc41\"],[0.9,\"#4d9221\"],[1,\"#276419\"]],\"sequential\":[[0.0,\"#0d0887\"],[0.1111111111111111,\"#46039f\"],[0.2222222222222222,\"#7201a8\"],[0.3333333333333333,\"#9c179e\"],[0.4444444444444444,\"#bd3786\"],[0.5555555555555556,\"#d8576b\"],[0.6666666666666666,\"#ed7953\"],[0.7777777777777778,\"#fb9f3a\"],[0.8888888888888888,\"#fdca26\"],[1.0,\"#f0f921\"]],\"sequentialminus\":[[0.0,\"#0d0887\"],[0.1111111111111111,\"#46039f\"],[0.2222222222222222,\"#7201a8\"],[0.3333333333333333,\"#9c179e\"],[0.4444444444444444,\"#bd3786\"],[0.5555555555555556,\"#d8576b\"],[0.6666666666666666,\"#ed7953\"],[0.7777777777777778,\"#fb9f3a\"],[0.8888888888888888,\"#fdca26\"],[1.0,\"#f0f921\"]]},\"colorway\":[\"#636efa\",\"#EF553B\",\"#00cc96\",\"#ab63fa\",\"#FFA15A\",\"#19d3f3\",\"#FF6692\",\"#B6E880\",\"#FF97FF\",\"#FECB52\"],\"font\":{\"color\":\"#2a3f5f\"},\"geo\":{\"bgcolor\":\"white\",\"lakecolor\":\"white\",\"landcolor\":\"#E5ECF6\",\"showlakes\":true,\"showland\":true,\"subunitcolor\":\"white\"},\"hoverlabel\":{\"align\":\"left\"},\"hovermode\":\"closest\",\"mapbox\":{\"style\":\"light\"},\"paper_bgcolor\":\"white\",\"plot_bgcolor\":\"#E5ECF6\",\"polar\":{\"angularaxis\":{\"gridcolor\":\"white\",\"linecolor\":\"white\",\"ticks\":\"\"},\"bgcolor\":\"#E5ECF6\",\"radialaxis\":{\"gridcolor\":\"white\",\"linecolor\":\"white\",\"ticks\":\"\"}},\"scene\":{\"xaxis\":{\"backgroundcolor\":\"#E5ECF6\",\"gridcolor\":\"white\",\"gridwidth\":2,\"linecolor\":\"white\",\"showbackground\":true,\"ticks\":\"\",\"zerolinecolor\":\"white\"},\"yaxis\":{\"backgroundcolor\":\"#E5ECF6\",\"gridcolor\":\"white\",\"gridwidth\":2,\"linecolor\":\"white\",\"showbackground\":true,\"ticks\":\"\",\"zerolinecolor\":\"white\"},\"zaxis\":{\"backgroundcolor\":\"#E5ECF6\",\"gridcolor\":\"white\",\"gridwidth\":2,\"linecolor\":\"white\",\"showbackground\":true,\"ticks\":\"\",\"zerolinecolor\":\"white\"}},\"shapedefaults\":{\"line\":{\"color\":\"#2a3f5f\"}},\"ternary\":{\"aaxis\":{\"gridcolor\":\"white\",\"linecolor\":\"white\",\"ticks\":\"\"},\"baxis\":{\"gridcolor\":\"white\",\"linecolor\":\"white\",\"ticks\":\"\"},\"bgcolor\":\"#E5ECF6\",\"caxis\":{\"gridcolor\":\"white\",\"linecolor\":\"white\",\"ticks\":\"\"}},\"title\":{\"x\":0.05},\"xaxis\":{\"automargin\":true,\"gridcolor\":\"white\",\"linecolor\":\"white\",\"ticks\":\"\",\"title\":{\"standoff\":15},\"zerolinecolor\":\"white\",\"zerolinewidth\":2},\"yaxis\":{\"automargin\":true,\"gridcolor\":\"white\",\"linecolor\":\"white\",\"ticks\":\"\",\"title\":{\"standoff\":15},\"zerolinecolor\":\"white\",\"zerolinewidth\":2}}},\"title\":{\"font\":{\"color\":\"#4D5663\"}},\"xaxis\":{\"gridcolor\":\"#E1E5ED\",\"showgrid\":true,\"tickfont\":{\"color\":\"#4D5663\"},\"title\":{\"font\":{\"color\":\"#4D5663\"},\"text\":\"\"},\"zerolinecolor\":\"#E1E5ED\"},\"yaxis\":{\"gridcolor\":\"#E1E5ED\",\"showgrid\":true,\"tickfont\":{\"color\":\"#4D5663\"},\"title\":{\"font\":{\"color\":\"#4D5663\"},\"text\":\"\"},\"zerolinecolor\":\"#E1E5ED\"}},                        {\"showLink\": true, \"linkText\": \"Export to plot.ly\", \"plotlyServerURL\": \"https://plot.ly\", \"responsive\": true}                    ).then(function(){\n                            \nvar gd = document.getElementById('2131b315-f1ee-405f-8728-a78ac6cc93b5');\nvar x = new MutationObserver(function (mutations, observer) {{\n        var display = window.getComputedStyle(gd).display;\n        if (!display || display === 'none') {{\n            console.log([gd, 'removed!']);\n            Plotly.purge(gd);\n            observer.disconnect();\n        }}\n}});\n\n// Listen for the removal of the full notebook cells\nvar notebookContainer = gd.closest('#notebook-container');\nif (notebookContainer) {{\n    x.observe(notebookContainer, {childList: true});\n}}\n\n// Listen for the clearing of the current output cell\nvar outputEl = gd.closest('.output');\nif (outputEl) {{\n    x.observe(outputEl, {childList: true});\n}}\n\n                        })                };                });            </script>        </div>"
     },
     "metadata": {},
     "output_type": "display_data"
    }
   ],
   "source": [
    "df.mean().iplot(kind='bar')"
   ],
   "metadata": {
    "collapsed": false,
    "pycharm": {
     "name": "#%%\n"
    }
   }
  },
  {
   "cell_type": "code",
   "execution_count": 34,
   "outputs": [
    {
     "data": {
      "application/vnd.plotly.v1+json": {
       "data": [
        {
         "boxpoints": false,
         "line": {
          "width": 1.3
         },
         "marker": {
          "color": "rgba(255, 153, 51, 1.0)"
         },
         "name": "A",
         "orientation": "v",
         "y": [
          1.80900659363173,
          0.035274995502989924,
          -1.3725782517059886,
          0.012016290428291753,
          1.000469906945173,
          -0.6195273127982366,
          -0.5493763932833622,
          -0.9911107758158834,
          0.23248967391723316,
          -0.14506312346767283,
          0.34184931249590944,
          0.2715616077472833,
          0.8393674963432226,
          -0.10711850809753216,
          1.8812271802120675,
          1.0538530621847526,
          -0.29984010726672844,
          -1.0005896037131567,
          0.6236039509447258,
          2.547660303248421,
          0.3645808633949736,
          0.7584190685180403,
          -1.3718605252785057,
          1.1236466096015902,
          -0.6575364883108161,
          -0.7435742465354352,
          -0.9510929805192601,
          -0.7250355706046863,
          -0.3010833740014651,
          -0.8365580045456453,
          0.5375896300969594,
          0.4250820358790253,
          -1.4817640383211563,
          1.0742946624051832,
          -1.6615502948070402,
          -0.4539105034533779,
          0.9627637686417985,
          1.0917899219961893,
          0.40651750118727115,
          0.30539547233503134,
          0.7154867771216606,
          0.4988743495347605,
          0.8934197814724031,
          -0.7226701733307364,
          -0.6212640967281962,
          -0.20366491195303663,
          0.6293167407460972,
          0.932849322897483,
          0.0889989385329877,
          -0.009742713919367142,
          0.8547431702291997,
          -0.06513079400429111,
          -0.5810102718413085,
          -0.9663593983135926,
          0.6305616168977342,
          1.9913392481918006,
          -1.9776861325927175,
          2.0202457074867883,
          -1.0347658552177048,
          -0.6695623864365713,
          1.183237535410795,
          0.4225713154856195,
          1.2265275340992094,
          -1.620088276804922,
          0.36251610386564465,
          -0.39921777940713343,
          0.19623576958325684,
          -0.28567696303803214,
          -0.40868573997383634,
          0.4589878761780295,
          -0.8307604519242388,
          0.46409171043276753,
          -0.7934822881525643,
          -0.48507069853990153,
          1.0898652590025368,
          -1.3743038367541152,
          0.581212864653542,
          0.30331914137158783,
          -1.2179046818674735,
          -2.103526750442117,
          0.6834448164214543,
          -0.15730645803113177,
          0.9021369402599491,
          -1.1694166086342517,
          0.8148051426930465,
          0.9444288848742953,
          -0.6589176826651596,
          0.5351669268927843,
          0.20689663682579865,
          0.832979037395156,
          0.5435340867904964,
          1.2929265303581408,
          -1.014503830555063,
          1.3097655276016194,
          -0.3053438162070056,
          -0.828368648201911,
          1.189594403334678,
          -0.37242628836792796,
          0.42166106976218076,
          -0.7112018906041686
         ],
         "type": "box"
        },
        {
         "boxpoints": false,
         "line": {
          "width": 1.3
         },
         "marker": {
          "color": "rgba(55, 128, 191, 1.0)"
         },
         "name": "B",
         "orientation": "v",
         "y": [
          0.9062930594144116,
          -1.4386362389423506,
          1.1369677802935936,
          2.3716105706749393,
          1.148561136980701,
          1.6384945821750838,
          -1.0740830064136329,
          -0.43741065236894316,
          0.5358574650869486,
          -0.2698795505516891,
          2.0197447105345563,
          0.4338245435899058,
          -0.6403534451698525,
          -1.895132322156619,
          0.047493285900842584,
          -0.21672463780566728,
          0.5117649446224504,
          0.7263239901604835,
          -1.4270079547470809,
          1.1684892701521439,
          -0.07635059518062,
          1.015995199829917,
          1.7008504923460286,
          -0.6630221858617115,
          -0.12131160545398256,
          2.201409865619109,
          1.5871548335880958,
          -1.4170235508141886,
          0.4156143179575276,
          -1.011196408980938,
          0.19523384068338345,
          -0.505399740247492,
          0.5600637862451191,
          -1.626626394671511,
          -2.242945396816825,
          -0.3172556011350909,
          0.15744150179076394,
          -0.6441237430038943,
          -1.154805552889705,
          1.0045417479266496,
          1.497029918691306,
          -1.374787336108716,
          0.09899565870554397,
          0.6142923431050662,
          -0.7587059584886806,
          1.4865210628371175,
          0.7245101896757082,
          2.212384737378364,
          1.1415859663818204,
          -0.48716608639593195,
          -1.492873229229848,
          -1.5580771150038115,
          0.7487385861972751,
          -0.4069196752359965,
          -1.0686371070370626,
          1.8751590252659465,
          -0.9859316483422285,
          -0.40126887692683005,
          1.3394051974576617,
          0.3400675786361936,
          1.6939200545861288,
          -1.2304126744784363,
          -0.009358785317534316,
          1.32881769350092,
          0.6380471903856916,
          -1.127888255950146,
          0.1362958685262489,
          0.9844415462026761,
          -2.3449585435451508,
          -1.1988283052407933,
          0.5902775129859864,
          -0.2816083952687804,
          2.170089395418066,
          -0.7535625814479999,
          0.1256440369012715,
          1.0710620740031642,
          -0.15147133419631562,
          0.708410299017189,
          0.5601583538557442,
          -1.0401882243373572,
          1.7056167441988201,
          0.6850843008365208,
          0.2524170417029744,
          0.4239316576340395,
          0.30856412170761116,
          -0.8120128362314452,
          -1.0248295324212153,
          0.9691832786744989,
          -0.7809378279230037,
          0.5199528377506104,
          -0.5823558298607444,
          0.02242888516997846,
          -1.8483439458823425,
          0.1683359982946268,
          0.44883480148149857,
          0.27644036079912226,
          0.5001592299352902,
          1.707276028881522,
          -0.3499034827519047,
          -0.1658350539232574
         ],
         "type": "box"
        },
        {
         "boxpoints": false,
         "line": {
          "width": 1.3
         },
         "marker": {
          "color": "rgba(50, 171, 96, 1.0)"
         },
         "name": "C",
         "orientation": "v",
         "y": [
          0.7692336532458728,
          0.5333344342194399,
          -0.8424260604443445,
          0.3203662543997597,
          0.08458846535047407,
          0.45708539683904553,
          -0.8498855129462245,
          1.4745690013341044,
          2.6909016970258177,
          0.5668709264460764,
          -0.05897494253507211,
          -1.836392380931625,
          1.499808814285216,
          1.4259194751034947,
          -0.08578597513422263,
          0.5560973770990663,
          -0.7584165794397412,
          -1.6105588097346335,
          -0.9074161291122519,
          0.3796037005268845,
          0.3311762861032556,
          -1.3602628819660034,
          -0.9799612820273028,
          -1.6539675770208235,
          -0.13518856728836234,
          -2.0519815390489096,
          0.7076017949132091,
          0.5777492285351216,
          0.8814525993925905,
          0.23198923387472098,
          0.5739648399528666,
          -0.9187331726443511,
          0.2378113368211414,
          0.18452376474838614,
          0.9618846352603138,
          0.04674987985743832,
          -0.19242409419798356,
          0.37406378090710063,
          -0.22470081855415733,
          -0.4221861958292879,
          0.6377575043253557,
          0.37186014681579505,
          0.9885200426741549,
          0.5846281676474738,
          -0.8857207063528001,
          0.951745296972654,
          1.433580628428485,
          2.2051673520189827,
          -1.7345907838590167,
          0.24276875299650547,
          -0.8525885975006535,
          -0.8533236132402129,
          -1.941001109878793,
          -0.061780947174691896,
          -1.1697568526208222,
          1.126896428706196,
          -0.3179738015899636,
          -0.9912010770982428,
          -1.0511344497209492,
          1.827771784627446,
          -0.326139141984017,
          -0.521984694424672,
          -1.1909121583420728,
          0.9304877086589227,
          -1.4926195618704994,
          -0.04856994266672939,
          -0.5332888237553048,
          -0.6888200985211754,
          0.004881621023809477,
          0.2969949279946919,
          0.15584434040490944,
          -0.30955808996868645,
          0.47386778091716025,
          0.583986268346228,
          1.019454808285895,
          -0.6878330822641515,
          0.5175531626481035,
          -0.7815075116688344,
          0.49634237721186597,
          -1.4827609600037182,
          -0.016543171729132132,
          -0.8007147586706331,
          0.04434472691612747,
          0.04412174249588713,
          -2.21327013820518,
          0.037192344719893536,
          -0.9390081221051154,
          -0.7828138328182563,
          -0.3415125355976032,
          0.23650650730818906,
          0.30889760418237094,
          1.5513678854253037,
          -1.7509145536551753,
          -0.169155621033073,
          0.809684981401493,
          1.0319304185412423,
          0.9980808541912738,
          1.0774436660316213,
          0.8738553331372387,
          0.2167626281308094
         ],
         "type": "box"
        },
        {
         "boxpoints": false,
         "line": {
          "width": 1.3
         },
         "marker": {
          "color": "rgba(128, 0, 128, 1.0)"
         },
         "name": "D",
         "orientation": "v",
         "y": [
          0.3675217620137849,
          2.7427008466781437,
          0.6255220737570883,
          -0.6770631133142064,
          0.8611524003693977,
          0.7325189915909454,
          -0.4912724703434503,
          -0.08990027233534309,
          0.7249810254170888,
          -0.44406845694832436,
          -0.11519998235144457,
          0.057807570007680414,
          1.4468154496869319,
          -1.3063691460575648,
          -1.0976511461538079,
          -0.144521111054121,
          0.9851894657897402,
          -0.3669124238805727,
          0.3900440966830113,
          -0.46883403147472796,
          0.5607883602873852,
          0.1959664854253068,
          -1.4388522302244997,
          0.9792903647735527,
          1.1534094018283618,
          0.4615133516294498,
          2.1918183430754277,
          0.5250412928758622,
          0.5001386622284841,
          0.2551536355520732,
          -0.005412224012686471,
          2.9221341098244342,
          -0.4649633760002535,
          0.604687207147699,
          0.9866743322343967,
          0.3713940127701445,
          -2.5879431288336234,
          -1.2628569935111595,
          0.8034675576116896,
          -0.7931092449981392,
          0.7424776291875992,
          0.13392997568809864,
          -1.3518633088238048,
          0.8622365479976225,
          -0.2407342066956001,
          -0.9783801026300155,
          0.7209797859368154,
          -0.38282624621694294,
          1.5716146462366636,
          -1.1665957113627479,
          0.6187301632857698,
          -2.186120621478108,
          -0.2426136169446369,
          0.44237996405091246,
          0.31750637266024034,
          -1.9937679194820443,
          -1.2624546771878686,
          -0.44884460876428806,
          0.6306675068396437,
          1.7501367095384082,
          0.48863891048392044,
          2.602313512763461,
          1.002570057651446,
          1.467085093335372,
          0.9369319026249344,
          1.7703646291362558,
          -1.1796240772203925,
          0.12617597344252518,
          -0.25609278999498675,
          -0.1115932258436591,
          0.12511197337113492,
          -0.1990422032617427,
          -0.5663920105336755,
          -1.5735449206488776,
          -0.43762023976950404,
          -1.0756184575691374,
          1.7639056749230035,
          0.19731050169828362,
          -0.11699890130357059,
          0.2773473721477822,
          0.7413590505157498,
          2.0416402836649428,
          0.576779671318424,
          -0.30937664994093284,
          1.0785633811816857,
          -0.2743774523138238,
          0.8892491714545185,
          0.5640933722954883,
          0.983842824464235,
          1.1610759271421396,
          -0.4509459056346206,
          -0.7272001536229342,
          -0.3257182965001095,
          0.1958487766367504,
          -2.372334453426788,
          0.2086402255634171,
          -0.7278070326688642,
          -1.3179084583713245,
          -1.2594262664854154,
          -0.9035664023169915
         ],
         "type": "box"
        }
       ],
       "layout": {
        "legend": {
         "bgcolor": "#F5F6F9",
         "font": {
          "color": "#4D5663"
         }
        },
        "paper_bgcolor": "#F5F6F9",
        "plot_bgcolor": "#F5F6F9",
        "template": {
         "data": {
          "barpolar": [
           {
            "marker": {
             "line": {
              "color": "#E5ECF6",
              "width": 0.5
             },
             "pattern": {
              "fillmode": "overlay",
              "size": 10,
              "solidity": 0.2
             }
            },
            "type": "barpolar"
           }
          ],
          "bar": [
           {
            "error_x": {
             "color": "#2a3f5f"
            },
            "error_y": {
             "color": "#2a3f5f"
            },
            "marker": {
             "line": {
              "color": "#E5ECF6",
              "width": 0.5
             },
             "pattern": {
              "fillmode": "overlay",
              "size": 10,
              "solidity": 0.2
             }
            },
            "type": "bar"
           }
          ],
          "carpet": [
           {
            "aaxis": {
             "endlinecolor": "#2a3f5f",
             "gridcolor": "white",
             "linecolor": "white",
             "minorgridcolor": "white",
             "startlinecolor": "#2a3f5f"
            },
            "baxis": {
             "endlinecolor": "#2a3f5f",
             "gridcolor": "white",
             "linecolor": "white",
             "minorgridcolor": "white",
             "startlinecolor": "#2a3f5f"
            },
            "type": "carpet"
           }
          ],
          "choropleth": [
           {
            "colorbar": {
             "outlinewidth": 0,
             "ticks": ""
            },
            "type": "choropleth"
           }
          ],
          "contourcarpet": [
           {
            "colorbar": {
             "outlinewidth": 0,
             "ticks": ""
            },
            "type": "contourcarpet"
           }
          ],
          "contour": [
           {
            "colorbar": {
             "outlinewidth": 0,
             "ticks": ""
            },
            "colorscale": [
             [
              0.0,
              "#0d0887"
             ],
             [
              0.1111111111111111,
              "#46039f"
             ],
             [
              0.2222222222222222,
              "#7201a8"
             ],
             [
              0.3333333333333333,
              "#9c179e"
             ],
             [
              0.4444444444444444,
              "#bd3786"
             ],
             [
              0.5555555555555556,
              "#d8576b"
             ],
             [
              0.6666666666666666,
              "#ed7953"
             ],
             [
              0.7777777777777778,
              "#fb9f3a"
             ],
             [
              0.8888888888888888,
              "#fdca26"
             ],
             [
              1.0,
              "#f0f921"
             ]
            ],
            "type": "contour"
           }
          ],
          "heatmapgl": [
           {
            "colorbar": {
             "outlinewidth": 0,
             "ticks": ""
            },
            "colorscale": [
             [
              0.0,
              "#0d0887"
             ],
             [
              0.1111111111111111,
              "#46039f"
             ],
             [
              0.2222222222222222,
              "#7201a8"
             ],
             [
              0.3333333333333333,
              "#9c179e"
             ],
             [
              0.4444444444444444,
              "#bd3786"
             ],
             [
              0.5555555555555556,
              "#d8576b"
             ],
             [
              0.6666666666666666,
              "#ed7953"
             ],
             [
              0.7777777777777778,
              "#fb9f3a"
             ],
             [
              0.8888888888888888,
              "#fdca26"
             ],
             [
              1.0,
              "#f0f921"
             ]
            ],
            "type": "heatmapgl"
           }
          ],
          "heatmap": [
           {
            "colorbar": {
             "outlinewidth": 0,
             "ticks": ""
            },
            "colorscale": [
             [
              0.0,
              "#0d0887"
             ],
             [
              0.1111111111111111,
              "#46039f"
             ],
             [
              0.2222222222222222,
              "#7201a8"
             ],
             [
              0.3333333333333333,
              "#9c179e"
             ],
             [
              0.4444444444444444,
              "#bd3786"
             ],
             [
              0.5555555555555556,
              "#d8576b"
             ],
             [
              0.6666666666666666,
              "#ed7953"
             ],
             [
              0.7777777777777778,
              "#fb9f3a"
             ],
             [
              0.8888888888888888,
              "#fdca26"
             ],
             [
              1.0,
              "#f0f921"
             ]
            ],
            "type": "heatmap"
           }
          ],
          "histogram2dcontour": [
           {
            "colorbar": {
             "outlinewidth": 0,
             "ticks": ""
            },
            "colorscale": [
             [
              0.0,
              "#0d0887"
             ],
             [
              0.1111111111111111,
              "#46039f"
             ],
             [
              0.2222222222222222,
              "#7201a8"
             ],
             [
              0.3333333333333333,
              "#9c179e"
             ],
             [
              0.4444444444444444,
              "#bd3786"
             ],
             [
              0.5555555555555556,
              "#d8576b"
             ],
             [
              0.6666666666666666,
              "#ed7953"
             ],
             [
              0.7777777777777778,
              "#fb9f3a"
             ],
             [
              0.8888888888888888,
              "#fdca26"
             ],
             [
              1.0,
              "#f0f921"
             ]
            ],
            "type": "histogram2dcontour"
           }
          ],
          "histogram2d": [
           {
            "colorbar": {
             "outlinewidth": 0,
             "ticks": ""
            },
            "colorscale": [
             [
              0.0,
              "#0d0887"
             ],
             [
              0.1111111111111111,
              "#46039f"
             ],
             [
              0.2222222222222222,
              "#7201a8"
             ],
             [
              0.3333333333333333,
              "#9c179e"
             ],
             [
              0.4444444444444444,
              "#bd3786"
             ],
             [
              0.5555555555555556,
              "#d8576b"
             ],
             [
              0.6666666666666666,
              "#ed7953"
             ],
             [
              0.7777777777777778,
              "#fb9f3a"
             ],
             [
              0.8888888888888888,
              "#fdca26"
             ],
             [
              1.0,
              "#f0f921"
             ]
            ],
            "type": "histogram2d"
           }
          ],
          "histogram": [
           {
            "marker": {
             "pattern": {
              "fillmode": "overlay",
              "size": 10,
              "solidity": 0.2
             }
            },
            "type": "histogram"
           }
          ],
          "mesh3d": [
           {
            "colorbar": {
             "outlinewidth": 0,
             "ticks": ""
            },
            "type": "mesh3d"
           }
          ],
          "parcoords": [
           {
            "line": {
             "colorbar": {
              "outlinewidth": 0,
              "ticks": ""
             }
            },
            "type": "parcoords"
           }
          ],
          "pie": [
           {
            "automargin": true,
            "type": "pie"
           }
          ],
          "scatter3d": [
           {
            "line": {
             "colorbar": {
              "outlinewidth": 0,
              "ticks": ""
             }
            },
            "marker": {
             "colorbar": {
              "outlinewidth": 0,
              "ticks": ""
             }
            },
            "type": "scatter3d"
           }
          ],
          "scattercarpet": [
           {
            "marker": {
             "colorbar": {
              "outlinewidth": 0,
              "ticks": ""
             }
            },
            "type": "scattercarpet"
           }
          ],
          "scattergeo": [
           {
            "marker": {
             "colorbar": {
              "outlinewidth": 0,
              "ticks": ""
             }
            },
            "type": "scattergeo"
           }
          ],
          "scattergl": [
           {
            "marker": {
             "colorbar": {
              "outlinewidth": 0,
              "ticks": ""
             }
            },
            "type": "scattergl"
           }
          ],
          "scattermapbox": [
           {
            "marker": {
             "colorbar": {
              "outlinewidth": 0,
              "ticks": ""
             }
            },
            "type": "scattermapbox"
           }
          ],
          "scatterpolargl": [
           {
            "marker": {
             "colorbar": {
              "outlinewidth": 0,
              "ticks": ""
             }
            },
            "type": "scatterpolargl"
           }
          ],
          "scatterpolar": [
           {
            "marker": {
             "colorbar": {
              "outlinewidth": 0,
              "ticks": ""
             }
            },
            "type": "scatterpolar"
           }
          ],
          "scatter": [
           {
            "fillpattern": {
             "fillmode": "overlay",
             "size": 10,
             "solidity": 0.2
            },
            "type": "scatter"
           }
          ],
          "scatterternary": [
           {
            "marker": {
             "colorbar": {
              "outlinewidth": 0,
              "ticks": ""
             }
            },
            "type": "scatterternary"
           }
          ],
          "surface": [
           {
            "colorbar": {
             "outlinewidth": 0,
             "ticks": ""
            },
            "colorscale": [
             [
              0.0,
              "#0d0887"
             ],
             [
              0.1111111111111111,
              "#46039f"
             ],
             [
              0.2222222222222222,
              "#7201a8"
             ],
             [
              0.3333333333333333,
              "#9c179e"
             ],
             [
              0.4444444444444444,
              "#bd3786"
             ],
             [
              0.5555555555555556,
              "#d8576b"
             ],
             [
              0.6666666666666666,
              "#ed7953"
             ],
             [
              0.7777777777777778,
              "#fb9f3a"
             ],
             [
              0.8888888888888888,
              "#fdca26"
             ],
             [
              1.0,
              "#f0f921"
             ]
            ],
            "type": "surface"
           }
          ],
          "table": [
           {
            "cells": {
             "fill": {
              "color": "#EBF0F8"
             },
             "line": {
              "color": "white"
             }
            },
            "header": {
             "fill": {
              "color": "#C8D4E3"
             },
             "line": {
              "color": "white"
             }
            },
            "type": "table"
           }
          ]
         },
         "layout": {
          "annotationdefaults": {
           "arrowcolor": "#2a3f5f",
           "arrowhead": 0,
           "arrowwidth": 1
          },
          "autotypenumbers": "strict",
          "coloraxis": {
           "colorbar": {
            "outlinewidth": 0,
            "ticks": ""
           }
          },
          "colorscale": {
           "diverging": [
            [
             0,
             "#8e0152"
            ],
            [
             0.1,
             "#c51b7d"
            ],
            [
             0.2,
             "#de77ae"
            ],
            [
             0.3,
             "#f1b6da"
            ],
            [
             0.4,
             "#fde0ef"
            ],
            [
             0.5,
             "#f7f7f7"
            ],
            [
             0.6,
             "#e6f5d0"
            ],
            [
             0.7,
             "#b8e186"
            ],
            [
             0.8,
             "#7fbc41"
            ],
            [
             0.9,
             "#4d9221"
            ],
            [
             1,
             "#276419"
            ]
           ],
           "sequential": [
            [
             0.0,
             "#0d0887"
            ],
            [
             0.1111111111111111,
             "#46039f"
            ],
            [
             0.2222222222222222,
             "#7201a8"
            ],
            [
             0.3333333333333333,
             "#9c179e"
            ],
            [
             0.4444444444444444,
             "#bd3786"
            ],
            [
             0.5555555555555556,
             "#d8576b"
            ],
            [
             0.6666666666666666,
             "#ed7953"
            ],
            [
             0.7777777777777778,
             "#fb9f3a"
            ],
            [
             0.8888888888888888,
             "#fdca26"
            ],
            [
             1.0,
             "#f0f921"
            ]
           ],
           "sequentialminus": [
            [
             0.0,
             "#0d0887"
            ],
            [
             0.1111111111111111,
             "#46039f"
            ],
            [
             0.2222222222222222,
             "#7201a8"
            ],
            [
             0.3333333333333333,
             "#9c179e"
            ],
            [
             0.4444444444444444,
             "#bd3786"
            ],
            [
             0.5555555555555556,
             "#d8576b"
            ],
            [
             0.6666666666666666,
             "#ed7953"
            ],
            [
             0.7777777777777778,
             "#fb9f3a"
            ],
            [
             0.8888888888888888,
             "#fdca26"
            ],
            [
             1.0,
             "#f0f921"
            ]
           ]
          },
          "colorway": [
           "#636efa",
           "#EF553B",
           "#00cc96",
           "#ab63fa",
           "#FFA15A",
           "#19d3f3",
           "#FF6692",
           "#B6E880",
           "#FF97FF",
           "#FECB52"
          ],
          "font": {
           "color": "#2a3f5f"
          },
          "geo": {
           "bgcolor": "white",
           "lakecolor": "white",
           "landcolor": "#E5ECF6",
           "showlakes": true,
           "showland": true,
           "subunitcolor": "white"
          },
          "hoverlabel": {
           "align": "left"
          },
          "hovermode": "closest",
          "mapbox": {
           "style": "light"
          },
          "paper_bgcolor": "white",
          "plot_bgcolor": "#E5ECF6",
          "polar": {
           "angularaxis": {
            "gridcolor": "white",
            "linecolor": "white",
            "ticks": ""
           },
           "bgcolor": "#E5ECF6",
           "radialaxis": {
            "gridcolor": "white",
            "linecolor": "white",
            "ticks": ""
           }
          },
          "scene": {
           "xaxis": {
            "backgroundcolor": "#E5ECF6",
            "gridcolor": "white",
            "gridwidth": 2,
            "linecolor": "white",
            "showbackground": true,
            "ticks": "",
            "zerolinecolor": "white"
           },
           "yaxis": {
            "backgroundcolor": "#E5ECF6",
            "gridcolor": "white",
            "gridwidth": 2,
            "linecolor": "white",
            "showbackground": true,
            "ticks": "",
            "zerolinecolor": "white"
           },
           "zaxis": {
            "backgroundcolor": "#E5ECF6",
            "gridcolor": "white",
            "gridwidth": 2,
            "linecolor": "white",
            "showbackground": true,
            "ticks": "",
            "zerolinecolor": "white"
           }
          },
          "shapedefaults": {
           "line": {
            "color": "#2a3f5f"
           }
          },
          "ternary": {
           "aaxis": {
            "gridcolor": "white",
            "linecolor": "white",
            "ticks": ""
           },
           "baxis": {
            "gridcolor": "white",
            "linecolor": "white",
            "ticks": ""
           },
           "bgcolor": "#E5ECF6",
           "caxis": {
            "gridcolor": "white",
            "linecolor": "white",
            "ticks": ""
           }
          },
          "title": {
           "x": 0.05
          },
          "xaxis": {
           "automargin": true,
           "gridcolor": "white",
           "linecolor": "white",
           "ticks": "",
           "title": {
            "standoff": 15
           },
           "zerolinecolor": "white",
           "zerolinewidth": 2
          },
          "yaxis": {
           "automargin": true,
           "gridcolor": "white",
           "linecolor": "white",
           "ticks": "",
           "title": {
            "standoff": 15
           },
           "zerolinecolor": "white",
           "zerolinewidth": 2
          }
         }
        },
        "title": {
         "font": {
          "color": "#4D5663"
         }
        },
        "xaxis": {
         "gridcolor": "#E1E5ED",
         "showgrid": true,
         "tickfont": {
          "color": "#4D5663"
         },
         "title": {
          "font": {
           "color": "#4D5663"
          },
          "text": ""
         },
         "zerolinecolor": "#E1E5ED"
        },
        "yaxis": {
         "gridcolor": "#E1E5ED",
         "showgrid": true,
         "tickfont": {
          "color": "#4D5663"
         },
         "title": {
          "font": {
           "color": "#4D5663"
          },
          "text": ""
         },
         "zerolinecolor": "#E1E5ED"
        }
       },
       "config": {
        "showLink": true,
        "linkText": "Export to plot.ly",
        "plotlyServerURL": "https://plot.ly"
       }
      },
      "text/html": "<div>                            <div id=\"32c4af35-0216-4ab3-adb5-c4fef49c30e5\" class=\"plotly-graph-div\" style=\"height:525px; width:100%;\"></div>            <script type=\"text/javascript\">                require([\"plotly\"], function(Plotly) {                    window.PLOTLYENV=window.PLOTLYENV || {};\n                    window.PLOTLYENV.BASE_URL='https://plot.ly';                                    if (document.getElementById(\"32c4af35-0216-4ab3-adb5-c4fef49c30e5\")) {                    Plotly.newPlot(                        \"32c4af35-0216-4ab3-adb5-c4fef49c30e5\",                        [{\"boxpoints\":false,\"line\":{\"width\":1.3},\"marker\":{\"color\":\"rgba(255, 153, 51, 1.0)\"},\"name\":\"A\",\"orientation\":\"v\",\"y\":[1.80900659363173,0.035274995502989924,-1.3725782517059886,0.012016290428291753,1.000469906945173,-0.6195273127982366,-0.5493763932833622,-0.9911107758158834,0.23248967391723316,-0.14506312346767283,0.34184931249590944,0.2715616077472833,0.8393674963432226,-0.10711850809753216,1.8812271802120675,1.0538530621847526,-0.29984010726672844,-1.0005896037131567,0.6236039509447258,2.547660303248421,0.3645808633949736,0.7584190685180403,-1.3718605252785057,1.1236466096015902,-0.6575364883108161,-0.7435742465354352,-0.9510929805192601,-0.7250355706046863,-0.3010833740014651,-0.8365580045456453,0.5375896300969594,0.4250820358790253,-1.4817640383211563,1.0742946624051832,-1.6615502948070402,-0.4539105034533779,0.9627637686417985,1.0917899219961893,0.40651750118727115,0.30539547233503134,0.7154867771216606,0.4988743495347605,0.8934197814724031,-0.7226701733307364,-0.6212640967281962,-0.20366491195303663,0.6293167407460972,0.932849322897483,0.0889989385329877,-0.009742713919367142,0.8547431702291997,-0.06513079400429111,-0.5810102718413085,-0.9663593983135926,0.6305616168977342,1.9913392481918006,-1.9776861325927175,2.0202457074867883,-1.0347658552177048,-0.6695623864365713,1.183237535410795,0.4225713154856195,1.2265275340992094,-1.620088276804922,0.36251610386564465,-0.39921777940713343,0.19623576958325684,-0.28567696303803214,-0.40868573997383634,0.4589878761780295,-0.8307604519242388,0.46409171043276753,-0.7934822881525643,-0.48507069853990153,1.0898652590025368,-1.3743038367541152,0.581212864653542,0.30331914137158783,-1.2179046818674735,-2.103526750442117,0.6834448164214543,-0.15730645803113177,0.9021369402599491,-1.1694166086342517,0.8148051426930465,0.9444288848742953,-0.6589176826651596,0.5351669268927843,0.20689663682579865,0.832979037395156,0.5435340867904964,1.2929265303581408,-1.014503830555063,1.3097655276016194,-0.3053438162070056,-0.828368648201911,1.189594403334678,-0.37242628836792796,0.42166106976218076,-0.7112018906041686],\"type\":\"box\"},{\"boxpoints\":false,\"line\":{\"width\":1.3},\"marker\":{\"color\":\"rgba(55, 128, 191, 1.0)\"},\"name\":\"B\",\"orientation\":\"v\",\"y\":[0.9062930594144116,-1.4386362389423506,1.1369677802935936,2.3716105706749393,1.148561136980701,1.6384945821750838,-1.0740830064136329,-0.43741065236894316,0.5358574650869486,-0.2698795505516891,2.0197447105345563,0.4338245435899058,-0.6403534451698525,-1.895132322156619,0.047493285900842584,-0.21672463780566728,0.5117649446224504,0.7263239901604835,-1.4270079547470809,1.1684892701521439,-0.07635059518062,1.015995199829917,1.7008504923460286,-0.6630221858617115,-0.12131160545398256,2.201409865619109,1.5871548335880958,-1.4170235508141886,0.4156143179575276,-1.011196408980938,0.19523384068338345,-0.505399740247492,0.5600637862451191,-1.626626394671511,-2.242945396816825,-0.3172556011350909,0.15744150179076394,-0.6441237430038943,-1.154805552889705,1.0045417479266496,1.497029918691306,-1.374787336108716,0.09899565870554397,0.6142923431050662,-0.7587059584886806,1.4865210628371175,0.7245101896757082,2.212384737378364,1.1415859663818204,-0.48716608639593195,-1.492873229229848,-1.5580771150038115,0.7487385861972751,-0.4069196752359965,-1.0686371070370626,1.8751590252659465,-0.9859316483422285,-0.40126887692683005,1.3394051974576617,0.3400675786361936,1.6939200545861288,-1.2304126744784363,-0.009358785317534316,1.32881769350092,0.6380471903856916,-1.127888255950146,0.1362958685262489,0.9844415462026761,-2.3449585435451508,-1.1988283052407933,0.5902775129859864,-0.2816083952687804,2.170089395418066,-0.7535625814479999,0.1256440369012715,1.0710620740031642,-0.15147133419631562,0.708410299017189,0.5601583538557442,-1.0401882243373572,1.7056167441988201,0.6850843008365208,0.2524170417029744,0.4239316576340395,0.30856412170761116,-0.8120128362314452,-1.0248295324212153,0.9691832786744989,-0.7809378279230037,0.5199528377506104,-0.5823558298607444,0.02242888516997846,-1.8483439458823425,0.1683359982946268,0.44883480148149857,0.27644036079912226,0.5001592299352902,1.707276028881522,-0.3499034827519047,-0.1658350539232574],\"type\":\"box\"},{\"boxpoints\":false,\"line\":{\"width\":1.3},\"marker\":{\"color\":\"rgba(50, 171, 96, 1.0)\"},\"name\":\"C\",\"orientation\":\"v\",\"y\":[0.7692336532458728,0.5333344342194399,-0.8424260604443445,0.3203662543997597,0.08458846535047407,0.45708539683904553,-0.8498855129462245,1.4745690013341044,2.6909016970258177,0.5668709264460764,-0.05897494253507211,-1.836392380931625,1.499808814285216,1.4259194751034947,-0.08578597513422263,0.5560973770990663,-0.7584165794397412,-1.6105588097346335,-0.9074161291122519,0.3796037005268845,0.3311762861032556,-1.3602628819660034,-0.9799612820273028,-1.6539675770208235,-0.13518856728836234,-2.0519815390489096,0.7076017949132091,0.5777492285351216,0.8814525993925905,0.23198923387472098,0.5739648399528666,-0.9187331726443511,0.2378113368211414,0.18452376474838614,0.9618846352603138,0.04674987985743832,-0.19242409419798356,0.37406378090710063,-0.22470081855415733,-0.4221861958292879,0.6377575043253557,0.37186014681579505,0.9885200426741549,0.5846281676474738,-0.8857207063528001,0.951745296972654,1.433580628428485,2.2051673520189827,-1.7345907838590167,0.24276875299650547,-0.8525885975006535,-0.8533236132402129,-1.941001109878793,-0.061780947174691896,-1.1697568526208222,1.126896428706196,-0.3179738015899636,-0.9912010770982428,-1.0511344497209492,1.827771784627446,-0.326139141984017,-0.521984694424672,-1.1909121583420728,0.9304877086589227,-1.4926195618704994,-0.04856994266672939,-0.5332888237553048,-0.6888200985211754,0.004881621023809477,0.2969949279946919,0.15584434040490944,-0.30955808996868645,0.47386778091716025,0.583986268346228,1.019454808285895,-0.6878330822641515,0.5175531626481035,-0.7815075116688344,0.49634237721186597,-1.4827609600037182,-0.016543171729132132,-0.8007147586706331,0.04434472691612747,0.04412174249588713,-2.21327013820518,0.037192344719893536,-0.9390081221051154,-0.7828138328182563,-0.3415125355976032,0.23650650730818906,0.30889760418237094,1.5513678854253037,-1.7509145536551753,-0.169155621033073,0.809684981401493,1.0319304185412423,0.9980808541912738,1.0774436660316213,0.8738553331372387,0.2167626281308094],\"type\":\"box\"},{\"boxpoints\":false,\"line\":{\"width\":1.3},\"marker\":{\"color\":\"rgba(128, 0, 128, 1.0)\"},\"name\":\"D\",\"orientation\":\"v\",\"y\":[0.3675217620137849,2.7427008466781437,0.6255220737570883,-0.6770631133142064,0.8611524003693977,0.7325189915909454,-0.4912724703434503,-0.08990027233534309,0.7249810254170888,-0.44406845694832436,-0.11519998235144457,0.057807570007680414,1.4468154496869319,-1.3063691460575648,-1.0976511461538079,-0.144521111054121,0.9851894657897402,-0.3669124238805727,0.3900440966830113,-0.46883403147472796,0.5607883602873852,0.1959664854253068,-1.4388522302244997,0.9792903647735527,1.1534094018283618,0.4615133516294498,2.1918183430754277,0.5250412928758622,0.5001386622284841,0.2551536355520732,-0.005412224012686471,2.9221341098244342,-0.4649633760002535,0.604687207147699,0.9866743322343967,0.3713940127701445,-2.5879431288336234,-1.2628569935111595,0.8034675576116896,-0.7931092449981392,0.7424776291875992,0.13392997568809864,-1.3518633088238048,0.8622365479976225,-0.2407342066956001,-0.9783801026300155,0.7209797859368154,-0.38282624621694294,1.5716146462366636,-1.1665957113627479,0.6187301632857698,-2.186120621478108,-0.2426136169446369,0.44237996405091246,0.31750637266024034,-1.9937679194820443,-1.2624546771878686,-0.44884460876428806,0.6306675068396437,1.7501367095384082,0.48863891048392044,2.602313512763461,1.002570057651446,1.467085093335372,0.9369319026249344,1.7703646291362558,-1.1796240772203925,0.12617597344252518,-0.25609278999498675,-0.1115932258436591,0.12511197337113492,-0.1990422032617427,-0.5663920105336755,-1.5735449206488776,-0.43762023976950404,-1.0756184575691374,1.7639056749230035,0.19731050169828362,-0.11699890130357059,0.2773473721477822,0.7413590505157498,2.0416402836649428,0.576779671318424,-0.30937664994093284,1.0785633811816857,-0.2743774523138238,0.8892491714545185,0.5640933722954883,0.983842824464235,1.1610759271421396,-0.4509459056346206,-0.7272001536229342,-0.3257182965001095,0.1958487766367504,-2.372334453426788,0.2086402255634171,-0.7278070326688642,-1.3179084583713245,-1.2594262664854154,-0.9035664023169915],\"type\":\"box\"}],                        {\"legend\":{\"bgcolor\":\"#F5F6F9\",\"font\":{\"color\":\"#4D5663\"}},\"paper_bgcolor\":\"#F5F6F9\",\"plot_bgcolor\":\"#F5F6F9\",\"template\":{\"data\":{\"barpolar\":[{\"marker\":{\"line\":{\"color\":\"#E5ECF6\",\"width\":0.5},\"pattern\":{\"fillmode\":\"overlay\",\"size\":10,\"solidity\":0.2}},\"type\":\"barpolar\"}],\"bar\":[{\"error_x\":{\"color\":\"#2a3f5f\"},\"error_y\":{\"color\":\"#2a3f5f\"},\"marker\":{\"line\":{\"color\":\"#E5ECF6\",\"width\":0.5},\"pattern\":{\"fillmode\":\"overlay\",\"size\":10,\"solidity\":0.2}},\"type\":\"bar\"}],\"carpet\":[{\"aaxis\":{\"endlinecolor\":\"#2a3f5f\",\"gridcolor\":\"white\",\"linecolor\":\"white\",\"minorgridcolor\":\"white\",\"startlinecolor\":\"#2a3f5f\"},\"baxis\":{\"endlinecolor\":\"#2a3f5f\",\"gridcolor\":\"white\",\"linecolor\":\"white\",\"minorgridcolor\":\"white\",\"startlinecolor\":\"#2a3f5f\"},\"type\":\"carpet\"}],\"choropleth\":[{\"colorbar\":{\"outlinewidth\":0,\"ticks\":\"\"},\"type\":\"choropleth\"}],\"contourcarpet\":[{\"colorbar\":{\"outlinewidth\":0,\"ticks\":\"\"},\"type\":\"contourcarpet\"}],\"contour\":[{\"colorbar\":{\"outlinewidth\":0,\"ticks\":\"\"},\"colorscale\":[[0.0,\"#0d0887\"],[0.1111111111111111,\"#46039f\"],[0.2222222222222222,\"#7201a8\"],[0.3333333333333333,\"#9c179e\"],[0.4444444444444444,\"#bd3786\"],[0.5555555555555556,\"#d8576b\"],[0.6666666666666666,\"#ed7953\"],[0.7777777777777778,\"#fb9f3a\"],[0.8888888888888888,\"#fdca26\"],[1.0,\"#f0f921\"]],\"type\":\"contour\"}],\"heatmapgl\":[{\"colorbar\":{\"outlinewidth\":0,\"ticks\":\"\"},\"colorscale\":[[0.0,\"#0d0887\"],[0.1111111111111111,\"#46039f\"],[0.2222222222222222,\"#7201a8\"],[0.3333333333333333,\"#9c179e\"],[0.4444444444444444,\"#bd3786\"],[0.5555555555555556,\"#d8576b\"],[0.6666666666666666,\"#ed7953\"],[0.7777777777777778,\"#fb9f3a\"],[0.8888888888888888,\"#fdca26\"],[1.0,\"#f0f921\"]],\"type\":\"heatmapgl\"}],\"heatmap\":[{\"colorbar\":{\"outlinewidth\":0,\"ticks\":\"\"},\"colorscale\":[[0.0,\"#0d0887\"],[0.1111111111111111,\"#46039f\"],[0.2222222222222222,\"#7201a8\"],[0.3333333333333333,\"#9c179e\"],[0.4444444444444444,\"#bd3786\"],[0.5555555555555556,\"#d8576b\"],[0.6666666666666666,\"#ed7953\"],[0.7777777777777778,\"#fb9f3a\"],[0.8888888888888888,\"#fdca26\"],[1.0,\"#f0f921\"]],\"type\":\"heatmap\"}],\"histogram2dcontour\":[{\"colorbar\":{\"outlinewidth\":0,\"ticks\":\"\"},\"colorscale\":[[0.0,\"#0d0887\"],[0.1111111111111111,\"#46039f\"],[0.2222222222222222,\"#7201a8\"],[0.3333333333333333,\"#9c179e\"],[0.4444444444444444,\"#bd3786\"],[0.5555555555555556,\"#d8576b\"],[0.6666666666666666,\"#ed7953\"],[0.7777777777777778,\"#fb9f3a\"],[0.8888888888888888,\"#fdca26\"],[1.0,\"#f0f921\"]],\"type\":\"histogram2dcontour\"}],\"histogram2d\":[{\"colorbar\":{\"outlinewidth\":0,\"ticks\":\"\"},\"colorscale\":[[0.0,\"#0d0887\"],[0.1111111111111111,\"#46039f\"],[0.2222222222222222,\"#7201a8\"],[0.3333333333333333,\"#9c179e\"],[0.4444444444444444,\"#bd3786\"],[0.5555555555555556,\"#d8576b\"],[0.6666666666666666,\"#ed7953\"],[0.7777777777777778,\"#fb9f3a\"],[0.8888888888888888,\"#fdca26\"],[1.0,\"#f0f921\"]],\"type\":\"histogram2d\"}],\"histogram\":[{\"marker\":{\"pattern\":{\"fillmode\":\"overlay\",\"size\":10,\"solidity\":0.2}},\"type\":\"histogram\"}],\"mesh3d\":[{\"colorbar\":{\"outlinewidth\":0,\"ticks\":\"\"},\"type\":\"mesh3d\"}],\"parcoords\":[{\"line\":{\"colorbar\":{\"outlinewidth\":0,\"ticks\":\"\"}},\"type\":\"parcoords\"}],\"pie\":[{\"automargin\":true,\"type\":\"pie\"}],\"scatter3d\":[{\"line\":{\"colorbar\":{\"outlinewidth\":0,\"ticks\":\"\"}},\"marker\":{\"colorbar\":{\"outlinewidth\":0,\"ticks\":\"\"}},\"type\":\"scatter3d\"}],\"scattercarpet\":[{\"marker\":{\"colorbar\":{\"outlinewidth\":0,\"ticks\":\"\"}},\"type\":\"scattercarpet\"}],\"scattergeo\":[{\"marker\":{\"colorbar\":{\"outlinewidth\":0,\"ticks\":\"\"}},\"type\":\"scattergeo\"}],\"scattergl\":[{\"marker\":{\"colorbar\":{\"outlinewidth\":0,\"ticks\":\"\"}},\"type\":\"scattergl\"}],\"scattermapbox\":[{\"marker\":{\"colorbar\":{\"outlinewidth\":0,\"ticks\":\"\"}},\"type\":\"scattermapbox\"}],\"scatterpolargl\":[{\"marker\":{\"colorbar\":{\"outlinewidth\":0,\"ticks\":\"\"}},\"type\":\"scatterpolargl\"}],\"scatterpolar\":[{\"marker\":{\"colorbar\":{\"outlinewidth\":0,\"ticks\":\"\"}},\"type\":\"scatterpolar\"}],\"scatter\":[{\"fillpattern\":{\"fillmode\":\"overlay\",\"size\":10,\"solidity\":0.2},\"type\":\"scatter\"}],\"scatterternary\":[{\"marker\":{\"colorbar\":{\"outlinewidth\":0,\"ticks\":\"\"}},\"type\":\"scatterternary\"}],\"surface\":[{\"colorbar\":{\"outlinewidth\":0,\"ticks\":\"\"},\"colorscale\":[[0.0,\"#0d0887\"],[0.1111111111111111,\"#46039f\"],[0.2222222222222222,\"#7201a8\"],[0.3333333333333333,\"#9c179e\"],[0.4444444444444444,\"#bd3786\"],[0.5555555555555556,\"#d8576b\"],[0.6666666666666666,\"#ed7953\"],[0.7777777777777778,\"#fb9f3a\"],[0.8888888888888888,\"#fdca26\"],[1.0,\"#f0f921\"]],\"type\":\"surface\"}],\"table\":[{\"cells\":{\"fill\":{\"color\":\"#EBF0F8\"},\"line\":{\"color\":\"white\"}},\"header\":{\"fill\":{\"color\":\"#C8D4E3\"},\"line\":{\"color\":\"white\"}},\"type\":\"table\"}]},\"layout\":{\"annotationdefaults\":{\"arrowcolor\":\"#2a3f5f\",\"arrowhead\":0,\"arrowwidth\":1},\"autotypenumbers\":\"strict\",\"coloraxis\":{\"colorbar\":{\"outlinewidth\":0,\"ticks\":\"\"}},\"colorscale\":{\"diverging\":[[0,\"#8e0152\"],[0.1,\"#c51b7d\"],[0.2,\"#de77ae\"],[0.3,\"#f1b6da\"],[0.4,\"#fde0ef\"],[0.5,\"#f7f7f7\"],[0.6,\"#e6f5d0\"],[0.7,\"#b8e186\"],[0.8,\"#7fbc41\"],[0.9,\"#4d9221\"],[1,\"#276419\"]],\"sequential\":[[0.0,\"#0d0887\"],[0.1111111111111111,\"#46039f\"],[0.2222222222222222,\"#7201a8\"],[0.3333333333333333,\"#9c179e\"],[0.4444444444444444,\"#bd3786\"],[0.5555555555555556,\"#d8576b\"],[0.6666666666666666,\"#ed7953\"],[0.7777777777777778,\"#fb9f3a\"],[0.8888888888888888,\"#fdca26\"],[1.0,\"#f0f921\"]],\"sequentialminus\":[[0.0,\"#0d0887\"],[0.1111111111111111,\"#46039f\"],[0.2222222222222222,\"#7201a8\"],[0.3333333333333333,\"#9c179e\"],[0.4444444444444444,\"#bd3786\"],[0.5555555555555556,\"#d8576b\"],[0.6666666666666666,\"#ed7953\"],[0.7777777777777778,\"#fb9f3a\"],[0.8888888888888888,\"#fdca26\"],[1.0,\"#f0f921\"]]},\"colorway\":[\"#636efa\",\"#EF553B\",\"#00cc96\",\"#ab63fa\",\"#FFA15A\",\"#19d3f3\",\"#FF6692\",\"#B6E880\",\"#FF97FF\",\"#FECB52\"],\"font\":{\"color\":\"#2a3f5f\"},\"geo\":{\"bgcolor\":\"white\",\"lakecolor\":\"white\",\"landcolor\":\"#E5ECF6\",\"showlakes\":true,\"showland\":true,\"subunitcolor\":\"white\"},\"hoverlabel\":{\"align\":\"left\"},\"hovermode\":\"closest\",\"mapbox\":{\"style\":\"light\"},\"paper_bgcolor\":\"white\",\"plot_bgcolor\":\"#E5ECF6\",\"polar\":{\"angularaxis\":{\"gridcolor\":\"white\",\"linecolor\":\"white\",\"ticks\":\"\"},\"bgcolor\":\"#E5ECF6\",\"radialaxis\":{\"gridcolor\":\"white\",\"linecolor\":\"white\",\"ticks\":\"\"}},\"scene\":{\"xaxis\":{\"backgroundcolor\":\"#E5ECF6\",\"gridcolor\":\"white\",\"gridwidth\":2,\"linecolor\":\"white\",\"showbackground\":true,\"ticks\":\"\",\"zerolinecolor\":\"white\"},\"yaxis\":{\"backgroundcolor\":\"#E5ECF6\",\"gridcolor\":\"white\",\"gridwidth\":2,\"linecolor\":\"white\",\"showbackground\":true,\"ticks\":\"\",\"zerolinecolor\":\"white\"},\"zaxis\":{\"backgroundcolor\":\"#E5ECF6\",\"gridcolor\":\"white\",\"gridwidth\":2,\"linecolor\":\"white\",\"showbackground\":true,\"ticks\":\"\",\"zerolinecolor\":\"white\"}},\"shapedefaults\":{\"line\":{\"color\":\"#2a3f5f\"}},\"ternary\":{\"aaxis\":{\"gridcolor\":\"white\",\"linecolor\":\"white\",\"ticks\":\"\"},\"baxis\":{\"gridcolor\":\"white\",\"linecolor\":\"white\",\"ticks\":\"\"},\"bgcolor\":\"#E5ECF6\",\"caxis\":{\"gridcolor\":\"white\",\"linecolor\":\"white\",\"ticks\":\"\"}},\"title\":{\"x\":0.05},\"xaxis\":{\"automargin\":true,\"gridcolor\":\"white\",\"linecolor\":\"white\",\"ticks\":\"\",\"title\":{\"standoff\":15},\"zerolinecolor\":\"white\",\"zerolinewidth\":2},\"yaxis\":{\"automargin\":true,\"gridcolor\":\"white\",\"linecolor\":\"white\",\"ticks\":\"\",\"title\":{\"standoff\":15},\"zerolinecolor\":\"white\",\"zerolinewidth\":2}}},\"title\":{\"font\":{\"color\":\"#4D5663\"}},\"xaxis\":{\"gridcolor\":\"#E1E5ED\",\"showgrid\":true,\"tickfont\":{\"color\":\"#4D5663\"},\"title\":{\"font\":{\"color\":\"#4D5663\"},\"text\":\"\"},\"zerolinecolor\":\"#E1E5ED\"},\"yaxis\":{\"gridcolor\":\"#E1E5ED\",\"showgrid\":true,\"tickfont\":{\"color\":\"#4D5663\"},\"title\":{\"font\":{\"color\":\"#4D5663\"},\"text\":\"\"},\"zerolinecolor\":\"#E1E5ED\"}},                        {\"showLink\": true, \"linkText\": \"Export to plot.ly\", \"plotlyServerURL\": \"https://plot.ly\", \"responsive\": true}                    ).then(function(){\n                            \nvar gd = document.getElementById('32c4af35-0216-4ab3-adb5-c4fef49c30e5');\nvar x = new MutationObserver(function (mutations, observer) {{\n        var display = window.getComputedStyle(gd).display;\n        if (!display || display === 'none') {{\n            console.log([gd, 'removed!']);\n            Plotly.purge(gd);\n            observer.disconnect();\n        }}\n}});\n\n// Listen for the removal of the full notebook cells\nvar notebookContainer = gd.closest('#notebook-container');\nif (notebookContainer) {{\n    x.observe(notebookContainer, {childList: true});\n}}\n\n// Listen for the clearing of the current output cell\nvar outputEl = gd.closest('.output');\nif (outputEl) {{\n    x.observe(outputEl, {childList: true});\n}}\n\n                        })                };                });            </script>        </div>"
     },
     "metadata": {},
     "output_type": "display_data"
    }
   ],
   "source": [
    "df.iplot(kind='box')"
   ],
   "metadata": {
    "collapsed": false,
    "pycharm": {
     "name": "#%%\n"
    }
   }
  },
  {
   "cell_type": "code",
   "execution_count": 38,
   "outputs": [],
   "source": [
    "df3 = pd.DataFrame({\n",
    "    'x':[1,2,3,4,5],\n",
    "    'y':[10,20,30,20,10],\n",
    "    'z':[5,4,3,2,1]\n",
    "})"
   ],
   "metadata": {
    "collapsed": false,
    "pycharm": {
     "name": "#%%\n"
    }
   }
  },
  {
   "cell_type": "code",
   "execution_count": 39,
   "outputs": [
    {
     "data": {
      "text/plain": "   x   y  z\n0  1  10  5\n1  2  20  4\n2  3  30  3\n3  4  20  2\n4  5  10  1",
      "text/html": "<div>\n<style scoped>\n    .dataframe tbody tr th:only-of-type {\n        vertical-align: middle;\n    }\n\n    .dataframe tbody tr th {\n        vertical-align: top;\n    }\n\n    .dataframe thead th {\n        text-align: right;\n    }\n</style>\n<table border=\"1\" class=\"dataframe\">\n  <thead>\n    <tr style=\"text-align: right;\">\n      <th></th>\n      <th>x</th>\n      <th>y</th>\n      <th>z</th>\n    </tr>\n  </thead>\n  <tbody>\n    <tr>\n      <th>0</th>\n      <td>1</td>\n      <td>10</td>\n      <td>5</td>\n    </tr>\n    <tr>\n      <th>1</th>\n      <td>2</td>\n      <td>20</td>\n      <td>4</td>\n    </tr>\n    <tr>\n      <th>2</th>\n      <td>3</td>\n      <td>30</td>\n      <td>3</td>\n    </tr>\n    <tr>\n      <th>3</th>\n      <td>4</td>\n      <td>20</td>\n      <td>2</td>\n    </tr>\n    <tr>\n      <th>4</th>\n      <td>5</td>\n      <td>10</td>\n      <td>1</td>\n    </tr>\n  </tbody>\n</table>\n</div>"
     },
     "execution_count": 39,
     "metadata": {},
     "output_type": "execute_result"
    }
   ],
   "source": [
    "df3"
   ],
   "metadata": {
    "collapsed": false,
    "pycharm": {
     "name": "#%%\n"
    }
   }
  },
  {
   "cell_type": "code",
   "execution_count": 46,
   "outputs": [
    {
     "data": {
      "application/vnd.plotly.v1+json": {
       "data": [
        {
         "colorscale": [
          [
           0.0,
           "rgb(165,0,38)"
          ],
          [
           0.1,
           "rgb(215,48,39)"
          ],
          [
           0.2,
           "rgb(244,109,67)"
          ],
          [
           0.3,
           "rgb(253,174,97)"
          ],
          [
           0.4,
           "rgb(254,224,144)"
          ],
          [
           0.5,
           "rgb(255,255,191)"
          ],
          [
           0.6,
           "rgb(224,243,248)"
          ],
          [
           0.7,
           "rgb(171,217,233)"
          ],
          [
           0.8,
           "rgb(116,173,209)"
          ],
          [
           0.9,
           "rgb(69,117,180)"
          ],
          [
           1.0,
           "rgb(49,54,149)"
          ]
         ],
         "x": [
          0,
          1,
          2,
          3,
          4
         ],
         "y": [
          "x",
          "y",
          "z"
         ],
         "z": [
          [
           1,
           2,
           3,
           4,
           5
          ],
          [
           10,
           20,
           30,
           20,
           10
          ],
          [
           5,
           4,
           3,
           2,
           1
          ]
         ],
         "type": "surface"
        }
       ],
       "layout": {
        "legend": {
         "bgcolor": "#F5F6F9",
         "font": {
          "color": "#4D5663"
         }
        },
        "paper_bgcolor": "#F5F6F9",
        "plot_bgcolor": "#F5F6F9",
        "template": {
         "data": {
          "barpolar": [
           {
            "marker": {
             "line": {
              "color": "#E5ECF6",
              "width": 0.5
             },
             "pattern": {
              "fillmode": "overlay",
              "size": 10,
              "solidity": 0.2
             }
            },
            "type": "barpolar"
           }
          ],
          "bar": [
           {
            "error_x": {
             "color": "#2a3f5f"
            },
            "error_y": {
             "color": "#2a3f5f"
            },
            "marker": {
             "line": {
              "color": "#E5ECF6",
              "width": 0.5
             },
             "pattern": {
              "fillmode": "overlay",
              "size": 10,
              "solidity": 0.2
             }
            },
            "type": "bar"
           }
          ],
          "carpet": [
           {
            "aaxis": {
             "endlinecolor": "#2a3f5f",
             "gridcolor": "white",
             "linecolor": "white",
             "minorgridcolor": "white",
             "startlinecolor": "#2a3f5f"
            },
            "baxis": {
             "endlinecolor": "#2a3f5f",
             "gridcolor": "white",
             "linecolor": "white",
             "minorgridcolor": "white",
             "startlinecolor": "#2a3f5f"
            },
            "type": "carpet"
           }
          ],
          "choropleth": [
           {
            "colorbar": {
             "outlinewidth": 0,
             "ticks": ""
            },
            "type": "choropleth"
           }
          ],
          "contourcarpet": [
           {
            "colorbar": {
             "outlinewidth": 0,
             "ticks": ""
            },
            "type": "contourcarpet"
           }
          ],
          "contour": [
           {
            "colorbar": {
             "outlinewidth": 0,
             "ticks": ""
            },
            "colorscale": [
             [
              0.0,
              "#0d0887"
             ],
             [
              0.1111111111111111,
              "#46039f"
             ],
             [
              0.2222222222222222,
              "#7201a8"
             ],
             [
              0.3333333333333333,
              "#9c179e"
             ],
             [
              0.4444444444444444,
              "#bd3786"
             ],
             [
              0.5555555555555556,
              "#d8576b"
             ],
             [
              0.6666666666666666,
              "#ed7953"
             ],
             [
              0.7777777777777778,
              "#fb9f3a"
             ],
             [
              0.8888888888888888,
              "#fdca26"
             ],
             [
              1.0,
              "#f0f921"
             ]
            ],
            "type": "contour"
           }
          ],
          "heatmapgl": [
           {
            "colorbar": {
             "outlinewidth": 0,
             "ticks": ""
            },
            "colorscale": [
             [
              0.0,
              "#0d0887"
             ],
             [
              0.1111111111111111,
              "#46039f"
             ],
             [
              0.2222222222222222,
              "#7201a8"
             ],
             [
              0.3333333333333333,
              "#9c179e"
             ],
             [
              0.4444444444444444,
              "#bd3786"
             ],
             [
              0.5555555555555556,
              "#d8576b"
             ],
             [
              0.6666666666666666,
              "#ed7953"
             ],
             [
              0.7777777777777778,
              "#fb9f3a"
             ],
             [
              0.8888888888888888,
              "#fdca26"
             ],
             [
              1.0,
              "#f0f921"
             ]
            ],
            "type": "heatmapgl"
           }
          ],
          "heatmap": [
           {
            "colorbar": {
             "outlinewidth": 0,
             "ticks": ""
            },
            "colorscale": [
             [
              0.0,
              "#0d0887"
             ],
             [
              0.1111111111111111,
              "#46039f"
             ],
             [
              0.2222222222222222,
              "#7201a8"
             ],
             [
              0.3333333333333333,
              "#9c179e"
             ],
             [
              0.4444444444444444,
              "#bd3786"
             ],
             [
              0.5555555555555556,
              "#d8576b"
             ],
             [
              0.6666666666666666,
              "#ed7953"
             ],
             [
              0.7777777777777778,
              "#fb9f3a"
             ],
             [
              0.8888888888888888,
              "#fdca26"
             ],
             [
              1.0,
              "#f0f921"
             ]
            ],
            "type": "heatmap"
           }
          ],
          "histogram2dcontour": [
           {
            "colorbar": {
             "outlinewidth": 0,
             "ticks": ""
            },
            "colorscale": [
             [
              0.0,
              "#0d0887"
             ],
             [
              0.1111111111111111,
              "#46039f"
             ],
             [
              0.2222222222222222,
              "#7201a8"
             ],
             [
              0.3333333333333333,
              "#9c179e"
             ],
             [
              0.4444444444444444,
              "#bd3786"
             ],
             [
              0.5555555555555556,
              "#d8576b"
             ],
             [
              0.6666666666666666,
              "#ed7953"
             ],
             [
              0.7777777777777778,
              "#fb9f3a"
             ],
             [
              0.8888888888888888,
              "#fdca26"
             ],
             [
              1.0,
              "#f0f921"
             ]
            ],
            "type": "histogram2dcontour"
           }
          ],
          "histogram2d": [
           {
            "colorbar": {
             "outlinewidth": 0,
             "ticks": ""
            },
            "colorscale": [
             [
              0.0,
              "#0d0887"
             ],
             [
              0.1111111111111111,
              "#46039f"
             ],
             [
              0.2222222222222222,
              "#7201a8"
             ],
             [
              0.3333333333333333,
              "#9c179e"
             ],
             [
              0.4444444444444444,
              "#bd3786"
             ],
             [
              0.5555555555555556,
              "#d8576b"
             ],
             [
              0.6666666666666666,
              "#ed7953"
             ],
             [
              0.7777777777777778,
              "#fb9f3a"
             ],
             [
              0.8888888888888888,
              "#fdca26"
             ],
             [
              1.0,
              "#f0f921"
             ]
            ],
            "type": "histogram2d"
           }
          ],
          "histogram": [
           {
            "marker": {
             "pattern": {
              "fillmode": "overlay",
              "size": 10,
              "solidity": 0.2
             }
            },
            "type": "histogram"
           }
          ],
          "mesh3d": [
           {
            "colorbar": {
             "outlinewidth": 0,
             "ticks": ""
            },
            "type": "mesh3d"
           }
          ],
          "parcoords": [
           {
            "line": {
             "colorbar": {
              "outlinewidth": 0,
              "ticks": ""
             }
            },
            "type": "parcoords"
           }
          ],
          "pie": [
           {
            "automargin": true,
            "type": "pie"
           }
          ],
          "scatter3d": [
           {
            "line": {
             "colorbar": {
              "outlinewidth": 0,
              "ticks": ""
             }
            },
            "marker": {
             "colorbar": {
              "outlinewidth": 0,
              "ticks": ""
             }
            },
            "type": "scatter3d"
           }
          ],
          "scattercarpet": [
           {
            "marker": {
             "colorbar": {
              "outlinewidth": 0,
              "ticks": ""
             }
            },
            "type": "scattercarpet"
           }
          ],
          "scattergeo": [
           {
            "marker": {
             "colorbar": {
              "outlinewidth": 0,
              "ticks": ""
             }
            },
            "type": "scattergeo"
           }
          ],
          "scattergl": [
           {
            "marker": {
             "colorbar": {
              "outlinewidth": 0,
              "ticks": ""
             }
            },
            "type": "scattergl"
           }
          ],
          "scattermapbox": [
           {
            "marker": {
             "colorbar": {
              "outlinewidth": 0,
              "ticks": ""
             }
            },
            "type": "scattermapbox"
           }
          ],
          "scatterpolargl": [
           {
            "marker": {
             "colorbar": {
              "outlinewidth": 0,
              "ticks": ""
             }
            },
            "type": "scatterpolargl"
           }
          ],
          "scatterpolar": [
           {
            "marker": {
             "colorbar": {
              "outlinewidth": 0,
              "ticks": ""
             }
            },
            "type": "scatterpolar"
           }
          ],
          "scatter": [
           {
            "fillpattern": {
             "fillmode": "overlay",
             "size": 10,
             "solidity": 0.2
            },
            "type": "scatter"
           }
          ],
          "scatterternary": [
           {
            "marker": {
             "colorbar": {
              "outlinewidth": 0,
              "ticks": ""
             }
            },
            "type": "scatterternary"
           }
          ],
          "surface": [
           {
            "colorbar": {
             "outlinewidth": 0,
             "ticks": ""
            },
            "colorscale": [
             [
              0.0,
              "#0d0887"
             ],
             [
              0.1111111111111111,
              "#46039f"
             ],
             [
              0.2222222222222222,
              "#7201a8"
             ],
             [
              0.3333333333333333,
              "#9c179e"
             ],
             [
              0.4444444444444444,
              "#bd3786"
             ],
             [
              0.5555555555555556,
              "#d8576b"
             ],
             [
              0.6666666666666666,
              "#ed7953"
             ],
             [
              0.7777777777777778,
              "#fb9f3a"
             ],
             [
              0.8888888888888888,
              "#fdca26"
             ],
             [
              1.0,
              "#f0f921"
             ]
            ],
            "type": "surface"
           }
          ],
          "table": [
           {
            "cells": {
             "fill": {
              "color": "#EBF0F8"
             },
             "line": {
              "color": "white"
             }
            },
            "header": {
             "fill": {
              "color": "#C8D4E3"
             },
             "line": {
              "color": "white"
             }
            },
            "type": "table"
           }
          ]
         },
         "layout": {
          "annotationdefaults": {
           "arrowcolor": "#2a3f5f",
           "arrowhead": 0,
           "arrowwidth": 1
          },
          "autotypenumbers": "strict",
          "coloraxis": {
           "colorbar": {
            "outlinewidth": 0,
            "ticks": ""
           }
          },
          "colorscale": {
           "diverging": [
            [
             0,
             "#8e0152"
            ],
            [
             0.1,
             "#c51b7d"
            ],
            [
             0.2,
             "#de77ae"
            ],
            [
             0.3,
             "#f1b6da"
            ],
            [
             0.4,
             "#fde0ef"
            ],
            [
             0.5,
             "#f7f7f7"
            ],
            [
             0.6,
             "#e6f5d0"
            ],
            [
             0.7,
             "#b8e186"
            ],
            [
             0.8,
             "#7fbc41"
            ],
            [
             0.9,
             "#4d9221"
            ],
            [
             1,
             "#276419"
            ]
           ],
           "sequential": [
            [
             0.0,
             "#0d0887"
            ],
            [
             0.1111111111111111,
             "#46039f"
            ],
            [
             0.2222222222222222,
             "#7201a8"
            ],
            [
             0.3333333333333333,
             "#9c179e"
            ],
            [
             0.4444444444444444,
             "#bd3786"
            ],
            [
             0.5555555555555556,
             "#d8576b"
            ],
            [
             0.6666666666666666,
             "#ed7953"
            ],
            [
             0.7777777777777778,
             "#fb9f3a"
            ],
            [
             0.8888888888888888,
             "#fdca26"
            ],
            [
             1.0,
             "#f0f921"
            ]
           ],
           "sequentialminus": [
            [
             0.0,
             "#0d0887"
            ],
            [
             0.1111111111111111,
             "#46039f"
            ],
            [
             0.2222222222222222,
             "#7201a8"
            ],
            [
             0.3333333333333333,
             "#9c179e"
            ],
            [
             0.4444444444444444,
             "#bd3786"
            ],
            [
             0.5555555555555556,
             "#d8576b"
            ],
            [
             0.6666666666666666,
             "#ed7953"
            ],
            [
             0.7777777777777778,
             "#fb9f3a"
            ],
            [
             0.8888888888888888,
             "#fdca26"
            ],
            [
             1.0,
             "#f0f921"
            ]
           ]
          },
          "colorway": [
           "#636efa",
           "#EF553B",
           "#00cc96",
           "#ab63fa",
           "#FFA15A",
           "#19d3f3",
           "#FF6692",
           "#B6E880",
           "#FF97FF",
           "#FECB52"
          ],
          "font": {
           "color": "#2a3f5f"
          },
          "geo": {
           "bgcolor": "white",
           "lakecolor": "white",
           "landcolor": "#E5ECF6",
           "showlakes": true,
           "showland": true,
           "subunitcolor": "white"
          },
          "hoverlabel": {
           "align": "left"
          },
          "hovermode": "closest",
          "mapbox": {
           "style": "light"
          },
          "paper_bgcolor": "white",
          "plot_bgcolor": "#E5ECF6",
          "polar": {
           "angularaxis": {
            "gridcolor": "white",
            "linecolor": "white",
            "ticks": ""
           },
           "bgcolor": "#E5ECF6",
           "radialaxis": {
            "gridcolor": "white",
            "linecolor": "white",
            "ticks": ""
           }
          },
          "scene": {
           "xaxis": {
            "backgroundcolor": "#E5ECF6",
            "gridcolor": "white",
            "gridwidth": 2,
            "linecolor": "white",
            "showbackground": true,
            "ticks": "",
            "zerolinecolor": "white"
           },
           "yaxis": {
            "backgroundcolor": "#E5ECF6",
            "gridcolor": "white",
            "gridwidth": 2,
            "linecolor": "white",
            "showbackground": true,
            "ticks": "",
            "zerolinecolor": "white"
           },
           "zaxis": {
            "backgroundcolor": "#E5ECF6",
            "gridcolor": "white",
            "gridwidth": 2,
            "linecolor": "white",
            "showbackground": true,
            "ticks": "",
            "zerolinecolor": "white"
           }
          },
          "shapedefaults": {
           "line": {
            "color": "#2a3f5f"
           }
          },
          "ternary": {
           "aaxis": {
            "gridcolor": "white",
            "linecolor": "white",
            "ticks": ""
           },
           "baxis": {
            "gridcolor": "white",
            "linecolor": "white",
            "ticks": ""
           },
           "bgcolor": "#E5ECF6",
           "caxis": {
            "gridcolor": "white",
            "linecolor": "white",
            "ticks": ""
           }
          },
          "title": {
           "x": 0.05
          },
          "xaxis": {
           "automargin": true,
           "gridcolor": "white",
           "linecolor": "white",
           "ticks": "",
           "title": {
            "standoff": 15
           },
           "zerolinecolor": "white",
           "zerolinewidth": 2
          },
          "yaxis": {
           "automargin": true,
           "gridcolor": "white",
           "linecolor": "white",
           "ticks": "",
           "title": {
            "standoff": 15
           },
           "zerolinecolor": "white",
           "zerolinewidth": 2
          }
         }
        },
        "title": {
         "font": {
          "color": "#4D5663"
         }
        },
        "xaxis": {
         "gridcolor": "#E1E5ED",
         "showgrid": true,
         "tickfont": {
          "color": "#4D5663"
         },
         "title": {
          "font": {
           "color": "#4D5663"
          },
          "text": ""
         },
         "zerolinecolor": "#E1E5ED"
        },
        "yaxis": {
         "gridcolor": "#E1E5ED",
         "showgrid": true,
         "tickfont": {
          "color": "#4D5663"
         },
         "title": {
          "font": {
           "color": "#4D5663"
          },
          "text": ""
         },
         "zerolinecolor": "#E1E5ED"
        }
       },
       "config": {
        "showLink": true,
        "linkText": "Export to plot.ly",
        "plotlyServerURL": "https://plot.ly"
       }
      },
      "text/html": "<div>                            <div id=\"cb26844d-1c75-434d-970d-bf3b150cfdaa\" class=\"plotly-graph-div\" style=\"height:525px; width:100%;\"></div>            <script type=\"text/javascript\">                require([\"plotly\"], function(Plotly) {                    window.PLOTLYENV=window.PLOTLYENV || {};\n                    window.PLOTLYENV.BASE_URL='https://plot.ly';                                    if (document.getElementById(\"cb26844d-1c75-434d-970d-bf3b150cfdaa\")) {                    Plotly.newPlot(                        \"cb26844d-1c75-434d-970d-bf3b150cfdaa\",                        [{\"colorscale\":[[0.0,\"rgb(165,0,38)\"],[0.1,\"rgb(215,48,39)\"],[0.2,\"rgb(244,109,67)\"],[0.3,\"rgb(253,174,97)\"],[0.4,\"rgb(254,224,144)\"],[0.5,\"rgb(255,255,191)\"],[0.6,\"rgb(224,243,248)\"],[0.7,\"rgb(171,217,233)\"],[0.8,\"rgb(116,173,209)\"],[0.9,\"rgb(69,117,180)\"],[1.0,\"rgb(49,54,149)\"]],\"x\":[0,1,2,3,4],\"y\":[\"x\",\"y\",\"z\"],\"z\":[[1,2,3,4,5],[10,20,30,20,10],[5,4,3,2,1]],\"type\":\"surface\"}],                        {\"legend\":{\"bgcolor\":\"#F5F6F9\",\"font\":{\"color\":\"#4D5663\"}},\"paper_bgcolor\":\"#F5F6F9\",\"plot_bgcolor\":\"#F5F6F9\",\"template\":{\"data\":{\"barpolar\":[{\"marker\":{\"line\":{\"color\":\"#E5ECF6\",\"width\":0.5},\"pattern\":{\"fillmode\":\"overlay\",\"size\":10,\"solidity\":0.2}},\"type\":\"barpolar\"}],\"bar\":[{\"error_x\":{\"color\":\"#2a3f5f\"},\"error_y\":{\"color\":\"#2a3f5f\"},\"marker\":{\"line\":{\"color\":\"#E5ECF6\",\"width\":0.5},\"pattern\":{\"fillmode\":\"overlay\",\"size\":10,\"solidity\":0.2}},\"type\":\"bar\"}],\"carpet\":[{\"aaxis\":{\"endlinecolor\":\"#2a3f5f\",\"gridcolor\":\"white\",\"linecolor\":\"white\",\"minorgridcolor\":\"white\",\"startlinecolor\":\"#2a3f5f\"},\"baxis\":{\"endlinecolor\":\"#2a3f5f\",\"gridcolor\":\"white\",\"linecolor\":\"white\",\"minorgridcolor\":\"white\",\"startlinecolor\":\"#2a3f5f\"},\"type\":\"carpet\"}],\"choropleth\":[{\"colorbar\":{\"outlinewidth\":0,\"ticks\":\"\"},\"type\":\"choropleth\"}],\"contourcarpet\":[{\"colorbar\":{\"outlinewidth\":0,\"ticks\":\"\"},\"type\":\"contourcarpet\"}],\"contour\":[{\"colorbar\":{\"outlinewidth\":0,\"ticks\":\"\"},\"colorscale\":[[0.0,\"#0d0887\"],[0.1111111111111111,\"#46039f\"],[0.2222222222222222,\"#7201a8\"],[0.3333333333333333,\"#9c179e\"],[0.4444444444444444,\"#bd3786\"],[0.5555555555555556,\"#d8576b\"],[0.6666666666666666,\"#ed7953\"],[0.7777777777777778,\"#fb9f3a\"],[0.8888888888888888,\"#fdca26\"],[1.0,\"#f0f921\"]],\"type\":\"contour\"}],\"heatmapgl\":[{\"colorbar\":{\"outlinewidth\":0,\"ticks\":\"\"},\"colorscale\":[[0.0,\"#0d0887\"],[0.1111111111111111,\"#46039f\"],[0.2222222222222222,\"#7201a8\"],[0.3333333333333333,\"#9c179e\"],[0.4444444444444444,\"#bd3786\"],[0.5555555555555556,\"#d8576b\"],[0.6666666666666666,\"#ed7953\"],[0.7777777777777778,\"#fb9f3a\"],[0.8888888888888888,\"#fdca26\"],[1.0,\"#f0f921\"]],\"type\":\"heatmapgl\"}],\"heatmap\":[{\"colorbar\":{\"outlinewidth\":0,\"ticks\":\"\"},\"colorscale\":[[0.0,\"#0d0887\"],[0.1111111111111111,\"#46039f\"],[0.2222222222222222,\"#7201a8\"],[0.3333333333333333,\"#9c179e\"],[0.4444444444444444,\"#bd3786\"],[0.5555555555555556,\"#d8576b\"],[0.6666666666666666,\"#ed7953\"],[0.7777777777777778,\"#fb9f3a\"],[0.8888888888888888,\"#fdca26\"],[1.0,\"#f0f921\"]],\"type\":\"heatmap\"}],\"histogram2dcontour\":[{\"colorbar\":{\"outlinewidth\":0,\"ticks\":\"\"},\"colorscale\":[[0.0,\"#0d0887\"],[0.1111111111111111,\"#46039f\"],[0.2222222222222222,\"#7201a8\"],[0.3333333333333333,\"#9c179e\"],[0.4444444444444444,\"#bd3786\"],[0.5555555555555556,\"#d8576b\"],[0.6666666666666666,\"#ed7953\"],[0.7777777777777778,\"#fb9f3a\"],[0.8888888888888888,\"#fdca26\"],[1.0,\"#f0f921\"]],\"type\":\"histogram2dcontour\"}],\"histogram2d\":[{\"colorbar\":{\"outlinewidth\":0,\"ticks\":\"\"},\"colorscale\":[[0.0,\"#0d0887\"],[0.1111111111111111,\"#46039f\"],[0.2222222222222222,\"#7201a8\"],[0.3333333333333333,\"#9c179e\"],[0.4444444444444444,\"#bd3786\"],[0.5555555555555556,\"#d8576b\"],[0.6666666666666666,\"#ed7953\"],[0.7777777777777778,\"#fb9f3a\"],[0.8888888888888888,\"#fdca26\"],[1.0,\"#f0f921\"]],\"type\":\"histogram2d\"}],\"histogram\":[{\"marker\":{\"pattern\":{\"fillmode\":\"overlay\",\"size\":10,\"solidity\":0.2}},\"type\":\"histogram\"}],\"mesh3d\":[{\"colorbar\":{\"outlinewidth\":0,\"ticks\":\"\"},\"type\":\"mesh3d\"}],\"parcoords\":[{\"line\":{\"colorbar\":{\"outlinewidth\":0,\"ticks\":\"\"}},\"type\":\"parcoords\"}],\"pie\":[{\"automargin\":true,\"type\":\"pie\"}],\"scatter3d\":[{\"line\":{\"colorbar\":{\"outlinewidth\":0,\"ticks\":\"\"}},\"marker\":{\"colorbar\":{\"outlinewidth\":0,\"ticks\":\"\"}},\"type\":\"scatter3d\"}],\"scattercarpet\":[{\"marker\":{\"colorbar\":{\"outlinewidth\":0,\"ticks\":\"\"}},\"type\":\"scattercarpet\"}],\"scattergeo\":[{\"marker\":{\"colorbar\":{\"outlinewidth\":0,\"ticks\":\"\"}},\"type\":\"scattergeo\"}],\"scattergl\":[{\"marker\":{\"colorbar\":{\"outlinewidth\":0,\"ticks\":\"\"}},\"type\":\"scattergl\"}],\"scattermapbox\":[{\"marker\":{\"colorbar\":{\"outlinewidth\":0,\"ticks\":\"\"}},\"type\":\"scattermapbox\"}],\"scatterpolargl\":[{\"marker\":{\"colorbar\":{\"outlinewidth\":0,\"ticks\":\"\"}},\"type\":\"scatterpolargl\"}],\"scatterpolar\":[{\"marker\":{\"colorbar\":{\"outlinewidth\":0,\"ticks\":\"\"}},\"type\":\"scatterpolar\"}],\"scatter\":[{\"fillpattern\":{\"fillmode\":\"overlay\",\"size\":10,\"solidity\":0.2},\"type\":\"scatter\"}],\"scatterternary\":[{\"marker\":{\"colorbar\":{\"outlinewidth\":0,\"ticks\":\"\"}},\"type\":\"scatterternary\"}],\"surface\":[{\"colorbar\":{\"outlinewidth\":0,\"ticks\":\"\"},\"colorscale\":[[0.0,\"#0d0887\"],[0.1111111111111111,\"#46039f\"],[0.2222222222222222,\"#7201a8\"],[0.3333333333333333,\"#9c179e\"],[0.4444444444444444,\"#bd3786\"],[0.5555555555555556,\"#d8576b\"],[0.6666666666666666,\"#ed7953\"],[0.7777777777777778,\"#fb9f3a\"],[0.8888888888888888,\"#fdca26\"],[1.0,\"#f0f921\"]],\"type\":\"surface\"}],\"table\":[{\"cells\":{\"fill\":{\"color\":\"#EBF0F8\"},\"line\":{\"color\":\"white\"}},\"header\":{\"fill\":{\"color\":\"#C8D4E3\"},\"line\":{\"color\":\"white\"}},\"type\":\"table\"}]},\"layout\":{\"annotationdefaults\":{\"arrowcolor\":\"#2a3f5f\",\"arrowhead\":0,\"arrowwidth\":1},\"autotypenumbers\":\"strict\",\"coloraxis\":{\"colorbar\":{\"outlinewidth\":0,\"ticks\":\"\"}},\"colorscale\":{\"diverging\":[[0,\"#8e0152\"],[0.1,\"#c51b7d\"],[0.2,\"#de77ae\"],[0.3,\"#f1b6da\"],[0.4,\"#fde0ef\"],[0.5,\"#f7f7f7\"],[0.6,\"#e6f5d0\"],[0.7,\"#b8e186\"],[0.8,\"#7fbc41\"],[0.9,\"#4d9221\"],[1,\"#276419\"]],\"sequential\":[[0.0,\"#0d0887\"],[0.1111111111111111,\"#46039f\"],[0.2222222222222222,\"#7201a8\"],[0.3333333333333333,\"#9c179e\"],[0.4444444444444444,\"#bd3786\"],[0.5555555555555556,\"#d8576b\"],[0.6666666666666666,\"#ed7953\"],[0.7777777777777778,\"#fb9f3a\"],[0.8888888888888888,\"#fdca26\"],[1.0,\"#f0f921\"]],\"sequentialminus\":[[0.0,\"#0d0887\"],[0.1111111111111111,\"#46039f\"],[0.2222222222222222,\"#7201a8\"],[0.3333333333333333,\"#9c179e\"],[0.4444444444444444,\"#bd3786\"],[0.5555555555555556,\"#d8576b\"],[0.6666666666666666,\"#ed7953\"],[0.7777777777777778,\"#fb9f3a\"],[0.8888888888888888,\"#fdca26\"],[1.0,\"#f0f921\"]]},\"colorway\":[\"#636efa\",\"#EF553B\",\"#00cc96\",\"#ab63fa\",\"#FFA15A\",\"#19d3f3\",\"#FF6692\",\"#B6E880\",\"#FF97FF\",\"#FECB52\"],\"font\":{\"color\":\"#2a3f5f\"},\"geo\":{\"bgcolor\":\"white\",\"lakecolor\":\"white\",\"landcolor\":\"#E5ECF6\",\"showlakes\":true,\"showland\":true,\"subunitcolor\":\"white\"},\"hoverlabel\":{\"align\":\"left\"},\"hovermode\":\"closest\",\"mapbox\":{\"style\":\"light\"},\"paper_bgcolor\":\"white\",\"plot_bgcolor\":\"#E5ECF6\",\"polar\":{\"angularaxis\":{\"gridcolor\":\"white\",\"linecolor\":\"white\",\"ticks\":\"\"},\"bgcolor\":\"#E5ECF6\",\"radialaxis\":{\"gridcolor\":\"white\",\"linecolor\":\"white\",\"ticks\":\"\"}},\"scene\":{\"xaxis\":{\"backgroundcolor\":\"#E5ECF6\",\"gridcolor\":\"white\",\"gridwidth\":2,\"linecolor\":\"white\",\"showbackground\":true,\"ticks\":\"\",\"zerolinecolor\":\"white\"},\"yaxis\":{\"backgroundcolor\":\"#E5ECF6\",\"gridcolor\":\"white\",\"gridwidth\":2,\"linecolor\":\"white\",\"showbackground\":true,\"ticks\":\"\",\"zerolinecolor\":\"white\"},\"zaxis\":{\"backgroundcolor\":\"#E5ECF6\",\"gridcolor\":\"white\",\"gridwidth\":2,\"linecolor\":\"white\",\"showbackground\":true,\"ticks\":\"\",\"zerolinecolor\":\"white\"}},\"shapedefaults\":{\"line\":{\"color\":\"#2a3f5f\"}},\"ternary\":{\"aaxis\":{\"gridcolor\":\"white\",\"linecolor\":\"white\",\"ticks\":\"\"},\"baxis\":{\"gridcolor\":\"white\",\"linecolor\":\"white\",\"ticks\":\"\"},\"bgcolor\":\"#E5ECF6\",\"caxis\":{\"gridcolor\":\"white\",\"linecolor\":\"white\",\"ticks\":\"\"}},\"title\":{\"x\":0.05},\"xaxis\":{\"automargin\":true,\"gridcolor\":\"white\",\"linecolor\":\"white\",\"ticks\":\"\",\"title\":{\"standoff\":15},\"zerolinecolor\":\"white\",\"zerolinewidth\":2},\"yaxis\":{\"automargin\":true,\"gridcolor\":\"white\",\"linecolor\":\"white\",\"ticks\":\"\",\"title\":{\"standoff\":15},\"zerolinecolor\":\"white\",\"zerolinewidth\":2}}},\"title\":{\"font\":{\"color\":\"#4D5663\"}},\"xaxis\":{\"gridcolor\":\"#E1E5ED\",\"showgrid\":true,\"tickfont\":{\"color\":\"#4D5663\"},\"title\":{\"font\":{\"color\":\"#4D5663\"},\"text\":\"\"},\"zerolinecolor\":\"#E1E5ED\"},\"yaxis\":{\"gridcolor\":\"#E1E5ED\",\"showgrid\":true,\"tickfont\":{\"color\":\"#4D5663\"},\"title\":{\"font\":{\"color\":\"#4D5663\"},\"text\":\"\"},\"zerolinecolor\":\"#E1E5ED\"}},                        {\"showLink\": true, \"linkText\": \"Export to plot.ly\", \"plotlyServerURL\": \"https://plot.ly\", \"responsive\": true}                    ).then(function(){\n                            \nvar gd = document.getElementById('cb26844d-1c75-434d-970d-bf3b150cfdaa');\nvar x = new MutationObserver(function (mutations, observer) {{\n        var display = window.getComputedStyle(gd).display;\n        if (!display || display === 'none') {{\n            console.log([gd, 'removed!']);\n            Plotly.purge(gd);\n            observer.disconnect();\n        }}\n}});\n\n// Listen for the removal of the full notebook cells\nvar notebookContainer = gd.closest('#notebook-container');\nif (notebookContainer) {{\n    x.observe(notebookContainer, {childList: true});\n}}\n\n// Listen for the clearing of the current output cell\nvar outputEl = gd.closest('.output');\nif (outputEl) {{\n    x.observe(outputEl, {childList: true});\n}}\n\n                        })                };                });            </script>        </div>"
     },
     "metadata": {},
     "output_type": "display_data"
    }
   ],
   "source": [
    "df3.iplot(kind='surface',colorscale='rdylbu')"
   ],
   "metadata": {
    "collapsed": false,
    "pycharm": {
     "name": "#%%\n"
    }
   }
  },
  {
   "cell_type": "code",
   "execution_count": 50,
   "outputs": [
    {
     "data": {
      "application/vnd.plotly.v1+json": {
       "data": [
        {
         "histfunc": "count",
         "histnorm": "",
         "marker": {
          "color": "rgba(255, 153, 51, 1.0)",
          "line": {
           "color": "#4D5663",
           "width": 1.3
          }
         },
         "name": "A",
         "nbinsx": 30,
         "opacity": 0.8,
         "orientation": "v",
         "x": [
          1.80900659363173,
          0.035274995502989924,
          -1.3725782517059886,
          0.012016290428291753,
          1.000469906945173,
          -0.6195273127982366,
          -0.5493763932833622,
          -0.9911107758158834,
          0.23248967391723316,
          -0.14506312346767283,
          0.34184931249590944,
          0.2715616077472833,
          0.8393674963432226,
          -0.10711850809753216,
          1.8812271802120675,
          1.0538530621847526,
          -0.29984010726672844,
          -1.0005896037131567,
          0.6236039509447258,
          2.547660303248421,
          0.3645808633949736,
          0.7584190685180403,
          -1.3718605252785057,
          1.1236466096015902,
          -0.6575364883108161,
          -0.7435742465354352,
          -0.9510929805192601,
          -0.7250355706046863,
          -0.3010833740014651,
          -0.8365580045456453,
          0.5375896300969594,
          0.4250820358790253,
          -1.4817640383211563,
          1.0742946624051832,
          -1.6615502948070402,
          -0.4539105034533779,
          0.9627637686417985,
          1.0917899219961893,
          0.40651750118727115,
          0.30539547233503134,
          0.7154867771216606,
          0.4988743495347605,
          0.8934197814724031,
          -0.7226701733307364,
          -0.6212640967281962,
          -0.20366491195303663,
          0.6293167407460972,
          0.932849322897483,
          0.0889989385329877,
          -0.009742713919367142,
          0.8547431702291997,
          -0.06513079400429111,
          -0.5810102718413085,
          -0.9663593983135926,
          0.6305616168977342,
          1.9913392481918006,
          -1.9776861325927175,
          2.0202457074867883,
          -1.0347658552177048,
          -0.6695623864365713,
          1.183237535410795,
          0.4225713154856195,
          1.2265275340992094,
          -1.620088276804922,
          0.36251610386564465,
          -0.39921777940713343,
          0.19623576958325684,
          -0.28567696303803214,
          -0.40868573997383634,
          0.4589878761780295,
          -0.8307604519242388,
          0.46409171043276753,
          -0.7934822881525643,
          -0.48507069853990153,
          1.0898652590025368,
          -1.3743038367541152,
          0.581212864653542,
          0.30331914137158783,
          -1.2179046818674735,
          -2.103526750442117,
          0.6834448164214543,
          -0.15730645803113177,
          0.9021369402599491,
          -1.1694166086342517,
          0.8148051426930465,
          0.9444288848742953,
          -0.6589176826651596,
          0.5351669268927843,
          0.20689663682579865,
          0.832979037395156,
          0.5435340867904964,
          1.2929265303581408,
          -1.014503830555063,
          1.3097655276016194,
          -0.3053438162070056,
          -0.828368648201911,
          1.189594403334678,
          -0.37242628836792796,
          0.42166106976218076,
          -0.7112018906041686
         ],
         "type": "histogram"
        },
        {
         "histfunc": "count",
         "histnorm": "",
         "marker": {
          "color": "rgba(55, 128, 191, 1.0)",
          "line": {
           "color": "#4D5663",
           "width": 1.3
          }
         },
         "name": "B",
         "nbinsx": 30,
         "opacity": 0.8,
         "orientation": "v",
         "x": [
          0.9062930594144116,
          -1.4386362389423506,
          1.1369677802935936,
          2.3716105706749393,
          1.148561136980701,
          1.6384945821750838,
          -1.0740830064136329,
          -0.43741065236894316,
          0.5358574650869486,
          -0.2698795505516891,
          2.0197447105345563,
          0.4338245435899058,
          -0.6403534451698525,
          -1.895132322156619,
          0.047493285900842584,
          -0.21672463780566728,
          0.5117649446224504,
          0.7263239901604835,
          -1.4270079547470809,
          1.1684892701521439,
          -0.07635059518062,
          1.015995199829917,
          1.7008504923460286,
          -0.6630221858617115,
          -0.12131160545398256,
          2.201409865619109,
          1.5871548335880958,
          -1.4170235508141886,
          0.4156143179575276,
          -1.011196408980938,
          0.19523384068338345,
          -0.505399740247492,
          0.5600637862451191,
          -1.626626394671511,
          -2.242945396816825,
          -0.3172556011350909,
          0.15744150179076394,
          -0.6441237430038943,
          -1.154805552889705,
          1.0045417479266496,
          1.497029918691306,
          -1.374787336108716,
          0.09899565870554397,
          0.6142923431050662,
          -0.7587059584886806,
          1.4865210628371175,
          0.7245101896757082,
          2.212384737378364,
          1.1415859663818204,
          -0.48716608639593195,
          -1.492873229229848,
          -1.5580771150038115,
          0.7487385861972751,
          -0.4069196752359965,
          -1.0686371070370626,
          1.8751590252659465,
          -0.9859316483422285,
          -0.40126887692683005,
          1.3394051974576617,
          0.3400675786361936,
          1.6939200545861288,
          -1.2304126744784363,
          -0.009358785317534316,
          1.32881769350092,
          0.6380471903856916,
          -1.127888255950146,
          0.1362958685262489,
          0.9844415462026761,
          -2.3449585435451508,
          -1.1988283052407933,
          0.5902775129859864,
          -0.2816083952687804,
          2.170089395418066,
          -0.7535625814479999,
          0.1256440369012715,
          1.0710620740031642,
          -0.15147133419631562,
          0.708410299017189,
          0.5601583538557442,
          -1.0401882243373572,
          1.7056167441988201,
          0.6850843008365208,
          0.2524170417029744,
          0.4239316576340395,
          0.30856412170761116,
          -0.8120128362314452,
          -1.0248295324212153,
          0.9691832786744989,
          -0.7809378279230037,
          0.5199528377506104,
          -0.5823558298607444,
          0.02242888516997846,
          -1.8483439458823425,
          0.1683359982946268,
          0.44883480148149857,
          0.27644036079912226,
          0.5001592299352902,
          1.707276028881522,
          -0.3499034827519047,
          -0.1658350539232574
         ],
         "type": "histogram"
        },
        {
         "histfunc": "count",
         "histnorm": "",
         "marker": {
          "color": "rgba(50, 171, 96, 1.0)",
          "line": {
           "color": "#4D5663",
           "width": 1.3
          }
         },
         "name": "C",
         "nbinsx": 30,
         "opacity": 0.8,
         "orientation": "v",
         "x": [
          0.7692336532458728,
          0.5333344342194399,
          -0.8424260604443445,
          0.3203662543997597,
          0.08458846535047407,
          0.45708539683904553,
          -0.8498855129462245,
          1.4745690013341044,
          2.6909016970258177,
          0.5668709264460764,
          -0.05897494253507211,
          -1.836392380931625,
          1.499808814285216,
          1.4259194751034947,
          -0.08578597513422263,
          0.5560973770990663,
          -0.7584165794397412,
          -1.6105588097346335,
          -0.9074161291122519,
          0.3796037005268845,
          0.3311762861032556,
          -1.3602628819660034,
          -0.9799612820273028,
          -1.6539675770208235,
          -0.13518856728836234,
          -2.0519815390489096,
          0.7076017949132091,
          0.5777492285351216,
          0.8814525993925905,
          0.23198923387472098,
          0.5739648399528666,
          -0.9187331726443511,
          0.2378113368211414,
          0.18452376474838614,
          0.9618846352603138,
          0.04674987985743832,
          -0.19242409419798356,
          0.37406378090710063,
          -0.22470081855415733,
          -0.4221861958292879,
          0.6377575043253557,
          0.37186014681579505,
          0.9885200426741549,
          0.5846281676474738,
          -0.8857207063528001,
          0.951745296972654,
          1.433580628428485,
          2.2051673520189827,
          -1.7345907838590167,
          0.24276875299650547,
          -0.8525885975006535,
          -0.8533236132402129,
          -1.941001109878793,
          -0.061780947174691896,
          -1.1697568526208222,
          1.126896428706196,
          -0.3179738015899636,
          -0.9912010770982428,
          -1.0511344497209492,
          1.827771784627446,
          -0.326139141984017,
          -0.521984694424672,
          -1.1909121583420728,
          0.9304877086589227,
          -1.4926195618704994,
          -0.04856994266672939,
          -0.5332888237553048,
          -0.6888200985211754,
          0.004881621023809477,
          0.2969949279946919,
          0.15584434040490944,
          -0.30955808996868645,
          0.47386778091716025,
          0.583986268346228,
          1.019454808285895,
          -0.6878330822641515,
          0.5175531626481035,
          -0.7815075116688344,
          0.49634237721186597,
          -1.4827609600037182,
          -0.016543171729132132,
          -0.8007147586706331,
          0.04434472691612747,
          0.04412174249588713,
          -2.21327013820518,
          0.037192344719893536,
          -0.9390081221051154,
          -0.7828138328182563,
          -0.3415125355976032,
          0.23650650730818906,
          0.30889760418237094,
          1.5513678854253037,
          -1.7509145536551753,
          -0.169155621033073,
          0.809684981401493,
          1.0319304185412423,
          0.9980808541912738,
          1.0774436660316213,
          0.8738553331372387,
          0.2167626281308094
         ],
         "type": "histogram"
        },
        {
         "histfunc": "count",
         "histnorm": "",
         "marker": {
          "color": "rgba(128, 0, 128, 1.0)",
          "line": {
           "color": "#4D5663",
           "width": 1.3
          }
         },
         "name": "D",
         "nbinsx": 30,
         "opacity": 0.8,
         "orientation": "v",
         "x": [
          0.3675217620137849,
          2.7427008466781437,
          0.6255220737570883,
          -0.6770631133142064,
          0.8611524003693977,
          0.7325189915909454,
          -0.4912724703434503,
          -0.08990027233534309,
          0.7249810254170888,
          -0.44406845694832436,
          -0.11519998235144457,
          0.057807570007680414,
          1.4468154496869319,
          -1.3063691460575648,
          -1.0976511461538079,
          -0.144521111054121,
          0.9851894657897402,
          -0.3669124238805727,
          0.3900440966830113,
          -0.46883403147472796,
          0.5607883602873852,
          0.1959664854253068,
          -1.4388522302244997,
          0.9792903647735527,
          1.1534094018283618,
          0.4615133516294498,
          2.1918183430754277,
          0.5250412928758622,
          0.5001386622284841,
          0.2551536355520732,
          -0.005412224012686471,
          2.9221341098244342,
          -0.4649633760002535,
          0.604687207147699,
          0.9866743322343967,
          0.3713940127701445,
          -2.5879431288336234,
          -1.2628569935111595,
          0.8034675576116896,
          -0.7931092449981392,
          0.7424776291875992,
          0.13392997568809864,
          -1.3518633088238048,
          0.8622365479976225,
          -0.2407342066956001,
          -0.9783801026300155,
          0.7209797859368154,
          -0.38282624621694294,
          1.5716146462366636,
          -1.1665957113627479,
          0.6187301632857698,
          -2.186120621478108,
          -0.2426136169446369,
          0.44237996405091246,
          0.31750637266024034,
          -1.9937679194820443,
          -1.2624546771878686,
          -0.44884460876428806,
          0.6306675068396437,
          1.7501367095384082,
          0.48863891048392044,
          2.602313512763461,
          1.002570057651446,
          1.467085093335372,
          0.9369319026249344,
          1.7703646291362558,
          -1.1796240772203925,
          0.12617597344252518,
          -0.25609278999498675,
          -0.1115932258436591,
          0.12511197337113492,
          -0.1990422032617427,
          -0.5663920105336755,
          -1.5735449206488776,
          -0.43762023976950404,
          -1.0756184575691374,
          1.7639056749230035,
          0.19731050169828362,
          -0.11699890130357059,
          0.2773473721477822,
          0.7413590505157498,
          2.0416402836649428,
          0.576779671318424,
          -0.30937664994093284,
          1.0785633811816857,
          -0.2743774523138238,
          0.8892491714545185,
          0.5640933722954883,
          0.983842824464235,
          1.1610759271421396,
          -0.4509459056346206,
          -0.7272001536229342,
          -0.3257182965001095,
          0.1958487766367504,
          -2.372334453426788,
          0.2086402255634171,
          -0.7278070326688642,
          -1.3179084583713245,
          -1.2594262664854154,
          -0.9035664023169915
         ],
         "type": "histogram"
        }
       ],
       "layout": {
        "barmode": "overlay",
        "legend": {
         "bgcolor": "#F5F6F9",
         "font": {
          "color": "#4D5663"
         }
        },
        "paper_bgcolor": "#F5F6F9",
        "plot_bgcolor": "#F5F6F9",
        "template": {
         "data": {
          "barpolar": [
           {
            "marker": {
             "line": {
              "color": "#E5ECF6",
              "width": 0.5
             },
             "pattern": {
              "fillmode": "overlay",
              "size": 10,
              "solidity": 0.2
             }
            },
            "type": "barpolar"
           }
          ],
          "bar": [
           {
            "error_x": {
             "color": "#2a3f5f"
            },
            "error_y": {
             "color": "#2a3f5f"
            },
            "marker": {
             "line": {
              "color": "#E5ECF6",
              "width": 0.5
             },
             "pattern": {
              "fillmode": "overlay",
              "size": 10,
              "solidity": 0.2
             }
            },
            "type": "bar"
           }
          ],
          "carpet": [
           {
            "aaxis": {
             "endlinecolor": "#2a3f5f",
             "gridcolor": "white",
             "linecolor": "white",
             "minorgridcolor": "white",
             "startlinecolor": "#2a3f5f"
            },
            "baxis": {
             "endlinecolor": "#2a3f5f",
             "gridcolor": "white",
             "linecolor": "white",
             "minorgridcolor": "white",
             "startlinecolor": "#2a3f5f"
            },
            "type": "carpet"
           }
          ],
          "choropleth": [
           {
            "colorbar": {
             "outlinewidth": 0,
             "ticks": ""
            },
            "type": "choropleth"
           }
          ],
          "contourcarpet": [
           {
            "colorbar": {
             "outlinewidth": 0,
             "ticks": ""
            },
            "type": "contourcarpet"
           }
          ],
          "contour": [
           {
            "colorbar": {
             "outlinewidth": 0,
             "ticks": ""
            },
            "colorscale": [
             [
              0.0,
              "#0d0887"
             ],
             [
              0.1111111111111111,
              "#46039f"
             ],
             [
              0.2222222222222222,
              "#7201a8"
             ],
             [
              0.3333333333333333,
              "#9c179e"
             ],
             [
              0.4444444444444444,
              "#bd3786"
             ],
             [
              0.5555555555555556,
              "#d8576b"
             ],
             [
              0.6666666666666666,
              "#ed7953"
             ],
             [
              0.7777777777777778,
              "#fb9f3a"
             ],
             [
              0.8888888888888888,
              "#fdca26"
             ],
             [
              1.0,
              "#f0f921"
             ]
            ],
            "type": "contour"
           }
          ],
          "heatmapgl": [
           {
            "colorbar": {
             "outlinewidth": 0,
             "ticks": ""
            },
            "colorscale": [
             [
              0.0,
              "#0d0887"
             ],
             [
              0.1111111111111111,
              "#46039f"
             ],
             [
              0.2222222222222222,
              "#7201a8"
             ],
             [
              0.3333333333333333,
              "#9c179e"
             ],
             [
              0.4444444444444444,
              "#bd3786"
             ],
             [
              0.5555555555555556,
              "#d8576b"
             ],
             [
              0.6666666666666666,
              "#ed7953"
             ],
             [
              0.7777777777777778,
              "#fb9f3a"
             ],
             [
              0.8888888888888888,
              "#fdca26"
             ],
             [
              1.0,
              "#f0f921"
             ]
            ],
            "type": "heatmapgl"
           }
          ],
          "heatmap": [
           {
            "colorbar": {
             "outlinewidth": 0,
             "ticks": ""
            },
            "colorscale": [
             [
              0.0,
              "#0d0887"
             ],
             [
              0.1111111111111111,
              "#46039f"
             ],
             [
              0.2222222222222222,
              "#7201a8"
             ],
             [
              0.3333333333333333,
              "#9c179e"
             ],
             [
              0.4444444444444444,
              "#bd3786"
             ],
             [
              0.5555555555555556,
              "#d8576b"
             ],
             [
              0.6666666666666666,
              "#ed7953"
             ],
             [
              0.7777777777777778,
              "#fb9f3a"
             ],
             [
              0.8888888888888888,
              "#fdca26"
             ],
             [
              1.0,
              "#f0f921"
             ]
            ],
            "type": "heatmap"
           }
          ],
          "histogram2dcontour": [
           {
            "colorbar": {
             "outlinewidth": 0,
             "ticks": ""
            },
            "colorscale": [
             [
              0.0,
              "#0d0887"
             ],
             [
              0.1111111111111111,
              "#46039f"
             ],
             [
              0.2222222222222222,
              "#7201a8"
             ],
             [
              0.3333333333333333,
              "#9c179e"
             ],
             [
              0.4444444444444444,
              "#bd3786"
             ],
             [
              0.5555555555555556,
              "#d8576b"
             ],
             [
              0.6666666666666666,
              "#ed7953"
             ],
             [
              0.7777777777777778,
              "#fb9f3a"
             ],
             [
              0.8888888888888888,
              "#fdca26"
             ],
             [
              1.0,
              "#f0f921"
             ]
            ],
            "type": "histogram2dcontour"
           }
          ],
          "histogram2d": [
           {
            "colorbar": {
             "outlinewidth": 0,
             "ticks": ""
            },
            "colorscale": [
             [
              0.0,
              "#0d0887"
             ],
             [
              0.1111111111111111,
              "#46039f"
             ],
             [
              0.2222222222222222,
              "#7201a8"
             ],
             [
              0.3333333333333333,
              "#9c179e"
             ],
             [
              0.4444444444444444,
              "#bd3786"
             ],
             [
              0.5555555555555556,
              "#d8576b"
             ],
             [
              0.6666666666666666,
              "#ed7953"
             ],
             [
              0.7777777777777778,
              "#fb9f3a"
             ],
             [
              0.8888888888888888,
              "#fdca26"
             ],
             [
              1.0,
              "#f0f921"
             ]
            ],
            "type": "histogram2d"
           }
          ],
          "histogram": [
           {
            "marker": {
             "pattern": {
              "fillmode": "overlay",
              "size": 10,
              "solidity": 0.2
             }
            },
            "type": "histogram"
           }
          ],
          "mesh3d": [
           {
            "colorbar": {
             "outlinewidth": 0,
             "ticks": ""
            },
            "type": "mesh3d"
           }
          ],
          "parcoords": [
           {
            "line": {
             "colorbar": {
              "outlinewidth": 0,
              "ticks": ""
             }
            },
            "type": "parcoords"
           }
          ],
          "pie": [
           {
            "automargin": true,
            "type": "pie"
           }
          ],
          "scatter3d": [
           {
            "line": {
             "colorbar": {
              "outlinewidth": 0,
              "ticks": ""
             }
            },
            "marker": {
             "colorbar": {
              "outlinewidth": 0,
              "ticks": ""
             }
            },
            "type": "scatter3d"
           }
          ],
          "scattercarpet": [
           {
            "marker": {
             "colorbar": {
              "outlinewidth": 0,
              "ticks": ""
             }
            },
            "type": "scattercarpet"
           }
          ],
          "scattergeo": [
           {
            "marker": {
             "colorbar": {
              "outlinewidth": 0,
              "ticks": ""
             }
            },
            "type": "scattergeo"
           }
          ],
          "scattergl": [
           {
            "marker": {
             "colorbar": {
              "outlinewidth": 0,
              "ticks": ""
             }
            },
            "type": "scattergl"
           }
          ],
          "scattermapbox": [
           {
            "marker": {
             "colorbar": {
              "outlinewidth": 0,
              "ticks": ""
             }
            },
            "type": "scattermapbox"
           }
          ],
          "scatterpolargl": [
           {
            "marker": {
             "colorbar": {
              "outlinewidth": 0,
              "ticks": ""
             }
            },
            "type": "scatterpolargl"
           }
          ],
          "scatterpolar": [
           {
            "marker": {
             "colorbar": {
              "outlinewidth": 0,
              "ticks": ""
             }
            },
            "type": "scatterpolar"
           }
          ],
          "scatter": [
           {
            "fillpattern": {
             "fillmode": "overlay",
             "size": 10,
             "solidity": 0.2
            },
            "type": "scatter"
           }
          ],
          "scatterternary": [
           {
            "marker": {
             "colorbar": {
              "outlinewidth": 0,
              "ticks": ""
             }
            },
            "type": "scatterternary"
           }
          ],
          "surface": [
           {
            "colorbar": {
             "outlinewidth": 0,
             "ticks": ""
            },
            "colorscale": [
             [
              0.0,
              "#0d0887"
             ],
             [
              0.1111111111111111,
              "#46039f"
             ],
             [
              0.2222222222222222,
              "#7201a8"
             ],
             [
              0.3333333333333333,
              "#9c179e"
             ],
             [
              0.4444444444444444,
              "#bd3786"
             ],
             [
              0.5555555555555556,
              "#d8576b"
             ],
             [
              0.6666666666666666,
              "#ed7953"
             ],
             [
              0.7777777777777778,
              "#fb9f3a"
             ],
             [
              0.8888888888888888,
              "#fdca26"
             ],
             [
              1.0,
              "#f0f921"
             ]
            ],
            "type": "surface"
           }
          ],
          "table": [
           {
            "cells": {
             "fill": {
              "color": "#EBF0F8"
             },
             "line": {
              "color": "white"
             }
            },
            "header": {
             "fill": {
              "color": "#C8D4E3"
             },
             "line": {
              "color": "white"
             }
            },
            "type": "table"
           }
          ]
         },
         "layout": {
          "annotationdefaults": {
           "arrowcolor": "#2a3f5f",
           "arrowhead": 0,
           "arrowwidth": 1
          },
          "autotypenumbers": "strict",
          "coloraxis": {
           "colorbar": {
            "outlinewidth": 0,
            "ticks": ""
           }
          },
          "colorscale": {
           "diverging": [
            [
             0,
             "#8e0152"
            ],
            [
             0.1,
             "#c51b7d"
            ],
            [
             0.2,
             "#de77ae"
            ],
            [
             0.3,
             "#f1b6da"
            ],
            [
             0.4,
             "#fde0ef"
            ],
            [
             0.5,
             "#f7f7f7"
            ],
            [
             0.6,
             "#e6f5d0"
            ],
            [
             0.7,
             "#b8e186"
            ],
            [
             0.8,
             "#7fbc41"
            ],
            [
             0.9,
             "#4d9221"
            ],
            [
             1,
             "#276419"
            ]
           ],
           "sequential": [
            [
             0.0,
             "#0d0887"
            ],
            [
             0.1111111111111111,
             "#46039f"
            ],
            [
             0.2222222222222222,
             "#7201a8"
            ],
            [
             0.3333333333333333,
             "#9c179e"
            ],
            [
             0.4444444444444444,
             "#bd3786"
            ],
            [
             0.5555555555555556,
             "#d8576b"
            ],
            [
             0.6666666666666666,
             "#ed7953"
            ],
            [
             0.7777777777777778,
             "#fb9f3a"
            ],
            [
             0.8888888888888888,
             "#fdca26"
            ],
            [
             1.0,
             "#f0f921"
            ]
           ],
           "sequentialminus": [
            [
             0.0,
             "#0d0887"
            ],
            [
             0.1111111111111111,
             "#46039f"
            ],
            [
             0.2222222222222222,
             "#7201a8"
            ],
            [
             0.3333333333333333,
             "#9c179e"
            ],
            [
             0.4444444444444444,
             "#bd3786"
            ],
            [
             0.5555555555555556,
             "#d8576b"
            ],
            [
             0.6666666666666666,
             "#ed7953"
            ],
            [
             0.7777777777777778,
             "#fb9f3a"
            ],
            [
             0.8888888888888888,
             "#fdca26"
            ],
            [
             1.0,
             "#f0f921"
            ]
           ]
          },
          "colorway": [
           "#636efa",
           "#EF553B",
           "#00cc96",
           "#ab63fa",
           "#FFA15A",
           "#19d3f3",
           "#FF6692",
           "#B6E880",
           "#FF97FF",
           "#FECB52"
          ],
          "font": {
           "color": "#2a3f5f"
          },
          "geo": {
           "bgcolor": "white",
           "lakecolor": "white",
           "landcolor": "#E5ECF6",
           "showlakes": true,
           "showland": true,
           "subunitcolor": "white"
          },
          "hoverlabel": {
           "align": "left"
          },
          "hovermode": "closest",
          "mapbox": {
           "style": "light"
          },
          "paper_bgcolor": "white",
          "plot_bgcolor": "#E5ECF6",
          "polar": {
           "angularaxis": {
            "gridcolor": "white",
            "linecolor": "white",
            "ticks": ""
           },
           "bgcolor": "#E5ECF6",
           "radialaxis": {
            "gridcolor": "white",
            "linecolor": "white",
            "ticks": ""
           }
          },
          "scene": {
           "xaxis": {
            "backgroundcolor": "#E5ECF6",
            "gridcolor": "white",
            "gridwidth": 2,
            "linecolor": "white",
            "showbackground": true,
            "ticks": "",
            "zerolinecolor": "white"
           },
           "yaxis": {
            "backgroundcolor": "#E5ECF6",
            "gridcolor": "white",
            "gridwidth": 2,
            "linecolor": "white",
            "showbackground": true,
            "ticks": "",
            "zerolinecolor": "white"
           },
           "zaxis": {
            "backgroundcolor": "#E5ECF6",
            "gridcolor": "white",
            "gridwidth": 2,
            "linecolor": "white",
            "showbackground": true,
            "ticks": "",
            "zerolinecolor": "white"
           }
          },
          "shapedefaults": {
           "line": {
            "color": "#2a3f5f"
           }
          },
          "ternary": {
           "aaxis": {
            "gridcolor": "white",
            "linecolor": "white",
            "ticks": ""
           },
           "baxis": {
            "gridcolor": "white",
            "linecolor": "white",
            "ticks": ""
           },
           "bgcolor": "#E5ECF6",
           "caxis": {
            "gridcolor": "white",
            "linecolor": "white",
            "ticks": ""
           }
          },
          "title": {
           "x": 0.05
          },
          "xaxis": {
           "automargin": true,
           "gridcolor": "white",
           "linecolor": "white",
           "ticks": "",
           "title": {
            "standoff": 15
           },
           "zerolinecolor": "white",
           "zerolinewidth": 2
          },
          "yaxis": {
           "automargin": true,
           "gridcolor": "white",
           "linecolor": "white",
           "ticks": "",
           "title": {
            "standoff": 15
           },
           "zerolinecolor": "white",
           "zerolinewidth": 2
          }
         }
        },
        "title": {
         "font": {
          "color": "#4D5663"
         }
        },
        "xaxis": {
         "gridcolor": "#E1E5ED",
         "showgrid": true,
         "tickfont": {
          "color": "#4D5663"
         },
         "title": {
          "font": {
           "color": "#4D5663"
          },
          "text": ""
         },
         "zerolinecolor": "#E1E5ED"
        },
        "yaxis": {
         "gridcolor": "#E1E5ED",
         "showgrid": true,
         "tickfont": {
          "color": "#4D5663"
         },
         "title": {
          "font": {
           "color": "#4D5663"
          },
          "text": ""
         },
         "zerolinecolor": "#E1E5ED"
        }
       },
       "config": {
        "showLink": true,
        "linkText": "Export to plot.ly",
        "plotlyServerURL": "https://plot.ly"
       }
      },
      "text/html": "<div>                            <div id=\"b1cccc5c-d8dd-4371-a7dc-0fadd4508ee8\" class=\"plotly-graph-div\" style=\"height:525px; width:100%;\"></div>            <script type=\"text/javascript\">                require([\"plotly\"], function(Plotly) {                    window.PLOTLYENV=window.PLOTLYENV || {};\n                    window.PLOTLYENV.BASE_URL='https://plot.ly';                                    if (document.getElementById(\"b1cccc5c-d8dd-4371-a7dc-0fadd4508ee8\")) {                    Plotly.newPlot(                        \"b1cccc5c-d8dd-4371-a7dc-0fadd4508ee8\",                        [{\"histfunc\":\"count\",\"histnorm\":\"\",\"marker\":{\"color\":\"rgba(255, 153, 51, 1.0)\",\"line\":{\"color\":\"#4D5663\",\"width\":1.3}},\"name\":\"A\",\"nbinsx\":30,\"opacity\":0.8,\"orientation\":\"v\",\"x\":[1.80900659363173,0.035274995502989924,-1.3725782517059886,0.012016290428291753,1.000469906945173,-0.6195273127982366,-0.5493763932833622,-0.9911107758158834,0.23248967391723316,-0.14506312346767283,0.34184931249590944,0.2715616077472833,0.8393674963432226,-0.10711850809753216,1.8812271802120675,1.0538530621847526,-0.29984010726672844,-1.0005896037131567,0.6236039509447258,2.547660303248421,0.3645808633949736,0.7584190685180403,-1.3718605252785057,1.1236466096015902,-0.6575364883108161,-0.7435742465354352,-0.9510929805192601,-0.7250355706046863,-0.3010833740014651,-0.8365580045456453,0.5375896300969594,0.4250820358790253,-1.4817640383211563,1.0742946624051832,-1.6615502948070402,-0.4539105034533779,0.9627637686417985,1.0917899219961893,0.40651750118727115,0.30539547233503134,0.7154867771216606,0.4988743495347605,0.8934197814724031,-0.7226701733307364,-0.6212640967281962,-0.20366491195303663,0.6293167407460972,0.932849322897483,0.0889989385329877,-0.009742713919367142,0.8547431702291997,-0.06513079400429111,-0.5810102718413085,-0.9663593983135926,0.6305616168977342,1.9913392481918006,-1.9776861325927175,2.0202457074867883,-1.0347658552177048,-0.6695623864365713,1.183237535410795,0.4225713154856195,1.2265275340992094,-1.620088276804922,0.36251610386564465,-0.39921777940713343,0.19623576958325684,-0.28567696303803214,-0.40868573997383634,0.4589878761780295,-0.8307604519242388,0.46409171043276753,-0.7934822881525643,-0.48507069853990153,1.0898652590025368,-1.3743038367541152,0.581212864653542,0.30331914137158783,-1.2179046818674735,-2.103526750442117,0.6834448164214543,-0.15730645803113177,0.9021369402599491,-1.1694166086342517,0.8148051426930465,0.9444288848742953,-0.6589176826651596,0.5351669268927843,0.20689663682579865,0.832979037395156,0.5435340867904964,1.2929265303581408,-1.014503830555063,1.3097655276016194,-0.3053438162070056,-0.828368648201911,1.189594403334678,-0.37242628836792796,0.42166106976218076,-0.7112018906041686],\"type\":\"histogram\"},{\"histfunc\":\"count\",\"histnorm\":\"\",\"marker\":{\"color\":\"rgba(55, 128, 191, 1.0)\",\"line\":{\"color\":\"#4D5663\",\"width\":1.3}},\"name\":\"B\",\"nbinsx\":30,\"opacity\":0.8,\"orientation\":\"v\",\"x\":[0.9062930594144116,-1.4386362389423506,1.1369677802935936,2.3716105706749393,1.148561136980701,1.6384945821750838,-1.0740830064136329,-0.43741065236894316,0.5358574650869486,-0.2698795505516891,2.0197447105345563,0.4338245435899058,-0.6403534451698525,-1.895132322156619,0.047493285900842584,-0.21672463780566728,0.5117649446224504,0.7263239901604835,-1.4270079547470809,1.1684892701521439,-0.07635059518062,1.015995199829917,1.7008504923460286,-0.6630221858617115,-0.12131160545398256,2.201409865619109,1.5871548335880958,-1.4170235508141886,0.4156143179575276,-1.011196408980938,0.19523384068338345,-0.505399740247492,0.5600637862451191,-1.626626394671511,-2.242945396816825,-0.3172556011350909,0.15744150179076394,-0.6441237430038943,-1.154805552889705,1.0045417479266496,1.497029918691306,-1.374787336108716,0.09899565870554397,0.6142923431050662,-0.7587059584886806,1.4865210628371175,0.7245101896757082,2.212384737378364,1.1415859663818204,-0.48716608639593195,-1.492873229229848,-1.5580771150038115,0.7487385861972751,-0.4069196752359965,-1.0686371070370626,1.8751590252659465,-0.9859316483422285,-0.40126887692683005,1.3394051974576617,0.3400675786361936,1.6939200545861288,-1.2304126744784363,-0.009358785317534316,1.32881769350092,0.6380471903856916,-1.127888255950146,0.1362958685262489,0.9844415462026761,-2.3449585435451508,-1.1988283052407933,0.5902775129859864,-0.2816083952687804,2.170089395418066,-0.7535625814479999,0.1256440369012715,1.0710620740031642,-0.15147133419631562,0.708410299017189,0.5601583538557442,-1.0401882243373572,1.7056167441988201,0.6850843008365208,0.2524170417029744,0.4239316576340395,0.30856412170761116,-0.8120128362314452,-1.0248295324212153,0.9691832786744989,-0.7809378279230037,0.5199528377506104,-0.5823558298607444,0.02242888516997846,-1.8483439458823425,0.1683359982946268,0.44883480148149857,0.27644036079912226,0.5001592299352902,1.707276028881522,-0.3499034827519047,-0.1658350539232574],\"type\":\"histogram\"},{\"histfunc\":\"count\",\"histnorm\":\"\",\"marker\":{\"color\":\"rgba(50, 171, 96, 1.0)\",\"line\":{\"color\":\"#4D5663\",\"width\":1.3}},\"name\":\"C\",\"nbinsx\":30,\"opacity\":0.8,\"orientation\":\"v\",\"x\":[0.7692336532458728,0.5333344342194399,-0.8424260604443445,0.3203662543997597,0.08458846535047407,0.45708539683904553,-0.8498855129462245,1.4745690013341044,2.6909016970258177,0.5668709264460764,-0.05897494253507211,-1.836392380931625,1.499808814285216,1.4259194751034947,-0.08578597513422263,0.5560973770990663,-0.7584165794397412,-1.6105588097346335,-0.9074161291122519,0.3796037005268845,0.3311762861032556,-1.3602628819660034,-0.9799612820273028,-1.6539675770208235,-0.13518856728836234,-2.0519815390489096,0.7076017949132091,0.5777492285351216,0.8814525993925905,0.23198923387472098,0.5739648399528666,-0.9187331726443511,0.2378113368211414,0.18452376474838614,0.9618846352603138,0.04674987985743832,-0.19242409419798356,0.37406378090710063,-0.22470081855415733,-0.4221861958292879,0.6377575043253557,0.37186014681579505,0.9885200426741549,0.5846281676474738,-0.8857207063528001,0.951745296972654,1.433580628428485,2.2051673520189827,-1.7345907838590167,0.24276875299650547,-0.8525885975006535,-0.8533236132402129,-1.941001109878793,-0.061780947174691896,-1.1697568526208222,1.126896428706196,-0.3179738015899636,-0.9912010770982428,-1.0511344497209492,1.827771784627446,-0.326139141984017,-0.521984694424672,-1.1909121583420728,0.9304877086589227,-1.4926195618704994,-0.04856994266672939,-0.5332888237553048,-0.6888200985211754,0.004881621023809477,0.2969949279946919,0.15584434040490944,-0.30955808996868645,0.47386778091716025,0.583986268346228,1.019454808285895,-0.6878330822641515,0.5175531626481035,-0.7815075116688344,0.49634237721186597,-1.4827609600037182,-0.016543171729132132,-0.8007147586706331,0.04434472691612747,0.04412174249588713,-2.21327013820518,0.037192344719893536,-0.9390081221051154,-0.7828138328182563,-0.3415125355976032,0.23650650730818906,0.30889760418237094,1.5513678854253037,-1.7509145536551753,-0.169155621033073,0.809684981401493,1.0319304185412423,0.9980808541912738,1.0774436660316213,0.8738553331372387,0.2167626281308094],\"type\":\"histogram\"},{\"histfunc\":\"count\",\"histnorm\":\"\",\"marker\":{\"color\":\"rgba(128, 0, 128, 1.0)\",\"line\":{\"color\":\"#4D5663\",\"width\":1.3}},\"name\":\"D\",\"nbinsx\":30,\"opacity\":0.8,\"orientation\":\"v\",\"x\":[0.3675217620137849,2.7427008466781437,0.6255220737570883,-0.6770631133142064,0.8611524003693977,0.7325189915909454,-0.4912724703434503,-0.08990027233534309,0.7249810254170888,-0.44406845694832436,-0.11519998235144457,0.057807570007680414,1.4468154496869319,-1.3063691460575648,-1.0976511461538079,-0.144521111054121,0.9851894657897402,-0.3669124238805727,0.3900440966830113,-0.46883403147472796,0.5607883602873852,0.1959664854253068,-1.4388522302244997,0.9792903647735527,1.1534094018283618,0.4615133516294498,2.1918183430754277,0.5250412928758622,0.5001386622284841,0.2551536355520732,-0.005412224012686471,2.9221341098244342,-0.4649633760002535,0.604687207147699,0.9866743322343967,0.3713940127701445,-2.5879431288336234,-1.2628569935111595,0.8034675576116896,-0.7931092449981392,0.7424776291875992,0.13392997568809864,-1.3518633088238048,0.8622365479976225,-0.2407342066956001,-0.9783801026300155,0.7209797859368154,-0.38282624621694294,1.5716146462366636,-1.1665957113627479,0.6187301632857698,-2.186120621478108,-0.2426136169446369,0.44237996405091246,0.31750637266024034,-1.9937679194820443,-1.2624546771878686,-0.44884460876428806,0.6306675068396437,1.7501367095384082,0.48863891048392044,2.602313512763461,1.002570057651446,1.467085093335372,0.9369319026249344,1.7703646291362558,-1.1796240772203925,0.12617597344252518,-0.25609278999498675,-0.1115932258436591,0.12511197337113492,-0.1990422032617427,-0.5663920105336755,-1.5735449206488776,-0.43762023976950404,-1.0756184575691374,1.7639056749230035,0.19731050169828362,-0.11699890130357059,0.2773473721477822,0.7413590505157498,2.0416402836649428,0.576779671318424,-0.30937664994093284,1.0785633811816857,-0.2743774523138238,0.8892491714545185,0.5640933722954883,0.983842824464235,1.1610759271421396,-0.4509459056346206,-0.7272001536229342,-0.3257182965001095,0.1958487766367504,-2.372334453426788,0.2086402255634171,-0.7278070326688642,-1.3179084583713245,-1.2594262664854154,-0.9035664023169915],\"type\":\"histogram\"}],                        {\"barmode\":\"overlay\",\"legend\":{\"bgcolor\":\"#F5F6F9\",\"font\":{\"color\":\"#4D5663\"}},\"paper_bgcolor\":\"#F5F6F9\",\"plot_bgcolor\":\"#F5F6F9\",\"template\":{\"data\":{\"barpolar\":[{\"marker\":{\"line\":{\"color\":\"#E5ECF6\",\"width\":0.5},\"pattern\":{\"fillmode\":\"overlay\",\"size\":10,\"solidity\":0.2}},\"type\":\"barpolar\"}],\"bar\":[{\"error_x\":{\"color\":\"#2a3f5f\"},\"error_y\":{\"color\":\"#2a3f5f\"},\"marker\":{\"line\":{\"color\":\"#E5ECF6\",\"width\":0.5},\"pattern\":{\"fillmode\":\"overlay\",\"size\":10,\"solidity\":0.2}},\"type\":\"bar\"}],\"carpet\":[{\"aaxis\":{\"endlinecolor\":\"#2a3f5f\",\"gridcolor\":\"white\",\"linecolor\":\"white\",\"minorgridcolor\":\"white\",\"startlinecolor\":\"#2a3f5f\"},\"baxis\":{\"endlinecolor\":\"#2a3f5f\",\"gridcolor\":\"white\",\"linecolor\":\"white\",\"minorgridcolor\":\"white\",\"startlinecolor\":\"#2a3f5f\"},\"type\":\"carpet\"}],\"choropleth\":[{\"colorbar\":{\"outlinewidth\":0,\"ticks\":\"\"},\"type\":\"choropleth\"}],\"contourcarpet\":[{\"colorbar\":{\"outlinewidth\":0,\"ticks\":\"\"},\"type\":\"contourcarpet\"}],\"contour\":[{\"colorbar\":{\"outlinewidth\":0,\"ticks\":\"\"},\"colorscale\":[[0.0,\"#0d0887\"],[0.1111111111111111,\"#46039f\"],[0.2222222222222222,\"#7201a8\"],[0.3333333333333333,\"#9c179e\"],[0.4444444444444444,\"#bd3786\"],[0.5555555555555556,\"#d8576b\"],[0.6666666666666666,\"#ed7953\"],[0.7777777777777778,\"#fb9f3a\"],[0.8888888888888888,\"#fdca26\"],[1.0,\"#f0f921\"]],\"type\":\"contour\"}],\"heatmapgl\":[{\"colorbar\":{\"outlinewidth\":0,\"ticks\":\"\"},\"colorscale\":[[0.0,\"#0d0887\"],[0.1111111111111111,\"#46039f\"],[0.2222222222222222,\"#7201a8\"],[0.3333333333333333,\"#9c179e\"],[0.4444444444444444,\"#bd3786\"],[0.5555555555555556,\"#d8576b\"],[0.6666666666666666,\"#ed7953\"],[0.7777777777777778,\"#fb9f3a\"],[0.8888888888888888,\"#fdca26\"],[1.0,\"#f0f921\"]],\"type\":\"heatmapgl\"}],\"heatmap\":[{\"colorbar\":{\"outlinewidth\":0,\"ticks\":\"\"},\"colorscale\":[[0.0,\"#0d0887\"],[0.1111111111111111,\"#46039f\"],[0.2222222222222222,\"#7201a8\"],[0.3333333333333333,\"#9c179e\"],[0.4444444444444444,\"#bd3786\"],[0.5555555555555556,\"#d8576b\"],[0.6666666666666666,\"#ed7953\"],[0.7777777777777778,\"#fb9f3a\"],[0.8888888888888888,\"#fdca26\"],[1.0,\"#f0f921\"]],\"type\":\"heatmap\"}],\"histogram2dcontour\":[{\"colorbar\":{\"outlinewidth\":0,\"ticks\":\"\"},\"colorscale\":[[0.0,\"#0d0887\"],[0.1111111111111111,\"#46039f\"],[0.2222222222222222,\"#7201a8\"],[0.3333333333333333,\"#9c179e\"],[0.4444444444444444,\"#bd3786\"],[0.5555555555555556,\"#d8576b\"],[0.6666666666666666,\"#ed7953\"],[0.7777777777777778,\"#fb9f3a\"],[0.8888888888888888,\"#fdca26\"],[1.0,\"#f0f921\"]],\"type\":\"histogram2dcontour\"}],\"histogram2d\":[{\"colorbar\":{\"outlinewidth\":0,\"ticks\":\"\"},\"colorscale\":[[0.0,\"#0d0887\"],[0.1111111111111111,\"#46039f\"],[0.2222222222222222,\"#7201a8\"],[0.3333333333333333,\"#9c179e\"],[0.4444444444444444,\"#bd3786\"],[0.5555555555555556,\"#d8576b\"],[0.6666666666666666,\"#ed7953\"],[0.7777777777777778,\"#fb9f3a\"],[0.8888888888888888,\"#fdca26\"],[1.0,\"#f0f921\"]],\"type\":\"histogram2d\"}],\"histogram\":[{\"marker\":{\"pattern\":{\"fillmode\":\"overlay\",\"size\":10,\"solidity\":0.2}},\"type\":\"histogram\"}],\"mesh3d\":[{\"colorbar\":{\"outlinewidth\":0,\"ticks\":\"\"},\"type\":\"mesh3d\"}],\"parcoords\":[{\"line\":{\"colorbar\":{\"outlinewidth\":0,\"ticks\":\"\"}},\"type\":\"parcoords\"}],\"pie\":[{\"automargin\":true,\"type\":\"pie\"}],\"scatter3d\":[{\"line\":{\"colorbar\":{\"outlinewidth\":0,\"ticks\":\"\"}},\"marker\":{\"colorbar\":{\"outlinewidth\":0,\"ticks\":\"\"}},\"type\":\"scatter3d\"}],\"scattercarpet\":[{\"marker\":{\"colorbar\":{\"outlinewidth\":0,\"ticks\":\"\"}},\"type\":\"scattercarpet\"}],\"scattergeo\":[{\"marker\":{\"colorbar\":{\"outlinewidth\":0,\"ticks\":\"\"}},\"type\":\"scattergeo\"}],\"scattergl\":[{\"marker\":{\"colorbar\":{\"outlinewidth\":0,\"ticks\":\"\"}},\"type\":\"scattergl\"}],\"scattermapbox\":[{\"marker\":{\"colorbar\":{\"outlinewidth\":0,\"ticks\":\"\"}},\"type\":\"scattermapbox\"}],\"scatterpolargl\":[{\"marker\":{\"colorbar\":{\"outlinewidth\":0,\"ticks\":\"\"}},\"type\":\"scatterpolargl\"}],\"scatterpolar\":[{\"marker\":{\"colorbar\":{\"outlinewidth\":0,\"ticks\":\"\"}},\"type\":\"scatterpolar\"}],\"scatter\":[{\"fillpattern\":{\"fillmode\":\"overlay\",\"size\":10,\"solidity\":0.2},\"type\":\"scatter\"}],\"scatterternary\":[{\"marker\":{\"colorbar\":{\"outlinewidth\":0,\"ticks\":\"\"}},\"type\":\"scatterternary\"}],\"surface\":[{\"colorbar\":{\"outlinewidth\":0,\"ticks\":\"\"},\"colorscale\":[[0.0,\"#0d0887\"],[0.1111111111111111,\"#46039f\"],[0.2222222222222222,\"#7201a8\"],[0.3333333333333333,\"#9c179e\"],[0.4444444444444444,\"#bd3786\"],[0.5555555555555556,\"#d8576b\"],[0.6666666666666666,\"#ed7953\"],[0.7777777777777778,\"#fb9f3a\"],[0.8888888888888888,\"#fdca26\"],[1.0,\"#f0f921\"]],\"type\":\"surface\"}],\"table\":[{\"cells\":{\"fill\":{\"color\":\"#EBF0F8\"},\"line\":{\"color\":\"white\"}},\"header\":{\"fill\":{\"color\":\"#C8D4E3\"},\"line\":{\"color\":\"white\"}},\"type\":\"table\"}]},\"layout\":{\"annotationdefaults\":{\"arrowcolor\":\"#2a3f5f\",\"arrowhead\":0,\"arrowwidth\":1},\"autotypenumbers\":\"strict\",\"coloraxis\":{\"colorbar\":{\"outlinewidth\":0,\"ticks\":\"\"}},\"colorscale\":{\"diverging\":[[0,\"#8e0152\"],[0.1,\"#c51b7d\"],[0.2,\"#de77ae\"],[0.3,\"#f1b6da\"],[0.4,\"#fde0ef\"],[0.5,\"#f7f7f7\"],[0.6,\"#e6f5d0\"],[0.7,\"#b8e186\"],[0.8,\"#7fbc41\"],[0.9,\"#4d9221\"],[1,\"#276419\"]],\"sequential\":[[0.0,\"#0d0887\"],[0.1111111111111111,\"#46039f\"],[0.2222222222222222,\"#7201a8\"],[0.3333333333333333,\"#9c179e\"],[0.4444444444444444,\"#bd3786\"],[0.5555555555555556,\"#d8576b\"],[0.6666666666666666,\"#ed7953\"],[0.7777777777777778,\"#fb9f3a\"],[0.8888888888888888,\"#fdca26\"],[1.0,\"#f0f921\"]],\"sequentialminus\":[[0.0,\"#0d0887\"],[0.1111111111111111,\"#46039f\"],[0.2222222222222222,\"#7201a8\"],[0.3333333333333333,\"#9c179e\"],[0.4444444444444444,\"#bd3786\"],[0.5555555555555556,\"#d8576b\"],[0.6666666666666666,\"#ed7953\"],[0.7777777777777778,\"#fb9f3a\"],[0.8888888888888888,\"#fdca26\"],[1.0,\"#f0f921\"]]},\"colorway\":[\"#636efa\",\"#EF553B\",\"#00cc96\",\"#ab63fa\",\"#FFA15A\",\"#19d3f3\",\"#FF6692\",\"#B6E880\",\"#FF97FF\",\"#FECB52\"],\"font\":{\"color\":\"#2a3f5f\"},\"geo\":{\"bgcolor\":\"white\",\"lakecolor\":\"white\",\"landcolor\":\"#E5ECF6\",\"showlakes\":true,\"showland\":true,\"subunitcolor\":\"white\"},\"hoverlabel\":{\"align\":\"left\"},\"hovermode\":\"closest\",\"mapbox\":{\"style\":\"light\"},\"paper_bgcolor\":\"white\",\"plot_bgcolor\":\"#E5ECF6\",\"polar\":{\"angularaxis\":{\"gridcolor\":\"white\",\"linecolor\":\"white\",\"ticks\":\"\"},\"bgcolor\":\"#E5ECF6\",\"radialaxis\":{\"gridcolor\":\"white\",\"linecolor\":\"white\",\"ticks\":\"\"}},\"scene\":{\"xaxis\":{\"backgroundcolor\":\"#E5ECF6\",\"gridcolor\":\"white\",\"gridwidth\":2,\"linecolor\":\"white\",\"showbackground\":true,\"ticks\":\"\",\"zerolinecolor\":\"white\"},\"yaxis\":{\"backgroundcolor\":\"#E5ECF6\",\"gridcolor\":\"white\",\"gridwidth\":2,\"linecolor\":\"white\",\"showbackground\":true,\"ticks\":\"\",\"zerolinecolor\":\"white\"},\"zaxis\":{\"backgroundcolor\":\"#E5ECF6\",\"gridcolor\":\"white\",\"gridwidth\":2,\"linecolor\":\"white\",\"showbackground\":true,\"ticks\":\"\",\"zerolinecolor\":\"white\"}},\"shapedefaults\":{\"line\":{\"color\":\"#2a3f5f\"}},\"ternary\":{\"aaxis\":{\"gridcolor\":\"white\",\"linecolor\":\"white\",\"ticks\":\"\"},\"baxis\":{\"gridcolor\":\"white\",\"linecolor\":\"white\",\"ticks\":\"\"},\"bgcolor\":\"#E5ECF6\",\"caxis\":{\"gridcolor\":\"white\",\"linecolor\":\"white\",\"ticks\":\"\"}},\"title\":{\"x\":0.05},\"xaxis\":{\"automargin\":true,\"gridcolor\":\"white\",\"linecolor\":\"white\",\"ticks\":\"\",\"title\":{\"standoff\":15},\"zerolinecolor\":\"white\",\"zerolinewidth\":2},\"yaxis\":{\"automargin\":true,\"gridcolor\":\"white\",\"linecolor\":\"white\",\"ticks\":\"\",\"title\":{\"standoff\":15},\"zerolinecolor\":\"white\",\"zerolinewidth\":2}}},\"title\":{\"font\":{\"color\":\"#4D5663\"}},\"xaxis\":{\"gridcolor\":\"#E1E5ED\",\"showgrid\":true,\"tickfont\":{\"color\":\"#4D5663\"},\"title\":{\"font\":{\"color\":\"#4D5663\"},\"text\":\"\"},\"zerolinecolor\":\"#E1E5ED\"},\"yaxis\":{\"gridcolor\":\"#E1E5ED\",\"showgrid\":true,\"tickfont\":{\"color\":\"#4D5663\"},\"title\":{\"font\":{\"color\":\"#4D5663\"},\"text\":\"\"},\"zerolinecolor\":\"#E1E5ED\"}},                        {\"showLink\": true, \"linkText\": \"Export to plot.ly\", \"plotlyServerURL\": \"https://plot.ly\", \"responsive\": true}                    ).then(function(){\n                            \nvar gd = document.getElementById('b1cccc5c-d8dd-4371-a7dc-0fadd4508ee8');\nvar x = new MutationObserver(function (mutations, observer) {{\n        var display = window.getComputedStyle(gd).display;\n        if (!display || display === 'none') {{\n            console.log([gd, 'removed!']);\n            Plotly.purge(gd);\n            observer.disconnect();\n        }}\n}});\n\n// Listen for the removal of the full notebook cells\nvar notebookContainer = gd.closest('#notebook-container');\nif (notebookContainer) {{\n    x.observe(notebookContainer, {childList: true});\n}}\n\n// Listen for the clearing of the current output cell\nvar outputEl = gd.closest('.output');\nif (outputEl) {{\n    x.observe(outputEl, {childList: true});\n}}\n\n                        })                };                });            </script>        </div>"
     },
     "metadata": {},
     "output_type": "display_data"
    }
   ],
   "source": [
    "df.iplot(kind='hist',bins=30)"
   ],
   "metadata": {
    "collapsed": false,
    "pycharm": {
     "name": "#%%\n"
    }
   }
  },
  {
   "cell_type": "code",
   "execution_count": 52,
   "outputs": [
    {
     "name": "stderr",
     "output_type": "stream",
     "text": [
      "C:\\Users\\Ali\\AppData\\Local\\Programs\\Python\\Python36\\lib\\site-packages\\cufflinks\\plotlytools.py:849: FutureWarning:\n",
      "\n",
      "The pandas.np module is deprecated and will be removed from pandas in a future version. Import numpy directly instead\n",
      "\n",
      "C:\\Users\\Ali\\AppData\\Local\\Programs\\Python\\Python36\\lib\\site-packages\\cufflinks\\plotlytools.py:850: FutureWarning:\n",
      "\n",
      "The pandas.np module is deprecated and will be removed from pandas in a future version. Import numpy directly instead\n",
      "\n"
     ]
    },
    {
     "data": {
      "application/vnd.plotly.v1+json": {
       "data": [
        {
         "line": {
          "color": "rgba(255, 153, 51, 1.0)",
          "dash": "solid",
          "shape": "linear",
          "width": 1.3
         },
         "mode": "lines",
         "name": "A",
         "text": "",
         "x": [
          0,
          1,
          2,
          3,
          4,
          5,
          6,
          7,
          8,
          9,
          10,
          11,
          12,
          13,
          14,
          15,
          16,
          17,
          18,
          19,
          20,
          21,
          22,
          23,
          24,
          25,
          26,
          27,
          28,
          29,
          30,
          31,
          32,
          33,
          34,
          35,
          36,
          37,
          38,
          39,
          40,
          41,
          42,
          43,
          44,
          45,
          46,
          47,
          48,
          49,
          50,
          51,
          52,
          53,
          54,
          55,
          56,
          57,
          58,
          59,
          60,
          61,
          62,
          63,
          64,
          65,
          66,
          67,
          68,
          69,
          70,
          71,
          72,
          73,
          74,
          75,
          76,
          77,
          78,
          79,
          80,
          81,
          82,
          83,
          84,
          85,
          86,
          87,
          88,
          89,
          90,
          91,
          92,
          93,
          94,
          95,
          96,
          97,
          98,
          99
         ],
         "y": [
          1.80900659363173,
          0.035274995502989924,
          -1.3725782517059886,
          0.012016290428291753,
          1.000469906945173,
          -0.6195273127982366,
          -0.5493763932833622,
          -0.9911107758158834,
          0.23248967391723316,
          -0.14506312346767283,
          0.34184931249590944,
          0.2715616077472833,
          0.8393674963432226,
          -0.10711850809753216,
          1.8812271802120675,
          1.0538530621847526,
          -0.29984010726672844,
          -1.0005896037131567,
          0.6236039509447258,
          2.547660303248421,
          0.3645808633949736,
          0.7584190685180403,
          -1.3718605252785057,
          1.1236466096015902,
          -0.6575364883108161,
          -0.7435742465354352,
          -0.9510929805192601,
          -0.7250355706046863,
          -0.3010833740014651,
          -0.8365580045456453,
          0.5375896300969594,
          0.4250820358790253,
          -1.4817640383211563,
          1.0742946624051832,
          -1.6615502948070402,
          -0.4539105034533779,
          0.9627637686417985,
          1.0917899219961893,
          0.40651750118727115,
          0.30539547233503134,
          0.7154867771216606,
          0.4988743495347605,
          0.8934197814724031,
          -0.7226701733307364,
          -0.6212640967281962,
          -0.20366491195303663,
          0.6293167407460972,
          0.932849322897483,
          0.0889989385329877,
          -0.009742713919367142,
          0.8547431702291997,
          -0.06513079400429111,
          -0.5810102718413085,
          -0.9663593983135926,
          0.6305616168977342,
          1.9913392481918006,
          -1.9776861325927175,
          2.0202457074867883,
          -1.0347658552177048,
          -0.6695623864365713,
          1.183237535410795,
          0.4225713154856195,
          1.2265275340992094,
          -1.620088276804922,
          0.36251610386564465,
          -0.39921777940713343,
          0.19623576958325684,
          -0.28567696303803214,
          -0.40868573997383634,
          0.4589878761780295,
          -0.8307604519242388,
          0.46409171043276753,
          -0.7934822881525643,
          -0.48507069853990153,
          1.0898652590025368,
          -1.3743038367541152,
          0.581212864653542,
          0.30331914137158783,
          -1.2179046818674735,
          -2.103526750442117,
          0.6834448164214543,
          -0.15730645803113177,
          0.9021369402599491,
          -1.1694166086342517,
          0.8148051426930465,
          0.9444288848742953,
          -0.6589176826651596,
          0.5351669268927843,
          0.20689663682579865,
          0.832979037395156,
          0.5435340867904964,
          1.2929265303581408,
          -1.014503830555063,
          1.3097655276016194,
          -0.3053438162070056,
          -0.828368648201911,
          1.189594403334678,
          -0.37242628836792796,
          0.42166106976218076,
          -0.7112018906041686
         ],
         "type": "scatter"
        },
        {
         "line": {
          "color": "rgba(55, 128, 191, 1.0)",
          "dash": "solid",
          "shape": "linear",
          "width": 1.3
         },
         "mode": "lines",
         "name": "B",
         "text": "",
         "x": [
          0,
          1,
          2,
          3,
          4,
          5,
          6,
          7,
          8,
          9,
          10,
          11,
          12,
          13,
          14,
          15,
          16,
          17,
          18,
          19,
          20,
          21,
          22,
          23,
          24,
          25,
          26,
          27,
          28,
          29,
          30,
          31,
          32,
          33,
          34,
          35,
          36,
          37,
          38,
          39,
          40,
          41,
          42,
          43,
          44,
          45,
          46,
          47,
          48,
          49,
          50,
          51,
          52,
          53,
          54,
          55,
          56,
          57,
          58,
          59,
          60,
          61,
          62,
          63,
          64,
          65,
          66,
          67,
          68,
          69,
          70,
          71,
          72,
          73,
          74,
          75,
          76,
          77,
          78,
          79,
          80,
          81,
          82,
          83,
          84,
          85,
          86,
          87,
          88,
          89,
          90,
          91,
          92,
          93,
          94,
          95,
          96,
          97,
          98,
          99
         ],
         "y": [
          0.9062930594144116,
          -1.4386362389423506,
          1.1369677802935936,
          2.3716105706749393,
          1.148561136980701,
          1.6384945821750838,
          -1.0740830064136329,
          -0.43741065236894316,
          0.5358574650869486,
          -0.2698795505516891,
          2.0197447105345563,
          0.4338245435899058,
          -0.6403534451698525,
          -1.895132322156619,
          0.047493285900842584,
          -0.21672463780566728,
          0.5117649446224504,
          0.7263239901604835,
          -1.4270079547470809,
          1.1684892701521439,
          -0.07635059518062,
          1.015995199829917,
          1.7008504923460286,
          -0.6630221858617115,
          -0.12131160545398256,
          2.201409865619109,
          1.5871548335880958,
          -1.4170235508141886,
          0.4156143179575276,
          -1.011196408980938,
          0.19523384068338345,
          -0.505399740247492,
          0.5600637862451191,
          -1.626626394671511,
          -2.242945396816825,
          -0.3172556011350909,
          0.15744150179076394,
          -0.6441237430038943,
          -1.154805552889705,
          1.0045417479266496,
          1.497029918691306,
          -1.374787336108716,
          0.09899565870554397,
          0.6142923431050662,
          -0.7587059584886806,
          1.4865210628371175,
          0.7245101896757082,
          2.212384737378364,
          1.1415859663818204,
          -0.48716608639593195,
          -1.492873229229848,
          -1.5580771150038115,
          0.7487385861972751,
          -0.4069196752359965,
          -1.0686371070370626,
          1.8751590252659465,
          -0.9859316483422285,
          -0.40126887692683005,
          1.3394051974576617,
          0.3400675786361936,
          1.6939200545861288,
          -1.2304126744784363,
          -0.009358785317534316,
          1.32881769350092,
          0.6380471903856916,
          -1.127888255950146,
          0.1362958685262489,
          0.9844415462026761,
          -2.3449585435451508,
          -1.1988283052407933,
          0.5902775129859864,
          -0.2816083952687804,
          2.170089395418066,
          -0.7535625814479999,
          0.1256440369012715,
          1.0710620740031642,
          -0.15147133419631562,
          0.708410299017189,
          0.5601583538557442,
          -1.0401882243373572,
          1.7056167441988201,
          0.6850843008365208,
          0.2524170417029744,
          0.4239316576340395,
          0.30856412170761116,
          -0.8120128362314452,
          -1.0248295324212153,
          0.9691832786744989,
          -0.7809378279230037,
          0.5199528377506104,
          -0.5823558298607444,
          0.02242888516997846,
          -1.8483439458823425,
          0.1683359982946268,
          0.44883480148149857,
          0.27644036079912226,
          0.5001592299352902,
          1.707276028881522,
          -0.3499034827519047,
          -0.1658350539232574
         ],
         "type": "scatter"
        },
        {
         "connectgaps": false,
         "fill": "tozeroy",
         "line": {
          "color": "green",
          "dash": "solid",
          "shape": "linear",
          "width": 0.5
         },
         "mode": "lines",
         "name": "Spread",
         "showlegend": false,
         "x": [
          0,
          1,
          2,
          3,
          4,
          5,
          6,
          7,
          8,
          9,
          10,
          11,
          12,
          13,
          14,
          15,
          16,
          17,
          18,
          19,
          20,
          21,
          22,
          23,
          24,
          25,
          26,
          27,
          28,
          29,
          30,
          31,
          32,
          33,
          34,
          35,
          36,
          37,
          38,
          39,
          40,
          41,
          42,
          43,
          44,
          45,
          46,
          47,
          48,
          49,
          50,
          51,
          52,
          53,
          54,
          55,
          56,
          57,
          58,
          59,
          60,
          61,
          62,
          63,
          64,
          65,
          66,
          67,
          68,
          69,
          70,
          71,
          72,
          73,
          74,
          75,
          76,
          77,
          78,
          79,
          80,
          81,
          82,
          83,
          84,
          85,
          86,
          87,
          88,
          89,
          90,
          91,
          92,
          93,
          94,
          95,
          96,
          97,
          98,
          99
         ],
         "xaxis": "x2",
         "y": [
          0.9027135342173185,
          1.4739112344453404,
          "",
          "",
          "",
          "",
          0.5247066131302707,
          "",
          "",
          0.12481642708401627,
          "",
          "",
          1.479720941513075,
          1.7880138140590869,
          1.833733894311225,
          1.27057769999042,
          "",
          "",
          2.050611905691807,
          1.3791710330962772,
          0.44093145857559357,
          "",
          "",
          1.7866687954633016,
          "",
          "",
          "",
          0.6919879802095024,
          "",
          0.17463840443529266,
          0.3423557894135759,
          0.9304817761265174,
          "",
          2.700921057076694,
          0.5813951020097847,
          "",
          0.8053222668510345,
          1.7359136650000835,
          1.561323054076976,
          "",
          "",
          1.8736616856434765,
          0.7944241227668591,
          "",
          0.13744186176048445,
          "",
          "",
          "",
          "",
          0.4774233724765648,
          2.3476163994590475,
          1.4929463209995204,
          "",
          "",
          1.6991987239347968,
          0.11618022292585417,
          "",
          2.4215145844136186,
          "",
          "",
          "",
          1.6529839899640557,
          1.2358863194167438,
          "",
          "",
          0.7286704765430125,
          0.059939901057007944,
          "",
          1.9362728035713144,
          1.6578161814188228,
          "",
          0.745700105701548,
          "",
          0.2684918829080984,
          0.9642212221012654,
          "",
          0.7326841988498577,
          "",
          "",
          "",
          "",
          "",
          0.6497198985569747,
          "",
          0.5062410209854353,
          1.7564417211057406,
          0.36591184975605573,
          "",
          0.9878344647488023,
          0.3130261996445456,
          1.1258899166512408,
          1.2704976451881622,
          0.8338401153272794,
          1.1414295293069925,
          "",
          "",
          0.6894351733993878,
          "",
          0.7715645525140855,
          ""
         ],
         "yaxis": "y2",
         "type": "scatter"
        },
        {
         "connectgaps": false,
         "fill": "tozeroy",
         "line": {
          "color": "red",
          "dash": "solid",
          "shape": "linear",
          "width": 0.5
         },
         "mode": "lines",
         "name": "Spread",
         "showlegend": false,
         "x": [
          0,
          1,
          2,
          3,
          4,
          5,
          6,
          7,
          8,
          9,
          10,
          11,
          12,
          13,
          14,
          15,
          16,
          17,
          18,
          19,
          20,
          21,
          22,
          23,
          24,
          25,
          26,
          27,
          28,
          29,
          30,
          31,
          32,
          33,
          34,
          35,
          36,
          37,
          38,
          39,
          40,
          41,
          42,
          43,
          44,
          45,
          46,
          47,
          48,
          49,
          50,
          51,
          52,
          53,
          54,
          55,
          56,
          57,
          58,
          59,
          60,
          61,
          62,
          63,
          64,
          65,
          66,
          67,
          68,
          69,
          70,
          71,
          72,
          73,
          74,
          75,
          76,
          77,
          78,
          79,
          80,
          81,
          82,
          83,
          84,
          85,
          86,
          87,
          88,
          89,
          90,
          91,
          92,
          93,
          94,
          95,
          96,
          97,
          98,
          99
         ],
         "xaxis": "x2",
         "y": [
          "",
          "",
          -2.509546031999582,
          -2.3595942802466476,
          -0.14809123003552793,
          -2.2580218949733206,
          "",
          -0.5537001234469402,
          -0.30336779116971546,
          "",
          -1.6778953980386468,
          -0.16226293584262252,
          "",
          "",
          "",
          "",
          -0.8116050518891789,
          -1.7269135938736402,
          "",
          "",
          "",
          -0.25757613131187673,
          -3.0727110176245342,
          "",
          -0.5362248828568336,
          -2.944984112154544,
          -2.538247814107356,
          "",
          -0.7166976919589927,
          "",
          "",
          "",
          -2.0418278245662753,
          "",
          "",
          -0.13665490231828703,
          "",
          "",
          "",
          -0.6991462755916182,
          -0.7815431415696454,
          "",
          "",
          -1.3369625164358026,
          "",
          -1.6901859747901542,
          -0.09519344892961101,
          -1.2795354144808808,
          -1.0525870278488327,
          "",
          "",
          "",
          -1.3297488580385837,
          -0.5594397230775962,
          "",
          "",
          -0.9917544842504891,
          "",
          -2.3741710526753668,
          -1.009629965072765,
          -0.5106825191753339,
          "",
          "",
          -2.948905970305842,
          -0.27553108652004693,
          "",
          "",
          -1.2701185092407083,
          "",
          "",
          -1.4210379649102252,
          "",
          -2.9635716835706303,
          "",
          "",
          -2.445365910757279,
          "",
          -0.40509115764560116,
          -1.7780630357232177,
          -1.0633385261047597,
          -1.0221719277773658,
          -0.8423907588676526,
          "",
          -1.5933482662682912,
          "",
          "",
          "",
          -0.4340163517817146,
          "",
          "",
          "",
          "",
          "",
          "",
          -0.7541786176885041,
          -1.1048090090010332,
          "",
          -2.07970231724945,
          "",
          -0.5453668366809112
         ],
         "yaxis": "y2",
         "type": "scatter"
        }
       ],
       "layout": {
        "hovermode": "x",
        "legend": {
         "bgcolor": "#F5F6F9",
         "font": {
          "color": "#4D5663"
         }
        },
        "paper_bgcolor": "#F5F6F9",
        "plot_bgcolor": "#F5F6F9",
        "template": {
         "data": {
          "barpolar": [
           {
            "marker": {
             "line": {
              "color": "#E5ECF6",
              "width": 0.5
             },
             "pattern": {
              "fillmode": "overlay",
              "size": 10,
              "solidity": 0.2
             }
            },
            "type": "barpolar"
           }
          ],
          "bar": [
           {
            "error_x": {
             "color": "#2a3f5f"
            },
            "error_y": {
             "color": "#2a3f5f"
            },
            "marker": {
             "line": {
              "color": "#E5ECF6",
              "width": 0.5
             },
             "pattern": {
              "fillmode": "overlay",
              "size": 10,
              "solidity": 0.2
             }
            },
            "type": "bar"
           }
          ],
          "carpet": [
           {
            "aaxis": {
             "endlinecolor": "#2a3f5f",
             "gridcolor": "white",
             "linecolor": "white",
             "minorgridcolor": "white",
             "startlinecolor": "#2a3f5f"
            },
            "baxis": {
             "endlinecolor": "#2a3f5f",
             "gridcolor": "white",
             "linecolor": "white",
             "minorgridcolor": "white",
             "startlinecolor": "#2a3f5f"
            },
            "type": "carpet"
           }
          ],
          "choropleth": [
           {
            "colorbar": {
             "outlinewidth": 0,
             "ticks": ""
            },
            "type": "choropleth"
           }
          ],
          "contourcarpet": [
           {
            "colorbar": {
             "outlinewidth": 0,
             "ticks": ""
            },
            "type": "contourcarpet"
           }
          ],
          "contour": [
           {
            "colorbar": {
             "outlinewidth": 0,
             "ticks": ""
            },
            "colorscale": [
             [
              0.0,
              "#0d0887"
             ],
             [
              0.1111111111111111,
              "#46039f"
             ],
             [
              0.2222222222222222,
              "#7201a8"
             ],
             [
              0.3333333333333333,
              "#9c179e"
             ],
             [
              0.4444444444444444,
              "#bd3786"
             ],
             [
              0.5555555555555556,
              "#d8576b"
             ],
             [
              0.6666666666666666,
              "#ed7953"
             ],
             [
              0.7777777777777778,
              "#fb9f3a"
             ],
             [
              0.8888888888888888,
              "#fdca26"
             ],
             [
              1.0,
              "#f0f921"
             ]
            ],
            "type": "contour"
           }
          ],
          "heatmapgl": [
           {
            "colorbar": {
             "outlinewidth": 0,
             "ticks": ""
            },
            "colorscale": [
             [
              0.0,
              "#0d0887"
             ],
             [
              0.1111111111111111,
              "#46039f"
             ],
             [
              0.2222222222222222,
              "#7201a8"
             ],
             [
              0.3333333333333333,
              "#9c179e"
             ],
             [
              0.4444444444444444,
              "#bd3786"
             ],
             [
              0.5555555555555556,
              "#d8576b"
             ],
             [
              0.6666666666666666,
              "#ed7953"
             ],
             [
              0.7777777777777778,
              "#fb9f3a"
             ],
             [
              0.8888888888888888,
              "#fdca26"
             ],
             [
              1.0,
              "#f0f921"
             ]
            ],
            "type": "heatmapgl"
           }
          ],
          "heatmap": [
           {
            "colorbar": {
             "outlinewidth": 0,
             "ticks": ""
            },
            "colorscale": [
             [
              0.0,
              "#0d0887"
             ],
             [
              0.1111111111111111,
              "#46039f"
             ],
             [
              0.2222222222222222,
              "#7201a8"
             ],
             [
              0.3333333333333333,
              "#9c179e"
             ],
             [
              0.4444444444444444,
              "#bd3786"
             ],
             [
              0.5555555555555556,
              "#d8576b"
             ],
             [
              0.6666666666666666,
              "#ed7953"
             ],
             [
              0.7777777777777778,
              "#fb9f3a"
             ],
             [
              0.8888888888888888,
              "#fdca26"
             ],
             [
              1.0,
              "#f0f921"
             ]
            ],
            "type": "heatmap"
           }
          ],
          "histogram2dcontour": [
           {
            "colorbar": {
             "outlinewidth": 0,
             "ticks": ""
            },
            "colorscale": [
             [
              0.0,
              "#0d0887"
             ],
             [
              0.1111111111111111,
              "#46039f"
             ],
             [
              0.2222222222222222,
              "#7201a8"
             ],
             [
              0.3333333333333333,
              "#9c179e"
             ],
             [
              0.4444444444444444,
              "#bd3786"
             ],
             [
              0.5555555555555556,
              "#d8576b"
             ],
             [
              0.6666666666666666,
              "#ed7953"
             ],
             [
              0.7777777777777778,
              "#fb9f3a"
             ],
             [
              0.8888888888888888,
              "#fdca26"
             ],
             [
              1.0,
              "#f0f921"
             ]
            ],
            "type": "histogram2dcontour"
           }
          ],
          "histogram2d": [
           {
            "colorbar": {
             "outlinewidth": 0,
             "ticks": ""
            },
            "colorscale": [
             [
              0.0,
              "#0d0887"
             ],
             [
              0.1111111111111111,
              "#46039f"
             ],
             [
              0.2222222222222222,
              "#7201a8"
             ],
             [
              0.3333333333333333,
              "#9c179e"
             ],
             [
              0.4444444444444444,
              "#bd3786"
             ],
             [
              0.5555555555555556,
              "#d8576b"
             ],
             [
              0.6666666666666666,
              "#ed7953"
             ],
             [
              0.7777777777777778,
              "#fb9f3a"
             ],
             [
              0.8888888888888888,
              "#fdca26"
             ],
             [
              1.0,
              "#f0f921"
             ]
            ],
            "type": "histogram2d"
           }
          ],
          "histogram": [
           {
            "marker": {
             "pattern": {
              "fillmode": "overlay",
              "size": 10,
              "solidity": 0.2
             }
            },
            "type": "histogram"
           }
          ],
          "mesh3d": [
           {
            "colorbar": {
             "outlinewidth": 0,
             "ticks": ""
            },
            "type": "mesh3d"
           }
          ],
          "parcoords": [
           {
            "line": {
             "colorbar": {
              "outlinewidth": 0,
              "ticks": ""
             }
            },
            "type": "parcoords"
           }
          ],
          "pie": [
           {
            "automargin": true,
            "type": "pie"
           }
          ],
          "scatter3d": [
           {
            "line": {
             "colorbar": {
              "outlinewidth": 0,
              "ticks": ""
             }
            },
            "marker": {
             "colorbar": {
              "outlinewidth": 0,
              "ticks": ""
             }
            },
            "type": "scatter3d"
           }
          ],
          "scattercarpet": [
           {
            "marker": {
             "colorbar": {
              "outlinewidth": 0,
              "ticks": ""
             }
            },
            "type": "scattercarpet"
           }
          ],
          "scattergeo": [
           {
            "marker": {
             "colorbar": {
              "outlinewidth": 0,
              "ticks": ""
             }
            },
            "type": "scattergeo"
           }
          ],
          "scattergl": [
           {
            "marker": {
             "colorbar": {
              "outlinewidth": 0,
              "ticks": ""
             }
            },
            "type": "scattergl"
           }
          ],
          "scattermapbox": [
           {
            "marker": {
             "colorbar": {
              "outlinewidth": 0,
              "ticks": ""
             }
            },
            "type": "scattermapbox"
           }
          ],
          "scatterpolargl": [
           {
            "marker": {
             "colorbar": {
              "outlinewidth": 0,
              "ticks": ""
             }
            },
            "type": "scatterpolargl"
           }
          ],
          "scatterpolar": [
           {
            "marker": {
             "colorbar": {
              "outlinewidth": 0,
              "ticks": ""
             }
            },
            "type": "scatterpolar"
           }
          ],
          "scatter": [
           {
            "fillpattern": {
             "fillmode": "overlay",
             "size": 10,
             "solidity": 0.2
            },
            "type": "scatter"
           }
          ],
          "scatterternary": [
           {
            "marker": {
             "colorbar": {
              "outlinewidth": 0,
              "ticks": ""
             }
            },
            "type": "scatterternary"
           }
          ],
          "surface": [
           {
            "colorbar": {
             "outlinewidth": 0,
             "ticks": ""
            },
            "colorscale": [
             [
              0.0,
              "#0d0887"
             ],
             [
              0.1111111111111111,
              "#46039f"
             ],
             [
              0.2222222222222222,
              "#7201a8"
             ],
             [
              0.3333333333333333,
              "#9c179e"
             ],
             [
              0.4444444444444444,
              "#bd3786"
             ],
             [
              0.5555555555555556,
              "#d8576b"
             ],
             [
              0.6666666666666666,
              "#ed7953"
             ],
             [
              0.7777777777777778,
              "#fb9f3a"
             ],
             [
              0.8888888888888888,
              "#fdca26"
             ],
             [
              1.0,
              "#f0f921"
             ]
            ],
            "type": "surface"
           }
          ],
          "table": [
           {
            "cells": {
             "fill": {
              "color": "#EBF0F8"
             },
             "line": {
              "color": "white"
             }
            },
            "header": {
             "fill": {
              "color": "#C8D4E3"
             },
             "line": {
              "color": "white"
             }
            },
            "type": "table"
           }
          ]
         },
         "layout": {
          "annotationdefaults": {
           "arrowcolor": "#2a3f5f",
           "arrowhead": 0,
           "arrowwidth": 1
          },
          "autotypenumbers": "strict",
          "coloraxis": {
           "colorbar": {
            "outlinewidth": 0,
            "ticks": ""
           }
          },
          "colorscale": {
           "diverging": [
            [
             0,
             "#8e0152"
            ],
            [
             0.1,
             "#c51b7d"
            ],
            [
             0.2,
             "#de77ae"
            ],
            [
             0.3,
             "#f1b6da"
            ],
            [
             0.4,
             "#fde0ef"
            ],
            [
             0.5,
             "#f7f7f7"
            ],
            [
             0.6,
             "#e6f5d0"
            ],
            [
             0.7,
             "#b8e186"
            ],
            [
             0.8,
             "#7fbc41"
            ],
            [
             0.9,
             "#4d9221"
            ],
            [
             1,
             "#276419"
            ]
           ],
           "sequential": [
            [
             0.0,
             "#0d0887"
            ],
            [
             0.1111111111111111,
             "#46039f"
            ],
            [
             0.2222222222222222,
             "#7201a8"
            ],
            [
             0.3333333333333333,
             "#9c179e"
            ],
            [
             0.4444444444444444,
             "#bd3786"
            ],
            [
             0.5555555555555556,
             "#d8576b"
            ],
            [
             0.6666666666666666,
             "#ed7953"
            ],
            [
             0.7777777777777778,
             "#fb9f3a"
            ],
            [
             0.8888888888888888,
             "#fdca26"
            ],
            [
             1.0,
             "#f0f921"
            ]
           ],
           "sequentialminus": [
            [
             0.0,
             "#0d0887"
            ],
            [
             0.1111111111111111,
             "#46039f"
            ],
            [
             0.2222222222222222,
             "#7201a8"
            ],
            [
             0.3333333333333333,
             "#9c179e"
            ],
            [
             0.4444444444444444,
             "#bd3786"
            ],
            [
             0.5555555555555556,
             "#d8576b"
            ],
            [
             0.6666666666666666,
             "#ed7953"
            ],
            [
             0.7777777777777778,
             "#fb9f3a"
            ],
            [
             0.8888888888888888,
             "#fdca26"
            ],
            [
             1.0,
             "#f0f921"
            ]
           ]
          },
          "colorway": [
           "#636efa",
           "#EF553B",
           "#00cc96",
           "#ab63fa",
           "#FFA15A",
           "#19d3f3",
           "#FF6692",
           "#B6E880",
           "#FF97FF",
           "#FECB52"
          ],
          "font": {
           "color": "#2a3f5f"
          },
          "geo": {
           "bgcolor": "white",
           "lakecolor": "white",
           "landcolor": "#E5ECF6",
           "showlakes": true,
           "showland": true,
           "subunitcolor": "white"
          },
          "hoverlabel": {
           "align": "left"
          },
          "hovermode": "closest",
          "mapbox": {
           "style": "light"
          },
          "paper_bgcolor": "white",
          "plot_bgcolor": "#E5ECF6",
          "polar": {
           "angularaxis": {
            "gridcolor": "white",
            "linecolor": "white",
            "ticks": ""
           },
           "bgcolor": "#E5ECF6",
           "radialaxis": {
            "gridcolor": "white",
            "linecolor": "white",
            "ticks": ""
           }
          },
          "scene": {
           "xaxis": {
            "backgroundcolor": "#E5ECF6",
            "gridcolor": "white",
            "gridwidth": 2,
            "linecolor": "white",
            "showbackground": true,
            "ticks": "",
            "zerolinecolor": "white"
           },
           "yaxis": {
            "backgroundcolor": "#E5ECF6",
            "gridcolor": "white",
            "gridwidth": 2,
            "linecolor": "white",
            "showbackground": true,
            "ticks": "",
            "zerolinecolor": "white"
           },
           "zaxis": {
            "backgroundcolor": "#E5ECF6",
            "gridcolor": "white",
            "gridwidth": 2,
            "linecolor": "white",
            "showbackground": true,
            "ticks": "",
            "zerolinecolor": "white"
           }
          },
          "shapedefaults": {
           "line": {
            "color": "#2a3f5f"
           }
          },
          "ternary": {
           "aaxis": {
            "gridcolor": "white",
            "linecolor": "white",
            "ticks": ""
           },
           "baxis": {
            "gridcolor": "white",
            "linecolor": "white",
            "ticks": ""
           },
           "bgcolor": "#E5ECF6",
           "caxis": {
            "gridcolor": "white",
            "linecolor": "white",
            "ticks": ""
           }
          },
          "title": {
           "x": 0.05
          },
          "xaxis": {
           "automargin": true,
           "gridcolor": "white",
           "linecolor": "white",
           "ticks": "",
           "title": {
            "standoff": 15
           },
           "zerolinecolor": "white",
           "zerolinewidth": 2
          },
          "yaxis": {
           "automargin": true,
           "gridcolor": "white",
           "linecolor": "white",
           "ticks": "",
           "title": {
            "standoff": 15
           },
           "zerolinecolor": "white",
           "zerolinewidth": 2
          }
         }
        },
        "title": {
         "font": {
          "color": "#4D5663"
         }
        },
        "xaxis": {
         "gridcolor": "#E1E5ED",
         "showgrid": true,
         "tickfont": {
          "color": "#4D5663"
         },
         "title": {
          "font": {
           "color": "#4D5663"
          },
          "text": ""
         },
         "zerolinecolor": "#E1E5ED"
        },
        "yaxis": {
         "domain": [
          0.3,
          1
         ],
         "gridcolor": "#E1E5ED",
         "showgrid": true,
         "tickfont": {
          "color": "#4D5663"
         },
         "title": {
          "font": {
           "color": "#4D5663"
          },
          "text": ""
         },
         "zerolinecolor": "#E1E5ED"
        },
        "yaxis2": {
         "domain": [
          0,
          0.25
         ],
         "gridcolor": "#E1E5ED",
         "showgrid": true,
         "tickfont": {
          "color": "#4D5663"
         },
         "title": {
          "font": {
           "color": "#4D5663"
          },
          "text": "Spread"
         },
         "zerolinecolor": "#E1E5ED"
        },
        "xaxis2": {
         "anchor": "y2",
         "gridcolor": "#E1E5ED",
         "showgrid": true,
         "showticklabels": false,
         "tickfont": {
          "color": "#4D5663"
         },
         "title": {
          "font": {
           "color": "#4D5663"
          },
          "text": ""
         },
         "zerolinecolor": "#E1E5ED"
        }
       },
       "config": {
        "showLink": true,
        "linkText": "Export to plot.ly",
        "plotlyServerURL": "https://plot.ly"
       }
      },
      "text/html": "<div>                            <div id=\"bc0df126-4244-497f-a08d-8d725b9a2b33\" class=\"plotly-graph-div\" style=\"height:525px; width:100%;\"></div>            <script type=\"text/javascript\">                require([\"plotly\"], function(Plotly) {                    window.PLOTLYENV=window.PLOTLYENV || {};\n                    window.PLOTLYENV.BASE_URL='https://plot.ly';                                    if (document.getElementById(\"bc0df126-4244-497f-a08d-8d725b9a2b33\")) {                    Plotly.newPlot(                        \"bc0df126-4244-497f-a08d-8d725b9a2b33\",                        [{\"line\":{\"color\":\"rgba(255, 153, 51, 1.0)\",\"dash\":\"solid\",\"shape\":\"linear\",\"width\":1.3},\"mode\":\"lines\",\"name\":\"A\",\"text\":\"\",\"x\":[0,1,2,3,4,5,6,7,8,9,10,11,12,13,14,15,16,17,18,19,20,21,22,23,24,25,26,27,28,29,30,31,32,33,34,35,36,37,38,39,40,41,42,43,44,45,46,47,48,49,50,51,52,53,54,55,56,57,58,59,60,61,62,63,64,65,66,67,68,69,70,71,72,73,74,75,76,77,78,79,80,81,82,83,84,85,86,87,88,89,90,91,92,93,94,95,96,97,98,99],\"y\":[1.80900659363173,0.035274995502989924,-1.3725782517059886,0.012016290428291753,1.000469906945173,-0.6195273127982366,-0.5493763932833622,-0.9911107758158834,0.23248967391723316,-0.14506312346767283,0.34184931249590944,0.2715616077472833,0.8393674963432226,-0.10711850809753216,1.8812271802120675,1.0538530621847526,-0.29984010726672844,-1.0005896037131567,0.6236039509447258,2.547660303248421,0.3645808633949736,0.7584190685180403,-1.3718605252785057,1.1236466096015902,-0.6575364883108161,-0.7435742465354352,-0.9510929805192601,-0.7250355706046863,-0.3010833740014651,-0.8365580045456453,0.5375896300969594,0.4250820358790253,-1.4817640383211563,1.0742946624051832,-1.6615502948070402,-0.4539105034533779,0.9627637686417985,1.0917899219961893,0.40651750118727115,0.30539547233503134,0.7154867771216606,0.4988743495347605,0.8934197814724031,-0.7226701733307364,-0.6212640967281962,-0.20366491195303663,0.6293167407460972,0.932849322897483,0.0889989385329877,-0.009742713919367142,0.8547431702291997,-0.06513079400429111,-0.5810102718413085,-0.9663593983135926,0.6305616168977342,1.9913392481918006,-1.9776861325927175,2.0202457074867883,-1.0347658552177048,-0.6695623864365713,1.183237535410795,0.4225713154856195,1.2265275340992094,-1.620088276804922,0.36251610386564465,-0.39921777940713343,0.19623576958325684,-0.28567696303803214,-0.40868573997383634,0.4589878761780295,-0.8307604519242388,0.46409171043276753,-0.7934822881525643,-0.48507069853990153,1.0898652590025368,-1.3743038367541152,0.581212864653542,0.30331914137158783,-1.2179046818674735,-2.103526750442117,0.6834448164214543,-0.15730645803113177,0.9021369402599491,-1.1694166086342517,0.8148051426930465,0.9444288848742953,-0.6589176826651596,0.5351669268927843,0.20689663682579865,0.832979037395156,0.5435340867904964,1.2929265303581408,-1.014503830555063,1.3097655276016194,-0.3053438162070056,-0.828368648201911,1.189594403334678,-0.37242628836792796,0.42166106976218076,-0.7112018906041686],\"type\":\"scatter\"},{\"line\":{\"color\":\"rgba(55, 128, 191, 1.0)\",\"dash\":\"solid\",\"shape\":\"linear\",\"width\":1.3},\"mode\":\"lines\",\"name\":\"B\",\"text\":\"\",\"x\":[0,1,2,3,4,5,6,7,8,9,10,11,12,13,14,15,16,17,18,19,20,21,22,23,24,25,26,27,28,29,30,31,32,33,34,35,36,37,38,39,40,41,42,43,44,45,46,47,48,49,50,51,52,53,54,55,56,57,58,59,60,61,62,63,64,65,66,67,68,69,70,71,72,73,74,75,76,77,78,79,80,81,82,83,84,85,86,87,88,89,90,91,92,93,94,95,96,97,98,99],\"y\":[0.9062930594144116,-1.4386362389423506,1.1369677802935936,2.3716105706749393,1.148561136980701,1.6384945821750838,-1.0740830064136329,-0.43741065236894316,0.5358574650869486,-0.2698795505516891,2.0197447105345563,0.4338245435899058,-0.6403534451698525,-1.895132322156619,0.047493285900842584,-0.21672463780566728,0.5117649446224504,0.7263239901604835,-1.4270079547470809,1.1684892701521439,-0.07635059518062,1.015995199829917,1.7008504923460286,-0.6630221858617115,-0.12131160545398256,2.201409865619109,1.5871548335880958,-1.4170235508141886,0.4156143179575276,-1.011196408980938,0.19523384068338345,-0.505399740247492,0.5600637862451191,-1.626626394671511,-2.242945396816825,-0.3172556011350909,0.15744150179076394,-0.6441237430038943,-1.154805552889705,1.0045417479266496,1.497029918691306,-1.374787336108716,0.09899565870554397,0.6142923431050662,-0.7587059584886806,1.4865210628371175,0.7245101896757082,2.212384737378364,1.1415859663818204,-0.48716608639593195,-1.492873229229848,-1.5580771150038115,0.7487385861972751,-0.4069196752359965,-1.0686371070370626,1.8751590252659465,-0.9859316483422285,-0.40126887692683005,1.3394051974576617,0.3400675786361936,1.6939200545861288,-1.2304126744784363,-0.009358785317534316,1.32881769350092,0.6380471903856916,-1.127888255950146,0.1362958685262489,0.9844415462026761,-2.3449585435451508,-1.1988283052407933,0.5902775129859864,-0.2816083952687804,2.170089395418066,-0.7535625814479999,0.1256440369012715,1.0710620740031642,-0.15147133419631562,0.708410299017189,0.5601583538557442,-1.0401882243373572,1.7056167441988201,0.6850843008365208,0.2524170417029744,0.4239316576340395,0.30856412170761116,-0.8120128362314452,-1.0248295324212153,0.9691832786744989,-0.7809378279230037,0.5199528377506104,-0.5823558298607444,0.02242888516997846,-1.8483439458823425,0.1683359982946268,0.44883480148149857,0.27644036079912226,0.5001592299352902,1.707276028881522,-0.3499034827519047,-0.1658350539232574],\"type\":\"scatter\"},{\"connectgaps\":false,\"fill\":\"tozeroy\",\"line\":{\"color\":\"green\",\"dash\":\"solid\",\"shape\":\"linear\",\"width\":0.5},\"mode\":\"lines\",\"name\":\"Spread\",\"showlegend\":false,\"x\":[0,1,2,3,4,5,6,7,8,9,10,11,12,13,14,15,16,17,18,19,20,21,22,23,24,25,26,27,28,29,30,31,32,33,34,35,36,37,38,39,40,41,42,43,44,45,46,47,48,49,50,51,52,53,54,55,56,57,58,59,60,61,62,63,64,65,66,67,68,69,70,71,72,73,74,75,76,77,78,79,80,81,82,83,84,85,86,87,88,89,90,91,92,93,94,95,96,97,98,99],\"xaxis\":\"x2\",\"y\":[0.9027135342173185,1.4739112344453404,\"\",\"\",\"\",\"\",0.5247066131302707,\"\",\"\",0.12481642708401627,\"\",\"\",1.479720941513075,1.7880138140590869,1.833733894311225,1.27057769999042,\"\",\"\",2.050611905691807,1.3791710330962772,0.44093145857559357,\"\",\"\",1.7866687954633016,\"\",\"\",\"\",0.6919879802095024,\"\",0.17463840443529266,0.3423557894135759,0.9304817761265174,\"\",2.700921057076694,0.5813951020097847,\"\",0.8053222668510345,1.7359136650000835,1.561323054076976,\"\",\"\",1.8736616856434765,0.7944241227668591,\"\",0.13744186176048445,\"\",\"\",\"\",\"\",0.4774233724765648,2.3476163994590475,1.4929463209995204,\"\",\"\",1.6991987239347968,0.11618022292585417,\"\",2.4215145844136186,\"\",\"\",\"\",1.6529839899640557,1.2358863194167438,\"\",\"\",0.7286704765430125,0.059939901057007944,\"\",1.9362728035713144,1.6578161814188228,\"\",0.745700105701548,\"\",0.2684918829080984,0.9642212221012654,\"\",0.7326841988498577,\"\",\"\",\"\",\"\",\"\",0.6497198985569747,\"\",0.5062410209854353,1.7564417211057406,0.36591184975605573,\"\",0.9878344647488023,0.3130261996445456,1.1258899166512408,1.2704976451881622,0.8338401153272794,1.1414295293069925,\"\",\"\",0.6894351733993878,\"\",0.7715645525140855,\"\"],\"yaxis\":\"y2\",\"type\":\"scatter\"},{\"connectgaps\":false,\"fill\":\"tozeroy\",\"line\":{\"color\":\"red\",\"dash\":\"solid\",\"shape\":\"linear\",\"width\":0.5},\"mode\":\"lines\",\"name\":\"Spread\",\"showlegend\":false,\"x\":[0,1,2,3,4,5,6,7,8,9,10,11,12,13,14,15,16,17,18,19,20,21,22,23,24,25,26,27,28,29,30,31,32,33,34,35,36,37,38,39,40,41,42,43,44,45,46,47,48,49,50,51,52,53,54,55,56,57,58,59,60,61,62,63,64,65,66,67,68,69,70,71,72,73,74,75,76,77,78,79,80,81,82,83,84,85,86,87,88,89,90,91,92,93,94,95,96,97,98,99],\"xaxis\":\"x2\",\"y\":[\"\",\"\",-2.509546031999582,-2.3595942802466476,-0.14809123003552793,-2.2580218949733206,\"\",-0.5537001234469402,-0.30336779116971546,\"\",-1.6778953980386468,-0.16226293584262252,\"\",\"\",\"\",\"\",-0.8116050518891789,-1.7269135938736402,\"\",\"\",\"\",-0.25757613131187673,-3.0727110176245342,\"\",-0.5362248828568336,-2.944984112154544,-2.538247814107356,\"\",-0.7166976919589927,\"\",\"\",\"\",-2.0418278245662753,\"\",\"\",-0.13665490231828703,\"\",\"\",\"\",-0.6991462755916182,-0.7815431415696454,\"\",\"\",-1.3369625164358026,\"\",-1.6901859747901542,-0.09519344892961101,-1.2795354144808808,-1.0525870278488327,\"\",\"\",\"\",-1.3297488580385837,-0.5594397230775962,\"\",\"\",-0.9917544842504891,\"\",-2.3741710526753668,-1.009629965072765,-0.5106825191753339,\"\",\"\",-2.948905970305842,-0.27553108652004693,\"\",\"\",-1.2701185092407083,\"\",\"\",-1.4210379649102252,\"\",-2.9635716835706303,\"\",\"\",-2.445365910757279,\"\",-0.40509115764560116,-1.7780630357232177,-1.0633385261047597,-1.0221719277773658,-0.8423907588676526,\"\",-1.5933482662682912,\"\",\"\",\"\",-0.4340163517817146,\"\",\"\",\"\",\"\",\"\",\"\",-0.7541786176885041,-1.1048090090010332,\"\",-2.07970231724945,\"\",-0.5453668366809112],\"yaxis\":\"y2\",\"type\":\"scatter\"}],                        {\"hovermode\":\"x\",\"legend\":{\"bgcolor\":\"#F5F6F9\",\"font\":{\"color\":\"#4D5663\"}},\"paper_bgcolor\":\"#F5F6F9\",\"plot_bgcolor\":\"#F5F6F9\",\"template\":{\"data\":{\"barpolar\":[{\"marker\":{\"line\":{\"color\":\"#E5ECF6\",\"width\":0.5},\"pattern\":{\"fillmode\":\"overlay\",\"size\":10,\"solidity\":0.2}},\"type\":\"barpolar\"}],\"bar\":[{\"error_x\":{\"color\":\"#2a3f5f\"},\"error_y\":{\"color\":\"#2a3f5f\"},\"marker\":{\"line\":{\"color\":\"#E5ECF6\",\"width\":0.5},\"pattern\":{\"fillmode\":\"overlay\",\"size\":10,\"solidity\":0.2}},\"type\":\"bar\"}],\"carpet\":[{\"aaxis\":{\"endlinecolor\":\"#2a3f5f\",\"gridcolor\":\"white\",\"linecolor\":\"white\",\"minorgridcolor\":\"white\",\"startlinecolor\":\"#2a3f5f\"},\"baxis\":{\"endlinecolor\":\"#2a3f5f\",\"gridcolor\":\"white\",\"linecolor\":\"white\",\"minorgridcolor\":\"white\",\"startlinecolor\":\"#2a3f5f\"},\"type\":\"carpet\"}],\"choropleth\":[{\"colorbar\":{\"outlinewidth\":0,\"ticks\":\"\"},\"type\":\"choropleth\"}],\"contourcarpet\":[{\"colorbar\":{\"outlinewidth\":0,\"ticks\":\"\"},\"type\":\"contourcarpet\"}],\"contour\":[{\"colorbar\":{\"outlinewidth\":0,\"ticks\":\"\"},\"colorscale\":[[0.0,\"#0d0887\"],[0.1111111111111111,\"#46039f\"],[0.2222222222222222,\"#7201a8\"],[0.3333333333333333,\"#9c179e\"],[0.4444444444444444,\"#bd3786\"],[0.5555555555555556,\"#d8576b\"],[0.6666666666666666,\"#ed7953\"],[0.7777777777777778,\"#fb9f3a\"],[0.8888888888888888,\"#fdca26\"],[1.0,\"#f0f921\"]],\"type\":\"contour\"}],\"heatmapgl\":[{\"colorbar\":{\"outlinewidth\":0,\"ticks\":\"\"},\"colorscale\":[[0.0,\"#0d0887\"],[0.1111111111111111,\"#46039f\"],[0.2222222222222222,\"#7201a8\"],[0.3333333333333333,\"#9c179e\"],[0.4444444444444444,\"#bd3786\"],[0.5555555555555556,\"#d8576b\"],[0.6666666666666666,\"#ed7953\"],[0.7777777777777778,\"#fb9f3a\"],[0.8888888888888888,\"#fdca26\"],[1.0,\"#f0f921\"]],\"type\":\"heatmapgl\"}],\"heatmap\":[{\"colorbar\":{\"outlinewidth\":0,\"ticks\":\"\"},\"colorscale\":[[0.0,\"#0d0887\"],[0.1111111111111111,\"#46039f\"],[0.2222222222222222,\"#7201a8\"],[0.3333333333333333,\"#9c179e\"],[0.4444444444444444,\"#bd3786\"],[0.5555555555555556,\"#d8576b\"],[0.6666666666666666,\"#ed7953\"],[0.7777777777777778,\"#fb9f3a\"],[0.8888888888888888,\"#fdca26\"],[1.0,\"#f0f921\"]],\"type\":\"heatmap\"}],\"histogram2dcontour\":[{\"colorbar\":{\"outlinewidth\":0,\"ticks\":\"\"},\"colorscale\":[[0.0,\"#0d0887\"],[0.1111111111111111,\"#46039f\"],[0.2222222222222222,\"#7201a8\"],[0.3333333333333333,\"#9c179e\"],[0.4444444444444444,\"#bd3786\"],[0.5555555555555556,\"#d8576b\"],[0.6666666666666666,\"#ed7953\"],[0.7777777777777778,\"#fb9f3a\"],[0.8888888888888888,\"#fdca26\"],[1.0,\"#f0f921\"]],\"type\":\"histogram2dcontour\"}],\"histogram2d\":[{\"colorbar\":{\"outlinewidth\":0,\"ticks\":\"\"},\"colorscale\":[[0.0,\"#0d0887\"],[0.1111111111111111,\"#46039f\"],[0.2222222222222222,\"#7201a8\"],[0.3333333333333333,\"#9c179e\"],[0.4444444444444444,\"#bd3786\"],[0.5555555555555556,\"#d8576b\"],[0.6666666666666666,\"#ed7953\"],[0.7777777777777778,\"#fb9f3a\"],[0.8888888888888888,\"#fdca26\"],[1.0,\"#f0f921\"]],\"type\":\"histogram2d\"}],\"histogram\":[{\"marker\":{\"pattern\":{\"fillmode\":\"overlay\",\"size\":10,\"solidity\":0.2}},\"type\":\"histogram\"}],\"mesh3d\":[{\"colorbar\":{\"outlinewidth\":0,\"ticks\":\"\"},\"type\":\"mesh3d\"}],\"parcoords\":[{\"line\":{\"colorbar\":{\"outlinewidth\":0,\"ticks\":\"\"}},\"type\":\"parcoords\"}],\"pie\":[{\"automargin\":true,\"type\":\"pie\"}],\"scatter3d\":[{\"line\":{\"colorbar\":{\"outlinewidth\":0,\"ticks\":\"\"}},\"marker\":{\"colorbar\":{\"outlinewidth\":0,\"ticks\":\"\"}},\"type\":\"scatter3d\"}],\"scattercarpet\":[{\"marker\":{\"colorbar\":{\"outlinewidth\":0,\"ticks\":\"\"}},\"type\":\"scattercarpet\"}],\"scattergeo\":[{\"marker\":{\"colorbar\":{\"outlinewidth\":0,\"ticks\":\"\"}},\"type\":\"scattergeo\"}],\"scattergl\":[{\"marker\":{\"colorbar\":{\"outlinewidth\":0,\"ticks\":\"\"}},\"type\":\"scattergl\"}],\"scattermapbox\":[{\"marker\":{\"colorbar\":{\"outlinewidth\":0,\"ticks\":\"\"}},\"type\":\"scattermapbox\"}],\"scatterpolargl\":[{\"marker\":{\"colorbar\":{\"outlinewidth\":0,\"ticks\":\"\"}},\"type\":\"scatterpolargl\"}],\"scatterpolar\":[{\"marker\":{\"colorbar\":{\"outlinewidth\":0,\"ticks\":\"\"}},\"type\":\"scatterpolar\"}],\"scatter\":[{\"fillpattern\":{\"fillmode\":\"overlay\",\"size\":10,\"solidity\":0.2},\"type\":\"scatter\"}],\"scatterternary\":[{\"marker\":{\"colorbar\":{\"outlinewidth\":0,\"ticks\":\"\"}},\"type\":\"scatterternary\"}],\"surface\":[{\"colorbar\":{\"outlinewidth\":0,\"ticks\":\"\"},\"colorscale\":[[0.0,\"#0d0887\"],[0.1111111111111111,\"#46039f\"],[0.2222222222222222,\"#7201a8\"],[0.3333333333333333,\"#9c179e\"],[0.4444444444444444,\"#bd3786\"],[0.5555555555555556,\"#d8576b\"],[0.6666666666666666,\"#ed7953\"],[0.7777777777777778,\"#fb9f3a\"],[0.8888888888888888,\"#fdca26\"],[1.0,\"#f0f921\"]],\"type\":\"surface\"}],\"table\":[{\"cells\":{\"fill\":{\"color\":\"#EBF0F8\"},\"line\":{\"color\":\"white\"}},\"header\":{\"fill\":{\"color\":\"#C8D4E3\"},\"line\":{\"color\":\"white\"}},\"type\":\"table\"}]},\"layout\":{\"annotationdefaults\":{\"arrowcolor\":\"#2a3f5f\",\"arrowhead\":0,\"arrowwidth\":1},\"autotypenumbers\":\"strict\",\"coloraxis\":{\"colorbar\":{\"outlinewidth\":0,\"ticks\":\"\"}},\"colorscale\":{\"diverging\":[[0,\"#8e0152\"],[0.1,\"#c51b7d\"],[0.2,\"#de77ae\"],[0.3,\"#f1b6da\"],[0.4,\"#fde0ef\"],[0.5,\"#f7f7f7\"],[0.6,\"#e6f5d0\"],[0.7,\"#b8e186\"],[0.8,\"#7fbc41\"],[0.9,\"#4d9221\"],[1,\"#276419\"]],\"sequential\":[[0.0,\"#0d0887\"],[0.1111111111111111,\"#46039f\"],[0.2222222222222222,\"#7201a8\"],[0.3333333333333333,\"#9c179e\"],[0.4444444444444444,\"#bd3786\"],[0.5555555555555556,\"#d8576b\"],[0.6666666666666666,\"#ed7953\"],[0.7777777777777778,\"#fb9f3a\"],[0.8888888888888888,\"#fdca26\"],[1.0,\"#f0f921\"]],\"sequentialminus\":[[0.0,\"#0d0887\"],[0.1111111111111111,\"#46039f\"],[0.2222222222222222,\"#7201a8\"],[0.3333333333333333,\"#9c179e\"],[0.4444444444444444,\"#bd3786\"],[0.5555555555555556,\"#d8576b\"],[0.6666666666666666,\"#ed7953\"],[0.7777777777777778,\"#fb9f3a\"],[0.8888888888888888,\"#fdca26\"],[1.0,\"#f0f921\"]]},\"colorway\":[\"#636efa\",\"#EF553B\",\"#00cc96\",\"#ab63fa\",\"#FFA15A\",\"#19d3f3\",\"#FF6692\",\"#B6E880\",\"#FF97FF\",\"#FECB52\"],\"font\":{\"color\":\"#2a3f5f\"},\"geo\":{\"bgcolor\":\"white\",\"lakecolor\":\"white\",\"landcolor\":\"#E5ECF6\",\"showlakes\":true,\"showland\":true,\"subunitcolor\":\"white\"},\"hoverlabel\":{\"align\":\"left\"},\"hovermode\":\"closest\",\"mapbox\":{\"style\":\"light\"},\"paper_bgcolor\":\"white\",\"plot_bgcolor\":\"#E5ECF6\",\"polar\":{\"angularaxis\":{\"gridcolor\":\"white\",\"linecolor\":\"white\",\"ticks\":\"\"},\"bgcolor\":\"#E5ECF6\",\"radialaxis\":{\"gridcolor\":\"white\",\"linecolor\":\"white\",\"ticks\":\"\"}},\"scene\":{\"xaxis\":{\"backgroundcolor\":\"#E5ECF6\",\"gridcolor\":\"white\",\"gridwidth\":2,\"linecolor\":\"white\",\"showbackground\":true,\"ticks\":\"\",\"zerolinecolor\":\"white\"},\"yaxis\":{\"backgroundcolor\":\"#E5ECF6\",\"gridcolor\":\"white\",\"gridwidth\":2,\"linecolor\":\"white\",\"showbackground\":true,\"ticks\":\"\",\"zerolinecolor\":\"white\"},\"zaxis\":{\"backgroundcolor\":\"#E5ECF6\",\"gridcolor\":\"white\",\"gridwidth\":2,\"linecolor\":\"white\",\"showbackground\":true,\"ticks\":\"\",\"zerolinecolor\":\"white\"}},\"shapedefaults\":{\"line\":{\"color\":\"#2a3f5f\"}},\"ternary\":{\"aaxis\":{\"gridcolor\":\"white\",\"linecolor\":\"white\",\"ticks\":\"\"},\"baxis\":{\"gridcolor\":\"white\",\"linecolor\":\"white\",\"ticks\":\"\"},\"bgcolor\":\"#E5ECF6\",\"caxis\":{\"gridcolor\":\"white\",\"linecolor\":\"white\",\"ticks\":\"\"}},\"title\":{\"x\":0.05},\"xaxis\":{\"automargin\":true,\"gridcolor\":\"white\",\"linecolor\":\"white\",\"ticks\":\"\",\"title\":{\"standoff\":15},\"zerolinecolor\":\"white\",\"zerolinewidth\":2},\"yaxis\":{\"automargin\":true,\"gridcolor\":\"white\",\"linecolor\":\"white\",\"ticks\":\"\",\"title\":{\"standoff\":15},\"zerolinecolor\":\"white\",\"zerolinewidth\":2}}},\"title\":{\"font\":{\"color\":\"#4D5663\"}},\"xaxis\":{\"gridcolor\":\"#E1E5ED\",\"showgrid\":true,\"tickfont\":{\"color\":\"#4D5663\"},\"title\":{\"font\":{\"color\":\"#4D5663\"},\"text\":\"\"},\"zerolinecolor\":\"#E1E5ED\"},\"yaxis\":{\"domain\":[0.3,1],\"gridcolor\":\"#E1E5ED\",\"showgrid\":true,\"tickfont\":{\"color\":\"#4D5663\"},\"title\":{\"font\":{\"color\":\"#4D5663\"},\"text\":\"\"},\"zerolinecolor\":\"#E1E5ED\"},\"yaxis2\":{\"domain\":[0,0.25],\"gridcolor\":\"#E1E5ED\",\"showgrid\":true,\"tickfont\":{\"color\":\"#4D5663\"},\"title\":{\"font\":{\"color\":\"#4D5663\"},\"text\":\"Spread\"},\"zerolinecolor\":\"#E1E5ED\"},\"xaxis2\":{\"anchor\":\"y2\",\"gridcolor\":\"#E1E5ED\",\"showgrid\":true,\"showticklabels\":false,\"tickfont\":{\"color\":\"#4D5663\"},\"title\":{\"font\":{\"color\":\"#4D5663\"},\"text\":\"\"},\"zerolinecolor\":\"#E1E5ED\"}},                        {\"showLink\": true, \"linkText\": \"Export to plot.ly\", \"plotlyServerURL\": \"https://plot.ly\", \"responsive\": true}                    ).then(function(){\n                            \nvar gd = document.getElementById('bc0df126-4244-497f-a08d-8d725b9a2b33');\nvar x = new MutationObserver(function (mutations, observer) {{\n        var display = window.getComputedStyle(gd).display;\n        if (!display || display === 'none') {{\n            console.log([gd, 'removed!']);\n            Plotly.purge(gd);\n            observer.disconnect();\n        }}\n}});\n\n// Listen for the removal of the full notebook cells\nvar notebookContainer = gd.closest('#notebook-container');\nif (notebookContainer) {{\n    x.observe(notebookContainer, {childList: true});\n}}\n\n// Listen for the clearing of the current output cell\nvar outputEl = gd.closest('.output');\nif (outputEl) {{\n    x.observe(outputEl, {childList: true});\n}}\n\n                        })                };                });            </script>        </div>"
     },
     "metadata": {},
     "output_type": "display_data"
    }
   ],
   "source": [
    "df[['A','B']].iplot(kind='spread')"
   ],
   "metadata": {
    "collapsed": false,
    "pycharm": {
     "name": "#%%\n"
    }
   }
  },
  {
   "cell_type": "code",
   "execution_count": 58,
   "outputs": [
    {
     "data": {
      "application/vnd.plotly.v1+json": {
       "data": [
        {
         "marker": {
          "color": [
           "rgb(255, 153, 51)",
           "rgb(55, 128, 191)",
           "rgb(50, 171, 96)",
           "rgb(128, 0, 128)",
           "rgb(219, 64, 82)",
           "rgb(0, 128, 128)",
           "rgb(255, 255, 51)",
           "rgb(128, 128, 0)",
           "rgb(251, 128, 114)",
           "rgb(128, 177, 211)"
          ],
          "line": {
           "width": 1.3
          },
          "size": [
           72,
           68,
           39,
           63,
           58,
           66,
           39,
           87,
           112,
           68,
           55,
           19,
           87,
           86,
           55,
           68,
           41,
           24,
           38,
           64,
           63,
           29,
           37,
           23,
           54,
           15,
           71,
           68,
           75,
           61,
           68,
           38,
           61,
           60,
           76,
           58,
           53,
           64,
           52,
           48,
           70,
           64,
           77,
           69,
           39,
           76,
           86,
           102,
           21,
           62,
           39,
           39,
           17,
           55,
           33,
           80,
           50,
           36,
           35,
           94,
           50,
           46,
           32,
           76,
           26,
           56,
           46,
           43,
           57,
           63,
           60,
           50,
           66,
           69,
           77,
           43,
           67,
           41,
           67,
           26,
           56,
           40,
           58,
           58,
           12,
           57,
           37,
           41,
           50,
           61,
           63,
           88,
           21,
           53,
           73,
           78,
           77,
           79,
           74,
           61
          ],
          "symbol": "circle"
         },
         "mode": "markers",
         "text": "",
         "x": [
          1.80900659363173,
          0.035274995502989924,
          -1.3725782517059886,
          0.012016290428291753,
          1.000469906945173,
          -0.6195273127982366,
          -0.5493763932833622,
          -0.9911107758158834,
          0.23248967391723316,
          -0.14506312346767283,
          0.34184931249590944,
          0.2715616077472833,
          0.8393674963432226,
          -0.10711850809753216,
          1.8812271802120675,
          1.0538530621847526,
          -0.29984010726672844,
          -1.0005896037131567,
          0.6236039509447258,
          2.547660303248421,
          0.3645808633949736,
          0.7584190685180403,
          -1.3718605252785057,
          1.1236466096015902,
          -0.6575364883108161,
          -0.7435742465354352,
          -0.9510929805192601,
          -0.7250355706046863,
          -0.3010833740014651,
          -0.8365580045456453,
          0.5375896300969594,
          0.4250820358790253,
          -1.4817640383211563,
          1.0742946624051832,
          -1.6615502948070402,
          -0.4539105034533779,
          0.9627637686417985,
          1.0917899219961893,
          0.40651750118727115,
          0.30539547233503134,
          0.7154867771216606,
          0.4988743495347605,
          0.8934197814724031,
          -0.7226701733307364,
          -0.6212640967281962,
          -0.20366491195303663,
          0.6293167407460972,
          0.932849322897483,
          0.0889989385329877,
          -0.009742713919367142,
          0.8547431702291997,
          -0.06513079400429111,
          -0.5810102718413085,
          -0.9663593983135926,
          0.6305616168977342,
          1.9913392481918006,
          -1.9776861325927175,
          2.0202457074867883,
          -1.0347658552177048,
          -0.6695623864365713,
          1.183237535410795,
          0.4225713154856195,
          1.2265275340992094,
          -1.620088276804922,
          0.36251610386564465,
          -0.39921777940713343,
          0.19623576958325684,
          -0.28567696303803214,
          -0.40868573997383634,
          0.4589878761780295,
          -0.8307604519242388,
          0.46409171043276753,
          -0.7934822881525643,
          -0.48507069853990153,
          1.0898652590025368,
          -1.3743038367541152,
          0.581212864653542,
          0.30331914137158783,
          -1.2179046818674735,
          -2.103526750442117,
          0.6834448164214543,
          -0.15730645803113177,
          0.9021369402599491,
          -1.1694166086342517,
          0.8148051426930465,
          0.9444288848742953,
          -0.6589176826651596,
          0.5351669268927843,
          0.20689663682579865,
          0.832979037395156,
          0.5435340867904964,
          1.2929265303581408,
          -1.014503830555063,
          1.3097655276016194,
          -0.3053438162070056,
          -0.828368648201911,
          1.189594403334678,
          -0.37242628836792796,
          0.42166106976218076,
          -0.7112018906041686
         ],
         "y": [
          0.9062930594144116,
          -1.4386362389423506,
          1.1369677802935936,
          2.3716105706749393,
          1.148561136980701,
          1.6384945821750838,
          -1.0740830064136329,
          -0.43741065236894316,
          0.5358574650869486,
          -0.2698795505516891,
          2.0197447105345563,
          0.4338245435899058,
          -0.6403534451698525,
          -1.895132322156619,
          0.047493285900842584,
          -0.21672463780566728,
          0.5117649446224504,
          0.7263239901604835,
          -1.4270079547470809,
          1.1684892701521439,
          -0.07635059518062,
          1.015995199829917,
          1.7008504923460286,
          -0.6630221858617115,
          -0.12131160545398256,
          2.201409865619109,
          1.5871548335880958,
          -1.4170235508141886,
          0.4156143179575276,
          -1.011196408980938,
          0.19523384068338345,
          -0.505399740247492,
          0.5600637862451191,
          -1.626626394671511,
          -2.242945396816825,
          -0.3172556011350909,
          0.15744150179076394,
          -0.6441237430038943,
          -1.154805552889705,
          1.0045417479266496,
          1.497029918691306,
          -1.374787336108716,
          0.09899565870554397,
          0.6142923431050662,
          -0.7587059584886806,
          1.4865210628371175,
          0.7245101896757082,
          2.212384737378364,
          1.1415859663818204,
          -0.48716608639593195,
          -1.492873229229848,
          -1.5580771150038115,
          0.7487385861972751,
          -0.4069196752359965,
          -1.0686371070370626,
          1.8751590252659465,
          -0.9859316483422285,
          -0.40126887692683005,
          1.3394051974576617,
          0.3400675786361936,
          1.6939200545861288,
          -1.2304126744784363,
          -0.009358785317534316,
          1.32881769350092,
          0.6380471903856916,
          -1.127888255950146,
          0.1362958685262489,
          0.9844415462026761,
          -2.3449585435451508,
          -1.1988283052407933,
          0.5902775129859864,
          -0.2816083952687804,
          2.170089395418066,
          -0.7535625814479999,
          0.1256440369012715,
          1.0710620740031642,
          -0.15147133419631562,
          0.708410299017189,
          0.5601583538557442,
          -1.0401882243373572,
          1.7056167441988201,
          0.6850843008365208,
          0.2524170417029744,
          0.4239316576340395,
          0.30856412170761116,
          -0.8120128362314452,
          -1.0248295324212153,
          0.9691832786744989,
          -0.7809378279230037,
          0.5199528377506104,
          -0.5823558298607444,
          0.02242888516997846,
          -1.8483439458823425,
          0.1683359982946268,
          0.44883480148149857,
          0.27644036079912226,
          0.5001592299352902,
          1.707276028881522,
          -0.3499034827519047,
          -0.1658350539232574
         ],
         "type": "scatter"
        }
       ],
       "layout": {
        "legend": {
         "bgcolor": "#F5F6F9",
         "font": {
          "color": "#4D5663"
         }
        },
        "paper_bgcolor": "#F5F6F9",
        "plot_bgcolor": "#F5F6F9",
        "template": {
         "data": {
          "barpolar": [
           {
            "marker": {
             "line": {
              "color": "#E5ECF6",
              "width": 0.5
             },
             "pattern": {
              "fillmode": "overlay",
              "size": 10,
              "solidity": 0.2
             }
            },
            "type": "barpolar"
           }
          ],
          "bar": [
           {
            "error_x": {
             "color": "#2a3f5f"
            },
            "error_y": {
             "color": "#2a3f5f"
            },
            "marker": {
             "line": {
              "color": "#E5ECF6",
              "width": 0.5
             },
             "pattern": {
              "fillmode": "overlay",
              "size": 10,
              "solidity": 0.2
             }
            },
            "type": "bar"
           }
          ],
          "carpet": [
           {
            "aaxis": {
             "endlinecolor": "#2a3f5f",
             "gridcolor": "white",
             "linecolor": "white",
             "minorgridcolor": "white",
             "startlinecolor": "#2a3f5f"
            },
            "baxis": {
             "endlinecolor": "#2a3f5f",
             "gridcolor": "white",
             "linecolor": "white",
             "minorgridcolor": "white",
             "startlinecolor": "#2a3f5f"
            },
            "type": "carpet"
           }
          ],
          "choropleth": [
           {
            "colorbar": {
             "outlinewidth": 0,
             "ticks": ""
            },
            "type": "choropleth"
           }
          ],
          "contourcarpet": [
           {
            "colorbar": {
             "outlinewidth": 0,
             "ticks": ""
            },
            "type": "contourcarpet"
           }
          ],
          "contour": [
           {
            "colorbar": {
             "outlinewidth": 0,
             "ticks": ""
            },
            "colorscale": [
             [
              0.0,
              "#0d0887"
             ],
             [
              0.1111111111111111,
              "#46039f"
             ],
             [
              0.2222222222222222,
              "#7201a8"
             ],
             [
              0.3333333333333333,
              "#9c179e"
             ],
             [
              0.4444444444444444,
              "#bd3786"
             ],
             [
              0.5555555555555556,
              "#d8576b"
             ],
             [
              0.6666666666666666,
              "#ed7953"
             ],
             [
              0.7777777777777778,
              "#fb9f3a"
             ],
             [
              0.8888888888888888,
              "#fdca26"
             ],
             [
              1.0,
              "#f0f921"
             ]
            ],
            "type": "contour"
           }
          ],
          "heatmapgl": [
           {
            "colorbar": {
             "outlinewidth": 0,
             "ticks": ""
            },
            "colorscale": [
             [
              0.0,
              "#0d0887"
             ],
             [
              0.1111111111111111,
              "#46039f"
             ],
             [
              0.2222222222222222,
              "#7201a8"
             ],
             [
              0.3333333333333333,
              "#9c179e"
             ],
             [
              0.4444444444444444,
              "#bd3786"
             ],
             [
              0.5555555555555556,
              "#d8576b"
             ],
             [
              0.6666666666666666,
              "#ed7953"
             ],
             [
              0.7777777777777778,
              "#fb9f3a"
             ],
             [
              0.8888888888888888,
              "#fdca26"
             ],
             [
              1.0,
              "#f0f921"
             ]
            ],
            "type": "heatmapgl"
           }
          ],
          "heatmap": [
           {
            "colorbar": {
             "outlinewidth": 0,
             "ticks": ""
            },
            "colorscale": [
             [
              0.0,
              "#0d0887"
             ],
             [
              0.1111111111111111,
              "#46039f"
             ],
             [
              0.2222222222222222,
              "#7201a8"
             ],
             [
              0.3333333333333333,
              "#9c179e"
             ],
             [
              0.4444444444444444,
              "#bd3786"
             ],
             [
              0.5555555555555556,
              "#d8576b"
             ],
             [
              0.6666666666666666,
              "#ed7953"
             ],
             [
              0.7777777777777778,
              "#fb9f3a"
             ],
             [
              0.8888888888888888,
              "#fdca26"
             ],
             [
              1.0,
              "#f0f921"
             ]
            ],
            "type": "heatmap"
           }
          ],
          "histogram2dcontour": [
           {
            "colorbar": {
             "outlinewidth": 0,
             "ticks": ""
            },
            "colorscale": [
             [
              0.0,
              "#0d0887"
             ],
             [
              0.1111111111111111,
              "#46039f"
             ],
             [
              0.2222222222222222,
              "#7201a8"
             ],
             [
              0.3333333333333333,
              "#9c179e"
             ],
             [
              0.4444444444444444,
              "#bd3786"
             ],
             [
              0.5555555555555556,
              "#d8576b"
             ],
             [
              0.6666666666666666,
              "#ed7953"
             ],
             [
              0.7777777777777778,
              "#fb9f3a"
             ],
             [
              0.8888888888888888,
              "#fdca26"
             ],
             [
              1.0,
              "#f0f921"
             ]
            ],
            "type": "histogram2dcontour"
           }
          ],
          "histogram2d": [
           {
            "colorbar": {
             "outlinewidth": 0,
             "ticks": ""
            },
            "colorscale": [
             [
              0.0,
              "#0d0887"
             ],
             [
              0.1111111111111111,
              "#46039f"
             ],
             [
              0.2222222222222222,
              "#7201a8"
             ],
             [
              0.3333333333333333,
              "#9c179e"
             ],
             [
              0.4444444444444444,
              "#bd3786"
             ],
             [
              0.5555555555555556,
              "#d8576b"
             ],
             [
              0.6666666666666666,
              "#ed7953"
             ],
             [
              0.7777777777777778,
              "#fb9f3a"
             ],
             [
              0.8888888888888888,
              "#fdca26"
             ],
             [
              1.0,
              "#f0f921"
             ]
            ],
            "type": "histogram2d"
           }
          ],
          "histogram": [
           {
            "marker": {
             "pattern": {
              "fillmode": "overlay",
              "size": 10,
              "solidity": 0.2
             }
            },
            "type": "histogram"
           }
          ],
          "mesh3d": [
           {
            "colorbar": {
             "outlinewidth": 0,
             "ticks": ""
            },
            "type": "mesh3d"
           }
          ],
          "parcoords": [
           {
            "line": {
             "colorbar": {
              "outlinewidth": 0,
              "ticks": ""
             }
            },
            "type": "parcoords"
           }
          ],
          "pie": [
           {
            "automargin": true,
            "type": "pie"
           }
          ],
          "scatter3d": [
           {
            "line": {
             "colorbar": {
              "outlinewidth": 0,
              "ticks": ""
             }
            },
            "marker": {
             "colorbar": {
              "outlinewidth": 0,
              "ticks": ""
             }
            },
            "type": "scatter3d"
           }
          ],
          "scattercarpet": [
           {
            "marker": {
             "colorbar": {
              "outlinewidth": 0,
              "ticks": ""
             }
            },
            "type": "scattercarpet"
           }
          ],
          "scattergeo": [
           {
            "marker": {
             "colorbar": {
              "outlinewidth": 0,
              "ticks": ""
             }
            },
            "type": "scattergeo"
           }
          ],
          "scattergl": [
           {
            "marker": {
             "colorbar": {
              "outlinewidth": 0,
              "ticks": ""
             }
            },
            "type": "scattergl"
           }
          ],
          "scattermapbox": [
           {
            "marker": {
             "colorbar": {
              "outlinewidth": 0,
              "ticks": ""
             }
            },
            "type": "scattermapbox"
           }
          ],
          "scatterpolargl": [
           {
            "marker": {
             "colorbar": {
              "outlinewidth": 0,
              "ticks": ""
             }
            },
            "type": "scatterpolargl"
           }
          ],
          "scatterpolar": [
           {
            "marker": {
             "colorbar": {
              "outlinewidth": 0,
              "ticks": ""
             }
            },
            "type": "scatterpolar"
           }
          ],
          "scatter": [
           {
            "fillpattern": {
             "fillmode": "overlay",
             "size": 10,
             "solidity": 0.2
            },
            "type": "scatter"
           }
          ],
          "scatterternary": [
           {
            "marker": {
             "colorbar": {
              "outlinewidth": 0,
              "ticks": ""
             }
            },
            "type": "scatterternary"
           }
          ],
          "surface": [
           {
            "colorbar": {
             "outlinewidth": 0,
             "ticks": ""
            },
            "colorscale": [
             [
              0.0,
              "#0d0887"
             ],
             [
              0.1111111111111111,
              "#46039f"
             ],
             [
              0.2222222222222222,
              "#7201a8"
             ],
             [
              0.3333333333333333,
              "#9c179e"
             ],
             [
              0.4444444444444444,
              "#bd3786"
             ],
             [
              0.5555555555555556,
              "#d8576b"
             ],
             [
              0.6666666666666666,
              "#ed7953"
             ],
             [
              0.7777777777777778,
              "#fb9f3a"
             ],
             [
              0.8888888888888888,
              "#fdca26"
             ],
             [
              1.0,
              "#f0f921"
             ]
            ],
            "type": "surface"
           }
          ],
          "table": [
           {
            "cells": {
             "fill": {
              "color": "#EBF0F8"
             },
             "line": {
              "color": "white"
             }
            },
            "header": {
             "fill": {
              "color": "#C8D4E3"
             },
             "line": {
              "color": "white"
             }
            },
            "type": "table"
           }
          ]
         },
         "layout": {
          "annotationdefaults": {
           "arrowcolor": "#2a3f5f",
           "arrowhead": 0,
           "arrowwidth": 1
          },
          "autotypenumbers": "strict",
          "coloraxis": {
           "colorbar": {
            "outlinewidth": 0,
            "ticks": ""
           }
          },
          "colorscale": {
           "diverging": [
            [
             0,
             "#8e0152"
            ],
            [
             0.1,
             "#c51b7d"
            ],
            [
             0.2,
             "#de77ae"
            ],
            [
             0.3,
             "#f1b6da"
            ],
            [
             0.4,
             "#fde0ef"
            ],
            [
             0.5,
             "#f7f7f7"
            ],
            [
             0.6,
             "#e6f5d0"
            ],
            [
             0.7,
             "#b8e186"
            ],
            [
             0.8,
             "#7fbc41"
            ],
            [
             0.9,
             "#4d9221"
            ],
            [
             1,
             "#276419"
            ]
           ],
           "sequential": [
            [
             0.0,
             "#0d0887"
            ],
            [
             0.1111111111111111,
             "#46039f"
            ],
            [
             0.2222222222222222,
             "#7201a8"
            ],
            [
             0.3333333333333333,
             "#9c179e"
            ],
            [
             0.4444444444444444,
             "#bd3786"
            ],
            [
             0.5555555555555556,
             "#d8576b"
            ],
            [
             0.6666666666666666,
             "#ed7953"
            ],
            [
             0.7777777777777778,
             "#fb9f3a"
            ],
            [
             0.8888888888888888,
             "#fdca26"
            ],
            [
             1.0,
             "#f0f921"
            ]
           ],
           "sequentialminus": [
            [
             0.0,
             "#0d0887"
            ],
            [
             0.1111111111111111,
             "#46039f"
            ],
            [
             0.2222222222222222,
             "#7201a8"
            ],
            [
             0.3333333333333333,
             "#9c179e"
            ],
            [
             0.4444444444444444,
             "#bd3786"
            ],
            [
             0.5555555555555556,
             "#d8576b"
            ],
            [
             0.6666666666666666,
             "#ed7953"
            ],
            [
             0.7777777777777778,
             "#fb9f3a"
            ],
            [
             0.8888888888888888,
             "#fdca26"
            ],
            [
             1.0,
             "#f0f921"
            ]
           ]
          },
          "colorway": [
           "#636efa",
           "#EF553B",
           "#00cc96",
           "#ab63fa",
           "#FFA15A",
           "#19d3f3",
           "#FF6692",
           "#B6E880",
           "#FF97FF",
           "#FECB52"
          ],
          "font": {
           "color": "#2a3f5f"
          },
          "geo": {
           "bgcolor": "white",
           "lakecolor": "white",
           "landcolor": "#E5ECF6",
           "showlakes": true,
           "showland": true,
           "subunitcolor": "white"
          },
          "hoverlabel": {
           "align": "left"
          },
          "hovermode": "closest",
          "mapbox": {
           "style": "light"
          },
          "paper_bgcolor": "white",
          "plot_bgcolor": "#E5ECF6",
          "polar": {
           "angularaxis": {
            "gridcolor": "white",
            "linecolor": "white",
            "ticks": ""
           },
           "bgcolor": "#E5ECF6",
           "radialaxis": {
            "gridcolor": "white",
            "linecolor": "white",
            "ticks": ""
           }
          },
          "scene": {
           "xaxis": {
            "backgroundcolor": "#E5ECF6",
            "gridcolor": "white",
            "gridwidth": 2,
            "linecolor": "white",
            "showbackground": true,
            "ticks": "",
            "zerolinecolor": "white"
           },
           "yaxis": {
            "backgroundcolor": "#E5ECF6",
            "gridcolor": "white",
            "gridwidth": 2,
            "linecolor": "white",
            "showbackground": true,
            "ticks": "",
            "zerolinecolor": "white"
           },
           "zaxis": {
            "backgroundcolor": "#E5ECF6",
            "gridcolor": "white",
            "gridwidth": 2,
            "linecolor": "white",
            "showbackground": true,
            "ticks": "",
            "zerolinecolor": "white"
           }
          },
          "shapedefaults": {
           "line": {
            "color": "#2a3f5f"
           }
          },
          "ternary": {
           "aaxis": {
            "gridcolor": "white",
            "linecolor": "white",
            "ticks": ""
           },
           "baxis": {
            "gridcolor": "white",
            "linecolor": "white",
            "ticks": ""
           },
           "bgcolor": "#E5ECF6",
           "caxis": {
            "gridcolor": "white",
            "linecolor": "white",
            "ticks": ""
           }
          },
          "title": {
           "x": 0.05
          },
          "xaxis": {
           "automargin": true,
           "gridcolor": "white",
           "linecolor": "white",
           "ticks": "",
           "title": {
            "standoff": 15
           },
           "zerolinecolor": "white",
           "zerolinewidth": 2
          },
          "yaxis": {
           "automargin": true,
           "gridcolor": "white",
           "linecolor": "white",
           "ticks": "",
           "title": {
            "standoff": 15
           },
           "zerolinecolor": "white",
           "zerolinewidth": 2
          }
         }
        },
        "title": {
         "font": {
          "color": "#4D5663"
         }
        },
        "xaxis": {
         "gridcolor": "#E1E5ED",
         "showgrid": true,
         "tickfont": {
          "color": "#4D5663"
         },
         "title": {
          "font": {
           "color": "#4D5663"
          },
          "text": ""
         },
         "zerolinecolor": "#E1E5ED"
        },
        "yaxis": {
         "gridcolor": "#E1E5ED",
         "showgrid": true,
         "tickfont": {
          "color": "#4D5663"
         },
         "title": {
          "font": {
           "color": "#4D5663"
          },
          "text": ""
         },
         "zerolinecolor": "#E1E5ED"
        }
       },
       "config": {
        "showLink": true,
        "linkText": "Export to plot.ly",
        "plotlyServerURL": "https://plot.ly"
       }
      },
      "text/html": "<div>                            <div id=\"fc72ecab-e81b-4323-81fe-773ebc2e344c\" class=\"plotly-graph-div\" style=\"height:525px; width:100%;\"></div>            <script type=\"text/javascript\">                require([\"plotly\"], function(Plotly) {                    window.PLOTLYENV=window.PLOTLYENV || {};\n                    window.PLOTLYENV.BASE_URL='https://plot.ly';                                    if (document.getElementById(\"fc72ecab-e81b-4323-81fe-773ebc2e344c\")) {                    Plotly.newPlot(                        \"fc72ecab-e81b-4323-81fe-773ebc2e344c\",                        [{\"marker\":{\"color\":[\"rgb(255, 153, 51)\",\"rgb(55, 128, 191)\",\"rgb(50, 171, 96)\",\"rgb(128, 0, 128)\",\"rgb(219, 64, 82)\",\"rgb(0, 128, 128)\",\"rgb(255, 255, 51)\",\"rgb(128, 128, 0)\",\"rgb(251, 128, 114)\",\"rgb(128, 177, 211)\"],\"line\":{\"width\":1.3},\"size\":[72,68,39,63,58,66,39,87,112,68,55,19,87,86,55,68,41,24,38,64,63,29,37,23,54,15,71,68,75,61,68,38,61,60,76,58,53,64,52,48,70,64,77,69,39,76,86,102,21,62,39,39,17,55,33,80,50,36,35,94,50,46,32,76,26,56,46,43,57,63,60,50,66,69,77,43,67,41,67,26,56,40,58,58,12,57,37,41,50,61,63,88,21,53,73,78,77,79,74,61],\"symbol\":\"circle\"},\"mode\":\"markers\",\"text\":\"\",\"x\":[1.80900659363173,0.035274995502989924,-1.3725782517059886,0.012016290428291753,1.000469906945173,-0.6195273127982366,-0.5493763932833622,-0.9911107758158834,0.23248967391723316,-0.14506312346767283,0.34184931249590944,0.2715616077472833,0.8393674963432226,-0.10711850809753216,1.8812271802120675,1.0538530621847526,-0.29984010726672844,-1.0005896037131567,0.6236039509447258,2.547660303248421,0.3645808633949736,0.7584190685180403,-1.3718605252785057,1.1236466096015902,-0.6575364883108161,-0.7435742465354352,-0.9510929805192601,-0.7250355706046863,-0.3010833740014651,-0.8365580045456453,0.5375896300969594,0.4250820358790253,-1.4817640383211563,1.0742946624051832,-1.6615502948070402,-0.4539105034533779,0.9627637686417985,1.0917899219961893,0.40651750118727115,0.30539547233503134,0.7154867771216606,0.4988743495347605,0.8934197814724031,-0.7226701733307364,-0.6212640967281962,-0.20366491195303663,0.6293167407460972,0.932849322897483,0.0889989385329877,-0.009742713919367142,0.8547431702291997,-0.06513079400429111,-0.5810102718413085,-0.9663593983135926,0.6305616168977342,1.9913392481918006,-1.9776861325927175,2.0202457074867883,-1.0347658552177048,-0.6695623864365713,1.183237535410795,0.4225713154856195,1.2265275340992094,-1.620088276804922,0.36251610386564465,-0.39921777940713343,0.19623576958325684,-0.28567696303803214,-0.40868573997383634,0.4589878761780295,-0.8307604519242388,0.46409171043276753,-0.7934822881525643,-0.48507069853990153,1.0898652590025368,-1.3743038367541152,0.581212864653542,0.30331914137158783,-1.2179046818674735,-2.103526750442117,0.6834448164214543,-0.15730645803113177,0.9021369402599491,-1.1694166086342517,0.8148051426930465,0.9444288848742953,-0.6589176826651596,0.5351669268927843,0.20689663682579865,0.832979037395156,0.5435340867904964,1.2929265303581408,-1.014503830555063,1.3097655276016194,-0.3053438162070056,-0.828368648201911,1.189594403334678,-0.37242628836792796,0.42166106976218076,-0.7112018906041686],\"y\":[0.9062930594144116,-1.4386362389423506,1.1369677802935936,2.3716105706749393,1.148561136980701,1.6384945821750838,-1.0740830064136329,-0.43741065236894316,0.5358574650869486,-0.2698795505516891,2.0197447105345563,0.4338245435899058,-0.6403534451698525,-1.895132322156619,0.047493285900842584,-0.21672463780566728,0.5117649446224504,0.7263239901604835,-1.4270079547470809,1.1684892701521439,-0.07635059518062,1.015995199829917,1.7008504923460286,-0.6630221858617115,-0.12131160545398256,2.201409865619109,1.5871548335880958,-1.4170235508141886,0.4156143179575276,-1.011196408980938,0.19523384068338345,-0.505399740247492,0.5600637862451191,-1.626626394671511,-2.242945396816825,-0.3172556011350909,0.15744150179076394,-0.6441237430038943,-1.154805552889705,1.0045417479266496,1.497029918691306,-1.374787336108716,0.09899565870554397,0.6142923431050662,-0.7587059584886806,1.4865210628371175,0.7245101896757082,2.212384737378364,1.1415859663818204,-0.48716608639593195,-1.492873229229848,-1.5580771150038115,0.7487385861972751,-0.4069196752359965,-1.0686371070370626,1.8751590252659465,-0.9859316483422285,-0.40126887692683005,1.3394051974576617,0.3400675786361936,1.6939200545861288,-1.2304126744784363,-0.009358785317534316,1.32881769350092,0.6380471903856916,-1.127888255950146,0.1362958685262489,0.9844415462026761,-2.3449585435451508,-1.1988283052407933,0.5902775129859864,-0.2816083952687804,2.170089395418066,-0.7535625814479999,0.1256440369012715,1.0710620740031642,-0.15147133419631562,0.708410299017189,0.5601583538557442,-1.0401882243373572,1.7056167441988201,0.6850843008365208,0.2524170417029744,0.4239316576340395,0.30856412170761116,-0.8120128362314452,-1.0248295324212153,0.9691832786744989,-0.7809378279230037,0.5199528377506104,-0.5823558298607444,0.02242888516997846,-1.8483439458823425,0.1683359982946268,0.44883480148149857,0.27644036079912226,0.5001592299352902,1.707276028881522,-0.3499034827519047,-0.1658350539232574],\"type\":\"scatter\"}],                        {\"legend\":{\"bgcolor\":\"#F5F6F9\",\"font\":{\"color\":\"#4D5663\"}},\"paper_bgcolor\":\"#F5F6F9\",\"plot_bgcolor\":\"#F5F6F9\",\"template\":{\"data\":{\"barpolar\":[{\"marker\":{\"line\":{\"color\":\"#E5ECF6\",\"width\":0.5},\"pattern\":{\"fillmode\":\"overlay\",\"size\":10,\"solidity\":0.2}},\"type\":\"barpolar\"}],\"bar\":[{\"error_x\":{\"color\":\"#2a3f5f\"},\"error_y\":{\"color\":\"#2a3f5f\"},\"marker\":{\"line\":{\"color\":\"#E5ECF6\",\"width\":0.5},\"pattern\":{\"fillmode\":\"overlay\",\"size\":10,\"solidity\":0.2}},\"type\":\"bar\"}],\"carpet\":[{\"aaxis\":{\"endlinecolor\":\"#2a3f5f\",\"gridcolor\":\"white\",\"linecolor\":\"white\",\"minorgridcolor\":\"white\",\"startlinecolor\":\"#2a3f5f\"},\"baxis\":{\"endlinecolor\":\"#2a3f5f\",\"gridcolor\":\"white\",\"linecolor\":\"white\",\"minorgridcolor\":\"white\",\"startlinecolor\":\"#2a3f5f\"},\"type\":\"carpet\"}],\"choropleth\":[{\"colorbar\":{\"outlinewidth\":0,\"ticks\":\"\"},\"type\":\"choropleth\"}],\"contourcarpet\":[{\"colorbar\":{\"outlinewidth\":0,\"ticks\":\"\"},\"type\":\"contourcarpet\"}],\"contour\":[{\"colorbar\":{\"outlinewidth\":0,\"ticks\":\"\"},\"colorscale\":[[0.0,\"#0d0887\"],[0.1111111111111111,\"#46039f\"],[0.2222222222222222,\"#7201a8\"],[0.3333333333333333,\"#9c179e\"],[0.4444444444444444,\"#bd3786\"],[0.5555555555555556,\"#d8576b\"],[0.6666666666666666,\"#ed7953\"],[0.7777777777777778,\"#fb9f3a\"],[0.8888888888888888,\"#fdca26\"],[1.0,\"#f0f921\"]],\"type\":\"contour\"}],\"heatmapgl\":[{\"colorbar\":{\"outlinewidth\":0,\"ticks\":\"\"},\"colorscale\":[[0.0,\"#0d0887\"],[0.1111111111111111,\"#46039f\"],[0.2222222222222222,\"#7201a8\"],[0.3333333333333333,\"#9c179e\"],[0.4444444444444444,\"#bd3786\"],[0.5555555555555556,\"#d8576b\"],[0.6666666666666666,\"#ed7953\"],[0.7777777777777778,\"#fb9f3a\"],[0.8888888888888888,\"#fdca26\"],[1.0,\"#f0f921\"]],\"type\":\"heatmapgl\"}],\"heatmap\":[{\"colorbar\":{\"outlinewidth\":0,\"ticks\":\"\"},\"colorscale\":[[0.0,\"#0d0887\"],[0.1111111111111111,\"#46039f\"],[0.2222222222222222,\"#7201a8\"],[0.3333333333333333,\"#9c179e\"],[0.4444444444444444,\"#bd3786\"],[0.5555555555555556,\"#d8576b\"],[0.6666666666666666,\"#ed7953\"],[0.7777777777777778,\"#fb9f3a\"],[0.8888888888888888,\"#fdca26\"],[1.0,\"#f0f921\"]],\"type\":\"heatmap\"}],\"histogram2dcontour\":[{\"colorbar\":{\"outlinewidth\":0,\"ticks\":\"\"},\"colorscale\":[[0.0,\"#0d0887\"],[0.1111111111111111,\"#46039f\"],[0.2222222222222222,\"#7201a8\"],[0.3333333333333333,\"#9c179e\"],[0.4444444444444444,\"#bd3786\"],[0.5555555555555556,\"#d8576b\"],[0.6666666666666666,\"#ed7953\"],[0.7777777777777778,\"#fb9f3a\"],[0.8888888888888888,\"#fdca26\"],[1.0,\"#f0f921\"]],\"type\":\"histogram2dcontour\"}],\"histogram2d\":[{\"colorbar\":{\"outlinewidth\":0,\"ticks\":\"\"},\"colorscale\":[[0.0,\"#0d0887\"],[0.1111111111111111,\"#46039f\"],[0.2222222222222222,\"#7201a8\"],[0.3333333333333333,\"#9c179e\"],[0.4444444444444444,\"#bd3786\"],[0.5555555555555556,\"#d8576b\"],[0.6666666666666666,\"#ed7953\"],[0.7777777777777778,\"#fb9f3a\"],[0.8888888888888888,\"#fdca26\"],[1.0,\"#f0f921\"]],\"type\":\"histogram2d\"}],\"histogram\":[{\"marker\":{\"pattern\":{\"fillmode\":\"overlay\",\"size\":10,\"solidity\":0.2}},\"type\":\"histogram\"}],\"mesh3d\":[{\"colorbar\":{\"outlinewidth\":0,\"ticks\":\"\"},\"type\":\"mesh3d\"}],\"parcoords\":[{\"line\":{\"colorbar\":{\"outlinewidth\":0,\"ticks\":\"\"}},\"type\":\"parcoords\"}],\"pie\":[{\"automargin\":true,\"type\":\"pie\"}],\"scatter3d\":[{\"line\":{\"colorbar\":{\"outlinewidth\":0,\"ticks\":\"\"}},\"marker\":{\"colorbar\":{\"outlinewidth\":0,\"ticks\":\"\"}},\"type\":\"scatter3d\"}],\"scattercarpet\":[{\"marker\":{\"colorbar\":{\"outlinewidth\":0,\"ticks\":\"\"}},\"type\":\"scattercarpet\"}],\"scattergeo\":[{\"marker\":{\"colorbar\":{\"outlinewidth\":0,\"ticks\":\"\"}},\"type\":\"scattergeo\"}],\"scattergl\":[{\"marker\":{\"colorbar\":{\"outlinewidth\":0,\"ticks\":\"\"}},\"type\":\"scattergl\"}],\"scattermapbox\":[{\"marker\":{\"colorbar\":{\"outlinewidth\":0,\"ticks\":\"\"}},\"type\":\"scattermapbox\"}],\"scatterpolargl\":[{\"marker\":{\"colorbar\":{\"outlinewidth\":0,\"ticks\":\"\"}},\"type\":\"scatterpolargl\"}],\"scatterpolar\":[{\"marker\":{\"colorbar\":{\"outlinewidth\":0,\"ticks\":\"\"}},\"type\":\"scatterpolar\"}],\"scatter\":[{\"fillpattern\":{\"fillmode\":\"overlay\",\"size\":10,\"solidity\":0.2},\"type\":\"scatter\"}],\"scatterternary\":[{\"marker\":{\"colorbar\":{\"outlinewidth\":0,\"ticks\":\"\"}},\"type\":\"scatterternary\"}],\"surface\":[{\"colorbar\":{\"outlinewidth\":0,\"ticks\":\"\"},\"colorscale\":[[0.0,\"#0d0887\"],[0.1111111111111111,\"#46039f\"],[0.2222222222222222,\"#7201a8\"],[0.3333333333333333,\"#9c179e\"],[0.4444444444444444,\"#bd3786\"],[0.5555555555555556,\"#d8576b\"],[0.6666666666666666,\"#ed7953\"],[0.7777777777777778,\"#fb9f3a\"],[0.8888888888888888,\"#fdca26\"],[1.0,\"#f0f921\"]],\"type\":\"surface\"}],\"table\":[{\"cells\":{\"fill\":{\"color\":\"#EBF0F8\"},\"line\":{\"color\":\"white\"}},\"header\":{\"fill\":{\"color\":\"#C8D4E3\"},\"line\":{\"color\":\"white\"}},\"type\":\"table\"}]},\"layout\":{\"annotationdefaults\":{\"arrowcolor\":\"#2a3f5f\",\"arrowhead\":0,\"arrowwidth\":1},\"autotypenumbers\":\"strict\",\"coloraxis\":{\"colorbar\":{\"outlinewidth\":0,\"ticks\":\"\"}},\"colorscale\":{\"diverging\":[[0,\"#8e0152\"],[0.1,\"#c51b7d\"],[0.2,\"#de77ae\"],[0.3,\"#f1b6da\"],[0.4,\"#fde0ef\"],[0.5,\"#f7f7f7\"],[0.6,\"#e6f5d0\"],[0.7,\"#b8e186\"],[0.8,\"#7fbc41\"],[0.9,\"#4d9221\"],[1,\"#276419\"]],\"sequential\":[[0.0,\"#0d0887\"],[0.1111111111111111,\"#46039f\"],[0.2222222222222222,\"#7201a8\"],[0.3333333333333333,\"#9c179e\"],[0.4444444444444444,\"#bd3786\"],[0.5555555555555556,\"#d8576b\"],[0.6666666666666666,\"#ed7953\"],[0.7777777777777778,\"#fb9f3a\"],[0.8888888888888888,\"#fdca26\"],[1.0,\"#f0f921\"]],\"sequentialminus\":[[0.0,\"#0d0887\"],[0.1111111111111111,\"#46039f\"],[0.2222222222222222,\"#7201a8\"],[0.3333333333333333,\"#9c179e\"],[0.4444444444444444,\"#bd3786\"],[0.5555555555555556,\"#d8576b\"],[0.6666666666666666,\"#ed7953\"],[0.7777777777777778,\"#fb9f3a\"],[0.8888888888888888,\"#fdca26\"],[1.0,\"#f0f921\"]]},\"colorway\":[\"#636efa\",\"#EF553B\",\"#00cc96\",\"#ab63fa\",\"#FFA15A\",\"#19d3f3\",\"#FF6692\",\"#B6E880\",\"#FF97FF\",\"#FECB52\"],\"font\":{\"color\":\"#2a3f5f\"},\"geo\":{\"bgcolor\":\"white\",\"lakecolor\":\"white\",\"landcolor\":\"#E5ECF6\",\"showlakes\":true,\"showland\":true,\"subunitcolor\":\"white\"},\"hoverlabel\":{\"align\":\"left\"},\"hovermode\":\"closest\",\"mapbox\":{\"style\":\"light\"},\"paper_bgcolor\":\"white\",\"plot_bgcolor\":\"#E5ECF6\",\"polar\":{\"angularaxis\":{\"gridcolor\":\"white\",\"linecolor\":\"white\",\"ticks\":\"\"},\"bgcolor\":\"#E5ECF6\",\"radialaxis\":{\"gridcolor\":\"white\",\"linecolor\":\"white\",\"ticks\":\"\"}},\"scene\":{\"xaxis\":{\"backgroundcolor\":\"#E5ECF6\",\"gridcolor\":\"white\",\"gridwidth\":2,\"linecolor\":\"white\",\"showbackground\":true,\"ticks\":\"\",\"zerolinecolor\":\"white\"},\"yaxis\":{\"backgroundcolor\":\"#E5ECF6\",\"gridcolor\":\"white\",\"gridwidth\":2,\"linecolor\":\"white\",\"showbackground\":true,\"ticks\":\"\",\"zerolinecolor\":\"white\"},\"zaxis\":{\"backgroundcolor\":\"#E5ECF6\",\"gridcolor\":\"white\",\"gridwidth\":2,\"linecolor\":\"white\",\"showbackground\":true,\"ticks\":\"\",\"zerolinecolor\":\"white\"}},\"shapedefaults\":{\"line\":{\"color\":\"#2a3f5f\"}},\"ternary\":{\"aaxis\":{\"gridcolor\":\"white\",\"linecolor\":\"white\",\"ticks\":\"\"},\"baxis\":{\"gridcolor\":\"white\",\"linecolor\":\"white\",\"ticks\":\"\"},\"bgcolor\":\"#E5ECF6\",\"caxis\":{\"gridcolor\":\"white\",\"linecolor\":\"white\",\"ticks\":\"\"}},\"title\":{\"x\":0.05},\"xaxis\":{\"automargin\":true,\"gridcolor\":\"white\",\"linecolor\":\"white\",\"ticks\":\"\",\"title\":{\"standoff\":15},\"zerolinecolor\":\"white\",\"zerolinewidth\":2},\"yaxis\":{\"automargin\":true,\"gridcolor\":\"white\",\"linecolor\":\"white\",\"ticks\":\"\",\"title\":{\"standoff\":15},\"zerolinecolor\":\"white\",\"zerolinewidth\":2}}},\"title\":{\"font\":{\"color\":\"#4D5663\"}},\"xaxis\":{\"gridcolor\":\"#E1E5ED\",\"showgrid\":true,\"tickfont\":{\"color\":\"#4D5663\"},\"title\":{\"font\":{\"color\":\"#4D5663\"},\"text\":\"\"},\"zerolinecolor\":\"#E1E5ED\"},\"yaxis\":{\"gridcolor\":\"#E1E5ED\",\"showgrid\":true,\"tickfont\":{\"color\":\"#4D5663\"},\"title\":{\"font\":{\"color\":\"#4D5663\"},\"text\":\"\"},\"zerolinecolor\":\"#E1E5ED\"}},                        {\"showLink\": true, \"linkText\": \"Export to plot.ly\", \"plotlyServerURL\": \"https://plot.ly\", \"responsive\": true}                    ).then(function(){\n                            \nvar gd = document.getElementById('fc72ecab-e81b-4323-81fe-773ebc2e344c');\nvar x = new MutationObserver(function (mutations, observer) {{\n        var display = window.getComputedStyle(gd).display;\n        if (!display || display === 'none') {{\n            console.log([gd, 'removed!']);\n            Plotly.purge(gd);\n            observer.disconnect();\n        }}\n}});\n\n// Listen for the removal of the full notebook cells\nvar notebookContainer = gd.closest('#notebook-container');\nif (notebookContainer) {{\n    x.observe(notebookContainer, {childList: true});\n}}\n\n// Listen for the clearing of the current output cell\nvar outputEl = gd.closest('.output');\nif (outputEl) {{\n    x.observe(outputEl, {childList: true});\n}}\n\n                        })                };                });            </script>        </div>"
     },
     "metadata": {},
     "output_type": "display_data"
    }
   ],
   "source": [
    "df.iplot(kind='bubble',x='A',y='B',size='C')"
   ],
   "metadata": {
    "collapsed": false,
    "pycharm": {
     "name": "#%%\n"
    }
   }
  },
  {
   "cell_type": "code",
   "execution_count": 60,
   "outputs": [
    {
     "data": {
      "application/vnd.plotly.v1+json": {
       "data": [
        {
         "histfunc": "count",
         "histnorm": "",
         "marker": {
          "color": "rgba(255, 153, 51, 1.0)",
          "line": {
           "color": "#4D5663",
           "width": 1.3
          }
         },
         "name": "A",
         "nbinsx": 10,
         "opacity": 0.8,
         "orientation": "v",
         "x": [
          1.80900659363173,
          0.035274995502989924,
          -1.3725782517059886,
          0.012016290428291753,
          1.000469906945173,
          -0.6195273127982366,
          -0.5493763932833622,
          -0.9911107758158834,
          0.23248967391723316,
          -0.14506312346767283,
          0.34184931249590944,
          0.2715616077472833,
          0.8393674963432226,
          -0.10711850809753216,
          1.8812271802120675,
          1.0538530621847526,
          -0.29984010726672844,
          -1.0005896037131567,
          0.6236039509447258,
          2.547660303248421,
          0.3645808633949736,
          0.7584190685180403,
          -1.3718605252785057,
          1.1236466096015902,
          -0.6575364883108161,
          -0.7435742465354352,
          -0.9510929805192601,
          -0.7250355706046863,
          -0.3010833740014651,
          -0.8365580045456453,
          0.5375896300969594,
          0.4250820358790253,
          -1.4817640383211563,
          1.0742946624051832,
          -1.6615502948070402,
          -0.4539105034533779,
          0.9627637686417985,
          1.0917899219961893,
          0.40651750118727115,
          0.30539547233503134,
          0.7154867771216606,
          0.4988743495347605,
          0.8934197814724031,
          -0.7226701733307364,
          -0.6212640967281962,
          -0.20366491195303663,
          0.6293167407460972,
          0.932849322897483,
          0.0889989385329877,
          -0.009742713919367142,
          0.8547431702291997,
          -0.06513079400429111,
          -0.5810102718413085,
          -0.9663593983135926,
          0.6305616168977342,
          1.9913392481918006,
          -1.9776861325927175,
          2.0202457074867883,
          -1.0347658552177048,
          -0.6695623864365713,
          1.183237535410795,
          0.4225713154856195,
          1.2265275340992094,
          -1.620088276804922,
          0.36251610386564465,
          -0.39921777940713343,
          0.19623576958325684,
          -0.28567696303803214,
          -0.40868573997383634,
          0.4589878761780295,
          -0.8307604519242388,
          0.46409171043276753,
          -0.7934822881525643,
          -0.48507069853990153,
          1.0898652590025368,
          -1.3743038367541152,
          0.581212864653542,
          0.30331914137158783,
          -1.2179046818674735,
          -2.103526750442117,
          0.6834448164214543,
          -0.15730645803113177,
          0.9021369402599491,
          -1.1694166086342517,
          0.8148051426930465,
          0.9444288848742953,
          -0.6589176826651596,
          0.5351669268927843,
          0.20689663682579865,
          0.832979037395156,
          0.5435340867904964,
          1.2929265303581408,
          -1.014503830555063,
          1.3097655276016194,
          -0.3053438162070056,
          -0.828368648201911,
          1.189594403334678,
          -0.37242628836792796,
          0.42166106976218076,
          -0.7112018906041686
         ],
         "xaxis": "x",
         "yaxis": "y",
         "type": "histogram"
        },
        {
         "line": {
          "color": "rgba(128, 128, 128, 1.0)",
          "dash": "solid",
          "shape": "linear",
          "width": 1.3
         },
         "marker": {
          "size": 2,
          "symbol": "circle"
         },
         "mode": "markers",
         "name": "A",
         "text": "",
         "x": [
          0.9062930594144116,
          -1.4386362389423506,
          1.1369677802935936,
          2.3716105706749393,
          1.148561136980701,
          1.6384945821750838,
          -1.0740830064136329,
          -0.43741065236894316,
          0.5358574650869486,
          -0.2698795505516891,
          2.0197447105345563,
          0.4338245435899058,
          -0.6403534451698525,
          -1.895132322156619,
          0.047493285900842584,
          -0.21672463780566728,
          0.5117649446224504,
          0.7263239901604835,
          -1.4270079547470809,
          1.1684892701521439,
          -0.07635059518062,
          1.015995199829917,
          1.7008504923460286,
          -0.6630221858617115,
          -0.12131160545398256,
          2.201409865619109,
          1.5871548335880958,
          -1.4170235508141886,
          0.4156143179575276,
          -1.011196408980938,
          0.19523384068338345,
          -0.505399740247492,
          0.5600637862451191,
          -1.626626394671511,
          -2.242945396816825,
          -0.3172556011350909,
          0.15744150179076394,
          -0.6441237430038943,
          -1.154805552889705,
          1.0045417479266496,
          1.497029918691306,
          -1.374787336108716,
          0.09899565870554397,
          0.6142923431050662,
          -0.7587059584886806,
          1.4865210628371175,
          0.7245101896757082,
          2.212384737378364,
          1.1415859663818204,
          -0.48716608639593195,
          -1.492873229229848,
          -1.5580771150038115,
          0.7487385861972751,
          -0.4069196752359965,
          -1.0686371070370626,
          1.8751590252659465,
          -0.9859316483422285,
          -0.40126887692683005,
          1.3394051974576617,
          0.3400675786361936,
          1.6939200545861288,
          -1.2304126744784363,
          -0.009358785317534316,
          1.32881769350092,
          0.6380471903856916,
          -1.127888255950146,
          0.1362958685262489,
          0.9844415462026761,
          -2.3449585435451508,
          -1.1988283052407933,
          0.5902775129859864,
          -0.2816083952687804,
          2.170089395418066,
          -0.7535625814479999,
          0.1256440369012715,
          1.0710620740031642,
          -0.15147133419631562,
          0.708410299017189,
          0.5601583538557442,
          -1.0401882243373572,
          1.7056167441988201,
          0.6850843008365208,
          0.2524170417029744,
          0.4239316576340395,
          0.30856412170761116,
          -0.8120128362314452,
          -1.0248295324212153,
          0.9691832786744989,
          -0.7809378279230037,
          0.5199528377506104,
          -0.5823558298607444,
          0.02242888516997846,
          -1.8483439458823425,
          0.1683359982946268,
          0.44883480148149857,
          0.27644036079912226,
          0.5001592299352902,
          1.707276028881522,
          -0.3499034827519047,
          -0.1658350539232574
         ],
         "xaxis": "x2",
         "y": [
          1.80900659363173,
          0.035274995502989924,
          -1.3725782517059886,
          0.012016290428291753,
          1.000469906945173,
          -0.6195273127982366,
          -0.5493763932833622,
          -0.9911107758158834,
          0.23248967391723316,
          -0.14506312346767283,
          0.34184931249590944,
          0.2715616077472833,
          0.8393674963432226,
          -0.10711850809753216,
          1.8812271802120675,
          1.0538530621847526,
          -0.29984010726672844,
          -1.0005896037131567,
          0.6236039509447258,
          2.547660303248421,
          0.3645808633949736,
          0.7584190685180403,
          -1.3718605252785057,
          1.1236466096015902,
          -0.6575364883108161,
          -0.7435742465354352,
          -0.9510929805192601,
          -0.7250355706046863,
          -0.3010833740014651,
          -0.8365580045456453,
          0.5375896300969594,
          0.4250820358790253,
          -1.4817640383211563,
          1.0742946624051832,
          -1.6615502948070402,
          -0.4539105034533779,
          0.9627637686417985,
          1.0917899219961893,
          0.40651750118727115,
          0.30539547233503134,
          0.7154867771216606,
          0.4988743495347605,
          0.8934197814724031,
          -0.7226701733307364,
          -0.6212640967281962,
          -0.20366491195303663,
          0.6293167407460972,
          0.932849322897483,
          0.0889989385329877,
          -0.009742713919367142,
          0.8547431702291997,
          -0.06513079400429111,
          -0.5810102718413085,
          -0.9663593983135926,
          0.6305616168977342,
          1.9913392481918006,
          -1.9776861325927175,
          2.0202457074867883,
          -1.0347658552177048,
          -0.6695623864365713,
          1.183237535410795,
          0.4225713154856195,
          1.2265275340992094,
          -1.620088276804922,
          0.36251610386564465,
          -0.39921777940713343,
          0.19623576958325684,
          -0.28567696303803214,
          -0.40868573997383634,
          0.4589878761780295,
          -0.8307604519242388,
          0.46409171043276753,
          -0.7934822881525643,
          -0.48507069853990153,
          1.0898652590025368,
          -1.3743038367541152,
          0.581212864653542,
          0.30331914137158783,
          -1.2179046818674735,
          -2.103526750442117,
          0.6834448164214543,
          -0.15730645803113177,
          0.9021369402599491,
          -1.1694166086342517,
          0.8148051426930465,
          0.9444288848742953,
          -0.6589176826651596,
          0.5351669268927843,
          0.20689663682579865,
          0.832979037395156,
          0.5435340867904964,
          1.2929265303581408,
          -1.014503830555063,
          1.3097655276016194,
          -0.3053438162070056,
          -0.828368648201911,
          1.189594403334678,
          -0.37242628836792796,
          0.42166106976218076,
          -0.7112018906041686
         ],
         "yaxis": "y2",
         "type": "scatter"
        },
        {
         "line": {
          "color": "rgba(128, 128, 128, 1.0)",
          "dash": "solid",
          "shape": "linear",
          "width": 1.3
         },
         "marker": {
          "size": 2,
          "symbol": "circle"
         },
         "mode": "markers",
         "name": "A",
         "text": "",
         "x": [
          0.7692336532458728,
          0.5333344342194399,
          -0.8424260604443445,
          0.3203662543997597,
          0.08458846535047407,
          0.45708539683904553,
          -0.8498855129462245,
          1.4745690013341044,
          2.6909016970258177,
          0.5668709264460764,
          -0.05897494253507211,
          -1.836392380931625,
          1.499808814285216,
          1.4259194751034947,
          -0.08578597513422263,
          0.5560973770990663,
          -0.7584165794397412,
          -1.6105588097346335,
          -0.9074161291122519,
          0.3796037005268845,
          0.3311762861032556,
          -1.3602628819660034,
          -0.9799612820273028,
          -1.6539675770208235,
          -0.13518856728836234,
          -2.0519815390489096,
          0.7076017949132091,
          0.5777492285351216,
          0.8814525993925905,
          0.23198923387472098,
          0.5739648399528666,
          -0.9187331726443511,
          0.2378113368211414,
          0.18452376474838614,
          0.9618846352603138,
          0.04674987985743832,
          -0.19242409419798356,
          0.37406378090710063,
          -0.22470081855415733,
          -0.4221861958292879,
          0.6377575043253557,
          0.37186014681579505,
          0.9885200426741549,
          0.5846281676474738,
          -0.8857207063528001,
          0.951745296972654,
          1.433580628428485,
          2.2051673520189827,
          -1.7345907838590167,
          0.24276875299650547,
          -0.8525885975006535,
          -0.8533236132402129,
          -1.941001109878793,
          -0.061780947174691896,
          -1.1697568526208222,
          1.126896428706196,
          -0.3179738015899636,
          -0.9912010770982428,
          -1.0511344497209492,
          1.827771784627446,
          -0.326139141984017,
          -0.521984694424672,
          -1.1909121583420728,
          0.9304877086589227,
          -1.4926195618704994,
          -0.04856994266672939,
          -0.5332888237553048,
          -0.6888200985211754,
          0.004881621023809477,
          0.2969949279946919,
          0.15584434040490944,
          -0.30955808996868645,
          0.47386778091716025,
          0.583986268346228,
          1.019454808285895,
          -0.6878330822641515,
          0.5175531626481035,
          -0.7815075116688344,
          0.49634237721186597,
          -1.4827609600037182,
          -0.016543171729132132,
          -0.8007147586706331,
          0.04434472691612747,
          0.04412174249588713,
          -2.21327013820518,
          0.037192344719893536,
          -0.9390081221051154,
          -0.7828138328182563,
          -0.3415125355976032,
          0.23650650730818906,
          0.30889760418237094,
          1.5513678854253037,
          -1.7509145536551753,
          -0.169155621033073,
          0.809684981401493,
          1.0319304185412423,
          0.9980808541912738,
          1.0774436660316213,
          0.8738553331372387,
          0.2167626281308094
         ],
         "xaxis": "x3",
         "y": [
          1.80900659363173,
          0.035274995502989924,
          -1.3725782517059886,
          0.012016290428291753,
          1.000469906945173,
          -0.6195273127982366,
          -0.5493763932833622,
          -0.9911107758158834,
          0.23248967391723316,
          -0.14506312346767283,
          0.34184931249590944,
          0.2715616077472833,
          0.8393674963432226,
          -0.10711850809753216,
          1.8812271802120675,
          1.0538530621847526,
          -0.29984010726672844,
          -1.0005896037131567,
          0.6236039509447258,
          2.547660303248421,
          0.3645808633949736,
          0.7584190685180403,
          -1.3718605252785057,
          1.1236466096015902,
          -0.6575364883108161,
          -0.7435742465354352,
          -0.9510929805192601,
          -0.7250355706046863,
          -0.3010833740014651,
          -0.8365580045456453,
          0.5375896300969594,
          0.4250820358790253,
          -1.4817640383211563,
          1.0742946624051832,
          -1.6615502948070402,
          -0.4539105034533779,
          0.9627637686417985,
          1.0917899219961893,
          0.40651750118727115,
          0.30539547233503134,
          0.7154867771216606,
          0.4988743495347605,
          0.8934197814724031,
          -0.7226701733307364,
          -0.6212640967281962,
          -0.20366491195303663,
          0.6293167407460972,
          0.932849322897483,
          0.0889989385329877,
          -0.009742713919367142,
          0.8547431702291997,
          -0.06513079400429111,
          -0.5810102718413085,
          -0.9663593983135926,
          0.6305616168977342,
          1.9913392481918006,
          -1.9776861325927175,
          2.0202457074867883,
          -1.0347658552177048,
          -0.6695623864365713,
          1.183237535410795,
          0.4225713154856195,
          1.2265275340992094,
          -1.620088276804922,
          0.36251610386564465,
          -0.39921777940713343,
          0.19623576958325684,
          -0.28567696303803214,
          -0.40868573997383634,
          0.4589878761780295,
          -0.8307604519242388,
          0.46409171043276753,
          -0.7934822881525643,
          -0.48507069853990153,
          1.0898652590025368,
          -1.3743038367541152,
          0.581212864653542,
          0.30331914137158783,
          -1.2179046818674735,
          -2.103526750442117,
          0.6834448164214543,
          -0.15730645803113177,
          0.9021369402599491,
          -1.1694166086342517,
          0.8148051426930465,
          0.9444288848742953,
          -0.6589176826651596,
          0.5351669268927843,
          0.20689663682579865,
          0.832979037395156,
          0.5435340867904964,
          1.2929265303581408,
          -1.014503830555063,
          1.3097655276016194,
          -0.3053438162070056,
          -0.828368648201911,
          1.189594403334678,
          -0.37242628836792796,
          0.42166106976218076,
          -0.7112018906041686
         ],
         "yaxis": "y3",
         "type": "scatter"
        },
        {
         "line": {
          "color": "rgba(128, 128, 128, 1.0)",
          "dash": "solid",
          "shape": "linear",
          "width": 1.3
         },
         "marker": {
          "size": 2,
          "symbol": "circle"
         },
         "mode": "markers",
         "name": "A",
         "text": "",
         "x": [
          0.3675217620137849,
          2.7427008466781437,
          0.6255220737570883,
          -0.6770631133142064,
          0.8611524003693977,
          0.7325189915909454,
          -0.4912724703434503,
          -0.08990027233534309,
          0.7249810254170888,
          -0.44406845694832436,
          -0.11519998235144457,
          0.057807570007680414,
          1.4468154496869319,
          -1.3063691460575648,
          -1.0976511461538079,
          -0.144521111054121,
          0.9851894657897402,
          -0.3669124238805727,
          0.3900440966830113,
          -0.46883403147472796,
          0.5607883602873852,
          0.1959664854253068,
          -1.4388522302244997,
          0.9792903647735527,
          1.1534094018283618,
          0.4615133516294498,
          2.1918183430754277,
          0.5250412928758622,
          0.5001386622284841,
          0.2551536355520732,
          -0.005412224012686471,
          2.9221341098244342,
          -0.4649633760002535,
          0.604687207147699,
          0.9866743322343967,
          0.3713940127701445,
          -2.5879431288336234,
          -1.2628569935111595,
          0.8034675576116896,
          -0.7931092449981392,
          0.7424776291875992,
          0.13392997568809864,
          -1.3518633088238048,
          0.8622365479976225,
          -0.2407342066956001,
          -0.9783801026300155,
          0.7209797859368154,
          -0.38282624621694294,
          1.5716146462366636,
          -1.1665957113627479,
          0.6187301632857698,
          -2.186120621478108,
          -0.2426136169446369,
          0.44237996405091246,
          0.31750637266024034,
          -1.9937679194820443,
          -1.2624546771878686,
          -0.44884460876428806,
          0.6306675068396437,
          1.7501367095384082,
          0.48863891048392044,
          2.602313512763461,
          1.002570057651446,
          1.467085093335372,
          0.9369319026249344,
          1.7703646291362558,
          -1.1796240772203925,
          0.12617597344252518,
          -0.25609278999498675,
          -0.1115932258436591,
          0.12511197337113492,
          -0.1990422032617427,
          -0.5663920105336755,
          -1.5735449206488776,
          -0.43762023976950404,
          -1.0756184575691374,
          1.7639056749230035,
          0.19731050169828362,
          -0.11699890130357059,
          0.2773473721477822,
          0.7413590505157498,
          2.0416402836649428,
          0.576779671318424,
          -0.30937664994093284,
          1.0785633811816857,
          -0.2743774523138238,
          0.8892491714545185,
          0.5640933722954883,
          0.983842824464235,
          1.1610759271421396,
          -0.4509459056346206,
          -0.7272001536229342,
          -0.3257182965001095,
          0.1958487766367504,
          -2.372334453426788,
          0.2086402255634171,
          -0.7278070326688642,
          -1.3179084583713245,
          -1.2594262664854154,
          -0.9035664023169915
         ],
         "xaxis": "x4",
         "y": [
          1.80900659363173,
          0.035274995502989924,
          -1.3725782517059886,
          0.012016290428291753,
          1.000469906945173,
          -0.6195273127982366,
          -0.5493763932833622,
          -0.9911107758158834,
          0.23248967391723316,
          -0.14506312346767283,
          0.34184931249590944,
          0.2715616077472833,
          0.8393674963432226,
          -0.10711850809753216,
          1.8812271802120675,
          1.0538530621847526,
          -0.29984010726672844,
          -1.0005896037131567,
          0.6236039509447258,
          2.547660303248421,
          0.3645808633949736,
          0.7584190685180403,
          -1.3718605252785057,
          1.1236466096015902,
          -0.6575364883108161,
          -0.7435742465354352,
          -0.9510929805192601,
          -0.7250355706046863,
          -0.3010833740014651,
          -0.8365580045456453,
          0.5375896300969594,
          0.4250820358790253,
          -1.4817640383211563,
          1.0742946624051832,
          -1.6615502948070402,
          -0.4539105034533779,
          0.9627637686417985,
          1.0917899219961893,
          0.40651750118727115,
          0.30539547233503134,
          0.7154867771216606,
          0.4988743495347605,
          0.8934197814724031,
          -0.7226701733307364,
          -0.6212640967281962,
          -0.20366491195303663,
          0.6293167407460972,
          0.932849322897483,
          0.0889989385329877,
          -0.009742713919367142,
          0.8547431702291997,
          -0.06513079400429111,
          -0.5810102718413085,
          -0.9663593983135926,
          0.6305616168977342,
          1.9913392481918006,
          -1.9776861325927175,
          2.0202457074867883,
          -1.0347658552177048,
          -0.6695623864365713,
          1.183237535410795,
          0.4225713154856195,
          1.2265275340992094,
          -1.620088276804922,
          0.36251610386564465,
          -0.39921777940713343,
          0.19623576958325684,
          -0.28567696303803214,
          -0.40868573997383634,
          0.4589878761780295,
          -0.8307604519242388,
          0.46409171043276753,
          -0.7934822881525643,
          -0.48507069853990153,
          1.0898652590025368,
          -1.3743038367541152,
          0.581212864653542,
          0.30331914137158783,
          -1.2179046818674735,
          -2.103526750442117,
          0.6834448164214543,
          -0.15730645803113177,
          0.9021369402599491,
          -1.1694166086342517,
          0.8148051426930465,
          0.9444288848742953,
          -0.6589176826651596,
          0.5351669268927843,
          0.20689663682579865,
          0.832979037395156,
          0.5435340867904964,
          1.2929265303581408,
          -1.014503830555063,
          1.3097655276016194,
          -0.3053438162070056,
          -0.828368648201911,
          1.189594403334678,
          -0.37242628836792796,
          0.42166106976218076,
          -0.7112018906041686
         ],
         "yaxis": "y4",
         "type": "scatter"
        },
        {
         "line": {
          "color": "rgba(128, 128, 128, 1.0)",
          "dash": "solid",
          "shape": "linear",
          "width": 1.3
         },
         "marker": {
          "size": 2,
          "symbol": "circle"
         },
         "mode": "markers",
         "name": "B",
         "text": "",
         "x": [
          1.80900659363173,
          0.035274995502989924,
          -1.3725782517059886,
          0.012016290428291753,
          1.000469906945173,
          -0.6195273127982366,
          -0.5493763932833622,
          -0.9911107758158834,
          0.23248967391723316,
          -0.14506312346767283,
          0.34184931249590944,
          0.2715616077472833,
          0.8393674963432226,
          -0.10711850809753216,
          1.8812271802120675,
          1.0538530621847526,
          -0.29984010726672844,
          -1.0005896037131567,
          0.6236039509447258,
          2.547660303248421,
          0.3645808633949736,
          0.7584190685180403,
          -1.3718605252785057,
          1.1236466096015902,
          -0.6575364883108161,
          -0.7435742465354352,
          -0.9510929805192601,
          -0.7250355706046863,
          -0.3010833740014651,
          -0.8365580045456453,
          0.5375896300969594,
          0.4250820358790253,
          -1.4817640383211563,
          1.0742946624051832,
          -1.6615502948070402,
          -0.4539105034533779,
          0.9627637686417985,
          1.0917899219961893,
          0.40651750118727115,
          0.30539547233503134,
          0.7154867771216606,
          0.4988743495347605,
          0.8934197814724031,
          -0.7226701733307364,
          -0.6212640967281962,
          -0.20366491195303663,
          0.6293167407460972,
          0.932849322897483,
          0.0889989385329877,
          -0.009742713919367142,
          0.8547431702291997,
          -0.06513079400429111,
          -0.5810102718413085,
          -0.9663593983135926,
          0.6305616168977342,
          1.9913392481918006,
          -1.9776861325927175,
          2.0202457074867883,
          -1.0347658552177048,
          -0.6695623864365713,
          1.183237535410795,
          0.4225713154856195,
          1.2265275340992094,
          -1.620088276804922,
          0.36251610386564465,
          -0.39921777940713343,
          0.19623576958325684,
          -0.28567696303803214,
          -0.40868573997383634,
          0.4589878761780295,
          -0.8307604519242388,
          0.46409171043276753,
          -0.7934822881525643,
          -0.48507069853990153,
          1.0898652590025368,
          -1.3743038367541152,
          0.581212864653542,
          0.30331914137158783,
          -1.2179046818674735,
          -2.103526750442117,
          0.6834448164214543,
          -0.15730645803113177,
          0.9021369402599491,
          -1.1694166086342517,
          0.8148051426930465,
          0.9444288848742953,
          -0.6589176826651596,
          0.5351669268927843,
          0.20689663682579865,
          0.832979037395156,
          0.5435340867904964,
          1.2929265303581408,
          -1.014503830555063,
          1.3097655276016194,
          -0.3053438162070056,
          -0.828368648201911,
          1.189594403334678,
          -0.37242628836792796,
          0.42166106976218076,
          -0.7112018906041686
         ],
         "xaxis": "x5",
         "y": [
          0.9062930594144116,
          -1.4386362389423506,
          1.1369677802935936,
          2.3716105706749393,
          1.148561136980701,
          1.6384945821750838,
          -1.0740830064136329,
          -0.43741065236894316,
          0.5358574650869486,
          -0.2698795505516891,
          2.0197447105345563,
          0.4338245435899058,
          -0.6403534451698525,
          -1.895132322156619,
          0.047493285900842584,
          -0.21672463780566728,
          0.5117649446224504,
          0.7263239901604835,
          -1.4270079547470809,
          1.1684892701521439,
          -0.07635059518062,
          1.015995199829917,
          1.7008504923460286,
          -0.6630221858617115,
          -0.12131160545398256,
          2.201409865619109,
          1.5871548335880958,
          -1.4170235508141886,
          0.4156143179575276,
          -1.011196408980938,
          0.19523384068338345,
          -0.505399740247492,
          0.5600637862451191,
          -1.626626394671511,
          -2.242945396816825,
          -0.3172556011350909,
          0.15744150179076394,
          -0.6441237430038943,
          -1.154805552889705,
          1.0045417479266496,
          1.497029918691306,
          -1.374787336108716,
          0.09899565870554397,
          0.6142923431050662,
          -0.7587059584886806,
          1.4865210628371175,
          0.7245101896757082,
          2.212384737378364,
          1.1415859663818204,
          -0.48716608639593195,
          -1.492873229229848,
          -1.5580771150038115,
          0.7487385861972751,
          -0.4069196752359965,
          -1.0686371070370626,
          1.8751590252659465,
          -0.9859316483422285,
          -0.40126887692683005,
          1.3394051974576617,
          0.3400675786361936,
          1.6939200545861288,
          -1.2304126744784363,
          -0.009358785317534316,
          1.32881769350092,
          0.6380471903856916,
          -1.127888255950146,
          0.1362958685262489,
          0.9844415462026761,
          -2.3449585435451508,
          -1.1988283052407933,
          0.5902775129859864,
          -0.2816083952687804,
          2.170089395418066,
          -0.7535625814479999,
          0.1256440369012715,
          1.0710620740031642,
          -0.15147133419631562,
          0.708410299017189,
          0.5601583538557442,
          -1.0401882243373572,
          1.7056167441988201,
          0.6850843008365208,
          0.2524170417029744,
          0.4239316576340395,
          0.30856412170761116,
          -0.8120128362314452,
          -1.0248295324212153,
          0.9691832786744989,
          -0.7809378279230037,
          0.5199528377506104,
          -0.5823558298607444,
          0.02242888516997846,
          -1.8483439458823425,
          0.1683359982946268,
          0.44883480148149857,
          0.27644036079912226,
          0.5001592299352902,
          1.707276028881522,
          -0.3499034827519047,
          -0.1658350539232574
         ],
         "yaxis": "y5",
         "type": "scatter"
        },
        {
         "histfunc": "count",
         "histnorm": "",
         "marker": {
          "color": "rgba(55, 128, 191, 1.0)",
          "line": {
           "color": "#4D5663",
           "width": 1.3
          }
         },
         "name": "B",
         "nbinsx": 10,
         "opacity": 0.8,
         "orientation": "v",
         "x": [
          0.9062930594144116,
          -1.4386362389423506,
          1.1369677802935936,
          2.3716105706749393,
          1.148561136980701,
          1.6384945821750838,
          -1.0740830064136329,
          -0.43741065236894316,
          0.5358574650869486,
          -0.2698795505516891,
          2.0197447105345563,
          0.4338245435899058,
          -0.6403534451698525,
          -1.895132322156619,
          0.047493285900842584,
          -0.21672463780566728,
          0.5117649446224504,
          0.7263239901604835,
          -1.4270079547470809,
          1.1684892701521439,
          -0.07635059518062,
          1.015995199829917,
          1.7008504923460286,
          -0.6630221858617115,
          -0.12131160545398256,
          2.201409865619109,
          1.5871548335880958,
          -1.4170235508141886,
          0.4156143179575276,
          -1.011196408980938,
          0.19523384068338345,
          -0.505399740247492,
          0.5600637862451191,
          -1.626626394671511,
          -2.242945396816825,
          -0.3172556011350909,
          0.15744150179076394,
          -0.6441237430038943,
          -1.154805552889705,
          1.0045417479266496,
          1.497029918691306,
          -1.374787336108716,
          0.09899565870554397,
          0.6142923431050662,
          -0.7587059584886806,
          1.4865210628371175,
          0.7245101896757082,
          2.212384737378364,
          1.1415859663818204,
          -0.48716608639593195,
          -1.492873229229848,
          -1.5580771150038115,
          0.7487385861972751,
          -0.4069196752359965,
          -1.0686371070370626,
          1.8751590252659465,
          -0.9859316483422285,
          -0.40126887692683005,
          1.3394051974576617,
          0.3400675786361936,
          1.6939200545861288,
          -1.2304126744784363,
          -0.009358785317534316,
          1.32881769350092,
          0.6380471903856916,
          -1.127888255950146,
          0.1362958685262489,
          0.9844415462026761,
          -2.3449585435451508,
          -1.1988283052407933,
          0.5902775129859864,
          -0.2816083952687804,
          2.170089395418066,
          -0.7535625814479999,
          0.1256440369012715,
          1.0710620740031642,
          -0.15147133419631562,
          0.708410299017189,
          0.5601583538557442,
          -1.0401882243373572,
          1.7056167441988201,
          0.6850843008365208,
          0.2524170417029744,
          0.4239316576340395,
          0.30856412170761116,
          -0.8120128362314452,
          -1.0248295324212153,
          0.9691832786744989,
          -0.7809378279230037,
          0.5199528377506104,
          -0.5823558298607444,
          0.02242888516997846,
          -1.8483439458823425,
          0.1683359982946268,
          0.44883480148149857,
          0.27644036079912226,
          0.5001592299352902,
          1.707276028881522,
          -0.3499034827519047,
          -0.1658350539232574
         ],
         "xaxis": "x6",
         "yaxis": "y6",
         "type": "histogram"
        },
        {
         "line": {
          "color": "rgba(128, 128, 128, 1.0)",
          "dash": "solid",
          "shape": "linear",
          "width": 1.3
         },
         "marker": {
          "size": 2,
          "symbol": "circle"
         },
         "mode": "markers",
         "name": "B",
         "text": "",
         "x": [
          0.7692336532458728,
          0.5333344342194399,
          -0.8424260604443445,
          0.3203662543997597,
          0.08458846535047407,
          0.45708539683904553,
          -0.8498855129462245,
          1.4745690013341044,
          2.6909016970258177,
          0.5668709264460764,
          -0.05897494253507211,
          -1.836392380931625,
          1.499808814285216,
          1.4259194751034947,
          -0.08578597513422263,
          0.5560973770990663,
          -0.7584165794397412,
          -1.6105588097346335,
          -0.9074161291122519,
          0.3796037005268845,
          0.3311762861032556,
          -1.3602628819660034,
          -0.9799612820273028,
          -1.6539675770208235,
          -0.13518856728836234,
          -2.0519815390489096,
          0.7076017949132091,
          0.5777492285351216,
          0.8814525993925905,
          0.23198923387472098,
          0.5739648399528666,
          -0.9187331726443511,
          0.2378113368211414,
          0.18452376474838614,
          0.9618846352603138,
          0.04674987985743832,
          -0.19242409419798356,
          0.37406378090710063,
          -0.22470081855415733,
          -0.4221861958292879,
          0.6377575043253557,
          0.37186014681579505,
          0.9885200426741549,
          0.5846281676474738,
          -0.8857207063528001,
          0.951745296972654,
          1.433580628428485,
          2.2051673520189827,
          -1.7345907838590167,
          0.24276875299650547,
          -0.8525885975006535,
          -0.8533236132402129,
          -1.941001109878793,
          -0.061780947174691896,
          -1.1697568526208222,
          1.126896428706196,
          -0.3179738015899636,
          -0.9912010770982428,
          -1.0511344497209492,
          1.827771784627446,
          -0.326139141984017,
          -0.521984694424672,
          -1.1909121583420728,
          0.9304877086589227,
          -1.4926195618704994,
          -0.04856994266672939,
          -0.5332888237553048,
          -0.6888200985211754,
          0.004881621023809477,
          0.2969949279946919,
          0.15584434040490944,
          -0.30955808996868645,
          0.47386778091716025,
          0.583986268346228,
          1.019454808285895,
          -0.6878330822641515,
          0.5175531626481035,
          -0.7815075116688344,
          0.49634237721186597,
          -1.4827609600037182,
          -0.016543171729132132,
          -0.8007147586706331,
          0.04434472691612747,
          0.04412174249588713,
          -2.21327013820518,
          0.037192344719893536,
          -0.9390081221051154,
          -0.7828138328182563,
          -0.3415125355976032,
          0.23650650730818906,
          0.30889760418237094,
          1.5513678854253037,
          -1.7509145536551753,
          -0.169155621033073,
          0.809684981401493,
          1.0319304185412423,
          0.9980808541912738,
          1.0774436660316213,
          0.8738553331372387,
          0.2167626281308094
         ],
         "xaxis": "x7",
         "y": [
          0.9062930594144116,
          -1.4386362389423506,
          1.1369677802935936,
          2.3716105706749393,
          1.148561136980701,
          1.6384945821750838,
          -1.0740830064136329,
          -0.43741065236894316,
          0.5358574650869486,
          -0.2698795505516891,
          2.0197447105345563,
          0.4338245435899058,
          -0.6403534451698525,
          -1.895132322156619,
          0.047493285900842584,
          -0.21672463780566728,
          0.5117649446224504,
          0.7263239901604835,
          -1.4270079547470809,
          1.1684892701521439,
          -0.07635059518062,
          1.015995199829917,
          1.7008504923460286,
          -0.6630221858617115,
          -0.12131160545398256,
          2.201409865619109,
          1.5871548335880958,
          -1.4170235508141886,
          0.4156143179575276,
          -1.011196408980938,
          0.19523384068338345,
          -0.505399740247492,
          0.5600637862451191,
          -1.626626394671511,
          -2.242945396816825,
          -0.3172556011350909,
          0.15744150179076394,
          -0.6441237430038943,
          -1.154805552889705,
          1.0045417479266496,
          1.497029918691306,
          -1.374787336108716,
          0.09899565870554397,
          0.6142923431050662,
          -0.7587059584886806,
          1.4865210628371175,
          0.7245101896757082,
          2.212384737378364,
          1.1415859663818204,
          -0.48716608639593195,
          -1.492873229229848,
          -1.5580771150038115,
          0.7487385861972751,
          -0.4069196752359965,
          -1.0686371070370626,
          1.8751590252659465,
          -0.9859316483422285,
          -0.40126887692683005,
          1.3394051974576617,
          0.3400675786361936,
          1.6939200545861288,
          -1.2304126744784363,
          -0.009358785317534316,
          1.32881769350092,
          0.6380471903856916,
          -1.127888255950146,
          0.1362958685262489,
          0.9844415462026761,
          -2.3449585435451508,
          -1.1988283052407933,
          0.5902775129859864,
          -0.2816083952687804,
          2.170089395418066,
          -0.7535625814479999,
          0.1256440369012715,
          1.0710620740031642,
          -0.15147133419631562,
          0.708410299017189,
          0.5601583538557442,
          -1.0401882243373572,
          1.7056167441988201,
          0.6850843008365208,
          0.2524170417029744,
          0.4239316576340395,
          0.30856412170761116,
          -0.8120128362314452,
          -1.0248295324212153,
          0.9691832786744989,
          -0.7809378279230037,
          0.5199528377506104,
          -0.5823558298607444,
          0.02242888516997846,
          -1.8483439458823425,
          0.1683359982946268,
          0.44883480148149857,
          0.27644036079912226,
          0.5001592299352902,
          1.707276028881522,
          -0.3499034827519047,
          -0.1658350539232574
         ],
         "yaxis": "y7",
         "type": "scatter"
        },
        {
         "line": {
          "color": "rgba(128, 128, 128, 1.0)",
          "dash": "solid",
          "shape": "linear",
          "width": 1.3
         },
         "marker": {
          "size": 2,
          "symbol": "circle"
         },
         "mode": "markers",
         "name": "B",
         "text": "",
         "x": [
          0.3675217620137849,
          2.7427008466781437,
          0.6255220737570883,
          -0.6770631133142064,
          0.8611524003693977,
          0.7325189915909454,
          -0.4912724703434503,
          -0.08990027233534309,
          0.7249810254170888,
          -0.44406845694832436,
          -0.11519998235144457,
          0.057807570007680414,
          1.4468154496869319,
          -1.3063691460575648,
          -1.0976511461538079,
          -0.144521111054121,
          0.9851894657897402,
          -0.3669124238805727,
          0.3900440966830113,
          -0.46883403147472796,
          0.5607883602873852,
          0.1959664854253068,
          -1.4388522302244997,
          0.9792903647735527,
          1.1534094018283618,
          0.4615133516294498,
          2.1918183430754277,
          0.5250412928758622,
          0.5001386622284841,
          0.2551536355520732,
          -0.005412224012686471,
          2.9221341098244342,
          -0.4649633760002535,
          0.604687207147699,
          0.9866743322343967,
          0.3713940127701445,
          -2.5879431288336234,
          -1.2628569935111595,
          0.8034675576116896,
          -0.7931092449981392,
          0.7424776291875992,
          0.13392997568809864,
          -1.3518633088238048,
          0.8622365479976225,
          -0.2407342066956001,
          -0.9783801026300155,
          0.7209797859368154,
          -0.38282624621694294,
          1.5716146462366636,
          -1.1665957113627479,
          0.6187301632857698,
          -2.186120621478108,
          -0.2426136169446369,
          0.44237996405091246,
          0.31750637266024034,
          -1.9937679194820443,
          -1.2624546771878686,
          -0.44884460876428806,
          0.6306675068396437,
          1.7501367095384082,
          0.48863891048392044,
          2.602313512763461,
          1.002570057651446,
          1.467085093335372,
          0.9369319026249344,
          1.7703646291362558,
          -1.1796240772203925,
          0.12617597344252518,
          -0.25609278999498675,
          -0.1115932258436591,
          0.12511197337113492,
          -0.1990422032617427,
          -0.5663920105336755,
          -1.5735449206488776,
          -0.43762023976950404,
          -1.0756184575691374,
          1.7639056749230035,
          0.19731050169828362,
          -0.11699890130357059,
          0.2773473721477822,
          0.7413590505157498,
          2.0416402836649428,
          0.576779671318424,
          -0.30937664994093284,
          1.0785633811816857,
          -0.2743774523138238,
          0.8892491714545185,
          0.5640933722954883,
          0.983842824464235,
          1.1610759271421396,
          -0.4509459056346206,
          -0.7272001536229342,
          -0.3257182965001095,
          0.1958487766367504,
          -2.372334453426788,
          0.2086402255634171,
          -0.7278070326688642,
          -1.3179084583713245,
          -1.2594262664854154,
          -0.9035664023169915
         ],
         "xaxis": "x8",
         "y": [
          0.9062930594144116,
          -1.4386362389423506,
          1.1369677802935936,
          2.3716105706749393,
          1.148561136980701,
          1.6384945821750838,
          -1.0740830064136329,
          -0.43741065236894316,
          0.5358574650869486,
          -0.2698795505516891,
          2.0197447105345563,
          0.4338245435899058,
          -0.6403534451698525,
          -1.895132322156619,
          0.047493285900842584,
          -0.21672463780566728,
          0.5117649446224504,
          0.7263239901604835,
          -1.4270079547470809,
          1.1684892701521439,
          -0.07635059518062,
          1.015995199829917,
          1.7008504923460286,
          -0.6630221858617115,
          -0.12131160545398256,
          2.201409865619109,
          1.5871548335880958,
          -1.4170235508141886,
          0.4156143179575276,
          -1.011196408980938,
          0.19523384068338345,
          -0.505399740247492,
          0.5600637862451191,
          -1.626626394671511,
          -2.242945396816825,
          -0.3172556011350909,
          0.15744150179076394,
          -0.6441237430038943,
          -1.154805552889705,
          1.0045417479266496,
          1.497029918691306,
          -1.374787336108716,
          0.09899565870554397,
          0.6142923431050662,
          -0.7587059584886806,
          1.4865210628371175,
          0.7245101896757082,
          2.212384737378364,
          1.1415859663818204,
          -0.48716608639593195,
          -1.492873229229848,
          -1.5580771150038115,
          0.7487385861972751,
          -0.4069196752359965,
          -1.0686371070370626,
          1.8751590252659465,
          -0.9859316483422285,
          -0.40126887692683005,
          1.3394051974576617,
          0.3400675786361936,
          1.6939200545861288,
          -1.2304126744784363,
          -0.009358785317534316,
          1.32881769350092,
          0.6380471903856916,
          -1.127888255950146,
          0.1362958685262489,
          0.9844415462026761,
          -2.3449585435451508,
          -1.1988283052407933,
          0.5902775129859864,
          -0.2816083952687804,
          2.170089395418066,
          -0.7535625814479999,
          0.1256440369012715,
          1.0710620740031642,
          -0.15147133419631562,
          0.708410299017189,
          0.5601583538557442,
          -1.0401882243373572,
          1.7056167441988201,
          0.6850843008365208,
          0.2524170417029744,
          0.4239316576340395,
          0.30856412170761116,
          -0.8120128362314452,
          -1.0248295324212153,
          0.9691832786744989,
          -0.7809378279230037,
          0.5199528377506104,
          -0.5823558298607444,
          0.02242888516997846,
          -1.8483439458823425,
          0.1683359982946268,
          0.44883480148149857,
          0.27644036079912226,
          0.5001592299352902,
          1.707276028881522,
          -0.3499034827519047,
          -0.1658350539232574
         ],
         "yaxis": "y8",
         "type": "scatter"
        },
        {
         "line": {
          "color": "rgba(128, 128, 128, 1.0)",
          "dash": "solid",
          "shape": "linear",
          "width": 1.3
         },
         "marker": {
          "size": 2,
          "symbol": "circle"
         },
         "mode": "markers",
         "name": "C",
         "text": "",
         "x": [
          1.80900659363173,
          0.035274995502989924,
          -1.3725782517059886,
          0.012016290428291753,
          1.000469906945173,
          -0.6195273127982366,
          -0.5493763932833622,
          -0.9911107758158834,
          0.23248967391723316,
          -0.14506312346767283,
          0.34184931249590944,
          0.2715616077472833,
          0.8393674963432226,
          -0.10711850809753216,
          1.8812271802120675,
          1.0538530621847526,
          -0.29984010726672844,
          -1.0005896037131567,
          0.6236039509447258,
          2.547660303248421,
          0.3645808633949736,
          0.7584190685180403,
          -1.3718605252785057,
          1.1236466096015902,
          -0.6575364883108161,
          -0.7435742465354352,
          -0.9510929805192601,
          -0.7250355706046863,
          -0.3010833740014651,
          -0.8365580045456453,
          0.5375896300969594,
          0.4250820358790253,
          -1.4817640383211563,
          1.0742946624051832,
          -1.6615502948070402,
          -0.4539105034533779,
          0.9627637686417985,
          1.0917899219961893,
          0.40651750118727115,
          0.30539547233503134,
          0.7154867771216606,
          0.4988743495347605,
          0.8934197814724031,
          -0.7226701733307364,
          -0.6212640967281962,
          -0.20366491195303663,
          0.6293167407460972,
          0.932849322897483,
          0.0889989385329877,
          -0.009742713919367142,
          0.8547431702291997,
          -0.06513079400429111,
          -0.5810102718413085,
          -0.9663593983135926,
          0.6305616168977342,
          1.9913392481918006,
          -1.9776861325927175,
          2.0202457074867883,
          -1.0347658552177048,
          -0.6695623864365713,
          1.183237535410795,
          0.4225713154856195,
          1.2265275340992094,
          -1.620088276804922,
          0.36251610386564465,
          -0.39921777940713343,
          0.19623576958325684,
          -0.28567696303803214,
          -0.40868573997383634,
          0.4589878761780295,
          -0.8307604519242388,
          0.46409171043276753,
          -0.7934822881525643,
          -0.48507069853990153,
          1.0898652590025368,
          -1.3743038367541152,
          0.581212864653542,
          0.30331914137158783,
          -1.2179046818674735,
          -2.103526750442117,
          0.6834448164214543,
          -0.15730645803113177,
          0.9021369402599491,
          -1.1694166086342517,
          0.8148051426930465,
          0.9444288848742953,
          -0.6589176826651596,
          0.5351669268927843,
          0.20689663682579865,
          0.832979037395156,
          0.5435340867904964,
          1.2929265303581408,
          -1.014503830555063,
          1.3097655276016194,
          -0.3053438162070056,
          -0.828368648201911,
          1.189594403334678,
          -0.37242628836792796,
          0.42166106976218076,
          -0.7112018906041686
         ],
         "xaxis": "x9",
         "y": [
          0.7692336532458728,
          0.5333344342194399,
          -0.8424260604443445,
          0.3203662543997597,
          0.08458846535047407,
          0.45708539683904553,
          -0.8498855129462245,
          1.4745690013341044,
          2.6909016970258177,
          0.5668709264460764,
          -0.05897494253507211,
          -1.836392380931625,
          1.499808814285216,
          1.4259194751034947,
          -0.08578597513422263,
          0.5560973770990663,
          -0.7584165794397412,
          -1.6105588097346335,
          -0.9074161291122519,
          0.3796037005268845,
          0.3311762861032556,
          -1.3602628819660034,
          -0.9799612820273028,
          -1.6539675770208235,
          -0.13518856728836234,
          -2.0519815390489096,
          0.7076017949132091,
          0.5777492285351216,
          0.8814525993925905,
          0.23198923387472098,
          0.5739648399528666,
          -0.9187331726443511,
          0.2378113368211414,
          0.18452376474838614,
          0.9618846352603138,
          0.04674987985743832,
          -0.19242409419798356,
          0.37406378090710063,
          -0.22470081855415733,
          -0.4221861958292879,
          0.6377575043253557,
          0.37186014681579505,
          0.9885200426741549,
          0.5846281676474738,
          -0.8857207063528001,
          0.951745296972654,
          1.433580628428485,
          2.2051673520189827,
          -1.7345907838590167,
          0.24276875299650547,
          -0.8525885975006535,
          -0.8533236132402129,
          -1.941001109878793,
          -0.061780947174691896,
          -1.1697568526208222,
          1.126896428706196,
          -0.3179738015899636,
          -0.9912010770982428,
          -1.0511344497209492,
          1.827771784627446,
          -0.326139141984017,
          -0.521984694424672,
          -1.1909121583420728,
          0.9304877086589227,
          -1.4926195618704994,
          -0.04856994266672939,
          -0.5332888237553048,
          -0.6888200985211754,
          0.004881621023809477,
          0.2969949279946919,
          0.15584434040490944,
          -0.30955808996868645,
          0.47386778091716025,
          0.583986268346228,
          1.019454808285895,
          -0.6878330822641515,
          0.5175531626481035,
          -0.7815075116688344,
          0.49634237721186597,
          -1.4827609600037182,
          -0.016543171729132132,
          -0.8007147586706331,
          0.04434472691612747,
          0.04412174249588713,
          -2.21327013820518,
          0.037192344719893536,
          -0.9390081221051154,
          -0.7828138328182563,
          -0.3415125355976032,
          0.23650650730818906,
          0.30889760418237094,
          1.5513678854253037,
          -1.7509145536551753,
          -0.169155621033073,
          0.809684981401493,
          1.0319304185412423,
          0.9980808541912738,
          1.0774436660316213,
          0.8738553331372387,
          0.2167626281308094
         ],
         "yaxis": "y9",
         "type": "scatter"
        },
        {
         "line": {
          "color": "rgba(128, 128, 128, 1.0)",
          "dash": "solid",
          "shape": "linear",
          "width": 1.3
         },
         "marker": {
          "size": 2,
          "symbol": "circle"
         },
         "mode": "markers",
         "name": "C",
         "text": "",
         "x": [
          0.9062930594144116,
          -1.4386362389423506,
          1.1369677802935936,
          2.3716105706749393,
          1.148561136980701,
          1.6384945821750838,
          -1.0740830064136329,
          -0.43741065236894316,
          0.5358574650869486,
          -0.2698795505516891,
          2.0197447105345563,
          0.4338245435899058,
          -0.6403534451698525,
          -1.895132322156619,
          0.047493285900842584,
          -0.21672463780566728,
          0.5117649446224504,
          0.7263239901604835,
          -1.4270079547470809,
          1.1684892701521439,
          -0.07635059518062,
          1.015995199829917,
          1.7008504923460286,
          -0.6630221858617115,
          -0.12131160545398256,
          2.201409865619109,
          1.5871548335880958,
          -1.4170235508141886,
          0.4156143179575276,
          -1.011196408980938,
          0.19523384068338345,
          -0.505399740247492,
          0.5600637862451191,
          -1.626626394671511,
          -2.242945396816825,
          -0.3172556011350909,
          0.15744150179076394,
          -0.6441237430038943,
          -1.154805552889705,
          1.0045417479266496,
          1.497029918691306,
          -1.374787336108716,
          0.09899565870554397,
          0.6142923431050662,
          -0.7587059584886806,
          1.4865210628371175,
          0.7245101896757082,
          2.212384737378364,
          1.1415859663818204,
          -0.48716608639593195,
          -1.492873229229848,
          -1.5580771150038115,
          0.7487385861972751,
          -0.4069196752359965,
          -1.0686371070370626,
          1.8751590252659465,
          -0.9859316483422285,
          -0.40126887692683005,
          1.3394051974576617,
          0.3400675786361936,
          1.6939200545861288,
          -1.2304126744784363,
          -0.009358785317534316,
          1.32881769350092,
          0.6380471903856916,
          -1.127888255950146,
          0.1362958685262489,
          0.9844415462026761,
          -2.3449585435451508,
          -1.1988283052407933,
          0.5902775129859864,
          -0.2816083952687804,
          2.170089395418066,
          -0.7535625814479999,
          0.1256440369012715,
          1.0710620740031642,
          -0.15147133419631562,
          0.708410299017189,
          0.5601583538557442,
          -1.0401882243373572,
          1.7056167441988201,
          0.6850843008365208,
          0.2524170417029744,
          0.4239316576340395,
          0.30856412170761116,
          -0.8120128362314452,
          -1.0248295324212153,
          0.9691832786744989,
          -0.7809378279230037,
          0.5199528377506104,
          -0.5823558298607444,
          0.02242888516997846,
          -1.8483439458823425,
          0.1683359982946268,
          0.44883480148149857,
          0.27644036079912226,
          0.5001592299352902,
          1.707276028881522,
          -0.3499034827519047,
          -0.1658350539232574
         ],
         "xaxis": "x10",
         "y": [
          0.7692336532458728,
          0.5333344342194399,
          -0.8424260604443445,
          0.3203662543997597,
          0.08458846535047407,
          0.45708539683904553,
          -0.8498855129462245,
          1.4745690013341044,
          2.6909016970258177,
          0.5668709264460764,
          -0.05897494253507211,
          -1.836392380931625,
          1.499808814285216,
          1.4259194751034947,
          -0.08578597513422263,
          0.5560973770990663,
          -0.7584165794397412,
          -1.6105588097346335,
          -0.9074161291122519,
          0.3796037005268845,
          0.3311762861032556,
          -1.3602628819660034,
          -0.9799612820273028,
          -1.6539675770208235,
          -0.13518856728836234,
          -2.0519815390489096,
          0.7076017949132091,
          0.5777492285351216,
          0.8814525993925905,
          0.23198923387472098,
          0.5739648399528666,
          -0.9187331726443511,
          0.2378113368211414,
          0.18452376474838614,
          0.9618846352603138,
          0.04674987985743832,
          -0.19242409419798356,
          0.37406378090710063,
          -0.22470081855415733,
          -0.4221861958292879,
          0.6377575043253557,
          0.37186014681579505,
          0.9885200426741549,
          0.5846281676474738,
          -0.8857207063528001,
          0.951745296972654,
          1.433580628428485,
          2.2051673520189827,
          -1.7345907838590167,
          0.24276875299650547,
          -0.8525885975006535,
          -0.8533236132402129,
          -1.941001109878793,
          -0.061780947174691896,
          -1.1697568526208222,
          1.126896428706196,
          -0.3179738015899636,
          -0.9912010770982428,
          -1.0511344497209492,
          1.827771784627446,
          -0.326139141984017,
          -0.521984694424672,
          -1.1909121583420728,
          0.9304877086589227,
          -1.4926195618704994,
          -0.04856994266672939,
          -0.5332888237553048,
          -0.6888200985211754,
          0.004881621023809477,
          0.2969949279946919,
          0.15584434040490944,
          -0.30955808996868645,
          0.47386778091716025,
          0.583986268346228,
          1.019454808285895,
          -0.6878330822641515,
          0.5175531626481035,
          -0.7815075116688344,
          0.49634237721186597,
          -1.4827609600037182,
          -0.016543171729132132,
          -0.8007147586706331,
          0.04434472691612747,
          0.04412174249588713,
          -2.21327013820518,
          0.037192344719893536,
          -0.9390081221051154,
          -0.7828138328182563,
          -0.3415125355976032,
          0.23650650730818906,
          0.30889760418237094,
          1.5513678854253037,
          -1.7509145536551753,
          -0.169155621033073,
          0.809684981401493,
          1.0319304185412423,
          0.9980808541912738,
          1.0774436660316213,
          0.8738553331372387,
          0.2167626281308094
         ],
         "yaxis": "y10",
         "type": "scatter"
        },
        {
         "histfunc": "count",
         "histnorm": "",
         "marker": {
          "color": "rgba(50, 171, 96, 1.0)",
          "line": {
           "color": "#4D5663",
           "width": 1.3
          }
         },
         "name": "C",
         "nbinsx": 10,
         "opacity": 0.8,
         "orientation": "v",
         "x": [
          0.7692336532458728,
          0.5333344342194399,
          -0.8424260604443445,
          0.3203662543997597,
          0.08458846535047407,
          0.45708539683904553,
          -0.8498855129462245,
          1.4745690013341044,
          2.6909016970258177,
          0.5668709264460764,
          -0.05897494253507211,
          -1.836392380931625,
          1.499808814285216,
          1.4259194751034947,
          -0.08578597513422263,
          0.5560973770990663,
          -0.7584165794397412,
          -1.6105588097346335,
          -0.9074161291122519,
          0.3796037005268845,
          0.3311762861032556,
          -1.3602628819660034,
          -0.9799612820273028,
          -1.6539675770208235,
          -0.13518856728836234,
          -2.0519815390489096,
          0.7076017949132091,
          0.5777492285351216,
          0.8814525993925905,
          0.23198923387472098,
          0.5739648399528666,
          -0.9187331726443511,
          0.2378113368211414,
          0.18452376474838614,
          0.9618846352603138,
          0.04674987985743832,
          -0.19242409419798356,
          0.37406378090710063,
          -0.22470081855415733,
          -0.4221861958292879,
          0.6377575043253557,
          0.37186014681579505,
          0.9885200426741549,
          0.5846281676474738,
          -0.8857207063528001,
          0.951745296972654,
          1.433580628428485,
          2.2051673520189827,
          -1.7345907838590167,
          0.24276875299650547,
          -0.8525885975006535,
          -0.8533236132402129,
          -1.941001109878793,
          -0.061780947174691896,
          -1.1697568526208222,
          1.126896428706196,
          -0.3179738015899636,
          -0.9912010770982428,
          -1.0511344497209492,
          1.827771784627446,
          -0.326139141984017,
          -0.521984694424672,
          -1.1909121583420728,
          0.9304877086589227,
          -1.4926195618704994,
          -0.04856994266672939,
          -0.5332888237553048,
          -0.6888200985211754,
          0.004881621023809477,
          0.2969949279946919,
          0.15584434040490944,
          -0.30955808996868645,
          0.47386778091716025,
          0.583986268346228,
          1.019454808285895,
          -0.6878330822641515,
          0.5175531626481035,
          -0.7815075116688344,
          0.49634237721186597,
          -1.4827609600037182,
          -0.016543171729132132,
          -0.8007147586706331,
          0.04434472691612747,
          0.04412174249588713,
          -2.21327013820518,
          0.037192344719893536,
          -0.9390081221051154,
          -0.7828138328182563,
          -0.3415125355976032,
          0.23650650730818906,
          0.30889760418237094,
          1.5513678854253037,
          -1.7509145536551753,
          -0.169155621033073,
          0.809684981401493,
          1.0319304185412423,
          0.9980808541912738,
          1.0774436660316213,
          0.8738553331372387,
          0.2167626281308094
         ],
         "xaxis": "x11",
         "yaxis": "y11",
         "type": "histogram"
        },
        {
         "line": {
          "color": "rgba(128, 128, 128, 1.0)",
          "dash": "solid",
          "shape": "linear",
          "width": 1.3
         },
         "marker": {
          "size": 2,
          "symbol": "circle"
         },
         "mode": "markers",
         "name": "C",
         "text": "",
         "x": [
          0.3675217620137849,
          2.7427008466781437,
          0.6255220737570883,
          -0.6770631133142064,
          0.8611524003693977,
          0.7325189915909454,
          -0.4912724703434503,
          -0.08990027233534309,
          0.7249810254170888,
          -0.44406845694832436,
          -0.11519998235144457,
          0.057807570007680414,
          1.4468154496869319,
          -1.3063691460575648,
          -1.0976511461538079,
          -0.144521111054121,
          0.9851894657897402,
          -0.3669124238805727,
          0.3900440966830113,
          -0.46883403147472796,
          0.5607883602873852,
          0.1959664854253068,
          -1.4388522302244997,
          0.9792903647735527,
          1.1534094018283618,
          0.4615133516294498,
          2.1918183430754277,
          0.5250412928758622,
          0.5001386622284841,
          0.2551536355520732,
          -0.005412224012686471,
          2.9221341098244342,
          -0.4649633760002535,
          0.604687207147699,
          0.9866743322343967,
          0.3713940127701445,
          -2.5879431288336234,
          -1.2628569935111595,
          0.8034675576116896,
          -0.7931092449981392,
          0.7424776291875992,
          0.13392997568809864,
          -1.3518633088238048,
          0.8622365479976225,
          -0.2407342066956001,
          -0.9783801026300155,
          0.7209797859368154,
          -0.38282624621694294,
          1.5716146462366636,
          -1.1665957113627479,
          0.6187301632857698,
          -2.186120621478108,
          -0.2426136169446369,
          0.44237996405091246,
          0.31750637266024034,
          -1.9937679194820443,
          -1.2624546771878686,
          -0.44884460876428806,
          0.6306675068396437,
          1.7501367095384082,
          0.48863891048392044,
          2.602313512763461,
          1.002570057651446,
          1.467085093335372,
          0.9369319026249344,
          1.7703646291362558,
          -1.1796240772203925,
          0.12617597344252518,
          -0.25609278999498675,
          -0.1115932258436591,
          0.12511197337113492,
          -0.1990422032617427,
          -0.5663920105336755,
          -1.5735449206488776,
          -0.43762023976950404,
          -1.0756184575691374,
          1.7639056749230035,
          0.19731050169828362,
          -0.11699890130357059,
          0.2773473721477822,
          0.7413590505157498,
          2.0416402836649428,
          0.576779671318424,
          -0.30937664994093284,
          1.0785633811816857,
          -0.2743774523138238,
          0.8892491714545185,
          0.5640933722954883,
          0.983842824464235,
          1.1610759271421396,
          -0.4509459056346206,
          -0.7272001536229342,
          -0.3257182965001095,
          0.1958487766367504,
          -2.372334453426788,
          0.2086402255634171,
          -0.7278070326688642,
          -1.3179084583713245,
          -1.2594262664854154,
          -0.9035664023169915
         ],
         "xaxis": "x12",
         "y": [
          0.7692336532458728,
          0.5333344342194399,
          -0.8424260604443445,
          0.3203662543997597,
          0.08458846535047407,
          0.45708539683904553,
          -0.8498855129462245,
          1.4745690013341044,
          2.6909016970258177,
          0.5668709264460764,
          -0.05897494253507211,
          -1.836392380931625,
          1.499808814285216,
          1.4259194751034947,
          -0.08578597513422263,
          0.5560973770990663,
          -0.7584165794397412,
          -1.6105588097346335,
          -0.9074161291122519,
          0.3796037005268845,
          0.3311762861032556,
          -1.3602628819660034,
          -0.9799612820273028,
          -1.6539675770208235,
          -0.13518856728836234,
          -2.0519815390489096,
          0.7076017949132091,
          0.5777492285351216,
          0.8814525993925905,
          0.23198923387472098,
          0.5739648399528666,
          -0.9187331726443511,
          0.2378113368211414,
          0.18452376474838614,
          0.9618846352603138,
          0.04674987985743832,
          -0.19242409419798356,
          0.37406378090710063,
          -0.22470081855415733,
          -0.4221861958292879,
          0.6377575043253557,
          0.37186014681579505,
          0.9885200426741549,
          0.5846281676474738,
          -0.8857207063528001,
          0.951745296972654,
          1.433580628428485,
          2.2051673520189827,
          -1.7345907838590167,
          0.24276875299650547,
          -0.8525885975006535,
          -0.8533236132402129,
          -1.941001109878793,
          -0.061780947174691896,
          -1.1697568526208222,
          1.126896428706196,
          -0.3179738015899636,
          -0.9912010770982428,
          -1.0511344497209492,
          1.827771784627446,
          -0.326139141984017,
          -0.521984694424672,
          -1.1909121583420728,
          0.9304877086589227,
          -1.4926195618704994,
          -0.04856994266672939,
          -0.5332888237553048,
          -0.6888200985211754,
          0.004881621023809477,
          0.2969949279946919,
          0.15584434040490944,
          -0.30955808996868645,
          0.47386778091716025,
          0.583986268346228,
          1.019454808285895,
          -0.6878330822641515,
          0.5175531626481035,
          -0.7815075116688344,
          0.49634237721186597,
          -1.4827609600037182,
          -0.016543171729132132,
          -0.8007147586706331,
          0.04434472691612747,
          0.04412174249588713,
          -2.21327013820518,
          0.037192344719893536,
          -0.9390081221051154,
          -0.7828138328182563,
          -0.3415125355976032,
          0.23650650730818906,
          0.30889760418237094,
          1.5513678854253037,
          -1.7509145536551753,
          -0.169155621033073,
          0.809684981401493,
          1.0319304185412423,
          0.9980808541912738,
          1.0774436660316213,
          0.8738553331372387,
          0.2167626281308094
         ],
         "yaxis": "y12",
         "type": "scatter"
        },
        {
         "line": {
          "color": "rgba(128, 128, 128, 1.0)",
          "dash": "solid",
          "shape": "linear",
          "width": 1.3
         },
         "marker": {
          "size": 2,
          "symbol": "circle"
         },
         "mode": "markers",
         "name": "D",
         "text": "",
         "x": [
          1.80900659363173,
          0.035274995502989924,
          -1.3725782517059886,
          0.012016290428291753,
          1.000469906945173,
          -0.6195273127982366,
          -0.5493763932833622,
          -0.9911107758158834,
          0.23248967391723316,
          -0.14506312346767283,
          0.34184931249590944,
          0.2715616077472833,
          0.8393674963432226,
          -0.10711850809753216,
          1.8812271802120675,
          1.0538530621847526,
          -0.29984010726672844,
          -1.0005896037131567,
          0.6236039509447258,
          2.547660303248421,
          0.3645808633949736,
          0.7584190685180403,
          -1.3718605252785057,
          1.1236466096015902,
          -0.6575364883108161,
          -0.7435742465354352,
          -0.9510929805192601,
          -0.7250355706046863,
          -0.3010833740014651,
          -0.8365580045456453,
          0.5375896300969594,
          0.4250820358790253,
          -1.4817640383211563,
          1.0742946624051832,
          -1.6615502948070402,
          -0.4539105034533779,
          0.9627637686417985,
          1.0917899219961893,
          0.40651750118727115,
          0.30539547233503134,
          0.7154867771216606,
          0.4988743495347605,
          0.8934197814724031,
          -0.7226701733307364,
          -0.6212640967281962,
          -0.20366491195303663,
          0.6293167407460972,
          0.932849322897483,
          0.0889989385329877,
          -0.009742713919367142,
          0.8547431702291997,
          -0.06513079400429111,
          -0.5810102718413085,
          -0.9663593983135926,
          0.6305616168977342,
          1.9913392481918006,
          -1.9776861325927175,
          2.0202457074867883,
          -1.0347658552177048,
          -0.6695623864365713,
          1.183237535410795,
          0.4225713154856195,
          1.2265275340992094,
          -1.620088276804922,
          0.36251610386564465,
          -0.39921777940713343,
          0.19623576958325684,
          -0.28567696303803214,
          -0.40868573997383634,
          0.4589878761780295,
          -0.8307604519242388,
          0.46409171043276753,
          -0.7934822881525643,
          -0.48507069853990153,
          1.0898652590025368,
          -1.3743038367541152,
          0.581212864653542,
          0.30331914137158783,
          -1.2179046818674735,
          -2.103526750442117,
          0.6834448164214543,
          -0.15730645803113177,
          0.9021369402599491,
          -1.1694166086342517,
          0.8148051426930465,
          0.9444288848742953,
          -0.6589176826651596,
          0.5351669268927843,
          0.20689663682579865,
          0.832979037395156,
          0.5435340867904964,
          1.2929265303581408,
          -1.014503830555063,
          1.3097655276016194,
          -0.3053438162070056,
          -0.828368648201911,
          1.189594403334678,
          -0.37242628836792796,
          0.42166106976218076,
          -0.7112018906041686
         ],
         "xaxis": "x13",
         "y": [
          0.3675217620137849,
          2.7427008466781437,
          0.6255220737570883,
          -0.6770631133142064,
          0.8611524003693977,
          0.7325189915909454,
          -0.4912724703434503,
          -0.08990027233534309,
          0.7249810254170888,
          -0.44406845694832436,
          -0.11519998235144457,
          0.057807570007680414,
          1.4468154496869319,
          -1.3063691460575648,
          -1.0976511461538079,
          -0.144521111054121,
          0.9851894657897402,
          -0.3669124238805727,
          0.3900440966830113,
          -0.46883403147472796,
          0.5607883602873852,
          0.1959664854253068,
          -1.4388522302244997,
          0.9792903647735527,
          1.1534094018283618,
          0.4615133516294498,
          2.1918183430754277,
          0.5250412928758622,
          0.5001386622284841,
          0.2551536355520732,
          -0.005412224012686471,
          2.9221341098244342,
          -0.4649633760002535,
          0.604687207147699,
          0.9866743322343967,
          0.3713940127701445,
          -2.5879431288336234,
          -1.2628569935111595,
          0.8034675576116896,
          -0.7931092449981392,
          0.7424776291875992,
          0.13392997568809864,
          -1.3518633088238048,
          0.8622365479976225,
          -0.2407342066956001,
          -0.9783801026300155,
          0.7209797859368154,
          -0.38282624621694294,
          1.5716146462366636,
          -1.1665957113627479,
          0.6187301632857698,
          -2.186120621478108,
          -0.2426136169446369,
          0.44237996405091246,
          0.31750637266024034,
          -1.9937679194820443,
          -1.2624546771878686,
          -0.44884460876428806,
          0.6306675068396437,
          1.7501367095384082,
          0.48863891048392044,
          2.602313512763461,
          1.002570057651446,
          1.467085093335372,
          0.9369319026249344,
          1.7703646291362558,
          -1.1796240772203925,
          0.12617597344252518,
          -0.25609278999498675,
          -0.1115932258436591,
          0.12511197337113492,
          -0.1990422032617427,
          -0.5663920105336755,
          -1.5735449206488776,
          -0.43762023976950404,
          -1.0756184575691374,
          1.7639056749230035,
          0.19731050169828362,
          -0.11699890130357059,
          0.2773473721477822,
          0.7413590505157498,
          2.0416402836649428,
          0.576779671318424,
          -0.30937664994093284,
          1.0785633811816857,
          -0.2743774523138238,
          0.8892491714545185,
          0.5640933722954883,
          0.983842824464235,
          1.1610759271421396,
          -0.4509459056346206,
          -0.7272001536229342,
          -0.3257182965001095,
          0.1958487766367504,
          -2.372334453426788,
          0.2086402255634171,
          -0.7278070326688642,
          -1.3179084583713245,
          -1.2594262664854154,
          -0.9035664023169915
         ],
         "yaxis": "y13",
         "type": "scatter"
        },
        {
         "line": {
          "color": "rgba(128, 128, 128, 1.0)",
          "dash": "solid",
          "shape": "linear",
          "width": 1.3
         },
         "marker": {
          "size": 2,
          "symbol": "circle"
         },
         "mode": "markers",
         "name": "D",
         "text": "",
         "x": [
          0.9062930594144116,
          -1.4386362389423506,
          1.1369677802935936,
          2.3716105706749393,
          1.148561136980701,
          1.6384945821750838,
          -1.0740830064136329,
          -0.43741065236894316,
          0.5358574650869486,
          -0.2698795505516891,
          2.0197447105345563,
          0.4338245435899058,
          -0.6403534451698525,
          -1.895132322156619,
          0.047493285900842584,
          -0.21672463780566728,
          0.5117649446224504,
          0.7263239901604835,
          -1.4270079547470809,
          1.1684892701521439,
          -0.07635059518062,
          1.015995199829917,
          1.7008504923460286,
          -0.6630221858617115,
          -0.12131160545398256,
          2.201409865619109,
          1.5871548335880958,
          -1.4170235508141886,
          0.4156143179575276,
          -1.011196408980938,
          0.19523384068338345,
          -0.505399740247492,
          0.5600637862451191,
          -1.626626394671511,
          -2.242945396816825,
          -0.3172556011350909,
          0.15744150179076394,
          -0.6441237430038943,
          -1.154805552889705,
          1.0045417479266496,
          1.497029918691306,
          -1.374787336108716,
          0.09899565870554397,
          0.6142923431050662,
          -0.7587059584886806,
          1.4865210628371175,
          0.7245101896757082,
          2.212384737378364,
          1.1415859663818204,
          -0.48716608639593195,
          -1.492873229229848,
          -1.5580771150038115,
          0.7487385861972751,
          -0.4069196752359965,
          -1.0686371070370626,
          1.8751590252659465,
          -0.9859316483422285,
          -0.40126887692683005,
          1.3394051974576617,
          0.3400675786361936,
          1.6939200545861288,
          -1.2304126744784363,
          -0.009358785317534316,
          1.32881769350092,
          0.6380471903856916,
          -1.127888255950146,
          0.1362958685262489,
          0.9844415462026761,
          -2.3449585435451508,
          -1.1988283052407933,
          0.5902775129859864,
          -0.2816083952687804,
          2.170089395418066,
          -0.7535625814479999,
          0.1256440369012715,
          1.0710620740031642,
          -0.15147133419631562,
          0.708410299017189,
          0.5601583538557442,
          -1.0401882243373572,
          1.7056167441988201,
          0.6850843008365208,
          0.2524170417029744,
          0.4239316576340395,
          0.30856412170761116,
          -0.8120128362314452,
          -1.0248295324212153,
          0.9691832786744989,
          -0.7809378279230037,
          0.5199528377506104,
          -0.5823558298607444,
          0.02242888516997846,
          -1.8483439458823425,
          0.1683359982946268,
          0.44883480148149857,
          0.27644036079912226,
          0.5001592299352902,
          1.707276028881522,
          -0.3499034827519047,
          -0.1658350539232574
         ],
         "xaxis": "x14",
         "y": [
          0.3675217620137849,
          2.7427008466781437,
          0.6255220737570883,
          -0.6770631133142064,
          0.8611524003693977,
          0.7325189915909454,
          -0.4912724703434503,
          -0.08990027233534309,
          0.7249810254170888,
          -0.44406845694832436,
          -0.11519998235144457,
          0.057807570007680414,
          1.4468154496869319,
          -1.3063691460575648,
          -1.0976511461538079,
          -0.144521111054121,
          0.9851894657897402,
          -0.3669124238805727,
          0.3900440966830113,
          -0.46883403147472796,
          0.5607883602873852,
          0.1959664854253068,
          -1.4388522302244997,
          0.9792903647735527,
          1.1534094018283618,
          0.4615133516294498,
          2.1918183430754277,
          0.5250412928758622,
          0.5001386622284841,
          0.2551536355520732,
          -0.005412224012686471,
          2.9221341098244342,
          -0.4649633760002535,
          0.604687207147699,
          0.9866743322343967,
          0.3713940127701445,
          -2.5879431288336234,
          -1.2628569935111595,
          0.8034675576116896,
          -0.7931092449981392,
          0.7424776291875992,
          0.13392997568809864,
          -1.3518633088238048,
          0.8622365479976225,
          -0.2407342066956001,
          -0.9783801026300155,
          0.7209797859368154,
          -0.38282624621694294,
          1.5716146462366636,
          -1.1665957113627479,
          0.6187301632857698,
          -2.186120621478108,
          -0.2426136169446369,
          0.44237996405091246,
          0.31750637266024034,
          -1.9937679194820443,
          -1.2624546771878686,
          -0.44884460876428806,
          0.6306675068396437,
          1.7501367095384082,
          0.48863891048392044,
          2.602313512763461,
          1.002570057651446,
          1.467085093335372,
          0.9369319026249344,
          1.7703646291362558,
          -1.1796240772203925,
          0.12617597344252518,
          -0.25609278999498675,
          -0.1115932258436591,
          0.12511197337113492,
          -0.1990422032617427,
          -0.5663920105336755,
          -1.5735449206488776,
          -0.43762023976950404,
          -1.0756184575691374,
          1.7639056749230035,
          0.19731050169828362,
          -0.11699890130357059,
          0.2773473721477822,
          0.7413590505157498,
          2.0416402836649428,
          0.576779671318424,
          -0.30937664994093284,
          1.0785633811816857,
          -0.2743774523138238,
          0.8892491714545185,
          0.5640933722954883,
          0.983842824464235,
          1.1610759271421396,
          -0.4509459056346206,
          -0.7272001536229342,
          -0.3257182965001095,
          0.1958487766367504,
          -2.372334453426788,
          0.2086402255634171,
          -0.7278070326688642,
          -1.3179084583713245,
          -1.2594262664854154,
          -0.9035664023169915
         ],
         "yaxis": "y14",
         "type": "scatter"
        },
        {
         "line": {
          "color": "rgba(128, 128, 128, 1.0)",
          "dash": "solid",
          "shape": "linear",
          "width": 1.3
         },
         "marker": {
          "size": 2,
          "symbol": "circle"
         },
         "mode": "markers",
         "name": "D",
         "text": "",
         "x": [
          0.7692336532458728,
          0.5333344342194399,
          -0.8424260604443445,
          0.3203662543997597,
          0.08458846535047407,
          0.45708539683904553,
          -0.8498855129462245,
          1.4745690013341044,
          2.6909016970258177,
          0.5668709264460764,
          -0.05897494253507211,
          -1.836392380931625,
          1.499808814285216,
          1.4259194751034947,
          -0.08578597513422263,
          0.5560973770990663,
          -0.7584165794397412,
          -1.6105588097346335,
          -0.9074161291122519,
          0.3796037005268845,
          0.3311762861032556,
          -1.3602628819660034,
          -0.9799612820273028,
          -1.6539675770208235,
          -0.13518856728836234,
          -2.0519815390489096,
          0.7076017949132091,
          0.5777492285351216,
          0.8814525993925905,
          0.23198923387472098,
          0.5739648399528666,
          -0.9187331726443511,
          0.2378113368211414,
          0.18452376474838614,
          0.9618846352603138,
          0.04674987985743832,
          -0.19242409419798356,
          0.37406378090710063,
          -0.22470081855415733,
          -0.4221861958292879,
          0.6377575043253557,
          0.37186014681579505,
          0.9885200426741549,
          0.5846281676474738,
          -0.8857207063528001,
          0.951745296972654,
          1.433580628428485,
          2.2051673520189827,
          -1.7345907838590167,
          0.24276875299650547,
          -0.8525885975006535,
          -0.8533236132402129,
          -1.941001109878793,
          -0.061780947174691896,
          -1.1697568526208222,
          1.126896428706196,
          -0.3179738015899636,
          -0.9912010770982428,
          -1.0511344497209492,
          1.827771784627446,
          -0.326139141984017,
          -0.521984694424672,
          -1.1909121583420728,
          0.9304877086589227,
          -1.4926195618704994,
          -0.04856994266672939,
          -0.5332888237553048,
          -0.6888200985211754,
          0.004881621023809477,
          0.2969949279946919,
          0.15584434040490944,
          -0.30955808996868645,
          0.47386778091716025,
          0.583986268346228,
          1.019454808285895,
          -0.6878330822641515,
          0.5175531626481035,
          -0.7815075116688344,
          0.49634237721186597,
          -1.4827609600037182,
          -0.016543171729132132,
          -0.8007147586706331,
          0.04434472691612747,
          0.04412174249588713,
          -2.21327013820518,
          0.037192344719893536,
          -0.9390081221051154,
          -0.7828138328182563,
          -0.3415125355976032,
          0.23650650730818906,
          0.30889760418237094,
          1.5513678854253037,
          -1.7509145536551753,
          -0.169155621033073,
          0.809684981401493,
          1.0319304185412423,
          0.9980808541912738,
          1.0774436660316213,
          0.8738553331372387,
          0.2167626281308094
         ],
         "xaxis": "x15",
         "y": [
          0.3675217620137849,
          2.7427008466781437,
          0.6255220737570883,
          -0.6770631133142064,
          0.8611524003693977,
          0.7325189915909454,
          -0.4912724703434503,
          -0.08990027233534309,
          0.7249810254170888,
          -0.44406845694832436,
          -0.11519998235144457,
          0.057807570007680414,
          1.4468154496869319,
          -1.3063691460575648,
          -1.0976511461538079,
          -0.144521111054121,
          0.9851894657897402,
          -0.3669124238805727,
          0.3900440966830113,
          -0.46883403147472796,
          0.5607883602873852,
          0.1959664854253068,
          -1.4388522302244997,
          0.9792903647735527,
          1.1534094018283618,
          0.4615133516294498,
          2.1918183430754277,
          0.5250412928758622,
          0.5001386622284841,
          0.2551536355520732,
          -0.005412224012686471,
          2.9221341098244342,
          -0.4649633760002535,
          0.604687207147699,
          0.9866743322343967,
          0.3713940127701445,
          -2.5879431288336234,
          -1.2628569935111595,
          0.8034675576116896,
          -0.7931092449981392,
          0.7424776291875992,
          0.13392997568809864,
          -1.3518633088238048,
          0.8622365479976225,
          -0.2407342066956001,
          -0.9783801026300155,
          0.7209797859368154,
          -0.38282624621694294,
          1.5716146462366636,
          -1.1665957113627479,
          0.6187301632857698,
          -2.186120621478108,
          -0.2426136169446369,
          0.44237996405091246,
          0.31750637266024034,
          -1.9937679194820443,
          -1.2624546771878686,
          -0.44884460876428806,
          0.6306675068396437,
          1.7501367095384082,
          0.48863891048392044,
          2.602313512763461,
          1.002570057651446,
          1.467085093335372,
          0.9369319026249344,
          1.7703646291362558,
          -1.1796240772203925,
          0.12617597344252518,
          -0.25609278999498675,
          -0.1115932258436591,
          0.12511197337113492,
          -0.1990422032617427,
          -0.5663920105336755,
          -1.5735449206488776,
          -0.43762023976950404,
          -1.0756184575691374,
          1.7639056749230035,
          0.19731050169828362,
          -0.11699890130357059,
          0.2773473721477822,
          0.7413590505157498,
          2.0416402836649428,
          0.576779671318424,
          -0.30937664994093284,
          1.0785633811816857,
          -0.2743774523138238,
          0.8892491714545185,
          0.5640933722954883,
          0.983842824464235,
          1.1610759271421396,
          -0.4509459056346206,
          -0.7272001536229342,
          -0.3257182965001095,
          0.1958487766367504,
          -2.372334453426788,
          0.2086402255634171,
          -0.7278070326688642,
          -1.3179084583713245,
          -1.2594262664854154,
          -0.9035664023169915
         ],
         "yaxis": "y15",
         "type": "scatter"
        },
        {
         "histfunc": "count",
         "histnorm": "",
         "marker": {
          "color": "rgba(128, 0, 128, 1.0)",
          "line": {
           "color": "#4D5663",
           "width": 1.3
          }
         },
         "name": "D",
         "nbinsx": 10,
         "opacity": 0.8,
         "orientation": "v",
         "x": [
          0.3675217620137849,
          2.7427008466781437,
          0.6255220737570883,
          -0.6770631133142064,
          0.8611524003693977,
          0.7325189915909454,
          -0.4912724703434503,
          -0.08990027233534309,
          0.7249810254170888,
          -0.44406845694832436,
          -0.11519998235144457,
          0.057807570007680414,
          1.4468154496869319,
          -1.3063691460575648,
          -1.0976511461538079,
          -0.144521111054121,
          0.9851894657897402,
          -0.3669124238805727,
          0.3900440966830113,
          -0.46883403147472796,
          0.5607883602873852,
          0.1959664854253068,
          -1.4388522302244997,
          0.9792903647735527,
          1.1534094018283618,
          0.4615133516294498,
          2.1918183430754277,
          0.5250412928758622,
          0.5001386622284841,
          0.2551536355520732,
          -0.005412224012686471,
          2.9221341098244342,
          -0.4649633760002535,
          0.604687207147699,
          0.9866743322343967,
          0.3713940127701445,
          -2.5879431288336234,
          -1.2628569935111595,
          0.8034675576116896,
          -0.7931092449981392,
          0.7424776291875992,
          0.13392997568809864,
          -1.3518633088238048,
          0.8622365479976225,
          -0.2407342066956001,
          -0.9783801026300155,
          0.7209797859368154,
          -0.38282624621694294,
          1.5716146462366636,
          -1.1665957113627479,
          0.6187301632857698,
          -2.186120621478108,
          -0.2426136169446369,
          0.44237996405091246,
          0.31750637266024034,
          -1.9937679194820443,
          -1.2624546771878686,
          -0.44884460876428806,
          0.6306675068396437,
          1.7501367095384082,
          0.48863891048392044,
          2.602313512763461,
          1.002570057651446,
          1.467085093335372,
          0.9369319026249344,
          1.7703646291362558,
          -1.1796240772203925,
          0.12617597344252518,
          -0.25609278999498675,
          -0.1115932258436591,
          0.12511197337113492,
          -0.1990422032617427,
          -0.5663920105336755,
          -1.5735449206488776,
          -0.43762023976950404,
          -1.0756184575691374,
          1.7639056749230035,
          0.19731050169828362,
          -0.11699890130357059,
          0.2773473721477822,
          0.7413590505157498,
          2.0416402836649428,
          0.576779671318424,
          -0.30937664994093284,
          1.0785633811816857,
          -0.2743774523138238,
          0.8892491714545185,
          0.5640933722954883,
          0.983842824464235,
          1.1610759271421396,
          -0.4509459056346206,
          -0.7272001536229342,
          -0.3257182965001095,
          0.1958487766367504,
          -2.372334453426788,
          0.2086402255634171,
          -0.7278070326688642,
          -1.3179084583713245,
          -1.2594262664854154,
          -0.9035664023169915
         ],
         "xaxis": "x16",
         "yaxis": "y16",
         "type": "histogram"
        }
       ],
       "layout": {
        "bargap": 0.02,
        "legend": {
         "bgcolor": "#F5F6F9",
         "font": {
          "color": "#4D5663"
         }
        },
        "paper_bgcolor": "#F5F6F9",
        "plot_bgcolor": "#F5F6F9",
        "showlegend": false,
        "template": {
         "data": {
          "barpolar": [
           {
            "marker": {
             "line": {
              "color": "#E5ECF6",
              "width": 0.5
             },
             "pattern": {
              "fillmode": "overlay",
              "size": 10,
              "solidity": 0.2
             }
            },
            "type": "barpolar"
           }
          ],
          "bar": [
           {
            "error_x": {
             "color": "#2a3f5f"
            },
            "error_y": {
             "color": "#2a3f5f"
            },
            "marker": {
             "line": {
              "color": "#E5ECF6",
              "width": 0.5
             },
             "pattern": {
              "fillmode": "overlay",
              "size": 10,
              "solidity": 0.2
             }
            },
            "type": "bar"
           }
          ],
          "carpet": [
           {
            "aaxis": {
             "endlinecolor": "#2a3f5f",
             "gridcolor": "white",
             "linecolor": "white",
             "minorgridcolor": "white",
             "startlinecolor": "#2a3f5f"
            },
            "baxis": {
             "endlinecolor": "#2a3f5f",
             "gridcolor": "white",
             "linecolor": "white",
             "minorgridcolor": "white",
             "startlinecolor": "#2a3f5f"
            },
            "type": "carpet"
           }
          ],
          "choropleth": [
           {
            "colorbar": {
             "outlinewidth": 0,
             "ticks": ""
            },
            "type": "choropleth"
           }
          ],
          "contourcarpet": [
           {
            "colorbar": {
             "outlinewidth": 0,
             "ticks": ""
            },
            "type": "contourcarpet"
           }
          ],
          "contour": [
           {
            "colorbar": {
             "outlinewidth": 0,
             "ticks": ""
            },
            "colorscale": [
             [
              0.0,
              "#0d0887"
             ],
             [
              0.1111111111111111,
              "#46039f"
             ],
             [
              0.2222222222222222,
              "#7201a8"
             ],
             [
              0.3333333333333333,
              "#9c179e"
             ],
             [
              0.4444444444444444,
              "#bd3786"
             ],
             [
              0.5555555555555556,
              "#d8576b"
             ],
             [
              0.6666666666666666,
              "#ed7953"
             ],
             [
              0.7777777777777778,
              "#fb9f3a"
             ],
             [
              0.8888888888888888,
              "#fdca26"
             ],
             [
              1.0,
              "#f0f921"
             ]
            ],
            "type": "contour"
           }
          ],
          "heatmapgl": [
           {
            "colorbar": {
             "outlinewidth": 0,
             "ticks": ""
            },
            "colorscale": [
             [
              0.0,
              "#0d0887"
             ],
             [
              0.1111111111111111,
              "#46039f"
             ],
             [
              0.2222222222222222,
              "#7201a8"
             ],
             [
              0.3333333333333333,
              "#9c179e"
             ],
             [
              0.4444444444444444,
              "#bd3786"
             ],
             [
              0.5555555555555556,
              "#d8576b"
             ],
             [
              0.6666666666666666,
              "#ed7953"
             ],
             [
              0.7777777777777778,
              "#fb9f3a"
             ],
             [
              0.8888888888888888,
              "#fdca26"
             ],
             [
              1.0,
              "#f0f921"
             ]
            ],
            "type": "heatmapgl"
           }
          ],
          "heatmap": [
           {
            "colorbar": {
             "outlinewidth": 0,
             "ticks": ""
            },
            "colorscale": [
             [
              0.0,
              "#0d0887"
             ],
             [
              0.1111111111111111,
              "#46039f"
             ],
             [
              0.2222222222222222,
              "#7201a8"
             ],
             [
              0.3333333333333333,
              "#9c179e"
             ],
             [
              0.4444444444444444,
              "#bd3786"
             ],
             [
              0.5555555555555556,
              "#d8576b"
             ],
             [
              0.6666666666666666,
              "#ed7953"
             ],
             [
              0.7777777777777778,
              "#fb9f3a"
             ],
             [
              0.8888888888888888,
              "#fdca26"
             ],
             [
              1.0,
              "#f0f921"
             ]
            ],
            "type": "heatmap"
           }
          ],
          "histogram2dcontour": [
           {
            "colorbar": {
             "outlinewidth": 0,
             "ticks": ""
            },
            "colorscale": [
             [
              0.0,
              "#0d0887"
             ],
             [
              0.1111111111111111,
              "#46039f"
             ],
             [
              0.2222222222222222,
              "#7201a8"
             ],
             [
              0.3333333333333333,
              "#9c179e"
             ],
             [
              0.4444444444444444,
              "#bd3786"
             ],
             [
              0.5555555555555556,
              "#d8576b"
             ],
             [
              0.6666666666666666,
              "#ed7953"
             ],
             [
              0.7777777777777778,
              "#fb9f3a"
             ],
             [
              0.8888888888888888,
              "#fdca26"
             ],
             [
              1.0,
              "#f0f921"
             ]
            ],
            "type": "histogram2dcontour"
           }
          ],
          "histogram2d": [
           {
            "colorbar": {
             "outlinewidth": 0,
             "ticks": ""
            },
            "colorscale": [
             [
              0.0,
              "#0d0887"
             ],
             [
              0.1111111111111111,
              "#46039f"
             ],
             [
              0.2222222222222222,
              "#7201a8"
             ],
             [
              0.3333333333333333,
              "#9c179e"
             ],
             [
              0.4444444444444444,
              "#bd3786"
             ],
             [
              0.5555555555555556,
              "#d8576b"
             ],
             [
              0.6666666666666666,
              "#ed7953"
             ],
             [
              0.7777777777777778,
              "#fb9f3a"
             ],
             [
              0.8888888888888888,
              "#fdca26"
             ],
             [
              1.0,
              "#f0f921"
             ]
            ],
            "type": "histogram2d"
           }
          ],
          "histogram": [
           {
            "marker": {
             "pattern": {
              "fillmode": "overlay",
              "size": 10,
              "solidity": 0.2
             }
            },
            "type": "histogram"
           }
          ],
          "mesh3d": [
           {
            "colorbar": {
             "outlinewidth": 0,
             "ticks": ""
            },
            "type": "mesh3d"
           }
          ],
          "parcoords": [
           {
            "line": {
             "colorbar": {
              "outlinewidth": 0,
              "ticks": ""
             }
            },
            "type": "parcoords"
           }
          ],
          "pie": [
           {
            "automargin": true,
            "type": "pie"
           }
          ],
          "scatter3d": [
           {
            "line": {
             "colorbar": {
              "outlinewidth": 0,
              "ticks": ""
             }
            },
            "marker": {
             "colorbar": {
              "outlinewidth": 0,
              "ticks": ""
             }
            },
            "type": "scatter3d"
           }
          ],
          "scattercarpet": [
           {
            "marker": {
             "colorbar": {
              "outlinewidth": 0,
              "ticks": ""
             }
            },
            "type": "scattercarpet"
           }
          ],
          "scattergeo": [
           {
            "marker": {
             "colorbar": {
              "outlinewidth": 0,
              "ticks": ""
             }
            },
            "type": "scattergeo"
           }
          ],
          "scattergl": [
           {
            "marker": {
             "colorbar": {
              "outlinewidth": 0,
              "ticks": ""
             }
            },
            "type": "scattergl"
           }
          ],
          "scattermapbox": [
           {
            "marker": {
             "colorbar": {
              "outlinewidth": 0,
              "ticks": ""
             }
            },
            "type": "scattermapbox"
           }
          ],
          "scatterpolargl": [
           {
            "marker": {
             "colorbar": {
              "outlinewidth": 0,
              "ticks": ""
             }
            },
            "type": "scatterpolargl"
           }
          ],
          "scatterpolar": [
           {
            "marker": {
             "colorbar": {
              "outlinewidth": 0,
              "ticks": ""
             }
            },
            "type": "scatterpolar"
           }
          ],
          "scatter": [
           {
            "fillpattern": {
             "fillmode": "overlay",
             "size": 10,
             "solidity": 0.2
            },
            "type": "scatter"
           }
          ],
          "scatterternary": [
           {
            "marker": {
             "colorbar": {
              "outlinewidth": 0,
              "ticks": ""
             }
            },
            "type": "scatterternary"
           }
          ],
          "surface": [
           {
            "colorbar": {
             "outlinewidth": 0,
             "ticks": ""
            },
            "colorscale": [
             [
              0.0,
              "#0d0887"
             ],
             [
              0.1111111111111111,
              "#46039f"
             ],
             [
              0.2222222222222222,
              "#7201a8"
             ],
             [
              0.3333333333333333,
              "#9c179e"
             ],
             [
              0.4444444444444444,
              "#bd3786"
             ],
             [
              0.5555555555555556,
              "#d8576b"
             ],
             [
              0.6666666666666666,
              "#ed7953"
             ],
             [
              0.7777777777777778,
              "#fb9f3a"
             ],
             [
              0.8888888888888888,
              "#fdca26"
             ],
             [
              1.0,
              "#f0f921"
             ]
            ],
            "type": "surface"
           }
          ],
          "table": [
           {
            "cells": {
             "fill": {
              "color": "#EBF0F8"
             },
             "line": {
              "color": "white"
             }
            },
            "header": {
             "fill": {
              "color": "#C8D4E3"
             },
             "line": {
              "color": "white"
             }
            },
            "type": "table"
           }
          ]
         },
         "layout": {
          "annotationdefaults": {
           "arrowcolor": "#2a3f5f",
           "arrowhead": 0,
           "arrowwidth": 1
          },
          "autotypenumbers": "strict",
          "coloraxis": {
           "colorbar": {
            "outlinewidth": 0,
            "ticks": ""
           }
          },
          "colorscale": {
           "diverging": [
            [
             0,
             "#8e0152"
            ],
            [
             0.1,
             "#c51b7d"
            ],
            [
             0.2,
             "#de77ae"
            ],
            [
             0.3,
             "#f1b6da"
            ],
            [
             0.4,
             "#fde0ef"
            ],
            [
             0.5,
             "#f7f7f7"
            ],
            [
             0.6,
             "#e6f5d0"
            ],
            [
             0.7,
             "#b8e186"
            ],
            [
             0.8,
             "#7fbc41"
            ],
            [
             0.9,
             "#4d9221"
            ],
            [
             1,
             "#276419"
            ]
           ],
           "sequential": [
            [
             0.0,
             "#0d0887"
            ],
            [
             0.1111111111111111,
             "#46039f"
            ],
            [
             0.2222222222222222,
             "#7201a8"
            ],
            [
             0.3333333333333333,
             "#9c179e"
            ],
            [
             0.4444444444444444,
             "#bd3786"
            ],
            [
             0.5555555555555556,
             "#d8576b"
            ],
            [
             0.6666666666666666,
             "#ed7953"
            ],
            [
             0.7777777777777778,
             "#fb9f3a"
            ],
            [
             0.8888888888888888,
             "#fdca26"
            ],
            [
             1.0,
             "#f0f921"
            ]
           ],
           "sequentialminus": [
            [
             0.0,
             "#0d0887"
            ],
            [
             0.1111111111111111,
             "#46039f"
            ],
            [
             0.2222222222222222,
             "#7201a8"
            ],
            [
             0.3333333333333333,
             "#9c179e"
            ],
            [
             0.4444444444444444,
             "#bd3786"
            ],
            [
             0.5555555555555556,
             "#d8576b"
            ],
            [
             0.6666666666666666,
             "#ed7953"
            ],
            [
             0.7777777777777778,
             "#fb9f3a"
            ],
            [
             0.8888888888888888,
             "#fdca26"
            ],
            [
             1.0,
             "#f0f921"
            ]
           ]
          },
          "colorway": [
           "#636efa",
           "#EF553B",
           "#00cc96",
           "#ab63fa",
           "#FFA15A",
           "#19d3f3",
           "#FF6692",
           "#B6E880",
           "#FF97FF",
           "#FECB52"
          ],
          "font": {
           "color": "#2a3f5f"
          },
          "geo": {
           "bgcolor": "white",
           "lakecolor": "white",
           "landcolor": "#E5ECF6",
           "showlakes": true,
           "showland": true,
           "subunitcolor": "white"
          },
          "hoverlabel": {
           "align": "left"
          },
          "hovermode": "closest",
          "mapbox": {
           "style": "light"
          },
          "paper_bgcolor": "white",
          "plot_bgcolor": "#E5ECF6",
          "polar": {
           "angularaxis": {
            "gridcolor": "white",
            "linecolor": "white",
            "ticks": ""
           },
           "bgcolor": "#E5ECF6",
           "radialaxis": {
            "gridcolor": "white",
            "linecolor": "white",
            "ticks": ""
           }
          },
          "scene": {
           "xaxis": {
            "backgroundcolor": "#E5ECF6",
            "gridcolor": "white",
            "gridwidth": 2,
            "linecolor": "white",
            "showbackground": true,
            "ticks": "",
            "zerolinecolor": "white"
           },
           "yaxis": {
            "backgroundcolor": "#E5ECF6",
            "gridcolor": "white",
            "gridwidth": 2,
            "linecolor": "white",
            "showbackground": true,
            "ticks": "",
            "zerolinecolor": "white"
           },
           "zaxis": {
            "backgroundcolor": "#E5ECF6",
            "gridcolor": "white",
            "gridwidth": 2,
            "linecolor": "white",
            "showbackground": true,
            "ticks": "",
            "zerolinecolor": "white"
           }
          },
          "shapedefaults": {
           "line": {
            "color": "#2a3f5f"
           }
          },
          "ternary": {
           "aaxis": {
            "gridcolor": "white",
            "linecolor": "white",
            "ticks": ""
           },
           "baxis": {
            "gridcolor": "white",
            "linecolor": "white",
            "ticks": ""
           },
           "bgcolor": "#E5ECF6",
           "caxis": {
            "gridcolor": "white",
            "linecolor": "white",
            "ticks": ""
           }
          },
          "title": {
           "x": 0.05
          },
          "xaxis": {
           "automargin": true,
           "gridcolor": "white",
           "linecolor": "white",
           "ticks": "",
           "title": {
            "standoff": 15
           },
           "zerolinecolor": "white",
           "zerolinewidth": 2
          },
          "yaxis": {
           "automargin": true,
           "gridcolor": "white",
           "linecolor": "white",
           "ticks": "",
           "title": {
            "standoff": 15
           },
           "zerolinecolor": "white",
           "zerolinewidth": 2
          }
         }
        },
        "title": {
         "font": {
          "color": "#4D5663"
         }
        },
        "xaxis": {
         "anchor": "y",
         "domain": [
          0.0,
          0.2125
         ],
         "gridcolor": "#E1E5ED",
         "showgrid": false,
         "tickfont": {
          "color": "#4D5663"
         },
         "title": {
          "font": {
           "color": "#4D5663"
          },
          "text": ""
         },
         "zerolinecolor": "#E1E5ED"
        },
        "yaxis": {
         "anchor": "x",
         "domain": [
          0.8025,
          1.0
         ],
         "gridcolor": "#E1E5ED",
         "showgrid": false,
         "tickfont": {
          "color": "#4D5663"
         },
         "title": {
          "font": {
           "color": "#4D5663"
          },
          "text": ""
         },
         "zerolinecolor": "#E1E5ED"
        },
        "xaxis2": {
         "anchor": "y2",
         "domain": [
          0.2625,
          0.475
         ],
         "gridcolor": "#E1E5ED",
         "showgrid": false,
         "tickfont": {
          "color": "#4D5663"
         },
         "title": {
          "font": {
           "color": "#4D5663"
          },
          "text": ""
         },
         "zerolinecolor": "#E1E5ED"
        },
        "yaxis2": {
         "anchor": "x2",
         "domain": [
          0.8025,
          1.0
         ],
         "gridcolor": "#E1E5ED",
         "showgrid": false,
         "tickfont": {
          "color": "#4D5663"
         },
         "title": {
          "font": {
           "color": "#4D5663"
          },
          "text": ""
         },
         "zerolinecolor": "#E1E5ED"
        },
        "xaxis3": {
         "anchor": "y3",
         "domain": [
          0.525,
          0.7375
         ],
         "gridcolor": "#E1E5ED",
         "showgrid": false,
         "tickfont": {
          "color": "#4D5663"
         },
         "title": {
          "font": {
           "color": "#4D5663"
          },
          "text": ""
         },
         "zerolinecolor": "#E1E5ED"
        },
        "yaxis3": {
         "anchor": "x3",
         "domain": [
          0.8025,
          1.0
         ],
         "gridcolor": "#E1E5ED",
         "showgrid": false,
         "tickfont": {
          "color": "#4D5663"
         },
         "title": {
          "font": {
           "color": "#4D5663"
          },
          "text": ""
         },
         "zerolinecolor": "#E1E5ED"
        },
        "xaxis4": {
         "anchor": "y4",
         "domain": [
          0.7875,
          1.0
         ],
         "gridcolor": "#E1E5ED",
         "showgrid": false,
         "tickfont": {
          "color": "#4D5663"
         },
         "title": {
          "font": {
           "color": "#4D5663"
          },
          "text": ""
         },
         "zerolinecolor": "#E1E5ED"
        },
        "yaxis4": {
         "anchor": "x4",
         "domain": [
          0.8025,
          1.0
         ],
         "gridcolor": "#E1E5ED",
         "showgrid": false,
         "tickfont": {
          "color": "#4D5663"
         },
         "title": {
          "font": {
           "color": "#4D5663"
          },
          "text": ""
         },
         "zerolinecolor": "#E1E5ED"
        },
        "xaxis5": {
         "anchor": "y5",
         "domain": [
          0.0,
          0.2125
         ],
         "gridcolor": "#E1E5ED",
         "showgrid": false,
         "tickfont": {
          "color": "#4D5663"
         },
         "title": {
          "font": {
           "color": "#4D5663"
          },
          "text": ""
         },
         "zerolinecolor": "#E1E5ED"
        },
        "yaxis5": {
         "anchor": "x5",
         "domain": [
          0.535,
          0.7325
         ],
         "gridcolor": "#E1E5ED",
         "showgrid": false,
         "tickfont": {
          "color": "#4D5663"
         },
         "title": {
          "font": {
           "color": "#4D5663"
          },
          "text": ""
         },
         "zerolinecolor": "#E1E5ED"
        },
        "xaxis6": {
         "anchor": "y6",
         "domain": [
          0.2625,
          0.475
         ],
         "gridcolor": "#E1E5ED",
         "showgrid": false,
         "tickfont": {
          "color": "#4D5663"
         },
         "title": {
          "font": {
           "color": "#4D5663"
          },
          "text": ""
         },
         "zerolinecolor": "#E1E5ED"
        },
        "yaxis6": {
         "anchor": "x6",
         "domain": [
          0.535,
          0.7325
         ],
         "gridcolor": "#E1E5ED",
         "showgrid": false,
         "tickfont": {
          "color": "#4D5663"
         },
         "title": {
          "font": {
           "color": "#4D5663"
          },
          "text": ""
         },
         "zerolinecolor": "#E1E5ED"
        },
        "xaxis7": {
         "anchor": "y7",
         "domain": [
          0.525,
          0.7375
         ],
         "gridcolor": "#E1E5ED",
         "showgrid": false,
         "tickfont": {
          "color": "#4D5663"
         },
         "title": {
          "font": {
           "color": "#4D5663"
          },
          "text": ""
         },
         "zerolinecolor": "#E1E5ED"
        },
        "yaxis7": {
         "anchor": "x7",
         "domain": [
          0.535,
          0.7325
         ],
         "gridcolor": "#E1E5ED",
         "showgrid": false,
         "tickfont": {
          "color": "#4D5663"
         },
         "title": {
          "font": {
           "color": "#4D5663"
          },
          "text": ""
         },
         "zerolinecolor": "#E1E5ED"
        },
        "xaxis8": {
         "anchor": "y8",
         "domain": [
          0.7875,
          1.0
         ],
         "gridcolor": "#E1E5ED",
         "showgrid": false,
         "tickfont": {
          "color": "#4D5663"
         },
         "title": {
          "font": {
           "color": "#4D5663"
          },
          "text": ""
         },
         "zerolinecolor": "#E1E5ED"
        },
        "yaxis8": {
         "anchor": "x8",
         "domain": [
          0.535,
          0.7325
         ],
         "gridcolor": "#E1E5ED",
         "showgrid": false,
         "tickfont": {
          "color": "#4D5663"
         },
         "title": {
          "font": {
           "color": "#4D5663"
          },
          "text": ""
         },
         "zerolinecolor": "#E1E5ED"
        },
        "xaxis9": {
         "anchor": "y9",
         "domain": [
          0.0,
          0.2125
         ],
         "gridcolor": "#E1E5ED",
         "showgrid": false,
         "tickfont": {
          "color": "#4D5663"
         },
         "title": {
          "font": {
           "color": "#4D5663"
          },
          "text": ""
         },
         "zerolinecolor": "#E1E5ED"
        },
        "yaxis9": {
         "anchor": "x9",
         "domain": [
          0.2675,
          0.465
         ],
         "gridcolor": "#E1E5ED",
         "showgrid": false,
         "tickfont": {
          "color": "#4D5663"
         },
         "title": {
          "font": {
           "color": "#4D5663"
          },
          "text": ""
         },
         "zerolinecolor": "#E1E5ED"
        },
        "xaxis10": {
         "anchor": "y10",
         "domain": [
          0.2625,
          0.475
         ],
         "gridcolor": "#E1E5ED",
         "showgrid": false,
         "tickfont": {
          "color": "#4D5663"
         },
         "title": {
          "font": {
           "color": "#4D5663"
          },
          "text": ""
         },
         "zerolinecolor": "#E1E5ED"
        },
        "yaxis10": {
         "anchor": "x10",
         "domain": [
          0.2675,
          0.465
         ],
         "gridcolor": "#E1E5ED",
         "showgrid": false,
         "tickfont": {
          "color": "#4D5663"
         },
         "title": {
          "font": {
           "color": "#4D5663"
          },
          "text": ""
         },
         "zerolinecolor": "#E1E5ED"
        },
        "xaxis11": {
         "anchor": "y11",
         "domain": [
          0.525,
          0.7375
         ],
         "gridcolor": "#E1E5ED",
         "showgrid": false,
         "tickfont": {
          "color": "#4D5663"
         },
         "title": {
          "font": {
           "color": "#4D5663"
          },
          "text": ""
         },
         "zerolinecolor": "#E1E5ED"
        },
        "yaxis11": {
         "anchor": "x11",
         "domain": [
          0.2675,
          0.465
         ],
         "gridcolor": "#E1E5ED",
         "showgrid": false,
         "tickfont": {
          "color": "#4D5663"
         },
         "title": {
          "font": {
           "color": "#4D5663"
          },
          "text": ""
         },
         "zerolinecolor": "#E1E5ED"
        },
        "xaxis12": {
         "anchor": "y12",
         "domain": [
          0.7875,
          1.0
         ],
         "gridcolor": "#E1E5ED",
         "showgrid": false,
         "tickfont": {
          "color": "#4D5663"
         },
         "title": {
          "font": {
           "color": "#4D5663"
          },
          "text": ""
         },
         "zerolinecolor": "#E1E5ED"
        },
        "yaxis12": {
         "anchor": "x12",
         "domain": [
          0.2675,
          0.465
         ],
         "gridcolor": "#E1E5ED",
         "showgrid": false,
         "tickfont": {
          "color": "#4D5663"
         },
         "title": {
          "font": {
           "color": "#4D5663"
          },
          "text": ""
         },
         "zerolinecolor": "#E1E5ED"
        },
        "xaxis13": {
         "anchor": "y13",
         "domain": [
          0.0,
          0.2125
         ],
         "gridcolor": "#E1E5ED",
         "showgrid": false,
         "tickfont": {
          "color": "#4D5663"
         },
         "title": {
          "font": {
           "color": "#4D5663"
          },
          "text": ""
         },
         "zerolinecolor": "#E1E5ED"
        },
        "yaxis13": {
         "anchor": "x13",
         "domain": [
          0.0,
          0.1975
         ],
         "gridcolor": "#E1E5ED",
         "showgrid": false,
         "tickfont": {
          "color": "#4D5663"
         },
         "title": {
          "font": {
           "color": "#4D5663"
          },
          "text": ""
         },
         "zerolinecolor": "#E1E5ED"
        },
        "xaxis14": {
         "anchor": "y14",
         "domain": [
          0.2625,
          0.475
         ],
         "gridcolor": "#E1E5ED",
         "showgrid": false,
         "tickfont": {
          "color": "#4D5663"
         },
         "title": {
          "font": {
           "color": "#4D5663"
          },
          "text": ""
         },
         "zerolinecolor": "#E1E5ED"
        },
        "yaxis14": {
         "anchor": "x14",
         "domain": [
          0.0,
          0.1975
         ],
         "gridcolor": "#E1E5ED",
         "showgrid": false,
         "tickfont": {
          "color": "#4D5663"
         },
         "title": {
          "font": {
           "color": "#4D5663"
          },
          "text": ""
         },
         "zerolinecolor": "#E1E5ED"
        },
        "xaxis15": {
         "anchor": "y15",
         "domain": [
          0.525,
          0.7375
         ],
         "gridcolor": "#E1E5ED",
         "showgrid": false,
         "tickfont": {
          "color": "#4D5663"
         },
         "title": {
          "font": {
           "color": "#4D5663"
          },
          "text": ""
         },
         "zerolinecolor": "#E1E5ED"
        },
        "yaxis15": {
         "anchor": "x15",
         "domain": [
          0.0,
          0.1975
         ],
         "gridcolor": "#E1E5ED",
         "showgrid": false,
         "tickfont": {
          "color": "#4D5663"
         },
         "title": {
          "font": {
           "color": "#4D5663"
          },
          "text": ""
         },
         "zerolinecolor": "#E1E5ED"
        },
        "xaxis16": {
         "anchor": "y16",
         "domain": [
          0.7875,
          1.0
         ],
         "gridcolor": "#E1E5ED",
         "showgrid": false,
         "tickfont": {
          "color": "#4D5663"
         },
         "title": {
          "font": {
           "color": "#4D5663"
          },
          "text": ""
         },
         "zerolinecolor": "#E1E5ED"
        },
        "yaxis16": {
         "anchor": "x16",
         "domain": [
          0.0,
          0.1975
         ],
         "gridcolor": "#E1E5ED",
         "showgrid": false,
         "tickfont": {
          "color": "#4D5663"
         },
         "title": {
          "font": {
           "color": "#4D5663"
          },
          "text": ""
         },
         "zerolinecolor": "#E1E5ED"
        }
       },
       "config": {
        "showLink": true,
        "linkText": "Export to plot.ly",
        "plotlyServerURL": "https://plot.ly"
       }
      },
      "text/html": "<div>                            <div id=\"13c01712-4c1e-4ed2-ba90-14f9822c2bd1\" class=\"plotly-graph-div\" style=\"height:525px; width:100%;\"></div>            <script type=\"text/javascript\">                require([\"plotly\"], function(Plotly) {                    window.PLOTLYENV=window.PLOTLYENV || {};\n                    window.PLOTLYENV.BASE_URL='https://plot.ly';                                    if (document.getElementById(\"13c01712-4c1e-4ed2-ba90-14f9822c2bd1\")) {                    Plotly.newPlot(                        \"13c01712-4c1e-4ed2-ba90-14f9822c2bd1\",                        [{\"histfunc\":\"count\",\"histnorm\":\"\",\"marker\":{\"color\":\"rgba(255, 153, 51, 1.0)\",\"line\":{\"color\":\"#4D5663\",\"width\":1.3}},\"name\":\"A\",\"nbinsx\":10,\"opacity\":0.8,\"orientation\":\"v\",\"x\":[1.80900659363173,0.035274995502989924,-1.3725782517059886,0.012016290428291753,1.000469906945173,-0.6195273127982366,-0.5493763932833622,-0.9911107758158834,0.23248967391723316,-0.14506312346767283,0.34184931249590944,0.2715616077472833,0.8393674963432226,-0.10711850809753216,1.8812271802120675,1.0538530621847526,-0.29984010726672844,-1.0005896037131567,0.6236039509447258,2.547660303248421,0.3645808633949736,0.7584190685180403,-1.3718605252785057,1.1236466096015902,-0.6575364883108161,-0.7435742465354352,-0.9510929805192601,-0.7250355706046863,-0.3010833740014651,-0.8365580045456453,0.5375896300969594,0.4250820358790253,-1.4817640383211563,1.0742946624051832,-1.6615502948070402,-0.4539105034533779,0.9627637686417985,1.0917899219961893,0.40651750118727115,0.30539547233503134,0.7154867771216606,0.4988743495347605,0.8934197814724031,-0.7226701733307364,-0.6212640967281962,-0.20366491195303663,0.6293167407460972,0.932849322897483,0.0889989385329877,-0.009742713919367142,0.8547431702291997,-0.06513079400429111,-0.5810102718413085,-0.9663593983135926,0.6305616168977342,1.9913392481918006,-1.9776861325927175,2.0202457074867883,-1.0347658552177048,-0.6695623864365713,1.183237535410795,0.4225713154856195,1.2265275340992094,-1.620088276804922,0.36251610386564465,-0.39921777940713343,0.19623576958325684,-0.28567696303803214,-0.40868573997383634,0.4589878761780295,-0.8307604519242388,0.46409171043276753,-0.7934822881525643,-0.48507069853990153,1.0898652590025368,-1.3743038367541152,0.581212864653542,0.30331914137158783,-1.2179046818674735,-2.103526750442117,0.6834448164214543,-0.15730645803113177,0.9021369402599491,-1.1694166086342517,0.8148051426930465,0.9444288848742953,-0.6589176826651596,0.5351669268927843,0.20689663682579865,0.832979037395156,0.5435340867904964,1.2929265303581408,-1.014503830555063,1.3097655276016194,-0.3053438162070056,-0.828368648201911,1.189594403334678,-0.37242628836792796,0.42166106976218076,-0.7112018906041686],\"xaxis\":\"x\",\"yaxis\":\"y\",\"type\":\"histogram\"},{\"line\":{\"color\":\"rgba(128, 128, 128, 1.0)\",\"dash\":\"solid\",\"shape\":\"linear\",\"width\":1.3},\"marker\":{\"size\":2,\"symbol\":\"circle\"},\"mode\":\"markers\",\"name\":\"A\",\"text\":\"\",\"x\":[0.9062930594144116,-1.4386362389423506,1.1369677802935936,2.3716105706749393,1.148561136980701,1.6384945821750838,-1.0740830064136329,-0.43741065236894316,0.5358574650869486,-0.2698795505516891,2.0197447105345563,0.4338245435899058,-0.6403534451698525,-1.895132322156619,0.047493285900842584,-0.21672463780566728,0.5117649446224504,0.7263239901604835,-1.4270079547470809,1.1684892701521439,-0.07635059518062,1.015995199829917,1.7008504923460286,-0.6630221858617115,-0.12131160545398256,2.201409865619109,1.5871548335880958,-1.4170235508141886,0.4156143179575276,-1.011196408980938,0.19523384068338345,-0.505399740247492,0.5600637862451191,-1.626626394671511,-2.242945396816825,-0.3172556011350909,0.15744150179076394,-0.6441237430038943,-1.154805552889705,1.0045417479266496,1.497029918691306,-1.374787336108716,0.09899565870554397,0.6142923431050662,-0.7587059584886806,1.4865210628371175,0.7245101896757082,2.212384737378364,1.1415859663818204,-0.48716608639593195,-1.492873229229848,-1.5580771150038115,0.7487385861972751,-0.4069196752359965,-1.0686371070370626,1.8751590252659465,-0.9859316483422285,-0.40126887692683005,1.3394051974576617,0.3400675786361936,1.6939200545861288,-1.2304126744784363,-0.009358785317534316,1.32881769350092,0.6380471903856916,-1.127888255950146,0.1362958685262489,0.9844415462026761,-2.3449585435451508,-1.1988283052407933,0.5902775129859864,-0.2816083952687804,2.170089395418066,-0.7535625814479999,0.1256440369012715,1.0710620740031642,-0.15147133419631562,0.708410299017189,0.5601583538557442,-1.0401882243373572,1.7056167441988201,0.6850843008365208,0.2524170417029744,0.4239316576340395,0.30856412170761116,-0.8120128362314452,-1.0248295324212153,0.9691832786744989,-0.7809378279230037,0.5199528377506104,-0.5823558298607444,0.02242888516997846,-1.8483439458823425,0.1683359982946268,0.44883480148149857,0.27644036079912226,0.5001592299352902,1.707276028881522,-0.3499034827519047,-0.1658350539232574],\"xaxis\":\"x2\",\"y\":[1.80900659363173,0.035274995502989924,-1.3725782517059886,0.012016290428291753,1.000469906945173,-0.6195273127982366,-0.5493763932833622,-0.9911107758158834,0.23248967391723316,-0.14506312346767283,0.34184931249590944,0.2715616077472833,0.8393674963432226,-0.10711850809753216,1.8812271802120675,1.0538530621847526,-0.29984010726672844,-1.0005896037131567,0.6236039509447258,2.547660303248421,0.3645808633949736,0.7584190685180403,-1.3718605252785057,1.1236466096015902,-0.6575364883108161,-0.7435742465354352,-0.9510929805192601,-0.7250355706046863,-0.3010833740014651,-0.8365580045456453,0.5375896300969594,0.4250820358790253,-1.4817640383211563,1.0742946624051832,-1.6615502948070402,-0.4539105034533779,0.9627637686417985,1.0917899219961893,0.40651750118727115,0.30539547233503134,0.7154867771216606,0.4988743495347605,0.8934197814724031,-0.7226701733307364,-0.6212640967281962,-0.20366491195303663,0.6293167407460972,0.932849322897483,0.0889989385329877,-0.009742713919367142,0.8547431702291997,-0.06513079400429111,-0.5810102718413085,-0.9663593983135926,0.6305616168977342,1.9913392481918006,-1.9776861325927175,2.0202457074867883,-1.0347658552177048,-0.6695623864365713,1.183237535410795,0.4225713154856195,1.2265275340992094,-1.620088276804922,0.36251610386564465,-0.39921777940713343,0.19623576958325684,-0.28567696303803214,-0.40868573997383634,0.4589878761780295,-0.8307604519242388,0.46409171043276753,-0.7934822881525643,-0.48507069853990153,1.0898652590025368,-1.3743038367541152,0.581212864653542,0.30331914137158783,-1.2179046818674735,-2.103526750442117,0.6834448164214543,-0.15730645803113177,0.9021369402599491,-1.1694166086342517,0.8148051426930465,0.9444288848742953,-0.6589176826651596,0.5351669268927843,0.20689663682579865,0.832979037395156,0.5435340867904964,1.2929265303581408,-1.014503830555063,1.3097655276016194,-0.3053438162070056,-0.828368648201911,1.189594403334678,-0.37242628836792796,0.42166106976218076,-0.7112018906041686],\"yaxis\":\"y2\",\"type\":\"scatter\"},{\"line\":{\"color\":\"rgba(128, 128, 128, 1.0)\",\"dash\":\"solid\",\"shape\":\"linear\",\"width\":1.3},\"marker\":{\"size\":2,\"symbol\":\"circle\"},\"mode\":\"markers\",\"name\":\"A\",\"text\":\"\",\"x\":[0.7692336532458728,0.5333344342194399,-0.8424260604443445,0.3203662543997597,0.08458846535047407,0.45708539683904553,-0.8498855129462245,1.4745690013341044,2.6909016970258177,0.5668709264460764,-0.05897494253507211,-1.836392380931625,1.499808814285216,1.4259194751034947,-0.08578597513422263,0.5560973770990663,-0.7584165794397412,-1.6105588097346335,-0.9074161291122519,0.3796037005268845,0.3311762861032556,-1.3602628819660034,-0.9799612820273028,-1.6539675770208235,-0.13518856728836234,-2.0519815390489096,0.7076017949132091,0.5777492285351216,0.8814525993925905,0.23198923387472098,0.5739648399528666,-0.9187331726443511,0.2378113368211414,0.18452376474838614,0.9618846352603138,0.04674987985743832,-0.19242409419798356,0.37406378090710063,-0.22470081855415733,-0.4221861958292879,0.6377575043253557,0.37186014681579505,0.9885200426741549,0.5846281676474738,-0.8857207063528001,0.951745296972654,1.433580628428485,2.2051673520189827,-1.7345907838590167,0.24276875299650547,-0.8525885975006535,-0.8533236132402129,-1.941001109878793,-0.061780947174691896,-1.1697568526208222,1.126896428706196,-0.3179738015899636,-0.9912010770982428,-1.0511344497209492,1.827771784627446,-0.326139141984017,-0.521984694424672,-1.1909121583420728,0.9304877086589227,-1.4926195618704994,-0.04856994266672939,-0.5332888237553048,-0.6888200985211754,0.004881621023809477,0.2969949279946919,0.15584434040490944,-0.30955808996868645,0.47386778091716025,0.583986268346228,1.019454808285895,-0.6878330822641515,0.5175531626481035,-0.7815075116688344,0.49634237721186597,-1.4827609600037182,-0.016543171729132132,-0.8007147586706331,0.04434472691612747,0.04412174249588713,-2.21327013820518,0.037192344719893536,-0.9390081221051154,-0.7828138328182563,-0.3415125355976032,0.23650650730818906,0.30889760418237094,1.5513678854253037,-1.7509145536551753,-0.169155621033073,0.809684981401493,1.0319304185412423,0.9980808541912738,1.0774436660316213,0.8738553331372387,0.2167626281308094],\"xaxis\":\"x3\",\"y\":[1.80900659363173,0.035274995502989924,-1.3725782517059886,0.012016290428291753,1.000469906945173,-0.6195273127982366,-0.5493763932833622,-0.9911107758158834,0.23248967391723316,-0.14506312346767283,0.34184931249590944,0.2715616077472833,0.8393674963432226,-0.10711850809753216,1.8812271802120675,1.0538530621847526,-0.29984010726672844,-1.0005896037131567,0.6236039509447258,2.547660303248421,0.3645808633949736,0.7584190685180403,-1.3718605252785057,1.1236466096015902,-0.6575364883108161,-0.7435742465354352,-0.9510929805192601,-0.7250355706046863,-0.3010833740014651,-0.8365580045456453,0.5375896300969594,0.4250820358790253,-1.4817640383211563,1.0742946624051832,-1.6615502948070402,-0.4539105034533779,0.9627637686417985,1.0917899219961893,0.40651750118727115,0.30539547233503134,0.7154867771216606,0.4988743495347605,0.8934197814724031,-0.7226701733307364,-0.6212640967281962,-0.20366491195303663,0.6293167407460972,0.932849322897483,0.0889989385329877,-0.009742713919367142,0.8547431702291997,-0.06513079400429111,-0.5810102718413085,-0.9663593983135926,0.6305616168977342,1.9913392481918006,-1.9776861325927175,2.0202457074867883,-1.0347658552177048,-0.6695623864365713,1.183237535410795,0.4225713154856195,1.2265275340992094,-1.620088276804922,0.36251610386564465,-0.39921777940713343,0.19623576958325684,-0.28567696303803214,-0.40868573997383634,0.4589878761780295,-0.8307604519242388,0.46409171043276753,-0.7934822881525643,-0.48507069853990153,1.0898652590025368,-1.3743038367541152,0.581212864653542,0.30331914137158783,-1.2179046818674735,-2.103526750442117,0.6834448164214543,-0.15730645803113177,0.9021369402599491,-1.1694166086342517,0.8148051426930465,0.9444288848742953,-0.6589176826651596,0.5351669268927843,0.20689663682579865,0.832979037395156,0.5435340867904964,1.2929265303581408,-1.014503830555063,1.3097655276016194,-0.3053438162070056,-0.828368648201911,1.189594403334678,-0.37242628836792796,0.42166106976218076,-0.7112018906041686],\"yaxis\":\"y3\",\"type\":\"scatter\"},{\"line\":{\"color\":\"rgba(128, 128, 128, 1.0)\",\"dash\":\"solid\",\"shape\":\"linear\",\"width\":1.3},\"marker\":{\"size\":2,\"symbol\":\"circle\"},\"mode\":\"markers\",\"name\":\"A\",\"text\":\"\",\"x\":[0.3675217620137849,2.7427008466781437,0.6255220737570883,-0.6770631133142064,0.8611524003693977,0.7325189915909454,-0.4912724703434503,-0.08990027233534309,0.7249810254170888,-0.44406845694832436,-0.11519998235144457,0.057807570007680414,1.4468154496869319,-1.3063691460575648,-1.0976511461538079,-0.144521111054121,0.9851894657897402,-0.3669124238805727,0.3900440966830113,-0.46883403147472796,0.5607883602873852,0.1959664854253068,-1.4388522302244997,0.9792903647735527,1.1534094018283618,0.4615133516294498,2.1918183430754277,0.5250412928758622,0.5001386622284841,0.2551536355520732,-0.005412224012686471,2.9221341098244342,-0.4649633760002535,0.604687207147699,0.9866743322343967,0.3713940127701445,-2.5879431288336234,-1.2628569935111595,0.8034675576116896,-0.7931092449981392,0.7424776291875992,0.13392997568809864,-1.3518633088238048,0.8622365479976225,-0.2407342066956001,-0.9783801026300155,0.7209797859368154,-0.38282624621694294,1.5716146462366636,-1.1665957113627479,0.6187301632857698,-2.186120621478108,-0.2426136169446369,0.44237996405091246,0.31750637266024034,-1.9937679194820443,-1.2624546771878686,-0.44884460876428806,0.6306675068396437,1.7501367095384082,0.48863891048392044,2.602313512763461,1.002570057651446,1.467085093335372,0.9369319026249344,1.7703646291362558,-1.1796240772203925,0.12617597344252518,-0.25609278999498675,-0.1115932258436591,0.12511197337113492,-0.1990422032617427,-0.5663920105336755,-1.5735449206488776,-0.43762023976950404,-1.0756184575691374,1.7639056749230035,0.19731050169828362,-0.11699890130357059,0.2773473721477822,0.7413590505157498,2.0416402836649428,0.576779671318424,-0.30937664994093284,1.0785633811816857,-0.2743774523138238,0.8892491714545185,0.5640933722954883,0.983842824464235,1.1610759271421396,-0.4509459056346206,-0.7272001536229342,-0.3257182965001095,0.1958487766367504,-2.372334453426788,0.2086402255634171,-0.7278070326688642,-1.3179084583713245,-1.2594262664854154,-0.9035664023169915],\"xaxis\":\"x4\",\"y\":[1.80900659363173,0.035274995502989924,-1.3725782517059886,0.012016290428291753,1.000469906945173,-0.6195273127982366,-0.5493763932833622,-0.9911107758158834,0.23248967391723316,-0.14506312346767283,0.34184931249590944,0.2715616077472833,0.8393674963432226,-0.10711850809753216,1.8812271802120675,1.0538530621847526,-0.29984010726672844,-1.0005896037131567,0.6236039509447258,2.547660303248421,0.3645808633949736,0.7584190685180403,-1.3718605252785057,1.1236466096015902,-0.6575364883108161,-0.7435742465354352,-0.9510929805192601,-0.7250355706046863,-0.3010833740014651,-0.8365580045456453,0.5375896300969594,0.4250820358790253,-1.4817640383211563,1.0742946624051832,-1.6615502948070402,-0.4539105034533779,0.9627637686417985,1.0917899219961893,0.40651750118727115,0.30539547233503134,0.7154867771216606,0.4988743495347605,0.8934197814724031,-0.7226701733307364,-0.6212640967281962,-0.20366491195303663,0.6293167407460972,0.932849322897483,0.0889989385329877,-0.009742713919367142,0.8547431702291997,-0.06513079400429111,-0.5810102718413085,-0.9663593983135926,0.6305616168977342,1.9913392481918006,-1.9776861325927175,2.0202457074867883,-1.0347658552177048,-0.6695623864365713,1.183237535410795,0.4225713154856195,1.2265275340992094,-1.620088276804922,0.36251610386564465,-0.39921777940713343,0.19623576958325684,-0.28567696303803214,-0.40868573997383634,0.4589878761780295,-0.8307604519242388,0.46409171043276753,-0.7934822881525643,-0.48507069853990153,1.0898652590025368,-1.3743038367541152,0.581212864653542,0.30331914137158783,-1.2179046818674735,-2.103526750442117,0.6834448164214543,-0.15730645803113177,0.9021369402599491,-1.1694166086342517,0.8148051426930465,0.9444288848742953,-0.6589176826651596,0.5351669268927843,0.20689663682579865,0.832979037395156,0.5435340867904964,1.2929265303581408,-1.014503830555063,1.3097655276016194,-0.3053438162070056,-0.828368648201911,1.189594403334678,-0.37242628836792796,0.42166106976218076,-0.7112018906041686],\"yaxis\":\"y4\",\"type\":\"scatter\"},{\"line\":{\"color\":\"rgba(128, 128, 128, 1.0)\",\"dash\":\"solid\",\"shape\":\"linear\",\"width\":1.3},\"marker\":{\"size\":2,\"symbol\":\"circle\"},\"mode\":\"markers\",\"name\":\"B\",\"text\":\"\",\"x\":[1.80900659363173,0.035274995502989924,-1.3725782517059886,0.012016290428291753,1.000469906945173,-0.6195273127982366,-0.5493763932833622,-0.9911107758158834,0.23248967391723316,-0.14506312346767283,0.34184931249590944,0.2715616077472833,0.8393674963432226,-0.10711850809753216,1.8812271802120675,1.0538530621847526,-0.29984010726672844,-1.0005896037131567,0.6236039509447258,2.547660303248421,0.3645808633949736,0.7584190685180403,-1.3718605252785057,1.1236466096015902,-0.6575364883108161,-0.7435742465354352,-0.9510929805192601,-0.7250355706046863,-0.3010833740014651,-0.8365580045456453,0.5375896300969594,0.4250820358790253,-1.4817640383211563,1.0742946624051832,-1.6615502948070402,-0.4539105034533779,0.9627637686417985,1.0917899219961893,0.40651750118727115,0.30539547233503134,0.7154867771216606,0.4988743495347605,0.8934197814724031,-0.7226701733307364,-0.6212640967281962,-0.20366491195303663,0.6293167407460972,0.932849322897483,0.0889989385329877,-0.009742713919367142,0.8547431702291997,-0.06513079400429111,-0.5810102718413085,-0.9663593983135926,0.6305616168977342,1.9913392481918006,-1.9776861325927175,2.0202457074867883,-1.0347658552177048,-0.6695623864365713,1.183237535410795,0.4225713154856195,1.2265275340992094,-1.620088276804922,0.36251610386564465,-0.39921777940713343,0.19623576958325684,-0.28567696303803214,-0.40868573997383634,0.4589878761780295,-0.8307604519242388,0.46409171043276753,-0.7934822881525643,-0.48507069853990153,1.0898652590025368,-1.3743038367541152,0.581212864653542,0.30331914137158783,-1.2179046818674735,-2.103526750442117,0.6834448164214543,-0.15730645803113177,0.9021369402599491,-1.1694166086342517,0.8148051426930465,0.9444288848742953,-0.6589176826651596,0.5351669268927843,0.20689663682579865,0.832979037395156,0.5435340867904964,1.2929265303581408,-1.014503830555063,1.3097655276016194,-0.3053438162070056,-0.828368648201911,1.189594403334678,-0.37242628836792796,0.42166106976218076,-0.7112018906041686],\"xaxis\":\"x5\",\"y\":[0.9062930594144116,-1.4386362389423506,1.1369677802935936,2.3716105706749393,1.148561136980701,1.6384945821750838,-1.0740830064136329,-0.43741065236894316,0.5358574650869486,-0.2698795505516891,2.0197447105345563,0.4338245435899058,-0.6403534451698525,-1.895132322156619,0.047493285900842584,-0.21672463780566728,0.5117649446224504,0.7263239901604835,-1.4270079547470809,1.1684892701521439,-0.07635059518062,1.015995199829917,1.7008504923460286,-0.6630221858617115,-0.12131160545398256,2.201409865619109,1.5871548335880958,-1.4170235508141886,0.4156143179575276,-1.011196408980938,0.19523384068338345,-0.505399740247492,0.5600637862451191,-1.626626394671511,-2.242945396816825,-0.3172556011350909,0.15744150179076394,-0.6441237430038943,-1.154805552889705,1.0045417479266496,1.497029918691306,-1.374787336108716,0.09899565870554397,0.6142923431050662,-0.7587059584886806,1.4865210628371175,0.7245101896757082,2.212384737378364,1.1415859663818204,-0.48716608639593195,-1.492873229229848,-1.5580771150038115,0.7487385861972751,-0.4069196752359965,-1.0686371070370626,1.8751590252659465,-0.9859316483422285,-0.40126887692683005,1.3394051974576617,0.3400675786361936,1.6939200545861288,-1.2304126744784363,-0.009358785317534316,1.32881769350092,0.6380471903856916,-1.127888255950146,0.1362958685262489,0.9844415462026761,-2.3449585435451508,-1.1988283052407933,0.5902775129859864,-0.2816083952687804,2.170089395418066,-0.7535625814479999,0.1256440369012715,1.0710620740031642,-0.15147133419631562,0.708410299017189,0.5601583538557442,-1.0401882243373572,1.7056167441988201,0.6850843008365208,0.2524170417029744,0.4239316576340395,0.30856412170761116,-0.8120128362314452,-1.0248295324212153,0.9691832786744989,-0.7809378279230037,0.5199528377506104,-0.5823558298607444,0.02242888516997846,-1.8483439458823425,0.1683359982946268,0.44883480148149857,0.27644036079912226,0.5001592299352902,1.707276028881522,-0.3499034827519047,-0.1658350539232574],\"yaxis\":\"y5\",\"type\":\"scatter\"},{\"histfunc\":\"count\",\"histnorm\":\"\",\"marker\":{\"color\":\"rgba(55, 128, 191, 1.0)\",\"line\":{\"color\":\"#4D5663\",\"width\":1.3}},\"name\":\"B\",\"nbinsx\":10,\"opacity\":0.8,\"orientation\":\"v\",\"x\":[0.9062930594144116,-1.4386362389423506,1.1369677802935936,2.3716105706749393,1.148561136980701,1.6384945821750838,-1.0740830064136329,-0.43741065236894316,0.5358574650869486,-0.2698795505516891,2.0197447105345563,0.4338245435899058,-0.6403534451698525,-1.895132322156619,0.047493285900842584,-0.21672463780566728,0.5117649446224504,0.7263239901604835,-1.4270079547470809,1.1684892701521439,-0.07635059518062,1.015995199829917,1.7008504923460286,-0.6630221858617115,-0.12131160545398256,2.201409865619109,1.5871548335880958,-1.4170235508141886,0.4156143179575276,-1.011196408980938,0.19523384068338345,-0.505399740247492,0.5600637862451191,-1.626626394671511,-2.242945396816825,-0.3172556011350909,0.15744150179076394,-0.6441237430038943,-1.154805552889705,1.0045417479266496,1.497029918691306,-1.374787336108716,0.09899565870554397,0.6142923431050662,-0.7587059584886806,1.4865210628371175,0.7245101896757082,2.212384737378364,1.1415859663818204,-0.48716608639593195,-1.492873229229848,-1.5580771150038115,0.7487385861972751,-0.4069196752359965,-1.0686371070370626,1.8751590252659465,-0.9859316483422285,-0.40126887692683005,1.3394051974576617,0.3400675786361936,1.6939200545861288,-1.2304126744784363,-0.009358785317534316,1.32881769350092,0.6380471903856916,-1.127888255950146,0.1362958685262489,0.9844415462026761,-2.3449585435451508,-1.1988283052407933,0.5902775129859864,-0.2816083952687804,2.170089395418066,-0.7535625814479999,0.1256440369012715,1.0710620740031642,-0.15147133419631562,0.708410299017189,0.5601583538557442,-1.0401882243373572,1.7056167441988201,0.6850843008365208,0.2524170417029744,0.4239316576340395,0.30856412170761116,-0.8120128362314452,-1.0248295324212153,0.9691832786744989,-0.7809378279230037,0.5199528377506104,-0.5823558298607444,0.02242888516997846,-1.8483439458823425,0.1683359982946268,0.44883480148149857,0.27644036079912226,0.5001592299352902,1.707276028881522,-0.3499034827519047,-0.1658350539232574],\"xaxis\":\"x6\",\"yaxis\":\"y6\",\"type\":\"histogram\"},{\"line\":{\"color\":\"rgba(128, 128, 128, 1.0)\",\"dash\":\"solid\",\"shape\":\"linear\",\"width\":1.3},\"marker\":{\"size\":2,\"symbol\":\"circle\"},\"mode\":\"markers\",\"name\":\"B\",\"text\":\"\",\"x\":[0.7692336532458728,0.5333344342194399,-0.8424260604443445,0.3203662543997597,0.08458846535047407,0.45708539683904553,-0.8498855129462245,1.4745690013341044,2.6909016970258177,0.5668709264460764,-0.05897494253507211,-1.836392380931625,1.499808814285216,1.4259194751034947,-0.08578597513422263,0.5560973770990663,-0.7584165794397412,-1.6105588097346335,-0.9074161291122519,0.3796037005268845,0.3311762861032556,-1.3602628819660034,-0.9799612820273028,-1.6539675770208235,-0.13518856728836234,-2.0519815390489096,0.7076017949132091,0.5777492285351216,0.8814525993925905,0.23198923387472098,0.5739648399528666,-0.9187331726443511,0.2378113368211414,0.18452376474838614,0.9618846352603138,0.04674987985743832,-0.19242409419798356,0.37406378090710063,-0.22470081855415733,-0.4221861958292879,0.6377575043253557,0.37186014681579505,0.9885200426741549,0.5846281676474738,-0.8857207063528001,0.951745296972654,1.433580628428485,2.2051673520189827,-1.7345907838590167,0.24276875299650547,-0.8525885975006535,-0.8533236132402129,-1.941001109878793,-0.061780947174691896,-1.1697568526208222,1.126896428706196,-0.3179738015899636,-0.9912010770982428,-1.0511344497209492,1.827771784627446,-0.326139141984017,-0.521984694424672,-1.1909121583420728,0.9304877086589227,-1.4926195618704994,-0.04856994266672939,-0.5332888237553048,-0.6888200985211754,0.004881621023809477,0.2969949279946919,0.15584434040490944,-0.30955808996868645,0.47386778091716025,0.583986268346228,1.019454808285895,-0.6878330822641515,0.5175531626481035,-0.7815075116688344,0.49634237721186597,-1.4827609600037182,-0.016543171729132132,-0.8007147586706331,0.04434472691612747,0.04412174249588713,-2.21327013820518,0.037192344719893536,-0.9390081221051154,-0.7828138328182563,-0.3415125355976032,0.23650650730818906,0.30889760418237094,1.5513678854253037,-1.7509145536551753,-0.169155621033073,0.809684981401493,1.0319304185412423,0.9980808541912738,1.0774436660316213,0.8738553331372387,0.2167626281308094],\"xaxis\":\"x7\",\"y\":[0.9062930594144116,-1.4386362389423506,1.1369677802935936,2.3716105706749393,1.148561136980701,1.6384945821750838,-1.0740830064136329,-0.43741065236894316,0.5358574650869486,-0.2698795505516891,2.0197447105345563,0.4338245435899058,-0.6403534451698525,-1.895132322156619,0.047493285900842584,-0.21672463780566728,0.5117649446224504,0.7263239901604835,-1.4270079547470809,1.1684892701521439,-0.07635059518062,1.015995199829917,1.7008504923460286,-0.6630221858617115,-0.12131160545398256,2.201409865619109,1.5871548335880958,-1.4170235508141886,0.4156143179575276,-1.011196408980938,0.19523384068338345,-0.505399740247492,0.5600637862451191,-1.626626394671511,-2.242945396816825,-0.3172556011350909,0.15744150179076394,-0.6441237430038943,-1.154805552889705,1.0045417479266496,1.497029918691306,-1.374787336108716,0.09899565870554397,0.6142923431050662,-0.7587059584886806,1.4865210628371175,0.7245101896757082,2.212384737378364,1.1415859663818204,-0.48716608639593195,-1.492873229229848,-1.5580771150038115,0.7487385861972751,-0.4069196752359965,-1.0686371070370626,1.8751590252659465,-0.9859316483422285,-0.40126887692683005,1.3394051974576617,0.3400675786361936,1.6939200545861288,-1.2304126744784363,-0.009358785317534316,1.32881769350092,0.6380471903856916,-1.127888255950146,0.1362958685262489,0.9844415462026761,-2.3449585435451508,-1.1988283052407933,0.5902775129859864,-0.2816083952687804,2.170089395418066,-0.7535625814479999,0.1256440369012715,1.0710620740031642,-0.15147133419631562,0.708410299017189,0.5601583538557442,-1.0401882243373572,1.7056167441988201,0.6850843008365208,0.2524170417029744,0.4239316576340395,0.30856412170761116,-0.8120128362314452,-1.0248295324212153,0.9691832786744989,-0.7809378279230037,0.5199528377506104,-0.5823558298607444,0.02242888516997846,-1.8483439458823425,0.1683359982946268,0.44883480148149857,0.27644036079912226,0.5001592299352902,1.707276028881522,-0.3499034827519047,-0.1658350539232574],\"yaxis\":\"y7\",\"type\":\"scatter\"},{\"line\":{\"color\":\"rgba(128, 128, 128, 1.0)\",\"dash\":\"solid\",\"shape\":\"linear\",\"width\":1.3},\"marker\":{\"size\":2,\"symbol\":\"circle\"},\"mode\":\"markers\",\"name\":\"B\",\"text\":\"\",\"x\":[0.3675217620137849,2.7427008466781437,0.6255220737570883,-0.6770631133142064,0.8611524003693977,0.7325189915909454,-0.4912724703434503,-0.08990027233534309,0.7249810254170888,-0.44406845694832436,-0.11519998235144457,0.057807570007680414,1.4468154496869319,-1.3063691460575648,-1.0976511461538079,-0.144521111054121,0.9851894657897402,-0.3669124238805727,0.3900440966830113,-0.46883403147472796,0.5607883602873852,0.1959664854253068,-1.4388522302244997,0.9792903647735527,1.1534094018283618,0.4615133516294498,2.1918183430754277,0.5250412928758622,0.5001386622284841,0.2551536355520732,-0.005412224012686471,2.9221341098244342,-0.4649633760002535,0.604687207147699,0.9866743322343967,0.3713940127701445,-2.5879431288336234,-1.2628569935111595,0.8034675576116896,-0.7931092449981392,0.7424776291875992,0.13392997568809864,-1.3518633088238048,0.8622365479976225,-0.2407342066956001,-0.9783801026300155,0.7209797859368154,-0.38282624621694294,1.5716146462366636,-1.1665957113627479,0.6187301632857698,-2.186120621478108,-0.2426136169446369,0.44237996405091246,0.31750637266024034,-1.9937679194820443,-1.2624546771878686,-0.44884460876428806,0.6306675068396437,1.7501367095384082,0.48863891048392044,2.602313512763461,1.002570057651446,1.467085093335372,0.9369319026249344,1.7703646291362558,-1.1796240772203925,0.12617597344252518,-0.25609278999498675,-0.1115932258436591,0.12511197337113492,-0.1990422032617427,-0.5663920105336755,-1.5735449206488776,-0.43762023976950404,-1.0756184575691374,1.7639056749230035,0.19731050169828362,-0.11699890130357059,0.2773473721477822,0.7413590505157498,2.0416402836649428,0.576779671318424,-0.30937664994093284,1.0785633811816857,-0.2743774523138238,0.8892491714545185,0.5640933722954883,0.983842824464235,1.1610759271421396,-0.4509459056346206,-0.7272001536229342,-0.3257182965001095,0.1958487766367504,-2.372334453426788,0.2086402255634171,-0.7278070326688642,-1.3179084583713245,-1.2594262664854154,-0.9035664023169915],\"xaxis\":\"x8\",\"y\":[0.9062930594144116,-1.4386362389423506,1.1369677802935936,2.3716105706749393,1.148561136980701,1.6384945821750838,-1.0740830064136329,-0.43741065236894316,0.5358574650869486,-0.2698795505516891,2.0197447105345563,0.4338245435899058,-0.6403534451698525,-1.895132322156619,0.047493285900842584,-0.21672463780566728,0.5117649446224504,0.7263239901604835,-1.4270079547470809,1.1684892701521439,-0.07635059518062,1.015995199829917,1.7008504923460286,-0.6630221858617115,-0.12131160545398256,2.201409865619109,1.5871548335880958,-1.4170235508141886,0.4156143179575276,-1.011196408980938,0.19523384068338345,-0.505399740247492,0.5600637862451191,-1.626626394671511,-2.242945396816825,-0.3172556011350909,0.15744150179076394,-0.6441237430038943,-1.154805552889705,1.0045417479266496,1.497029918691306,-1.374787336108716,0.09899565870554397,0.6142923431050662,-0.7587059584886806,1.4865210628371175,0.7245101896757082,2.212384737378364,1.1415859663818204,-0.48716608639593195,-1.492873229229848,-1.5580771150038115,0.7487385861972751,-0.4069196752359965,-1.0686371070370626,1.8751590252659465,-0.9859316483422285,-0.40126887692683005,1.3394051974576617,0.3400675786361936,1.6939200545861288,-1.2304126744784363,-0.009358785317534316,1.32881769350092,0.6380471903856916,-1.127888255950146,0.1362958685262489,0.9844415462026761,-2.3449585435451508,-1.1988283052407933,0.5902775129859864,-0.2816083952687804,2.170089395418066,-0.7535625814479999,0.1256440369012715,1.0710620740031642,-0.15147133419631562,0.708410299017189,0.5601583538557442,-1.0401882243373572,1.7056167441988201,0.6850843008365208,0.2524170417029744,0.4239316576340395,0.30856412170761116,-0.8120128362314452,-1.0248295324212153,0.9691832786744989,-0.7809378279230037,0.5199528377506104,-0.5823558298607444,0.02242888516997846,-1.8483439458823425,0.1683359982946268,0.44883480148149857,0.27644036079912226,0.5001592299352902,1.707276028881522,-0.3499034827519047,-0.1658350539232574],\"yaxis\":\"y8\",\"type\":\"scatter\"},{\"line\":{\"color\":\"rgba(128, 128, 128, 1.0)\",\"dash\":\"solid\",\"shape\":\"linear\",\"width\":1.3},\"marker\":{\"size\":2,\"symbol\":\"circle\"},\"mode\":\"markers\",\"name\":\"C\",\"text\":\"\",\"x\":[1.80900659363173,0.035274995502989924,-1.3725782517059886,0.012016290428291753,1.000469906945173,-0.6195273127982366,-0.5493763932833622,-0.9911107758158834,0.23248967391723316,-0.14506312346767283,0.34184931249590944,0.2715616077472833,0.8393674963432226,-0.10711850809753216,1.8812271802120675,1.0538530621847526,-0.29984010726672844,-1.0005896037131567,0.6236039509447258,2.547660303248421,0.3645808633949736,0.7584190685180403,-1.3718605252785057,1.1236466096015902,-0.6575364883108161,-0.7435742465354352,-0.9510929805192601,-0.7250355706046863,-0.3010833740014651,-0.8365580045456453,0.5375896300969594,0.4250820358790253,-1.4817640383211563,1.0742946624051832,-1.6615502948070402,-0.4539105034533779,0.9627637686417985,1.0917899219961893,0.40651750118727115,0.30539547233503134,0.7154867771216606,0.4988743495347605,0.8934197814724031,-0.7226701733307364,-0.6212640967281962,-0.20366491195303663,0.6293167407460972,0.932849322897483,0.0889989385329877,-0.009742713919367142,0.8547431702291997,-0.06513079400429111,-0.5810102718413085,-0.9663593983135926,0.6305616168977342,1.9913392481918006,-1.9776861325927175,2.0202457074867883,-1.0347658552177048,-0.6695623864365713,1.183237535410795,0.4225713154856195,1.2265275340992094,-1.620088276804922,0.36251610386564465,-0.39921777940713343,0.19623576958325684,-0.28567696303803214,-0.40868573997383634,0.4589878761780295,-0.8307604519242388,0.46409171043276753,-0.7934822881525643,-0.48507069853990153,1.0898652590025368,-1.3743038367541152,0.581212864653542,0.30331914137158783,-1.2179046818674735,-2.103526750442117,0.6834448164214543,-0.15730645803113177,0.9021369402599491,-1.1694166086342517,0.8148051426930465,0.9444288848742953,-0.6589176826651596,0.5351669268927843,0.20689663682579865,0.832979037395156,0.5435340867904964,1.2929265303581408,-1.014503830555063,1.3097655276016194,-0.3053438162070056,-0.828368648201911,1.189594403334678,-0.37242628836792796,0.42166106976218076,-0.7112018906041686],\"xaxis\":\"x9\",\"y\":[0.7692336532458728,0.5333344342194399,-0.8424260604443445,0.3203662543997597,0.08458846535047407,0.45708539683904553,-0.8498855129462245,1.4745690013341044,2.6909016970258177,0.5668709264460764,-0.05897494253507211,-1.836392380931625,1.499808814285216,1.4259194751034947,-0.08578597513422263,0.5560973770990663,-0.7584165794397412,-1.6105588097346335,-0.9074161291122519,0.3796037005268845,0.3311762861032556,-1.3602628819660034,-0.9799612820273028,-1.6539675770208235,-0.13518856728836234,-2.0519815390489096,0.7076017949132091,0.5777492285351216,0.8814525993925905,0.23198923387472098,0.5739648399528666,-0.9187331726443511,0.2378113368211414,0.18452376474838614,0.9618846352603138,0.04674987985743832,-0.19242409419798356,0.37406378090710063,-0.22470081855415733,-0.4221861958292879,0.6377575043253557,0.37186014681579505,0.9885200426741549,0.5846281676474738,-0.8857207063528001,0.951745296972654,1.433580628428485,2.2051673520189827,-1.7345907838590167,0.24276875299650547,-0.8525885975006535,-0.8533236132402129,-1.941001109878793,-0.061780947174691896,-1.1697568526208222,1.126896428706196,-0.3179738015899636,-0.9912010770982428,-1.0511344497209492,1.827771784627446,-0.326139141984017,-0.521984694424672,-1.1909121583420728,0.9304877086589227,-1.4926195618704994,-0.04856994266672939,-0.5332888237553048,-0.6888200985211754,0.004881621023809477,0.2969949279946919,0.15584434040490944,-0.30955808996868645,0.47386778091716025,0.583986268346228,1.019454808285895,-0.6878330822641515,0.5175531626481035,-0.7815075116688344,0.49634237721186597,-1.4827609600037182,-0.016543171729132132,-0.8007147586706331,0.04434472691612747,0.04412174249588713,-2.21327013820518,0.037192344719893536,-0.9390081221051154,-0.7828138328182563,-0.3415125355976032,0.23650650730818906,0.30889760418237094,1.5513678854253037,-1.7509145536551753,-0.169155621033073,0.809684981401493,1.0319304185412423,0.9980808541912738,1.0774436660316213,0.8738553331372387,0.2167626281308094],\"yaxis\":\"y9\",\"type\":\"scatter\"},{\"line\":{\"color\":\"rgba(128, 128, 128, 1.0)\",\"dash\":\"solid\",\"shape\":\"linear\",\"width\":1.3},\"marker\":{\"size\":2,\"symbol\":\"circle\"},\"mode\":\"markers\",\"name\":\"C\",\"text\":\"\",\"x\":[0.9062930594144116,-1.4386362389423506,1.1369677802935936,2.3716105706749393,1.148561136980701,1.6384945821750838,-1.0740830064136329,-0.43741065236894316,0.5358574650869486,-0.2698795505516891,2.0197447105345563,0.4338245435899058,-0.6403534451698525,-1.895132322156619,0.047493285900842584,-0.21672463780566728,0.5117649446224504,0.7263239901604835,-1.4270079547470809,1.1684892701521439,-0.07635059518062,1.015995199829917,1.7008504923460286,-0.6630221858617115,-0.12131160545398256,2.201409865619109,1.5871548335880958,-1.4170235508141886,0.4156143179575276,-1.011196408980938,0.19523384068338345,-0.505399740247492,0.5600637862451191,-1.626626394671511,-2.242945396816825,-0.3172556011350909,0.15744150179076394,-0.6441237430038943,-1.154805552889705,1.0045417479266496,1.497029918691306,-1.374787336108716,0.09899565870554397,0.6142923431050662,-0.7587059584886806,1.4865210628371175,0.7245101896757082,2.212384737378364,1.1415859663818204,-0.48716608639593195,-1.492873229229848,-1.5580771150038115,0.7487385861972751,-0.4069196752359965,-1.0686371070370626,1.8751590252659465,-0.9859316483422285,-0.40126887692683005,1.3394051974576617,0.3400675786361936,1.6939200545861288,-1.2304126744784363,-0.009358785317534316,1.32881769350092,0.6380471903856916,-1.127888255950146,0.1362958685262489,0.9844415462026761,-2.3449585435451508,-1.1988283052407933,0.5902775129859864,-0.2816083952687804,2.170089395418066,-0.7535625814479999,0.1256440369012715,1.0710620740031642,-0.15147133419631562,0.708410299017189,0.5601583538557442,-1.0401882243373572,1.7056167441988201,0.6850843008365208,0.2524170417029744,0.4239316576340395,0.30856412170761116,-0.8120128362314452,-1.0248295324212153,0.9691832786744989,-0.7809378279230037,0.5199528377506104,-0.5823558298607444,0.02242888516997846,-1.8483439458823425,0.1683359982946268,0.44883480148149857,0.27644036079912226,0.5001592299352902,1.707276028881522,-0.3499034827519047,-0.1658350539232574],\"xaxis\":\"x10\",\"y\":[0.7692336532458728,0.5333344342194399,-0.8424260604443445,0.3203662543997597,0.08458846535047407,0.45708539683904553,-0.8498855129462245,1.4745690013341044,2.6909016970258177,0.5668709264460764,-0.05897494253507211,-1.836392380931625,1.499808814285216,1.4259194751034947,-0.08578597513422263,0.5560973770990663,-0.7584165794397412,-1.6105588097346335,-0.9074161291122519,0.3796037005268845,0.3311762861032556,-1.3602628819660034,-0.9799612820273028,-1.6539675770208235,-0.13518856728836234,-2.0519815390489096,0.7076017949132091,0.5777492285351216,0.8814525993925905,0.23198923387472098,0.5739648399528666,-0.9187331726443511,0.2378113368211414,0.18452376474838614,0.9618846352603138,0.04674987985743832,-0.19242409419798356,0.37406378090710063,-0.22470081855415733,-0.4221861958292879,0.6377575043253557,0.37186014681579505,0.9885200426741549,0.5846281676474738,-0.8857207063528001,0.951745296972654,1.433580628428485,2.2051673520189827,-1.7345907838590167,0.24276875299650547,-0.8525885975006535,-0.8533236132402129,-1.941001109878793,-0.061780947174691896,-1.1697568526208222,1.126896428706196,-0.3179738015899636,-0.9912010770982428,-1.0511344497209492,1.827771784627446,-0.326139141984017,-0.521984694424672,-1.1909121583420728,0.9304877086589227,-1.4926195618704994,-0.04856994266672939,-0.5332888237553048,-0.6888200985211754,0.004881621023809477,0.2969949279946919,0.15584434040490944,-0.30955808996868645,0.47386778091716025,0.583986268346228,1.019454808285895,-0.6878330822641515,0.5175531626481035,-0.7815075116688344,0.49634237721186597,-1.4827609600037182,-0.016543171729132132,-0.8007147586706331,0.04434472691612747,0.04412174249588713,-2.21327013820518,0.037192344719893536,-0.9390081221051154,-0.7828138328182563,-0.3415125355976032,0.23650650730818906,0.30889760418237094,1.5513678854253037,-1.7509145536551753,-0.169155621033073,0.809684981401493,1.0319304185412423,0.9980808541912738,1.0774436660316213,0.8738553331372387,0.2167626281308094],\"yaxis\":\"y10\",\"type\":\"scatter\"},{\"histfunc\":\"count\",\"histnorm\":\"\",\"marker\":{\"color\":\"rgba(50, 171, 96, 1.0)\",\"line\":{\"color\":\"#4D5663\",\"width\":1.3}},\"name\":\"C\",\"nbinsx\":10,\"opacity\":0.8,\"orientation\":\"v\",\"x\":[0.7692336532458728,0.5333344342194399,-0.8424260604443445,0.3203662543997597,0.08458846535047407,0.45708539683904553,-0.8498855129462245,1.4745690013341044,2.6909016970258177,0.5668709264460764,-0.05897494253507211,-1.836392380931625,1.499808814285216,1.4259194751034947,-0.08578597513422263,0.5560973770990663,-0.7584165794397412,-1.6105588097346335,-0.9074161291122519,0.3796037005268845,0.3311762861032556,-1.3602628819660034,-0.9799612820273028,-1.6539675770208235,-0.13518856728836234,-2.0519815390489096,0.7076017949132091,0.5777492285351216,0.8814525993925905,0.23198923387472098,0.5739648399528666,-0.9187331726443511,0.2378113368211414,0.18452376474838614,0.9618846352603138,0.04674987985743832,-0.19242409419798356,0.37406378090710063,-0.22470081855415733,-0.4221861958292879,0.6377575043253557,0.37186014681579505,0.9885200426741549,0.5846281676474738,-0.8857207063528001,0.951745296972654,1.433580628428485,2.2051673520189827,-1.7345907838590167,0.24276875299650547,-0.8525885975006535,-0.8533236132402129,-1.941001109878793,-0.061780947174691896,-1.1697568526208222,1.126896428706196,-0.3179738015899636,-0.9912010770982428,-1.0511344497209492,1.827771784627446,-0.326139141984017,-0.521984694424672,-1.1909121583420728,0.9304877086589227,-1.4926195618704994,-0.04856994266672939,-0.5332888237553048,-0.6888200985211754,0.004881621023809477,0.2969949279946919,0.15584434040490944,-0.30955808996868645,0.47386778091716025,0.583986268346228,1.019454808285895,-0.6878330822641515,0.5175531626481035,-0.7815075116688344,0.49634237721186597,-1.4827609600037182,-0.016543171729132132,-0.8007147586706331,0.04434472691612747,0.04412174249588713,-2.21327013820518,0.037192344719893536,-0.9390081221051154,-0.7828138328182563,-0.3415125355976032,0.23650650730818906,0.30889760418237094,1.5513678854253037,-1.7509145536551753,-0.169155621033073,0.809684981401493,1.0319304185412423,0.9980808541912738,1.0774436660316213,0.8738553331372387,0.2167626281308094],\"xaxis\":\"x11\",\"yaxis\":\"y11\",\"type\":\"histogram\"},{\"line\":{\"color\":\"rgba(128, 128, 128, 1.0)\",\"dash\":\"solid\",\"shape\":\"linear\",\"width\":1.3},\"marker\":{\"size\":2,\"symbol\":\"circle\"},\"mode\":\"markers\",\"name\":\"C\",\"text\":\"\",\"x\":[0.3675217620137849,2.7427008466781437,0.6255220737570883,-0.6770631133142064,0.8611524003693977,0.7325189915909454,-0.4912724703434503,-0.08990027233534309,0.7249810254170888,-0.44406845694832436,-0.11519998235144457,0.057807570007680414,1.4468154496869319,-1.3063691460575648,-1.0976511461538079,-0.144521111054121,0.9851894657897402,-0.3669124238805727,0.3900440966830113,-0.46883403147472796,0.5607883602873852,0.1959664854253068,-1.4388522302244997,0.9792903647735527,1.1534094018283618,0.4615133516294498,2.1918183430754277,0.5250412928758622,0.5001386622284841,0.2551536355520732,-0.005412224012686471,2.9221341098244342,-0.4649633760002535,0.604687207147699,0.9866743322343967,0.3713940127701445,-2.5879431288336234,-1.2628569935111595,0.8034675576116896,-0.7931092449981392,0.7424776291875992,0.13392997568809864,-1.3518633088238048,0.8622365479976225,-0.2407342066956001,-0.9783801026300155,0.7209797859368154,-0.38282624621694294,1.5716146462366636,-1.1665957113627479,0.6187301632857698,-2.186120621478108,-0.2426136169446369,0.44237996405091246,0.31750637266024034,-1.9937679194820443,-1.2624546771878686,-0.44884460876428806,0.6306675068396437,1.7501367095384082,0.48863891048392044,2.602313512763461,1.002570057651446,1.467085093335372,0.9369319026249344,1.7703646291362558,-1.1796240772203925,0.12617597344252518,-0.25609278999498675,-0.1115932258436591,0.12511197337113492,-0.1990422032617427,-0.5663920105336755,-1.5735449206488776,-0.43762023976950404,-1.0756184575691374,1.7639056749230035,0.19731050169828362,-0.11699890130357059,0.2773473721477822,0.7413590505157498,2.0416402836649428,0.576779671318424,-0.30937664994093284,1.0785633811816857,-0.2743774523138238,0.8892491714545185,0.5640933722954883,0.983842824464235,1.1610759271421396,-0.4509459056346206,-0.7272001536229342,-0.3257182965001095,0.1958487766367504,-2.372334453426788,0.2086402255634171,-0.7278070326688642,-1.3179084583713245,-1.2594262664854154,-0.9035664023169915],\"xaxis\":\"x12\",\"y\":[0.7692336532458728,0.5333344342194399,-0.8424260604443445,0.3203662543997597,0.08458846535047407,0.45708539683904553,-0.8498855129462245,1.4745690013341044,2.6909016970258177,0.5668709264460764,-0.05897494253507211,-1.836392380931625,1.499808814285216,1.4259194751034947,-0.08578597513422263,0.5560973770990663,-0.7584165794397412,-1.6105588097346335,-0.9074161291122519,0.3796037005268845,0.3311762861032556,-1.3602628819660034,-0.9799612820273028,-1.6539675770208235,-0.13518856728836234,-2.0519815390489096,0.7076017949132091,0.5777492285351216,0.8814525993925905,0.23198923387472098,0.5739648399528666,-0.9187331726443511,0.2378113368211414,0.18452376474838614,0.9618846352603138,0.04674987985743832,-0.19242409419798356,0.37406378090710063,-0.22470081855415733,-0.4221861958292879,0.6377575043253557,0.37186014681579505,0.9885200426741549,0.5846281676474738,-0.8857207063528001,0.951745296972654,1.433580628428485,2.2051673520189827,-1.7345907838590167,0.24276875299650547,-0.8525885975006535,-0.8533236132402129,-1.941001109878793,-0.061780947174691896,-1.1697568526208222,1.126896428706196,-0.3179738015899636,-0.9912010770982428,-1.0511344497209492,1.827771784627446,-0.326139141984017,-0.521984694424672,-1.1909121583420728,0.9304877086589227,-1.4926195618704994,-0.04856994266672939,-0.5332888237553048,-0.6888200985211754,0.004881621023809477,0.2969949279946919,0.15584434040490944,-0.30955808996868645,0.47386778091716025,0.583986268346228,1.019454808285895,-0.6878330822641515,0.5175531626481035,-0.7815075116688344,0.49634237721186597,-1.4827609600037182,-0.016543171729132132,-0.8007147586706331,0.04434472691612747,0.04412174249588713,-2.21327013820518,0.037192344719893536,-0.9390081221051154,-0.7828138328182563,-0.3415125355976032,0.23650650730818906,0.30889760418237094,1.5513678854253037,-1.7509145536551753,-0.169155621033073,0.809684981401493,1.0319304185412423,0.9980808541912738,1.0774436660316213,0.8738553331372387,0.2167626281308094],\"yaxis\":\"y12\",\"type\":\"scatter\"},{\"line\":{\"color\":\"rgba(128, 128, 128, 1.0)\",\"dash\":\"solid\",\"shape\":\"linear\",\"width\":1.3},\"marker\":{\"size\":2,\"symbol\":\"circle\"},\"mode\":\"markers\",\"name\":\"D\",\"text\":\"\",\"x\":[1.80900659363173,0.035274995502989924,-1.3725782517059886,0.012016290428291753,1.000469906945173,-0.6195273127982366,-0.5493763932833622,-0.9911107758158834,0.23248967391723316,-0.14506312346767283,0.34184931249590944,0.2715616077472833,0.8393674963432226,-0.10711850809753216,1.8812271802120675,1.0538530621847526,-0.29984010726672844,-1.0005896037131567,0.6236039509447258,2.547660303248421,0.3645808633949736,0.7584190685180403,-1.3718605252785057,1.1236466096015902,-0.6575364883108161,-0.7435742465354352,-0.9510929805192601,-0.7250355706046863,-0.3010833740014651,-0.8365580045456453,0.5375896300969594,0.4250820358790253,-1.4817640383211563,1.0742946624051832,-1.6615502948070402,-0.4539105034533779,0.9627637686417985,1.0917899219961893,0.40651750118727115,0.30539547233503134,0.7154867771216606,0.4988743495347605,0.8934197814724031,-0.7226701733307364,-0.6212640967281962,-0.20366491195303663,0.6293167407460972,0.932849322897483,0.0889989385329877,-0.009742713919367142,0.8547431702291997,-0.06513079400429111,-0.5810102718413085,-0.9663593983135926,0.6305616168977342,1.9913392481918006,-1.9776861325927175,2.0202457074867883,-1.0347658552177048,-0.6695623864365713,1.183237535410795,0.4225713154856195,1.2265275340992094,-1.620088276804922,0.36251610386564465,-0.39921777940713343,0.19623576958325684,-0.28567696303803214,-0.40868573997383634,0.4589878761780295,-0.8307604519242388,0.46409171043276753,-0.7934822881525643,-0.48507069853990153,1.0898652590025368,-1.3743038367541152,0.581212864653542,0.30331914137158783,-1.2179046818674735,-2.103526750442117,0.6834448164214543,-0.15730645803113177,0.9021369402599491,-1.1694166086342517,0.8148051426930465,0.9444288848742953,-0.6589176826651596,0.5351669268927843,0.20689663682579865,0.832979037395156,0.5435340867904964,1.2929265303581408,-1.014503830555063,1.3097655276016194,-0.3053438162070056,-0.828368648201911,1.189594403334678,-0.37242628836792796,0.42166106976218076,-0.7112018906041686],\"xaxis\":\"x13\",\"y\":[0.3675217620137849,2.7427008466781437,0.6255220737570883,-0.6770631133142064,0.8611524003693977,0.7325189915909454,-0.4912724703434503,-0.08990027233534309,0.7249810254170888,-0.44406845694832436,-0.11519998235144457,0.057807570007680414,1.4468154496869319,-1.3063691460575648,-1.0976511461538079,-0.144521111054121,0.9851894657897402,-0.3669124238805727,0.3900440966830113,-0.46883403147472796,0.5607883602873852,0.1959664854253068,-1.4388522302244997,0.9792903647735527,1.1534094018283618,0.4615133516294498,2.1918183430754277,0.5250412928758622,0.5001386622284841,0.2551536355520732,-0.005412224012686471,2.9221341098244342,-0.4649633760002535,0.604687207147699,0.9866743322343967,0.3713940127701445,-2.5879431288336234,-1.2628569935111595,0.8034675576116896,-0.7931092449981392,0.7424776291875992,0.13392997568809864,-1.3518633088238048,0.8622365479976225,-0.2407342066956001,-0.9783801026300155,0.7209797859368154,-0.38282624621694294,1.5716146462366636,-1.1665957113627479,0.6187301632857698,-2.186120621478108,-0.2426136169446369,0.44237996405091246,0.31750637266024034,-1.9937679194820443,-1.2624546771878686,-0.44884460876428806,0.6306675068396437,1.7501367095384082,0.48863891048392044,2.602313512763461,1.002570057651446,1.467085093335372,0.9369319026249344,1.7703646291362558,-1.1796240772203925,0.12617597344252518,-0.25609278999498675,-0.1115932258436591,0.12511197337113492,-0.1990422032617427,-0.5663920105336755,-1.5735449206488776,-0.43762023976950404,-1.0756184575691374,1.7639056749230035,0.19731050169828362,-0.11699890130357059,0.2773473721477822,0.7413590505157498,2.0416402836649428,0.576779671318424,-0.30937664994093284,1.0785633811816857,-0.2743774523138238,0.8892491714545185,0.5640933722954883,0.983842824464235,1.1610759271421396,-0.4509459056346206,-0.7272001536229342,-0.3257182965001095,0.1958487766367504,-2.372334453426788,0.2086402255634171,-0.7278070326688642,-1.3179084583713245,-1.2594262664854154,-0.9035664023169915],\"yaxis\":\"y13\",\"type\":\"scatter\"},{\"line\":{\"color\":\"rgba(128, 128, 128, 1.0)\",\"dash\":\"solid\",\"shape\":\"linear\",\"width\":1.3},\"marker\":{\"size\":2,\"symbol\":\"circle\"},\"mode\":\"markers\",\"name\":\"D\",\"text\":\"\",\"x\":[0.9062930594144116,-1.4386362389423506,1.1369677802935936,2.3716105706749393,1.148561136980701,1.6384945821750838,-1.0740830064136329,-0.43741065236894316,0.5358574650869486,-0.2698795505516891,2.0197447105345563,0.4338245435899058,-0.6403534451698525,-1.895132322156619,0.047493285900842584,-0.21672463780566728,0.5117649446224504,0.7263239901604835,-1.4270079547470809,1.1684892701521439,-0.07635059518062,1.015995199829917,1.7008504923460286,-0.6630221858617115,-0.12131160545398256,2.201409865619109,1.5871548335880958,-1.4170235508141886,0.4156143179575276,-1.011196408980938,0.19523384068338345,-0.505399740247492,0.5600637862451191,-1.626626394671511,-2.242945396816825,-0.3172556011350909,0.15744150179076394,-0.6441237430038943,-1.154805552889705,1.0045417479266496,1.497029918691306,-1.374787336108716,0.09899565870554397,0.6142923431050662,-0.7587059584886806,1.4865210628371175,0.7245101896757082,2.212384737378364,1.1415859663818204,-0.48716608639593195,-1.492873229229848,-1.5580771150038115,0.7487385861972751,-0.4069196752359965,-1.0686371070370626,1.8751590252659465,-0.9859316483422285,-0.40126887692683005,1.3394051974576617,0.3400675786361936,1.6939200545861288,-1.2304126744784363,-0.009358785317534316,1.32881769350092,0.6380471903856916,-1.127888255950146,0.1362958685262489,0.9844415462026761,-2.3449585435451508,-1.1988283052407933,0.5902775129859864,-0.2816083952687804,2.170089395418066,-0.7535625814479999,0.1256440369012715,1.0710620740031642,-0.15147133419631562,0.708410299017189,0.5601583538557442,-1.0401882243373572,1.7056167441988201,0.6850843008365208,0.2524170417029744,0.4239316576340395,0.30856412170761116,-0.8120128362314452,-1.0248295324212153,0.9691832786744989,-0.7809378279230037,0.5199528377506104,-0.5823558298607444,0.02242888516997846,-1.8483439458823425,0.1683359982946268,0.44883480148149857,0.27644036079912226,0.5001592299352902,1.707276028881522,-0.3499034827519047,-0.1658350539232574],\"xaxis\":\"x14\",\"y\":[0.3675217620137849,2.7427008466781437,0.6255220737570883,-0.6770631133142064,0.8611524003693977,0.7325189915909454,-0.4912724703434503,-0.08990027233534309,0.7249810254170888,-0.44406845694832436,-0.11519998235144457,0.057807570007680414,1.4468154496869319,-1.3063691460575648,-1.0976511461538079,-0.144521111054121,0.9851894657897402,-0.3669124238805727,0.3900440966830113,-0.46883403147472796,0.5607883602873852,0.1959664854253068,-1.4388522302244997,0.9792903647735527,1.1534094018283618,0.4615133516294498,2.1918183430754277,0.5250412928758622,0.5001386622284841,0.2551536355520732,-0.005412224012686471,2.9221341098244342,-0.4649633760002535,0.604687207147699,0.9866743322343967,0.3713940127701445,-2.5879431288336234,-1.2628569935111595,0.8034675576116896,-0.7931092449981392,0.7424776291875992,0.13392997568809864,-1.3518633088238048,0.8622365479976225,-0.2407342066956001,-0.9783801026300155,0.7209797859368154,-0.38282624621694294,1.5716146462366636,-1.1665957113627479,0.6187301632857698,-2.186120621478108,-0.2426136169446369,0.44237996405091246,0.31750637266024034,-1.9937679194820443,-1.2624546771878686,-0.44884460876428806,0.6306675068396437,1.7501367095384082,0.48863891048392044,2.602313512763461,1.002570057651446,1.467085093335372,0.9369319026249344,1.7703646291362558,-1.1796240772203925,0.12617597344252518,-0.25609278999498675,-0.1115932258436591,0.12511197337113492,-0.1990422032617427,-0.5663920105336755,-1.5735449206488776,-0.43762023976950404,-1.0756184575691374,1.7639056749230035,0.19731050169828362,-0.11699890130357059,0.2773473721477822,0.7413590505157498,2.0416402836649428,0.576779671318424,-0.30937664994093284,1.0785633811816857,-0.2743774523138238,0.8892491714545185,0.5640933722954883,0.983842824464235,1.1610759271421396,-0.4509459056346206,-0.7272001536229342,-0.3257182965001095,0.1958487766367504,-2.372334453426788,0.2086402255634171,-0.7278070326688642,-1.3179084583713245,-1.2594262664854154,-0.9035664023169915],\"yaxis\":\"y14\",\"type\":\"scatter\"},{\"line\":{\"color\":\"rgba(128, 128, 128, 1.0)\",\"dash\":\"solid\",\"shape\":\"linear\",\"width\":1.3},\"marker\":{\"size\":2,\"symbol\":\"circle\"},\"mode\":\"markers\",\"name\":\"D\",\"text\":\"\",\"x\":[0.7692336532458728,0.5333344342194399,-0.8424260604443445,0.3203662543997597,0.08458846535047407,0.45708539683904553,-0.8498855129462245,1.4745690013341044,2.6909016970258177,0.5668709264460764,-0.05897494253507211,-1.836392380931625,1.499808814285216,1.4259194751034947,-0.08578597513422263,0.5560973770990663,-0.7584165794397412,-1.6105588097346335,-0.9074161291122519,0.3796037005268845,0.3311762861032556,-1.3602628819660034,-0.9799612820273028,-1.6539675770208235,-0.13518856728836234,-2.0519815390489096,0.7076017949132091,0.5777492285351216,0.8814525993925905,0.23198923387472098,0.5739648399528666,-0.9187331726443511,0.2378113368211414,0.18452376474838614,0.9618846352603138,0.04674987985743832,-0.19242409419798356,0.37406378090710063,-0.22470081855415733,-0.4221861958292879,0.6377575043253557,0.37186014681579505,0.9885200426741549,0.5846281676474738,-0.8857207063528001,0.951745296972654,1.433580628428485,2.2051673520189827,-1.7345907838590167,0.24276875299650547,-0.8525885975006535,-0.8533236132402129,-1.941001109878793,-0.061780947174691896,-1.1697568526208222,1.126896428706196,-0.3179738015899636,-0.9912010770982428,-1.0511344497209492,1.827771784627446,-0.326139141984017,-0.521984694424672,-1.1909121583420728,0.9304877086589227,-1.4926195618704994,-0.04856994266672939,-0.5332888237553048,-0.6888200985211754,0.004881621023809477,0.2969949279946919,0.15584434040490944,-0.30955808996868645,0.47386778091716025,0.583986268346228,1.019454808285895,-0.6878330822641515,0.5175531626481035,-0.7815075116688344,0.49634237721186597,-1.4827609600037182,-0.016543171729132132,-0.8007147586706331,0.04434472691612747,0.04412174249588713,-2.21327013820518,0.037192344719893536,-0.9390081221051154,-0.7828138328182563,-0.3415125355976032,0.23650650730818906,0.30889760418237094,1.5513678854253037,-1.7509145536551753,-0.169155621033073,0.809684981401493,1.0319304185412423,0.9980808541912738,1.0774436660316213,0.8738553331372387,0.2167626281308094],\"xaxis\":\"x15\",\"y\":[0.3675217620137849,2.7427008466781437,0.6255220737570883,-0.6770631133142064,0.8611524003693977,0.7325189915909454,-0.4912724703434503,-0.08990027233534309,0.7249810254170888,-0.44406845694832436,-0.11519998235144457,0.057807570007680414,1.4468154496869319,-1.3063691460575648,-1.0976511461538079,-0.144521111054121,0.9851894657897402,-0.3669124238805727,0.3900440966830113,-0.46883403147472796,0.5607883602873852,0.1959664854253068,-1.4388522302244997,0.9792903647735527,1.1534094018283618,0.4615133516294498,2.1918183430754277,0.5250412928758622,0.5001386622284841,0.2551536355520732,-0.005412224012686471,2.9221341098244342,-0.4649633760002535,0.604687207147699,0.9866743322343967,0.3713940127701445,-2.5879431288336234,-1.2628569935111595,0.8034675576116896,-0.7931092449981392,0.7424776291875992,0.13392997568809864,-1.3518633088238048,0.8622365479976225,-0.2407342066956001,-0.9783801026300155,0.7209797859368154,-0.38282624621694294,1.5716146462366636,-1.1665957113627479,0.6187301632857698,-2.186120621478108,-0.2426136169446369,0.44237996405091246,0.31750637266024034,-1.9937679194820443,-1.2624546771878686,-0.44884460876428806,0.6306675068396437,1.7501367095384082,0.48863891048392044,2.602313512763461,1.002570057651446,1.467085093335372,0.9369319026249344,1.7703646291362558,-1.1796240772203925,0.12617597344252518,-0.25609278999498675,-0.1115932258436591,0.12511197337113492,-0.1990422032617427,-0.5663920105336755,-1.5735449206488776,-0.43762023976950404,-1.0756184575691374,1.7639056749230035,0.19731050169828362,-0.11699890130357059,0.2773473721477822,0.7413590505157498,2.0416402836649428,0.576779671318424,-0.30937664994093284,1.0785633811816857,-0.2743774523138238,0.8892491714545185,0.5640933722954883,0.983842824464235,1.1610759271421396,-0.4509459056346206,-0.7272001536229342,-0.3257182965001095,0.1958487766367504,-2.372334453426788,0.2086402255634171,-0.7278070326688642,-1.3179084583713245,-1.2594262664854154,-0.9035664023169915],\"yaxis\":\"y15\",\"type\":\"scatter\"},{\"histfunc\":\"count\",\"histnorm\":\"\",\"marker\":{\"color\":\"rgba(128, 0, 128, 1.0)\",\"line\":{\"color\":\"#4D5663\",\"width\":1.3}},\"name\":\"D\",\"nbinsx\":10,\"opacity\":0.8,\"orientation\":\"v\",\"x\":[0.3675217620137849,2.7427008466781437,0.6255220737570883,-0.6770631133142064,0.8611524003693977,0.7325189915909454,-0.4912724703434503,-0.08990027233534309,0.7249810254170888,-0.44406845694832436,-0.11519998235144457,0.057807570007680414,1.4468154496869319,-1.3063691460575648,-1.0976511461538079,-0.144521111054121,0.9851894657897402,-0.3669124238805727,0.3900440966830113,-0.46883403147472796,0.5607883602873852,0.1959664854253068,-1.4388522302244997,0.9792903647735527,1.1534094018283618,0.4615133516294498,2.1918183430754277,0.5250412928758622,0.5001386622284841,0.2551536355520732,-0.005412224012686471,2.9221341098244342,-0.4649633760002535,0.604687207147699,0.9866743322343967,0.3713940127701445,-2.5879431288336234,-1.2628569935111595,0.8034675576116896,-0.7931092449981392,0.7424776291875992,0.13392997568809864,-1.3518633088238048,0.8622365479976225,-0.2407342066956001,-0.9783801026300155,0.7209797859368154,-0.38282624621694294,1.5716146462366636,-1.1665957113627479,0.6187301632857698,-2.186120621478108,-0.2426136169446369,0.44237996405091246,0.31750637266024034,-1.9937679194820443,-1.2624546771878686,-0.44884460876428806,0.6306675068396437,1.7501367095384082,0.48863891048392044,2.602313512763461,1.002570057651446,1.467085093335372,0.9369319026249344,1.7703646291362558,-1.1796240772203925,0.12617597344252518,-0.25609278999498675,-0.1115932258436591,0.12511197337113492,-0.1990422032617427,-0.5663920105336755,-1.5735449206488776,-0.43762023976950404,-1.0756184575691374,1.7639056749230035,0.19731050169828362,-0.11699890130357059,0.2773473721477822,0.7413590505157498,2.0416402836649428,0.576779671318424,-0.30937664994093284,1.0785633811816857,-0.2743774523138238,0.8892491714545185,0.5640933722954883,0.983842824464235,1.1610759271421396,-0.4509459056346206,-0.7272001536229342,-0.3257182965001095,0.1958487766367504,-2.372334453426788,0.2086402255634171,-0.7278070326688642,-1.3179084583713245,-1.2594262664854154,-0.9035664023169915],\"xaxis\":\"x16\",\"yaxis\":\"y16\",\"type\":\"histogram\"}],                        {\"bargap\":0.02,\"legend\":{\"bgcolor\":\"#F5F6F9\",\"font\":{\"color\":\"#4D5663\"}},\"paper_bgcolor\":\"#F5F6F9\",\"plot_bgcolor\":\"#F5F6F9\",\"showlegend\":false,\"template\":{\"data\":{\"barpolar\":[{\"marker\":{\"line\":{\"color\":\"#E5ECF6\",\"width\":0.5},\"pattern\":{\"fillmode\":\"overlay\",\"size\":10,\"solidity\":0.2}},\"type\":\"barpolar\"}],\"bar\":[{\"error_x\":{\"color\":\"#2a3f5f\"},\"error_y\":{\"color\":\"#2a3f5f\"},\"marker\":{\"line\":{\"color\":\"#E5ECF6\",\"width\":0.5},\"pattern\":{\"fillmode\":\"overlay\",\"size\":10,\"solidity\":0.2}},\"type\":\"bar\"}],\"carpet\":[{\"aaxis\":{\"endlinecolor\":\"#2a3f5f\",\"gridcolor\":\"white\",\"linecolor\":\"white\",\"minorgridcolor\":\"white\",\"startlinecolor\":\"#2a3f5f\"},\"baxis\":{\"endlinecolor\":\"#2a3f5f\",\"gridcolor\":\"white\",\"linecolor\":\"white\",\"minorgridcolor\":\"white\",\"startlinecolor\":\"#2a3f5f\"},\"type\":\"carpet\"}],\"choropleth\":[{\"colorbar\":{\"outlinewidth\":0,\"ticks\":\"\"},\"type\":\"choropleth\"}],\"contourcarpet\":[{\"colorbar\":{\"outlinewidth\":0,\"ticks\":\"\"},\"type\":\"contourcarpet\"}],\"contour\":[{\"colorbar\":{\"outlinewidth\":0,\"ticks\":\"\"},\"colorscale\":[[0.0,\"#0d0887\"],[0.1111111111111111,\"#46039f\"],[0.2222222222222222,\"#7201a8\"],[0.3333333333333333,\"#9c179e\"],[0.4444444444444444,\"#bd3786\"],[0.5555555555555556,\"#d8576b\"],[0.6666666666666666,\"#ed7953\"],[0.7777777777777778,\"#fb9f3a\"],[0.8888888888888888,\"#fdca26\"],[1.0,\"#f0f921\"]],\"type\":\"contour\"}],\"heatmapgl\":[{\"colorbar\":{\"outlinewidth\":0,\"ticks\":\"\"},\"colorscale\":[[0.0,\"#0d0887\"],[0.1111111111111111,\"#46039f\"],[0.2222222222222222,\"#7201a8\"],[0.3333333333333333,\"#9c179e\"],[0.4444444444444444,\"#bd3786\"],[0.5555555555555556,\"#d8576b\"],[0.6666666666666666,\"#ed7953\"],[0.7777777777777778,\"#fb9f3a\"],[0.8888888888888888,\"#fdca26\"],[1.0,\"#f0f921\"]],\"type\":\"heatmapgl\"}],\"heatmap\":[{\"colorbar\":{\"outlinewidth\":0,\"ticks\":\"\"},\"colorscale\":[[0.0,\"#0d0887\"],[0.1111111111111111,\"#46039f\"],[0.2222222222222222,\"#7201a8\"],[0.3333333333333333,\"#9c179e\"],[0.4444444444444444,\"#bd3786\"],[0.5555555555555556,\"#d8576b\"],[0.6666666666666666,\"#ed7953\"],[0.7777777777777778,\"#fb9f3a\"],[0.8888888888888888,\"#fdca26\"],[1.0,\"#f0f921\"]],\"type\":\"heatmap\"}],\"histogram2dcontour\":[{\"colorbar\":{\"outlinewidth\":0,\"ticks\":\"\"},\"colorscale\":[[0.0,\"#0d0887\"],[0.1111111111111111,\"#46039f\"],[0.2222222222222222,\"#7201a8\"],[0.3333333333333333,\"#9c179e\"],[0.4444444444444444,\"#bd3786\"],[0.5555555555555556,\"#d8576b\"],[0.6666666666666666,\"#ed7953\"],[0.7777777777777778,\"#fb9f3a\"],[0.8888888888888888,\"#fdca26\"],[1.0,\"#f0f921\"]],\"type\":\"histogram2dcontour\"}],\"histogram2d\":[{\"colorbar\":{\"outlinewidth\":0,\"ticks\":\"\"},\"colorscale\":[[0.0,\"#0d0887\"],[0.1111111111111111,\"#46039f\"],[0.2222222222222222,\"#7201a8\"],[0.3333333333333333,\"#9c179e\"],[0.4444444444444444,\"#bd3786\"],[0.5555555555555556,\"#d8576b\"],[0.6666666666666666,\"#ed7953\"],[0.7777777777777778,\"#fb9f3a\"],[0.8888888888888888,\"#fdca26\"],[1.0,\"#f0f921\"]],\"type\":\"histogram2d\"}],\"histogram\":[{\"marker\":{\"pattern\":{\"fillmode\":\"overlay\",\"size\":10,\"solidity\":0.2}},\"type\":\"histogram\"}],\"mesh3d\":[{\"colorbar\":{\"outlinewidth\":0,\"ticks\":\"\"},\"type\":\"mesh3d\"}],\"parcoords\":[{\"line\":{\"colorbar\":{\"outlinewidth\":0,\"ticks\":\"\"}},\"type\":\"parcoords\"}],\"pie\":[{\"automargin\":true,\"type\":\"pie\"}],\"scatter3d\":[{\"line\":{\"colorbar\":{\"outlinewidth\":0,\"ticks\":\"\"}},\"marker\":{\"colorbar\":{\"outlinewidth\":0,\"ticks\":\"\"}},\"type\":\"scatter3d\"}],\"scattercarpet\":[{\"marker\":{\"colorbar\":{\"outlinewidth\":0,\"ticks\":\"\"}},\"type\":\"scattercarpet\"}],\"scattergeo\":[{\"marker\":{\"colorbar\":{\"outlinewidth\":0,\"ticks\":\"\"}},\"type\":\"scattergeo\"}],\"scattergl\":[{\"marker\":{\"colorbar\":{\"outlinewidth\":0,\"ticks\":\"\"}},\"type\":\"scattergl\"}],\"scattermapbox\":[{\"marker\":{\"colorbar\":{\"outlinewidth\":0,\"ticks\":\"\"}},\"type\":\"scattermapbox\"}],\"scatterpolargl\":[{\"marker\":{\"colorbar\":{\"outlinewidth\":0,\"ticks\":\"\"}},\"type\":\"scatterpolargl\"}],\"scatterpolar\":[{\"marker\":{\"colorbar\":{\"outlinewidth\":0,\"ticks\":\"\"}},\"type\":\"scatterpolar\"}],\"scatter\":[{\"fillpattern\":{\"fillmode\":\"overlay\",\"size\":10,\"solidity\":0.2},\"type\":\"scatter\"}],\"scatterternary\":[{\"marker\":{\"colorbar\":{\"outlinewidth\":0,\"ticks\":\"\"}},\"type\":\"scatterternary\"}],\"surface\":[{\"colorbar\":{\"outlinewidth\":0,\"ticks\":\"\"},\"colorscale\":[[0.0,\"#0d0887\"],[0.1111111111111111,\"#46039f\"],[0.2222222222222222,\"#7201a8\"],[0.3333333333333333,\"#9c179e\"],[0.4444444444444444,\"#bd3786\"],[0.5555555555555556,\"#d8576b\"],[0.6666666666666666,\"#ed7953\"],[0.7777777777777778,\"#fb9f3a\"],[0.8888888888888888,\"#fdca26\"],[1.0,\"#f0f921\"]],\"type\":\"surface\"}],\"table\":[{\"cells\":{\"fill\":{\"color\":\"#EBF0F8\"},\"line\":{\"color\":\"white\"}},\"header\":{\"fill\":{\"color\":\"#C8D4E3\"},\"line\":{\"color\":\"white\"}},\"type\":\"table\"}]},\"layout\":{\"annotationdefaults\":{\"arrowcolor\":\"#2a3f5f\",\"arrowhead\":0,\"arrowwidth\":1},\"autotypenumbers\":\"strict\",\"coloraxis\":{\"colorbar\":{\"outlinewidth\":0,\"ticks\":\"\"}},\"colorscale\":{\"diverging\":[[0,\"#8e0152\"],[0.1,\"#c51b7d\"],[0.2,\"#de77ae\"],[0.3,\"#f1b6da\"],[0.4,\"#fde0ef\"],[0.5,\"#f7f7f7\"],[0.6,\"#e6f5d0\"],[0.7,\"#b8e186\"],[0.8,\"#7fbc41\"],[0.9,\"#4d9221\"],[1,\"#276419\"]],\"sequential\":[[0.0,\"#0d0887\"],[0.1111111111111111,\"#46039f\"],[0.2222222222222222,\"#7201a8\"],[0.3333333333333333,\"#9c179e\"],[0.4444444444444444,\"#bd3786\"],[0.5555555555555556,\"#d8576b\"],[0.6666666666666666,\"#ed7953\"],[0.7777777777777778,\"#fb9f3a\"],[0.8888888888888888,\"#fdca26\"],[1.0,\"#f0f921\"]],\"sequentialminus\":[[0.0,\"#0d0887\"],[0.1111111111111111,\"#46039f\"],[0.2222222222222222,\"#7201a8\"],[0.3333333333333333,\"#9c179e\"],[0.4444444444444444,\"#bd3786\"],[0.5555555555555556,\"#d8576b\"],[0.6666666666666666,\"#ed7953\"],[0.7777777777777778,\"#fb9f3a\"],[0.8888888888888888,\"#fdca26\"],[1.0,\"#f0f921\"]]},\"colorway\":[\"#636efa\",\"#EF553B\",\"#00cc96\",\"#ab63fa\",\"#FFA15A\",\"#19d3f3\",\"#FF6692\",\"#B6E880\",\"#FF97FF\",\"#FECB52\"],\"font\":{\"color\":\"#2a3f5f\"},\"geo\":{\"bgcolor\":\"white\",\"lakecolor\":\"white\",\"landcolor\":\"#E5ECF6\",\"showlakes\":true,\"showland\":true,\"subunitcolor\":\"white\"},\"hoverlabel\":{\"align\":\"left\"},\"hovermode\":\"closest\",\"mapbox\":{\"style\":\"light\"},\"paper_bgcolor\":\"white\",\"plot_bgcolor\":\"#E5ECF6\",\"polar\":{\"angularaxis\":{\"gridcolor\":\"white\",\"linecolor\":\"white\",\"ticks\":\"\"},\"bgcolor\":\"#E5ECF6\",\"radialaxis\":{\"gridcolor\":\"white\",\"linecolor\":\"white\",\"ticks\":\"\"}},\"scene\":{\"xaxis\":{\"backgroundcolor\":\"#E5ECF6\",\"gridcolor\":\"white\",\"gridwidth\":2,\"linecolor\":\"white\",\"showbackground\":true,\"ticks\":\"\",\"zerolinecolor\":\"white\"},\"yaxis\":{\"backgroundcolor\":\"#E5ECF6\",\"gridcolor\":\"white\",\"gridwidth\":2,\"linecolor\":\"white\",\"showbackground\":true,\"ticks\":\"\",\"zerolinecolor\":\"white\"},\"zaxis\":{\"backgroundcolor\":\"#E5ECF6\",\"gridcolor\":\"white\",\"gridwidth\":2,\"linecolor\":\"white\",\"showbackground\":true,\"ticks\":\"\",\"zerolinecolor\":\"white\"}},\"shapedefaults\":{\"line\":{\"color\":\"#2a3f5f\"}},\"ternary\":{\"aaxis\":{\"gridcolor\":\"white\",\"linecolor\":\"white\",\"ticks\":\"\"},\"baxis\":{\"gridcolor\":\"white\",\"linecolor\":\"white\",\"ticks\":\"\"},\"bgcolor\":\"#E5ECF6\",\"caxis\":{\"gridcolor\":\"white\",\"linecolor\":\"white\",\"ticks\":\"\"}},\"title\":{\"x\":0.05},\"xaxis\":{\"automargin\":true,\"gridcolor\":\"white\",\"linecolor\":\"white\",\"ticks\":\"\",\"title\":{\"standoff\":15},\"zerolinecolor\":\"white\",\"zerolinewidth\":2},\"yaxis\":{\"automargin\":true,\"gridcolor\":\"white\",\"linecolor\":\"white\",\"ticks\":\"\",\"title\":{\"standoff\":15},\"zerolinecolor\":\"white\",\"zerolinewidth\":2}}},\"title\":{\"font\":{\"color\":\"#4D5663\"}},\"xaxis\":{\"anchor\":\"y\",\"domain\":[0.0,0.2125],\"gridcolor\":\"#E1E5ED\",\"showgrid\":false,\"tickfont\":{\"color\":\"#4D5663\"},\"title\":{\"font\":{\"color\":\"#4D5663\"},\"text\":\"\"},\"zerolinecolor\":\"#E1E5ED\"},\"yaxis\":{\"anchor\":\"x\",\"domain\":[0.8025,1.0],\"gridcolor\":\"#E1E5ED\",\"showgrid\":false,\"tickfont\":{\"color\":\"#4D5663\"},\"title\":{\"font\":{\"color\":\"#4D5663\"},\"text\":\"\"},\"zerolinecolor\":\"#E1E5ED\"},\"xaxis2\":{\"anchor\":\"y2\",\"domain\":[0.2625,0.475],\"gridcolor\":\"#E1E5ED\",\"showgrid\":false,\"tickfont\":{\"color\":\"#4D5663\"},\"title\":{\"font\":{\"color\":\"#4D5663\"},\"text\":\"\"},\"zerolinecolor\":\"#E1E5ED\"},\"yaxis2\":{\"anchor\":\"x2\",\"domain\":[0.8025,1.0],\"gridcolor\":\"#E1E5ED\",\"showgrid\":false,\"tickfont\":{\"color\":\"#4D5663\"},\"title\":{\"font\":{\"color\":\"#4D5663\"},\"text\":\"\"},\"zerolinecolor\":\"#E1E5ED\"},\"xaxis3\":{\"anchor\":\"y3\",\"domain\":[0.525,0.7375],\"gridcolor\":\"#E1E5ED\",\"showgrid\":false,\"tickfont\":{\"color\":\"#4D5663\"},\"title\":{\"font\":{\"color\":\"#4D5663\"},\"text\":\"\"},\"zerolinecolor\":\"#E1E5ED\"},\"yaxis3\":{\"anchor\":\"x3\",\"domain\":[0.8025,1.0],\"gridcolor\":\"#E1E5ED\",\"showgrid\":false,\"tickfont\":{\"color\":\"#4D5663\"},\"title\":{\"font\":{\"color\":\"#4D5663\"},\"text\":\"\"},\"zerolinecolor\":\"#E1E5ED\"},\"xaxis4\":{\"anchor\":\"y4\",\"domain\":[0.7875,1.0],\"gridcolor\":\"#E1E5ED\",\"showgrid\":false,\"tickfont\":{\"color\":\"#4D5663\"},\"title\":{\"font\":{\"color\":\"#4D5663\"},\"text\":\"\"},\"zerolinecolor\":\"#E1E5ED\"},\"yaxis4\":{\"anchor\":\"x4\",\"domain\":[0.8025,1.0],\"gridcolor\":\"#E1E5ED\",\"showgrid\":false,\"tickfont\":{\"color\":\"#4D5663\"},\"title\":{\"font\":{\"color\":\"#4D5663\"},\"text\":\"\"},\"zerolinecolor\":\"#E1E5ED\"},\"xaxis5\":{\"anchor\":\"y5\",\"domain\":[0.0,0.2125],\"gridcolor\":\"#E1E5ED\",\"showgrid\":false,\"tickfont\":{\"color\":\"#4D5663\"},\"title\":{\"font\":{\"color\":\"#4D5663\"},\"text\":\"\"},\"zerolinecolor\":\"#E1E5ED\"},\"yaxis5\":{\"anchor\":\"x5\",\"domain\":[0.535,0.7325],\"gridcolor\":\"#E1E5ED\",\"showgrid\":false,\"tickfont\":{\"color\":\"#4D5663\"},\"title\":{\"font\":{\"color\":\"#4D5663\"},\"text\":\"\"},\"zerolinecolor\":\"#E1E5ED\"},\"xaxis6\":{\"anchor\":\"y6\",\"domain\":[0.2625,0.475],\"gridcolor\":\"#E1E5ED\",\"showgrid\":false,\"tickfont\":{\"color\":\"#4D5663\"},\"title\":{\"font\":{\"color\":\"#4D5663\"},\"text\":\"\"},\"zerolinecolor\":\"#E1E5ED\"},\"yaxis6\":{\"anchor\":\"x6\",\"domain\":[0.535,0.7325],\"gridcolor\":\"#E1E5ED\",\"showgrid\":false,\"tickfont\":{\"color\":\"#4D5663\"},\"title\":{\"font\":{\"color\":\"#4D5663\"},\"text\":\"\"},\"zerolinecolor\":\"#E1E5ED\"},\"xaxis7\":{\"anchor\":\"y7\",\"domain\":[0.525,0.7375],\"gridcolor\":\"#E1E5ED\",\"showgrid\":false,\"tickfont\":{\"color\":\"#4D5663\"},\"title\":{\"font\":{\"color\":\"#4D5663\"},\"text\":\"\"},\"zerolinecolor\":\"#E1E5ED\"},\"yaxis7\":{\"anchor\":\"x7\",\"domain\":[0.535,0.7325],\"gridcolor\":\"#E1E5ED\",\"showgrid\":false,\"tickfont\":{\"color\":\"#4D5663\"},\"title\":{\"font\":{\"color\":\"#4D5663\"},\"text\":\"\"},\"zerolinecolor\":\"#E1E5ED\"},\"xaxis8\":{\"anchor\":\"y8\",\"domain\":[0.7875,1.0],\"gridcolor\":\"#E1E5ED\",\"showgrid\":false,\"tickfont\":{\"color\":\"#4D5663\"},\"title\":{\"font\":{\"color\":\"#4D5663\"},\"text\":\"\"},\"zerolinecolor\":\"#E1E5ED\"},\"yaxis8\":{\"anchor\":\"x8\",\"domain\":[0.535,0.7325],\"gridcolor\":\"#E1E5ED\",\"showgrid\":false,\"tickfont\":{\"color\":\"#4D5663\"},\"title\":{\"font\":{\"color\":\"#4D5663\"},\"text\":\"\"},\"zerolinecolor\":\"#E1E5ED\"},\"xaxis9\":{\"anchor\":\"y9\",\"domain\":[0.0,0.2125],\"gridcolor\":\"#E1E5ED\",\"showgrid\":false,\"tickfont\":{\"color\":\"#4D5663\"},\"title\":{\"font\":{\"color\":\"#4D5663\"},\"text\":\"\"},\"zerolinecolor\":\"#E1E5ED\"},\"yaxis9\":{\"anchor\":\"x9\",\"domain\":[0.2675,0.465],\"gridcolor\":\"#E1E5ED\",\"showgrid\":false,\"tickfont\":{\"color\":\"#4D5663\"},\"title\":{\"font\":{\"color\":\"#4D5663\"},\"text\":\"\"},\"zerolinecolor\":\"#E1E5ED\"},\"xaxis10\":{\"anchor\":\"y10\",\"domain\":[0.2625,0.475],\"gridcolor\":\"#E1E5ED\",\"showgrid\":false,\"tickfont\":{\"color\":\"#4D5663\"},\"title\":{\"font\":{\"color\":\"#4D5663\"},\"text\":\"\"},\"zerolinecolor\":\"#E1E5ED\"},\"yaxis10\":{\"anchor\":\"x10\",\"domain\":[0.2675,0.465],\"gridcolor\":\"#E1E5ED\",\"showgrid\":false,\"tickfont\":{\"color\":\"#4D5663\"},\"title\":{\"font\":{\"color\":\"#4D5663\"},\"text\":\"\"},\"zerolinecolor\":\"#E1E5ED\"},\"xaxis11\":{\"anchor\":\"y11\",\"domain\":[0.525,0.7375],\"gridcolor\":\"#E1E5ED\",\"showgrid\":false,\"tickfont\":{\"color\":\"#4D5663\"},\"title\":{\"font\":{\"color\":\"#4D5663\"},\"text\":\"\"},\"zerolinecolor\":\"#E1E5ED\"},\"yaxis11\":{\"anchor\":\"x11\",\"domain\":[0.2675,0.465],\"gridcolor\":\"#E1E5ED\",\"showgrid\":false,\"tickfont\":{\"color\":\"#4D5663\"},\"title\":{\"font\":{\"color\":\"#4D5663\"},\"text\":\"\"},\"zerolinecolor\":\"#E1E5ED\"},\"xaxis12\":{\"anchor\":\"y12\",\"domain\":[0.7875,1.0],\"gridcolor\":\"#E1E5ED\",\"showgrid\":false,\"tickfont\":{\"color\":\"#4D5663\"},\"title\":{\"font\":{\"color\":\"#4D5663\"},\"text\":\"\"},\"zerolinecolor\":\"#E1E5ED\"},\"yaxis12\":{\"anchor\":\"x12\",\"domain\":[0.2675,0.465],\"gridcolor\":\"#E1E5ED\",\"showgrid\":false,\"tickfont\":{\"color\":\"#4D5663\"},\"title\":{\"font\":{\"color\":\"#4D5663\"},\"text\":\"\"},\"zerolinecolor\":\"#E1E5ED\"},\"xaxis13\":{\"anchor\":\"y13\",\"domain\":[0.0,0.2125],\"gridcolor\":\"#E1E5ED\",\"showgrid\":false,\"tickfont\":{\"color\":\"#4D5663\"},\"title\":{\"font\":{\"color\":\"#4D5663\"},\"text\":\"\"},\"zerolinecolor\":\"#E1E5ED\"},\"yaxis13\":{\"anchor\":\"x13\",\"domain\":[0.0,0.1975],\"gridcolor\":\"#E1E5ED\",\"showgrid\":false,\"tickfont\":{\"color\":\"#4D5663\"},\"title\":{\"font\":{\"color\":\"#4D5663\"},\"text\":\"\"},\"zerolinecolor\":\"#E1E5ED\"},\"xaxis14\":{\"anchor\":\"y14\",\"domain\":[0.2625,0.475],\"gridcolor\":\"#E1E5ED\",\"showgrid\":false,\"tickfont\":{\"color\":\"#4D5663\"},\"title\":{\"font\":{\"color\":\"#4D5663\"},\"text\":\"\"},\"zerolinecolor\":\"#E1E5ED\"},\"yaxis14\":{\"anchor\":\"x14\",\"domain\":[0.0,0.1975],\"gridcolor\":\"#E1E5ED\",\"showgrid\":false,\"tickfont\":{\"color\":\"#4D5663\"},\"title\":{\"font\":{\"color\":\"#4D5663\"},\"text\":\"\"},\"zerolinecolor\":\"#E1E5ED\"},\"xaxis15\":{\"anchor\":\"y15\",\"domain\":[0.525,0.7375],\"gridcolor\":\"#E1E5ED\",\"showgrid\":false,\"tickfont\":{\"color\":\"#4D5663\"},\"title\":{\"font\":{\"color\":\"#4D5663\"},\"text\":\"\"},\"zerolinecolor\":\"#E1E5ED\"},\"yaxis15\":{\"anchor\":\"x15\",\"domain\":[0.0,0.1975],\"gridcolor\":\"#E1E5ED\",\"showgrid\":false,\"tickfont\":{\"color\":\"#4D5663\"},\"title\":{\"font\":{\"color\":\"#4D5663\"},\"text\":\"\"},\"zerolinecolor\":\"#E1E5ED\"},\"xaxis16\":{\"anchor\":\"y16\",\"domain\":[0.7875,1.0],\"gridcolor\":\"#E1E5ED\",\"showgrid\":false,\"tickfont\":{\"color\":\"#4D5663\"},\"title\":{\"font\":{\"color\":\"#4D5663\"},\"text\":\"\"},\"zerolinecolor\":\"#E1E5ED\"},\"yaxis16\":{\"anchor\":\"x16\",\"domain\":[0.0,0.1975],\"gridcolor\":\"#E1E5ED\",\"showgrid\":false,\"tickfont\":{\"color\":\"#4D5663\"},\"title\":{\"font\":{\"color\":\"#4D5663\"},\"text\":\"\"},\"zerolinecolor\":\"#E1E5ED\"}},                        {\"showLink\": true, \"linkText\": \"Export to plot.ly\", \"plotlyServerURL\": \"https://plot.ly\", \"responsive\": true}                    ).then(function(){\n                            \nvar gd = document.getElementById('13c01712-4c1e-4ed2-ba90-14f9822c2bd1');\nvar x = new MutationObserver(function (mutations, observer) {{\n        var display = window.getComputedStyle(gd).display;\n        if (!display || display === 'none') {{\n            console.log([gd, 'removed!']);\n            Plotly.purge(gd);\n            observer.disconnect();\n        }}\n}});\n\n// Listen for the removal of the full notebook cells\nvar notebookContainer = gd.closest('#notebook-container');\nif (notebookContainer) {{\n    x.observe(notebookContainer, {childList: true});\n}}\n\n// Listen for the clearing of the current output cell\nvar outputEl = gd.closest('.output');\nif (outputEl) {{\n    x.observe(outputEl, {childList: true});\n}}\n\n                        })                };                });            </script>        </div>"
     },
     "metadata": {},
     "output_type": "display_data"
    }
   ],
   "source": [
    "df.scatter_matrix()"
   ],
   "metadata": {
    "collapsed": false,
    "pycharm": {
     "name": "#%%\n"
    }
   }
  },
  {
   "cell_type": "code",
   "execution_count": null,
   "outputs": [],
   "source": [],
   "metadata": {
    "collapsed": false,
    "pycharm": {
     "name": "#%%\n"
    }
   }
  }
 ],
 "metadata": {
  "kernelspec": {
   "display_name": "Python 3",
   "language": "python",
   "name": "python3"
  },
  "language_info": {
   "codemirror_mode": {
    "name": "ipython",
    "version": 2
   },
   "file_extension": ".py",
   "mimetype": "text/x-python",
   "name": "python",
   "nbconvert_exporter": "python",
   "pygments_lexer": "ipython2",
   "version": "2.7.6"
  }
 },
 "nbformat": 4,
 "nbformat_minor": 0
}